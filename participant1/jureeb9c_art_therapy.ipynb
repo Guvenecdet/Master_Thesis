{
 "cells": [
  {
   "cell_type": "markdown",
   "id": "f101cfde",
   "metadata": {},
   "source": [
    "## Data reading and Data Insights"
   ]
  },
  {
   "cell_type": "markdown",
   "id": "968516ae",
   "metadata": {},
   "source": [
    "**Art Therapy Participant: jureeb9c, 16 days participation**\n",
    "\n",
    "*Dataset:* 'Art Therapy' vs 'No Art Therapy' study\n",
    "\n",
    "\n"
   ]
  },
  {
   "cell_type": "markdown",
   "id": "10f1dfe4",
   "metadata": {},
   "source": [
    "#### Libraries"
   ]
  },
  {
   "cell_type": "code",
   "execution_count": 1,
   "id": "f6a7c2a1",
   "metadata": {},
   "outputs": [
    {
     "name": "stderr",
     "output_type": "stream",
     "text": [
      "WARNING (pytensor.configdefaults): g++ not available, if using conda: `conda install gxx`\n",
      "WARNING (pytensor.configdefaults): g++ not detected!  PyTensor will be unable to compile C-implementations and will default to Python. Performance may be severely degraded. To remove this warning, set PyTensor flags cxx to an empty string.\n"
     ]
    }
   ],
   "source": [
    "import pandas as pd\n",
    "import numpy as np\n",
    "import matplotlib.pyplot as plt\n",
    "import seaborn as sns\n",
    "from scipy import stats\n",
    "import statsmodels.api as sm\n",
    "from statsmodels.stats.stattools import durbin_watson\n",
    "import pymc as pm\n",
    "import arviz as az\n",
    "import pytensor.tensor as pt\n",
    "from pytensor.scan import scan"
   ]
  },
  {
   "cell_type": "code",
   "execution_count": 2,
   "id": "565cf087",
   "metadata": {},
   "outputs": [],
   "source": [
    "path = \"C://Users//USER//Desktop//StudyU_Results//\"\n",
    "df_intervention = pd.read_csv(path+\"self-designed_n-of-1_trials_on_stress_management_-__art_therapy_-_jureeb9c_2025-06-14 21_30_11.303//interventions.csv\")\n",
    "#print(df_intervention.head())\n",
    "df_mea = pd.read_csv(path+\"self-designed_n-of-1_trials_on_stress_management_-__art_therapy_-_jureeb9c_2025-06-14 21_30_11.303//measurements.csv\")\n",
    "#print(df_mea.head())"
   ]
  },
  {
   "cell_type": "markdown",
   "id": "d1ad7802",
   "metadata": {},
   "source": [
    "## Data Analysis and Preprocessing"
   ]
  },
  {
   "cell_type": "markdown",
   "id": "e24520cc",
   "metadata": {},
   "source": [
    "- Pre-analysis: jureeb9c\n",
    "    - Number of Participant\n",
    "    - Participation of the study\n",
    "    - Missing Values\n",
    "    - Remove Participants Who Joined Outside the Study\n",
    "    - Data Preperation"
   ]
  },
  {
   "cell_type": "markdown",
   "id": "10c82df0",
   "metadata": {},
   "source": [
    "#### Number of Participant"
   ]
  },
  {
   "cell_type": "code",
   "execution_count": 3,
   "id": "9e423290",
   "metadata": {},
   "outputs": [
    {
     "name": "stdout",
     "output_type": "stream",
     "text": [
      "The column 'participant_id' has only one unique value: 'fe425414-7446-47f4-b340-62da16ee17c3'\n"
     ]
    }
   ],
   "source": [
    "column_name = 'participant_id' \n",
    "\n",
    "unique_count = df_intervention[column_name].nunique()\n",
    "\n",
    "if unique_count == 1:\n",
    "    only_value = df_intervention[column_name].iloc[0]\n",
    "    print(f\"The column '{column_name}' has only one unique value: {only_value!r}\")\n",
    "else:\n",
    "    print(f\"The column '{column_name}' has {unique_count} unique values.\")\n",
    "    print(\"Unique values are:\", df_intervention[column_name].unique())"
   ]
  },
  {
   "cell_type": "markdown",
   "id": "c4c7e973",
   "metadata": {},
   "source": [
    "#### Participation of the study"
   ]
  },
  {
   "cell_type": "code",
   "execution_count": 4,
   "id": "79cbb43d",
   "metadata": {},
   "outputs": [
    {
     "name": "stdout",
     "output_type": "stream",
     "text": [
      "                         participant_id  participation_days\n",
      "0  fe425414-7446-47f4-b340-62da16ee17c3                  14\n"
     ]
    }
   ],
   "source": [
    "df_mea['measurement_time'] = pd.to_datetime(df_mea['measurement_time'], utc=True)\n",
    "\n",
    "participation_days = (\n",
    "    df_mea\n",
    "    .groupby('participant_id')['measurement_time']\n",
    "    .apply(lambda x: x.dt.date.nunique())\n",
    "    .reset_index(name='participation_days')\n",
    ")\n",
    "\n",
    "print(participation_days)"
   ]
  },
  {
   "cell_type": "markdown",
   "id": "6fd47a75",
   "metadata": {},
   "source": [
    "The study comprised a single participant, with a total participation period of 14 days."
   ]
  },
  {
   "cell_type": "markdown",
   "id": "52c79068",
   "metadata": {},
   "source": [
    "#### Missing Values"
   ]
  },
  {
   "cell_type": "code",
   "execution_count": 5,
   "id": "0d543d72",
   "metadata": {},
   "outputs": [
    {
     "name": "stdout",
     "output_type": "stream",
     "text": [
      "\n",
      "--- Participant fe425414-7446-47f4-b340-62da16ee17c3 ---\n",
      "\n",
      "  Outcome:\n",
      "    Start date:           2025-05-27\n",
      "    End of expected 16d:  2025-06-11\n",
      "    Expected days count:  16\n",
      "    Completed days count: 14\n",
      "    Missed days count:    2\n",
      "    Missed dates:\n",
      "       2025-06-07\n",
      "       2025-06-10\n",
      "\n",
      "  Mediators:\n",
      "    Start date:           2025-05-27\n",
      "    End of expected 16d:  2025-06-11\n",
      "    Expected days count:  16\n",
      "    Completed days count: 13\n",
      "    Missed days count:    3\n",
      "    Missed dates:\n",
      "       2025-06-02\n",
      "       2025-06-07\n",
      "       2025-06-10\n"
     ]
    }
   ],
   "source": [
    "df_mea['measurement_time'] = pd.to_datetime(df_mea['measurement_time'])\n",
    "\n",
    "results = {}\n",
    "\n",
    "for pid in df_mea['participant_id'].unique():\n",
    "    results[pid] = {}\n",
    "    df_part = df_mea[df_mea['participant_id'] == pid]\n",
    "    \n",
    "    for name in ['Outcome', 'Mediators']:\n",
    "        sub = df_part[df_part['measurement_name'] == name].copy()\n",
    "        if sub.empty:\n",
    "            results[pid][name] = None\n",
    "            continue\n",
    "\n",
    "        sub['date'] = sub['measurement_time'].dt.date\n",
    "\n",
    "        start_date = sub['date'].min()\n",
    "\n",
    "        expected_dates = pd.date_range(start_date, periods=16, freq='D').date\n",
    "\n",
    "        done_dates = set(sub['date']) & set(expected_dates)\n",
    "\n",
    "        missed_dates = sorted(set(expected_dates) - done_dates)\n",
    "\n",
    "        results[pid][name] = {\n",
    "            'start_date': start_date,\n",
    "            'end_expected': expected_dates[-1],\n",
    "            'expected_days': len(expected_dates),            \n",
    "            'completed_days': len(done_dates),\n",
    "            'missed_days_count': len(missed_dates),\n",
    "            'missed_dates': missed_dates\n",
    "        }\n",
    "\n",
    "for pid, measures in results.items():\n",
    "    print(f\"\\n--- Participant {pid} ---\")\n",
    "    for name, stats in measures.items():\n",
    "        if stats is None:\n",
    "            print(f\"{name}: no data\")\n",
    "            continue\n",
    "        print(f\"\\n  {name}:\")\n",
    "        print(f\"    Start date:           {stats['start_date']}\")\n",
    "        print(f\"    End of expected 16d:  {stats['end_expected']}\")\n",
    "        print(f\"    Expected days count:  {stats['expected_days']}\")\n",
    "        print(f\"    Completed days count: {stats['completed_days']}\")\n",
    "        print(f\"    Missed days count:    {stats['missed_days_count']}\")\n",
    "        if stats['missed_dates']:\n",
    "            print(\"    Missed dates:\")\n",
    "            for d in stats['missed_dates']:\n",
    "                print(\"      \", d)"
   ]
  },
  {
   "cell_type": "markdown",
   "id": "456ef994",
   "metadata": {},
   "source": [
    "#### Remove Participants Who Joined Outside the Study"
   ]
  },
  {
   "cell_type": "code",
   "execution_count": 6,
   "id": "613b1316",
   "metadata": {},
   "outputs": [],
   "source": [
    "# df_mea = df_mea[df_mea['participant_id'] != \"ca773388-eb42-4716-995a-476ed72c0475\"]\n",
    "# df_mea.shape[0]"
   ]
  },
  {
   "cell_type": "markdown",
   "id": "26a0d2f5",
   "metadata": {},
   "source": [
    "#### Data Preperation"
   ]
  },
  {
   "cell_type": "code",
   "execution_count": 7,
   "id": "5c2ba47f",
   "metadata": {},
   "outputs": [
    {
     "data": {
      "text/html": [
       "<div>\n",
       "<style scoped>\n",
       "    .dataframe tbody tr th:only-of-type {\n",
       "        vertical-align: middle;\n",
       "    }\n",
       "\n",
       "    .dataframe tbody tr th {\n",
       "        vertical-align: top;\n",
       "    }\n",
       "\n",
       "    .dataframe thead th {\n",
       "        text-align: right;\n",
       "    }\n",
       "</style>\n",
       "<table border=\"1\" class=\"dataframe\">\n",
       "  <thead>\n",
       "    <tr style=\"text-align: right;\">\n",
       "      <th></th>\n",
       "      <th>measurement_time</th>\n",
       "      <th>measurement_name</th>\n",
       "      <th>participant_id</th>\n",
       "      <th>current_day_of_study</th>\n",
       "      <th>current_intervention_name</th>\n",
       "      <th>survey1_question1_response</th>\n",
       "      <th>survey1_question2_response</th>\n",
       "      <th>survey1_question3_response</th>\n",
       "      <th>survey1_question4_response</th>\n",
       "      <th>survey2_question1_response</th>\n",
       "      <th>survey2_question2_response</th>\n",
       "    </tr>\n",
       "  </thead>\n",
       "  <tbody>\n",
       "    <tr>\n",
       "      <th>0</th>\n",
       "      <td>2025-06-11 21:28:27.700107+00:00</td>\n",
       "      <td>Mediators</td>\n",
       "      <td>fe425414-7446-47f4-b340-62da16ee17c3</td>\n",
       "      <td>15</td>\n",
       "      <td>Art Therapy!</td>\n",
       "      <td>NaN</td>\n",
       "      <td>NaN</td>\n",
       "      <td>NaN</td>\n",
       "      <td>NaN</td>\n",
       "      <td>6.0</td>\n",
       "      <td>4.0</td>\n",
       "    </tr>\n",
       "  </tbody>\n",
       "</table>\n",
       "</div>"
      ],
      "text/plain": [
       "                  measurement_time measurement_name  \\\n",
       "0 2025-06-11 21:28:27.700107+00:00        Mediators   \n",
       "\n",
       "                         participant_id  current_day_of_study  \\\n",
       "0  fe425414-7446-47f4-b340-62da16ee17c3                    15   \n",
       "\n",
       "  current_intervention_name  survey1_question1_response  \\\n",
       "0              Art Therapy!                         NaN   \n",
       "\n",
       "   survey1_question2_response  survey1_question3_response  \\\n",
       "0                         NaN                         NaN   \n",
       "\n",
       "   survey1_question4_response  survey2_question1_response  \\\n",
       "0                         NaN                         6.0   \n",
       "\n",
       "   survey2_question2_response  \n",
       "0                         4.0  "
      ]
     },
     "execution_count": 7,
     "metadata": {},
     "output_type": "execute_result"
    }
   ],
   "source": [
    "df_mea_all= df_mea[[\n",
    "     'measurement_time',\n",
    "     'measurement_name',\n",
    "     'participant_id',\n",
    "     'current_day_of_study',\n",
    "     'current_intervention_name',\n",
    "     'survey1_question1_response',\n",
    "     'survey1_question2_response',\n",
    "     'survey1_question3_response',\n",
    "     'survey1_question4_response',\n",
    "     'survey2_question1_response',\n",
    "     'survey2_question2_response']]\n",
    "df_mea_all.head(1)\n",
    "    "
   ]
  },
  {
   "cell_type": "code",
   "execution_count": 8,
   "id": "b8672a8e",
   "metadata": {},
   "outputs": [],
   "source": [
    "df_mea_m = df_mea_all[df_mea_all['measurement_name'] == 'Mediators']\n",
    "df_mea_o = df_mea_all[df_mea_all['measurement_name'] == 'Outcome']"
   ]
  },
  {
   "cell_type": "code",
   "execution_count": 9,
   "id": "ae3f0a0e",
   "metadata": {},
   "outputs": [],
   "source": [
    "df_mea_o = df_mea_o.sort_values(by=['participant_id', 'current_day_of_study'])\n",
    "df_mea_m = df_mea_m.sort_values(by=['participant_id', 'current_day_of_study'])"
   ]
  },
  {
   "cell_type": "code",
   "execution_count": 10,
   "id": "6d5cbda3",
   "metadata": {},
   "outputs": [
    {
     "data": {
      "text/html": [
       "<div>\n",
       "<style scoped>\n",
       "    .dataframe tbody tr th:only-of-type {\n",
       "        vertical-align: middle;\n",
       "    }\n",
       "\n",
       "    .dataframe tbody tr th {\n",
       "        vertical-align: top;\n",
       "    }\n",
       "\n",
       "    .dataframe thead th {\n",
       "        text-align: right;\n",
       "    }\n",
       "</style>\n",
       "<table border=\"1\" class=\"dataframe\">\n",
       "  <thead>\n",
       "    <tr style=\"text-align: right;\">\n",
       "      <th></th>\n",
       "      <th>measurement_time</th>\n",
       "      <th>measurement_name</th>\n",
       "      <th>participant_id</th>\n",
       "      <th>current_day_of_study</th>\n",
       "      <th>current_intervention_name</th>\n",
       "      <th>survey1_question1_response</th>\n",
       "      <th>survey1_question2_response</th>\n",
       "      <th>survey1_question3_response</th>\n",
       "      <th>survey1_question4_response</th>\n",
       "      <th>survey2_question1_response</th>\n",
       "      <th>survey2_question2_response</th>\n",
       "    </tr>\n",
       "  </thead>\n",
       "  <tbody>\n",
       "    <tr>\n",
       "      <th>25</th>\n",
       "      <td>2025-05-27 19:10:55.170867+00:00</td>\n",
       "      <td>Outcome</td>\n",
       "      <td>fe425414-7446-47f4-b340-62da16ee17c3</td>\n",
       "      <td>0</td>\n",
       "      <td>Art Therapy!</td>\n",
       "      <td>5.0</td>\n",
       "      <td>4.0</td>\n",
       "      <td>5.0</td>\n",
       "      <td>4.0</td>\n",
       "      <td>NaN</td>\n",
       "      <td>NaN</td>\n",
       "    </tr>\n",
       "    <tr>\n",
       "      <th>24</th>\n",
       "      <td>2025-05-28 21:50:44.290697+00:00</td>\n",
       "      <td>Outcome</td>\n",
       "      <td>fe425414-7446-47f4-b340-62da16ee17c3</td>\n",
       "      <td>1</td>\n",
       "      <td>Art Therapy!</td>\n",
       "      <td>6.0</td>\n",
       "      <td>7.0</td>\n",
       "      <td>5.0</td>\n",
       "      <td>4.0</td>\n",
       "      <td>NaN</td>\n",
       "      <td>NaN</td>\n",
       "    </tr>\n",
       "    <tr>\n",
       "      <th>22</th>\n",
       "      <td>2025-05-29 21:39:34.280471+00:00</td>\n",
       "      <td>Outcome</td>\n",
       "      <td>fe425414-7446-47f4-b340-62da16ee17c3</td>\n",
       "      <td>2</td>\n",
       "      <td>Art Therapy!</td>\n",
       "      <td>4.0</td>\n",
       "      <td>8.0</td>\n",
       "      <td>5.0</td>\n",
       "      <td>6.0</td>\n",
       "      <td>NaN</td>\n",
       "      <td>NaN</td>\n",
       "    </tr>\n",
       "    <tr>\n",
       "      <th>19</th>\n",
       "      <td>2025-05-30 21:00:19.739265+00:00</td>\n",
       "      <td>Outcome</td>\n",
       "      <td>fe425414-7446-47f4-b340-62da16ee17c3</td>\n",
       "      <td>3</td>\n",
       "      <td>Art Therapy!</td>\n",
       "      <td>7.0</td>\n",
       "      <td>3.0</td>\n",
       "      <td>8.0</td>\n",
       "      <td>1.0</td>\n",
       "      <td>NaN</td>\n",
       "      <td>NaN</td>\n",
       "    </tr>\n",
       "    <tr>\n",
       "      <th>17</th>\n",
       "      <td>2025-05-31 19:27:29.123258+00:00</td>\n",
       "      <td>Outcome</td>\n",
       "      <td>fe425414-7446-47f4-b340-62da16ee17c3</td>\n",
       "      <td>4</td>\n",
       "      <td>No Art Therapy!</td>\n",
       "      <td>3.0</td>\n",
       "      <td>6.0</td>\n",
       "      <td>1.0</td>\n",
       "      <td>3.0</td>\n",
       "      <td>NaN</td>\n",
       "      <td>NaN</td>\n",
       "    </tr>\n",
       "  </tbody>\n",
       "</table>\n",
       "</div>"
      ],
      "text/plain": [
       "                   measurement_time measurement_name  \\\n",
       "25 2025-05-27 19:10:55.170867+00:00          Outcome   \n",
       "24 2025-05-28 21:50:44.290697+00:00          Outcome   \n",
       "22 2025-05-29 21:39:34.280471+00:00          Outcome   \n",
       "19 2025-05-30 21:00:19.739265+00:00          Outcome   \n",
       "17 2025-05-31 19:27:29.123258+00:00          Outcome   \n",
       "\n",
       "                          participant_id  current_day_of_study  \\\n",
       "25  fe425414-7446-47f4-b340-62da16ee17c3                     0   \n",
       "24  fe425414-7446-47f4-b340-62da16ee17c3                     1   \n",
       "22  fe425414-7446-47f4-b340-62da16ee17c3                     2   \n",
       "19  fe425414-7446-47f4-b340-62da16ee17c3                     3   \n",
       "17  fe425414-7446-47f4-b340-62da16ee17c3                     4   \n",
       "\n",
       "   current_intervention_name  survey1_question1_response  \\\n",
       "25              Art Therapy!                         5.0   \n",
       "24              Art Therapy!                         6.0   \n",
       "22              Art Therapy!                         4.0   \n",
       "19              Art Therapy!                         7.0   \n",
       "17           No Art Therapy!                         3.0   \n",
       "\n",
       "    survey1_question2_response  survey1_question3_response  \\\n",
       "25                         4.0                         5.0   \n",
       "24                         7.0                         5.0   \n",
       "22                         8.0                         5.0   \n",
       "19                         3.0                         8.0   \n",
       "17                         6.0                         1.0   \n",
       "\n",
       "    survey1_question4_response  survey2_question1_response  \\\n",
       "25                         4.0                         NaN   \n",
       "24                         4.0                         NaN   \n",
       "22                         6.0                         NaN   \n",
       "19                         1.0                         NaN   \n",
       "17                         3.0                         NaN   \n",
       "\n",
       "    survey2_question2_response  \n",
       "25                         NaN  \n",
       "24                         NaN  \n",
       "22                         NaN  \n",
       "19                         NaN  \n",
       "17                         NaN  "
      ]
     },
     "execution_count": 10,
     "metadata": {},
     "output_type": "execute_result"
    }
   ],
   "source": [
    "df_mea_o.head()"
   ]
  },
  {
   "cell_type": "markdown",
   "id": "4958cabd",
   "metadata": {},
   "source": [
    "## Exploratory Data Analysis - Outcome"
   ]
  },
  {
   "cell_type": "markdown",
   "id": "158c35f6",
   "metadata": {},
   "source": [
    "- EDA Steps  \n",
    "  - Data shape  \n",
    "  - Data types of columns  \n",
    "  - Missing values  \n",
    "  - Summary statistics  \n",
    "  - Data Visualization and Distributions  \n",
    "    - Plot histograms and box plots  \n",
    "    - Line plot  \n",
    "    - Scatter plot  \n",
    "    - Correlations (Pearson, Kendall, Spearman)   "
   ]
  },
  {
   "cell_type": "markdown",
   "id": "9c56c4af",
   "metadata": {},
   "source": [
    "#### Data Shape"
   ]
  },
  {
   "cell_type": "code",
   "execution_count": 21,
   "id": "b0c700fb",
   "metadata": {},
   "outputs": [
    {
     "name": "stdout",
     "output_type": "stream",
     "text": [
      "Outcome Data Shape\n",
      "Rows: 14\n",
      "Columns: 11\n"
     ]
    }
   ],
   "source": [
    "print(\"Outcome Data Shape\")\n",
    "print(\"Rows:\", df_mea_o.shape[0])\n",
    "print(\"Columns:\", df_mea_o.shape[1])"
   ]
  },
  {
   "cell_type": "markdown",
   "id": "74e40212",
   "metadata": {},
   "source": [
    "#### Data Types of columns"
   ]
  },
  {
   "cell_type": "code",
   "execution_count": 22,
   "id": "06463c20",
   "metadata": {},
   "outputs": [
    {
     "name": "stdout",
     "output_type": "stream",
     "text": [
      "Outcome Data Types of Columns\n",
      "                                      Data Type\n",
      "measurement_time            datetime64[ns, UTC]\n",
      "measurement_name                         object\n",
      "participant_id                           object\n",
      "current_day_of_study                      int64\n",
      "current_intervention_name                object\n",
      "survey1_question1_response              float64\n",
      "survey1_question2_response              float64\n",
      "survey1_question3_response              float64\n",
      "survey1_question4_response              float64\n",
      "survey2_question1_response              float64\n",
      "survey2_question2_response              float64\n"
     ]
    }
   ],
   "source": [
    "print(\"Outcome Data Types of Columns\")\n",
    "data_types = df_mea_o.dtypes\n",
    "data_types_df = pd.DataFrame(data_types, columns=[\"Data Type\"])\n",
    "print(data_types_df)"
   ]
  },
  {
   "cell_type": "markdown",
   "id": "ff16ab5e",
   "metadata": {},
   "source": [
    "#### Missing Value Analysis"
   ]
  },
  {
   "cell_type": "code",
   "execution_count": 23,
   "id": "f0ec5d76",
   "metadata": {},
   "outputs": [
    {
     "name": "stdout",
     "output_type": "stream",
     "text": [
      "\n",
      "--- Participant fe425414-7446-47f4-b340-62da16ee17c3 ---\n",
      "\n",
      "  Outcome:\n",
      "    Start date:           2025-05-27\n",
      "    End of expected 16d:  2025-06-11\n",
      "    Expected days count:  16\n",
      "    Completed days count: 14\n",
      "    Missed days count:    2\n",
      "    Missed dates:\n",
      "       2025-06-07\n",
      "       2025-06-10\n",
      "\n",
      "  Mediators:\n",
      "    Start date:           2025-05-27\n",
      "    End of expected 16d:  2025-06-11\n",
      "    Expected days count:  16\n",
      "    Completed days count: 13\n",
      "    Missed days count:    3\n",
      "    Missed dates:\n",
      "       2025-06-02\n",
      "       2025-06-07\n",
      "       2025-06-10\n",
      "\n",
      "  survey1_question1_response:\n",
      "    Start date:           2025-05-27\n",
      "    End of expected 16d:  2025-06-11\n",
      "    Expected days count:  16\n",
      "    Completed days count: 14\n",
      "    Missed days count:    2\n",
      "    Missed dates:\n",
      "       2025-06-07\n",
      "       2025-06-10\n",
      "\n",
      "  survey1_question2_response:\n",
      "    Start date:           2025-05-27\n",
      "    End of expected 16d:  2025-06-11\n",
      "    Expected days count:  16\n",
      "    Completed days count: 14\n",
      "    Missed days count:    2\n",
      "    Missed dates:\n",
      "       2025-06-07\n",
      "       2025-06-10\n",
      "\n",
      "  survey1_question3_response:\n",
      "    Start date:           2025-05-27\n",
      "    End of expected 16d:  2025-06-11\n",
      "    Expected days count:  16\n",
      "    Completed days count: 14\n",
      "    Missed days count:    2\n",
      "    Missed dates:\n",
      "       2025-06-07\n",
      "       2025-06-10\n",
      "\n",
      "  survey1_question4_response:\n",
      "    Start date:           2025-05-27\n",
      "    End of expected 16d:  2025-06-11\n",
      "    Expected days count:  16\n",
      "    Completed days count: 14\n",
      "    Missed days count:    2\n",
      "    Missed dates:\n",
      "       2025-06-07\n",
      "       2025-06-10\n",
      "\n",
      "  survey2_question1_response:\n",
      "    Start date:           2025-05-27\n",
      "    End of expected 16d:  2025-06-11\n",
      "    Expected days count:  16\n",
      "    Completed days count: 13\n",
      "    Missed days count:    3\n",
      "    Missed dates:\n",
      "       2025-06-02\n",
      "       2025-06-07\n",
      "       2025-06-10\n",
      "\n",
      "  survey2_question2_response:\n",
      "    Start date:           2025-05-27\n",
      "    End of expected 16d:  2025-06-11\n",
      "    Expected days count:  16\n",
      "    Completed days count: 13\n",
      "    Missed days count:    3\n",
      "    Missed dates:\n",
      "       2025-06-02\n",
      "       2025-06-07\n",
      "       2025-06-10\n"
     ]
    }
   ],
   "source": [
    "df_mea['measurement_time'] = pd.to_datetime(df_mea['measurement_time'])\n",
    "\n",
    "df_mea.columns = df_mea.columns.str.strip()\n",
    "df_mea['measurement_name'] = df_mea['measurement_name'].str.strip()\n",
    "\n",
    "measurement_names = [\n",
    "    'Outcome',\n",
    "    'Mediators',\n",
    "    'survey1_question1_response',\n",
    "    'survey1_question2_response',\n",
    "    'survey1_question3_response',\n",
    "    'survey1_question4_response',\n",
    "    'survey2_question1_response',\n",
    "    'survey2_question2_response'\n",
    "]\n",
    "\n",
    "results = {}\n",
    "\n",
    "for pid in df_mea['participant_id'].unique():\n",
    "    results[pid] = {}\n",
    "    df_part = df_mea[df_mea['participant_id'] == pid]\n",
    "    \n",
    "    for name in measurement_names:\n",
    "        if name in ['Outcome', 'Mediators']:\n",
    "            sub = df_part[df_part['measurement_name'] == name].copy()\n",
    "        else:\n",
    "            if name not in df_part.columns:\n",
    "                sub = pd.DataFrame()\n",
    "            else:\n",
    "                sub = df_part[df_part[name].notna()].copy()\n",
    "        \n",
    "        if sub.empty:\n",
    "            results[pid][name] = None\n",
    "            continue\n",
    "\n",
    "        sub['date'] = sub['measurement_time'].dt.date\n",
    "\n",
    "        start_date = sub['date'].min()\n",
    "\n",
    "        expected_dates = pd.date_range(start_date, periods=16, freq='D').date\n",
    "\n",
    "        done_dates = set(sub['date']) & set(expected_dates)\n",
    "\n",
    "        missed_dates = sorted(set(expected_dates) - done_dates)\n",
    "\n",
    "        results[pid][name] = {\n",
    "            'start_date': start_date,\n",
    "            'end_expected': expected_dates[-1],\n",
    "            'expected_days': len(expected_dates),       \n",
    "            'completed_days': len(done_dates),\n",
    "            'missed_days_count': len(missed_dates),\n",
    "            'missed_dates': missed_dates\n",
    "        }\n",
    "\n",
    "for pid, measures in results.items():\n",
    "    print(f\"\\n--- Participant {pid} ---\")\n",
    "    for name, stats in measures.items():\n",
    "        if stats is None:\n",
    "            print(f\"{name}: no data\")\n",
    "            continue\n",
    "        print(f\"\\n  {name}:\")\n",
    "        print(f\"    Start date:           {stats['start_date']}\")\n",
    "        print(f\"    End of expected 16d:  {stats['end_expected']}\")\n",
    "        print(f\"    Expected days count:  {stats['expected_days']}\")\n",
    "        print(f\"    Completed days count: {stats['completed_days']}\")\n",
    "        print(f\"    Missed days count:    {stats['missed_days_count']}\")\n",
    "        if stats['missed_dates']:\n",
    "            print(\"    Missed dates:\")\n",
    "            for d in stats['missed_dates']:\n",
    "                print(\"      \", d)"
   ]
  },
  {
   "cell_type": "markdown",
   "id": "6a58a488",
   "metadata": {},
   "source": [
    "#### Missing Values for Confirmations between 08.00 - 21.00"
   ]
  },
  {
   "cell_type": "code",
   "execution_count": 24,
   "id": "6d5e0197",
   "metadata": {},
   "outputs": [
    {
     "name": "stdout",
     "output_type": "stream",
     "text": [
      "Missing participation days and their corresponding task names:\n",
      "          date intervention_task_name\n",
      "3   2025-05-30                    NaN\n",
      "7   2025-06-03                    NaN\n",
      "8   2025-06-04                    NaN\n",
      "11  2025-06-07                    NaN\n"
     ]
    }
   ],
   "source": [
    "df_intervention['intervention_task_time'] = pd.to_datetime(\n",
    "    df_intervention['intervention_task_time'],\n",
    "    errors='coerce'\n",
    ")\n",
    "\n",
    "df_intervention['date'] = df_intervention['intervention_task_time'].dt.date\n",
    "\n",
    "start_date = df_intervention['date'].min()\n",
    "full_range = pd.date_range(start=start_date, periods=16, freq='D').date\n",
    "\n",
    "full_df = pd.DataFrame({'date': full_range})\n",
    "merged = full_df.merge(\n",
    "    df_intervention[['date', 'intervention_task_name']],\n",
    "    on='date',\n",
    "    how='left'\n",
    ")\n",
    "\n",
    "missing_days = merged[merged['intervention_task_name'].isna()]\n",
    "\n",
    "if missing_days.empty:\n",
    "    print(\"All 16 days have participation confirmations; no missing days found.\")\n",
    "else:\n",
    "    print(\"Missing participation days and their corresponding task names:\")\n",
    "    print(missing_days)"
   ]
  },
  {
   "cell_type": "markdown",
   "id": "da3e431a",
   "metadata": {},
   "source": [
    "#### Summary Statistics"
   ]
  },
  {
   "cell_type": "code",
   "execution_count": 25,
   "id": "0cac7a9e",
   "metadata": {},
   "outputs": [
    {
     "name": "stdout",
     "output_type": "stream",
     "text": [
      "Sleep Data Summary Statistics\n",
      "       current_day_of_study  survey1_question1_response  \\\n",
      "count             14.000000                   14.000000   \n",
      "mean               6.785714                    5.857143   \n",
      "std                4.627320                    1.994498   \n",
      "min                0.000000                    3.000000   \n",
      "25%                3.250000                    4.000000   \n",
      "50%                6.500000                    6.500000   \n",
      "75%                9.750000                    7.000000   \n",
      "max               15.000000                    9.000000   \n",
      "\n",
      "       survey1_question2_response  survey1_question3_response  \\\n",
      "count                   14.000000                   14.000000   \n",
      "mean                     6.357143                    2.857143   \n",
      "std                      1.645841                    2.381245   \n",
      "min                      3.000000                    1.000000   \n",
      "25%                      6.000000                    1.000000   \n",
      "50%                      7.000000                    1.000000   \n",
      "75%                      7.750000                    5.000000   \n",
      "max                      8.000000                    8.000000   \n",
      "\n",
      "       survey1_question4_response  survey2_question1_response  \\\n",
      "count                   14.000000                         0.0   \n",
      "mean                     4.785714                         NaN   \n",
      "std                      2.293086                         NaN   \n",
      "min                      1.000000                         NaN   \n",
      "25%                      4.000000                         NaN   \n",
      "50%                      4.000000                         NaN   \n",
      "75%                      6.750000                         NaN   \n",
      "max                      8.000000                         NaN   \n",
      "\n",
      "       survey2_question2_response  \n",
      "count                         0.0  \n",
      "mean                          NaN  \n",
      "std                           NaN  \n",
      "min                           NaN  \n",
      "25%                           NaN  \n",
      "50%                           NaN  \n",
      "75%                           NaN  \n",
      "max                           NaN  \n"
     ]
    }
   ],
   "source": [
    "print(\"Sleep Data Summary Statistics\")\n",
    "summary_stats = df_mea_o.describe()\n",
    "print(summary_stats)"
   ]
  },
  {
   "cell_type": "code",
   "execution_count": 26,
   "id": "b11b6825",
   "metadata": {},
   "outputs": [
    {
     "name": "stdout",
     "output_type": "stream",
     "text": [
      "<class 'pandas.core.frame.DataFrame'>\n",
      "Index: 14 entries, 25 to 1\n",
      "Data columns (total 11 columns):\n",
      " #   Column                      Non-Null Count  Dtype              \n",
      "---  ------                      --------------  -----              \n",
      " 0   measurement_time            14 non-null     datetime64[ns, UTC]\n",
      " 1   measurement_name            14 non-null     object             \n",
      " 2   participant_id              14 non-null     object             \n",
      " 3   current_day_of_study        14 non-null     int64              \n",
      " 4   current_intervention_name   14 non-null     object             \n",
      " 5   survey1_question1_response  14 non-null     float64            \n",
      " 6   survey1_question2_response  14 non-null     float64            \n",
      " 7   survey1_question3_response  14 non-null     float64            \n",
      " 8   survey1_question4_response  14 non-null     float64            \n",
      " 9   survey2_question1_response  0 non-null      float64            \n",
      " 10  survey2_question2_response  0 non-null      float64            \n",
      "dtypes: datetime64[ns, UTC](1), float64(6), int64(1), object(3)\n",
      "memory usage: 1.3+ KB\n"
     ]
    }
   ],
   "source": [
    "df_mea_o.info()"
   ]
  },
  {
   "cell_type": "markdown",
   "id": "2f0233aa",
   "metadata": {},
   "source": [
    "#### Data Visualization and Distributions"
   ]
  },
  {
   "cell_type": "code",
   "execution_count": 27,
   "id": "dc36b946",
   "metadata": {},
   "outputs": [
    {
     "data": {
      "image/png": "[encoded data removed]",
      "text/plain": [
       "<Figure size 1000x400 with 2 Axes>"
      ]
     },
     "metadata": {},
     "output_type": "display_data"
    },
    {
     "data": {
      "image/png": "[encoded data removed]",
      "text/plain": [
       "<Figure size 1000x400 with 2 Axes>"
      ]
     },
     "metadata": {},
     "output_type": "display_data"
    }
   ],
   "source": [
    "columns = [\n",
    "    'survey1_question1_response',\n",
    "    'survey1_question2_response']\n",
    "for column in columns:\n",
    "    plt.figure(figsize=(10, 4))\n",
    "\n",
    "    plt.subplot(1, 2, 1)\n",
    "    sns.histplot(df_mea_o[column].dropna(), bins=15, kde=True)\n",
    "    plt.title(f\"Distribution of {column}\")\n",
    "    plt.xlabel(column)\n",
    "    plt.ylabel(\"Frequency\")\n",
    "\n",
    "    plt.subplot(1, 2, 2)\n",
    "    sns.boxplot(y=df_mea_o[column].dropna())\n",
    "    plt.title(f\"Box Plot of {column}\")\n",
    "    plt.ylabel(column)\n",
    "\n",
    "    plt.tight_layout()\n",
    "    plt.show()"
   ]
  },
  {
   "cell_type": "markdown",
   "id": "4f06bfc0",
   "metadata": {},
   "source": [
    "#### Line Plot"
   ]
  },
  {
   "cell_type": "code",
   "execution_count": 28,
   "id": "6b14fe72",
   "metadata": {},
   "outputs": [
    {
     "data": {
      "image/png": "[encoded data removed]",
      "text/plain": [
       "<Figure size 1000x600 with 1 Axes>"
      ]
     },
     "metadata": {},
     "output_type": "display_data"
    }
   ],
   "source": [
    "grouped_data = df_mea_o.groupby(\"participant_id\")\n",
    "\n",
    "plt.figure(figsize=(10, 6)) \n",
    "\n",
    "for participant_id, group in grouped_data:\n",
    "    plt.plot(group['current_day_of_study'], group['survey1_question1_response'], label=f'Participant {participant_id}')\n",
    "\n",
    "plt.xlabel('Current Day of Study')\n",
    "plt.ylabel('Day Stress Level')\n",
    "plt.title('Stress Level Over Time for Different Participants in Outcome Dataset')\n",
    "\n",
    "plt.legend(loc='lower right')\n",
    "plt.show()\n"
   ]
  },
  {
   "cell_type": "markdown",
   "id": "17c853ed",
   "metadata": {},
   "source": [
    "#### Scatterplot"
   ]
  },
  {
   "cell_type": "code",
   "execution_count": 29,
   "id": "388e8a55",
   "metadata": {},
   "outputs": [
    {
     "data": {
      "text/plain": [
       "<matplotlib.legend.Legend at 0x15de2f88810>"
      ]
     },
     "execution_count": 29,
     "metadata": {},
     "output_type": "execute_result"
    },
    {
     "data": {
      "image/png": "[encoded data removed]",
      "text/plain": [
       "<Figure size 1000x500 with 1 Axes>"
      ]
     },
     "metadata": {},
     "output_type": "display_data"
    }
   ],
   "source": [
    "x = 'current_day_of_study'\n",
    "y = 'survey1_question1_response'\n",
    "\n",
    "participant_list= list(df_mea_o.participant_id.unique())\n",
    "fig, axs = plt.subplots(len(participant_list), figsize=(10, 5 * len(participant_list)))\n",
    "\n",
    "if len(participant_list) == 1:\n",
    "    axs = [axs]\n",
    "\n",
    "for i in range(len(participant_list)):\n",
    "    legend = True if i == len(participant_list)-1 else False\n",
    "    sns.scatterplot(\n",
    "        data=df_mea_o[df_mea_o[\"participant_id\"] == participant_list[i]],\n",
    "        x=x, y=y, hue='current_intervention_name',\n",
    "        ax=axs[i], legend=legend\n",
    "    )\n",
    "\n",
    "axs[-1].legend(loc='upper center', bbox_to_anchor=(0.5, -0.5))"
   ]
  },
  {
   "cell_type": "markdown",
   "id": "a68b3f7e",
   "metadata": {},
   "source": [
    "#### Correlations"
   ]
  },
  {
   "cell_type": "code",
   "execution_count": 30,
   "id": "d8ae5bf4",
   "metadata": {},
   "outputs": [
    {
     "data": {
      "image/png": "[encoded data removed]",
      "text/plain": [
       "<Figure size 1500x500 with 6 Axes>"
      ]
     },
     "metadata": {},
     "output_type": "display_data"
    }
   ],
   "source": [
    "columns_to_include = [\n",
    "    'survey1_question1_response',\n",
    "    'survey1_question2_response',\n",
    "    'survey1_question3_response',\n",
    "    'survey1_question4_response']\n",
    "\n",
    "correlation_pearson = df_mea_all[columns_to_include].corr(method='pearson')\n",
    "correlation_kendall = df_mea_all[columns_to_include].corr(method='kendall')\n",
    "correlation_spearman = df_mea_all[columns_to_include].corr(method='spearman')\n",
    "\n",
    "fig, axes = plt.subplots(1, 3, figsize=(15, 5))\n",
    "\n",
    "sns.heatmap(correlation_pearson, vmin=-1, vmax=1, annot=True, cmap='BrBG',ax=axes[0], center=0)\n",
    "axes[0].set_title('Pearson Correlation')\n",
    "\n",
    "sns.heatmap(correlation_kendall, annot=True, cmap='coolwarm', ax=axes[1])\n",
    "axes[1].set_title('Kendall Correlation')\n",
    "\n",
    "sns.heatmap(correlation_spearman, annot=True, cmap='coolwarm', ax=axes[2])\n",
    "axes[2].set_title('Spearman Correlation')\n",
    "\n",
    "plt.tight_layout()\n",
    "plt.show()"
   ]
  },
  {
   "cell_type": "markdown",
   "id": "2de3f1fd",
   "metadata": {},
   "source": [
    "## Baseline Study: Art therapy vs No art therapy "
   ]
  },
  {
   "cell_type": "markdown",
   "id": "92949b72",
   "metadata": {},
   "source": [
    "  - Baseline Studies  \n",
    "    - Examination of Outcomes   \n",
    "    - Linear Regression  \n",
    "      - Ordinary Least Squares (OLS) Regression  \n",
    "      - Linear Regression with Autoregressive Errors \n",
    "      - Bayesian linear regression models\n",
    "        - Bayesian AR(1) Model of Daily Stress Response to Intervention and Mediators\n",
    "        - Bayesian AR(1) Regression with Data-Driven Scale (MAD-Based)\n",
    "        - Bayesian AR(1) Regression with Consecutive‐Day Adjustment\n",
    "        - Bayesian AR(1) Model of Daily Stress Response to Intervention and Mediators - Mean Imputation Method\n",
    "        - Bayesian AR(1) Model of Daily Stress Response to Intervention and Mediators - Latent Variable Method"
   ]
  },
  {
   "cell_type": "markdown",
   "id": "3aba5356",
   "metadata": {},
   "source": [
    "#### Examination of Outcomes: Today Stress Level"
   ]
  },
  {
   "cell_type": "code",
   "execution_count": 31,
   "id": "c17570a7",
   "metadata": {},
   "outputs": [
    {
     "name": "stdout",
     "output_type": "stream",
     "text": [
      "Art therapy:       n = 7, std = 1.80, mean = 5.71\n",
      "No art therapy:    n = 7, std = 2.31, mean = 6.00\n",
      "\n"
     ]
    }
   ],
   "source": [
    "df_mea_o = df_mea_o[\n",
    "    (df_mea_o['measurement_name'] == 'Outcome') &\n",
    "    df_mea_o['survey1_question1_response'].notna() &\n",
    "    df_mea_o['current_intervention_name'].isin([\n",
    "        \"Art Therapy!\",\n",
    "        \"No Art Therapy!\"\n",
    "    ])\n",
    "]\n",
    "\n",
    "art = df_mea_o.loc[\n",
    "    df_mea_o['current_intervention_name'] == \"Art Therapy!\",\n",
    "    'survey1_question1_response'\n",
    "]\n",
    "no_art = df_mea_o.loc[\n",
    "    df_mea_o['current_intervention_name'] == \"No Art Therapy!\",\n",
    "    'survey1_question1_response'\n",
    "]\n",
    "\n",
    "n_art     = art.count()\n",
    "n_no_art  = no_art.count()\n",
    "std_art   = art.std(ddof=1)\n",
    "std_no_art = no_art.std(ddof=1)\n",
    "\n",
    "print(f\"Art therapy:       n = {n_art}, std = {std_art:.2f}, mean = {art.mean():.2f}\")\n",
    "print(f\"No art therapy:    n = {n_no_art}, std = {std_no_art:.2f}, mean = {no_art.mean():.2f}\\n\")\n"
   ]
  },
  {
   "cell_type": "markdown",
   "id": "0d5bf693",
   "metadata": {},
   "source": [
    "#### Examination of Outcomes: Prediction of Tomorrow Stress"
   ]
  },
  {
   "cell_type": "code",
   "execution_count": 32,
   "id": "b3aad0f4",
   "metadata": {},
   "outputs": [
    {
     "name": "stdout",
     "output_type": "stream",
     "text": [
      "Art therapy:       n = 7, std = 2.06, mean = 5.71\n",
      "No art therapy:    n = 7, std = 0.82, mean = 7.00\n",
      "\n"
     ]
    }
   ],
   "source": [
    "df_mea_o = df_mea_o[\n",
    "    (df_mea_o['measurement_name'] == 'Outcome') &\n",
    "    df_mea_o['survey1_question2_response'].notna() &\n",
    "    df_mea_o['current_intervention_name'].isin([\n",
    "        \"Art Therapy!\",\n",
    "        \"No Art Therapy!\"\n",
    "    ])\n",
    "]\n",
    "\n",
    "art = df_mea_o.loc[\n",
    "    df_mea_o['current_intervention_name'] == \"Art Therapy!\",\n",
    "    'survey1_question2_response'\n",
    "]\n",
    "no_art = df_mea_o.loc[\n",
    "    df_mea_o['current_intervention_name'] == \"No Art Therapy!\",\n",
    "    'survey1_question2_response'\n",
    "]\n",
    "\n",
    "n_art     = art.count()\n",
    "n_no_art  = no_art.count()\n",
    "std_art   = art.std(ddof=1)\n",
    "std_no_art = no_art.std(ddof=1)\n",
    "\n",
    "print(f\"Art therapy:       n = {n_art}, std = {std_art:.2f}, mean = {art.mean():.2f}\")\n",
    "print(f\"No art therapy:    n = {n_no_art}, std = {std_no_art:.2f}, mean = {no_art.mean():.2f}\\n\")\n"
   ]
  },
  {
   "cell_type": "markdown",
   "id": "c69c701e",
   "metadata": {},
   "source": [
    "#### Examination of Outcomes: Mean Stress-Relief Score for Art Therapy (Q3)\n",
    "The average score for Question 3 (survey1_question3_response), which assesses how much doing art therapy alleviated participants’ stress on days they performed."
   ]
  },
  {
   "cell_type": "code",
   "execution_count": 33,
   "id": "86d52440",
   "metadata": {},
   "outputs": [
    {
     "data": {
      "text/plain": [
       "\"Did your miracle stress-shrinking method (art activities) help you feel like a calm, happy puppy, or was it more like trying to train a cat to do your taxes? <b> (1 = Not helpful at all to 10 = I'm practically levitating with calmness)<i> (Answer ONLY if you have done the art therapy!)</b></i>\""
      ]
     },
     "execution_count": 33,
     "metadata": {},
     "output_type": "execute_result"
    }
   ],
   "source": [
    "df_mea.survey1_question3_text[0]"
   ]
  },
  {
   "cell_type": "code",
   "execution_count": 34,
   "id": "d5ae17a1",
   "metadata": {},
   "outputs": [
    {
     "data": {
      "text/plain": [
       "4.714285714285714"
      ]
     },
     "execution_count": 34,
     "metadata": {},
     "output_type": "execute_result"
    }
   ],
   "source": [
    "# 'Did your miracle stress-shrinking method (doing art activities) help you feel like a calm, happy puppy, or was it more like trying to train a cat to do your taxes?(Answer ONLY if you have done the art therapy!)'\n",
    "mean_q3_art_therapy = df_mea_o.loc[\n",
    "    df_mea_o['current_intervention_name'] == \"Art Therapy!\",\n",
    "    'survey1_question3_response'\n",
    "].mean()\n",
    "mean_q3_art_therapy.item()"
   ]
  },
  {
   "cell_type": "markdown",
   "id": "22bc7c45",
   "metadata": {},
   "source": [
    "**Mean Self-Improvement Score for Art Therapy (Q3): 4.71:**\n",
    "On days when the participant did art therapy, she rated Question 3—“Did your miracle stress-shrinking method (doing art activities) help you feel like a calm, happy puppy, or was it more like trying to train a cat to do your taxes?”—an average of **4.71 out of 10**, indicating that art therapy provided only a slight benefit."
   ]
  },
  {
   "cell_type": "markdown",
   "id": "3b373480",
   "metadata": {},
   "source": [
    "#### Examination of Outcomes: Mean Stress-Management Difficulty Without Doing Art Therapy (Q4)\n",
    "The average score for Question 4 (survey1_question4_response), which measures participants’ difficulty in managing stress on days they did not do art therapy."
   ]
  },
  {
   "cell_type": "code",
   "execution_count": 35,
   "id": "f3967af8",
   "metadata": {},
   "outputs": [
    {
     "data": {
      "text/plain": [
       "\"When you skipped the method (not doing art activities) today, did managing stress feel more like “breezing through a sunny park” or “juggling flaming torches while riding a unicycle on a tightrope over a pit of snapping crocodiles”? <b> (1 = Easy breezy to 10 = Send help, I'm barely holding it together!) <i> (Answer ONLY if the art activities have NOT been done!)</b></i>\\n\""
      ]
     },
     "execution_count": 35,
     "metadata": {},
     "output_type": "execute_result"
    }
   ],
   "source": [
    "df_mea.survey1_question4_text[0]"
   ]
  },
  {
   "cell_type": "code",
   "execution_count": 36,
   "id": "c77d9a25",
   "metadata": {},
   "outputs": [
    {
     "data": {
      "text/plain": [
       "5.571428571428571"
      ]
     },
     "execution_count": 36,
     "metadata": {},
     "output_type": "execute_result"
    }
   ],
   "source": [
    "# 'When you skipped the method (not doing art activities) today, did managing stress feel more like “breezing through a sunny park” or “juggling flaming torches while riding a unicycle on a tightrope over a pit of snapping crocodiles”? <b>(Answer ONLY if the art activities have NOT been done.)</b>\\n'\n",
    "\n",
    "mean_q4_no_art_therapy = df_mea_o.loc[\n",
    "    df_mea_o['current_intervention_name'] == \"No Art Therapy!\",\n",
    "    'survey1_question4_response'\n",
    "].mean()\n",
    "mean_q4_no_art_therapy.item()\n"
   ]
  },
  {
   "cell_type": "markdown",
   "id": "dc268cc7",
   "metadata": {},
   "source": [
    "**Mean Stress-Management Difficulty Score Without doing art therapy (Q4): 5.57:**\n",
    "On days when the participant skipped art activities, she rated Question 4—“When you skipped the method (not doing art activities) today, did managing stress feel more like ‘breezing through a sunny park’ or ‘juggling flaming torches while riding a unicycle on a tightrope over a pit of snapping crocodiles’?”—an average of **5.57 out of 10**, indicating that going without art therapy posed a moderate challenge in managing her stress."
   ]
  },
  {
   "cell_type": "markdown",
   "id": "4da54a73",
   "metadata": {},
   "source": [
    "### Estimating treatment effect using Linear Regression with Autoregressive errors"
   ]
  },
  {
   "cell_type": "code",
   "execution_count": 37,
   "id": "1228e91c",
   "metadata": {},
   "outputs": [
    {
     "name": "stdout",
     "output_type": "stream",
     "text": [
      "OLS Regression Results:\n",
      "                                OLS Regression Results                                \n",
      "======================================================================================\n",
      "Dep. Variable:     survey1_question1_response   R-squared:                       0.006\n",
      "Model:                                    OLS   Adj. R-squared:                 -0.077\n",
      "Method:                         Least Squares   F-statistic:                   0.06667\n",
      "Date:                        Thu, 14 Aug 2025   Prob (F-statistic):              0.801\n",
      "Time:                                00:47:33   Log-Likelihood:                -28.973\n",
      "No. Observations:                          14   AIC:                             61.95\n",
      "Df Residuals:                              12   BIC:                             63.22\n",
      "Df Model:                                   1                                         \n",
      "Covariance Type:                    nonrobust                                         \n",
      "==============================================================================\n",
      "                 coef    std err          t      P>|t|      [0.025      0.975]\n",
      "------------------------------------------------------------------------------\n",
      "const          6.0000      0.782      7.668      0.000       4.295       7.705\n",
      "D             -0.2857      1.107     -0.258      0.801      -2.697       2.125\n",
      "==============================================================================\n",
      "Omnibus:                        3.087   Durbin-Watson:                   2.517\n",
      "Prob(Omnibus):                  0.214   Jarque-Bera (JB):                1.150\n",
      "Skew:                          -0.154   Prob(JB):                        0.563\n",
      "Kurtosis:                       1.630   Cond. No.                         2.62\n",
      "==============================================================================\n",
      "\n",
      "Notes:\n",
      "[1] Standard Errors assume that the covariance matrix of the errors is correctly specified.\n",
      "Durbin–Watson statistic (OLS residuals): 2.517\n",
      "\n"
     ]
    },
    {
     "name": "stderr",
     "output_type": "stream",
     "text": [
      "c:\\Users\\USER\\AppData\\Local\\r-miniconda\\Lib\\site-packages\\scipy\\stats\\_axis_nan_policy.py:430: UserWarning: `kurtosistest` p-value may be inaccurate with fewer than 20 observations; only n=14 observations were given.\n",
      "  return hypotest_fun_in(*args, **kwds)\n"
     ]
    }
   ],
   "source": [
    "df_mea_o = df_mea_o[\n",
    "    (df_mea_o['measurement_name'] == 'Outcome') &\n",
    "    df_mea_o['survey1_question1_response'].notna() &\n",
    "    df_mea_o['current_intervention_name'].isin([\"Art Therapy!\", \"No Art Therapy!\"])\n",
    "]\n",
    "\n",
    "df_mea_o = df_mea_o.sort_values('measurement_time')\n",
    "\n",
    "y = df_mea_o['survey1_question1_response']\n",
    "df_mea_o['D'] = (df_mea_o['current_intervention_name'] == \"Art Therapy!\").astype(int)\n",
    "X = sm.add_constant(df_mea_o['D'])\n",
    "\n",
    "ols_res = sm.OLS(y, X).fit()\n",
    "dw_ols = durbin_watson(ols_res.resid)\n",
    "\n",
    "print(\"OLS Regression Results:\")\n",
    "print(ols_res.summary())\n",
    "print(f\"Durbin–Watson statistic (OLS residuals): {dw_ols:.3f}\\n\")"
   ]
  },
  {
   "cell_type": "code",
   "execution_count": 38,
   "id": "57fe6caa",
   "metadata": {},
   "outputs": [
    {
     "name": "stdout",
     "output_type": "stream",
     "text": [
      "GLSAR Regression Results (AR(1) error structure):\n",
      "                               GLSAR Regression Results                               \n",
      "======================================================================================\n",
      "Dep. Variable:     survey1_question1_response   R-squared:                       0.044\n",
      "Model:                                  GLSAR   Adj. R-squared:                 -0.043\n",
      "Method:                         Least Squares   F-statistic:                    0.5025\n",
      "Date:                        Thu, 14 Aug 2025   Prob (F-statistic):              0.493\n",
      "Time:                                00:47:33   Log-Likelihood:                -26.472\n",
      "No. Observations:                          13   AIC:                             56.94\n",
      "Df Residuals:                              11   BIC:                             58.07\n",
      "Df Model:                                   1                                         \n",
      "Covariance Type:                    nonrobust                                         \n",
      "==============================================================================\n",
      "                 coef    std err          t      P>|t|      [0.025      0.975]\n",
      "------------------------------------------------------------------------------\n",
      "const          6.1472      0.574     10.701      0.000       4.883       7.412\n",
      "D             -0.6200      0.875     -0.709      0.493      -2.545       1.305\n",
      "==============================================================================\n",
      "Omnibus:                        0.689   Durbin-Watson:                   2.054\n",
      "Prob(Omnibus):                  0.709   Jarque-Bera (JB):                0.635\n",
      "Skew:                          -0.226   Prob(JB):                        0.728\n",
      "Kurtosis:                       2.016   Cond. No.                         2.69\n",
      "==============================================================================\n",
      "\n",
      "Notes:\n",
      "[1] Standard Errors assume that the covariance matrix of the errors is correctly specified.\n",
      "Estimated AR(1) coefficient (rho): -0.368\n",
      "Durbin–Watson statistic (GLSAR residuals): 2.561\n"
     ]
    },
    {
     "name": "stderr",
     "output_type": "stream",
     "text": [
      "c:\\Users\\USER\\AppData\\Local\\r-miniconda\\Lib\\site-packages\\scipy\\stats\\_axis_nan_policy.py:430: UserWarning: `kurtosistest` p-value may be inaccurate with fewer than 20 observations; only n=13 observations were given.\n",
      "  return hypotest_fun_in(*args, **kwds)\n"
     ]
    }
   ],
   "source": [
    "# GLSAR Regression with AR(1) errors (Feasible GLS)\n",
    "glsar = sm.GLSAR(y, X, rho=1)\n",
    "glsar_res = glsar.iterative_fit(maxiter=10)\n",
    "dw_glsar = durbin_watson(glsar_res.resid)\n",
    "\n",
    "print(\"GLSAR Regression Results (AR(1) error structure):\")\n",
    "print(glsar_res.summary())\n",
    "print(f\"Estimated AR(1) coefficient (rho): {glsar.rho[0]:.3f}\")\n",
    "print(f\"Durbin–Watson statistic (GLSAR residuals): {dw_glsar:.3f}\")"
   ]
  },
  {
   "cell_type": "markdown",
   "id": "4748eedd",
   "metadata": {},
   "source": [
    "#### Bayesian AR(1) Model of Daily Stress Response to Intervention and Mediators"
   ]
  },
  {
   "cell_type": "code",
   "execution_count": 39,
   "id": "c28ac00e",
   "metadata": {},
   "outputs": [
    {
     "name": "stdout",
     "output_type": "stream",
     "text": [
      "Model result with neither fac1 nor fac2 (intervention only):\n"
     ]
    },
    {
     "name": "stderr",
     "output_type": "stream",
     "text": [
      "Initializing NUTS using jitter+adapt_diag...\n",
      "c:\\Users\\USER\\AppData\\Local\\r-miniconda\\Lib\\site-packages\\pytensor\\tensor\\rewriting\\elemwise.py:954: UserWarning: Loop fusion failed because the resulting node would exceed the kernel argument limit.\n",
      "  warn(\n",
      "Multiprocess sampling (2 chains in 2 jobs)\n",
      "NUTS: [beta0, beta_int, rho, sigma]\n"
     ]
    },
    {
     "data": {
      "text/html": [
       "<pre style=\"white-space:pre;overflow-x:auto;line-height:normal;font-family:Menlo,'DejaVu Sans Mono',consolas,'Courier New',monospace\">c:\\Users\\USER\\AppData\\Local\\r-miniconda\\Lib\\site-packages\\rich\\live.py:231: UserWarning: install \"ipywidgets\" for \n",
       "Jupyter support\n",
       "  warnings.warn('install \"ipywidgets\" for Jupyter support')\n",
       "</pre>\n"
      ],
      "text/plain": [
       "c:\\Users\\USER\\AppData\\Local\\r-miniconda\\Lib\\site-packages\\rich\\live.py:231: UserWarning: install \"ipywidgets\" for \n",
       "Jupyter support\n",
       "  warnings.warn('install \"ipywidgets\" for Jupyter support')\n"
      ]
     },
     "metadata": {},
     "output_type": "display_data"
    },
    {
     "data": {
      "text/html": [
       "<pre style=\"white-space:pre;overflow-x:auto;line-height:normal;font-family:Menlo,'DejaVu Sans Mono',consolas,'Courier New',monospace\"></pre>\n"
      ],
      "text/plain": []
     },
     "metadata": {},
     "output_type": "display_data"
    },
    {
     "name": "stderr",
     "output_type": "stream",
     "text": [
      "Sampling 2 chains for 500 tune and 500 draw iterations (1_000 + 1_000 draws total) took 111 seconds.\n",
      "We recommend running at least 4 chains for robust computation of convergence diagnostics\n"
     ]
    },
    {
     "name": "stdout",
     "output_type": "stream",
     "text": [
      "           mean     sd  hdi_2.5%  hdi_97.5%  mcse_mean  mcse_sd  ess_bulk  \\\n",
      "beta_int -0.277  0.738    -1.593      1.322      0.030    0.027     649.0   \n",
      "rho      -0.240  0.310    -0.809      0.420      0.017    0.021     402.0   \n",
      "sigma     1.870  0.334     1.307      2.562      0.018    0.017     386.0   \n",
      "\n",
      "          ess_tail  r_hat  \n",
      "beta_int     608.0   1.00  \n",
      "rho          210.0   1.01  \n",
      "sigma        331.0   1.01  \n",
      "P(beta_int ≤ –0.5) = 40.70%\n",
      "P(–0.5 < beta_int < 0) = 27.00%\n",
      "P(beta_int ≥ 0) = 32.30%\n",
      "P(Stress reduction of Art Therapy ≥ 0.5) = 40.70%\n",
      "\n",
      "Model result with only fac1:\n"
     ]
    },
    {
     "name": "stderr",
     "output_type": "stream",
     "text": [
      "Initializing NUTS using jitter+adapt_diag...\n",
      "c:\\Users\\USER\\AppData\\Local\\r-miniconda\\Lib\\site-packages\\pytensor\\tensor\\rewriting\\elemwise.py:954: UserWarning: Loop fusion failed because the resulting node would exceed the kernel argument limit.\n",
      "  warn(\n",
      "Multiprocess sampling (2 chains in 2 jobs)\n",
      "NUTS: [beta0, beta_int, beta_f1, rho, sigma]\n"
     ]
    },
    {
     "data": {
      "text/html": [
       "<pre style=\"white-space:pre;overflow-x:auto;line-height:normal;font-family:Menlo,'DejaVu Sans Mono',consolas,'Courier New',monospace\">c:\\Users\\USER\\AppData\\Local\\r-miniconda\\Lib\\site-packages\\rich\\live.py:231: UserWarning: install \"ipywidgets\" for \n",
       "Jupyter support\n",
       "  warnings.warn('install \"ipywidgets\" for Jupyter support')\n",
       "</pre>\n"
      ],
      "text/plain": [
       "c:\\Users\\USER\\AppData\\Local\\r-miniconda\\Lib\\site-packages\\rich\\live.py:231: UserWarning: install \"ipywidgets\" for \n",
       "Jupyter support\n",
       "  warnings.warn('install \"ipywidgets\" for Jupyter support')\n"
      ]
     },
     "metadata": {},
     "output_type": "display_data"
    },
    {
     "data": {
      "text/html": [
       "<pre style=\"white-space:pre;overflow-x:auto;line-height:normal;font-family:Menlo,'DejaVu Sans Mono',consolas,'Courier New',monospace\"></pre>\n"
      ],
      "text/plain": []
     },
     "metadata": {},
     "output_type": "display_data"
    },
    {
     "name": "stderr",
     "output_type": "stream",
     "text": [
      "Sampling 2 chains for 500 tune and 500 draw iterations (1_000 + 1_000 draws total) took 428 seconds.\n",
      "We recommend running at least 4 chains for robust computation of convergence diagnostics\n"
     ]
    },
    {
     "name": "stdout",
     "output_type": "stream",
     "text": [
      "           mean     sd  hdi_2.5%  hdi_97.5%  mcse_mean  mcse_sd  ess_bulk  \\\n",
      "beta_int  0.182  0.545    -0.924      1.264      0.024    0.021     519.0   \n",
      "beta_f1   0.646  0.200     0.266      1.036      0.010    0.008     364.0   \n",
      "rho      -0.394  0.300    -0.964      0.158      0.015    0.011     387.0   \n",
      "sigma     1.413  0.295     0.919      2.022      0.013    0.011     496.0   \n",
      "\n",
      "          ess_tail  r_hat  \n",
      "beta_int     552.0    1.0  \n",
      "beta_f1      416.0    1.0  \n",
      "rho          249.0    1.0  \n",
      "sigma        573.0    1.0  \n",
      "P(beta_int ≤ –0.5) = 10.00%\n",
      "P(–0.5 < beta_int < 0) = 26.90%\n",
      "P(beta_int ≥ 0) = 63.10%\n",
      "P(Stress reduction of Art Therapy ≥ 0.5) = 10.00%\n",
      "\n",
      "Model result with only fac2:\n"
     ]
    },
    {
     "name": "stderr",
     "output_type": "stream",
     "text": [
      "Initializing NUTS using jitter+adapt_diag...\n",
      "c:\\Users\\USER\\AppData\\Local\\r-miniconda\\Lib\\site-packages\\pytensor\\tensor\\rewriting\\elemwise.py:954: UserWarning: Loop fusion failed because the resulting node would exceed the kernel argument limit.\n",
      "  warn(\n",
      "Multiprocess sampling (2 chains in 2 jobs)\n",
      "NUTS: [beta0, beta_int, beta_f2, rho, sigma]\n"
     ]
    },
    {
     "data": {
      "text/html": [
       "<pre style=\"white-space:pre;overflow-x:auto;line-height:normal;font-family:Menlo,'DejaVu Sans Mono',consolas,'Courier New',monospace\">c:\\Users\\USER\\AppData\\Local\\r-miniconda\\Lib\\site-packages\\rich\\live.py:231: UserWarning: install \"ipywidgets\" for \n",
       "Jupyter support\n",
       "  warnings.warn('install \"ipywidgets\" for Jupyter support')\n",
       "</pre>\n"
      ],
      "text/plain": [
       "c:\\Users\\USER\\AppData\\Local\\r-miniconda\\Lib\\site-packages\\rich\\live.py:231: UserWarning: install \"ipywidgets\" for \n",
       "Jupyter support\n",
       "  warnings.warn('install \"ipywidgets\" for Jupyter support')\n"
      ]
     },
     "metadata": {},
     "output_type": "display_data"
    },
    {
     "data": {
      "text/html": [
       "<pre style=\"white-space:pre;overflow-x:auto;line-height:normal;font-family:Menlo,'DejaVu Sans Mono',consolas,'Courier New',monospace\"></pre>\n"
      ],
      "text/plain": []
     },
     "metadata": {},
     "output_type": "display_data"
    },
    {
     "name": "stderr",
     "output_type": "stream",
     "text": [
      "Sampling 2 chains for 500 tune and 500 draw iterations (1_000 + 1_000 draws total) took 380 seconds.\n",
      "We recommend running at least 4 chains for robust computation of convergence diagnostics\n",
      "The rhat statistic is larger than 1.01 for some parameters. This indicates problems during sampling. See https://arxiv.org/abs/1903.08008 for details\n"
     ]
    },
    {
     "name": "stdout",
     "output_type": "stream",
     "text": [
      "           mean     sd  hdi_2.5%  hdi_97.5%  mcse_mean  mcse_sd  ess_bulk  \\\n",
      "beta_int -0.171  0.684    -1.420      1.236      0.029    0.021     572.0   \n",
      "beta_f2   0.228  0.276    -0.267      0.802      0.014    0.012     396.0   \n",
      "rho      -0.223  0.332    -0.920      0.386      0.017    0.013     359.0   \n",
      "sigma     1.896  0.332     1.276      2.532      0.013    0.011     643.0   \n",
      "\n",
      "          ess_tail  r_hat  \n",
      "beta_int     542.0   1.01  \n",
      "beta_f2      477.0   1.01  \n",
      "rho          157.0   1.01  \n",
      "sigma        630.0   1.00  \n",
      "P(beta_int ≤ –0.5) = 30.90%\n",
      "P(–0.5 < beta_int < 0) = 30.00%\n",
      "P(beta_int ≥ 0) = 39.10%\n",
      "P(Stress reduction of Art Therapy ≥ 0.5) = 30.90%\n",
      "\n",
      "Model result with both fac1 and fac2:\n"
     ]
    },
    {
     "name": "stderr",
     "output_type": "stream",
     "text": [
      "Initializing NUTS using jitter+adapt_diag...\n",
      "c:\\Users\\USER\\AppData\\Local\\r-miniconda\\Lib\\site-packages\\pytensor\\tensor\\rewriting\\elemwise.py:954: UserWarning: Loop fusion failed because the resulting node would exceed the kernel argument limit.\n",
      "  warn(\n",
      "Multiprocess sampling (2 chains in 2 jobs)\n",
      "NUTS: [beta0, beta_int, beta_f1, beta_f2, rho, sigma]\n"
     ]
    },
    {
     "data": {
      "text/html": [
       "<pre style=\"white-space:pre;overflow-x:auto;line-height:normal;font-family:Menlo,'DejaVu Sans Mono',consolas,'Courier New',monospace\">c:\\Users\\USER\\AppData\\Local\\r-miniconda\\Lib\\site-packages\\rich\\live.py:231: UserWarning: install \"ipywidgets\" for \n",
       "Jupyter support\n",
       "  warnings.warn('install \"ipywidgets\" for Jupyter support')\n",
       "</pre>\n"
      ],
      "text/plain": [
       "c:\\Users\\USER\\AppData\\Local\\r-miniconda\\Lib\\site-packages\\rich\\live.py:231: UserWarning: install \"ipywidgets\" for \n",
       "Jupyter support\n",
       "  warnings.warn('install \"ipywidgets\" for Jupyter support')\n"
      ]
     },
     "metadata": {},
     "output_type": "display_data"
    },
    {
     "data": {
      "text/html": [
       "<pre style=\"white-space:pre;overflow-x:auto;line-height:normal;font-family:Menlo,'DejaVu Sans Mono',consolas,'Courier New',monospace\"></pre>\n"
      ],
      "text/plain": []
     },
     "metadata": {},
     "output_type": "display_data"
    },
    {
     "name": "stderr",
     "output_type": "stream",
     "text": [
      "Sampling 2 chains for 500 tune and 500 draw iterations (1_000 + 1_000 draws total) took 504 seconds.\n",
      "We recommend running at least 4 chains for robust computation of convergence diagnostics\n",
      "The rhat statistic is larger than 1.01 for some parameters. This indicates problems during sampling. See https://arxiv.org/abs/1903.08008 for details\n"
     ]
    },
    {
     "name": "stdout",
     "output_type": "stream",
     "text": [
      "           mean     sd  hdi_2.5%  hdi_97.5%  mcse_mean  mcse_sd  ess_bulk  \\\n",
      "beta_int  0.202  0.568    -0.935      1.247      0.021    0.018     750.0   \n",
      "beta_f1   0.624  0.219     0.204      1.071      0.010    0.010     468.0   \n",
      "beta_f2   0.032  0.230    -0.439      0.438      0.012    0.010     397.0   \n",
      "rho      -0.372  0.309    -0.919      0.191      0.018    0.010     281.0   \n",
      "sigma     1.492  0.310     0.943      2.085      0.015    0.010     383.0   \n",
      "\n",
      "          ess_tail  r_hat  \n",
      "beta_int     629.0   1.00  \n",
      "beta_f1      387.0   1.00  \n",
      "beta_f2      346.0   1.00  \n",
      "rho          258.0   1.01  \n",
      "sigma        280.0   1.01  \n",
      "P(beta_int ≤ –0.5) = 10.30%\n",
      "P(–0.5 < beta_int < 0) = 24.90%\n",
      "P(beta_int ≥ 0) = 64.80%\n",
      "P(Stress reduction of Art Therapy ≥ 0.5) = 10.30%\n",
      "\n"
     ]
    }
   ],
   "source": [
    "def run_model(fac_cols, beta_names):\n",
    "    out = df_mea[df_mea['measurement_name'] == 'Outcome']\n",
    "    med = df_mea[df_mea['measurement_name'] == 'Mediators']\n",
    "    data = (\n",
    "        pd.merge(\n",
    "            out[['current_day_of_study', 'survey1_question1_response', 'current_intervention_name']],\n",
    "            med[['current_day_of_study'] + fac_cols] if fac_cols else out[['current_day_of_study']],\n",
    "            on='current_day_of_study',\n",
    "            how='inner'\n",
    "        ).dropna().sort_values('current_day_of_study').reset_index(drop=True)\n",
    "    )\n",
    "    y = data['survey1_question1_response'].values\n",
    "    interv = (data['current_intervention_name'] == \"Art Therapy!\").astype(int).values\n",
    "    n = len(data)\n",
    "    fac_arrays = [data[col].values for col in fac_cols] if fac_cols else []\n",
    "\n",
    "    with pm.Model() as model:\n",
    "        beta0 = pm.Normal('beta0', mu=0, sigma=10)\n",
    "        beta_int = pm.Normal('beta_int', mu=0, sigma=1)\n",
    "        betas = [pm.Normal(beta_name, mu=0, sigma=1) for beta_name in beta_names]\n",
    "        rho = pm.Uniform('rho', lower=-1, upper=1)\n",
    "        sigma = pm.HalfNormal('sigma', sigma=1)\n",
    "        mu = beta0 + beta_int * interv\n",
    "        for beta, fac in zip(betas, fac_arrays):\n",
    "            mu += beta * fac\n",
    "        pm.Normal('y_0', mu=mu[0], sigma=sigma, observed=y[0])\n",
    "        for t in range(1, n):\n",
    "            adjustment = rho * (y[t-1] - mu[t-1])\n",
    "            pm.Normal(f'y_{t}', mu=mu[t] + adjustment, sigma=sigma, observed=y[t])\n",
    "        trace = pm.sample(draws=500, tune=500, chains=2, target_accept=0.9, return_inferencedata=True)\n",
    "    summary = az.summary(trace, var_names=['beta_int'] + beta_names + ['rho', 'sigma'], hdi_prob=0.95)\n",
    "    print(summary)\n",
    "    beta_samples = trace.posterior['beta_int'].values.flatten()\n",
    "    p_le_neg05 = (beta_samples <= -0.5).mean()\n",
    "    p_between  = ((beta_samples > -0.5) & (beta_samples < 0)).mean()\n",
    "    p_ge0      = (beta_samples >= 0).mean()\n",
    "    print(f\"P(beta_int ≤ –0.5) = {p_le_neg05:.2%}\")\n",
    "    print(f\"P(–0.5 < beta_int < 0) = {p_between:.2%}\")\n",
    "    print(f\"P(beta_int ≥ 0) = {p_ge0:.2%}\")\n",
    "    prob = (trace.posterior['beta_int'] < -0.5).mean().item()\n",
    "    print(f\"P(Stress reduction of Art Therapy ≥ 0.5) = {prob:.2%}\\n\")\n",
    "\n",
    "print(\"Model result with neither fac1 nor fac2 (intervention only):\")\n",
    "run_model([], [])\n",
    "\n",
    "print(\"Model result with only fac1:\")\n",
    "run_model(['survey2_question1_response'], ['beta_f1'])\n",
    "\n",
    "print(\"Model result with only fac2:\")\n",
    "run_model(['survey2_question2_response'], ['beta_f2'])\n",
    "\n",
    "print(\"Model result with both fac1 and fac2:\")\n",
    "run_model(['survey2_question1_response', 'survey2_question2_response'], ['beta_f1', 'beta_f2'])"
   ]
  },
  {
   "cell_type": "markdown",
   "id": "6b319df7",
   "metadata": {},
   "source": [
    "#### Bayesian AR(1) Regression with Data-Driven Scale (MAD-Based)"
   ]
  },
  {
   "cell_type": "code",
   "execution_count": 40,
   "id": "5f6ec556",
   "metadata": {},
   "outputs": [
    {
     "name": "stderr",
     "output_type": "stream",
     "text": [
      "Initializing NUTS using jitter+adapt_diag...\n",
      "c:\\Users\\USER\\AppData\\Local\\r-miniconda\\Lib\\site-packages\\pytensor\\tensor\\rewriting\\elemwise.py:954: UserWarning: Loop fusion failed because the resulting node would exceed the kernel argument limit.\n",
      "  warn(\n",
      "Multiprocess sampling (2 chains in 2 jobs)\n",
      "NUTS: [beta0, beta_int, rho, sigma]\n"
     ]
    },
    {
     "data": {
      "text/html": [
       "<pre style=\"white-space:pre;overflow-x:auto;line-height:normal;font-family:Menlo,'DejaVu Sans Mono',consolas,'Courier New',monospace\">c:\\Users\\USER\\AppData\\Local\\r-miniconda\\Lib\\site-packages\\rich\\live.py:231: UserWarning: install \"ipywidgets\" for \n",
       "Jupyter support\n",
       "  warnings.warn('install \"ipywidgets\" for Jupyter support')\n",
       "</pre>\n"
      ],
      "text/plain": [
       "c:\\Users\\USER\\AppData\\Local\\r-miniconda\\Lib\\site-packages\\rich\\live.py:231: UserWarning: install \"ipywidgets\" for \n",
       "Jupyter support\n",
       "  warnings.warn('install \"ipywidgets\" for Jupyter support')\n"
      ]
     },
     "metadata": {},
     "output_type": "display_data"
    },
    {
     "data": {
      "text/html": [
       "<pre style=\"white-space:pre;overflow-x:auto;line-height:normal;font-family:Menlo,'DejaVu Sans Mono',consolas,'Courier New',monospace\"></pre>\n"
      ],
      "text/plain": []
     },
     "metadata": {},
     "output_type": "display_data"
    },
    {
     "name": "stderr",
     "output_type": "stream",
     "text": [
      "Sampling 2 chains for 500 tune and 500 draw iterations (1_000 + 1_000 draws total) took 179 seconds.\n",
      "We recommend running at least 4 chains for robust computation of convergence diagnostics\n",
      "The rhat statistic is larger than 1.01 for some parameters. This indicates problems during sampling. See https://arxiv.org/abs/1903.08008 for details\n"
     ]
    },
    {
     "name": "stdout",
     "output_type": "stream",
     "text": [
      "           mean     sd  hdi_2.5%  hdi_97.5%  mcse_mean  mcse_sd  ess_bulk  \\\n",
      "beta_int -0.077  1.133    -1.907      2.346      0.064    0.067     357.0   \n",
      "rho      -0.167  0.396    -0.983      0.593      0.024    0.017     266.0   \n",
      "sigma     2.220  0.503     1.384      3.209      0.026    0.030     437.0   \n",
      "\n",
      "          ess_tail  r_hat  \n",
      "beta_int     276.0   1.01  \n",
      "rho          264.0   1.02  \n",
      "sigma        403.0   1.01  \n",
      "P(beta_int ≤ –0.5) = 37.60%\n",
      "P(–0.5 < beta_int < 0) = 19.00%\n",
      "P(beta_int ≥ 0) = 43.40%\n"
     ]
    },
    {
     "data": {
      "image/png": "[encoded data removed]",
      "text/plain": [
       "<Figure size 1000x400 with 2 Axes>"
      ]
     },
     "metadata": {},
     "output_type": "display_data"
    }
   ],
   "source": [
    "outcome_data = df_mea[df_mea['measurement_name'] == 'Outcome']\n",
    "data = (\n",
    "    outcome_data[['current_day_of_study', 'survey1_question1_response', 'current_intervention_name']]\n",
    "    .dropna()\n",
    "    .sort_values('current_day_of_study')\n",
    "    .reset_index(drop=True)\n",
    ")\n",
    "\n",
    "y      = data['survey1_question1_response'].values\n",
    "interv = (data['current_intervention_name'] == \"Art Therapy!\").astype(int).values\n",
    "n      = len(data)\n",
    "\n",
    "mad = np.median(np.abs(y - np.median(y)))\n",
    "scale = max(mad, 2.0)\n",
    "\n",
    "with pm.Model() as model:\n",
    "    beta0    = pm.StudentT('beta0',    nu=3, mu=0, sigma=scale)   \n",
    "    beta_int = pm.StudentT('beta_int', nu=3, mu=0, sigma=scale)   \n",
    "    rho      = pm.Uniform('rho',       lower=-1, upper=1)         \n",
    "    sigma    = pm.HalfStudentT('sigma', nu=3, sigma=scale)        \n",
    "\n",
    "    mu = beta0 + beta_int * interv\n",
    "\n",
    "    pm.Normal('y_0', mu=mu[0], sigma=sigma, observed=y[0])\n",
    "\n",
    "    for t in range(1, n):\n",
    "        adjustment = rho * (y[t-1] - mu[t-1])\n",
    "        pm.Normal(f'y_{t}', mu=mu[t] + adjustment, sigma=sigma, observed=y[t])\n",
    "\n",
    "    trace = pm.sample(\n",
    "        draws=500,\n",
    "        tune=500,\n",
    "        chains=2,\n",
    "        target_accept=0.9,\n",
    "        return_inferencedata=True\n",
    "    )\n",
    "\n",
    "summary = az.summary(trace, var_names=['beta_int', 'rho', 'sigma'], hdi_prob=0.95)\n",
    "print(summary)\n",
    "\n",
    "beta_samples = trace.posterior['beta_int'].values.flatten()\n",
    "\n",
    "p_le_neg05 = (beta_samples <= -0.5).mean()\n",
    "p_between  = ((beta_samples > -0.5) & (beta_samples < 0)).mean()\n",
    "p_ge0      = (beta_samples >= 0).mean()\n",
    "\n",
    "print(f\"P(beta_int ≤ –0.5) = {p_le_neg05:.2%}\")\n",
    "print(f\"P(–0.5 < beta_int < 0) = {p_between:.2%}\")\n",
    "print(f\"P(beta_int ≥ 0) = {p_ge0:.2%}\")\n",
    "\n",
    "mean_beta = summary.loc['beta_int', 'mean']\n",
    "hdi_low   = summary.loc['beta_int', 'hdi_2.5%']\n",
    "hdi_high  = summary.loc['beta_int', 'hdi_97.5%']\n",
    "\n",
    "fig, axes = plt.subplots(1, 2, figsize=(10, 4), gridspec_kw={'width_ratios': [1, 1]})\n",
    "\n",
    "ax = axes[0]\n",
    "ax.errorbar(0, mean_beta,\n",
    "            yerr=[[mean_beta - hdi_low], [hdi_high - mean_beta]],\n",
    "            fmt='o', capsize=5, color='black')\n",
    "ax.axhline(0, color='gray', linestyle='--')\n",
    "ax.set_xticks([0])\n",
    "ax.set_xticklabels(['Art Therapy effect'])\n",
    "ax.set_ylabel('Stress reduction (points)')\n",
    "ax.set_title('A. Posterior mean ± 95% CI', loc='left', pad=10, fontsize=12, fontweight='bold')\n",
    "\n",
    "ax = axes[1]\n",
    "ax.bar(0, p_le_neg05, width=0.6, color='darkgreen',  label='Effect ≤ –0.5')\n",
    "ax.bar(0, p_between,  width=0.6, bottom=p_le_neg05, color='lightgreen', label='–0.5 < Effect < 0')\n",
    "ax.bar(0, p_ge0,      width=0.6, bottom=p_le_neg05+p_between, color='gold', label='Effect ≥ 0')\n",
    "ax.axhline(0.7, color='gray', linestyle='--', label='Responder threshold (0.7)')\n",
    "ax.set_xticks([0])\n",
    "ax.set_xticklabels(['Posterior mass'])\n",
    "ax.set_ylim(0, 1)\n",
    "ax.set_ylabel('Probability')\n",
    "ax.set_title('B. Distribution of effect size', loc='left', pad=10, fontsize=12, fontweight='bold')\n",
    "ax.legend(loc='upper right', fontsize=8)\n",
    "\n",
    "plt.tight_layout()\n",
    "plt.show()"
   ]
  },
  {
   "cell_type": "markdown",
   "id": "782594a8",
   "metadata": {},
   "source": [
    "#### Bayesian AR(1) Regression with Consecutive‐Day Adjustment"
   ]
  },
  {
   "cell_type": "code",
   "execution_count": 41,
   "id": "7e065923",
   "metadata": {},
   "outputs": [
    {
     "name": "stdout",
     "output_type": "stream",
     "text": [
      "Only intervention:\n"
     ]
    },
    {
     "name": "stderr",
     "output_type": "stream",
     "text": [
      "c:\\Users\\USER\\AppData\\Local\\r-miniconda\\Lib\\site-packages\\pymc\\model\\core.py:1300: ImputationWarning: Data in y_obs contains missing values and will be automatically imputed from the sampling distribution.\n",
      "  warnings.warn(impute_message, ImputationWarning)\n",
      "Initializing NUTS using jitter+adapt_diag...\n",
      "Multiprocess sampling (2 chains in 2 jobs)\n",
      "NUTS: [beta0, beta_int, rho, sigma, y_obs_unobserved]\n"
     ]
    },
    {
     "data": {
      "text/html": [
       "<pre style=\"white-space:pre;overflow-x:auto;line-height:normal;font-family:Menlo,'DejaVu Sans Mono',consolas,'Courier New',monospace\">c:\\Users\\USER\\AppData\\Local\\r-miniconda\\Lib\\site-packages\\rich\\live.py:231: UserWarning: install \"ipywidgets\" for \n",
       "Jupyter support\n",
       "  warnings.warn('install \"ipywidgets\" for Jupyter support')\n",
       "</pre>\n"
      ],
      "text/plain": [
       "c:\\Users\\USER\\AppData\\Local\\r-miniconda\\Lib\\site-packages\\rich\\live.py:231: UserWarning: install \"ipywidgets\" for \n",
       "Jupyter support\n",
       "  warnings.warn('install \"ipywidgets\" for Jupyter support')\n"
      ]
     },
     "metadata": {},
     "output_type": "display_data"
    },
    {
     "data": {
      "text/html": [
       "<pre style=\"white-space:pre;overflow-x:auto;line-height:normal;font-family:Menlo,'DejaVu Sans Mono',consolas,'Courier New',monospace\"></pre>\n"
      ],
      "text/plain": []
     },
     "metadata": {},
     "output_type": "display_data"
    },
    {
     "name": "stderr",
     "output_type": "stream",
     "text": [
      "Sampling 2 chains for 500 tune and 500 draw iterations (1_000 + 1_000 draws total) took 214 seconds.\n",
      "We recommend running at least 4 chains for robust computation of convergence diagnostics\n"
     ]
    },
    {
     "name": "stdout",
     "output_type": "stream",
     "text": [
      "           mean     sd  hdi_2.5%  hdi_97.5%  mcse_mean  mcse_sd  ess_bulk  \\\n",
      "beta_int -0.228  0.718    -1.666      1.148      0.028    0.026     678.0   \n",
      "rho      -0.129  0.322    -0.738      0.495      0.012    0.010     684.0   \n",
      "sigma     1.918  0.328     1.354      2.569      0.012    0.011     831.0   \n",
      "\n",
      "          ess_tail  r_hat  \n",
      "beta_int     653.0    1.0  \n",
      "rho          656.0    1.0  \n",
      "sigma        739.0    1.0  \n",
      "P(intervention reduces stress by ≥ 0.5 points) = 35.90%\n",
      "P(beta_int ≤ –0.5) = 35.90%\n",
      "P(–0.5 < beta_int < 0) = 27.10%\n",
      "P(beta_int ≥ 0) = 37.00%\n"
     ]
    },
    {
     "data": {
      "image/png": "[encoded data removed]",
      "text/plain": [
       "<Figure size 1000x400 with 2 Axes>"
      ]
     },
     "metadata": {},
     "output_type": "display_data"
    },
    {
     "name": "stdout",
     "output_type": "stream",
     "text": [
      "\n",
      "Intervention + fac1:\n"
     ]
    },
    {
     "name": "stderr",
     "output_type": "stream",
     "text": [
      "c:\\Users\\USER\\AppData\\Local\\r-miniconda\\Lib\\site-packages\\pymc\\model\\core.py:1300: ImputationWarning: Data in y_obs contains missing values and will be automatically imputed from the sampling distribution.\n",
      "  warnings.warn(impute_message, ImputationWarning)\n",
      "Initializing NUTS using jitter+adapt_diag...\n",
      "Multiprocess sampling (2 chains in 2 jobs)\n",
      "NUTS: [beta0, beta_int, beta_f1, rho, sigma, y_obs_unobserved]\n"
     ]
    },
    {
     "data": {
      "text/html": [
       "<pre style=\"white-space:pre;overflow-x:auto;line-height:normal;font-family:Menlo,'DejaVu Sans Mono',consolas,'Courier New',monospace\">c:\\Users\\USER\\AppData\\Local\\r-miniconda\\Lib\\site-packages\\rich\\live.py:231: UserWarning: install \"ipywidgets\" for \n",
       "Jupyter support\n",
       "  warnings.warn('install \"ipywidgets\" for Jupyter support')\n",
       "</pre>\n"
      ],
      "text/plain": [
       "c:\\Users\\USER\\AppData\\Local\\r-miniconda\\Lib\\site-packages\\rich\\live.py:231: UserWarning: install \"ipywidgets\" for \n",
       "Jupyter support\n",
       "  warnings.warn('install \"ipywidgets\" for Jupyter support')\n"
      ]
     },
     "metadata": {},
     "output_type": "display_data"
    },
    {
     "data": {
      "text/html": [
       "<pre style=\"white-space:pre;overflow-x:auto;line-height:normal;font-family:Menlo,'DejaVu Sans Mono',consolas,'Courier New',monospace\"></pre>\n"
      ],
      "text/plain": []
     },
     "metadata": {},
     "output_type": "display_data"
    },
    {
     "name": "stderr",
     "output_type": "stream",
     "text": [
      "Sampling 2 chains for 500 tune and 500 draw iterations (1_000 + 1_000 draws total) took 327 seconds.\n",
      "We recommend running at least 4 chains for robust computation of convergence diagnostics\n"
     ]
    },
    {
     "name": "stdout",
     "output_type": "stream",
     "text": [
      "           mean     sd  hdi_2.5%  hdi_97.5%  mcse_mean  mcse_sd  ess_bulk  \\\n",
      "beta_int -0.222  0.714    -1.594      1.189      0.026    0.023     740.0   \n",
      "rho      -0.163  0.322    -0.793      0.474      0.011    0.009     839.0   \n",
      "sigma     1.912  0.327     1.315      2.546      0.013    0.012     650.0   \n",
      "beta_f1   0.319  0.216    -0.109      0.734      0.008    0.006     673.0   \n",
      "\n",
      "          ess_tail  r_hat  \n",
      "beta_int     620.0    1.0  \n",
      "rho          594.0    1.0  \n",
      "sigma        649.0    1.0  \n",
      "beta_f1      662.0    1.0  \n",
      "P(intervention reduces stress by ≥ 0.5 points) = 36.20%\n",
      "P(beta_int ≤ –0.5) = 36.20%\n",
      "P(–0.5 < beta_int < 0) = 25.50%\n",
      "P(beta_int ≥ 0) = 38.30%\n"
     ]
    },
    {
     "data": {
      "image/png": "[encoded data removed]",
      "text/plain": [
       "<Figure size 1000x400 with 2 Axes>"
      ]
     },
     "metadata": {},
     "output_type": "display_data"
    },
    {
     "name": "stdout",
     "output_type": "stream",
     "text": [
      "\n",
      "Intervention + fac2:\n"
     ]
    },
    {
     "name": "stderr",
     "output_type": "stream",
     "text": [
      "c:\\Users\\USER\\AppData\\Local\\r-miniconda\\Lib\\site-packages\\pymc\\model\\core.py:1300: ImputationWarning: Data in y_obs contains missing values and will be automatically imputed from the sampling distribution.\n",
      "  warnings.warn(impute_message, ImputationWarning)\n",
      "Initializing NUTS using jitter+adapt_diag...\n",
      "Multiprocess sampling (2 chains in 2 jobs)\n",
      "NUTS: [beta0, beta_int, beta_f2, rho, sigma, y_obs_unobserved]\n"
     ]
    },
    {
     "data": {
      "text/html": [
       "<pre style=\"white-space:pre;overflow-x:auto;line-height:normal;font-family:Menlo,'DejaVu Sans Mono',consolas,'Courier New',monospace\">c:\\Users\\USER\\AppData\\Local\\r-miniconda\\Lib\\site-packages\\rich\\live.py:231: UserWarning: install \"ipywidgets\" for \n",
       "Jupyter support\n",
       "  warnings.warn('install \"ipywidgets\" for Jupyter support')\n",
       "</pre>\n"
      ],
      "text/plain": [
       "c:\\Users\\USER\\AppData\\Local\\r-miniconda\\Lib\\site-packages\\rich\\live.py:231: UserWarning: install \"ipywidgets\" for \n",
       "Jupyter support\n",
       "  warnings.warn('install \"ipywidgets\" for Jupyter support')\n"
      ]
     },
     "metadata": {},
     "output_type": "display_data"
    },
    {
     "data": {
      "text/html": [
       "<pre style=\"white-space:pre;overflow-x:auto;line-height:normal;font-family:Menlo,'DejaVu Sans Mono',consolas,'Courier New',monospace\"></pre>\n"
      ],
      "text/plain": []
     },
     "metadata": {},
     "output_type": "display_data"
    },
    {
     "name": "stderr",
     "output_type": "stream",
     "text": [
      "Sampling 2 chains for 500 tune and 500 draw iterations (1_000 + 1_000 draws total) took 352 seconds.\n",
      "We recommend running at least 4 chains for robust computation of convergence diagnostics\n",
      "The rhat statistic is larger than 1.01 for some parameters. This indicates problems during sampling. See https://arxiv.org/abs/1903.08008 for details\n"
     ]
    },
    {
     "name": "stdout",
     "output_type": "stream",
     "text": [
      "           mean     sd  hdi_2.5%  hdi_97.5%  mcse_mean  mcse_sd  ess_bulk  \\\n",
      "beta_int -0.156  0.790    -1.686      1.369      0.025    0.026    1029.0   \n",
      "rho      -0.104  0.344    -0.767      0.538      0.015    0.012     523.0   \n",
      "sigma     1.985  0.333     1.408      2.703      0.015    0.011     526.0   \n",
      "beta_f2   0.003  0.231    -0.440      0.444      0.010    0.011     552.0   \n",
      "\n",
      "          ess_tail  r_hat  \n",
      "beta_int     791.0   1.00  \n",
      "rho          543.0   1.00  \n",
      "sigma        610.0   1.01  \n",
      "beta_f2      497.0   1.01  \n",
      "P(intervention reduces stress by ≥ 0.5 points) = 33.30%\n",
      "P(beta_int ≤ –0.5) = 33.30%\n",
      "P(–0.5 < beta_int < 0) = 25.30%\n",
      "P(beta_int ≥ 0) = 41.40%\n"
     ]
    },
    {
     "data": {
      "image/png": "[encoded data removed]",
      "text/plain": [
       "<Figure size 1000x400 with 2 Axes>"
      ]
     },
     "metadata": {},
     "output_type": "display_data"
    },
    {
     "name": "stdout",
     "output_type": "stream",
     "text": [
      "\n",
      "Intervention + fac1 + fac2:\n"
     ]
    },
    {
     "name": "stderr",
     "output_type": "stream",
     "text": [
      "c:\\Users\\USER\\AppData\\Local\\r-miniconda\\Lib\\site-packages\\pymc\\model\\core.py:1300: ImputationWarning: Data in y_obs contains missing values and will be automatically imputed from the sampling distribution.\n",
      "  warnings.warn(impute_message, ImputationWarning)\n",
      "Initializing NUTS using jitter+adapt_diag...\n",
      "Multiprocess sampling (2 chains in 2 jobs)\n",
      "NUTS: [beta0, beta_int, beta_f1, beta_f2, rho, sigma, y_obs_unobserved]\n"
     ]
    },
    {
     "data": {
      "text/html": [
       "<pre style=\"white-space:pre;overflow-x:auto;line-height:normal;font-family:Menlo,'DejaVu Sans Mono',consolas,'Courier New',monospace\">c:\\Users\\USER\\AppData\\Local\\r-miniconda\\Lib\\site-packages\\rich\\live.py:231: UserWarning: install \"ipywidgets\" for \n",
       "Jupyter support\n",
       "  warnings.warn('install \"ipywidgets\" for Jupyter support')\n",
       "</pre>\n"
      ],
      "text/plain": [
       "c:\\Users\\USER\\AppData\\Local\\r-miniconda\\Lib\\site-packages\\rich\\live.py:231: UserWarning: install \"ipywidgets\" for \n",
       "Jupyter support\n",
       "  warnings.warn('install \"ipywidgets\" for Jupyter support')\n"
      ]
     },
     "metadata": {},
     "output_type": "display_data"
    },
    {
     "data": {
      "text/html": [
       "<pre style=\"white-space:pre;overflow-x:auto;line-height:normal;font-family:Menlo,'DejaVu Sans Mono',consolas,'Courier New',monospace\"></pre>\n"
      ],
      "text/plain": []
     },
     "metadata": {},
     "output_type": "display_data"
    },
    {
     "name": "stderr",
     "output_type": "stream",
     "text": [
      "Sampling 2 chains for 500 tune and 500 draw iterations (1_000 + 1_000 draws total) took 515 seconds.\n",
      "We recommend running at least 4 chains for robust computation of convergence diagnostics\n"
     ]
    },
    {
     "name": "stdout",
     "output_type": "stream",
     "text": [
      "           mean     sd  hdi_2.5%  hdi_97.5%  mcse_mean  mcse_sd  ess_bulk  \\\n",
      "beta_int -0.017  0.738    -1.270      1.636      0.029    0.026     671.0   \n",
      "rho      -0.164  0.344    -0.910      0.400      0.017    0.017     437.0   \n",
      "sigma     1.875  0.330     1.319      2.589      0.016    0.012     416.0   \n",
      "beta_f1   0.452  0.275    -0.069      1.034      0.012    0.011     488.0   \n",
      "beta_f2  -0.278  0.289    -0.805      0.303      0.012    0.012     544.0   \n",
      "\n",
      "          ess_tail  r_hat  \n",
      "beta_int     580.0   1.00  \n",
      "rho          281.0   1.01  \n",
      "sigma        468.0   1.00  \n",
      "beta_f1      505.0   1.00  \n",
      "beta_f2      481.0   1.01  \n",
      "P(intervention reduces stress by ≥ 0.5 points) = 26.10%\n",
      "P(beta_int ≤ –0.5) = 26.10%\n",
      "P(–0.5 < beta_int < 0) = 25.90%\n",
      "P(beta_int ≥ 0) = 48.00%\n"
     ]
    },
    {
     "data": {
      "image/png": "[encoded data removed]",
      "text/plain": [
       "<Figure size 1000x400 with 2 Axes>"
      ]
     },
     "metadata": {},
     "output_type": "display_data"
    },
    {
     "data": {
      "text/plain": [
       "(Inference data with groups:\n",
       " \t> posterior\n",
       " \t> sample_stats\n",
       " \t> observed_data,\n",
       "            mean     sd  hdi_2.5%  hdi_97.5%  mcse_mean  mcse_sd  ess_bulk  \\\n",
       " beta_int -0.017  0.738    -1.270      1.636      0.029    0.026     671.0   \n",
       " rho      -0.164  0.344    -0.910      0.400      0.017    0.017     437.0   \n",
       " sigma     1.875  0.330     1.319      2.589      0.016    0.012     416.0   \n",
       " beta_f1   0.452  0.275    -0.069      1.034      0.012    0.011     488.0   \n",
       " beta_f2  -0.278  0.289    -0.805      0.303      0.012    0.012     544.0   \n",
       " \n",
       "           ess_tail  r_hat  \n",
       " beta_int     580.0   1.00  \n",
       " rho          281.0   1.01  \n",
       " sigma        468.0   1.00  \n",
       " beta_f1      505.0   1.00  \n",
       " beta_f2      481.0   1.01  )"
      ]
     },
     "execution_count": 41,
     "metadata": {},
     "output_type": "execute_result"
    }
   ],
   "source": [
    "def run_ar1_model(df_mea, use_fac1=False, use_fac2=False):\n",
    "    days_full = pd.DataFrame({'current_day_of_study': np.arange(0, 16)})\n",
    "\n",
    "    outcome_data = df_mea[df_mea['measurement_name'] == 'Outcome'][\n",
    "        ['current_day_of_study',\n",
    "         'survey1_question1_response',   \n",
    "         'current_intervention_name']\n",
    "    ]\n",
    "    mediator_data = df_mea[df_mea['measurement_name'] == 'Mediators'][\n",
    "        ['current_day_of_study',\n",
    "         'survey2_question1_response',   \n",
    "         'survey2_question2_response']   \n",
    "    ]\n",
    "\n",
    "    data = (\n",
    "        days_full\n",
    "        .merge(outcome_data,  on='current_day_of_study', how='left')\n",
    "        .merge(mediator_data, on='current_day_of_study', how='left')\n",
    "        .sort_values('current_day_of_study')\n",
    "        .reset_index(drop=True)\n",
    "    )\n",
    "\n",
    "    days   = data['current_day_of_study'].values\n",
    "    y      = data['survey1_question1_response'].values.astype(float)  \n",
    "    n      = len(y)  \n",
    "\n",
    "    interv = (data['current_intervention_name'] == \"Art Therapy!\").astype(float).fillna(0).values\n",
    "\n",
    "    if use_fac1:\n",
    "        fac1 = data['survey2_question1_response'].values.astype(float)\n",
    "        fac1 = np.nan_to_num(fac1, nan=0.0)\n",
    "    else:\n",
    "        fac1 = np.zeros_like(days, dtype=float)\n",
    "\n",
    "    if use_fac2:\n",
    "        fac2 = data['survey2_question2_response'].values.astype(float)\n",
    "        fac2 = np.nan_to_num(fac2, nan=0.0)\n",
    "    else:\n",
    "        fac2 = np.zeros_like(days, dtype=float)\n",
    "\n",
    "    obs_mask = ~np.isnan(y)\n",
    "    consec   = np.zeros(n, dtype=float)\n",
    "    consec[1:] = (obs_mask[1:] & obs_mask[:-1]).astype(float)\n",
    "\n",
    "    with pm.Model() as model:\n",
    "        beta0    = pm.Normal('beta0',    mu=0, sigma=10)\n",
    "        beta_int = pm.Normal('beta_int', mu=0, sigma=1)\n",
    "        if use_fac1:\n",
    "            beta_f1  = pm.Normal('beta_f1',  mu=0, sigma=10)\n",
    "        if use_fac2:\n",
    "            beta_f2  = pm.Normal('beta_f2',  mu=0, sigma=10)\n",
    "        rho      = pm.Uniform('rho',     lower=-1, upper=1)\n",
    "        sigma    = pm.HalfNormal('sigma', sigma=1)\n",
    "\n",
    "        mu = beta0 + beta_int * interv\n",
    "        if use_fac1:\n",
    "            mu = mu + beta_f1 * fac1\n",
    "        if use_fac2:\n",
    "            mu = mu + beta_f2 * fac2\n",
    "\n",
    "        y_tt      = pt.constant(y)            \n",
    "        mu_tt     = mu\n",
    "        consec_tt = pt.constant(consec)\n",
    "\n",
    "        def ar1_step(y_prev, mu_prev, mu_curr, consec_prev, rho):\n",
    "            ar_term = pt.switch(pt.eq(consec_prev, 1.0), rho * (y_prev - mu_prev), 0.0)\n",
    "            return mu_curr + ar_term\n",
    "\n",
    "        y_pred_scan, _ = scan(\n",
    "            fn=ar1_step,\n",
    "            sequences=[y_tt[:-1], mu_tt[:-1], mu_tt[1:], consec_tt[:-1]],\n",
    "            non_sequences=[rho],\n",
    "            n_steps=n-1,\n",
    "            name=\"ar1_scan\"\n",
    "        )\n",
    "\n",
    "        y_pred = pt.concatenate([[mu_tt[0]], y_pred_scan], axis=0)\n",
    "\n",
    "        y_obs_masked = np.ma.masked_invalid(y)\n",
    "        pm.Normal('y_obs', mu=y_pred, sigma=sigma, observed=y_obs_masked)\n",
    "\n",
    "        trace = pm.sample(\n",
    "            draws=500,\n",
    "            tune=500,\n",
    "            chains=2,\n",
    "            target_accept=0.9,\n",
    "            return_inferencedata=True\n",
    "        )\n",
    "\n",
    "    var_names = ['beta_int', 'rho', 'sigma']\n",
    "    if use_fac1:\n",
    "        var_names.append('beta_f1')\n",
    "    if use_fac2:\n",
    "        var_names.append('beta_f2')\n",
    "\n",
    "    summary = az.summary(trace, var_names=var_names, hdi_prob=0.95)\n",
    "    print(summary)\n",
    "\n",
    "    prob_responder = (trace.posterior['beta_int'] < -0.5).mean().item()\n",
    "    print(f\"P(intervention reduces stress by ≥ 0.5 points) = {prob_responder:.2%}\")\n",
    "\n",
    "    beta_samples = trace.posterior['beta_int'].values.flatten()\n",
    "    p_le_neg05 = (beta_samples <= -0.5).mean()\n",
    "    p_between  = ((beta_samples > -0.5) & (beta_samples < 0)).mean()\n",
    "    p_ge0      = (beta_samples >= 0).mean()\n",
    "\n",
    "    print(f\"P(beta_int ≤ –0.5) = {p_le_neg05:.2%}\")\n",
    "    print(f\"P(–0.5 < beta_int < 0) = {p_between:.2%}\")\n",
    "    print(f\"P(beta_int ≥ 0) = {p_ge0:.2%}\")\n",
    "\n",
    "    mean_beta = summary.loc['beta_int', 'mean']\n",
    "    hdi_low   = summary.loc['beta_int', 'hdi_2.5%']\n",
    "    hdi_high  = summary.loc['beta_int', 'hdi_97.5%']\n",
    "\n",
    "    fig, axes = plt.subplots(1, 2, figsize=(10, 4),\n",
    "                             gridspec_kw={'width_ratios': [1, 1]})\n",
    "\n",
    "    ax = axes[0]\n",
    "    ax.errorbar(0, mean_beta,\n",
    "                yerr=[[mean_beta - hdi_low], [hdi_high - mean_beta]],\n",
    "                fmt='o', capsize=5, color='black')\n",
    "    ax.axhline(0, color='gray', linestyle='--')\n",
    "    ax.set_xticks([0])\n",
    "    ax.set_xticklabels([\"Art Therapy Effect\"])\n",
    "    ax.set_ylabel('Stress reduction (points)')\n",
    "    ax.set_title('A. Posterior mean ± 95% CI', loc='left',\n",
    "                 pad=10, fontsize=12, fontweight='bold')\n",
    "\n",
    "    ax = axes[1]\n",
    "    ax.bar(0, p_le_neg05,    width=0.6, color='darkgreen',  label='≤ –0.5')\n",
    "    ax.bar(0, p_between,     width=0.6, bottom=p_le_neg05, color='lightgreen', label='–0.5 < β < 0')\n",
    "    ax.bar(0, p_ge0,         width=0.6, bottom=p_le_neg05+p_between, color='gold',       label='≥ 0')\n",
    "    ax.axhline(0.7, color='gray', linestyle='--', label='Responder thresh.')\n",
    "    ax.set_xticks([0])\n",
    "    ax.set_xticklabels(['Posterior mass'])\n",
    "    ax.set_ylim(0, 1)\n",
    "    ax.set_ylabel('Probability')\n",
    "    ax.set_title('B. Distribution of effect size', loc='left',\n",
    "                 pad=10, fontsize=12, fontweight='bold')\n",
    "    ax.legend(loc='upper right', fontsize=8)\n",
    "\n",
    "    plt.tight_layout()\n",
    "    plt.show()\n",
    "\n",
    "    return trace, summary\n",
    "\n",
    "print(\"Only intervention:\")\n",
    "run_ar1_model(df_mea, use_fac1=False, use_fac2=False)\n",
    "\n",
    "print(\"\\nIntervention + fac1:\")\n",
    "run_ar1_model(df_mea, use_fac1=True, use_fac2=False)\n",
    "\n",
    "print(\"\\nIntervention + fac2:\")\n",
    "run_ar1_model(df_mea, use_fac1=False, use_fac2=True)\n",
    "\n",
    "print(\"\\nIntervention + fac1 + fac2:\")\n",
    "run_ar1_model(df_mea, use_fac1=True, use_fac2=True)"
   ]
  },
  {
   "cell_type": "markdown",
   "id": "b01721d5",
   "metadata": {},
   "source": [
    "#### Bayesian AR(1) Model of Daily Stress Response to Art Therapy and Mediators - Mean Imputation"
   ]
  },
  {
   "cell_type": "code",
   "execution_count": 42,
   "id": "17e4a06a",
   "metadata": {},
   "outputs": [
    {
     "name": "stderr",
     "output_type": "stream",
     "text": [
      "C:\\Users\\USER\\AppData\\Local\\Temp\\ipykernel_12692\\224566006.py:12: FutureWarning: A value is trying to be set on a copy of a DataFrame or Series through chained assignment using an inplace method.\n",
      "The behavior will change in pandas 3.0. This inplace method will never work because the intermediate object on which we are setting values always behaves as a copy.\n",
      "\n",
      "For example, when doing 'df[col].method(value, inplace=True)', try using 'df.method({col: value}, inplace=True)' or df[col] = df[col].method(value) instead, to perform the operation inplace on the original object.\n",
      "\n",
      "\n",
      "  imputed_complete_o['measurement_name'].fillna('Outcome', inplace=True)\n",
      "C:\\Users\\USER\\AppData\\Local\\Temp\\ipykernel_12692\\224566006.py:23: FutureWarning: A value is trying to be set on a copy of a DataFrame or Series through chained assignment using an inplace method.\n",
      "The behavior will change in pandas 3.0. This inplace method will never work because the intermediate object on which we are setting values always behaves as a copy.\n",
      "\n",
      "For example, when doing 'df[col].method(value, inplace=True)', try using 'df.method({col: value}, inplace=True)' or df[col] = df[col].method(value) instead, to perform the operation inplace on the original object.\n",
      "\n",
      "\n",
      "  imputed_complete_m['measurement_name'].fillna('Mediators', inplace=True)\n"
     ]
    }
   ],
   "source": [
    "imputed_data_o = df_mea[df_mea['measurement_name'] == 'Outcome'].copy()\n",
    "imputed_data_o['current_day_of_study'] = imputed_data_o['current_day_of_study'].astype(int)\n",
    "\n",
    "days = pd.DataFrame({'current_day_of_study': range(0, 16)})\n",
    "\n",
    "imputed_complete_o = days.merge(\n",
    "    imputed_data_o, \n",
    "    how='left', \n",
    "    on='current_day_of_study'\n",
    ")\n",
    "\n",
    "imputed_complete_o['measurement_name'].fillna('Outcome', inplace=True)\n",
    "\n",
    "imputed_data_m = df_mea[df_mea['measurement_name'] == 'Mediators'].copy()\n",
    "imputed_data_m['current_day_of_study'] = imputed_data_m['current_day_of_study'].astype(int)\n",
    "\n",
    "imputed_complete_m = days.merge(\n",
    "    imputed_data_m, \n",
    "    how='left', \n",
    "    on='current_day_of_study'\n",
    ")\n",
    "\n",
    "imputed_complete_m['measurement_name'].fillna('Mediators', inplace=True)"
   ]
  },
  {
   "cell_type": "code",
   "execution_count": 43,
   "id": "31ec5c14",
   "metadata": {},
   "outputs": [],
   "source": [
    "df_o = imputed_complete_o.copy()\n",
    "df_m = imputed_complete_m.copy()\n",
    "pattern = (\n",
    "    ['A'] * 4 +\n",
    "    ['B'] * 8 +\n",
    "    ['A'] * 4 \n",
    ")\n",
    "txt = {\n",
    "    'A': \"Art Therapy!\",\n",
    "    'B': \"No Art Therapy!\"\n",
    "}\n",
    "\n",
    "df_unique_o = (\n",
    "    df_o\n",
    "    .sort_values('current_day_of_study')      \n",
    "    .groupby('current_day_of_study', as_index=True)\n",
    "    .first()                                   \n",
    ")\n",
    "\n",
    "df_fill_o = (\n",
    "    df_unique_o\n",
    "    .reindex(range(0, 16))                     \n",
    "    .reset_index()                             \n",
    ")\n",
    "\n",
    "mask_o = df_fill_o['current_intervention_name'].isna()\n",
    "df_fill_o.loc[mask_o, 'current_intervention_name'] = (\n",
    "    df_fill_o.loc[mask_o, 'current_day_of_study']\n",
    "            .map(lambda day: txt[ pattern[int(day)] ])\n",
    ")\n",
    "\n",
    "df_unique_m = (\n",
    "    df_m\n",
    "    .sort_values('current_day_of_study')       \n",
    "    .groupby('current_day_of_study', as_index=True)\n",
    "    .first()                                   \n",
    ")\n",
    "\n",
    "df_fill_m = (\n",
    "    df_unique_m\n",
    "    .reindex(range(0, 16))                     \n",
    "    .reset_index()                             \n",
    ")\n",
    "\n",
    "mask_m = df_fill_m['current_intervention_name'].isna()\n",
    "df_fill_m.loc[mask_m, 'current_intervention_name'] = (\n",
    "    df_fill_m.loc[mask_m, 'current_day_of_study']\n",
    "            .map(lambda day: txt[ pattern[int(day)] ])\n",
    ")"
   ]
  },
  {
   "cell_type": "code",
   "execution_count": 44,
   "id": "2a132733",
   "metadata": {},
   "outputs": [],
   "source": [
    "df_mean_imp_o = df_fill_o.copy()\n",
    "df_mean_imp_m = df_fill_m.copy()\n",
    "\n",
    "df_mean_imp_o['survey1_question1_response'] = (\n",
    "    df_mean_imp_o\n",
    "    .groupby('current_intervention_name')['survey1_question1_response']\n",
    "    .transform(lambda grp: grp.fillna(grp.mean()))\n",
    ")\n",
    "\n",
    "cols_to_impute = [\n",
    "    'survey2_question1_response',\n",
    "    'survey2_question2_response'\n",
    "]\n",
    "\n",
    "for col in cols_to_impute:\n",
    "    df_mean_imp_m[col] = (\n",
    "        df_mean_imp_m\n",
    "        .groupby('current_intervention_name')[col]\n",
    "        .transform(lambda grp: grp.fillna(grp.mean()))\n",
    "    )"
   ]
  },
  {
   "cell_type": "code",
   "execution_count": 45,
   "id": "dd482366",
   "metadata": {},
   "outputs": [
    {
     "name": "stdout",
     "output_type": "stream",
     "text": [
      "Model result with neither fac1 nor fac2 (intervention only):\n"
     ]
    },
    {
     "name": "stderr",
     "output_type": "stream",
     "text": [
      "Initializing NUTS using jitter+adapt_diag...\n",
      "c:\\Users\\USER\\AppData\\Local\\r-miniconda\\Lib\\site-packages\\pytensor\\tensor\\rewriting\\elemwise.py:954: UserWarning: Loop fusion failed because the resulting node would exceed the kernel argument limit.\n",
      "  warn(\n",
      "Multiprocess sampling (2 chains in 2 jobs)\n",
      "NUTS: [beta0, beta_int, rho, sigma]\n"
     ]
    },
    {
     "data": {
      "text/html": [
       "<pre style=\"white-space:pre;overflow-x:auto;line-height:normal;font-family:Menlo,'DejaVu Sans Mono',consolas,'Courier New',monospace\">c:\\Users\\USER\\AppData\\Local\\r-miniconda\\Lib\\site-packages\\rich\\live.py:231: UserWarning: install \"ipywidgets\" for \n",
       "Jupyter support\n",
       "  warnings.warn('install \"ipywidgets\" for Jupyter support')\n",
       "</pre>\n"
      ],
      "text/plain": [
       "c:\\Users\\USER\\AppData\\Local\\r-miniconda\\Lib\\site-packages\\rich\\live.py:231: UserWarning: install \"ipywidgets\" for \n",
       "Jupyter support\n",
       "  warnings.warn('install \"ipywidgets\" for Jupyter support')\n"
      ]
     },
     "metadata": {},
     "output_type": "display_data"
    },
    {
     "data": {
      "text/html": [
       "<pre style=\"white-space:pre;overflow-x:auto;line-height:normal;font-family:Menlo,'DejaVu Sans Mono',consolas,'Courier New',monospace\"></pre>\n"
      ],
      "text/plain": []
     },
     "metadata": {},
     "output_type": "display_data"
    },
    {
     "name": "stderr",
     "output_type": "stream",
     "text": [
      "Sampling 2 chains for 500 tune and 500 draw iterations (1_000 + 1_000 draws total) took 155 seconds.\n",
      "We recommend running at least 4 chains for robust computation of convergence diagnostics\n"
     ]
    },
    {
     "name": "stdout",
     "output_type": "stream",
     "text": [
      "           mean     sd  hdi_2.5%  hdi_97.5%  mcse_mean  mcse_sd  ess_bulk  \\\n",
      "beta_int -0.277  0.678    -1.629      1.050      0.027    0.021     642.0   \n",
      "rho      -0.149  0.273    -0.678      0.365      0.011    0.008     654.0   \n",
      "sigma     1.814  0.297     1.296      2.381      0.011    0.010     757.0   \n",
      "\n",
      "          ess_tail  r_hat  \n",
      "beta_int     630.0    1.0  \n",
      "rho          626.0    1.0  \n",
      "sigma        647.0    1.0  \n",
      "P(beta_int ≤ –0.5) = 37.90%\n",
      "P(–0.5 < beta_int < 0) = 29.50%\n",
      "P(beta_int ≥ 0) = 32.60%\n",
      "P(Stress reduction of Art Therapy ≥ 0.5) = 37.90%\n",
      "\n",
      "Model result with only fac1:\n"
     ]
    },
    {
     "name": "stderr",
     "output_type": "stream",
     "text": [
      "Initializing NUTS using jitter+adapt_diag...\n",
      "c:\\Users\\USER\\AppData\\Local\\r-miniconda\\Lib\\site-packages\\pytensor\\tensor\\rewriting\\elemwise.py:954: UserWarning: Loop fusion failed because the resulting node would exceed the kernel argument limit.\n",
      "  warn(\n",
      "Multiprocess sampling (2 chains in 2 jobs)\n",
      "NUTS: [beta0, beta_int, beta_f1, rho, sigma]\n"
     ]
    },
    {
     "data": {
      "text/html": [
       "<pre style=\"white-space:pre;overflow-x:auto;line-height:normal;font-family:Menlo,'DejaVu Sans Mono',consolas,'Courier New',monospace\">c:\\Users\\USER\\AppData\\Local\\r-miniconda\\Lib\\site-packages\\rich\\live.py:231: UserWarning: install \"ipywidgets\" for \n",
       "Jupyter support\n",
       "  warnings.warn('install \"ipywidgets\" for Jupyter support')\n",
       "</pre>\n"
      ],
      "text/plain": [
       "c:\\Users\\USER\\AppData\\Local\\r-miniconda\\Lib\\site-packages\\rich\\live.py:231: UserWarning: install \"ipywidgets\" for \n",
       "Jupyter support\n",
       "  warnings.warn('install \"ipywidgets\" for Jupyter support')\n"
      ]
     },
     "metadata": {},
     "output_type": "display_data"
    },
    {
     "data": {
      "text/html": [
       "<pre style=\"white-space:pre;overflow-x:auto;line-height:normal;font-family:Menlo,'DejaVu Sans Mono',consolas,'Courier New',monospace\"></pre>\n"
      ],
      "text/plain": []
     },
     "metadata": {},
     "output_type": "display_data"
    },
    {
     "name": "stderr",
     "output_type": "stream",
     "text": [
      "Sampling 2 chains for 500 tune and 500 draw iterations (1_000 + 1_000 draws total) took 449 seconds.\n",
      "We recommend running at least 4 chains for robust computation of convergence diagnostics\n"
     ]
    },
    {
     "name": "stdout",
     "output_type": "stream",
     "text": [
      "           mean     sd  hdi_2.5%  hdi_97.5%  mcse_mean  mcse_sd  ess_bulk  \\\n",
      "beta_int -0.032  0.526    -1.065      1.064      0.023    0.023     535.0   \n",
      "beta_f1   0.667  0.211     0.274      1.089      0.010    0.009     443.0   \n",
      "rho      -0.316  0.265    -0.871      0.143      0.012    0.010     471.0   \n",
      "sigma     1.424  0.263     0.999      2.018      0.011    0.010     549.0   \n",
      "\n",
      "          ess_tail  r_hat  \n",
      "beta_int     393.0   1.01  \n",
      "beta_f1      446.0   1.01  \n",
      "rho          233.0   1.01  \n",
      "sigma        615.0   1.00  \n",
      "P(beta_int ≤ –0.5) = 16.00%\n",
      "P(–0.5 < beta_int < 0) = 37.70%\n",
      "P(beta_int ≥ 0) = 46.30%\n",
      "P(Stress reduction of Art Therapy ≥ 0.5) = 16.00%\n",
      "\n",
      "Model result with only fac2:\n"
     ]
    },
    {
     "name": "stderr",
     "output_type": "stream",
     "text": [
      "Initializing NUTS using jitter+adapt_diag...\n",
      "c:\\Users\\USER\\AppData\\Local\\r-miniconda\\Lib\\site-packages\\pytensor\\tensor\\rewriting\\elemwise.py:954: UserWarning: Loop fusion failed because the resulting node would exceed the kernel argument limit.\n",
      "  warn(\n",
      "Multiprocess sampling (2 chains in 2 jobs)\n",
      "NUTS: [beta0, beta_int, beta_f2, rho, sigma]\n"
     ]
    },
    {
     "data": {
      "text/html": [
       "<pre style=\"white-space:pre;overflow-x:auto;line-height:normal;font-family:Menlo,'DejaVu Sans Mono',consolas,'Courier New',monospace\">c:\\Users\\USER\\AppData\\Local\\r-miniconda\\Lib\\site-packages\\rich\\live.py:231: UserWarning: install \"ipywidgets\" for \n",
       "Jupyter support\n",
       "  warnings.warn('install \"ipywidgets\" for Jupyter support')\n",
       "</pre>\n"
      ],
      "text/plain": [
       "c:\\Users\\USER\\AppData\\Local\\r-miniconda\\Lib\\site-packages\\rich\\live.py:231: UserWarning: install \"ipywidgets\" for \n",
       "Jupyter support\n",
       "  warnings.warn('install \"ipywidgets\" for Jupyter support')\n"
      ]
     },
     "metadata": {},
     "output_type": "display_data"
    },
    {
     "data": {
      "text/html": [
       "<pre style=\"white-space:pre;overflow-x:auto;line-height:normal;font-family:Menlo,'DejaVu Sans Mono',consolas,'Courier New',monospace\"></pre>\n"
      ],
      "text/plain": []
     },
     "metadata": {},
     "output_type": "display_data"
    },
    {
     "name": "stderr",
     "output_type": "stream",
     "text": [
      "Sampling 2 chains for 500 tune and 500 draw iterations (1_000 + 1_000 draws total) took 453 seconds.\n",
      "We recommend running at least 4 chains for robust computation of convergence diagnostics\n"
     ]
    },
    {
     "name": "stdout",
     "output_type": "stream",
     "text": [
      "           mean     sd  hdi_2.5%  hdi_97.5%  mcse_mean  mcse_sd  ess_bulk  \\\n",
      "beta_int -0.306  0.693    -1.628      1.075      0.032    0.031     521.0   \n",
      "beta_f2   0.269  0.280    -0.279      0.806      0.012    0.010     555.0   \n",
      "rho      -0.124  0.303    -0.643      0.532      0.015    0.012     449.0   \n",
      "sigma     1.825  0.312     1.246      2.433      0.014    0.010     517.0   \n",
      "\n",
      "          ess_tail  r_hat  \n",
      "beta_int     441.0   1.00  \n",
      "beta_f2      560.0   1.00  \n",
      "rho          296.0   1.01  \n",
      "sigma        629.0   1.00  \n",
      "P(beta_int ≤ –0.5) = 40.70%\n",
      "P(–0.5 < beta_int < 0) = 28.90%\n",
      "P(beta_int ≥ 0) = 30.40%\n",
      "P(Stress reduction of Art Therapy ≥ 0.5) = 40.70%\n",
      "\n",
      "Model result with both fac1 and fac2:\n"
     ]
    },
    {
     "name": "stderr",
     "output_type": "stream",
     "text": [
      "Initializing NUTS using jitter+adapt_diag...\n",
      "c:\\Users\\USER\\AppData\\Local\\r-miniconda\\Lib\\site-packages\\pytensor\\tensor\\rewriting\\elemwise.py:954: UserWarning: Loop fusion failed because the resulting node would exceed the kernel argument limit.\n",
      "  warn(\n",
      "Multiprocess sampling (2 chains in 2 jobs)\n",
      "NUTS: [beta0, beta_int, beta_f1, beta_f2, rho, sigma]\n"
     ]
    },
    {
     "data": {
      "text/html": [
       "<pre style=\"white-space:pre;overflow-x:auto;line-height:normal;font-family:Menlo,'DejaVu Sans Mono',consolas,'Courier New',monospace\">c:\\Users\\USER\\AppData\\Local\\r-miniconda\\Lib\\site-packages\\rich\\live.py:231: UserWarning: install \"ipywidgets\" for \n",
       "Jupyter support\n",
       "  warnings.warn('install \"ipywidgets\" for Jupyter support')\n",
       "</pre>\n"
      ],
      "text/plain": [
       "c:\\Users\\USER\\AppData\\Local\\r-miniconda\\Lib\\site-packages\\rich\\live.py:231: UserWarning: install \"ipywidgets\" for \n",
       "Jupyter support\n",
       "  warnings.warn('install \"ipywidgets\" for Jupyter support')\n"
      ]
     },
     "metadata": {},
     "output_type": "display_data"
    },
    {
     "data": {
      "text/html": [
       "<pre style=\"white-space:pre;overflow-x:auto;line-height:normal;font-family:Menlo,'DejaVu Sans Mono',consolas,'Courier New',monospace\"></pre>\n"
      ],
      "text/plain": []
     },
     "metadata": {},
     "output_type": "display_data"
    },
    {
     "name": "stderr",
     "output_type": "stream",
     "text": [
      "Sampling 2 chains for 500 tune and 500 draw iterations (1_000 + 1_000 draws total) took 630 seconds.\n",
      "We recommend running at least 4 chains for robust computation of convergence diagnostics\n"
     ]
    },
    {
     "name": "stdout",
     "output_type": "stream",
     "text": [
      "           mean     sd  hdi_2.5%  hdi_97.5%  mcse_mean  mcse_sd  ess_bulk  \\\n",
      "beta_int -0.074  0.552    -1.119      1.022      0.021    0.020     693.0   \n",
      "beta_f1   0.639  0.224     0.206      1.089      0.009    0.008     621.0   \n",
      "beta_f2   0.052  0.237    -0.465      0.494      0.011    0.009     479.0   \n",
      "rho      -0.261  0.276    -0.808      0.294      0.013    0.012     471.0   \n",
      "sigma     1.466  0.275     0.949      1.996      0.012    0.010     527.0   \n",
      "\n",
      "          ess_tail  r_hat  \n",
      "beta_int     519.0    1.0  \n",
      "beta_f1      644.0    1.0  \n",
      "beta_f2      456.0    1.0  \n",
      "rho          271.0    1.0  \n",
      "sigma        460.0    1.0  \n",
      "P(beta_int ≤ –0.5) = 23.10%\n",
      "P(–0.5 < beta_int < 0) = 33.40%\n",
      "P(beta_int ≥ 0) = 43.50%\n",
      "P(Stress reduction of Art Therapy ≥ 0.5) = 23.10%\n",
      "\n"
     ]
    }
   ],
   "source": [
    "def run_model(fac_cols, beta_names):\n",
    "    out = df_mean_imp_o.copy()\n",
    "    med = df_mean_imp_m.copy()\n",
    "    data = (\n",
    "        pd.merge(\n",
    "            out[['current_day_of_study', 'survey1_question1_response', 'current_intervention_name']],\n",
    "            med[['current_day_of_study'] + fac_cols] if fac_cols else out[['current_day_of_study']],\n",
    "            on='current_day_of_study',\n",
    "            how='inner'\n",
    "        ).dropna().sort_values('current_day_of_study').reset_index(drop=True)\n",
    "    )\n",
    "    y = data['survey1_question1_response'].values\n",
    "    interv = (data['current_intervention_name'] == \"Art Therapy!\").astype(int).values\n",
    "    n = len(data)\n",
    "    fac_arrays = [data[col].values for col in fac_cols] if fac_cols else []\n",
    "\n",
    "    with pm.Model() as model:\n",
    "        beta0 = pm.Normal('beta0', mu=0, sigma=10)\n",
    "        beta_int = pm.Normal('beta_int', mu=0, sigma=1)\n",
    "        betas = [pm.Normal(beta_name, mu=0, sigma=1) for beta_name in beta_names]\n",
    "        rho = pm.Uniform('rho', lower=-1, upper=1)\n",
    "        sigma = pm.HalfNormal('sigma', sigma=1)\n",
    "        mu = beta0 + beta_int * interv\n",
    "        for beta, fac in zip(betas, fac_arrays):\n",
    "            mu += beta * fac\n",
    "        pm.Normal('y_0', mu=mu[0], sigma=sigma, observed=y[0])\n",
    "        for t in range(1, n):\n",
    "            adjustment = rho * (y[t-1] - mu[t-1])\n",
    "            pm.Normal(f'y_{t}', mu=mu[t] + adjustment, sigma=sigma, observed=y[t])\n",
    "        trace = pm.sample(draws=500, tune=500, chains=2, target_accept=0.9, return_inferencedata=True)\n",
    "    summary = az.summary(trace, var_names=['beta_int'] + beta_names + ['rho', 'sigma'], hdi_prob=0.95)\n",
    "    print(summary)\n",
    "    beta_samples = trace.posterior['beta_int'].values.flatten()\n",
    "    p_le_neg05 = (beta_samples <= -0.5).mean()\n",
    "    p_between  = ((beta_samples > -0.5) & (beta_samples < 0)).mean()\n",
    "    p_ge0      = (beta_samples >= 0).mean()\n",
    "    print(f\"P(beta_int ≤ –0.5) = {p_le_neg05:.2%}\")\n",
    "    print(f\"P(–0.5 < beta_int < 0) = {p_between:.2%}\")\n",
    "    print(f\"P(beta_int ≥ 0) = {p_ge0:.2%}\")\n",
    "    prob = (trace.posterior['beta_int'] < -0.5).mean().item()\n",
    "    print(f\"P(Stress reduction of Art Therapy ≥ 0.5) = {prob:.2%}\\n\")\n",
    "\n",
    "print(\"Model result with neither fac1 nor fac2 (intervention only):\")\n",
    "run_model([], [])\n",
    "\n",
    "print(\"Model result with only fac1:\")\n",
    "run_model(['survey2_question1_response'], ['beta_f1'])\n",
    "\n",
    "print(\"Model result with only fac2:\")\n",
    "run_model(['survey2_question2_response'], ['beta_f2'])\n",
    "\n",
    "print(\"Model result with both fac1 and fac2:\")\n",
    "run_model(['survey2_question1_response', 'survey2_question2_response'], ['beta_f1', 'beta_f2'])"
   ]
  },
  {
   "cell_type": "markdown",
   "id": "ef194122",
   "metadata": {},
   "source": [
    "#### Bayesian AR(1) Model of Daily Stress Response to Art Therapy and Mediators - Latent Missing Methods"
   ]
  },
  {
   "cell_type": "code",
   "execution_count": 46,
   "id": "ca524168",
   "metadata": {},
   "outputs": [
    {
     "name": "stdout",
     "output_type": "stream",
     "text": [
      "Model: Neither fac1 nor fac2 (intervention only)\n"
     ]
    },
    {
     "name": "stderr",
     "output_type": "stream",
     "text": [
      "Initializing NUTS using jitter+adapt_diag...\n",
      "Multiprocess sampling (2 chains in 2 jobs)\n",
      "NUTS: [beta0, beta_int, rho, sigma, y_latent]\n"
     ]
    },
    {
     "data": {
      "text/html": [
       "<pre style=\"white-space:pre;overflow-x:auto;line-height:normal;font-family:Menlo,'DejaVu Sans Mono',consolas,'Courier New',monospace\">c:\\Users\\USER\\AppData\\Local\\r-miniconda\\Lib\\site-packages\\rich\\live.py:231: UserWarning: install \"ipywidgets\" for \n",
       "Jupyter support\n",
       "  warnings.warn('install \"ipywidgets\" for Jupyter support')\n",
       "</pre>\n"
      ],
      "text/plain": [
       "c:\\Users\\USER\\AppData\\Local\\r-miniconda\\Lib\\site-packages\\rich\\live.py:231: UserWarning: install \"ipywidgets\" for \n",
       "Jupyter support\n",
       "  warnings.warn('install \"ipywidgets\" for Jupyter support')\n"
      ]
     },
     "metadata": {},
     "output_type": "display_data"
    },
    {
     "data": {
      "text/html": [
       "<pre style=\"white-space:pre;overflow-x:auto;line-height:normal;font-family:Menlo,'DejaVu Sans Mono',consolas,'Courier New',monospace\"></pre>\n"
      ],
      "text/plain": []
     },
     "metadata": {},
     "output_type": "display_data"
    },
    {
     "name": "stderr",
     "output_type": "stream",
     "text": [
      "Sampling 2 chains for 500 tune and 500 draw iterations (1_000 + 1_000 draws total) took 270 seconds.\n",
      "We recommend running at least 4 chains for robust computation of convergence diagnostics\n"
     ]
    },
    {
     "name": "stdout",
     "output_type": "stream",
     "text": [
      "           mean     sd  hdi_2.5%  hdi_97.5%  mcse_mean  mcse_sd  ess_bulk  \\\n",
      "beta_int -0.436  0.704    -1.872      0.855      0.030    0.027     581.0   \n",
      "rho      -0.185  0.205    -0.632      0.193      0.011    0.009     334.0   \n",
      "sigma     1.847  0.321     1.226      2.455      0.012    0.009     736.0   \n",
      "\n",
      "          ess_tail  r_hat  \n",
      "beta_int     609.0    1.0  \n",
      "rho          388.0    1.0  \n",
      "sigma        824.0    1.0  \n",
      "P(beta_int ≤ –0.5) = 48.90%\n",
      "P(–0.5 < beta_int < 0) = 26.30%\n",
      "P(beta_int ≥ 0) = 24.80%\n",
      "Model: Only fac1\n"
     ]
    },
    {
     "name": "stderr",
     "output_type": "stream",
     "text": [
      "Initializing NUTS using jitter+adapt_diag...\n",
      "Multiprocess sampling (2 chains in 2 jobs)\n",
      "NUTS: [beta0, beta_int, beta_f1, rho, sigma, y_latent]\n"
     ]
    },
    {
     "data": {
      "text/html": [
       "<pre style=\"white-space:pre;overflow-x:auto;line-height:normal;font-family:Menlo,'DejaVu Sans Mono',consolas,'Courier New',monospace\">c:\\Users\\USER\\AppData\\Local\\r-miniconda\\Lib\\site-packages\\rich\\live.py:231: UserWarning: install \"ipywidgets\" for \n",
       "Jupyter support\n",
       "  warnings.warn('install \"ipywidgets\" for Jupyter support')\n",
       "</pre>\n"
      ],
      "text/plain": [
       "c:\\Users\\USER\\AppData\\Local\\r-miniconda\\Lib\\site-packages\\rich\\live.py:231: UserWarning: install \"ipywidgets\" for \n",
       "Jupyter support\n",
       "  warnings.warn('install \"ipywidgets\" for Jupyter support')\n"
      ]
     },
     "metadata": {},
     "output_type": "display_data"
    },
    {
     "data": {
      "text/html": [
       "<pre style=\"white-space:pre;overflow-x:auto;line-height:normal;font-family:Menlo,'DejaVu Sans Mono',consolas,'Courier New',monospace\"></pre>\n"
      ],
      "text/plain": []
     },
     "metadata": {},
     "output_type": "display_data"
    },
    {
     "name": "stderr",
     "output_type": "stream",
     "text": [
      "Sampling 2 chains for 500 tune and 500 draw iterations (1_000 + 1_000 draws total) took 422 seconds.\n",
      "We recommend running at least 4 chains for robust computation of convergence diagnostics\n",
      "The rhat statistic is larger than 1.01 for some parameters. This indicates problems during sampling. See https://arxiv.org/abs/1903.08008 for details\n"
     ]
    },
    {
     "name": "stdout",
     "output_type": "stream",
     "text": [
      "           mean     sd  hdi_2.5%  hdi_97.5%  mcse_mean  mcse_sd  ess_bulk  \\\n",
      "beta_int -0.441  0.694    -1.860      0.927      0.025    0.025     739.0   \n",
      "rho      -0.190  0.233    -0.616      0.322      0.014    0.012     279.0   \n",
      "sigma     1.814  0.354     1.209      2.514      0.017    0.013     470.0   \n",
      "beta_f1   0.313  0.222    -0.083      0.797      0.012    0.011     336.0   \n",
      "\n",
      "          ess_tail  r_hat  \n",
      "beta_int     559.0   1.00  \n",
      "rho          324.0   1.00  \n",
      "sigma        647.0   1.00  \n",
      "beta_f1      344.0   1.01  \n",
      "P(beta_int ≤ –0.5) = 47.80%\n",
      "P(–0.5 < beta_int < 0) = 27.50%\n",
      "P(beta_int ≥ 0) = 24.70%\n",
      "Model: Only fac2\n"
     ]
    },
    {
     "name": "stderr",
     "output_type": "stream",
     "text": [
      "Initializing NUTS using jitter+adapt_diag...\n",
      "Multiprocess sampling (2 chains in 2 jobs)\n",
      "NUTS: [beta0, beta_int, beta_f2, rho, sigma, y_latent]\n"
     ]
    },
    {
     "data": {
      "text/html": [
       "<pre style=\"white-space:pre;overflow-x:auto;line-height:normal;font-family:Menlo,'DejaVu Sans Mono',consolas,'Courier New',monospace\">c:\\Users\\USER\\AppData\\Local\\r-miniconda\\Lib\\site-packages\\rich\\live.py:231: UserWarning: install \"ipywidgets\" for \n",
       "Jupyter support\n",
       "  warnings.warn('install \"ipywidgets\" for Jupyter support')\n",
       "</pre>\n"
      ],
      "text/plain": [
       "c:\\Users\\USER\\AppData\\Local\\r-miniconda\\Lib\\site-packages\\rich\\live.py:231: UserWarning: install \"ipywidgets\" for \n",
       "Jupyter support\n",
       "  warnings.warn('install \"ipywidgets\" for Jupyter support')\n"
      ]
     },
     "metadata": {},
     "output_type": "display_data"
    },
    {
     "data": {
      "text/html": [
       "<pre style=\"white-space:pre;overflow-x:auto;line-height:normal;font-family:Menlo,'DejaVu Sans Mono',consolas,'Courier New',monospace\"></pre>\n"
      ],
      "text/plain": []
     },
     "metadata": {},
     "output_type": "display_data"
    },
    {
     "name": "stderr",
     "output_type": "stream",
     "text": [
      "Sampling 2 chains for 500 tune and 500 draw iterations (1_000 + 1_000 draws total) took 417 seconds.\n",
      "We recommend running at least 4 chains for robust computation of convergence diagnostics\n"
     ]
    },
    {
     "name": "stdout",
     "output_type": "stream",
     "text": [
      "           mean     sd  hdi_2.5%  hdi_97.5%  mcse_mean  mcse_sd  ess_bulk  \\\n",
      "beta_int -0.485  0.770    -1.880      1.046      0.033    0.030     540.0   \n",
      "rho      -0.187  0.208    -0.671      0.200      0.010    0.009     415.0   \n",
      "sigma     1.865  0.331     1.249      2.466      0.014    0.014     558.0   \n",
      "beta_f2   0.034  0.226    -0.424      0.469      0.011    0.008     418.0   \n",
      "\n",
      "          ess_tail  r_hat  \n",
      "beta_int     484.0   1.01  \n",
      "rho          462.0   1.00  \n",
      "sigma        510.0   1.01  \n",
      "beta_f2      490.0   1.01  \n",
      "P(beta_int ≤ –0.5) = 51.10%\n",
      "P(–0.5 < beta_int < 0) = 22.30%\n",
      "P(beta_int ≥ 0) = 26.60%\n",
      "Model: Both fac1 and fac2\n"
     ]
    },
    {
     "name": "stderr",
     "output_type": "stream",
     "text": [
      "Initializing NUTS using jitter+adapt_diag...\n",
      "Multiprocess sampling (2 chains in 2 jobs)\n",
      "NUTS: [beta0, beta_int, beta_f1, beta_f2, rho, sigma, y_latent]\n"
     ]
    },
    {
     "data": {
      "text/html": [
       "<pre style=\"white-space:pre;overflow-x:auto;line-height:normal;font-family:Menlo,'DejaVu Sans Mono',consolas,'Courier New',monospace\">c:\\Users\\USER\\AppData\\Local\\r-miniconda\\Lib\\site-packages\\rich\\live.py:231: UserWarning: install \"ipywidgets\" for \n",
       "Jupyter support\n",
       "  warnings.warn('install \"ipywidgets\" for Jupyter support')\n",
       "</pre>\n"
      ],
      "text/plain": [
       "c:\\Users\\USER\\AppData\\Local\\r-miniconda\\Lib\\site-packages\\rich\\live.py:231: UserWarning: install \"ipywidgets\" for \n",
       "Jupyter support\n",
       "  warnings.warn('install \"ipywidgets\" for Jupyter support')\n"
      ]
     },
     "metadata": {},
     "output_type": "display_data"
    },
    {
     "data": {
      "text/html": [
       "<pre style=\"white-space:pre;overflow-x:auto;line-height:normal;font-family:Menlo,'DejaVu Sans Mono',consolas,'Courier New',monospace\"></pre>\n"
      ],
      "text/plain": []
     },
     "metadata": {},
     "output_type": "display_data"
    },
    {
     "name": "stderr",
     "output_type": "stream",
     "text": [
      "Sampling 2 chains for 500 tune and 500 draw iterations (1_000 + 1_000 draws total) took 427 seconds.\n",
      "We recommend running at least 4 chains for robust computation of convergence diagnostics\n"
     ]
    },
    {
     "name": "stdout",
     "output_type": "stream",
     "text": [
      "           mean     sd  hdi_2.5%  hdi_97.5%  mcse_mean  mcse_sd  ess_bulk  \\\n",
      "beta_int -0.119  0.779    -1.392      1.660      0.027    0.024     831.0   \n",
      "rho      -0.151  0.219    -0.659      0.238      0.014    0.013     270.0   \n",
      "sigma     1.806  0.321     1.223      2.452      0.013    0.009     665.0   \n",
      "beta_f1   0.446  0.283    -0.122      0.985      0.014    0.013     450.0   \n",
      "beta_f2  -0.241  0.287    -0.796      0.319      0.014    0.012     421.0   \n",
      "\n",
      "          ess_tail  r_hat  \n",
      "beta_int     639.0   1.00  \n",
      "rho          278.0   1.01  \n",
      "sigma        704.0   1.00  \n",
      "beta_f1      510.0   1.00  \n",
      "beta_f2      566.0   1.01  \n",
      "P(beta_int ≤ –0.5) = 31.80%\n",
      "P(–0.5 < beta_int < 0) = 25.30%\n",
      "P(beta_int ≥ 0) = 42.90%\n"
     ]
    }
   ],
   "source": [
    "def run_ar1_model(include_fac1=False, include_fac2=False):\n",
    "    outcome_data = df_mea[df_mea['measurement_name'] == 'Outcome']\n",
    "    mediator_data = df_mea[df_mea['measurement_name'] == 'Mediators']\n",
    "\n",
    "    merge_cols = ['current_day_of_study', 'survey1_question1_response', 'current_intervention_name']\n",
    "    mediator_cols = []\n",
    "    if include_fac1:\n",
    "        mediator_cols.append('survey2_question1_response')\n",
    "    if include_fac2:\n",
    "        mediator_cols.append('survey2_question2_response')\n",
    "\n",
    "    all_days = pd.DataFrame({'current_day_of_study': np.arange(0, 16)})\n",
    "    outcome_data = pd.merge(all_days, outcome_data[merge_cols], on='current_day_of_study', how='left')\n",
    "    if mediator_cols:\n",
    "        mediator_data = pd.merge(all_days,\n",
    "                                  mediator_data[['current_day_of_study'] + mediator_cols],\n",
    "                                  on='current_day_of_study', how='left')\n",
    "    else:\n",
    "        mediator_data = all_days.copy()\n",
    "\n",
    "    data = (pd.merge(outcome_data, mediator_data, on='current_day_of_study', how='left')\n",
    "              .sort_values('current_day_of_study')\n",
    "              .reset_index(drop=True))\n",
    "\n",
    "    y_obs_raw = data['survey1_question1_response'].values\n",
    "    y_obs = y_obs_raw.astype(float)\n",
    "    interv = (data['current_intervention_name'] == \"Art Therapy!\").astype(float).fillna(0.0)\n",
    "    fac1 = data['survey2_question1_response'].values if include_fac1 else None\n",
    "    fac2 = data['survey2_question2_response'].values if include_fac2 else None\n",
    "    n = len(y_obs)\n",
    "\n",
    "    nan_idx = np.isnan(y_obs)\n",
    "    obs_idx = ~nan_idx\n",
    "    missing_idx = np.where(nan_idx)[0].tolist()\n",
    "\n",
    "    with pm.Model() as model:\n",
    "        beta0    = pm.Normal('beta0',    mu=0, sigma=10)\n",
    "        beta_int = pm.Normal('beta_int', mu=0, sigma=1)\n",
    "        if include_fac1:\n",
    "            beta_f1 = pm.Normal('beta_f1', mu=0, sigma=10)\n",
    "        if include_fac2:\n",
    "            beta_f2 = pm.Normal('beta_f2', mu=0, sigma=10)\n",
    "        rho   = pm.Uniform('rho', lower=-1, upper=1)\n",
    "        sigma = pm.HalfNormal('sigma', sigma=1)\n",
    "\n",
    "        mu = beta0 + beta_int * interv\n",
    "        if include_fac1:\n",
    "            mu = mu + beta_f1 * pt.as_tensor_variable(np.nan_to_num(fac1, nan=0.0))\n",
    "        if include_fac2:\n",
    "            mu = mu + beta_f2 * pt.as_tensor_variable(np.nan_to_num(fac2, nan=0.0))\n",
    "\n",
    "        y_latent = pm.Normal('y_latent', mu=0, sigma=10, shape=len(missing_idx))\n",
    "\n",
    "        y_filled = pt.zeros(n)\n",
    "        y_filled = pt.set_subtensor(y_filled[missing_idx], y_latent)\n",
    "        y_filled = pt.set_subtensor(y_filled[obs_idx], y_obs[obs_idx])\n",
    "\n",
    "        def ar1_step(y_prev, mu_prev, mu_curr, rho):\n",
    "            return mu_curr + rho * (y_prev - mu_prev)\n",
    "\n",
    "        y_pred_scan, _ = scan(\n",
    "            fn=ar1_step,\n",
    "            sequences=[y_filled[:-1], mu[:-1], mu[1:]],\n",
    "            non_sequences=[rho],\n",
    "            n_steps=n-1\n",
    "        )\n",
    "        y_pred = pt.concatenate([mu[:1], y_pred_scan], axis=0)\n",
    "\n",
    "        pm.Normal('y_obs',\n",
    "                  mu=y_pred[obs_idx],\n",
    "                  sigma=sigma,\n",
    "                  observed=y_obs[obs_idx])\n",
    "\n",
    "        trace = pm.sample(draws=500, tune=500, chains=2, target_accept=0.9,\n",
    "                          return_inferencedata=True)\n",
    "\n",
    "    var_names = ['beta_int', 'rho', 'sigma']\n",
    "    if include_fac1: var_names.append('beta_f1')\n",
    "    if include_fac2: var_names.append('beta_f2')\n",
    "\n",
    "    summary = az.summary(trace, var_names=var_names, hdi_prob=0.95)\n",
    "    print(summary)\n",
    "\n",
    "    beta_samples = trace.posterior['beta_int'].values.flatten()\n",
    "    p_le_neg05 = (beta_samples <= -0.5).mean()\n",
    "    p_between  = ((beta_samples > -0.5) & (beta_samples < 0)).mean()\n",
    "    p_ge0      = (beta_samples >= 0).mean()\n",
    "\n",
    "    print(f\"P(beta_int ≤ –0.5) = {p_le_neg05:.2%}\")\n",
    "    print(f\"P(–0.5 < beta_int < 0) = {p_between:.2%}\")\n",
    "    print(f\"P(beta_int ≥ 0) = {p_ge0:.2%}\")\n",
    "\n",
    "print(\"Model: Neither fac1 nor fac2 (intervention only)\")\n",
    "run_ar1_model(include_fac1=False, include_fac2=False)\n",
    "\n",
    "print(\"Model: Only fac1\")\n",
    "run_ar1_model(include_fac1=True, include_fac2=False)\n",
    "\n",
    "print(\"Model: Only fac2\")\n",
    "run_ar1_model(include_fac1=False, include_fac2=True)\n",
    "\n",
    "print(\"Model: Both fac1 and fac2\")\n",
    "run_ar1_model(include_fac1=True, include_fac2=True)"
   ]
  }
 ],
 "metadata": {
  "kernelspec": {
   "display_name": "base",
   "language": "python",
   "name": "python3"
  },
  "language_info": {
   "codemirror_mode": {
    "name": "ipython",
    "version": 3
   },
   "file_extension": ".py",
   "mimetype": "text/x-python",
   "name": "python",
   "nbconvert_exporter": "python",
   "pygments_lexer": "ipython3",
   "version": "3.11.5"
  }
 },
 "nbformat": 4,
 "nbformat_minor": 5
}
