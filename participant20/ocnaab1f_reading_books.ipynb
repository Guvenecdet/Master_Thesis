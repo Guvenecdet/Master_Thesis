{
 "cells": [
  {
   "cell_type": "markdown",
   "id": "f101cfde",
   "metadata": {},
   "source": [
    "## Data reading and Data Insights"
   ]
  },
  {
   "cell_type": "markdown",
   "id": "968516ae",
   "metadata": {},
   "source": [
    "**Readin a Book Participant: ocnaab1f, 16 days participation**\n",
    "\n",
    "*Dataset:* 'Reading a book' vs 'Avoid reading a book' study\n",
    "\n",
    "\n"
   ]
  },
  {
   "cell_type": "markdown",
   "id": "a1448134",
   "metadata": {},
   "source": [
    "#### Libraries"
   ]
  },
  {
   "cell_type": "code",
   "execution_count": 1,
   "id": "48ceb4e1",
   "metadata": {},
   "outputs": [
    {
     "name": "stderr",
     "output_type": "stream",
     "text": [
      "WARNING (pytensor.configdefaults): g++ not available, if using conda: `conda install gxx`\n",
      "WARNING (pytensor.configdefaults): g++ not detected!  PyTensor will be unable to compile C-implementations and will default to Python. Performance may be severely degraded. To remove this warning, set PyTensor flags cxx to an empty string.\n"
     ]
    }
   ],
   "source": [
    "import pandas as pd\n",
    "import numpy as np\n",
    "import matplotlib.pyplot as plt\n",
    "import seaborn as sns\n",
    "from scipy import stats\n",
    "import statsmodels.api as sm\n",
    "from statsmodels.stats.stattools import durbin_watson\n",
    "import pymc as pm\n",
    "import arviz as az\n",
    "import pytensor.tensor as pt\n",
    "from pytensor.scan import scan"
   ]
  },
  {
   "cell_type": "code",
   "execution_count": 2,
   "id": "565cf087",
   "metadata": {},
   "outputs": [],
   "source": [
    "path = \"C://Users//USER//Desktop//StudyU_Results//\"\n",
    "df_intervention = pd.read_csv(path+\"self-designed_n-of-1_trials_on_stress_management_-_reading_books_-_ocnaab1f_2025-05-11 23_12_05.590//interventions.csv\")\n",
    "#print(df_intervention.head())\n",
    "df_mea = pd.read_csv(path+\"self-designed_n-of-1_trials_on_stress_management_-_reading_books_-_ocnaab1f_2025-05-11 23_12_05.590//measurements.csv\")\n",
    "#print(df_mea.head())"
   ]
  },
  {
   "cell_type": "markdown",
   "id": "d1ad7802",
   "metadata": {},
   "source": [
    "## Data Analysis and Preprocessing"
   ]
  },
  {
   "cell_type": "markdown",
   "id": "e24520cc",
   "metadata": {},
   "source": [
    "- Pre-analysis: ocnaab1f\n",
    "    - Number of Participant\n",
    "    - Participation of the study\n",
    "    - Missing Values\n",
    "    - Remove Participants Who Joined Outside the Study\n",
    "    - Data Preperation"
   ]
  },
  {
   "cell_type": "markdown",
   "id": "10c82df0",
   "metadata": {},
   "source": [
    "#### Number of Participant"
   ]
  },
  {
   "cell_type": "code",
   "execution_count": 3,
   "id": "9e423290",
   "metadata": {},
   "outputs": [
    {
     "name": "stdout",
     "output_type": "stream",
     "text": [
      "The column 'participant_id' has only one unique value: 'efdd019d-8a46-4ab2-87f5-4fb9e8eecbc4'\n"
     ]
    }
   ],
   "source": [
    "column_name = 'participant_id' \n",
    "\n",
    "unique_count = df_intervention[column_name].nunique()\n",
    "\n",
    "if unique_count == 1:\n",
    "    only_value = df_intervention[column_name].iloc[0]\n",
    "    print(f\"The column '{column_name}' has only one unique value: {only_value!r}\")\n",
    "else:\n",
    "    print(f\"The column '{column_name}' has {unique_count} unique values.\")\n",
    "    print(\"Unique values are:\", df_intervention[column_name].unique())"
   ]
  },
  {
   "cell_type": "markdown",
   "id": "c4c7e973",
   "metadata": {},
   "source": [
    "#### Participation of the study"
   ]
  },
  {
   "cell_type": "code",
   "execution_count": 4,
   "id": "79cbb43d",
   "metadata": {},
   "outputs": [
    {
     "name": "stdout",
     "output_type": "stream",
     "text": [
      "                         participant_id  participation_days\n",
      "0  efdd019d-8a46-4ab2-87f5-4fb9e8eecbc4                  15\n"
     ]
    }
   ],
   "source": [
    "df_mea['measurement_time'] = pd.to_datetime(df_mea['measurement_time'], utc=True)\n",
    "\n",
    "participation_days = (\n",
    "    df_mea\n",
    "    .groupby('participant_id')['measurement_time']\n",
    "    .apply(lambda x: x.dt.date.nunique())\n",
    "    .reset_index(name='participation_days')\n",
    ")\n",
    "\n",
    "print(participation_days)"
   ]
  },
  {
   "cell_type": "markdown",
   "id": "6fd47a75",
   "metadata": {},
   "source": [
    "As anticipated, the study comprised a single participant, with a total participation period of 16 days."
   ]
  },
  {
   "cell_type": "markdown",
   "id": "52c79068",
   "metadata": {},
   "source": [
    "#### Missing Values"
   ]
  },
  {
   "cell_type": "code",
   "execution_count": 5,
   "id": "0d543d72",
   "metadata": {},
   "outputs": [
    {
     "name": "stdout",
     "output_type": "stream",
     "text": [
      "\n",
      "--- Participant efdd019d-8a46-4ab2-87f5-4fb9e8eecbc4 ---\n",
      "\n",
      "  Outcome:\n",
      "    Start date:           2025-04-24\n",
      "    End of expected 16d:  2025-05-09\n",
      "    Expected days count:  16\n",
      "    Completed days count: 15\n",
      "    Missed days count:    1\n",
      "    Missed dates:\n",
      "       2025-05-02\n",
      "\n",
      "  Mediators:\n",
      "    Start date:           2025-04-24\n",
      "    End of expected 16d:  2025-05-09\n",
      "    Expected days count:  16\n",
      "    Completed days count: 14\n",
      "    Missed days count:    2\n",
      "    Missed dates:\n",
      "       2025-05-01\n",
      "       2025-05-02\n"
     ]
    }
   ],
   "source": [
    "df_mea['measurement_time'] = pd.to_datetime(df_mea['measurement_time'])\n",
    "\n",
    "results = {}\n",
    "\n",
    "for pid in df_mea['participant_id'].unique():\n",
    "    results[pid] = {}\n",
    "    df_part = df_mea[df_mea['participant_id'] == pid]\n",
    "    \n",
    "    for name in ['Outcome', 'Mediators']:\n",
    "        sub = df_part[df_part['measurement_name'] == name].copy()\n",
    "        if sub.empty:\n",
    "            results[pid][name] = None\n",
    "            continue\n",
    "\n",
    "        sub['date'] = sub['measurement_time'].dt.date\n",
    "\n",
    "        start_date = sub['date'].min()\n",
    "\n",
    "        expected_dates = pd.date_range(start_date, periods=16, freq='D').date\n",
    "\n",
    "        done_dates = set(sub['date']) & set(expected_dates)\n",
    "\n",
    "        missed_dates = sorted(set(expected_dates) - done_dates)\n",
    "\n",
    "        results[pid][name] = {\n",
    "            'start_date': start_date,\n",
    "            'end_expected': expected_dates[-1],\n",
    "            'expected_days': len(expected_dates),           \n",
    "            'completed_days': len(done_dates),\n",
    "            'missed_days_count': len(missed_dates),\n",
    "            'missed_dates': missed_dates\n",
    "        }\n",
    "\n",
    "for pid, measures in results.items():\n",
    "    print(f\"\\n--- Participant {pid} ---\")\n",
    "    for name, stats in measures.items():\n",
    "        if stats is None:\n",
    "            print(f\"{name}: no data\")\n",
    "            continue\n",
    "        print(f\"\\n  {name}:\")\n",
    "        print(f\"    Start date:           {stats['start_date']}\")\n",
    "        print(f\"    End of expected 16d:  {stats['end_expected']}\")\n",
    "        print(f\"    Expected days count:  {stats['expected_days']}\")\n",
    "        print(f\"    Completed days count: {stats['completed_days']}\")\n",
    "        print(f\"    Missed days count:    {stats['missed_days_count']}\")\n",
    "        if stats['missed_dates']:\n",
    "            print(\"    Missed dates:\")\n",
    "            for d in stats['missed_dates']:\n",
    "                print(\"      \", d)\n"
   ]
  },
  {
   "cell_type": "markdown",
   "id": "456ef994",
   "metadata": {},
   "source": [
    "#### Remove Participants Who Joined Outside the Study"
   ]
  },
  {
   "cell_type": "code",
   "execution_count": 6,
   "id": "613b1316",
   "metadata": {},
   "outputs": [],
   "source": [
    "# df_mea = df_mea[df_mea['participant_id'] != \"ca773388-eb42-4716-995a-476ed72c0475\"]\n",
    "# df_mea.shape[0]"
   ]
  },
  {
   "cell_type": "markdown",
   "id": "26a0d2f5",
   "metadata": {},
   "source": [
    "#### Data Preperation"
   ]
  },
  {
   "cell_type": "code",
   "execution_count": 7,
   "id": "5c2ba47f",
   "metadata": {},
   "outputs": [
    {
     "data": {
      "text/html": [
       "<div>\n",
       "<style scoped>\n",
       "    .dataframe tbody tr th:only-of-type {\n",
       "        vertical-align: middle;\n",
       "    }\n",
       "\n",
       "    .dataframe tbody tr th {\n",
       "        vertical-align: top;\n",
       "    }\n",
       "\n",
       "    .dataframe thead th {\n",
       "        text-align: right;\n",
       "    }\n",
       "</style>\n",
       "<table border=\"1\" class=\"dataframe\">\n",
       "  <thead>\n",
       "    <tr style=\"text-align: right;\">\n",
       "      <th></th>\n",
       "      <th>measurement_time</th>\n",
       "      <th>measurement_name</th>\n",
       "      <th>participant_id</th>\n",
       "      <th>current_day_of_study</th>\n",
       "      <th>current_intervention_name</th>\n",
       "      <th>survey1_question1_response</th>\n",
       "      <th>survey1_question2_response</th>\n",
       "      <th>survey1_question3_response</th>\n",
       "      <th>survey1_question4_response</th>\n",
       "      <th>survey2_question1_response</th>\n",
       "      <th>survey2_question2_response</th>\n",
       "    </tr>\n",
       "  </thead>\n",
       "  <tbody>\n",
       "    <tr>\n",
       "      <th>0</th>\n",
       "      <td>2025-05-09 20:30:17.652117+00:00</td>\n",
       "      <td>Mediators</td>\n",
       "      <td>efdd019d-8a46-4ab2-87f5-4fb9e8eecbc4</td>\n",
       "      <td>15</td>\n",
       "      <td>Reading books!</td>\n",
       "      <td>NaN</td>\n",
       "      <td>NaN</td>\n",
       "      <td>NaN</td>\n",
       "      <td>NaN</td>\n",
       "      <td>2.0</td>\n",
       "      <td>3.0</td>\n",
       "    </tr>\n",
       "  </tbody>\n",
       "</table>\n",
       "</div>"
      ],
      "text/plain": [
       "                  measurement_time measurement_name  \\\n",
       "0 2025-05-09 20:30:17.652117+00:00        Mediators   \n",
       "\n",
       "                         participant_id  current_day_of_study  \\\n",
       "0  efdd019d-8a46-4ab2-87f5-4fb9e8eecbc4                    15   \n",
       "\n",
       "  current_intervention_name  survey1_question1_response  \\\n",
       "0            Reading books!                         NaN   \n",
       "\n",
       "   survey1_question2_response  survey1_question3_response  \\\n",
       "0                         NaN                         NaN   \n",
       "\n",
       "   survey1_question4_response  survey2_question1_response  \\\n",
       "0                         NaN                         2.0   \n",
       "\n",
       "   survey2_question2_response  \n",
       "0                         3.0  "
      ]
     },
     "execution_count": 7,
     "metadata": {},
     "output_type": "execute_result"
    }
   ],
   "source": [
    "df_mea_all= df_mea[[\n",
    "     'measurement_time',\n",
    "     'measurement_name',\n",
    "     'participant_id',\n",
    "     'current_day_of_study',\n",
    "     'current_intervention_name',\n",
    "     'survey1_question1_response',\n",
    "     'survey1_question2_response',\n",
    "     'survey1_question3_response',\n",
    "     'survey1_question4_response',\n",
    "     'survey2_question1_response',\n",
    "     'survey2_question2_response']]\n",
    "df_mea_all.head(1)"
   ]
  },
  {
   "cell_type": "code",
   "execution_count": 8,
   "id": "b8672a8e",
   "metadata": {},
   "outputs": [],
   "source": [
    "df_mea_m = df_mea_all[df_mea_all['measurement_name'] == 'Mediators']\n",
    "df_mea_o = df_mea_all[df_mea_all['measurement_name'] == 'Outcome']"
   ]
  },
  {
   "cell_type": "code",
   "execution_count": 9,
   "id": "ae3f0a0e",
   "metadata": {},
   "outputs": [],
   "source": [
    "df_mea_o = df_mea_o.sort_values(by=['participant_id', 'current_day_of_study'])\n",
    "df_mea_m = df_mea_m.sort_values(by=['participant_id', 'current_day_of_study'])"
   ]
  },
  {
   "cell_type": "code",
   "execution_count": 10,
   "id": "6d5cbda3",
   "metadata": {},
   "outputs": [
    {
     "data": {
      "text/html": [
       "<div>\n",
       "<style scoped>\n",
       "    .dataframe tbody tr th:only-of-type {\n",
       "        vertical-align: middle;\n",
       "    }\n",
       "\n",
       "    .dataframe tbody tr th {\n",
       "        vertical-align: top;\n",
       "    }\n",
       "\n",
       "    .dataframe thead th {\n",
       "        text-align: right;\n",
       "    }\n",
       "</style>\n",
       "<table border=\"1\" class=\"dataframe\">\n",
       "  <thead>\n",
       "    <tr style=\"text-align: right;\">\n",
       "      <th></th>\n",
       "      <th>measurement_time</th>\n",
       "      <th>measurement_name</th>\n",
       "      <th>participant_id</th>\n",
       "      <th>current_day_of_study</th>\n",
       "      <th>current_intervention_name</th>\n",
       "      <th>survey1_question1_response</th>\n",
       "      <th>survey1_question2_response</th>\n",
       "      <th>survey1_question3_response</th>\n",
       "      <th>survey1_question4_response</th>\n",
       "      <th>survey2_question1_response</th>\n",
       "      <th>survey2_question2_response</th>\n",
       "    </tr>\n",
       "  </thead>\n",
       "  <tbody>\n",
       "    <tr>\n",
       "      <th>28</th>\n",
       "      <td>2025-04-24 19:46:23.710040+00:00</td>\n",
       "      <td>Outcome</td>\n",
       "      <td>efdd019d-8a46-4ab2-87f5-4fb9e8eecbc4</td>\n",
       "      <td>0</td>\n",
       "      <td>Reading books!</td>\n",
       "      <td>3.0</td>\n",
       "      <td>2.0</td>\n",
       "      <td>6.0</td>\n",
       "      <td>1.0</td>\n",
       "      <td>NaN</td>\n",
       "      <td>NaN</td>\n",
       "    </tr>\n",
       "    <tr>\n",
       "      <th>26</th>\n",
       "      <td>2025-04-25 20:03:46.986421+00:00</td>\n",
       "      <td>Outcome</td>\n",
       "      <td>efdd019d-8a46-4ab2-87f5-4fb9e8eecbc4</td>\n",
       "      <td>1</td>\n",
       "      <td>Reading books!</td>\n",
       "      <td>3.0</td>\n",
       "      <td>2.0</td>\n",
       "      <td>6.0</td>\n",
       "      <td>1.0</td>\n",
       "      <td>NaN</td>\n",
       "      <td>NaN</td>\n",
       "    </tr>\n",
       "    <tr>\n",
       "      <th>24</th>\n",
       "      <td>2025-04-26 20:23:00.977259+00:00</td>\n",
       "      <td>Outcome</td>\n",
       "      <td>efdd019d-8a46-4ab2-87f5-4fb9e8eecbc4</td>\n",
       "      <td>2</td>\n",
       "      <td>Reading books!</td>\n",
       "      <td>4.0</td>\n",
       "      <td>3.0</td>\n",
       "      <td>8.0</td>\n",
       "      <td>1.0</td>\n",
       "      <td>NaN</td>\n",
       "      <td>NaN</td>\n",
       "    </tr>\n",
       "    <tr>\n",
       "      <th>22</th>\n",
       "      <td>2025-04-27 19:55:38.508023+00:00</td>\n",
       "      <td>Outcome</td>\n",
       "      <td>efdd019d-8a46-4ab2-87f5-4fb9e8eecbc4</td>\n",
       "      <td>3</td>\n",
       "      <td>Reading books!</td>\n",
       "      <td>6.0</td>\n",
       "      <td>5.0</td>\n",
       "      <td>8.0</td>\n",
       "      <td>1.0</td>\n",
       "      <td>NaN</td>\n",
       "      <td>NaN</td>\n",
       "    </tr>\n",
       "    <tr>\n",
       "      <th>20</th>\n",
       "      <td>2025-04-28 18:00:49.959757+00:00</td>\n",
       "      <td>Outcome</td>\n",
       "      <td>efdd019d-8a46-4ab2-87f5-4fb9e8eecbc4</td>\n",
       "      <td>4</td>\n",
       "      <td>Not reading books!</td>\n",
       "      <td>7.0</td>\n",
       "      <td>8.0</td>\n",
       "      <td>1.0</td>\n",
       "      <td>8.0</td>\n",
       "      <td>NaN</td>\n",
       "      <td>NaN</td>\n",
       "    </tr>\n",
       "  </tbody>\n",
       "</table>\n",
       "</div>"
      ],
      "text/plain": [
       "                   measurement_time measurement_name  \\\n",
       "28 2025-04-24 19:46:23.710040+00:00          Outcome   \n",
       "26 2025-04-25 20:03:46.986421+00:00          Outcome   \n",
       "24 2025-04-26 20:23:00.977259+00:00          Outcome   \n",
       "22 2025-04-27 19:55:38.508023+00:00          Outcome   \n",
       "20 2025-04-28 18:00:49.959757+00:00          Outcome   \n",
       "\n",
       "                          participant_id  current_day_of_study  \\\n",
       "28  efdd019d-8a46-4ab2-87f5-4fb9e8eecbc4                     0   \n",
       "26  efdd019d-8a46-4ab2-87f5-4fb9e8eecbc4                     1   \n",
       "24  efdd019d-8a46-4ab2-87f5-4fb9e8eecbc4                     2   \n",
       "22  efdd019d-8a46-4ab2-87f5-4fb9e8eecbc4                     3   \n",
       "20  efdd019d-8a46-4ab2-87f5-4fb9e8eecbc4                     4   \n",
       "\n",
       "   current_intervention_name  survey1_question1_response  \\\n",
       "28            Reading books!                         3.0   \n",
       "26            Reading books!                         3.0   \n",
       "24            Reading books!                         4.0   \n",
       "22            Reading books!                         6.0   \n",
       "20        Not reading books!                         7.0   \n",
       "\n",
       "    survey1_question2_response  survey1_question3_response  \\\n",
       "28                         2.0                         6.0   \n",
       "26                         2.0                         6.0   \n",
       "24                         3.0                         8.0   \n",
       "22                         5.0                         8.0   \n",
       "20                         8.0                         1.0   \n",
       "\n",
       "    survey1_question4_response  survey2_question1_response  \\\n",
       "28                         1.0                         NaN   \n",
       "26                         1.0                         NaN   \n",
       "24                         1.0                         NaN   \n",
       "22                         1.0                         NaN   \n",
       "20                         8.0                         NaN   \n",
       "\n",
       "    survey2_question2_response  \n",
       "28                         NaN  \n",
       "26                         NaN  \n",
       "24                         NaN  \n",
       "22                         NaN  \n",
       "20                         NaN  "
      ]
     },
     "execution_count": 10,
     "metadata": {},
     "output_type": "execute_result"
    }
   ],
   "source": [
    "df_mea_o.head()"
   ]
  },
  {
   "cell_type": "markdown",
   "id": "4958cabd",
   "metadata": {},
   "source": [
    "## Exploratory Data Analysis - Outcome"
   ]
  },
  {
   "cell_type": "markdown",
   "id": "158c35f6",
   "metadata": {},
   "source": [
    "- EDA Steps  \n",
    "  - Data shape  \n",
    "  - Data types of columns  \n",
    "  - Missing values  \n",
    "  - Summary statistics  \n",
    "  - Data Visualization and Distributions  \n",
    "    - Plot histograms and box plots  \n",
    "    - Line plot  \n",
    "    - Scatter plot  \n",
    "    - Correlations (Pearson, Kendall, Spearman)    "
   ]
  },
  {
   "cell_type": "markdown",
   "id": "9c56c4af",
   "metadata": {},
   "source": [
    "#### Data Shape"
   ]
  },
  {
   "cell_type": "code",
   "execution_count": 11,
   "id": "b0c700fb",
   "metadata": {},
   "outputs": [
    {
     "name": "stdout",
     "output_type": "stream",
     "text": [
      "Outcome Data Shape\n",
      "Rows: 15\n",
      "Columns: 11\n"
     ]
    }
   ],
   "source": [
    "print(\"Outcome Data Shape\")\n",
    "print(\"Rows:\", df_mea_o.shape[0])\n",
    "print(\"Columns:\", df_mea_o.shape[1])"
   ]
  },
  {
   "cell_type": "markdown",
   "id": "74e40212",
   "metadata": {},
   "source": [
    "#### Data Types of columns"
   ]
  },
  {
   "cell_type": "code",
   "execution_count": 12,
   "id": "06463c20",
   "metadata": {},
   "outputs": [
    {
     "name": "stdout",
     "output_type": "stream",
     "text": [
      "Outcome Data Types of Columns\n",
      "                                      Data Type\n",
      "measurement_time            datetime64[ns, UTC]\n",
      "measurement_name                         object\n",
      "participant_id                           object\n",
      "current_day_of_study                      int64\n",
      "current_intervention_name                object\n",
      "survey1_question1_response              float64\n",
      "survey1_question2_response              float64\n",
      "survey1_question3_response              float64\n",
      "survey1_question4_response              float64\n",
      "survey2_question1_response              float64\n",
      "survey2_question2_response              float64\n"
     ]
    }
   ],
   "source": [
    "print(\"Outcome Data Types of Columns\")\n",
    "data_types = df_mea_o.dtypes\n",
    "data_types_df = pd.DataFrame(data_types, columns=[\"Data Type\"])\n",
    "print(data_types_df)"
   ]
  },
  {
   "cell_type": "markdown",
   "id": "ff16ab5e",
   "metadata": {},
   "source": [
    "#### Missing Value Analysis"
   ]
  },
  {
   "cell_type": "code",
   "execution_count": 13,
   "id": "f0ec5d76",
   "metadata": {},
   "outputs": [
    {
     "name": "stdout",
     "output_type": "stream",
     "text": [
      "\n",
      "--- Participant efdd019d-8a46-4ab2-87f5-4fb9e8eecbc4 ---\n",
      "\n",
      "  Outcome:\n",
      "    Start date:           2025-04-24\n",
      "    End of expected 16d:  2025-05-09\n",
      "    Expected days count:  16\n",
      "    Completed days count: 15\n",
      "    Missed days count:    1\n",
      "    Missed dates:\n",
      "       2025-05-02\n",
      "\n",
      "  Mediators:\n",
      "    Start date:           2025-04-24\n",
      "    End of expected 16d:  2025-05-09\n",
      "    Expected days count:  16\n",
      "    Completed days count: 14\n",
      "    Missed days count:    2\n",
      "    Missed dates:\n",
      "       2025-05-01\n",
      "       2025-05-02\n",
      "\n",
      "  survey1_question1_response:\n",
      "    Start date:           2025-04-24\n",
      "    End of expected 16d:  2025-05-09\n",
      "    Expected days count:  16\n",
      "    Completed days count: 15\n",
      "    Missed days count:    1\n",
      "    Missed dates:\n",
      "       2025-05-02\n",
      "\n",
      "  survey1_question2_response:\n",
      "    Start date:           2025-04-24\n",
      "    End of expected 16d:  2025-05-09\n",
      "    Expected days count:  16\n",
      "    Completed days count: 15\n",
      "    Missed days count:    1\n",
      "    Missed dates:\n",
      "       2025-05-02\n",
      "\n",
      "  survey1_question3_response:\n",
      "    Start date:           2025-04-24\n",
      "    End of expected 16d:  2025-05-09\n",
      "    Expected days count:  16\n",
      "    Completed days count: 15\n",
      "    Missed days count:    1\n",
      "    Missed dates:\n",
      "       2025-05-02\n",
      "\n",
      "  survey1_question4_response:\n",
      "    Start date:           2025-04-24\n",
      "    End of expected 16d:  2025-05-09\n",
      "    Expected days count:  16\n",
      "    Completed days count: 15\n",
      "    Missed days count:    1\n",
      "    Missed dates:\n",
      "       2025-05-02\n",
      "\n",
      "  survey2_question1_response:\n",
      "    Start date:           2025-04-24\n",
      "    End of expected 16d:  2025-05-09\n",
      "    Expected days count:  16\n",
      "    Completed days count: 14\n",
      "    Missed days count:    2\n",
      "    Missed dates:\n",
      "       2025-05-01\n",
      "       2025-05-02\n",
      "\n",
      "  survey2_question2_response:\n",
      "    Start date:           2025-04-24\n",
      "    End of expected 16d:  2025-05-09\n",
      "    Expected days count:  16\n",
      "    Completed days count: 14\n",
      "    Missed days count:    2\n",
      "    Missed dates:\n",
      "       2025-05-01\n",
      "       2025-05-02\n"
     ]
    }
   ],
   "source": [
    "df_mea['measurement_time'] = pd.to_datetime(df_mea['measurement_time'])\n",
    "\n",
    "df_mea.columns = df_mea.columns.str.strip()\n",
    "df_mea['measurement_name'] = df_mea['measurement_name'].str.strip()\n",
    "\n",
    "measurement_names = [\n",
    "    'Outcome',\n",
    "    'Mediators',\n",
    "    'survey1_question1_response',\n",
    "    'survey1_question2_response',\n",
    "    'survey1_question3_response',\n",
    "    'survey1_question4_response',\n",
    "    'survey2_question1_response',\n",
    "    'survey2_question2_response'\n",
    "]\n",
    "\n",
    "results = {}\n",
    "\n",
    "for pid in df_mea['participant_id'].unique():\n",
    "    results[pid] = {}\n",
    "    df_part = df_mea[df_mea['participant_id'] == pid]\n",
    "    \n",
    "    for name in measurement_names:\n",
    "        if name in ['Outcome', 'Mediators']:\n",
    "            sub = df_part[df_part['measurement_name'] == name].copy()\n",
    "        else:\n",
    "            if name not in df_part.columns:\n",
    "                sub = pd.DataFrame()\n",
    "            else:\n",
    "                sub = df_part[df_part[name].notna()].copy()\n",
    "        \n",
    "        if sub.empty:\n",
    "            results[pid][name] = None\n",
    "            continue\n",
    "\n",
    "        sub['date'] = sub['measurement_time'].dt.date\n",
    "\n",
    "        start_date = sub['date'].min()\n",
    "\n",
    "        expected_dates = pd.date_range(start_date, periods=16, freq='D').date\n",
    "\n",
    "        done_dates = set(sub['date']) & set(expected_dates)\n",
    "\n",
    "        missed_dates = sorted(set(expected_dates) - done_dates)\n",
    "\n",
    "        results[pid][name] = {\n",
    "            'start_date': start_date,\n",
    "            'end_expected': expected_dates[-1],\n",
    "            'expected_days': len(expected_dates),      \n",
    "            'completed_days': len(done_dates),\n",
    "            'missed_days_count': len(missed_dates),\n",
    "            'missed_dates': missed_dates\n",
    "        }\n",
    "\n",
    "for pid, measures in results.items():\n",
    "    print(f\"\\n--- Participant {pid} ---\")\n",
    "    for name, stats in measures.items():\n",
    "        if stats is None:\n",
    "            print(f\"{name}: no data\")\n",
    "            continue\n",
    "        print(f\"\\n  {name}:\")\n",
    "        print(f\"    Start date:           {stats['start_date']}\")\n",
    "        print(f\"    End of expected 16d:  {stats['end_expected']}\")\n",
    "        print(f\"    Expected days count:  {stats['expected_days']}\")\n",
    "        print(f\"    Completed days count: {stats['completed_days']}\")\n",
    "        print(f\"    Missed days count:    {stats['missed_days_count']}\")\n",
    "        if stats['missed_dates']:\n",
    "            print(\"    Missed dates:\")\n",
    "            for d in stats['missed_dates']:\n",
    "                print(\"      \", d)"
   ]
  },
  {
   "cell_type": "markdown",
   "id": "6a58a488",
   "metadata": {},
   "source": [
    "#### Missing Values for Confirmations between 08.00 - 21.00"
   ]
  },
  {
   "cell_type": "code",
   "execution_count": 14,
   "id": "6d5e0197",
   "metadata": {},
   "outputs": [
    {
     "name": "stdout",
     "output_type": "stream",
     "text": [
      "All 16 days have participation confirmations; no missing days found.\n"
     ]
    }
   ],
   "source": [
    "df_intervention['intervention_task_time'] = pd.to_datetime(\n",
    "    df_intervention['intervention_task_time'],\n",
    "    errors='coerce'\n",
    ")\n",
    "\n",
    "df_intervention['date'] = df_intervention['intervention_task_time'].dt.date\n",
    "\n",
    "start_date = df_intervention['date'].min()\n",
    "full_range = pd.date_range(start=start_date, periods=16, freq='D').date\n",
    "\n",
    "full_df = pd.DataFrame({'date': full_range})\n",
    "merged = full_df.merge(\n",
    "    df_intervention[['date', 'intervention_task_name']],\n",
    "    on='date',\n",
    "    how='left'\n",
    ")\n",
    "\n",
    "missing_days = merged[merged['intervention_task_name'].isna()]\n",
    "\n",
    "if missing_days.empty:\n",
    "    print(\"All 16 days have participation confirmations; no missing days found.\")\n",
    "else:\n",
    "    print(\"Missing participation days and their corresponding task names:\")\n",
    "    print(missing_days)"
   ]
  },
  {
   "cell_type": "markdown",
   "id": "da3e431a",
   "metadata": {},
   "source": [
    "#### Summary Statistics"
   ]
  },
  {
   "cell_type": "code",
   "execution_count": 15,
   "id": "0cac7a9e",
   "metadata": {},
   "outputs": [
    {
     "name": "stdout",
     "output_type": "stream",
     "text": [
      "Sleep Data Summary Statistics\n",
      "       current_day_of_study  survey1_question1_response  \\\n",
      "count             15.000000                   15.000000   \n",
      "mean               7.466667                    4.333333   \n",
      "std                4.926121                    1.838737   \n",
      "min                0.000000                    2.000000   \n",
      "25%                3.500000                    3.000000   \n",
      "50%                7.000000                    4.000000   \n",
      "75%               11.500000                    6.000000   \n",
      "max               15.000000                    8.000000   \n",
      "\n",
      "       survey1_question2_response  survey1_question3_response  \\\n",
      "count                   15.000000                   15.000000   \n",
      "mean                     3.733333                    3.933333   \n",
      "std                      1.667619                    2.939064   \n",
      "min                      2.000000                    1.000000   \n",
      "25%                      3.000000                    1.000000   \n",
      "50%                      3.000000                    5.000000   \n",
      "75%                      4.500000                    6.000000   \n",
      "max                      8.000000                    8.000000   \n",
      "\n",
      "       survey1_question4_response  survey2_question1_response  \\\n",
      "count                   15.000000                         0.0   \n",
      "mean                     3.066667                         NaN   \n",
      "std                      2.520393                         NaN   \n",
      "min                      1.000000                         NaN   \n",
      "25%                      1.000000                         NaN   \n",
      "50%                      1.000000                         NaN   \n",
      "75%                      4.500000                         NaN   \n",
      "max                      8.000000                         NaN   \n",
      "\n",
      "       survey2_question2_response  \n",
      "count                         0.0  \n",
      "mean                          NaN  \n",
      "std                           NaN  \n",
      "min                           NaN  \n",
      "25%                           NaN  \n",
      "50%                           NaN  \n",
      "75%                           NaN  \n",
      "max                           NaN  \n"
     ]
    }
   ],
   "source": [
    "print(\"Sleep Data Summary Statistics\")\n",
    "summary_stats = df_mea_o.describe()\n",
    "print(summary_stats)"
   ]
  },
  {
   "cell_type": "code",
   "execution_count": 16,
   "id": "b11b6825",
   "metadata": {},
   "outputs": [
    {
     "name": "stdout",
     "output_type": "stream",
     "text": [
      "<class 'pandas.core.frame.DataFrame'>\n",
      "Index: 15 entries, 28 to 1\n",
      "Data columns (total 11 columns):\n",
      " #   Column                      Non-Null Count  Dtype              \n",
      "---  ------                      --------------  -----              \n",
      " 0   measurement_time            15 non-null     datetime64[ns, UTC]\n",
      " 1   measurement_name            15 non-null     object             \n",
      " 2   participant_id              15 non-null     object             \n",
      " 3   current_day_of_study        15 non-null     int64              \n",
      " 4   current_intervention_name   15 non-null     object             \n",
      " 5   survey1_question1_response  15 non-null     float64            \n",
      " 6   survey1_question2_response  15 non-null     float64            \n",
      " 7   survey1_question3_response  15 non-null     float64            \n",
      " 8   survey1_question4_response  15 non-null     float64            \n",
      " 9   survey2_question1_response  0 non-null      float64            \n",
      " 10  survey2_question2_response  0 non-null      float64            \n",
      "dtypes: datetime64[ns, UTC](1), float64(6), int64(1), object(3)\n",
      "memory usage: 1.4+ KB\n"
     ]
    }
   ],
   "source": [
    "df_mea_o.info()"
   ]
  },
  {
   "cell_type": "markdown",
   "id": "2f0233aa",
   "metadata": {},
   "source": [
    "#### Data Visualization and Distributions"
   ]
  },
  {
   "cell_type": "code",
   "execution_count": 17,
   "id": "dc36b946",
   "metadata": {},
   "outputs": [
    {
     "data": {
      "image/png": "[encoded data removed]",
      "text/plain": [
       "<Figure size 1000x400 with 2 Axes>"
      ]
     },
     "metadata": {},
     "output_type": "display_data"
    },
    {
     "data": {
      "image/png": "[encoded data removed]",
      "text/plain": [
       "<Figure size 1000x400 with 2 Axes>"
      ]
     },
     "metadata": {},
     "output_type": "display_data"
    }
   ],
   "source": [
    "columns = [\n",
    "    'survey1_question1_response',\n",
    "    'survey1_question2_response']\n",
    "\n",
    "for column in columns:\n",
    "    plt.figure(figsize=(10, 4))\n",
    "\n",
    "    plt.subplot(1, 2, 1)\n",
    "    sns.histplot(df_mea_o[column].dropna(), bins=15, kde=True)\n",
    "    plt.title(f\"Distribution of {column}\")\n",
    "    plt.xlabel(column)\n",
    "    plt.ylabel(\"Frequency\")\n",
    "\n",
    "    plt.subplot(1, 2, 2)\n",
    "    sns.boxplot(y=df_mea_o[column].dropna())\n",
    "    plt.title(f\"Box Plot of {column}\")\n",
    "    plt.ylabel(column)\n",
    "\n",
    "    plt.tight_layout()\n",
    "    plt.show()"
   ]
  },
  {
   "cell_type": "markdown",
   "id": "4f06bfc0",
   "metadata": {},
   "source": [
    "#### Line Plot"
   ]
  },
  {
   "cell_type": "code",
   "execution_count": 18,
   "id": "6b14fe72",
   "metadata": {},
   "outputs": [
    {
     "data": {
      "image/png": "[encoded data removed]",
      "text/plain": [
       "<Figure size 1000x600 with 1 Axes>"
      ]
     },
     "metadata": {},
     "output_type": "display_data"
    }
   ],
   "source": [
    "grouped_data = df_mea_o.groupby(\"participant_id\")\n",
    "\n",
    "plt.figure(figsize=(10, 6)) \n",
    "\n",
    "for participant_id, group in grouped_data:\n",
    "    plt.plot(group['current_day_of_study'], group['survey1_question1_response'], label=f'Participant {participant_id}')\n",
    "\n",
    "plt.xlabel('Current Day of Study')\n",
    "plt.ylabel('Day Stress Level')\n",
    "plt.title('Stress Level Over Time for Different Participants in Outcome Dataset')\n",
    "\n",
    "plt.legend()\n",
    "plt.show()"
   ]
  },
  {
   "cell_type": "markdown",
   "id": "17c853ed",
   "metadata": {},
   "source": [
    "#### Scatterplot"
   ]
  },
  {
   "cell_type": "code",
   "execution_count": 19,
   "id": "388e8a55",
   "metadata": {},
   "outputs": [
    {
     "data": {
      "text/plain": [
       "<matplotlib.legend.Legend at 0x19c028437d0>"
      ]
     },
     "execution_count": 19,
     "metadata": {},
     "output_type": "execute_result"
    },
    {
     "data": {
      "image/png": "[encoded data removed]",
      "text/plain": [
       "<Figure size 1000x500 with 1 Axes>"
      ]
     },
     "metadata": {},
     "output_type": "display_data"
    }
   ],
   "source": [
    "x = 'current_day_of_study'\n",
    "y = 'survey1_question1_response'\n",
    "\n",
    "participant_list= list(df_mea_o.participant_id.unique())\n",
    "fig, axs = plt.subplots(len(participant_list), figsize=(10, 5 * len(participant_list)))\n",
    "\n",
    "if len(participant_list) == 1:\n",
    "    axs = [axs]\n",
    "\n",
    "for i in range(len(participant_list)):\n",
    "    legend = True if i == len(participant_list)-1 else False\n",
    "    sns.scatterplot(\n",
    "        data=df_mea_o[df_mea_o[\"participant_id\"] == participant_list[i]],\n",
    "        x=x, y=y, hue='current_intervention_name',\n",
    "        ax=axs[i], legend=legend\n",
    "    )\n",
    "\n",
    "axs[-1].legend(loc='upper center', bbox_to_anchor=(0.5, -0.5))\n"
   ]
  },
  {
   "cell_type": "markdown",
   "id": "a68b3f7e",
   "metadata": {},
   "source": [
    "#### Correlations"
   ]
  },
  {
   "cell_type": "code",
   "execution_count": 20,
   "id": "d8ae5bf4",
   "metadata": {},
   "outputs": [
    {
     "data": {
      "image/png": "[encoded data removed]",
      "text/plain": [
       "<Figure size 1500x500 with 6 Axes>"
      ]
     },
     "metadata": {},
     "output_type": "display_data"
    }
   ],
   "source": [
    "columns_to_include = [\n",
    "    'survey1_question1_response',\n",
    "    'survey1_question2_response',\n",
    "    'survey1_question3_response',\n",
    "    'survey1_question4_response']\n",
    "\n",
    "correlation_pearson = df_mea_all[columns_to_include].corr(method='pearson')\n",
    "correlation_kendall = df_mea_all[columns_to_include].corr(method='kendall')\n",
    "correlation_spearman = df_mea_all[columns_to_include].corr(method='spearman')\n",
    "\n",
    "fig, axes = plt.subplots(1, 3, figsize=(15, 5))\n",
    "\n",
    "sns.heatmap(correlation_pearson, vmin=-1, vmax=1, annot=True, cmap='BrBG',ax=axes[0], center=0)\n",
    "axes[0].set_title('Pearson Correlation')\n",
    "\n",
    "sns.heatmap(correlation_kendall, annot=True, cmap='coolwarm', ax=axes[1])\n",
    "axes[1].set_title('Kendall Correlation')\n",
    "\n",
    "sns.heatmap(correlation_spearman, annot=True, cmap='coolwarm', ax=axes[2])\n",
    "axes[2].set_title('Spearman Correlation')\n",
    "\n",
    "plt.tight_layout()\n",
    "plt.show()"
   ]
  },
  {
   "cell_type": "markdown",
   "id": "2de3f1fd",
   "metadata": {},
   "source": [
    "## Baseline Study: Reading books! vs Not Reading books!"
   ]
  },
  {
   "cell_type": "markdown",
   "id": "92949b72",
   "metadata": {},
   "source": [
    "  - Baseline Studies  \n",
    "    - Examination of Outcomes   \n",
    "    - Linear Regression  \n",
    "      - Ordinary Least Squares (OLS) Regression  \n",
    "      - Linear Regression with Autoregressive Errors \n",
    "      - Bayesian linear regression models\n",
    "        - Bayesian AR(1) Model of Daily Stress Response to Intervention and Mediators\n",
    "        - Bayesian AR(1) Regression with Data-Driven Scale (MAD-Based)\n",
    "        - Bayesian AR(1) Regression with Consecutive‐Day Adjustment\n",
    "        - Bayesian AR(1) Model of Daily Stress Response to Intervention and Mediators - Mean Imputation Method\n",
    "        - Bayesian AR(1) Model of Daily Stress Response to Intervention and Mediators - Latent Variable Method"
   ]
  },
  {
   "cell_type": "markdown",
   "id": "3aba5356",
   "metadata": {},
   "source": [
    "#### Examination of Outcomes: Today Stress Level"
   ]
  },
  {
   "cell_type": "code",
   "execution_count": 21,
   "id": "652e9928",
   "metadata": {},
   "outputs": [
    {
     "name": "stdout",
     "output_type": "stream",
     "text": [
      "Reading book:          n = 8, std = 1.46, mean = 3.88\n",
      "Not reading book:      n = 7, std = 2.19, mean = 4.86\n",
      "\n"
     ]
    }
   ],
   "source": [
    "df_mea_o = df_mea_o[\n",
    "    (df_mea_o['measurement_name'] == 'Outcome') &\n",
    "    df_mea_o['survey1_question1_response'].notna() &\n",
    "    df_mea_o['current_intervention_name'].isin([\n",
    "        \"Reading books!\",\n",
    "        \"Not reading books!\"\n",
    "    ])\n",
    "]\n",
    "\n",
    "reading = df_mea_o.loc[\n",
    "    df_mea_o['current_intervention_name'] == \"Reading books!\",\n",
    "    'survey1_question1_response'\n",
    "]\n",
    "avoid_reading = df_mea_o.loc[\n",
    "    df_mea_o['current_intervention_name'] == \"Not reading books!\",\n",
    "    'survey1_question1_response'\n",
    "]\n",
    "\n",
    "n_reading         = reading.count()\n",
    "n_avoid_reading   = avoid_reading.count()\n",
    "std_reading       = reading.std(ddof=1)\n",
    "std_avoid_reading = avoid_reading.std(ddof=1)\n",
    "\n",
    "print(f\"Reading book:          n = {n_reading}, std = {std_reading:.2f}, mean = {reading.mean():.2f}\")\n",
    "print(f\"Not reading book:      n = {n_avoid_reading}, std = {std_avoid_reading:.2f}, mean = {avoid_reading.mean():.2f}\\n\")"
   ]
  },
  {
   "cell_type": "markdown",
   "id": "0d5bf693",
   "metadata": {},
   "source": [
    "#### Examination of Outcomes: Prediction of Tomorrow Stress"
   ]
  },
  {
   "cell_type": "code",
   "execution_count": 22,
   "id": "b3aad0f4",
   "metadata": {},
   "outputs": [
    {
     "name": "stdout",
     "output_type": "stream",
     "text": [
      "Reading book:          n = 8, std = 1.07, mean = 3.00\n",
      "Not reading book:      n = 7, std = 1.90, mean = 4.57\n",
      "\n"
     ]
    }
   ],
   "source": [
    "df_mea_o = df_mea_o[\n",
    "    (df_mea_o['measurement_name'] == 'Outcome') &\n",
    "    df_mea_o['survey1_question2_response'].notna() &\n",
    "    df_mea_o['current_intervention_name'].isin([\n",
    "        \"Reading books!\",\n",
    "        \"Not reading books!\"\n",
    "    ])\n",
    "]\n",
    "\n",
    "reading = df_mea_o.loc[\n",
    "    df_mea_o['current_intervention_name'] == \"Reading books!\",\n",
    "    'survey1_question2_response'\n",
    "]\n",
    "avoid_reading = df_mea_o.loc[\n",
    "    df_mea_o['current_intervention_name'] == \"Not reading books!\",\n",
    "    'survey1_question2_response'\n",
    "]\n",
    "\n",
    "n_reading         = reading.count()\n",
    "n_avoid_reading   = avoid_reading.count()\n",
    "std_reading       = reading.std(ddof=1)\n",
    "std_avoid_reading = avoid_reading.std(ddof=1)\n",
    "\n",
    "print(f\"Reading book:          n = {n_reading}, std = {std_reading:.2f}, mean = {reading.mean():.2f}\")\n",
    "print(f\"Not reading book:      n = {n_avoid_reading}, std = {std_avoid_reading:.2f}, mean = {avoid_reading.mean():.2f}\\n\")\n"
   ]
  },
  {
   "cell_type": "markdown",
   "id": "c69c701e",
   "metadata": {},
   "source": [
    "#### Examination of Outcomes: Mean Stress-Relief Score for Reading a Book (Q3)\n",
    "The average score for Question 3 (survey1_question3_response), which assesses how much reading a book alleviated participants’ stress on days they performed."
   ]
  },
  {
   "cell_type": "code",
   "execution_count": 23,
   "id": "86d52440",
   "metadata": {},
   "outputs": [
    {
     "data": {
      "text/plain": [
       "\"Did your miracle stress-shrinking method (<i>reading a book</i>) help you feel like a calm, happy puppy or was it more like trying to train a cat to do your taxes? <b>(1 = Not helpful at all to 10 = I'm practically levitating with calmness) <i>(Answer ONLY if you have read a book!)</i></b>\\n\""
      ]
     },
     "execution_count": 23,
     "metadata": {},
     "output_type": "execute_result"
    }
   ],
   "source": [
    "df_mea.survey1_question3_text[0]"
   ]
  },
  {
   "cell_type": "code",
   "execution_count": 24,
   "id": "d5ae17a1",
   "metadata": {},
   "outputs": [
    {
     "data": {
      "text/plain": [
       "6.5"
      ]
     },
     "execution_count": 24,
     "metadata": {},
     "output_type": "execute_result"
    }
   ],
   "source": [
    "# \"Did your miracle stress-shrinking method (reading a book) help you feel like a calm, happy puppy or was it more like trying to train a cat to do your taxes? <b>(1 = Not helpful at all to 10 = I'm practically levitating with calmness) (Answer ONLY if you have read a book!)\"\n",
    "mean_q3_reading = df_mea_o.loc[\n",
    "    df_mea_o['current_intervention_name'] == \"Reading books!\",\n",
    "    'survey1_question3_response'\n",
    "].mean()\n",
    "mean_q3_reading.item()\n"
   ]
  },
  {
   "cell_type": "markdown",
   "id": "22bc7c45",
   "metadata": {},
   "source": [
    "**Mean Self-Improvement Score for Reading the book (Q3): 6.5:**\n",
    "Participant who read a book reported an average score of 6.5 out of 10 for how much it helped them feel calm and happy, indicating a moderate improvement in his self-perception."
   ]
  },
  {
   "cell_type": "markdown",
   "id": "3b373480",
   "metadata": {},
   "source": [
    "#### Examination of Outcomes: Mean Stress-Management Difficulty Without Reading a Book (Q4)\n",
    "The average score for Question 4 (survey1_question4_response), which measures participants’ difficulty in managing stress on days they did not read a book."
   ]
  },
  {
   "cell_type": "code",
   "execution_count": 25,
   "id": "f3967af8",
   "metadata": {},
   "outputs": [
    {
     "data": {
      "text/plain": [
       "\"When you skipped the method (<i>not reading a book</i>) today, did managing stress feel more like “breezing through a sunny park” or “juggling flaming torches while riding a unicycle on a tightrope over a pit of snapping crocodiles”?  <b>(1 = Easy breezy to 10 = Send help, I'm barely holding it together!) <i>(Answer ONLY if you have NOT read the book!)</i></b>\\n\""
      ]
     },
     "execution_count": 25,
     "metadata": {},
     "output_type": "execute_result"
    }
   ],
   "source": [
    "df_mea.survey1_question4_text[0]"
   ]
  },
  {
   "cell_type": "code",
   "execution_count": 26,
   "id": "c77d9a25",
   "metadata": {},
   "outputs": [
    {
     "data": {
      "text/plain": [
       "5.428571428571429"
      ]
     },
     "execution_count": 26,
     "metadata": {},
     "output_type": "execute_result"
    }
   ],
   "source": [
    "# When you skipped the method (not reading a book) today, did managing stress feel more like “breezing through a sunny park” or “juggling flaming torches while riding a unicycle on a tightrope over a pit of snapping crocodiles”? (1 = Easy breezy to 10 = Send help, I'm barely holding it together!) (Answer ONLY if you have NOT read the book!)\n",
    "mean_q4_no_reading = df_mea_o.loc[\n",
    "    df_mea_o['current_intervention_name'] == \"Not reading books!\",\n",
    "    'survey1_question4_response'\n",
    "].mean()\n",
    "mean_q4_no_reading.item()\n"
   ]
  },
  {
   "cell_type": "markdown",
   "id": "dc268cc7",
   "metadata": {},
   "source": [
    "**Mean Stress Management Difficulty Score When Not Reading (Q4): 5.43:**\n",
    "Participant reported an average difficulty rating of 5.43 out of 10 for managing stress during periods when he did not read books, indicating a moderate level of challenge."
   ]
  },
  {
   "cell_type": "markdown",
   "id": "4da54a73",
   "metadata": {},
   "source": [
    "### Estimating treatment effect using Linear Regression with Autoregressive errors"
   ]
  },
  {
   "cell_type": "code",
   "execution_count": 27,
   "id": "1228e91c",
   "metadata": {},
   "outputs": [
    {
     "name": "stdout",
     "output_type": "stream",
     "text": [
      "OLS Regression Results:\n",
      "                                OLS Regression Results                                \n",
      "======================================================================================\n",
      "Dep. Variable:     survey1_question1_response   R-squared:                       0.076\n",
      "Model:                                    OLS   Adj. R-squared:                  0.005\n",
      "Method:                         Least Squares   F-statistic:                     1.071\n",
      "Date:                        Wed, 13 Aug 2025   Prob (F-statistic):              0.320\n",
      "Time:                                21:59:00   Log-Likelihood:                -29.309\n",
      "No. Observations:                          15   AIC:                             62.62\n",
      "Df Residuals:                              13   BIC:                             64.03\n",
      "Df Model:                                   1                                         \n",
      "Covariance Type:                    nonrobust                                         \n",
      "==============================================================================\n",
      "                 coef    std err          t      P>|t|      [0.025      0.975]\n",
      "------------------------------------------------------------------------------\n",
      "const          4.8571      0.693      7.007      0.000       3.360       6.355\n",
      "D             -0.9821      0.949     -1.035      0.320      -3.033       1.069\n",
      "==============================================================================\n",
      "Omnibus:                        1.092   Durbin-Watson:                   2.221\n",
      "Prob(Omnibus):                  0.579   Jarque-Bera (JB):                0.843\n",
      "Skew:                           0.294   Prob(JB):                        0.656\n",
      "Kurtosis:                       1.999   Cond. No.                         2.70\n",
      "==============================================================================\n",
      "\n",
      "Notes:\n",
      "[1] Standard Errors assume that the covariance matrix of the errors is correctly specified.\n",
      "Durbin–Watson statistic (OLS residuals): 2.221\n",
      "\n"
     ]
    },
    {
     "name": "stderr",
     "output_type": "stream",
     "text": [
      "c:\\Users\\USER\\AppData\\Local\\r-miniconda\\Lib\\site-packages\\scipy\\stats\\_axis_nan_policy.py:430: UserWarning: `kurtosistest` p-value may be inaccurate with fewer than 20 observations; only n=15 observations were given.\n",
      "  return hypotest_fun_in(*args, **kwds)\n"
     ]
    }
   ],
   "source": [
    "df_mea_o = df_mea_o[\n",
    "    (df_mea_o['measurement_name'] == 'Outcome') &\n",
    "    df_mea_o['survey1_question1_response'].notna() &\n",
    "    df_mea_o['current_intervention_name'].isin([\"Reading books!\", \"Not reading books!\"])\n",
    "]\n",
    "\n",
    "df_mea_o = df_mea_o.sort_values('measurement_time')\n",
    "\n",
    "y = df_mea_o['survey1_question1_response']\n",
    "df_mea_o['D'] = (df_mea_o['current_intervention_name'] == \"Reading books!\").astype(int)\n",
    "X = sm.add_constant(df_mea_o['D'])\n",
    "\n",
    "ols_res = sm.OLS(y, X).fit()\n",
    "dw_ols = durbin_watson(ols_res.resid)\n",
    "\n",
    "print(\"OLS Regression Results:\")\n",
    "print(ols_res.summary())\n",
    "print(f\"Durbin–Watson statistic (OLS residuals): {dw_ols:.3f}\\n\")"
   ]
  },
  {
   "cell_type": "code",
   "execution_count": 28,
   "id": "57fe6caa",
   "metadata": {},
   "outputs": [
    {
     "name": "stdout",
     "output_type": "stream",
     "text": [
      "GLSAR Regression Results (AR(1) error structure):\n",
      "                               GLSAR Regression Results                               \n",
      "======================================================================================\n",
      "Dep. Variable:     survey1_question1_response   R-squared:                       0.051\n",
      "Model:                                  GLSAR   Adj. R-squared:                 -0.028\n",
      "Method:                         Least Squares   F-statistic:                    0.6430\n",
      "Date:                        Wed, 13 Aug 2025   Prob (F-statistic):              0.438\n",
      "Time:                                21:59:00   Log-Likelihood:                -27.435\n",
      "No. Observations:                          14   AIC:                             58.87\n",
      "Df Residuals:                              12   BIC:                             60.15\n",
      "Df Model:                                   1                                         \n",
      "Covariance Type:                    nonrobust                                         \n",
      "==============================================================================\n",
      "                 coef    std err          t      P>|t|      [0.025      0.975]\n",
      "------------------------------------------------------------------------------\n",
      "const          4.7867      0.599      7.990      0.000       3.481       6.092\n",
      "D             -0.6931      0.864     -0.802      0.438      -2.576       1.190\n",
      "==============================================================================\n",
      "Omnibus:                        0.857   Durbin-Watson:                   1.970\n",
      "Prob(Omnibus):                  0.651   Jarque-Bera (JB):                0.734\n",
      "Skew:                           0.278   Prob(JB):                        0.693\n",
      "Kurtosis:                       2.025   Cond. No.                         2.72\n",
      "==============================================================================\n",
      "\n",
      "Notes:\n",
      "[1] Standard Errors assume that the covariance matrix of the errors is correctly specified.\n",
      "Estimated AR(1) coefficient (rho): -0.195\n",
      "Durbin–Watson statistic (GLSAR residuals): 2.243\n"
     ]
    },
    {
     "name": "stderr",
     "output_type": "stream",
     "text": [
      "c:\\Users\\USER\\AppData\\Local\\r-miniconda\\Lib\\site-packages\\scipy\\stats\\_axis_nan_policy.py:430: UserWarning: `kurtosistest` p-value may be inaccurate with fewer than 20 observations; only n=14 observations were given.\n",
      "  return hypotest_fun_in(*args, **kwds)\n"
     ]
    }
   ],
   "source": [
    "# GLSAR Regression with AR(1) errors (Feasible GLS) \n",
    "glsar = sm.GLSAR(y, X, rho=1)\n",
    "glsar_res = glsar.iterative_fit(maxiter=10)\n",
    "dw_glsar = durbin_watson(glsar_res.resid)\n",
    "\n",
    "print(\"GLSAR Regression Results (AR(1) error structure):\")\n",
    "print(glsar_res.summary())\n",
    "print(f\"Estimated AR(1) coefficient (rho): {glsar.rho[0]:.3f}\")\n",
    "print(f\"Durbin–Watson statistic (GLSAR residuals): {dw_glsar:.3f}\")"
   ]
  },
  {
   "cell_type": "markdown",
   "id": "76fae656",
   "metadata": {},
   "source": [
    "#### Bayesian AR(1) Model of Daily Stress Response to Reading Books and Mediators"
   ]
  },
  {
   "cell_type": "code",
   "execution_count": 29,
   "id": "24d456bb",
   "metadata": {},
   "outputs": [
    {
     "name": "stdout",
     "output_type": "stream",
     "text": [
      "Model result with neither fac1 nor fac2 (intervention only):\n"
     ]
    },
    {
     "name": "stderr",
     "output_type": "stream",
     "text": [
      "Initializing NUTS using jitter+adapt_diag...\n",
      "c:\\Users\\USER\\AppData\\Local\\r-miniconda\\Lib\\site-packages\\pytensor\\tensor\\rewriting\\elemwise.py:954: UserWarning: Loop fusion failed because the resulting node would exceed the kernel argument limit.\n",
      "  warn(\n",
      "Multiprocess sampling (2 chains in 2 jobs)\n",
      "NUTS: [beta0, beta_int, rho, sigma]\n"
     ]
    },
    {
     "data": {
      "text/html": [
       "<pre style=\"white-space:pre;overflow-x:auto;line-height:normal;font-family:Menlo,'DejaVu Sans Mono',consolas,'Courier New',monospace\">c:\\Users\\USER\\AppData\\Local\\r-miniconda\\Lib\\site-packages\\rich\\live.py:231: UserWarning: install \"ipywidgets\" for \n",
       "Jupyter support\n",
       "  warnings.warn('install \"ipywidgets\" for Jupyter support')\n",
       "</pre>\n"
      ],
      "text/plain": [
       "c:\\Users\\USER\\AppData\\Local\\r-miniconda\\Lib\\site-packages\\rich\\live.py:231: UserWarning: install \"ipywidgets\" for \n",
       "Jupyter support\n",
       "  warnings.warn('install \"ipywidgets\" for Jupyter support')\n"
      ]
     },
     "metadata": {},
     "output_type": "display_data"
    },
    {
     "data": {
      "text/html": [
       "<pre style=\"white-space:pre;overflow-x:auto;line-height:normal;font-family:Menlo,'DejaVu Sans Mono',consolas,'Courier New',monospace\"></pre>\n"
      ],
      "text/plain": []
     },
     "metadata": {},
     "output_type": "display_data"
    },
    {
     "name": "stderr",
     "output_type": "stream",
     "text": [
      "Sampling 2 chains for 500 tune and 500 draw iterations (1_000 + 1_000 draws total) took 79 seconds.\n",
      "We recommend running at least 4 chains for robust computation of convergence diagnostics\n"
     ]
    },
    {
     "name": "stdout",
     "output_type": "stream",
     "text": [
      "           mean     sd  hdi_2.5%  hdi_97.5%  mcse_mean  mcse_sd  ess_bulk  \\\n",
      "beta_int -0.535  0.692    -1.870      0.789      0.028    0.020     601.0   \n",
      "rho      -0.088  0.293    -0.715      0.466      0.013    0.016     534.0   \n",
      "sigma     1.781  0.319     1.158      2.391      0.014    0.012     571.0   \n",
      "\n",
      "          ess_tail  r_hat  \n",
      "beta_int     617.0   1.00  \n",
      "rho          302.0   1.01  \n",
      "sigma        569.0   1.01  \n",
      "P(beta_int ≤ –0.5) = 51.10%\n",
      "P(–0.5 < beta_int < 0) = 27.10%\n",
      "P(beta_int ≥ 0) = 21.80%\n",
      "P(Stress reduction of reading books ≥ 0.5) = 51.10%\n",
      "\n",
      "Model result with only fac1:\n"
     ]
    },
    {
     "name": "stderr",
     "output_type": "stream",
     "text": [
      "Initializing NUTS using jitter+adapt_diag...\n",
      "c:\\Users\\USER\\AppData\\Local\\r-miniconda\\Lib\\site-packages\\pytensor\\tensor\\rewriting\\elemwise.py:954: UserWarning: Loop fusion failed because the resulting node would exceed the kernel argument limit.\n",
      "  warn(\n",
      "Multiprocess sampling (2 chains in 2 jobs)\n",
      "NUTS: [beta0, beta_int, beta_f1, rho, sigma]\n"
     ]
    },
    {
     "data": {
      "text/html": [
       "<pre style=\"white-space:pre;overflow-x:auto;line-height:normal;font-family:Menlo,'DejaVu Sans Mono',consolas,'Courier New',monospace\">c:\\Users\\USER\\AppData\\Local\\r-miniconda\\Lib\\site-packages\\rich\\live.py:231: UserWarning: install \"ipywidgets\" for \n",
       "Jupyter support\n",
       "  warnings.warn('install \"ipywidgets\" for Jupyter support')\n",
       "</pre>\n"
      ],
      "text/plain": [
       "c:\\Users\\USER\\AppData\\Local\\r-miniconda\\Lib\\site-packages\\rich\\live.py:231: UserWarning: install \"ipywidgets\" for \n",
       "Jupyter support\n",
       "  warnings.warn('install \"ipywidgets\" for Jupyter support')\n"
      ]
     },
     "metadata": {},
     "output_type": "display_data"
    },
    {
     "data": {
      "text/html": [
       "<pre style=\"white-space:pre;overflow-x:auto;line-height:normal;font-family:Menlo,'DejaVu Sans Mono',consolas,'Courier New',monospace\"></pre>\n"
      ],
      "text/plain": []
     },
     "metadata": {},
     "output_type": "display_data"
    },
    {
     "name": "stderr",
     "output_type": "stream",
     "text": [
      "Sampling 2 chains for 500 tune and 500 draw iterations (1_000 + 1_000 draws total) took 156 seconds.\n",
      "We recommend running at least 4 chains for robust computation of convergence diagnostics\n"
     ]
    },
    {
     "name": "stdout",
     "output_type": "stream",
     "text": [
      "           mean     sd  hdi_2.5%  hdi_97.5%  mcse_mean  mcse_sd  ess_bulk  \\\n",
      "beta_int -0.567  0.648    -1.788      0.723      0.025    0.028     647.0   \n",
      "beta_f1   0.528  0.222     0.120      1.000      0.011    0.008     417.0   \n",
      "rho      -0.094  0.317    -0.695      0.518      0.012    0.012     725.0   \n",
      "sigma     1.477  0.286     0.944      2.024      0.012    0.011     560.0   \n",
      "\n",
      "          ess_tail  r_hat  \n",
      "beta_int     628.0   1.00  \n",
      "beta_f1      412.0   1.00  \n",
      "rho          398.0   1.01  \n",
      "sigma        568.0   1.00  \n",
      "P(beta_int ≤ –0.5) = 53.90%\n",
      "P(–0.5 < beta_int < 0) = 27.60%\n",
      "P(beta_int ≥ 0) = 18.50%\n",
      "P(Stress reduction of reading books ≥ 0.5) = 53.90%\n",
      "\n",
      "Model result with only fac2:\n"
     ]
    },
    {
     "name": "stderr",
     "output_type": "stream",
     "text": [
      "Initializing NUTS using jitter+adapt_diag...\n",
      "c:\\Users\\USER\\AppData\\Local\\r-miniconda\\Lib\\site-packages\\pytensor\\tensor\\rewriting\\elemwise.py:954: UserWarning: Loop fusion failed because the resulting node would exceed the kernel argument limit.\n",
      "  warn(\n",
      "Multiprocess sampling (2 chains in 2 jobs)\n",
      "NUTS: [beta0, beta_int, beta_f2, rho, sigma]\n"
     ]
    },
    {
     "data": {
      "text/html": [
       "<pre style=\"white-space:pre;overflow-x:auto;line-height:normal;font-family:Menlo,'DejaVu Sans Mono',consolas,'Courier New',monospace\">c:\\Users\\USER\\AppData\\Local\\r-miniconda\\Lib\\site-packages\\rich\\live.py:231: UserWarning: install \"ipywidgets\" for \n",
       "Jupyter support\n",
       "  warnings.warn('install \"ipywidgets\" for Jupyter support')\n",
       "</pre>\n"
      ],
      "text/plain": [
       "c:\\Users\\USER\\AppData\\Local\\r-miniconda\\Lib\\site-packages\\rich\\live.py:231: UserWarning: install \"ipywidgets\" for \n",
       "Jupyter support\n",
       "  warnings.warn('install \"ipywidgets\" for Jupyter support')\n"
      ]
     },
     "metadata": {},
     "output_type": "display_data"
    },
    {
     "data": {
      "text/html": [
       "<pre style=\"white-space:pre;overflow-x:auto;line-height:normal;font-family:Menlo,'DejaVu Sans Mono',consolas,'Courier New',monospace\"></pre>\n"
      ],
      "text/plain": []
     },
     "metadata": {},
     "output_type": "display_data"
    },
    {
     "name": "stderr",
     "output_type": "stream",
     "text": [
      "Sampling 2 chains for 500 tune and 500 draw iterations (1_000 + 1_000 draws total) took 156 seconds.\n",
      "We recommend running at least 4 chains for robust computation of convergence diagnostics\n"
     ]
    },
    {
     "name": "stdout",
     "output_type": "stream",
     "text": [
      "           mean     sd  hdi_2.5%  hdi_97.5%  mcse_mean  mcse_sd  ess_bulk  \\\n",
      "beta_int -0.411  0.633    -1.612      0.802      0.029    0.019     472.0   \n",
      "beta_f2   0.956  0.216     0.582      1.428      0.013    0.012     281.0   \n",
      "rho       0.219  0.364    -0.391      0.976      0.022    0.012     255.0   \n",
      "sigma     1.097  0.236     0.682      1.554      0.009    0.009     639.0   \n",
      "\n",
      "          ess_tail  r_hat  \n",
      "beta_int     554.0    1.0  \n",
      "beta_f2      266.0    1.0  \n",
      "rho          300.0    1.0  \n",
      "sigma        495.0    1.0  \n",
      "P(beta_int ≤ –0.5) = 43.30%\n",
      "P(–0.5 < beta_int < 0) = 30.60%\n",
      "P(beta_int ≥ 0) = 26.10%\n",
      "P(Stress reduction of reading books ≥ 0.5) = 43.30%\n",
      "\n",
      "Model result with both fac1 and fac2:\n"
     ]
    },
    {
     "name": "stderr",
     "output_type": "stream",
     "text": [
      "Initializing NUTS using jitter+adapt_diag...\n",
      "c:\\Users\\USER\\AppData\\Local\\r-miniconda\\Lib\\site-packages\\pytensor\\tensor\\rewriting\\elemwise.py:954: UserWarning: Loop fusion failed because the resulting node would exceed the kernel argument limit.\n",
      "  warn(\n",
      "Multiprocess sampling (2 chains in 2 jobs)\n",
      "NUTS: [beta0, beta_int, beta_f1, beta_f2, rho, sigma]\n"
     ]
    },
    {
     "data": {
      "text/html": [
       "<pre style=\"white-space:pre;overflow-x:auto;line-height:normal;font-family:Menlo,'DejaVu Sans Mono',consolas,'Courier New',monospace\">c:\\Users\\USER\\AppData\\Local\\r-miniconda\\Lib\\site-packages\\rich\\live.py:231: UserWarning: install \"ipywidgets\" for \n",
       "Jupyter support\n",
       "  warnings.warn('install \"ipywidgets\" for Jupyter support')\n",
       "</pre>\n"
      ],
      "text/plain": [
       "c:\\Users\\USER\\AppData\\Local\\r-miniconda\\Lib\\site-packages\\rich\\live.py:231: UserWarning: install \"ipywidgets\" for \n",
       "Jupyter support\n",
       "  warnings.warn('install \"ipywidgets\" for Jupyter support')\n"
      ]
     },
     "metadata": {},
     "output_type": "display_data"
    },
    {
     "data": {
      "text/html": [
       "<pre style=\"white-space:pre;overflow-x:auto;line-height:normal;font-family:Menlo,'DejaVu Sans Mono',consolas,'Courier New',monospace\"></pre>\n"
      ],
      "text/plain": []
     },
     "metadata": {},
     "output_type": "display_data"
    },
    {
     "name": "stderr",
     "output_type": "stream",
     "text": [
      "Sampling 2 chains for 500 tune and 500 draw iterations (1_000 + 1_000 draws total) took 220 seconds.\n",
      "There were 2 divergences after tuning. Increase `target_accept` or reparameterize.\n",
      "We recommend running at least 4 chains for robust computation of convergence diagnostics\n"
     ]
    },
    {
     "name": "stdout",
     "output_type": "stream",
     "text": [
      "           mean     sd  hdi_2.5%  hdi_97.5%  mcse_mean  mcse_sd  ess_bulk  \\\n",
      "beta_int -0.375  0.591    -1.632      0.670      0.022    0.019     708.0   \n",
      "beta_f1  -0.009  0.232    -0.487      0.437      0.012    0.009     357.0   \n",
      "beta_f2   0.964  0.287     0.401      1.543      0.014    0.011     396.0   \n",
      "rho       0.182  0.376    -0.525      0.887      0.020    0.014     344.0   \n",
      "sigma     1.125  0.235     0.702      1.557      0.010    0.010     557.0   \n",
      "\n",
      "          ess_tail  r_hat  \n",
      "beta_int     599.0   1.00  \n",
      "beta_f1      400.0   1.01  \n",
      "beta_f2      443.0   1.00  \n",
      "rho          236.0   1.01  \n",
      "sigma        676.0   1.00  \n",
      "P(beta_int ≤ –0.5) = 41.60%\n",
      "P(–0.5 < beta_int < 0) = 32.00%\n",
      "P(beta_int ≥ 0) = 26.40%\n",
      "P(Stress reduction of reading books ≥ 0.5) = 41.60%\n",
      "\n"
     ]
    }
   ],
   "source": [
    "def run_model(fac_cols, beta_names):\n",
    "    out = df_mea[df_mea['measurement_name'] == 'Outcome']\n",
    "    med = df_mea[df_mea['measurement_name'] == 'Mediators']\n",
    "    data = (\n",
    "        pd.merge(\n",
    "            out[['current_day_of_study', 'survey1_question1_response', 'current_intervention_name']],\n",
    "            med[['current_day_of_study'] + fac_cols] if fac_cols else out[['current_day_of_study']],\n",
    "            on='current_day_of_study',\n",
    "            how='inner'\n",
    "        ).dropna().sort_values('current_day_of_study').reset_index(drop=True)\n",
    "    )\n",
    "    y = data['survey1_question1_response'].values\n",
    "    interv = (data['current_intervention_name'] == \"Reading books!\").astype(int).values\n",
    "    n = len(data)\n",
    "    fac_arrays = [data[col].values for col in fac_cols] if fac_cols else []\n",
    "\n",
    "    with pm.Model() as model:\n",
    "        beta0 = pm.Normal('beta0', mu=0, sigma=10)\n",
    "        beta_int = pm.Normal('beta_int', mu=0, sigma=1)\n",
    "        betas = [pm.Normal(beta_name, mu=0, sigma=1) for beta_name in beta_names]\n",
    "        rho = pm.Uniform('rho', lower=-1, upper=1)\n",
    "        sigma = pm.HalfNormal('sigma', sigma=1)\n",
    "        mu = beta0 + beta_int * interv\n",
    "        for beta, fac in zip(betas, fac_arrays):\n",
    "            mu += beta * fac\n",
    "        pm.Normal('y_0', mu=mu[0], sigma=sigma, observed=y[0])\n",
    "        for t in range(1, n):\n",
    "            adjustment = rho * (y[t-1] - mu[t-1])\n",
    "            pm.Normal(f'y_{t}', mu=mu[t] + adjustment, sigma=sigma, observed=y[t])\n",
    "        trace = pm.sample(draws=500, tune=500, chains=2, target_accept=0.9, return_inferencedata=True)\n",
    "    summary = az.summary(trace, var_names=['beta_int'] + beta_names + ['rho', 'sigma'], hdi_prob=0.95)\n",
    "    print(summary)\n",
    "    beta_samples = trace.posterior['beta_int'].values.flatten()\n",
    "    p_le_neg05 = (beta_samples <= -0.5).mean()\n",
    "    p_between  = ((beta_samples > -0.5) & (beta_samples < 0)).mean()\n",
    "    p_ge0      = (beta_samples >= 0).mean()\n",
    "    print(f\"P(beta_int ≤ –0.5) = {p_le_neg05:.2%}\")\n",
    "    print(f\"P(–0.5 < beta_int < 0) = {p_between:.2%}\")\n",
    "    print(f\"P(beta_int ≥ 0) = {p_ge0:.2%}\")\n",
    "    prob = (trace.posterior['beta_int'] < -0.5).mean().item()\n",
    "    print(f\"P(Stress reduction of reading books ≥ 0.5) = {prob:.2%}\\n\")\n",
    "\n",
    "print(\"Model result with neither fac1 nor fac2 (intervention only):\")\n",
    "run_model([], [])\n",
    "\n",
    "print(\"Model result with only fac1:\")\n",
    "run_model(['survey2_question1_response'], ['beta_f1'])\n",
    "\n",
    "print(\"Model result with only fac2:\")\n",
    "run_model(['survey2_question2_response'], ['beta_f2'])\n",
    "\n",
    "print(\"Model result with both fac1 and fac2:\")\n",
    "run_model(['survey2_question1_response', 'survey2_question2_response'], ['beta_f1', 'beta_f2'])"
   ]
  },
  {
   "cell_type": "markdown",
   "id": "ea91e28c",
   "metadata": {},
   "source": [
    "#### Bayesian AR(1) Regression with Data-Driven Scale (MAD-Based)"
   ]
  },
  {
   "cell_type": "code",
   "execution_count": 30,
   "id": "6039ff91",
   "metadata": {},
   "outputs": [
    {
     "name": "stderr",
     "output_type": "stream",
     "text": [
      "Initializing NUTS using jitter+adapt_diag...\n",
      "c:\\Users\\USER\\AppData\\Local\\r-miniconda\\Lib\\site-packages\\pytensor\\tensor\\rewriting\\elemwise.py:954: UserWarning: Loop fusion failed because the resulting node would exceed the kernel argument limit.\n",
      "  warn(\n",
      "Multiprocess sampling (2 chains in 2 jobs)\n",
      "NUTS: [beta0, beta_int, rho, sigma]\n"
     ]
    },
    {
     "data": {
      "text/html": [
       "<pre style=\"white-space:pre;overflow-x:auto;line-height:normal;font-family:Menlo,'DejaVu Sans Mono',consolas,'Courier New',monospace\">c:\\Users\\USER\\AppData\\Local\\r-miniconda\\Lib\\site-packages\\rich\\live.py:231: UserWarning: install \"ipywidgets\" for \n",
       "Jupyter support\n",
       "  warnings.warn('install \"ipywidgets\" for Jupyter support')\n",
       "</pre>\n"
      ],
      "text/plain": [
       "c:\\Users\\USER\\AppData\\Local\\r-miniconda\\Lib\\site-packages\\rich\\live.py:231: UserWarning: install \"ipywidgets\" for \n",
       "Jupyter support\n",
       "  warnings.warn('install \"ipywidgets\" for Jupyter support')\n"
      ]
     },
     "metadata": {},
     "output_type": "display_data"
    },
    {
     "data": {
      "text/html": [
       "<pre style=\"white-space:pre;overflow-x:auto;line-height:normal;font-family:Menlo,'DejaVu Sans Mono',consolas,'Courier New',monospace\"></pre>\n"
      ],
      "text/plain": []
     },
     "metadata": {},
     "output_type": "display_data"
    },
    {
     "name": "stderr",
     "output_type": "stream",
     "text": [
      "Sampling 2 chains for 500 tune and 500 draw iterations (1_000 + 1_000 draws total) took 142 seconds.\n",
      "We recommend running at least 4 chains for robust computation of convergence diagnostics\n"
     ]
    },
    {
     "name": "stdout",
     "output_type": "stream",
     "text": [
      "           mean     sd  hdi_2.5%  hdi_97.5%  mcse_mean  mcse_sd  ess_bulk  \\\n",
      "beta_int -0.536  1.056    -2.440      1.571      0.051    0.063     459.0   \n",
      "rho      -0.001  0.354    -0.649      0.744      0.020    0.014     334.0   \n",
      "sigma     2.058  0.444     1.356      2.961      0.026    0.021     307.0   \n",
      "\n",
      "          ess_tail  r_hat  \n",
      "beta_int     495.0    1.0  \n",
      "rho          214.0    1.0  \n",
      "sigma        397.0    1.0  \n",
      "P(beta_int ≤ –0.5) = 49.60%\n",
      "P(–0.5 < beta_int < 0) = 23.00%\n",
      "P(beta_int ≥ 0) = 27.40%\n"
     ]
    },
    {
     "data": {
      "image/png": "[encoded data removed]",
      "text/plain": [
       "<Figure size 1000x400 with 2 Axes>"
      ]
     },
     "metadata": {},
     "output_type": "display_data"
    }
   ],
   "source": [
    "outcome_data = df_mea[df_mea['measurement_name'] == 'Outcome']\n",
    "data = (\n",
    "    outcome_data[['current_day_of_study', 'survey1_question1_response', 'current_intervention_name']]\n",
    "    .dropna()\n",
    "    .sort_values('current_day_of_study')\n",
    "    .reset_index(drop=True)\n",
    ")\n",
    "\n",
    "y      = data['survey1_question1_response'].values\n",
    "interv = (data['current_intervention_name'] == \"Reading books!\").astype(int).values\n",
    "n      = len(data)\n",
    "\n",
    "mad = np.median(np.abs(y - np.median(y)))\n",
    "scale = max(mad, 2.5)\n",
    "\n",
    "\n",
    "with pm.Model() as model:\n",
    "    beta0    = pm.StudentT('beta0',    nu=3, mu=0, sigma=scale)   \n",
    "    beta_int = pm.StudentT('beta_int', nu=3, mu=0, sigma=scale)   \n",
    "    rho      = pm.Uniform('rho',       lower=-1, upper=1)         \n",
    "    sigma    = pm.HalfStudentT('sigma', nu=3, sigma=scale)        \n",
    "\n",
    "    mu = beta0 + beta_int * interv\n",
    "\n",
    "    pm.Normal('y_0', mu=mu[0], sigma=sigma, observed=y[0])\n",
    "\n",
    "    for t in range(1, n):\n",
    "        adjustment = rho * (y[t-1] - mu[t-1])\n",
    "        pm.Normal(f'y_{t}', mu=mu[t] + adjustment, sigma=sigma, observed=y[t])\n",
    "\n",
    "    trace = pm.sample(\n",
    "        draws=500,\n",
    "        tune=500,\n",
    "        chains=2,\n",
    "        target_accept=0.9,\n",
    "        return_inferencedata=True\n",
    "    )\n",
    "\n",
    "summary = az.summary(trace, var_names=['beta_int', 'rho', 'sigma'], hdi_prob=0.95)\n",
    "print(summary)\n",
    "\n",
    "beta_samples = trace.posterior['beta_int'].values.flatten()\n",
    "\n",
    "p_le_neg05 = (beta_samples <= -0.5).mean()\n",
    "p_between  = ((beta_samples > -0.5) & (beta_samples < 0)).mean()\n",
    "p_ge0      = (beta_samples >= 0).mean()\n",
    "\n",
    "print(f\"P(beta_int ≤ –0.5) = {p_le_neg05:.2%}\")\n",
    "print(f\"P(–0.5 < beta_int < 0) = {p_between:.2%}\")\n",
    "print(f\"P(beta_int ≥ 0) = {p_ge0:.2%}\")\n",
    "\n",
    "mean_beta = summary.loc['beta_int', 'mean']\n",
    "hdi_low   = summary.loc['beta_int', 'hdi_2.5%']\n",
    "hdi_high  = summary.loc['beta_int', 'hdi_97.5%']\n",
    "\n",
    "fig, axes = plt.subplots(1, 2, figsize=(10, 4), gridspec_kw={'width_ratios': [1, 1]})\n",
    "\n",
    "ax = axes[0]\n",
    "ax.errorbar(0, mean_beta,\n",
    "            yerr=[[mean_beta - hdi_low], [hdi_high - mean_beta]],\n",
    "            fmt='o', capsize=5, color='black')\n",
    "ax.axhline(0, color='gray', linestyle='--')\n",
    "ax.set_xticks([0])\n",
    "ax.set_xticklabels(['Reading books effect'])\n",
    "ax.set_ylabel('Stress reduction (points)')\n",
    "ax.set_title('A. Posterior mean ± 95% CI', loc='left', pad=10, fontsize=12, fontweight='bold')\n",
    "\n",
    "ax = axes[1]\n",
    "ax.bar(0, p_le_neg05, width=0.6, color='darkgreen',  label='Effect ≤ –0.5')\n",
    "ax.bar(0, p_between,  width=0.6, bottom=p_le_neg05, color='lightgreen', label='–0.5 < Effect < 0')\n",
    "ax.bar(0, p_ge0,      width=0.6, bottom=p_le_neg05+p_between, color='gold', label='Effect ≥ 0')\n",
    "ax.axhline(0.7, color='gray', linestyle='--', label='Responder threshold (0.7)')\n",
    "ax.set_xticks([0])\n",
    "ax.set_xticklabels(['Posterior mass'])\n",
    "ax.set_ylim(0, 1)\n",
    "ax.set_ylabel('Probability')\n",
    "ax.set_title('B. Distribution of effect size', loc='left', pad=10, fontsize=12, fontweight='bold')\n",
    "ax.legend(loc='upper right', fontsize=8)\n",
    "\n",
    "plt.tight_layout()\n",
    "plt.show()"
   ]
  },
  {
   "cell_type": "markdown",
   "id": "813ebf3b",
   "metadata": {},
   "source": [
    "#### Bayesian AR(1) Regression with Consecutive‐Day Adjustment"
   ]
  },
  {
   "cell_type": "code",
   "execution_count": 31,
   "id": "0b4b70e0",
   "metadata": {},
   "outputs": [
    {
     "name": "stdout",
     "output_type": "stream",
     "text": [
      "Only intervention:\n"
     ]
    },
    {
     "name": "stderr",
     "output_type": "stream",
     "text": [
      "c:\\Users\\USER\\AppData\\Local\\r-miniconda\\Lib\\site-packages\\pymc\\model\\core.py:1300: ImputationWarning: Data in y_obs contains missing values and will be automatically imputed from the sampling distribution.\n",
      "  warnings.warn(impute_message, ImputationWarning)\n",
      "Initializing NUTS using jitter+adapt_diag...\n",
      "Multiprocess sampling (2 chains in 2 jobs)\n",
      "NUTS: [beta0, beta_int, rho, sigma, y_obs_unobserved]\n"
     ]
    },
    {
     "data": {
      "text/html": [
       "<pre style=\"white-space:pre;overflow-x:auto;line-height:normal;font-family:Menlo,'DejaVu Sans Mono',consolas,'Courier New',monospace\">c:\\Users\\USER\\AppData\\Local\\r-miniconda\\Lib\\site-packages\\rich\\live.py:231: UserWarning: install \"ipywidgets\" for \n",
       "Jupyter support\n",
       "  warnings.warn('install \"ipywidgets\" for Jupyter support')\n",
       "</pre>\n"
      ],
      "text/plain": [
       "c:\\Users\\USER\\AppData\\Local\\r-miniconda\\Lib\\site-packages\\rich\\live.py:231: UserWarning: install \"ipywidgets\" for \n",
       "Jupyter support\n",
       "  warnings.warn('install \"ipywidgets\" for Jupyter support')\n"
      ]
     },
     "metadata": {},
     "output_type": "display_data"
    },
    {
     "data": {
      "text/html": [
       "<pre style=\"white-space:pre;overflow-x:auto;line-height:normal;font-family:Menlo,'DejaVu Sans Mono',consolas,'Courier New',monospace\"></pre>\n"
      ],
      "text/plain": []
     },
     "metadata": {},
     "output_type": "display_data"
    },
    {
     "name": "stderr",
     "output_type": "stream",
     "text": [
      "Sampling 2 chains for 500 tune and 500 draw iterations (1_000 + 1_000 draws total) took 92 seconds.\n",
      "We recommend running at least 4 chains for robust computation of convergence diagnostics\n",
      "The rhat statistic is larger than 1.01 for some parameters. This indicates problems during sampling. See https://arxiv.org/abs/1903.08008 for details\n"
     ]
    },
    {
     "name": "stdout",
     "output_type": "stream",
     "text": [
      "           mean     sd  hdi_2.5%  hdi_97.5%  mcse_mean  mcse_sd  ess_bulk  \\\n",
      "beta_int -0.528  0.660    -1.874      0.736      0.025    0.022     691.0   \n",
      "rho      -0.057  0.334    -0.693      0.646      0.016    0.014     417.0   \n",
      "sigma     1.799  0.304     1.230      2.357      0.012    0.010     567.0   \n",
      "\n",
      "          ess_tail  r_hat  \n",
      "beta_int     611.0   1.00  \n",
      "rho          289.0   1.00  \n",
      "sigma        514.0   1.01  \n",
      "P(intervention reduces stress by ≥ 0.5 points) = 52.30%\n",
      "P(beta_int ≤ –0.5) = 52.30%\n",
      "P(–0.5 < beta_int < 0) = 27.70%\n",
      "P(beta_int ≥ 0) = 20.00%\n"
     ]
    },
    {
     "data": {
      "image/png": "[encoded data removed]",
      "text/plain": [
       "<Figure size 1000x400 with 2 Axes>"
      ]
     },
     "metadata": {},
     "output_type": "display_data"
    },
    {
     "name": "stdout",
     "output_type": "stream",
     "text": [
      "\n",
      "Intervention + fac1:\n"
     ]
    },
    {
     "name": "stderr",
     "output_type": "stream",
     "text": [
      "c:\\Users\\USER\\AppData\\Local\\r-miniconda\\Lib\\site-packages\\pymc\\model\\core.py:1300: ImputationWarning: Data in y_obs contains missing values and will be automatically imputed from the sampling distribution.\n",
      "  warnings.warn(impute_message, ImputationWarning)\n",
      "Initializing NUTS using jitter+adapt_diag...\n",
      "Multiprocess sampling (2 chains in 2 jobs)\n",
      "NUTS: [beta0, beta_int, beta_f1, rho, sigma, y_obs_unobserved]\n"
     ]
    },
    {
     "data": {
      "text/html": [
       "<pre style=\"white-space:pre;overflow-x:auto;line-height:normal;font-family:Menlo,'DejaVu Sans Mono',consolas,'Courier New',monospace\">c:\\Users\\USER\\AppData\\Local\\r-miniconda\\Lib\\site-packages\\rich\\live.py:231: UserWarning: install \"ipywidgets\" for \n",
       "Jupyter support\n",
       "  warnings.warn('install \"ipywidgets\" for Jupyter support')\n",
       "</pre>\n"
      ],
      "text/plain": [
       "c:\\Users\\USER\\AppData\\Local\\r-miniconda\\Lib\\site-packages\\rich\\live.py:231: UserWarning: install \"ipywidgets\" for \n",
       "Jupyter support\n",
       "  warnings.warn('install \"ipywidgets\" for Jupyter support')\n"
      ]
     },
     "metadata": {},
     "output_type": "display_data"
    },
    {
     "data": {
      "text/html": [
       "<pre style=\"white-space:pre;overflow-x:auto;line-height:normal;font-family:Menlo,'DejaVu Sans Mono',consolas,'Courier New',monospace\"></pre>\n"
      ],
      "text/plain": []
     },
     "metadata": {},
     "output_type": "display_data"
    },
    {
     "name": "stderr",
     "output_type": "stream",
     "text": [
      "Sampling 2 chains for 500 tune and 500 draw iterations (1_000 + 1_000 draws total) took 174 seconds.\n",
      "We recommend running at least 4 chains for robust computation of convergence diagnostics\n"
     ]
    },
    {
     "name": "stdout",
     "output_type": "stream",
     "text": [
      "           mean     sd  hdi_2.5%  hdi_97.5%  mcse_mean  mcse_sd  ess_bulk  \\\n",
      "beta_int -0.453  0.576    -1.634      0.589      0.025    0.017     548.0   \n",
      "rho      -0.134  0.320    -0.792      0.450      0.014    0.011     497.0   \n",
      "sigma     1.440  0.279     0.989      2.017      0.011    0.011     650.0   \n",
      "beta_f1   0.619  0.207     0.217      1.035      0.010    0.007     424.0   \n",
      "\n",
      "          ess_tail  r_hat  \n",
      "beta_int     465.0    1.0  \n",
      "rho          512.0    1.0  \n",
      "sigma        557.0    1.0  \n",
      "beta_f1      334.0    1.0  \n",
      "P(intervention reduces stress by ≥ 0.5 points) = 45.40%\n",
      "P(beta_int ≤ –0.5) = 45.40%\n",
      "P(–0.5 < beta_int < 0) = 32.60%\n",
      "P(beta_int ≥ 0) = 22.00%\n"
     ]
    },
    {
     "data": {
      "image/png": "[encoded data removed]",
      "text/plain": [
       "<Figure size 1000x400 with 2 Axes>"
      ]
     },
     "metadata": {},
     "output_type": "display_data"
    },
    {
     "name": "stdout",
     "output_type": "stream",
     "text": [
      "\n",
      "Intervention + fac2:\n"
     ]
    },
    {
     "name": "stderr",
     "output_type": "stream",
     "text": [
      "c:\\Users\\USER\\AppData\\Local\\r-miniconda\\Lib\\site-packages\\pymc\\model\\core.py:1300: ImputationWarning: Data in y_obs contains missing values and will be automatically imputed from the sampling distribution.\n",
      "  warnings.warn(impute_message, ImputationWarning)\n",
      "Initializing NUTS using jitter+adapt_diag...\n",
      "Multiprocess sampling (2 chains in 2 jobs)\n",
      "NUTS: [beta0, beta_int, beta_f2, rho, sigma, y_obs_unobserved]\n"
     ]
    },
    {
     "data": {
      "text/html": [
       "<pre style=\"white-space:pre;overflow-x:auto;line-height:normal;font-family:Menlo,'DejaVu Sans Mono',consolas,'Courier New',monospace\">c:\\Users\\USER\\AppData\\Local\\r-miniconda\\Lib\\site-packages\\rich\\live.py:231: UserWarning: install \"ipywidgets\" for \n",
       "Jupyter support\n",
       "  warnings.warn('install \"ipywidgets\" for Jupyter support')\n",
       "</pre>\n"
      ],
      "text/plain": [
       "c:\\Users\\USER\\AppData\\Local\\r-miniconda\\Lib\\site-packages\\rich\\live.py:231: UserWarning: install \"ipywidgets\" for \n",
       "Jupyter support\n",
       "  warnings.warn('install \"ipywidgets\" for Jupyter support')\n"
      ]
     },
     "metadata": {},
     "output_type": "display_data"
    },
    {
     "data": {
      "text/html": [
       "<pre style=\"white-space:pre;overflow-x:auto;line-height:normal;font-family:Menlo,'DejaVu Sans Mono',consolas,'Courier New',monospace\"></pre>\n"
      ],
      "text/plain": []
     },
     "metadata": {},
     "output_type": "display_data"
    },
    {
     "name": "stderr",
     "output_type": "stream",
     "text": [
      "Sampling 2 chains for 500 tune and 500 draw iterations (1_000 + 1_000 draws total) took 174 seconds.\n",
      "We recommend running at least 4 chains for robust computation of convergence diagnostics\n"
     ]
    },
    {
     "name": "stdout",
     "output_type": "stream",
     "text": [
      "           mean     sd  hdi_2.5%  hdi_97.5%  mcse_mean  mcse_sd  ess_bulk  \\\n",
      "beta_int -0.428  0.518    -1.405      0.620      0.021    0.018     595.0   \n",
      "rho      -0.004  0.338    -0.677      0.687      0.012    0.014     759.0   \n",
      "sigma     1.079  0.220     0.681      1.496      0.009    0.008     596.0   \n",
      "beta_f2   0.857  0.158     0.524      1.142      0.007    0.005     475.0   \n",
      "\n",
      "          ess_tail  r_hat  \n",
      "beta_int     474.0   1.00  \n",
      "rho          488.0   1.00  \n",
      "sigma        769.0   1.00  \n",
      "beta_f2      527.0   1.01  \n",
      "P(intervention reduces stress by ≥ 0.5 points) = 44.50%\n",
      "P(beta_int ≤ –0.5) = 44.50%\n",
      "P(–0.5 < beta_int < 0) = 35.40%\n",
      "P(beta_int ≥ 0) = 20.10%\n"
     ]
    },
    {
     "data": {
      "image/png": "[encoded data removed]",
      "text/plain": [
       "<Figure size 1000x400 with 2 Axes>"
      ]
     },
     "metadata": {},
     "output_type": "display_data"
    },
    {
     "name": "stdout",
     "output_type": "stream",
     "text": [
      "\n",
      "Intervention + fac1 + fac2:\n"
     ]
    },
    {
     "name": "stderr",
     "output_type": "stream",
     "text": [
      "c:\\Users\\USER\\AppData\\Local\\r-miniconda\\Lib\\site-packages\\pymc\\model\\core.py:1300: ImputationWarning: Data in y_obs contains missing values and will be automatically imputed from the sampling distribution.\n",
      "  warnings.warn(impute_message, ImputationWarning)\n",
      "Initializing NUTS using jitter+adapt_diag...\n",
      "Multiprocess sampling (2 chains in 2 jobs)\n",
      "NUTS: [beta0, beta_int, beta_f1, beta_f2, rho, sigma, y_obs_unobserved]\n"
     ]
    },
    {
     "data": {
      "text/html": [
       "<pre style=\"white-space:pre;overflow-x:auto;line-height:normal;font-family:Menlo,'DejaVu Sans Mono',consolas,'Courier New',monospace\">c:\\Users\\USER\\AppData\\Local\\r-miniconda\\Lib\\site-packages\\rich\\live.py:231: UserWarning: install \"ipywidgets\" for \n",
       "Jupyter support\n",
       "  warnings.warn('install \"ipywidgets\" for Jupyter support')\n",
       "</pre>\n"
      ],
      "text/plain": [
       "c:\\Users\\USER\\AppData\\Local\\r-miniconda\\Lib\\site-packages\\rich\\live.py:231: UserWarning: install \"ipywidgets\" for \n",
       "Jupyter support\n",
       "  warnings.warn('install \"ipywidgets\" for Jupyter support')\n"
      ]
     },
     "metadata": {},
     "output_type": "display_data"
    },
    {
     "data": {
      "text/html": [
       "<pre style=\"white-space:pre;overflow-x:auto;line-height:normal;font-family:Menlo,'DejaVu Sans Mono',consolas,'Courier New',monospace\"></pre>\n"
      ],
      "text/plain": []
     },
     "metadata": {},
     "output_type": "display_data"
    },
    {
     "name": "stderr",
     "output_type": "stream",
     "text": [
      "Sampling 2 chains for 500 tune and 500 draw iterations (1_000 + 1_000 draws total) took 221 seconds.\n",
      "There were 2 divergences after tuning. Increase `target_accept` or reparameterize.\n",
      "We recommend running at least 4 chains for robust computation of convergence diagnostics\n"
     ]
    },
    {
     "name": "stdout",
     "output_type": "stream",
     "text": [
      "           mean     sd  hdi_2.5%  hdi_97.5%  mcse_mean  mcse_sd  ess_bulk  \\\n",
      "beta_int -0.384  0.526    -1.386      0.651      0.022    0.017     573.0   \n",
      "rho      -0.018  0.375    -0.779      0.712      0.015    0.014     631.0   \n",
      "sigma     1.118  0.241     0.717      1.589      0.012    0.011     387.0   \n",
      "beta_f1  -0.069  0.231    -0.463      0.474      0.010    0.008     544.0   \n",
      "beta_f2   0.927  0.271     0.376      1.412      0.013    0.011     422.0   \n",
      "\n",
      "          ess_tail  r_hat  \n",
      "beta_int     483.0   1.00  \n",
      "rho          461.0   1.00  \n",
      "sigma        471.0   1.00  \n",
      "beta_f1      540.0   1.01  \n",
      "beta_f2      330.0   1.01  \n",
      "P(intervention reduces stress by ≥ 0.5 points) = 40.70%\n",
      "P(beta_int ≤ –0.5) = 40.70%\n",
      "P(–0.5 < beta_int < 0) = 37.90%\n",
      "P(beta_int ≥ 0) = 21.40%\n"
     ]
    },
    {
     "data": {
      "image/png": "[encoded data removed]",
      "text/plain": [
       "<Figure size 1000x400 with 2 Axes>"
      ]
     },
     "metadata": {},
     "output_type": "display_data"
    },
    {
     "data": {
      "text/plain": [
       "(Inference data with groups:\n",
       " \t> posterior\n",
       " \t> sample_stats\n",
       " \t> observed_data,\n",
       "            mean     sd  hdi_2.5%  hdi_97.5%  mcse_mean  mcse_sd  ess_bulk  \\\n",
       " beta_int -0.384  0.526    -1.386      0.651      0.022    0.017     573.0   \n",
       " rho      -0.018  0.375    -0.779      0.712      0.015    0.014     631.0   \n",
       " sigma     1.118  0.241     0.717      1.589      0.012    0.011     387.0   \n",
       " beta_f1  -0.069  0.231    -0.463      0.474      0.010    0.008     544.0   \n",
       " beta_f2   0.927  0.271     0.376      1.412      0.013    0.011     422.0   \n",
       " \n",
       "           ess_tail  r_hat  \n",
       " beta_int     483.0   1.00  \n",
       " rho          461.0   1.00  \n",
       " sigma        471.0   1.00  \n",
       " beta_f1      540.0   1.01  \n",
       " beta_f2      330.0   1.01  )"
      ]
     },
     "execution_count": 31,
     "metadata": {},
     "output_type": "execute_result"
    }
   ],
   "source": [
    "def run_ar1_model(df_mea, use_fac1=False, use_fac2=False):\n",
    "    days_full = pd.DataFrame({'current_day_of_study': np.arange(0, 16)})\n",
    "\n",
    "    outcome_data = df_mea[df_mea['measurement_name'] == 'Outcome'][\n",
    "        ['current_day_of_study',\n",
    "         'survey1_question1_response',   \n",
    "         'current_intervention_name']\n",
    "    ]\n",
    "    mediator_data = df_mea[df_mea['measurement_name'] == 'Mediators'][\n",
    "        ['current_day_of_study',\n",
    "         'survey2_question1_response',   \n",
    "         'survey2_question2_response']   \n",
    "    ]\n",
    "\n",
    "    data = (\n",
    "        days_full\n",
    "        .merge(outcome_data,  on='current_day_of_study', how='left')\n",
    "        .merge(mediator_data, on='current_day_of_study', how='left')\n",
    "        .sort_values('current_day_of_study')\n",
    "        .reset_index(drop=True)\n",
    "    )\n",
    "\n",
    "    days   = data['current_day_of_study'].values\n",
    "    y      = data['survey1_question1_response'].values.astype(float)  \n",
    "    n      = len(y)  \n",
    "\n",
    "    interv = (data['current_intervention_name'] == \"Reading books!\").astype(float).fillna(0).values\n",
    "\n",
    "    if use_fac1:\n",
    "        fac1 = data['survey2_question1_response'].values.astype(float)\n",
    "        fac1 = np.nan_to_num(fac1, nan=0.0)\n",
    "    else:\n",
    "        fac1 = np.zeros_like(days, dtype=float)\n",
    "\n",
    "    if use_fac2:\n",
    "        fac2 = data['survey2_question2_response'].values.astype(float)\n",
    "        fac2 = np.nan_to_num(fac2, nan=0.0)\n",
    "    else:\n",
    "        fac2 = np.zeros_like(days, dtype=float)\n",
    "\n",
    "    obs_mask = ~np.isnan(y)\n",
    "    consec   = np.zeros(n, dtype=float)\n",
    "    consec[1:] = (obs_mask[1:] & obs_mask[:-1]).astype(float)\n",
    "\n",
    "    with pm.Model() as model:\n",
    "        beta0    = pm.Normal('beta0',    mu=0, sigma=10)\n",
    "        beta_int = pm.Normal('beta_int', mu=0, sigma=1)\n",
    "        if use_fac1:\n",
    "            beta_f1  = pm.Normal('beta_f1',  mu=0, sigma=10)\n",
    "        if use_fac2:\n",
    "            beta_f2  = pm.Normal('beta_f2',  mu=0, sigma=10)\n",
    "        rho      = pm.Uniform('rho',     lower=-1, upper=1)\n",
    "        sigma    = pm.HalfNormal('sigma', sigma=1)\n",
    "\n",
    "        mu = beta0 + beta_int * interv\n",
    "        if use_fac1:\n",
    "            mu = mu + beta_f1 * fac1\n",
    "        if use_fac2:\n",
    "            mu = mu + beta_f2 * fac2\n",
    "\n",
    "        y_tt      = pt.constant(y)            \n",
    "        mu_tt     = mu\n",
    "        consec_tt = pt.constant(consec)\n",
    "\n",
    "        def ar1_step(y_prev, mu_prev, mu_curr, consec_prev, rho):\n",
    "            ar_term = pt.switch(pt.eq(consec_prev, 1.0), rho * (y_prev - mu_prev), 0.0)\n",
    "            return mu_curr + ar_term\n",
    "\n",
    "        y_pred_scan, _ = scan(\n",
    "            fn=ar1_step,\n",
    "            sequences=[y_tt[:-1], mu_tt[:-1], mu_tt[1:], consec_tt[:-1]],\n",
    "            non_sequences=[rho],\n",
    "            n_steps=n-1,\n",
    "            name=\"ar1_scan\"\n",
    "        )\n",
    "\n",
    "        y_pred = pt.concatenate([[mu_tt[0]], y_pred_scan], axis=0)\n",
    "\n",
    "        y_obs_masked = np.ma.masked_invalid(y)\n",
    "        pm.Normal('y_obs', mu=y_pred, sigma=sigma, observed=y_obs_masked)\n",
    "\n",
    "        trace = pm.sample(\n",
    "            draws=500,\n",
    "            tune=500,\n",
    "            chains=2,\n",
    "            target_accept=0.9,\n",
    "            return_inferencedata=True\n",
    "        )\n",
    "\n",
    "    var_names = ['beta_int', 'rho', 'sigma']\n",
    "    if use_fac1:\n",
    "        var_names.append('beta_f1')\n",
    "    if use_fac2:\n",
    "        var_names.append('beta_f2')\n",
    "\n",
    "    summary = az.summary(trace, var_names=var_names, hdi_prob=0.95)\n",
    "    print(summary)\n",
    "\n",
    "    prob_responder = (trace.posterior['beta_int'] < -0.5).mean().item()\n",
    "    print(f\"P(intervention reduces stress by ≥ 0.5 points) = {prob_responder:.2%}\")\n",
    "\n",
    "    beta_samples = trace.posterior['beta_int'].values.flatten()\n",
    "    p_le_neg05 = (beta_samples <= -0.5).mean()\n",
    "    p_between  = ((beta_samples > -0.5) & (beta_samples < 0)).mean()\n",
    "    p_ge0      = (beta_samples >= 0).mean()\n",
    "\n",
    "    print(f\"P(beta_int ≤ –0.5) = {p_le_neg05:.2%}\")\n",
    "    print(f\"P(–0.5 < beta_int < 0) = {p_between:.2%}\")\n",
    "    print(f\"P(beta_int ≥ 0) = {p_ge0:.2%}\")\n",
    "\n",
    "    mean_beta = summary.loc['beta_int', 'mean']\n",
    "    hdi_low   = summary.loc['beta_int', 'hdi_2.5%']\n",
    "    hdi_high  = summary.loc['beta_int', 'hdi_97.5%']\n",
    "\n",
    "    fig, axes = plt.subplots(1, 2, figsize=(10, 4),\n",
    "                             gridspec_kw={'width_ratios': [1, 1]})\n",
    "\n",
    "    ax = axes[0]\n",
    "    ax.errorbar(0, mean_beta,\n",
    "                yerr=[[mean_beta - hdi_low], [hdi_high - mean_beta]],\n",
    "                fmt='o', capsize=5, color='black')\n",
    "    ax.axhline(0, color='gray', linestyle='--')\n",
    "    ax.set_xticks([0])\n",
    "    ax.set_xticklabels([\"Reading books effect\"])\n",
    "    ax.set_ylabel('Stress reduction (points)')\n",
    "    ax.set_title('A. Posterior mean ± 95% CI', loc='left',\n",
    "                 pad=10, fontsize=12, fontweight='bold')\n",
    "\n",
    "    ax = axes[1]\n",
    "    ax.bar(0, p_le_neg05,    width=0.6, color='darkgreen',  label='≤ –0.5')\n",
    "    ax.bar(0, p_between,     width=0.6, bottom=p_le_neg05, color='lightgreen', label='–0.5 < β < 0')\n",
    "    ax.bar(0, p_ge0,         width=0.6, bottom=p_le_neg05+p_between, color='gold',       label='≥ 0')\n",
    "    ax.axhline(0.7, color='gray', linestyle='--', label='Responder thresh.')\n",
    "    ax.set_xticks([0])\n",
    "    ax.set_xticklabels(['Posterior mass'])\n",
    "    ax.set_ylim(0, 1)\n",
    "    ax.set_ylabel('Probability')\n",
    "    ax.set_title('B. Distribution of effect size', loc='left',\n",
    "                 pad=10, fontsize=12, fontweight='bold')\n",
    "    ax.legend(loc='upper right', fontsize=8)\n",
    "\n",
    "    plt.tight_layout()\n",
    "    plt.show()\n",
    "\n",
    "    return trace, summary\n",
    "\n",
    "print(\"Only intervention:\")\n",
    "run_ar1_model(df_mea, use_fac1=False, use_fac2=False)\n",
    "\n",
    "print(\"\\nIntervention + fac1:\")\n",
    "run_ar1_model(df_mea, use_fac1=True, use_fac2=False)\n",
    "\n",
    "print(\"\\nIntervention + fac2:\")\n",
    "run_ar1_model(df_mea, use_fac1=False, use_fac2=True)\n",
    "\n",
    "print(\"\\nIntervention + fac1 + fac2:\")\n",
    "run_ar1_model(df_mea, use_fac1=True, use_fac2=True)\n"
   ]
  },
  {
   "cell_type": "markdown",
   "id": "62523a27",
   "metadata": {},
   "source": [
    "#### Bayesian AR(1) Model of Daily Stress Response to Reading Books and Mediators - Mean Imputation Method"
   ]
  },
  {
   "cell_type": "code",
   "execution_count": 32,
   "id": "732ac6cb",
   "metadata": {},
   "outputs": [
    {
     "name": "stderr",
     "output_type": "stream",
     "text": [
      "C:\\Users\\USER\\AppData\\Local\\Temp\\ipykernel_22192\\224566006.py:12: FutureWarning: A value is trying to be set on a copy of a DataFrame or Series through chained assignment using an inplace method.\n",
      "The behavior will change in pandas 3.0. This inplace method will never work because the intermediate object on which we are setting values always behaves as a copy.\n",
      "\n",
      "For example, when doing 'df[col].method(value, inplace=True)', try using 'df.method({col: value}, inplace=True)' or df[col] = df[col].method(value) instead, to perform the operation inplace on the original object.\n",
      "\n",
      "\n",
      "  imputed_complete_o['measurement_name'].fillna('Outcome', inplace=True)\n",
      "C:\\Users\\USER\\AppData\\Local\\Temp\\ipykernel_22192\\224566006.py:23: FutureWarning: A value is trying to be set on a copy of a DataFrame or Series through chained assignment using an inplace method.\n",
      "The behavior will change in pandas 3.0. This inplace method will never work because the intermediate object on which we are setting values always behaves as a copy.\n",
      "\n",
      "For example, when doing 'df[col].method(value, inplace=True)', try using 'df.method({col: value}, inplace=True)' or df[col] = df[col].method(value) instead, to perform the operation inplace on the original object.\n",
      "\n",
      "\n",
      "  imputed_complete_m['measurement_name'].fillna('Mediators', inplace=True)\n"
     ]
    }
   ],
   "source": [
    "imputed_data_o = df_mea[df_mea['measurement_name'] == 'Outcome'].copy()\n",
    "imputed_data_o['current_day_of_study'] = imputed_data_o['current_day_of_study'].astype(int)\n",
    "\n",
    "days = pd.DataFrame({'current_day_of_study': range(0, 16)})\n",
    "\n",
    "imputed_complete_o = days.merge(\n",
    "    imputed_data_o, \n",
    "    how='left', \n",
    "    on='current_day_of_study'\n",
    ")\n",
    "\n",
    "imputed_complete_o['measurement_name'].fillna('Outcome', inplace=True)\n",
    "\n",
    "imputed_data_m = df_mea[df_mea['measurement_name'] == 'Mediators'].copy()\n",
    "imputed_data_m['current_day_of_study'] = imputed_data_m['current_day_of_study'].astype(int)\n",
    "\n",
    "imputed_complete_m = days.merge(\n",
    "    imputed_data_m, \n",
    "    how='left', \n",
    "    on='current_day_of_study'\n",
    ")\n",
    "\n",
    "imputed_complete_m['measurement_name'].fillna('Mediators', inplace=True)"
   ]
  },
  {
   "cell_type": "code",
   "execution_count": 33,
   "id": "ea05c06e",
   "metadata": {},
   "outputs": [],
   "source": [
    "df_o = imputed_complete_o.copy()\n",
    "df_m = imputed_complete_m.copy()\n",
    "pattern = (\n",
    "    ['A'] * 4 +\n",
    "    ['B'] * 8 +\n",
    "    ['A'] * 4 \n",
    ")\n",
    "txt = {\n",
    "    'A': \"Reading books!\",\n",
    "    'B': \"Not reading books!\"\n",
    "}\n",
    "\n",
    "df_unique_o = (\n",
    "    df_o\n",
    "    .sort_values('current_day_of_study')       \n",
    "    .groupby('current_day_of_study', as_index=True)\n",
    "    .first()                                   \n",
    ")\n",
    "\n",
    "df_fill_o = (\n",
    "    df_unique_o\n",
    "    .reindex(range(0, 16))                    \n",
    "    .reset_index()                            \n",
    ")\n",
    "\n",
    "mask_o = df_fill_o['current_intervention_name'].isna()\n",
    "df_fill_o.loc[mask_o, 'current_intervention_name'] = (\n",
    "    df_fill_o.loc[mask_o, 'current_day_of_study']\n",
    "            .map(lambda day: txt[ pattern[int(day)] ])\n",
    ")\n",
    "df_unique_m = (\n",
    "    df_m\n",
    "    .sort_values('current_day_of_study')       \n",
    "    .groupby('current_day_of_study', as_index=True)\n",
    "    .first()                                   \n",
    ")\n",
    "\n",
    "df_fill_m = (\n",
    "    df_unique_m\n",
    "    .reindex(range(0, 16))                     \n",
    "    .reset_index()                             \n",
    ")\n",
    "\n",
    "mask_m = df_fill_m['current_intervention_name'].isna()\n",
    "df_fill_m.loc[mask_m, 'current_intervention_name'] = (\n",
    "    df_fill_m.loc[mask_m, 'current_day_of_study']\n",
    "            .map(lambda day: txt[ pattern[int(day)] ])\n",
    ")"
   ]
  },
  {
   "cell_type": "code",
   "execution_count": 34,
   "id": "d3984539",
   "metadata": {},
   "outputs": [],
   "source": [
    "df_mean_imp_o = df_fill_o.copy()\n",
    "df_mean_imp_m = df_fill_m.copy()\n",
    "\n",
    "df_mean_imp_o['survey1_question1_response'] = (\n",
    "    df_mean_imp_o\n",
    "    .groupby('current_intervention_name')['survey1_question1_response']\n",
    "    .transform(lambda grp: grp.fillna(grp.mean()))\n",
    ")\n",
    "cols_to_impute = [\n",
    "    'survey2_question1_response',\n",
    "    'survey2_question2_response'\n",
    "]\n",
    "\n",
    "for col in cols_to_impute:\n",
    "    df_mean_imp_m[col] = (\n",
    "        df_mean_imp_m\n",
    "        .groupby('current_intervention_name')[col]\n",
    "        .transform(lambda grp: grp.fillna(grp.mean()))\n",
    "    )"
   ]
  },
  {
   "cell_type": "code",
   "execution_count": 35,
   "id": "064e009d",
   "metadata": {},
   "outputs": [
    {
     "name": "stdout",
     "output_type": "stream",
     "text": [
      "Model result with neither fac1 nor fac2 (intervention only):\n"
     ]
    },
    {
     "name": "stderr",
     "output_type": "stream",
     "text": [
      "Initializing NUTS using jitter+adapt_diag...\n",
      "c:\\Users\\USER\\AppData\\Local\\r-miniconda\\Lib\\site-packages\\pytensor\\tensor\\rewriting\\elemwise.py:954: UserWarning: Loop fusion failed because the resulting node would exceed the kernel argument limit.\n",
      "  warn(\n",
      "Multiprocess sampling (2 chains in 2 jobs)\n",
      "NUTS: [beta0, beta_int, rho, sigma]\n"
     ]
    },
    {
     "data": {
      "text/html": [
       "<pre style=\"white-space:pre;overflow-x:auto;line-height:normal;font-family:Menlo,'DejaVu Sans Mono',consolas,'Courier New',monospace\">c:\\Users\\USER\\AppData\\Local\\r-miniconda\\Lib\\site-packages\\rich\\live.py:231: UserWarning: install \"ipywidgets\" for \n",
       "Jupyter support\n",
       "  warnings.warn('install \"ipywidgets\" for Jupyter support')\n",
       "</pre>\n"
      ],
      "text/plain": [
       "c:\\Users\\USER\\AppData\\Local\\r-miniconda\\Lib\\site-packages\\rich\\live.py:231: UserWarning: install \"ipywidgets\" for \n",
       "Jupyter support\n",
       "  warnings.warn('install \"ipywidgets\" for Jupyter support')\n"
      ]
     },
     "metadata": {},
     "output_type": "display_data"
    },
    {
     "data": {
      "text/html": [
       "<pre style=\"white-space:pre;overflow-x:auto;line-height:normal;font-family:Menlo,'DejaVu Sans Mono',consolas,'Courier New',monospace\"></pre>\n"
      ],
      "text/plain": []
     },
     "metadata": {},
     "output_type": "display_data"
    },
    {
     "name": "stderr",
     "output_type": "stream",
     "text": [
      "Sampling 2 chains for 500 tune and 500 draw iterations (1_000 + 1_000 draws total) took 85 seconds.\n",
      "We recommend running at least 4 chains for robust computation of convergence diagnostics\n"
     ]
    },
    {
     "name": "stdout",
     "output_type": "stream",
     "text": [
      "           mean     sd  hdi_2.5%  hdi_97.5%  mcse_mean  mcse_sd  ess_bulk  \\\n",
      "beta_int -0.547  0.665    -1.905      0.772      0.025    0.022     698.0   \n",
      "rho      -0.029  0.313    -0.639      0.540      0.015    0.020     513.0   \n",
      "sigma     1.765  0.295     1.293      2.400      0.014    0.014     468.0   \n",
      "\n",
      "          ess_tail  r_hat  \n",
      "beta_int     537.0    1.0  \n",
      "rho          183.0    1.0  \n",
      "sigma        501.0    1.0  \n",
      "P(beta_int ≤ –0.5) = 53.70%\n",
      "P(–0.5 < beta_int < 0) = 27.30%\n",
      "P(beta_int ≥ 0) = 19.00%\n",
      "P(Stress reduction of reading books ≥ 0.5) = 53.70%\n",
      "\n",
      "Model result with only fac1:\n"
     ]
    },
    {
     "name": "stderr",
     "output_type": "stream",
     "text": [
      "Initializing NUTS using jitter+adapt_diag...\n",
      "c:\\Users\\USER\\AppData\\Local\\r-miniconda\\Lib\\site-packages\\pytensor\\tensor\\rewriting\\elemwise.py:954: UserWarning: Loop fusion failed because the resulting node would exceed the kernel argument limit.\n",
      "  warn(\n",
      "Multiprocess sampling (2 chains in 2 jobs)\n",
      "NUTS: [beta0, beta_int, beta_f1, rho, sigma]\n"
     ]
    },
    {
     "data": {
      "text/html": [
       "<pre style=\"white-space:pre;overflow-x:auto;line-height:normal;font-family:Menlo,'DejaVu Sans Mono',consolas,'Courier New',monospace\">c:\\Users\\USER\\AppData\\Local\\r-miniconda\\Lib\\site-packages\\rich\\live.py:231: UserWarning: install \"ipywidgets\" for \n",
       "Jupyter support\n",
       "  warnings.warn('install \"ipywidgets\" for Jupyter support')\n",
       "</pre>\n"
      ],
      "text/plain": [
       "c:\\Users\\USER\\AppData\\Local\\r-miniconda\\Lib\\site-packages\\rich\\live.py:231: UserWarning: install \"ipywidgets\" for \n",
       "Jupyter support\n",
       "  warnings.warn('install \"ipywidgets\" for Jupyter support')\n"
      ]
     },
     "metadata": {},
     "output_type": "display_data"
    },
    {
     "data": {
      "text/html": [
       "<pre style=\"white-space:pre;overflow-x:auto;line-height:normal;font-family:Menlo,'DejaVu Sans Mono',consolas,'Courier New',monospace\"></pre>\n"
      ],
      "text/plain": []
     },
     "metadata": {},
     "output_type": "display_data"
    },
    {
     "name": "stderr",
     "output_type": "stream",
     "text": [
      "Sampling 2 chains for 500 tune and 500 draw iterations (1_000 + 1_000 draws total) took 169 seconds.\n",
      "We recommend running at least 4 chains for robust computation of convergence diagnostics\n"
     ]
    },
    {
     "name": "stdout",
     "output_type": "stream",
     "text": [
      "           mean     sd  hdi_2.5%  hdi_97.5%  mcse_mean  mcse_sd  ess_bulk  \\\n",
      "beta_int -0.348  0.689    -1.686      0.986      0.030    0.022     543.0   \n",
      "beta_f1   0.518  0.219     0.100      0.942      0.010    0.009     483.0   \n",
      "rho       0.055  0.300    -0.580      0.623      0.014    0.013     495.0   \n",
      "sigma     1.589  0.268     1.084      2.102      0.010    0.012     768.0   \n",
      "\n",
      "          ess_tail  r_hat  \n",
      "beta_int     630.0   1.00  \n",
      "beta_f1      514.0   1.00  \n",
      "rho          443.0   1.01  \n",
      "sigma        601.0   1.00  \n",
      "P(beta_int ≤ –0.5) = 40.00%\n",
      "P(–0.5 < beta_int < 0) = 30.70%\n",
      "P(beta_int ≥ 0) = 29.30%\n",
      "P(Stress reduction of reading books ≥ 0.5) = 40.00%\n",
      "\n",
      "Model result with only fac2:\n"
     ]
    },
    {
     "name": "stderr",
     "output_type": "stream",
     "text": [
      "Initializing NUTS using jitter+adapt_diag...\n",
      "c:\\Users\\USER\\AppData\\Local\\r-miniconda\\Lib\\site-packages\\pytensor\\tensor\\rewriting\\elemwise.py:954: UserWarning: Loop fusion failed because the resulting node would exceed the kernel argument limit.\n",
      "  warn(\n",
      "Multiprocess sampling (2 chains in 2 jobs)\n",
      "NUTS: [beta0, beta_int, beta_f2, rho, sigma]\n"
     ]
    },
    {
     "data": {
      "text/html": [
       "<pre style=\"white-space:pre;overflow-x:auto;line-height:normal;font-family:Menlo,'DejaVu Sans Mono',consolas,'Courier New',monospace\">c:\\Users\\USER\\AppData\\Local\\r-miniconda\\Lib\\site-packages\\rich\\live.py:231: UserWarning: install \"ipywidgets\" for \n",
       "Jupyter support\n",
       "  warnings.warn('install \"ipywidgets\" for Jupyter support')\n",
       "</pre>\n"
      ],
      "text/plain": [
       "c:\\Users\\USER\\AppData\\Local\\r-miniconda\\Lib\\site-packages\\rich\\live.py:231: UserWarning: install \"ipywidgets\" for \n",
       "Jupyter support\n",
       "  warnings.warn('install \"ipywidgets\" for Jupyter support')\n"
      ]
     },
     "metadata": {},
     "output_type": "display_data"
    },
    {
     "data": {
      "text/html": [
       "<pre style=\"white-space:pre;overflow-x:auto;line-height:normal;font-family:Menlo,'DejaVu Sans Mono',consolas,'Courier New',monospace\"></pre>\n"
      ],
      "text/plain": []
     },
     "metadata": {},
     "output_type": "display_data"
    },
    {
     "name": "stderr",
     "output_type": "stream",
     "text": [
      "Sampling 2 chains for 500 tune and 500 draw iterations (1_000 + 1_000 draws total) took 163 seconds.\n",
      "We recommend running at least 4 chains for robust computation of convergence diagnostics\n",
      "The rhat statistic is larger than 1.01 for some parameters. This indicates problems during sampling. See https://arxiv.org/abs/1903.08008 for details\n"
     ]
    },
    {
     "name": "stdout",
     "output_type": "stream",
     "text": [
      "           mean     sd  hdi_2.5%  hdi_97.5%  mcse_mean  mcse_sd  ess_bulk  \\\n",
      "beta_int -0.121  0.634    -1.410      1.062      0.032    0.028     400.0   \n",
      "beta_f2   0.920  0.227     0.473      1.355      0.012    0.008     351.0   \n",
      "rho       0.207  0.302    -0.327      0.880      0.014    0.012     486.0   \n",
      "sigma     1.310  0.251     0.862      1.781      0.012    0.011     479.0   \n",
      "\n",
      "          ess_tail  r_hat  \n",
      "beta_int     424.0   1.01  \n",
      "beta_f2      503.0   1.01  \n",
      "rho          324.0   1.00  \n",
      "sigma        510.0   1.01  \n",
      "P(beta_int ≤ –0.5) = 25.10%\n",
      "P(–0.5 < beta_int < 0) = 33.90%\n",
      "P(beta_int ≥ 0) = 41.00%\n",
      "P(Stress reduction of reading books ≥ 0.5) = 25.10%\n",
      "\n",
      "Model result with both fac1 and fac2:\n"
     ]
    },
    {
     "name": "stderr",
     "output_type": "stream",
     "text": [
      "Initializing NUTS using jitter+adapt_diag...\n",
      "c:\\Users\\USER\\AppData\\Local\\r-miniconda\\Lib\\site-packages\\pytensor\\tensor\\rewriting\\elemwise.py:954: UserWarning: Loop fusion failed because the resulting node would exceed the kernel argument limit.\n",
      "  warn(\n",
      "Multiprocess sampling (2 chains in 2 jobs)\n",
      "NUTS: [beta0, beta_int, beta_f1, beta_f2, rho, sigma]\n"
     ]
    },
    {
     "data": {
      "text/html": [
       "<pre style=\"white-space:pre;overflow-x:auto;line-height:normal;font-family:Menlo,'DejaVu Sans Mono',consolas,'Courier New',monospace\">c:\\Users\\USER\\AppData\\Local\\r-miniconda\\Lib\\site-packages\\rich\\live.py:231: UserWarning: install \"ipywidgets\" for \n",
       "Jupyter support\n",
       "  warnings.warn('install \"ipywidgets\" for Jupyter support')\n",
       "</pre>\n"
      ],
      "text/plain": [
       "c:\\Users\\USER\\AppData\\Local\\r-miniconda\\Lib\\site-packages\\rich\\live.py:231: UserWarning: install \"ipywidgets\" for \n",
       "Jupyter support\n",
       "  warnings.warn('install \"ipywidgets\" for Jupyter support')\n"
      ]
     },
     "metadata": {},
     "output_type": "display_data"
    },
    {
     "data": {
      "text/html": [
       "<pre style=\"white-space:pre;overflow-x:auto;line-height:normal;font-family:Menlo,'DejaVu Sans Mono',consolas,'Courier New',monospace\"></pre>\n"
      ],
      "text/plain": []
     },
     "metadata": {},
     "output_type": "display_data"
    },
    {
     "name": "stderr",
     "output_type": "stream",
     "text": [
      "Sampling 2 chains for 500 tune and 500 draw iterations (1_000 + 1_000 draws total) took 225 seconds.\n",
      "We recommend running at least 4 chains for robust computation of convergence diagnostics\n"
     ]
    },
    {
     "name": "stdout",
     "output_type": "stream",
     "text": [
      "           mean     sd  hdi_2.5%  hdi_97.5%  mcse_mean  mcse_sd  ess_bulk  \\\n",
      "beta_int -0.099  0.652    -1.350      1.158      0.027    0.021     600.0   \n",
      "beta_f1   0.032  0.271    -0.490      0.545      0.012    0.010     531.0   \n",
      "beta_f2   0.899  0.324     0.276      1.585      0.014    0.012     559.0   \n",
      "rho       0.170  0.316    -0.388      0.834      0.015    0.010     420.0   \n",
      "sigma     1.344  0.249     0.908      1.843      0.011    0.010     540.0   \n",
      "\n",
      "          ess_tail  r_hat  \n",
      "beta_int     610.0   1.01  \n",
      "beta_f1      432.0   1.01  \n",
      "beta_f2      497.0   1.00  \n",
      "rho          461.0   1.00  \n",
      "sigma        618.0   1.01  \n",
      "P(beta_int ≤ –0.5) = 26.70%\n",
      "P(–0.5 < beta_int < 0) = 28.10%\n",
      "P(beta_int ≥ 0) = 45.20%\n",
      "P(Stress reduction of reading books ≥ 0.5) = 26.70%\n",
      "\n"
     ]
    }
   ],
   "source": [
    "\n",
    "def run_model(fac_cols, beta_names):\n",
    "    out = df_mean_imp_o.copy()\n",
    "    med = df_mean_imp_m.copy()\n",
    "    data = (\n",
    "        pd.merge(\n",
    "            out[['current_day_of_study', 'survey1_question1_response', 'current_intervention_name']],\n",
    "            med[['current_day_of_study'] + fac_cols] if fac_cols else out[['current_day_of_study']],\n",
    "            on='current_day_of_study',\n",
    "            how='inner'\n",
    "        ).dropna().sort_values('current_day_of_study').reset_index(drop=True)\n",
    "    )\n",
    "    y = data['survey1_question1_response'].values\n",
    "    interv = (data['current_intervention_name'] == \"Reading books!\").astype(int).values\n",
    "    n = len(data)\n",
    "    fac_arrays = [data[col].values for col in fac_cols] if fac_cols else []\n",
    "\n",
    "    with pm.Model() as model:\n",
    "        beta0 = pm.Normal('beta0', mu=0, sigma=10)\n",
    "        beta_int = pm.Normal('beta_int', mu=0, sigma=1)\n",
    "        betas = [pm.Normal(beta_name, mu=0, sigma=1) for beta_name in beta_names]\n",
    "        rho = pm.Uniform('rho', lower=-1, upper=1)\n",
    "        sigma = pm.HalfNormal('sigma', sigma=1)\n",
    "        mu = beta0 + beta_int * interv\n",
    "        for beta, fac in zip(betas, fac_arrays):\n",
    "            mu += beta * fac\n",
    "        pm.Normal('y_0', mu=mu[0], sigma=sigma, observed=y[0])\n",
    "        for t in range(1, n):\n",
    "            adjustment = rho * (y[t-1] - mu[t-1])\n",
    "            pm.Normal(f'y_{t}', mu=mu[t] + adjustment, sigma=sigma, observed=y[t])\n",
    "        trace = pm.sample(draws=500, tune=500, chains=2, target_accept=0.9, return_inferencedata=True)\n",
    "    summary = az.summary(trace, var_names=['beta_int'] + beta_names + ['rho', 'sigma'], hdi_prob=0.95)\n",
    "    print(summary)\n",
    "    beta_samples = trace.posterior['beta_int'].values.flatten()\n",
    "    p_le_neg05 = (beta_samples <= -0.5).mean()\n",
    "    p_between  = ((beta_samples > -0.5) & (beta_samples < 0)).mean()\n",
    "    p_ge0      = (beta_samples >= 0).mean()\n",
    "    print(f\"P(beta_int ≤ –0.5) = {p_le_neg05:.2%}\")\n",
    "    print(f\"P(–0.5 < beta_int < 0) = {p_between:.2%}\")\n",
    "    print(f\"P(beta_int ≥ 0) = {p_ge0:.2%}\")\n",
    "    prob = (trace.posterior['beta_int'] < -0.5).mean().item()\n",
    "    print(f\"P(Stress reduction of reading books ≥ 0.5) = {prob:.2%}\\n\")\n",
    "\n",
    "print(\"Model result with neither fac1 nor fac2 (intervention only):\")\n",
    "run_model([], [])\n",
    "\n",
    "print(\"Model result with only fac1:\")\n",
    "run_model(['survey2_question1_response'], ['beta_f1'])\n",
    "\n",
    "print(\"Model result with only fac2:\")\n",
    "run_model(['survey2_question2_response'], ['beta_f2'])\n",
    "\n",
    "print(\"Model result with both fac1 and fac2:\")\n",
    "run_model(['survey2_question1_response', 'survey2_question2_response'], ['beta_f1', 'beta_f2'])"
   ]
  },
  {
   "cell_type": "markdown",
   "id": "aad9cebc",
   "metadata": {},
   "source": [
    "#### Bayesian AR(1) Model of Daily Stress Response to Reading Books and Mediators - Latent Missing Method"
   ]
  },
  {
   "cell_type": "code",
   "execution_count": 36,
   "id": "ba3b1883",
   "metadata": {},
   "outputs": [
    {
     "name": "stdout",
     "output_type": "stream",
     "text": [
      "Model: Neither fac1 nor fac2 (intervention only)\n"
     ]
    },
    {
     "name": "stderr",
     "output_type": "stream",
     "text": [
      "Initializing NUTS using jitter+adapt_diag...\n",
      "Multiprocess sampling (2 chains in 2 jobs)\n",
      "NUTS: [beta0, beta_int, rho, sigma, y_latent]\n"
     ]
    },
    {
     "data": {
      "text/html": [
       "<pre style=\"white-space:pre;overflow-x:auto;line-height:normal;font-family:Menlo,'DejaVu Sans Mono',consolas,'Courier New',monospace\">c:\\Users\\USER\\AppData\\Local\\r-miniconda\\Lib\\site-packages\\rich\\live.py:231: UserWarning: install \"ipywidgets\" for \n",
       "Jupyter support\n",
       "  warnings.warn('install \"ipywidgets\" for Jupyter support')\n",
       "</pre>\n"
      ],
      "text/plain": [
       "c:\\Users\\USER\\AppData\\Local\\r-miniconda\\Lib\\site-packages\\rich\\live.py:231: UserWarning: install \"ipywidgets\" for \n",
       "Jupyter support\n",
       "  warnings.warn('install \"ipywidgets\" for Jupyter support')\n"
      ]
     },
     "metadata": {},
     "output_type": "display_data"
    },
    {
     "data": {
      "text/html": [
       "<pre style=\"white-space:pre;overflow-x:auto;line-height:normal;font-family:Menlo,'DejaVu Sans Mono',consolas,'Courier New',monospace\"></pre>\n"
      ],
      "text/plain": []
     },
     "metadata": {},
     "output_type": "display_data"
    },
    {
     "name": "stderr",
     "output_type": "stream",
     "text": [
      "Sampling 2 chains for 500 tune and 500 draw iterations (1_000 + 1_000 draws total) took 113 seconds.\n",
      "We recommend running at least 4 chains for robust computation of convergence diagnostics\n"
     ]
    },
    {
     "name": "stdout",
     "output_type": "stream",
     "text": [
      "           mean     sd  hdi_2.5%  hdi_97.5%  mcse_mean  mcse_sd  ess_bulk  \\\n",
      "beta_int -0.490  0.719    -2.054      0.795      0.037    0.040     417.0   \n",
      "rho      -0.014  0.269    -0.523      0.555      0.013    0.011     469.0   \n",
      "sigma     1.797  0.316     1.234      2.378      0.015    0.009     412.0   \n",
      "\n",
      "          ess_tail  r_hat  \n",
      "beta_int     351.0   1.01  \n",
      "rho          402.0   1.01  \n",
      "sigma        729.0   1.00  \n",
      "P(beta_int ≤ –0.5) = 50.50%\n",
      "P(–0.5 < beta_int < 0) = 27.10%\n",
      "P(beta_int ≥ 0) = 22.40%\n",
      "Model: Only fac1\n"
     ]
    },
    {
     "name": "stderr",
     "output_type": "stream",
     "text": [
      "Initializing NUTS using jitter+adapt_diag...\n",
      "Multiprocess sampling (2 chains in 2 jobs)\n",
      "NUTS: [beta0, beta_int, beta_f1, rho, sigma, y_latent]\n"
     ]
    },
    {
     "data": {
      "text/html": [
       "<pre style=\"white-space:pre;overflow-x:auto;line-height:normal;font-family:Menlo,'DejaVu Sans Mono',consolas,'Courier New',monospace\">c:\\Users\\USER\\AppData\\Local\\r-miniconda\\Lib\\site-packages\\rich\\live.py:231: UserWarning: install \"ipywidgets\" for \n",
       "Jupyter support\n",
       "  warnings.warn('install \"ipywidgets\" for Jupyter support')\n",
       "</pre>\n"
      ],
      "text/plain": [
       "c:\\Users\\USER\\AppData\\Local\\r-miniconda\\Lib\\site-packages\\rich\\live.py:231: UserWarning: install \"ipywidgets\" for \n",
       "Jupyter support\n",
       "  warnings.warn('install \"ipywidgets\" for Jupyter support')\n"
      ]
     },
     "metadata": {},
     "output_type": "display_data"
    },
    {
     "data": {
      "text/html": [
       "<pre style=\"white-space:pre;overflow-x:auto;line-height:normal;font-family:Menlo,'DejaVu Sans Mono',consolas,'Courier New',monospace\"></pre>\n"
      ],
      "text/plain": []
     },
     "metadata": {},
     "output_type": "display_data"
    },
    {
     "name": "stderr",
     "output_type": "stream",
     "text": [
      "Sampling 2 chains for 500 tune and 500 draw iterations (1_000 + 1_000 draws total) took 176 seconds.\n",
      "We recommend running at least 4 chains for robust computation of convergence diagnostics\n"
     ]
    },
    {
     "name": "stdout",
     "output_type": "stream",
     "text": [
      "           mean     sd  hdi_2.5%  hdi_97.5%  mcse_mean  mcse_sd  ess_bulk  \\\n",
      "beta_int -0.418  0.563    -1.410      0.841      0.022    0.022     680.0   \n",
      "rho      -0.075  0.246    -0.582      0.386      0.013    0.012     412.0   \n",
      "sigma     1.462  0.281     0.986      2.040      0.012    0.012     642.0   \n",
      "beta_f1   0.616  0.206     0.199      0.999      0.011    0.009     385.0   \n",
      "\n",
      "          ess_tail  r_hat  \n",
      "beta_int     566.0    1.0  \n",
      "rho          384.0    1.0  \n",
      "sigma        526.0    1.0  \n",
      "beta_f1      568.0    1.0  \n",
      "P(beta_int ≤ –0.5) = 42.90%\n",
      "P(–0.5 < beta_int < 0) = 35.60%\n",
      "P(beta_int ≥ 0) = 21.50%\n",
      "Model: Only fac2\n"
     ]
    },
    {
     "name": "stderr",
     "output_type": "stream",
     "text": [
      "Initializing NUTS using jitter+adapt_diag...\n",
      "Multiprocess sampling (2 chains in 2 jobs)\n",
      "NUTS: [beta0, beta_int, beta_f2, rho, sigma, y_latent]\n"
     ]
    },
    {
     "data": {
      "text/html": [
       "<pre style=\"white-space:pre;overflow-x:auto;line-height:normal;font-family:Menlo,'DejaVu Sans Mono',consolas,'Courier New',monospace\">c:\\Users\\USER\\AppData\\Local\\r-miniconda\\Lib\\site-packages\\rich\\live.py:231: UserWarning: install \"ipywidgets\" for \n",
       "Jupyter support\n",
       "  warnings.warn('install \"ipywidgets\" for Jupyter support')\n",
       "</pre>\n"
      ],
      "text/plain": [
       "c:\\Users\\USER\\AppData\\Local\\r-miniconda\\Lib\\site-packages\\rich\\live.py:231: UserWarning: install \"ipywidgets\" for \n",
       "Jupyter support\n",
       "  warnings.warn('install \"ipywidgets\" for Jupyter support')\n"
      ]
     },
     "metadata": {},
     "output_type": "display_data"
    },
    {
     "data": {
      "text/html": [
       "<pre style=\"white-space:pre;overflow-x:auto;line-height:normal;font-family:Menlo,'DejaVu Sans Mono',consolas,'Courier New',monospace\"></pre>\n"
      ],
      "text/plain": []
     },
     "metadata": {},
     "output_type": "display_data"
    },
    {
     "name": "stderr",
     "output_type": "stream",
     "text": [
      "Sampling 2 chains for 500 tune and 500 draw iterations (1_000 + 1_000 draws total) took 185 seconds.\n",
      "We recommend running at least 4 chains for robust computation of convergence diagnostics\n",
      "The rhat statistic is larger than 1.01 for some parameters. This indicates problems during sampling. See https://arxiv.org/abs/1903.08008 for details\n"
     ]
    },
    {
     "name": "stdout",
     "output_type": "stream",
     "text": [
      "           mean     sd  hdi_2.5%  hdi_97.5%  mcse_mean  mcse_sd  ess_bulk  \\\n",
      "beta_int -0.507  0.523    -1.577      0.478      0.021    0.017     629.0   \n",
      "rho       0.070  0.288    -0.476      0.771      0.020    0.018     227.0   \n",
      "sigma     1.067  0.226     0.658      1.497      0.010    0.009     574.0   \n",
      "beta_f2   0.889  0.176     0.520      1.214      0.007    0.006     584.0   \n",
      "\n",
      "          ess_tail  r_hat  \n",
      "beta_int     591.0   1.01  \n",
      "rho          221.0   1.01  \n",
      "sigma        631.0   1.00  \n",
      "beta_f2      580.0   1.00  \n",
      "P(beta_int ≤ –0.5) = 48.50%\n",
      "P(–0.5 < beta_int < 0) = 35.40%\n",
      "P(beta_int ≥ 0) = 16.10%\n",
      "Model: Both fac1 and fac2\n"
     ]
    },
    {
     "name": "stderr",
     "output_type": "stream",
     "text": [
      "Initializing NUTS using jitter+adapt_diag...\n",
      "Multiprocess sampling (2 chains in 2 jobs)\n",
      "NUTS: [beta0, beta_int, beta_f1, beta_f2, rho, sigma, y_latent]\n"
     ]
    },
    {
     "data": {
      "text/html": [
       "<pre style=\"white-space:pre;overflow-x:auto;line-height:normal;font-family:Menlo,'DejaVu Sans Mono',consolas,'Courier New',monospace\">c:\\Users\\USER\\AppData\\Local\\r-miniconda\\Lib\\site-packages\\rich\\live.py:231: UserWarning: install \"ipywidgets\" for \n",
       "Jupyter support\n",
       "  warnings.warn('install \"ipywidgets\" for Jupyter support')\n",
       "</pre>\n"
      ],
      "text/plain": [
       "c:\\Users\\USER\\AppData\\Local\\r-miniconda\\Lib\\site-packages\\rich\\live.py:231: UserWarning: install \"ipywidgets\" for \n",
       "Jupyter support\n",
       "  warnings.warn('install \"ipywidgets\" for Jupyter support')\n"
      ]
     },
     "metadata": {},
     "output_type": "display_data"
    },
    {
     "data": {
      "text/html": [
       "<pre style=\"white-space:pre;overflow-x:auto;line-height:normal;font-family:Menlo,'DejaVu Sans Mono',consolas,'Courier New',monospace\"></pre>\n"
      ],
      "text/plain": []
     },
     "metadata": {},
     "output_type": "display_data"
    },
    {
     "name": "stderr",
     "output_type": "stream",
     "text": [
      "Sampling 2 chains for 500 tune and 500 draw iterations (1_000 + 1_000 draws total) took 275 seconds.\n",
      "We recommend running at least 4 chains for robust computation of convergence diagnostics\n"
     ]
    },
    {
     "name": "stdout",
     "output_type": "stream",
     "text": [
      "           mean     sd  hdi_2.5%  hdi_97.5%  mcse_mean  mcse_sd  ess_bulk  \\\n",
      "beta_int -0.452  0.534    -1.478      0.666      0.024    0.022     517.0   \n",
      "rho       0.041  0.266    -0.532      0.570      0.014    0.017     397.0   \n",
      "sigma     1.098  0.238     0.677      1.541      0.011    0.007     503.0   \n",
      "beta_f1  -0.060  0.242    -0.565      0.358      0.011    0.009     477.0   \n",
      "beta_f2   0.950  0.277     0.378      1.468      0.012    0.010     528.0   \n",
      "\n",
      "          ess_tail  r_hat  \n",
      "beta_int     433.0   1.01  \n",
      "rho          298.0   1.01  \n",
      "sigma        589.0   1.00  \n",
      "beta_f1      395.0   1.00  \n",
      "beta_f2      504.0   1.00  \n",
      "P(beta_int ≤ –0.5) = 43.90%\n",
      "P(–0.5 < beta_int < 0) = 37.10%\n",
      "P(beta_int ≥ 0) = 19.00%\n"
     ]
    }
   ],
   "source": [
    "def run_ar1_model(include_fac1=False, include_fac2=False):\n",
    "    outcome_data = df_mea[df_mea['measurement_name'] == 'Outcome']\n",
    "    mediator_data = df_mea[df_mea['measurement_name'] == 'Mediators']\n",
    "\n",
    "    merge_cols = ['current_day_of_study', 'survey1_question1_response', 'current_intervention_name']\n",
    "    mediator_cols = []\n",
    "    if include_fac1:\n",
    "        mediator_cols.append('survey2_question1_response')\n",
    "    if include_fac2:\n",
    "        mediator_cols.append('survey2_question2_response')\n",
    "\n",
    "    all_days = pd.DataFrame({'current_day_of_study': np.arange(0, 16)})\n",
    "    outcome_data = pd.merge(all_days, outcome_data[merge_cols], on='current_day_of_study', how='left')\n",
    "    if mediator_cols:\n",
    "        mediator_data = pd.merge(all_days,\n",
    "                                  mediator_data[['current_day_of_study'] + mediator_cols],\n",
    "                                  on='current_day_of_study', how='left')\n",
    "    else:\n",
    "        mediator_data = all_days.copy()\n",
    "\n",
    "    data = (pd.merge(outcome_data, mediator_data, on='current_day_of_study', how='left')\n",
    "              .sort_values('current_day_of_study')\n",
    "              .reset_index(drop=True))\n",
    "\n",
    "    y_obs_raw = data['survey1_question1_response'].values\n",
    "    y_obs = y_obs_raw.astype(float)\n",
    "    interv = (data['current_intervention_name'] == \"Reading books!\").astype(float).fillna(0.0)\n",
    "    fac1 = data['survey2_question1_response'].values if include_fac1 else None\n",
    "    fac2 = data['survey2_question2_response'].values if include_fac2 else None\n",
    "    n = len(y_obs)\n",
    "\n",
    "    nan_idx = np.isnan(y_obs)\n",
    "    obs_idx = ~nan_idx\n",
    "    missing_idx = np.where(nan_idx)[0].tolist()\n",
    "\n",
    "    with pm.Model() as model:\n",
    "        beta0    = pm.Normal('beta0',    mu=0, sigma=10)\n",
    "        beta_int = pm.Normal('beta_int', mu=0, sigma=1)\n",
    "        if include_fac1:\n",
    "            beta_f1 = pm.Normal('beta_f1', mu=0, sigma=10)\n",
    "        if include_fac2:\n",
    "            beta_f2 = pm.Normal('beta_f2', mu=0, sigma=10)\n",
    "        rho   = pm.Uniform('rho', lower=-1, upper=1)\n",
    "        sigma = pm.HalfNormal('sigma', sigma=1)\n",
    "\n",
    "        mu = beta0 + beta_int * interv\n",
    "        if include_fac1:\n",
    "            mu = mu + beta_f1 * pt.as_tensor_variable(np.nan_to_num(fac1, nan=0.0))\n",
    "        if include_fac2:\n",
    "            mu = mu + beta_f2 * pt.as_tensor_variable(np.nan_to_num(fac2, nan=0.0))\n",
    "\n",
    "        y_latent = pm.Normal('y_latent', mu=0, sigma=10, shape=len(missing_idx))\n",
    "\n",
    "        y_filled = pt.zeros(n)\n",
    "        y_filled = pt.set_subtensor(y_filled[missing_idx], y_latent)\n",
    "        y_filled = pt.set_subtensor(y_filled[obs_idx], y_obs[obs_idx])\n",
    "\n",
    "        def ar1_step(y_prev, mu_prev, mu_curr, rho):\n",
    "            return mu_curr + rho * (y_prev - mu_prev)\n",
    "\n",
    "        y_pred_scan, _ = scan(\n",
    "            fn=ar1_step,\n",
    "            sequences=[y_filled[:-1], mu[:-1], mu[1:]],\n",
    "            non_sequences=[rho],\n",
    "            n_steps=n-1\n",
    "        )\n",
    "        y_pred = pt.concatenate([mu[:1], y_pred_scan], axis=0)\n",
    "\n",
    "        pm.Normal('y_obs',\n",
    "                  mu=y_pred[obs_idx],\n",
    "                  sigma=sigma,\n",
    "                  observed=y_obs[obs_idx])\n",
    "\n",
    "        trace = pm.sample(draws=500, tune=500, chains=2, target_accept=0.9,\n",
    "                          return_inferencedata=True)\n",
    "\n",
    "    var_names = ['beta_int', 'rho', 'sigma']\n",
    "    if include_fac1: var_names.append('beta_f1')\n",
    "    if include_fac2: var_names.append('beta_f2')\n",
    "\n",
    "    summary = az.summary(trace, var_names=var_names, hdi_prob=0.95)\n",
    "    print(summary)\n",
    "\n",
    "    beta_samples = trace.posterior['beta_int'].values.flatten()\n",
    "    p_le_neg05 = (beta_samples <= -0.5).mean()\n",
    "    p_between  = ((beta_samples > -0.5) & (beta_samples < 0)).mean()\n",
    "    p_ge0      = (beta_samples >= 0).mean()\n",
    "\n",
    "    print(f\"P(beta_int ≤ –0.5) = {p_le_neg05:.2%}\")\n",
    "    print(f\"P(–0.5 < beta_int < 0) = {p_between:.2%}\")\n",
    "    print(f\"P(beta_int ≥ 0) = {p_ge0:.2%}\")\n",
    "\n",
    "print(\"Model: Neither fac1 nor fac2 (intervention only)\")\n",
    "run_ar1_model(include_fac1=False, include_fac2=False)\n",
    "\n",
    "print(\"Model: Only fac1\")\n",
    "run_ar1_model(include_fac1=True, include_fac2=False)\n",
    "\n",
    "print(\"Model: Only fac2\")\n",
    "run_ar1_model(include_fac1=False, include_fac2=True)\n",
    "\n",
    "print(\"Model: Both fac1 and fac2\")\n",
    "run_ar1_model(include_fac1=True, include_fac2=True)"
   ]
  }
 ],
 "metadata": {
  "kernelspec": {
   "display_name": "base",
   "language": "python",
   "name": "python3"
  },
  "language_info": {
   "codemirror_mode": {
    "name": "ipython",
    "version": 3
   },
   "file_extension": ".py",
   "mimetype": "text/x-python",
   "name": "python",
   "nbconvert_exporter": "python",
   "pygments_lexer": "ipython3",
   "version": "3.11.5"
  }
 },
 "nbformat": 4,
 "nbformat_minor": 5
}
