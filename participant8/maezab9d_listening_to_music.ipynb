{
 "cells": [
  {
   "cell_type": "markdown",
   "id": "f101cfde",
   "metadata": {},
   "source": [
    "## Data reading and Data Insights"
   ]
  },
  {
   "cell_type": "markdown",
   "id": "968516ae",
   "metadata": {},
   "source": [
    "**Listening to Music Participant: maezab9d, 16 days participation**\n",
    "\n",
    "*Dataset:* 'Listening to Music' vs 'Not Listening to Music' study\n",
    "\n",
    "\n"
   ]
  },
  {
   "cell_type": "markdown",
   "id": "085322bc",
   "metadata": {},
   "source": [
    "#### Libraries"
   ]
  },
  {
   "cell_type": "code",
   "execution_count": 2,
   "id": "12699831",
   "metadata": {},
   "outputs": [],
   "source": [
    "import pandas as pd\n",
    "import numpy as np\n",
    "import matplotlib.pyplot as plt\n",
    "import seaborn as sns\n",
    "from scipy import stats\n",
    "import statsmodels.api as sm\n",
    "from statsmodels.stats.stattools import durbin_watson\n",
    "import pymc as pm\n",
    "import arviz as az"
   ]
  },
  {
   "cell_type": "code",
   "execution_count": 3,
   "id": "565cf087",
   "metadata": {},
   "outputs": [],
   "source": [
    "path = \"C://Users//USER//Desktop//StudyU_Results//\"\n",
    "df_intervention = pd.read_csv(path+\"self-designed_n-of-1_trials_on_stress_management_-__listening_to_music_-_maezab9d_2025-05-08 09_43_57.286//interventions.csv\")\n",
    "#print(df_intervention.head())\n",
    "df_mea = pd.read_csv(path+\"self-designed_n-of-1_trials_on_stress_management_-__listening_to_music_-_maezab9d_2025-05-08 09_43_57.286//measurements.csv\")\n",
    "#print(df_mea.head())"
   ]
  },
  {
   "cell_type": "markdown",
   "id": "d1ad7802",
   "metadata": {},
   "source": [
    "## Data Analysis and Preprocessing"
   ]
  },
  {
   "cell_type": "markdown",
   "id": "e24520cc",
   "metadata": {},
   "source": [
    "- Pre-analysis: maezab9d\n",
    "    - Number of Participant\n",
    "    - Participation of the study\n",
    "    - Missing Values\n",
    "    - Remove Participants Who Joined Outside the Study\n",
    "    - Data Preperation"
   ]
  },
  {
   "cell_type": "markdown",
   "id": "10c82df0",
   "metadata": {},
   "source": [
    "#### Number of Participant"
   ]
  },
  {
   "cell_type": "code",
   "execution_count": 4,
   "id": "9e423290",
   "metadata": {},
   "outputs": [
    {
     "name": "stdout",
     "output_type": "stream",
     "text": [
      "The column 'participant_id' has only one unique value: '2e1f502a-d65c-46c7-af27-f7748c22f2ab'\n"
     ]
    }
   ],
   "source": [
    "column_name = 'participant_id' \n",
    "\n",
    "unique_count = df_intervention[column_name].nunique()\n",
    "\n",
    "if unique_count == 1:\n",
    "    only_value = df_intervention[column_name].iloc[0]\n",
    "    print(f\"The column '{column_name}' has only one unique value: {only_value!r}\")\n",
    "else:\n",
    "    print(f\"The column '{column_name}' has {unique_count} unique values.\")\n",
    "    print(\"Unique values are:\", df_intervention[column_name].unique())"
   ]
  },
  {
   "cell_type": "markdown",
   "id": "c4c7e973",
   "metadata": {},
   "source": [
    "#### Participation of the study"
   ]
  },
  {
   "cell_type": "code",
   "execution_count": 5,
   "id": "79cbb43d",
   "metadata": {},
   "outputs": [
    {
     "name": "stdout",
     "output_type": "stream",
     "text": [
      "                         participant_id  participation_days\n",
      "0  2e1f502a-d65c-46c7-af27-f7748c22f2ab                  16\n"
     ]
    }
   ],
   "source": [
    "df_mea['measurement_time'] = pd.to_datetime(df_mea['measurement_time'], utc=True)\n",
    "\n",
    "participation_days = (\n",
    "    df_mea\n",
    "    .groupby('participant_id')['measurement_time']\n",
    "    .apply(lambda x: x.dt.date.nunique())\n",
    "    .reset_index(name='participation_days')\n",
    ")\n",
    "\n",
    "print(participation_days)"
   ]
  },
  {
   "cell_type": "markdown",
   "id": "6fd47a75",
   "metadata": {},
   "source": [
    "As anticipated, the study comprised a single participant, with a total participation period of 16 days."
   ]
  },
  {
   "cell_type": "markdown",
   "id": "52c79068",
   "metadata": {},
   "source": [
    "#### Missing Values"
   ]
  },
  {
   "cell_type": "code",
   "execution_count": 6,
   "id": "0d543d72",
   "metadata": {},
   "outputs": [
    {
     "name": "stdout",
     "output_type": "stream",
     "text": [
      "\n",
      "--- Participant 2e1f502a-d65c-46c7-af27-f7748c22f2ab ---\n",
      "\n",
      "  Outcome:\n",
      "    Start date:           2025-04-21\n",
      "    End of expected 16d:  2025-05-06\n",
      "    Expected days count:  16\n",
      "    Completed days count: 16\n",
      "    Missed days count:    0\n",
      "\n",
      "  Mediators:\n",
      "    Start date:           2025-04-21\n",
      "    End of expected 16d:  2025-05-06\n",
      "    Expected days count:  16\n",
      "    Completed days count: 16\n",
      "    Missed days count:    0\n"
     ]
    }
   ],
   "source": [
    "df_mea['measurement_time'] = pd.to_datetime(df_mea['measurement_time'])\n",
    "\n",
    "results = {}\n",
    "\n",
    "for pid in df_mea['participant_id'].unique():\n",
    "    results[pid] = {}\n",
    "    df_part = df_mea[df_mea['participant_id'] == pid]\n",
    "    \n",
    "    for name in ['Outcome', 'Mediators']:\n",
    "        sub = df_part[df_part['measurement_name'] == name].copy()\n",
    "        if sub.empty:\n",
    "            results[pid][name] = None\n",
    "            continue\n",
    "\n",
    "        sub['date'] = sub['measurement_time'].dt.date\n",
    "\n",
    "        start_date = sub['date'].min()\n",
    "\n",
    "        expected_dates = pd.date_range(start_date, periods=16, freq='D').date\n",
    "\n",
    "        done_dates = set(sub['date']) & set(expected_dates)\n",
    "\n",
    "        missed_dates = sorted(set(expected_dates) - done_dates)\n",
    "\n",
    "        results[pid][name] = {\n",
    "            'start_date': start_date,\n",
    "            'end_expected': expected_dates[-1],\n",
    "            'expected_days': len(expected_dates),            # should be 16\n",
    "            'completed_days': len(done_dates),\n",
    "            'missed_days_count': len(missed_dates),\n",
    "            'missed_dates': missed_dates\n",
    "        }\n",
    "\n",
    "for pid, measures in results.items():\n",
    "    print(f\"\\n--- Participant {pid} ---\")\n",
    "    for name, stats in measures.items():\n",
    "        if stats is None:\n",
    "            print(f\"{name}: no data\")\n",
    "            continue\n",
    "        print(f\"\\n  {name}:\")\n",
    "        print(f\"    Start date:           {stats['start_date']}\")\n",
    "        print(f\"    End of expected 16d:  {stats['end_expected']}\")\n",
    "        print(f\"    Expected days count:  {stats['expected_days']}\")\n",
    "        print(f\"    Completed days count: {stats['completed_days']}\")\n",
    "        print(f\"    Missed days count:    {stats['missed_days_count']}\")\n",
    "        if stats['missed_dates']:\n",
    "            print(\"    Missed dates:\")\n",
    "            for d in stats['missed_dates']:\n",
    "                print(\"      \", d)"
   ]
  },
  {
   "cell_type": "markdown",
   "id": "456ef994",
   "metadata": {},
   "source": [
    "#### Remove Participants Who Joined Outside the Study"
   ]
  },
  {
   "cell_type": "code",
   "execution_count": 7,
   "id": "613b1316",
   "metadata": {},
   "outputs": [],
   "source": [
    "# df_mea = df_mea[df_mea['participant_id'] != \"ca773388-eb42-4716-995a-476ed72c0475\"]\n",
    "# df_mea.shape[0]"
   ]
  },
  {
   "cell_type": "markdown",
   "id": "26a0d2f5",
   "metadata": {},
   "source": [
    "#### Data Preperation"
   ]
  },
  {
   "cell_type": "code",
   "execution_count": 8,
   "id": "5c2ba47f",
   "metadata": {},
   "outputs": [
    {
     "data": {
      "text/html": [
       "<div>\n",
       "<style scoped>\n",
       "    .dataframe tbody tr th:only-of-type {\n",
       "        vertical-align: middle;\n",
       "    }\n",
       "\n",
       "    .dataframe tbody tr th {\n",
       "        vertical-align: top;\n",
       "    }\n",
       "\n",
       "    .dataframe thead th {\n",
       "        text-align: right;\n",
       "    }\n",
       "</style>\n",
       "<table border=\"1\" class=\"dataframe\">\n",
       "  <thead>\n",
       "    <tr style=\"text-align: right;\">\n",
       "      <th></th>\n",
       "      <th>measurement_time</th>\n",
       "      <th>measurement_name</th>\n",
       "      <th>participant_id</th>\n",
       "      <th>current_day_of_study</th>\n",
       "      <th>current_intervention_name</th>\n",
       "      <th>survey1_question1_response</th>\n",
       "      <th>survey1_question2_response</th>\n",
       "      <th>survey1_question3_response</th>\n",
       "      <th>survey1_question4_response</th>\n",
       "      <th>survey2_question1_response</th>\n",
       "      <th>survey2_question2_response</th>\n",
       "    </tr>\n",
       "  </thead>\n",
       "  <tbody>\n",
       "    <tr>\n",
       "      <th>0</th>\n",
       "      <td>2025-05-06 19:01:20.016213+00:00</td>\n",
       "      <td>Mediators</td>\n",
       "      <td>2e1f502a-d65c-46c7-af27-f7748c22f2ab</td>\n",
       "      <td>15</td>\n",
       "      <td>Listening to music!</td>\n",
       "      <td>NaN</td>\n",
       "      <td>NaN</td>\n",
       "      <td>NaN</td>\n",
       "      <td>NaN</td>\n",
       "      <td>5.0</td>\n",
       "      <td>7.0</td>\n",
       "    </tr>\n",
       "  </tbody>\n",
       "</table>\n",
       "</div>"
      ],
      "text/plain": [
       "                  measurement_time measurement_name  \\\n",
       "0 2025-05-06 19:01:20.016213+00:00        Mediators   \n",
       "\n",
       "                         participant_id  current_day_of_study  \\\n",
       "0  2e1f502a-d65c-46c7-af27-f7748c22f2ab                    15   \n",
       "\n",
       "  current_intervention_name  survey1_question1_response  \\\n",
       "0       Listening to music!                         NaN   \n",
       "\n",
       "   survey1_question2_response  survey1_question3_response  \\\n",
       "0                         NaN                         NaN   \n",
       "\n",
       "   survey1_question4_response  survey2_question1_response  \\\n",
       "0                         NaN                         5.0   \n",
       "\n",
       "   survey2_question2_response  \n",
       "0                         7.0  "
      ]
     },
     "execution_count": 8,
     "metadata": {},
     "output_type": "execute_result"
    }
   ],
   "source": [
    "df_mea_all= df_mea[[\n",
    "     'measurement_time',\n",
    "     'measurement_name',\n",
    "     'participant_id',\n",
    "     'current_day_of_study',\n",
    "     'current_intervention_name',\n",
    "     'survey1_question1_response',\n",
    "     'survey1_question2_response',\n",
    "     'survey1_question3_response',\n",
    "     'survey1_question4_response',\n",
    "     'survey2_question1_response',\n",
    "     'survey2_question2_response']]\n",
    "df_mea_all.head(1)\n",
    "    "
   ]
  },
  {
   "cell_type": "code",
   "execution_count": 9,
   "id": "b8672a8e",
   "metadata": {},
   "outputs": [],
   "source": [
    "df_mea_m = df_mea_all[df_mea_all['measurement_name'] == 'Mediators']\n",
    "df_mea_o = df_mea_all[df_mea_all['measurement_name'] == 'Outcome']"
   ]
  },
  {
   "cell_type": "code",
   "execution_count": 10,
   "id": "ae3f0a0e",
   "metadata": {},
   "outputs": [],
   "source": [
    "df_mea_o = df_mea_o.sort_values(by=['participant_id', 'current_day_of_study'])\n",
    "df_mea_m = df_mea_m.sort_values(by=['participant_id', 'current_day_of_study'])"
   ]
  },
  {
   "cell_type": "code",
   "execution_count": 11,
   "id": "6d5cbda3",
   "metadata": {},
   "outputs": [
    {
     "data": {
      "text/html": [
       "<div>\n",
       "<style scoped>\n",
       "    .dataframe tbody tr th:only-of-type {\n",
       "        vertical-align: middle;\n",
       "    }\n",
       "\n",
       "    .dataframe tbody tr th {\n",
       "        vertical-align: top;\n",
       "    }\n",
       "\n",
       "    .dataframe thead th {\n",
       "        text-align: right;\n",
       "    }\n",
       "</style>\n",
       "<table border=\"1\" class=\"dataframe\">\n",
       "  <thead>\n",
       "    <tr style=\"text-align: right;\">\n",
       "      <th></th>\n",
       "      <th>measurement_time</th>\n",
       "      <th>measurement_name</th>\n",
       "      <th>participant_id</th>\n",
       "      <th>current_day_of_study</th>\n",
       "      <th>current_intervention_name</th>\n",
       "      <th>survey1_question1_response</th>\n",
       "      <th>survey1_question2_response</th>\n",
       "      <th>survey1_question3_response</th>\n",
       "      <th>survey1_question4_response</th>\n",
       "      <th>survey2_question1_response</th>\n",
       "      <th>survey2_question2_response</th>\n",
       "    </tr>\n",
       "  </thead>\n",
       "  <tbody>\n",
       "    <tr>\n",
       "      <th>31</th>\n",
       "      <td>2025-04-21 19:20:23.177743+00:00</td>\n",
       "      <td>Outcome</td>\n",
       "      <td>2e1f502a-d65c-46c7-af27-f7748c22f2ab</td>\n",
       "      <td>0</td>\n",
       "      <td>Listening to music!</td>\n",
       "      <td>7.0</td>\n",
       "      <td>9.0</td>\n",
       "      <td>5.0</td>\n",
       "      <td>1.0</td>\n",
       "      <td>NaN</td>\n",
       "      <td>NaN</td>\n",
       "    </tr>\n",
       "    <tr>\n",
       "      <th>29</th>\n",
       "      <td>2025-04-22 20:34:33.091722+00:00</td>\n",
       "      <td>Outcome</td>\n",
       "      <td>2e1f502a-d65c-46c7-af27-f7748c22f2ab</td>\n",
       "      <td>1</td>\n",
       "      <td>Listening to music!</td>\n",
       "      <td>9.0</td>\n",
       "      <td>8.0</td>\n",
       "      <td>5.0</td>\n",
       "      <td>1.0</td>\n",
       "      <td>NaN</td>\n",
       "      <td>NaN</td>\n",
       "    </tr>\n",
       "    <tr>\n",
       "      <th>27</th>\n",
       "      <td>2025-04-23 20:33:18.779702+00:00</td>\n",
       "      <td>Outcome</td>\n",
       "      <td>2e1f502a-d65c-46c7-af27-f7748c22f2ab</td>\n",
       "      <td>2</td>\n",
       "      <td>Listening to music!</td>\n",
       "      <td>6.0</td>\n",
       "      <td>7.0</td>\n",
       "      <td>5.0</td>\n",
       "      <td>1.0</td>\n",
       "      <td>NaN</td>\n",
       "      <td>NaN</td>\n",
       "    </tr>\n",
       "    <tr>\n",
       "      <th>25</th>\n",
       "      <td>2025-04-24 19:18:56.017919+00:00</td>\n",
       "      <td>Outcome</td>\n",
       "      <td>2e1f502a-d65c-46c7-af27-f7748c22f2ab</td>\n",
       "      <td>3</td>\n",
       "      <td>Listening to music!</td>\n",
       "      <td>9.0</td>\n",
       "      <td>8.0</td>\n",
       "      <td>2.0</td>\n",
       "      <td>1.0</td>\n",
       "      <td>NaN</td>\n",
       "      <td>NaN</td>\n",
       "    </tr>\n",
       "    <tr>\n",
       "      <th>22</th>\n",
       "      <td>2025-04-25 19:00:36.144754+00:00</td>\n",
       "      <td>Outcome</td>\n",
       "      <td>2e1f502a-d65c-46c7-af27-f7748c22f2ab</td>\n",
       "      <td>4</td>\n",
       "      <td>Not listening to music!</td>\n",
       "      <td>5.0</td>\n",
       "      <td>7.0</td>\n",
       "      <td>1.0</td>\n",
       "      <td>5.0</td>\n",
       "      <td>NaN</td>\n",
       "      <td>NaN</td>\n",
       "    </tr>\n",
       "  </tbody>\n",
       "</table>\n",
       "</div>"
      ],
      "text/plain": [
       "                   measurement_time measurement_name  \\\n",
       "31 2025-04-21 19:20:23.177743+00:00          Outcome   \n",
       "29 2025-04-22 20:34:33.091722+00:00          Outcome   \n",
       "27 2025-04-23 20:33:18.779702+00:00          Outcome   \n",
       "25 2025-04-24 19:18:56.017919+00:00          Outcome   \n",
       "22 2025-04-25 19:00:36.144754+00:00          Outcome   \n",
       "\n",
       "                          participant_id  current_day_of_study  \\\n",
       "31  2e1f502a-d65c-46c7-af27-f7748c22f2ab                     0   \n",
       "29  2e1f502a-d65c-46c7-af27-f7748c22f2ab                     1   \n",
       "27  2e1f502a-d65c-46c7-af27-f7748c22f2ab                     2   \n",
       "25  2e1f502a-d65c-46c7-af27-f7748c22f2ab                     3   \n",
       "22  2e1f502a-d65c-46c7-af27-f7748c22f2ab                     4   \n",
       "\n",
       "   current_intervention_name  survey1_question1_response  \\\n",
       "31       Listening to music!                         7.0   \n",
       "29       Listening to music!                         9.0   \n",
       "27       Listening to music!                         6.0   \n",
       "25       Listening to music!                         9.0   \n",
       "22   Not listening to music!                         5.0   \n",
       "\n",
       "    survey1_question2_response  survey1_question3_response  \\\n",
       "31                         9.0                         5.0   \n",
       "29                         8.0                         5.0   \n",
       "27                         7.0                         5.0   \n",
       "25                         8.0                         2.0   \n",
       "22                         7.0                         1.0   \n",
       "\n",
       "    survey1_question4_response  survey2_question1_response  \\\n",
       "31                         1.0                         NaN   \n",
       "29                         1.0                         NaN   \n",
       "27                         1.0                         NaN   \n",
       "25                         1.0                         NaN   \n",
       "22                         5.0                         NaN   \n",
       "\n",
       "    survey2_question2_response  \n",
       "31                         NaN  \n",
       "29                         NaN  \n",
       "27                         NaN  \n",
       "25                         NaN  \n",
       "22                         NaN  "
      ]
     },
     "execution_count": 11,
     "metadata": {},
     "output_type": "execute_result"
    }
   ],
   "source": [
    "df_mea_o.head()"
   ]
  },
  {
   "cell_type": "markdown",
   "id": "4958cabd",
   "metadata": {},
   "source": [
    "## Exploratory Data Analysis - Outcome"
   ]
  },
  {
   "cell_type": "markdown",
   "id": "158c35f6",
   "metadata": {},
   "source": [
    "- EDA Steps  \n",
    "  - Data shape  \n",
    "  - Data types of columns  \n",
    "  - Missing values  \n",
    "  - Summary statistics  \n",
    "  - Data Visualization and Distributions  \n",
    "    - Plot histograms and box plots  \n",
    "    - Line plot  \n",
    "    - Scatter plot  \n",
    "    - Correlations (Pearson, Kendall, Spearman)   "
   ]
  },
  {
   "cell_type": "markdown",
   "id": "9c56c4af",
   "metadata": {},
   "source": [
    "#### Data Shape"
   ]
  },
  {
   "cell_type": "code",
   "execution_count": 12,
   "id": "b0c700fb",
   "metadata": {},
   "outputs": [
    {
     "name": "stdout",
     "output_type": "stream",
     "text": [
      "Outcome Data Shape\n",
      "Rows: 16\n",
      "Columns: 11\n"
     ]
    }
   ],
   "source": [
    "print(\"Outcome Data Shape\")\n",
    "print(\"Rows:\", df_mea_o.shape[0])\n",
    "print(\"Columns:\", df_mea_o.shape[1])"
   ]
  },
  {
   "cell_type": "markdown",
   "id": "74e40212",
   "metadata": {},
   "source": [
    "#### Data Types of columns"
   ]
  },
  {
   "cell_type": "code",
   "execution_count": 13,
   "id": "06463c20",
   "metadata": {},
   "outputs": [
    {
     "name": "stdout",
     "output_type": "stream",
     "text": [
      "Outcome Data Types of Columns\n",
      "                                      Data Type\n",
      "measurement_time            datetime64[ns, UTC]\n",
      "measurement_name                         object\n",
      "participant_id                           object\n",
      "current_day_of_study                      int64\n",
      "current_intervention_name                object\n",
      "survey1_question1_response              float64\n",
      "survey1_question2_response              float64\n",
      "survey1_question3_response              float64\n",
      "survey1_question4_response              float64\n",
      "survey2_question1_response              float64\n",
      "survey2_question2_response              float64\n"
     ]
    }
   ],
   "source": [
    "print(\"Outcome Data Types of Columns\")\n",
    "data_types = df_mea_o.dtypes\n",
    "data_types_df = pd.DataFrame(data_types, columns=[\"Data Type\"])\n",
    "print(data_types_df)"
   ]
  },
  {
   "cell_type": "markdown",
   "id": "ff16ab5e",
   "metadata": {},
   "source": [
    "#### Missing Value Analysis"
   ]
  },
  {
   "cell_type": "code",
   "execution_count": 14,
   "id": "f0ec5d76",
   "metadata": {},
   "outputs": [
    {
     "name": "stdout",
     "output_type": "stream",
     "text": [
      "\n",
      "--- Participant 2e1f502a-d65c-46c7-af27-f7748c22f2ab ---\n",
      "\n",
      "  Outcome:\n",
      "    Start date:           2025-04-21\n",
      "    End of expected 16d:  2025-05-06\n",
      "    Expected days count:  16\n",
      "    Completed days count: 16\n",
      "    Missed days count:    0\n",
      "\n",
      "  Mediators:\n",
      "    Start date:           2025-04-21\n",
      "    End of expected 16d:  2025-05-06\n",
      "    Expected days count:  16\n",
      "    Completed days count: 16\n",
      "    Missed days count:    0\n",
      "\n",
      "  survey1_question1_response:\n",
      "    Start date:           2025-04-21\n",
      "    End of expected 16d:  2025-05-06\n",
      "    Expected days count:  16\n",
      "    Completed days count: 16\n",
      "    Missed days count:    0\n",
      "\n",
      "  survey1_question2_response:\n",
      "    Start date:           2025-04-21\n",
      "    End of expected 16d:  2025-05-06\n",
      "    Expected days count:  16\n",
      "    Completed days count: 16\n",
      "    Missed days count:    0\n",
      "\n",
      "  survey1_question3_response:\n",
      "    Start date:           2025-04-21\n",
      "    End of expected 16d:  2025-05-06\n",
      "    Expected days count:  16\n",
      "    Completed days count: 16\n",
      "    Missed days count:    0\n",
      "\n",
      "  survey1_question4_response:\n",
      "    Start date:           2025-04-21\n",
      "    End of expected 16d:  2025-05-06\n",
      "    Expected days count:  16\n",
      "    Completed days count: 16\n",
      "    Missed days count:    0\n",
      "\n",
      "  survey2_question1_response:\n",
      "    Start date:           2025-04-21\n",
      "    End of expected 16d:  2025-05-06\n",
      "    Expected days count:  16\n",
      "    Completed days count: 16\n",
      "    Missed days count:    0\n",
      "\n",
      "  survey2_question2_response:\n",
      "    Start date:           2025-04-21\n",
      "    End of expected 16d:  2025-05-06\n",
      "    Expected days count:  16\n",
      "    Completed days count: 16\n",
      "    Missed days count:    0\n"
     ]
    }
   ],
   "source": [
    "df_mea['measurement_time'] = pd.to_datetime(df_mea['measurement_time'])\n",
    "\n",
    "df_mea.columns = df_mea.columns.str.strip()\n",
    "df_mea['measurement_name'] = df_mea['measurement_name'].str.strip()\n",
    "\n",
    "measurement_names = [\n",
    "    'Outcome',\n",
    "    'Mediators',\n",
    "    'survey1_question1_response',\n",
    "    'survey1_question2_response',\n",
    "    'survey1_question3_response',\n",
    "    'survey1_question4_response',\n",
    "    'survey2_question1_response',\n",
    "    'survey2_question2_response'\n",
    "]\n",
    "\n",
    "results = {}\n",
    "\n",
    "for pid in df_mea['participant_id'].unique():\n",
    "    results[pid] = {}\n",
    "    df_part = df_mea[df_mea['participant_id'] == pid]\n",
    "    \n",
    "    for name in measurement_names:\n",
    "        if name in ['Outcome', 'Mediators']:\n",
    "            sub = df_part[df_part['measurement_name'] == name].copy()\n",
    "        else:\n",
    "            if name not in df_part.columns:\n",
    "                sub = pd.DataFrame()\n",
    "            else:\n",
    "                sub = df_part[df_part[name].notna()].copy()\n",
    "        \n",
    "        if sub.empty:\n",
    "            results[pid][name] = None\n",
    "            continue\n",
    "\n",
    "        sub['date'] = sub['measurement_time'].dt.date\n",
    "\n",
    "        start_date = sub['date'].min()\n",
    "\n",
    "        expected_dates = pd.date_range(start_date, periods=16, freq='D').date\n",
    "\n",
    "        done_dates = set(sub['date']) & set(expected_dates)\n",
    "\n",
    "        missed_dates = sorted(set(expected_dates) - done_dates)\n",
    "\n",
    "        results[pid][name] = {\n",
    "            'start_date': start_date,\n",
    "            'end_expected': expected_dates[-1],\n",
    "            'expected_days': len(expected_dates),      \n",
    "            'completed_days': len(done_dates),\n",
    "            'missed_days_count': len(missed_dates),\n",
    "            'missed_dates': missed_dates\n",
    "        }\n",
    "\n",
    "for pid, measures in results.items():\n",
    "    print(f\"\\n--- Participant {pid} ---\")\n",
    "    for name, stats in measures.items():\n",
    "        if stats is None:\n",
    "            print(f\"{name}: no data\")\n",
    "            continue\n",
    "        print(f\"\\n  {name}:\")\n",
    "        print(f\"    Start date:           {stats['start_date']}\")\n",
    "        print(f\"    End of expected 16d:  {stats['end_expected']}\")\n",
    "        print(f\"    Expected days count:  {stats['expected_days']}\")\n",
    "        print(f\"    Completed days count: {stats['completed_days']}\")\n",
    "        print(f\"    Missed days count:    {stats['missed_days_count']}\")\n",
    "        if stats['missed_dates']:\n",
    "            print(\"    Missed dates:\")\n",
    "            for d in stats['missed_dates']:\n",
    "                print(\"      \", d)"
   ]
  },
  {
   "cell_type": "markdown",
   "id": "da3e431a",
   "metadata": {},
   "source": [
    "#### Summary Statistics"
   ]
  },
  {
   "cell_type": "code",
   "execution_count": 15,
   "id": "0cac7a9e",
   "metadata": {},
   "outputs": [
    {
     "name": "stdout",
     "output_type": "stream",
     "text": [
      "Sleep Data Summary Statistics\n",
      "       current_day_of_study  survey1_question1_response  \\\n",
      "count             16.000000                   16.000000   \n",
      "mean               7.500000                    5.687500   \n",
      "std                4.760952                    1.662077   \n",
      "min                0.000000                    4.000000   \n",
      "25%                3.750000                    4.000000   \n",
      "50%                7.500000                    5.500000   \n",
      "75%               11.250000                    6.250000   \n",
      "max               15.000000                    9.000000   \n",
      "\n",
      "       survey1_question2_response  survey1_question3_response  \\\n",
      "count                   16.000000                   16.000000   \n",
      "mean                     6.562500                    3.750000   \n",
      "std                      1.504161                    2.840188   \n",
      "min                      4.000000                    1.000000   \n",
      "25%                      5.750000                    1.000000   \n",
      "50%                      7.000000                    3.500000   \n",
      "75%                      8.000000                    7.000000   \n",
      "max                      9.000000                    8.000000   \n",
      "\n",
      "       survey1_question4_response  survey2_question1_response  \\\n",
      "count                   16.000000                         0.0   \n",
      "mean                     3.062500                         NaN   \n",
      "std                      2.515784                         NaN   \n",
      "min                      1.000000                         NaN   \n",
      "25%                      1.000000                         NaN   \n",
      "50%                      1.000000                         NaN   \n",
      "75%                      5.250000                         NaN   \n",
      "max                      7.000000                         NaN   \n",
      "\n",
      "       survey2_question2_response  \n",
      "count                         0.0  \n",
      "mean                          NaN  \n",
      "std                           NaN  \n",
      "min                           NaN  \n",
      "25%                           NaN  \n",
      "50%                           NaN  \n",
      "75%                           NaN  \n",
      "max                           NaN  \n"
     ]
    }
   ],
   "source": [
    "print(\"Sleep Data Summary Statistics\")\n",
    "summary_stats = df_mea_o.describe()\n",
    "print(summary_stats)"
   ]
  },
  {
   "cell_type": "code",
   "execution_count": 16,
   "id": "b11b6825",
   "metadata": {},
   "outputs": [
    {
     "name": "stdout",
     "output_type": "stream",
     "text": [
      "<class 'pandas.core.frame.DataFrame'>\n",
      "Index: 16 entries, 31 to 1\n",
      "Data columns (total 11 columns):\n",
      " #   Column                      Non-Null Count  Dtype              \n",
      "---  ------                      --------------  -----              \n",
      " 0   measurement_time            16 non-null     datetime64[ns, UTC]\n",
      " 1   measurement_name            16 non-null     object             \n",
      " 2   participant_id              16 non-null     object             \n",
      " 3   current_day_of_study        16 non-null     int64              \n",
      " 4   current_intervention_name   16 non-null     object             \n",
      " 5   survey1_question1_response  16 non-null     float64            \n",
      " 6   survey1_question2_response  16 non-null     float64            \n",
      " 7   survey1_question3_response  16 non-null     float64            \n",
      " 8   survey1_question4_response  16 non-null     float64            \n",
      " 9   survey2_question1_response  0 non-null      float64            \n",
      " 10  survey2_question2_response  0 non-null      float64            \n",
      "dtypes: datetime64[ns, UTC](1), float64(6), int64(1), object(3)\n",
      "memory usage: 1.5+ KB\n"
     ]
    }
   ],
   "source": [
    "df_mea_o.info()"
   ]
  },
  {
   "cell_type": "markdown",
   "id": "2f0233aa",
   "metadata": {},
   "source": [
    "#### Data Visualization and Distributions"
   ]
  },
  {
   "cell_type": "code",
   "execution_count": 17,
   "id": "dc36b946",
   "metadata": {},
   "outputs": [
    {
     "data": {
      "image/png": "[encoded data removed]",
      "text/plain": [
       "<Figure size 1000x400 with 2 Axes>"
      ]
     },
     "metadata": {},
     "output_type": "display_data"
    },
    {
     "data": {
      "image/png": "[encoded data removed]",
      "text/plain": [
       "<Figure size 1000x400 with 2 Axes>"
      ]
     },
     "metadata": {},
     "output_type": "display_data"
    }
   ],
   "source": [
    "columns = [\n",
    "    'survey1_question1_response',\n",
    "    'survey1_question2_response']\n",
    "\n",
    "for column in columns:\n",
    "    plt.figure(figsize=(10, 4))\n",
    "    plt.subplot(1, 2, 1)\n",
    "    sns.histplot(df_mea_o[column].dropna(), bins=15, kde=True)\n",
    "    plt.title(f\"Distribution of {column}\")\n",
    "    plt.xlabel(column)\n",
    "    plt.ylabel(\"Frequency\")\n",
    "\n",
    "    plt.subplot(1, 2, 2)\n",
    "    sns.boxplot(y=df_mea_o[column].dropna())\n",
    "    plt.title(f\"Box Plot of {column}\")\n",
    "    plt.ylabel(column)\n",
    "\n",
    "    plt.tight_layout()\n",
    "    plt.show()"
   ]
  },
  {
   "cell_type": "markdown",
   "id": "4f06bfc0",
   "metadata": {},
   "source": [
    "#### Line Plot"
   ]
  },
  {
   "cell_type": "code",
   "execution_count": 18,
   "id": "6b14fe72",
   "metadata": {},
   "outputs": [
    {
     "data": {
      "image/png": "[encoded data removed]",
      "text/plain": [
       "<Figure size 1000x600 with 1 Axes>"
      ]
     },
     "metadata": {},
     "output_type": "display_data"
    }
   ],
   "source": [
    "grouped_data = df_mea_o.groupby(\"participant_id\")\n",
    "\n",
    "plt.figure(figsize=(10, 6)) \n",
    "\n",
    "for participant_id, group in grouped_data:\n",
    "    plt.plot(group['current_day_of_study'], group['survey1_question1_response'], label=f'Participant {participant_id}')\n",
    "\n",
    "plt.xlabel('Current Day of Study')\n",
    "plt.ylabel('Day Stress Level')\n",
    "plt.title('Stress Level Over Time for Different Participants in Outcome Dataset')\n",
    "\n",
    "plt.legend()\n",
    "plt.show()"
   ]
  },
  {
   "cell_type": "markdown",
   "id": "17c853ed",
   "metadata": {},
   "source": [
    "#### Scatterplot"
   ]
  },
  {
   "cell_type": "code",
   "execution_count": 19,
   "id": "388e8a55",
   "metadata": {},
   "outputs": [
    {
     "data": {
      "text/plain": [
       "<matplotlib.legend.Legend at 0x1b621ba2510>"
      ]
     },
     "execution_count": 19,
     "metadata": {},
     "output_type": "execute_result"
    },
    {
     "data": {
      "image/png": "[encoded data removed]",
      "text/plain": [
       "<Figure size 1000x500 with 1 Axes>"
      ]
     },
     "metadata": {},
     "output_type": "display_data"
    }
   ],
   "source": [
    "x = 'current_day_of_study'\n",
    "y = 'survey1_question1_response'\n",
    "\n",
    "participant_list= list(df_mea_o.participant_id.unique())\n",
    "fig, axs = plt.subplots(len(participant_list), figsize=(10, 5 * len(participant_list)))\n",
    "\n",
    "if len(participant_list) == 1:\n",
    "    axs = [axs]\n",
    "\n",
    "for i in range(len(participant_list)):\n",
    "    legend = True if i == len(participant_list)-1 else False\n",
    "    sns.scatterplot(\n",
    "        data=df_mea_o[df_mea_o[\"participant_id\"] == participant_list[i]],\n",
    "        x=x, y=y, hue='current_intervention_name',\n",
    "        ax=axs[i], legend=legend\n",
    "    )\n",
    "\n",
    "axs[-1].legend(loc='upper center', bbox_to_anchor=(0.5, -0.5))"
   ]
  },
  {
   "cell_type": "markdown",
   "id": "a68b3f7e",
   "metadata": {},
   "source": [
    "#### Correlations"
   ]
  },
  {
   "cell_type": "code",
   "execution_count": 20,
   "id": "d8ae5bf4",
   "metadata": {},
   "outputs": [
    {
     "data": {
      "image/png": "[encoded data removed]",
      "text/plain": [
       "<Figure size 1500x500 with 6 Axes>"
      ]
     },
     "metadata": {},
     "output_type": "display_data"
    }
   ],
   "source": [
    "columns_to_include = [\n",
    "    'survey1_question1_response',\n",
    "    'survey1_question2_response',\n",
    "    'survey1_question3_response',\n",
    "    'survey1_question4_response']\n",
    "\n",
    "correlation_pearson = df_mea_all[columns_to_include].corr(method='pearson')\n",
    "correlation_kendall = df_mea_all[columns_to_include].corr(method='kendall')\n",
    "correlation_spearman = df_mea_all[columns_to_include].corr(method='spearman')\n",
    "\n",
    "fig, axes = plt.subplots(1, 3, figsize=(15, 5))\n",
    "\n",
    "sns.heatmap(correlation_pearson, vmin=-1, vmax=1, annot=True, cmap='BrBG',ax=axes[0], center=0)\n",
    "axes[0].set_title('Pearson Correlation')\n",
    "\n",
    "sns.heatmap(correlation_kendall, annot=True, cmap='coolwarm', ax=axes[1])\n",
    "axes[1].set_title('Kendall Correlation')\n",
    "\n",
    "sns.heatmap(correlation_spearman, annot=True, cmap='coolwarm', ax=axes[2])\n",
    "axes[2].set_title('Spearman Correlation')\n",
    "\n",
    "plt.tight_layout()\n",
    "plt.show()"
   ]
  },
  {
   "cell_type": "markdown",
   "id": "2de3f1fd",
   "metadata": {},
   "source": [
    "## Baseline Study: Listening To Music vs Not Listening To Music"
   ]
  },
  {
   "cell_type": "markdown",
   "id": "92949b72",
   "metadata": {},
   "source": [
    "  - Baseline Studies  \n",
    "    - Examination of Outcomes   \n",
    "    - Linear Regression  \n",
    "      - Ordinary Least Squares (OLS) Regression  \n",
    "      - Linear Regression with Autoregressive Errors \n",
    "      - Bayesian linear regression models\n",
    "        - Bayesian AR(1) Model of Daily Stress Response to Intervention and Mediators\n",
    "        - Bayesian AR(1) Regression with Data-Driven Scale (MAD-Based)"
   ]
  },
  {
   "cell_type": "markdown",
   "id": "3aba5356",
   "metadata": {},
   "source": [
    "#### Examination of Outcomes: Today Stress Level"
   ]
  },
  {
   "cell_type": "code",
   "execution_count": 21,
   "id": "43f99fec",
   "metadata": {},
   "outputs": [
    {
     "name": "stdout",
     "output_type": "stream",
     "text": [
      "Listening to music:       n = 8, std = 2.10, mean = 6.12\n",
      "Avoid listening to music: n = 8, std = 1.04, mean = 5.25\n",
      "\n"
     ]
    }
   ],
   "source": [
    "df_mea_o = df_mea_o[\n",
    "    (df_mea_o['measurement_name'] == 'Outcome') &\n",
    "    df_mea_o['survey1_question1_response'].notna() &\n",
    "    df_mea_o['current_intervention_name'].isin([\n",
    "        \"Listening to music!\",\n",
    "        \"Not listening to music!\"\n",
    "    ])\n",
    "]\n",
    "\n",
    "listening = df_mea_o.loc[\n",
    "    df_mea_o['current_intervention_name'] == \"Listening to music!\",\n",
    "    'survey1_question1_response'\n",
    "]\n",
    "avoid_listening = df_mea_o.loc[\n",
    "    df_mea_o['current_intervention_name'] == \"Not listening to music!\",\n",
    "    'survey1_question1_response'\n",
    "]\n",
    "\n",
    "n_listening        = listening.count()\n",
    "n_avoid_listening  = avoid_listening.count()\n",
    "std_listening      = listening.std(ddof=1)\n",
    "std_avoid_listening = avoid_listening.std(ddof=1)\n",
    "\n",
    "print(f\"Listening to music:       n = {n_listening}, std = {std_listening:.2f}, mean = {listening.mean():.2f}\")\n",
    "print(f\"Avoid listening to music: n = {n_avoid_listening}, std = {std_avoid_listening:.2f}, mean = {avoid_listening.mean():.2f}\\n\")"
   ]
  },
  {
   "cell_type": "markdown",
   "id": "0d5bf693",
   "metadata": {},
   "source": [
    "#### Examination of Outcomes: Prediction of Tomorrow Stress"
   ]
  },
  {
   "cell_type": "code",
   "execution_count": 22,
   "id": "b3aad0f4",
   "metadata": {},
   "outputs": [
    {
     "name": "stdout",
     "output_type": "stream",
     "text": [
      "Listening to music:       n = 8, std = 1.85, mean = 6.50\n",
      "Avoid listening to music: n = 8, std = 1.19, mean = 6.62\n",
      "\n"
     ]
    }
   ],
   "source": [
    "df_mea_o = df_mea_o[\n",
    "    (df_mea_o['measurement_name'] == 'Outcome') &\n",
    "    df_mea_o['survey1_question2_response'].notna() &\n",
    "    df_mea_o['current_intervention_name'].isin([\n",
    "        \"Listening to music!\",\n",
    "        \"Not listening to music!\"\n",
    "    ])\n",
    "]\n",
    "\n",
    "listening = df_mea_o.loc[\n",
    "    df_mea_o['current_intervention_name'] == \"Listening to music!\",\n",
    "    'survey1_question2_response'\n",
    "]\n",
    "avoid_listening = df_mea_o.loc[\n",
    "    df_mea_o['current_intervention_name'] == \"Not listening to music!\",\n",
    "    'survey1_question2_response'\n",
    "]\n",
    "\n",
    "n_listening        = listening.count()\n",
    "n_avoid_listening  = avoid_listening.count()\n",
    "std_listening      = listening.std(ddof=1)\n",
    "std_avoid_listening = avoid_listening.std(ddof=1)\n",
    "\n",
    "print(f\"Listening to music:       n = {n_listening}, std = {std_listening:.2f}, mean = {listening.mean():.2f}\")\n",
    "print(f\"Avoid listening to music: n = {n_avoid_listening}, std = {std_avoid_listening:.2f}, mean = {avoid_listening.mean():.2f}\\n\")"
   ]
  },
  {
   "cell_type": "markdown",
   "id": "c69c701e",
   "metadata": {},
   "source": [
    "#### Mean Stress-Relief Score for Listening to Music (Q3)\n",
    "The average score for Question 3 (survey1_question3_response), which assesses how much listening to music alleviated participants’ stress on days they performed."
   ]
  },
  {
   "cell_type": "code",
   "execution_count": 23,
   "id": "86d52440",
   "metadata": {},
   "outputs": [
    {
     "data": {
      "text/plain": [
       "'How much did this method (listening to music) help you today? <b>(1 = Not helpful at all to 10 = Very helpful) <i>(Answer ONLY if you have listened to music!)</i></b>'"
      ]
     },
     "execution_count": 23,
     "metadata": {},
     "output_type": "execute_result"
    }
   ],
   "source": [
    "df_mea.survey1_question3_text[0]"
   ]
  },
  {
   "cell_type": "code",
   "execution_count": 24,
   "id": "d5ae17a1",
   "metadata": {},
   "outputs": [
    {
     "data": {
      "text/plain": [
       "5.75"
      ]
     },
     "execution_count": 24,
     "metadata": {},
     "output_type": "execute_result"
    }
   ],
   "source": [
    "# 'How much did this method (listening to music) help you today? (1 = Not helpful at all to 10 = Very helpful) (Answer ONLY if you have listened to music!)\n",
    "mean_q3_listening = df_mea_o.loc[\n",
    "    df_mea_o['current_intervention_name'] == \"Listening to music!\",\n",
    "    'survey1_question3_response'\n",
    "].mean()\n",
    "mean_q3_listening.item()"
   ]
  },
  {
   "cell_type": "markdown",
   "id": "22bc7c45",
   "metadata": {},
   "source": [
    "**Mean Stress-Relief Score for Listening to Music (Q3): 5.75:**\n",
    "On days when the participant listened to music, she rated Question 3—“How much did this method help you today?”—an average of 5.75 out of 10, indicating that listening to music provided a moderate benefit."
   ]
  },
  {
   "cell_type": "markdown",
   "id": "3b373480",
   "metadata": {},
   "source": [
    "#### Mean Stress-Management Difficulty Listening to Music (Q4)\n",
    "The average score for Question 4 (survey1_question4_response), which measures participants’ difficulty in managing stress on days they did not listen to music."
   ]
  },
  {
   "cell_type": "code",
   "execution_count": 25,
   "id": "f3967af8",
   "metadata": {},
   "outputs": [
    {
     "data": {
      "text/plain": [
       "'Did you have difficulty without the method? <b>(1 = No difficulty to 5 = Significant difficulty) <i>(Answer ONLY if you have NOT listened to music!)</i></b>'"
      ]
     },
     "execution_count": 25,
     "metadata": {},
     "output_type": "execute_result"
    }
   ],
   "source": [
    "df_mea.survey1_question4_text[0]"
   ]
  },
  {
   "cell_type": "code",
   "execution_count": 26,
   "id": "c77d9a25",
   "metadata": {},
   "outputs": [
    {
     "data": {
      "text/plain": [
       "5.125"
      ]
     },
     "execution_count": 26,
     "metadata": {},
     "output_type": "execute_result"
    }
   ],
   "source": [
    "# 'Did you have difficulty without the method?(1 = No difficulty to 5 = Significant difficulty)(Answer ONLY if you have NOT listened to music!)\n",
    "mean_q4_no_listening = df_mea_o.loc[\n",
    "    df_mea_o['current_intervention_name'] == \"Not listening to music!\",\n",
    "    'survey1_question4_response'\n",
    "].mean()\n",
    "mean_q4_no_listening.item()"
   ]
  },
  {
   "cell_type": "markdown",
   "id": "dc268cc7",
   "metadata": {},
   "source": [
    "**Mean Stress-Management Difficulty Score Without Listening to Music (Q4): 8.625:**\n",
    "On days when the participant did not listen to music, she rated Question 4—“Did you have difficulty without the method?”—an average of 5.12 out of 10, indicating a moderate level of difficulty in managing stress."
   ]
  },
  {
   "cell_type": "markdown",
   "id": "4da54a73",
   "metadata": {},
   "source": [
    "### Estimating treatment effect using Linear Regression with Autoregressive errors"
   ]
  },
  {
   "cell_type": "code",
   "execution_count": 27,
   "id": "1228e91c",
   "metadata": {},
   "outputs": [
    {
     "name": "stdout",
     "output_type": "stream",
     "text": [
      "OLS Regression Results:\n",
      "                                OLS Regression Results                                \n",
      "======================================================================================\n",
      "Dep. Variable:     survey1_question1_response   R-squared:                       0.074\n",
      "Model:                                    OLS   Adj. R-squared:                  0.008\n",
      "Method:                         Least Squares   F-statistic:                     1.117\n",
      "Date:                        Wed, 13 Aug 2025   Prob (F-statistic):              0.308\n",
      "Time:                                14:27:20   Log-Likelihood:                -29.702\n",
      "No. Observations:                          16   AIC:                             63.40\n",
      "Df Residuals:                              14   BIC:                             64.95\n",
      "Df Model:                                   1                                         \n",
      "Covariance Type:                    nonrobust                                         \n",
      "==============================================================================\n",
      "                 coef    std err          t      P>|t|      [0.025      0.975]\n",
      "------------------------------------------------------------------------------\n",
      "const          5.2500      0.585      8.969      0.000       3.995       6.505\n",
      "D              0.8750      0.828      1.057      0.308      -0.900       2.650\n",
      "==============================================================================\n",
      "Omnibus:                        0.642   Durbin-Watson:                   1.597\n",
      "Prob(Omnibus):                  0.725   Jarque-Bera (JB):                0.665\n",
      "Skew:                           0.364   Prob(JB):                        0.717\n",
      "Kurtosis:                       2.318   Cond. No.                         2.62\n",
      "==============================================================================\n",
      "\n",
      "Notes:\n",
      "[1] Standard Errors assume that the covariance matrix of the errors is correctly specified.\n",
      "Durbin–Watson statistic (OLS residuals): 1.597\n",
      "\n"
     ]
    },
    {
     "name": "stderr",
     "output_type": "stream",
     "text": [
      "c:\\Users\\USER\\AppData\\Local\\r-miniconda\\Lib\\site-packages\\scipy\\stats\\_axis_nan_policy.py:430: UserWarning: `kurtosistest` p-value may be inaccurate with fewer than 20 observations; only n=16 observations were given.\n",
      "  return hypotest_fun_in(*args, **kwds)\n"
     ]
    }
   ],
   "source": [
    "df_mea_o = df_mea_o[\n",
    "    (df_mea_o['measurement_name'] == 'Outcome') &\n",
    "    df_mea_o['survey1_question1_response'].notna() &\n",
    "    df_mea_o['current_intervention_name'].isin([\"Listening to music!\", \"Not listening to music!\"])\n",
    "]\n",
    "\n",
    "df_mea_o = df_mea_o.sort_values('measurement_time')\n",
    "\n",
    "y = df_mea_o['survey1_question1_response']\n",
    "df_mea_o['D'] = (df_mea_o['current_intervention_name'] == \"Listening to music!\").astype(int)\n",
    "X = sm.add_constant(df_mea_o['D'])\n",
    "\n",
    "ols_res = sm.OLS(y, X).fit()\n",
    "dw_ols = durbin_watson(ols_res.resid)\n",
    "\n",
    "print(\"OLS Regression Results:\")\n",
    "print(ols_res.summary())\n",
    "print(f\"Durbin–Watson statistic (OLS residuals): {dw_ols:.3f}\\n\")"
   ]
  },
  {
   "cell_type": "code",
   "execution_count": 28,
   "id": "57fe6caa",
   "metadata": {},
   "outputs": [
    {
     "name": "stdout",
     "output_type": "stream",
     "text": [
      "GLSAR Regression Results (AR(1) error structure):\n",
      "                               GLSAR Regression Results                               \n",
      "======================================================================================\n",
      "Dep. Variable:     survey1_question1_response   R-squared:                       0.045\n",
      "Model:                                  GLSAR   Adj. R-squared:                 -0.028\n",
      "Method:                         Least Squares   F-statistic:                    0.6147\n",
      "Date:                        Wed, 13 Aug 2025   Prob (F-statistic):              0.447\n",
      "Time:                                14:27:20   Log-Likelihood:                -27.997\n",
      "No. Observations:                          15   AIC:                             59.99\n",
      "Df Residuals:                              13   BIC:                             61.41\n",
      "Df Model:                                   1                                         \n",
      "Covariance Type:                    nonrobust                                         \n",
      "==============================================================================\n",
      "                 coef    std err          t      P>|t|      [0.025      0.975]\n",
      "------------------------------------------------------------------------------\n",
      "const          5.2146      0.676      7.713      0.000       3.754       6.675\n",
      "D              0.7558      0.964      0.784      0.447      -1.327       2.838\n",
      "==============================================================================\n",
      "Omnibus:                        1.458   Durbin-Watson:                   1.899\n",
      "Prob(Omnibus):                  0.482   Jarque-Bera (JB):                1.189\n",
      "Skew:                           0.590   Prob(JB):                        0.552\n",
      "Kurtosis:                       2.287   Cond. No.                         2.44\n",
      "==============================================================================\n",
      "\n",
      "Notes:\n",
      "[1] Standard Errors assume that the covariance matrix of the errors is correctly specified.\n",
      "Estimated AR(1) coefficient (rho): 0.140\n",
      "Durbin–Watson statistic (GLSAR residuals): 1.597\n"
     ]
    },
    {
     "name": "stderr",
     "output_type": "stream",
     "text": [
      "c:\\Users\\USER\\AppData\\Local\\r-miniconda\\Lib\\site-packages\\scipy\\stats\\_axis_nan_policy.py:430: UserWarning: `kurtosistest` p-value may be inaccurate with fewer than 20 observations; only n=15 observations were given.\n",
      "  return hypotest_fun_in(*args, **kwds)\n"
     ]
    }
   ],
   "source": [
    "glsar = sm.GLSAR(y, X, rho=1)\n",
    "glsar_res = glsar.iterative_fit(maxiter=10)\n",
    "dw_glsar = durbin_watson(glsar_res.resid)\n",
    "\n",
    "print(\"GLSAR Regression Results (AR(1) error structure):\")\n",
    "print(glsar_res.summary())\n",
    "print(f\"Estimated AR(1) coefficient (rho): {glsar.rho[0]:.3f}\")\n",
    "print(f\"Durbin–Watson statistic (GLSAR residuals): {dw_glsar:.3f}\")"
   ]
  },
  {
   "cell_type": "markdown",
   "id": "cadded37",
   "metadata": {},
   "source": [
    "#### Bayesian AR(1) Model of Daily Stress Response to Listening to Music and Mediators"
   ]
  },
  {
   "cell_type": "code",
   "execution_count": 29,
   "id": "789480e4",
   "metadata": {},
   "outputs": [
    {
     "name": "stdout",
     "output_type": "stream",
     "text": [
      "Model result with neither fac1 nor fac2 (intervention only):\n"
     ]
    },
    {
     "name": "stderr",
     "output_type": "stream",
     "text": [
      "Initializing NUTS using jitter+adapt_diag...\n",
      "c:\\Users\\USER\\AppData\\Local\\r-miniconda\\Lib\\site-packages\\pytensor\\tensor\\rewriting\\elemwise.py:954: UserWarning: Loop fusion failed because the resulting node would exceed the kernel argument limit.\n",
      "  warn(\n",
      "Multiprocess sampling (2 chains in 2 jobs)\n",
      "NUTS: [beta0, beta_int, rho, sigma]\n"
     ]
    },
    {
     "data": {
      "text/html": [
       "<pre style=\"white-space:pre;overflow-x:auto;line-height:normal;font-family:Menlo,'DejaVu Sans Mono',consolas,'Courier New',monospace\">c:\\Users\\USER\\AppData\\Local\\r-miniconda\\Lib\\site-packages\\rich\\live.py:231: UserWarning: install \"ipywidgets\" for \n",
       "Jupyter support\n",
       "  warnings.warn('install \"ipywidgets\" for Jupyter support')\n",
       "</pre>\n"
      ],
      "text/plain": [
       "c:\\Users\\USER\\AppData\\Local\\r-miniconda\\Lib\\site-packages\\rich\\live.py:231: UserWarning: install \"ipywidgets\" for \n",
       "Jupyter support\n",
       "  warnings.warn('install \"ipywidgets\" for Jupyter support')\n"
      ]
     },
     "metadata": {},
     "output_type": "display_data"
    },
    {
     "data": {
      "text/html": [
       "<pre style=\"white-space:pre;overflow-x:auto;line-height:normal;font-family:Menlo,'DejaVu Sans Mono',consolas,'Courier New',monospace\"></pre>\n"
      ],
      "text/plain": []
     },
     "metadata": {},
     "output_type": "display_data"
    },
    {
     "name": "stderr",
     "output_type": "stream",
     "text": [
      "Sampling 2 chains for 500 tune and 500 draw iterations (1_000 + 1_000 draws total) took 178 seconds.\n",
      "We recommend running at least 4 chains for robust computation of convergence diagnostics\n"
     ]
    },
    {
     "name": "stdout",
     "output_type": "stream",
     "text": [
      "           mean     sd  hdi_2.5%  hdi_97.5%  mcse_mean  mcse_sd  ess_bulk  \\\n",
      "beta_int  0.535  0.703    -0.762      1.947      0.029    0.026     590.0   \n",
      "rho       0.268  0.292    -0.282      0.837      0.015    0.010     390.0   \n",
      "sigma     1.656  0.290     1.113      2.256      0.013    0.012     537.0   \n",
      "\n",
      "          ess_tail  r_hat  \n",
      "beta_int     685.0    1.0  \n",
      "rho          353.0    1.0  \n",
      "sigma        486.0    1.0  \n",
      "P(beta_int ≤ –0.5) = 6.30%\n",
      "P(–0.5 < beta_int < 0) = 15.40%\n",
      "P(beta_int ≥ 0) = 78.30%\n",
      "P(Stress reduction of listening to music ≥ 0.5) = 6.30%\n",
      "\n",
      "Model result with only fac1:\n"
     ]
    },
    {
     "name": "stderr",
     "output_type": "stream",
     "text": [
      "Initializing NUTS using jitter+adapt_diag...\n",
      "c:\\Users\\USER\\AppData\\Local\\r-miniconda\\Lib\\site-packages\\pytensor\\tensor\\rewriting\\elemwise.py:954: UserWarning: Loop fusion failed because the resulting node would exceed the kernel argument limit.\n",
      "  warn(\n",
      "Multiprocess sampling (2 chains in 2 jobs)\n",
      "NUTS: [beta0, beta_int, beta_f1, rho, sigma]\n"
     ]
    },
    {
     "data": {
      "text/html": [
       "<pre style=\"white-space:pre;overflow-x:auto;line-height:normal;font-family:Menlo,'DejaVu Sans Mono',consolas,'Courier New',monospace\">c:\\Users\\USER\\AppData\\Local\\r-miniconda\\Lib\\site-packages\\rich\\live.py:231: UserWarning: install \"ipywidgets\" for \n",
       "Jupyter support\n",
       "  warnings.warn('install \"ipywidgets\" for Jupyter support')\n",
       "</pre>\n"
      ],
      "text/plain": [
       "c:\\Users\\USER\\AppData\\Local\\r-miniconda\\Lib\\site-packages\\rich\\live.py:231: UserWarning: install \"ipywidgets\" for \n",
       "Jupyter support\n",
       "  warnings.warn('install \"ipywidgets\" for Jupyter support')\n"
      ]
     },
     "metadata": {},
     "output_type": "display_data"
    },
    {
     "data": {
      "text/html": [
       "<pre style=\"white-space:pre;overflow-x:auto;line-height:normal;font-family:Menlo,'DejaVu Sans Mono',consolas,'Courier New',monospace\"></pre>\n"
      ],
      "text/plain": []
     },
     "metadata": {},
     "output_type": "display_data"
    },
    {
     "name": "stderr",
     "output_type": "stream",
     "text": [
      "Sampling 2 chains for 500 tune and 500 draw iterations (1_000 + 1_000 draws total) took 326 seconds.\n",
      "We recommend running at least 4 chains for robust computation of convergence diagnostics\n"
     ]
    },
    {
     "name": "stdout",
     "output_type": "stream",
     "text": [
      "           mean     sd  hdi_2.5%  hdi_97.5%  mcse_mean  mcse_sd  ess_bulk  \\\n",
      "beta_int  0.175  0.578    -0.945      1.325      0.025    0.026     535.0   \n",
      "beta_f1   0.955  0.240     0.523      1.477      0.014    0.009     283.0   \n",
      "rho       0.036  0.353    -0.700      0.695      0.018    0.011     389.0   \n",
      "sigma     1.142  0.225     0.744      1.548      0.010    0.008     450.0   \n",
      "\n",
      "          ess_tail  r_hat  \n",
      "beta_int     430.0    1.0  \n",
      "beta_f1      413.0    1.0  \n",
      "rho          468.0    1.0  \n",
      "sigma        565.0    1.0  \n",
      "P(beta_int ≤ –0.5) = 12.20%\n",
      "P(–0.5 < beta_int < 0) = 24.40%\n",
      "P(beta_int ≥ 0) = 63.40%\n",
      "P(Stress reduction of listening to music ≥ 0.5) = 12.20%\n",
      "\n",
      "Model result with only fac2:\n"
     ]
    },
    {
     "name": "stderr",
     "output_type": "stream",
     "text": [
      "Initializing NUTS using jitter+adapt_diag...\n",
      "c:\\Users\\USER\\AppData\\Local\\r-miniconda\\Lib\\site-packages\\pytensor\\tensor\\rewriting\\elemwise.py:954: UserWarning: Loop fusion failed because the resulting node would exceed the kernel argument limit.\n",
      "  warn(\n",
      "Multiprocess sampling (2 chains in 2 jobs)\n",
      "NUTS: [beta0, beta_int, beta_f2, rho, sigma]\n"
     ]
    },
    {
     "data": {
      "text/html": [
       "<pre style=\"white-space:pre;overflow-x:auto;line-height:normal;font-family:Menlo,'DejaVu Sans Mono',consolas,'Courier New',monospace\">c:\\Users\\USER\\AppData\\Local\\r-miniconda\\Lib\\site-packages\\rich\\live.py:231: UserWarning: install \"ipywidgets\" for \n",
       "Jupyter support\n",
       "  warnings.warn('install \"ipywidgets\" for Jupyter support')\n",
       "</pre>\n"
      ],
      "text/plain": [
       "c:\\Users\\USER\\AppData\\Local\\r-miniconda\\Lib\\site-packages\\rich\\live.py:231: UserWarning: install \"ipywidgets\" for \n",
       "Jupyter support\n",
       "  warnings.warn('install \"ipywidgets\" for Jupyter support')\n"
      ]
     },
     "metadata": {},
     "output_type": "display_data"
    },
    {
     "data": {
      "text/html": [
       "<pre style=\"white-space:pre;overflow-x:auto;line-height:normal;font-family:Menlo,'DejaVu Sans Mono',consolas,'Courier New',monospace\"></pre>\n"
      ],
      "text/plain": []
     },
     "metadata": {},
     "output_type": "display_data"
    },
    {
     "name": "stderr",
     "output_type": "stream",
     "text": [
      "Sampling 2 chains for 500 tune and 500 draw iterations (1_000 + 1_000 draws total) took 218 seconds.\n",
      "We recommend running at least 4 chains for robust computation of convergence diagnostics\n"
     ]
    },
    {
     "name": "stdout",
     "output_type": "stream",
     "text": [
      "           mean     sd  hdi_2.5%  hdi_97.5%  mcse_mean  mcse_sd  ess_bulk  \\\n",
      "beta_int  0.557  0.699    -0.954      1.842      0.029    0.024     575.0   \n",
      "beta_f2  -0.027  0.269    -0.522      0.506      0.014    0.011     371.0   \n",
      "rho       0.304  0.297    -0.241      0.900      0.014    0.016     452.0   \n",
      "sigma     1.703  0.305     1.159      2.276      0.014    0.013     492.0   \n",
      "\n",
      "          ess_tail  r_hat  \n",
      "beta_int     591.0   1.00  \n",
      "beta_f2      404.0   1.00  \n",
      "rho          307.0   1.01  \n",
      "sigma        627.0   1.00  \n",
      "P(beta_int ≤ –0.5) = 6.70%\n",
      "P(–0.5 < beta_int < 0) = 13.60%\n",
      "P(beta_int ≥ 0) = 79.70%\n",
      "P(Stress reduction of listening to music ≥ 0.5) = 6.70%\n",
      "\n",
      "Model result with both fac1 and fac2:\n"
     ]
    },
    {
     "name": "stderr",
     "output_type": "stream",
     "text": [
      "Initializing NUTS using jitter+adapt_diag...\n",
      "c:\\Users\\USER\\AppData\\Local\\r-miniconda\\Lib\\site-packages\\pytensor\\tensor\\rewriting\\elemwise.py:954: UserWarning: Loop fusion failed because the resulting node would exceed the kernel argument limit.\n",
      "  warn(\n",
      "Multiprocess sampling (2 chains in 2 jobs)\n",
      "NUTS: [beta0, beta_int, beta_f1, beta_f2, rho, sigma]\n"
     ]
    },
    {
     "data": {
      "text/html": [
       "<pre style=\"white-space:pre;overflow-x:auto;line-height:normal;font-family:Menlo,'DejaVu Sans Mono',consolas,'Courier New',monospace\">c:\\Users\\USER\\AppData\\Local\\r-miniconda\\Lib\\site-packages\\rich\\live.py:231: UserWarning: install \"ipywidgets\" for \n",
       "Jupyter support\n",
       "  warnings.warn('install \"ipywidgets\" for Jupyter support')\n",
       "</pre>\n"
      ],
      "text/plain": [
       "c:\\Users\\USER\\AppData\\Local\\r-miniconda\\Lib\\site-packages\\rich\\live.py:231: UserWarning: install \"ipywidgets\" for \n",
       "Jupyter support\n",
       "  warnings.warn('install \"ipywidgets\" for Jupyter support')\n"
      ]
     },
     "metadata": {},
     "output_type": "display_data"
    },
    {
     "data": {
      "text/html": [
       "<pre style=\"white-space:pre;overflow-x:auto;line-height:normal;font-family:Menlo,'DejaVu Sans Mono',consolas,'Courier New',monospace\"></pre>\n"
      ],
      "text/plain": []
     },
     "metadata": {},
     "output_type": "display_data"
    },
    {
     "name": "stderr",
     "output_type": "stream",
     "text": [
      "Sampling 2 chains for 500 tune and 500 draw iterations (1_000 + 1_000 draws total) took 385 seconds.\n",
      "We recommend running at least 4 chains for robust computation of convergence diagnostics\n"
     ]
    },
    {
     "name": "stdout",
     "output_type": "stream",
     "text": [
      "           mean     sd  hdi_2.5%  hdi_97.5%  mcse_mean  mcse_sd  ess_bulk  \\\n",
      "beta_int  0.203  0.540    -0.712      1.290      0.021    0.019     663.0   \n",
      "beta_f1   0.968  0.243     0.516      1.448      0.011    0.008     503.0   \n",
      "beta_f2  -0.104  0.191    -0.482      0.251      0.008    0.007     659.0   \n",
      "rho       0.084  0.339    -0.515      0.796      0.019    0.019     351.0   \n",
      "sigma     1.158  0.218     0.785      1.558      0.008    0.007     809.0   \n",
      "\n",
      "          ess_tail  r_hat  \n",
      "beta_int     751.0   1.00  \n",
      "beta_f1      536.0   1.01  \n",
      "beta_f2      504.0   1.00  \n",
      "rho          181.0   1.00  \n",
      "sigma        599.0   1.00  \n",
      "P(beta_int ≤ –0.5) = 8.90%\n",
      "P(–0.5 < beta_int < 0) = 28.90%\n",
      "P(beta_int ≥ 0) = 62.20%\n",
      "P(Stress reduction of listening to music ≥ 0.5) = 8.90%\n",
      "\n"
     ]
    }
   ],
   "source": [
    "def run_model(fac_cols, beta_names):\n",
    "    out = df_mea[df_mea['measurement_name'] == 'Outcome']\n",
    "    med = df_mea[df_mea['measurement_name'] == 'Mediators']\n",
    "    data = (\n",
    "        pd.merge(\n",
    "            out[['current_day_of_study', 'survey1_question1_response', 'current_intervention_name']],\n",
    "            med[['current_day_of_study'] + fac_cols] if fac_cols else out[['current_day_of_study']],\n",
    "            on='current_day_of_study',\n",
    "            how='inner'\n",
    "        ).dropna().sort_values('current_day_of_study').reset_index(drop=True)\n",
    "    )\n",
    "    y = data['survey1_question1_response'].values\n",
    "    interv = (data['current_intervention_name'] == \"Listening to music!\").astype(int).values\n",
    "    n = len(data)\n",
    "    fac_arrays = [data[col].values for col in fac_cols] if fac_cols else []\n",
    "\n",
    "    with pm.Model() as model:\n",
    "        beta0 = pm.Normal('beta0', mu=0, sigma=10)\n",
    "        beta_int = pm.Normal('beta_int', mu=0, sigma=1)\n",
    "        betas = [pm.Normal(beta_name, mu=0, sigma=1) for beta_name in beta_names]\n",
    "        rho = pm.Uniform('rho', lower=-1, upper=1)\n",
    "        sigma = pm.HalfNormal('sigma', sigma=1)\n",
    "        mu = beta0 + beta_int * interv\n",
    "        for beta, fac in zip(betas, fac_arrays):\n",
    "            mu += beta * fac\n",
    "        pm.Normal('y_0', mu=mu[0], sigma=sigma, observed=y[0])\n",
    "        for t in range(1, n):\n",
    "            adjustment = rho * (y[t-1] - mu[t-1])\n",
    "            pm.Normal(f'y_{t}', mu=mu[t] + adjustment, sigma=sigma, observed=y[t])\n",
    "        trace = pm.sample(draws=500, tune=500, chains=2, target_accept=0.9, return_inferencedata=True)\n",
    "    summary = az.summary(trace, var_names=['beta_int'] + beta_names + ['rho', 'sigma'], hdi_prob=0.95)\n",
    "    print(summary)\n",
    "    beta_samples = trace.posterior['beta_int'].values.flatten()\n",
    "    p_le_neg05 = (beta_samples <= -0.5).mean()\n",
    "    p_between  = ((beta_samples > -0.5) & (beta_samples < 0)).mean()\n",
    "    p_ge0      = (beta_samples >= 0).mean()\n",
    "    print(f\"P(beta_int ≤ –0.5) = {p_le_neg05:.2%}\")\n",
    "    print(f\"P(–0.5 < beta_int < 0) = {p_between:.2%}\")\n",
    "    print(f\"P(beta_int ≥ 0) = {p_ge0:.2%}\")\n",
    "    prob = (trace.posterior['beta_int'] < -0.5).mean().item()\n",
    "    print(f\"P(Stress reduction of listening to music ≥ 0.5) = {prob:.2%}\\n\")\n",
    "\n",
    "print(\"Model result with neither fac1 nor fac2 (intervention only):\")\n",
    "run_model([], [])\n",
    "\n",
    "print(\"Model result with only fac1:\")\n",
    "run_model(['survey2_question1_response'], ['beta_f1'])\n",
    "\n",
    "print(\"Model result with only fac2:\")\n",
    "run_model(['survey2_question2_response'], ['beta_f2'])\n",
    "\n",
    "print(\"Model result with both fac1 and fac2:\")\n",
    "run_model(['survey2_question1_response', 'survey2_question2_response'], ['beta_f1', 'beta_f2'])"
   ]
  },
  {
   "cell_type": "markdown",
   "id": "f0215258",
   "metadata": {},
   "source": [
    "#### Bayesian AR(1) Regression with Data-Driven Scale (MAD-Based)"
   ]
  },
  {
   "cell_type": "code",
   "execution_count": 30,
   "id": "e11bd44f",
   "metadata": {},
   "outputs": [
    {
     "name": "stderr",
     "output_type": "stream",
     "text": [
      "Initializing NUTS using jitter+adapt_diag...\n",
      "c:\\Users\\USER\\AppData\\Local\\r-miniconda\\Lib\\site-packages\\pytensor\\tensor\\rewriting\\elemwise.py:954: UserWarning: Loop fusion failed because the resulting node would exceed the kernel argument limit.\n",
      "  warn(\n",
      "Multiprocess sampling (2 chains in 2 jobs)\n",
      "NUTS: [beta0, beta_int, rho, sigma]\n"
     ]
    },
    {
     "data": {
      "text/html": [
       "<pre style=\"white-space:pre;overflow-x:auto;line-height:normal;font-family:Menlo,'DejaVu Sans Mono',consolas,'Courier New',monospace\">c:\\Users\\USER\\AppData\\Local\\r-miniconda\\Lib\\site-packages\\rich\\live.py:231: UserWarning: install \"ipywidgets\" for \n",
       "Jupyter support\n",
       "  warnings.warn('install \"ipywidgets\" for Jupyter support')\n",
       "</pre>\n"
      ],
      "text/plain": [
       "c:\\Users\\USER\\AppData\\Local\\r-miniconda\\Lib\\site-packages\\rich\\live.py:231: UserWarning: install \"ipywidgets\" for \n",
       "Jupyter support\n",
       "  warnings.warn('install \"ipywidgets\" for Jupyter support')\n"
      ]
     },
     "metadata": {},
     "output_type": "display_data"
    },
    {
     "data": {
      "text/html": [
       "<pre style=\"white-space:pre;overflow-x:auto;line-height:normal;font-family:Menlo,'DejaVu Sans Mono',consolas,'Courier New',monospace\"></pre>\n"
      ],
      "text/plain": []
     },
     "metadata": {},
     "output_type": "display_data"
    },
    {
     "name": "stderr",
     "output_type": "stream",
     "text": [
      "Sampling 2 chains for 500 tune and 500 draw iterations (1_000 + 1_000 draws total) took 127 seconds.\n",
      "We recommend running at least 4 chains for robust computation of convergence diagnostics\n"
     ]
    },
    {
     "name": "stdout",
     "output_type": "stream",
     "text": [
      "           mean     sd  hdi_2.5%  hdi_97.5%  mcse_mean  mcse_sd  ess_bulk  \\\n",
      "beta_int  1.069  1.017    -0.755      3.262      0.044    0.034     544.0   \n",
      "rho       0.326  0.320    -0.269      0.923      0.015    0.009     451.0   \n",
      "sigma     1.807  0.359     1.174      2.557      0.016    0.014     469.0   \n",
      "\n",
      "          ess_tail  r_hat  \n",
      "beta_int     577.0   1.00  \n",
      "rho          463.0   1.01  \n",
      "sigma        587.0   1.00  \n",
      "P(beta_int ≤ –0.5) = 5.40%\n",
      "P(–0.5 < beta_int < 0) = 7.60%\n",
      "P(beta_int ≥ 0) = 87.00%\n"
     ]
    },
    {
     "data": {
      "image/png": "[encoded data removed]",
      "text/plain": [
       "<Figure size 1000x400 with 2 Axes>"
      ]
     },
     "metadata": {},
     "output_type": "display_data"
    }
   ],
   "source": [
    "outcome_data = df_mea[df_mea['measurement_name'] == 'Outcome']\n",
    "data = (\n",
    "    outcome_data[['current_day_of_study', 'survey1_question1_response', 'current_intervention_name']]\n",
    "    .dropna()\n",
    "    .sort_values('current_day_of_study')\n",
    "    .reset_index(drop=True)\n",
    ")\n",
    "\n",
    "y      = data['survey1_question1_response'].values\n",
    "interv = (data['current_intervention_name'] == \"Listening to music!\").astype(int).values\n",
    "n      = len(data)\n",
    "\n",
    "mad = np.median(np.abs(y - np.median(y)))\n",
    "scale = max(mad, 2.0)\n",
    "\n",
    "with pm.Model() as model:\n",
    "    beta0    = pm.StudentT('beta0',    nu=3, mu=0, sigma=scale)   \n",
    "    beta_int = pm.StudentT('beta_int', nu=3, mu=0, sigma=scale)   \n",
    "    rho      = pm.Uniform('rho',       lower=-1, upper=1)         \n",
    "    sigma    = pm.HalfStudentT('sigma', nu=3, sigma=scale)        \n",
    "\n",
    "    mu = beta0 + beta_int * interv\n",
    "\n",
    "    pm.Normal('y_0', mu=mu[0], sigma=sigma, observed=y[0])\n",
    "\n",
    "    for t in range(1, n):\n",
    "        adjustment = rho * (y[t-1] - mu[t-1])\n",
    "        pm.Normal(f'y_{t}', mu=mu[t] + adjustment, sigma=sigma, observed=y[t])\n",
    "\n",
    "    trace = pm.sample(\n",
    "        draws=500,\n",
    "        tune=500,\n",
    "        chains=2,\n",
    "        target_accept=0.9,\n",
    "        return_inferencedata=True\n",
    "    )\n",
    "\n",
    "summary = az.summary(trace, var_names=['beta_int', 'rho', 'sigma'], hdi_prob=0.95)\n",
    "print(summary)\n",
    "\n",
    "beta_samples = trace.posterior['beta_int'].values.flatten()\n",
    "\n",
    "p_le_neg05 = (beta_samples <= -0.5).mean()\n",
    "p_between  = ((beta_samples > -0.5) & (beta_samples < 0)).mean()\n",
    "p_ge0      = (beta_samples >= 0).mean()\n",
    "\n",
    "print(f\"P(beta_int ≤ –0.5) = {p_le_neg05:.2%}\")\n",
    "print(f\"P(–0.5 < beta_int < 0) = {p_between:.2%}\")\n",
    "print(f\"P(beta_int ≥ 0) = {p_ge0:.2%}\")\n",
    "\n",
    "mean_beta = summary.loc['beta_int', 'mean']\n",
    "hdi_low   = summary.loc['beta_int', 'hdi_2.5%']\n",
    "hdi_high  = summary.loc['beta_int', 'hdi_97.5%']\n",
    "\n",
    "fig, axes = plt.subplots(1, 2, figsize=(10, 4), gridspec_kw={'width_ratios': [1, 1]})\n",
    "\n",
    "ax = axes[0]\n",
    "ax.errorbar(0, mean_beta,\n",
    "            yerr=[[mean_beta - hdi_low], [hdi_high - mean_beta]],\n",
    "            fmt='o', capsize=5, color='black')\n",
    "ax.axhline(0, color='gray', linestyle='--')\n",
    "ax.set_xticks([0])\n",
    "ax.set_xticklabels(['Listening to music effect'])\n",
    "ax.set_ylabel('Stress reduction (points)')\n",
    "ax.set_title('A. Posterior mean ± 95% CI', loc='left', pad=10, fontsize=12, fontweight='bold')\n",
    "\n",
    "ax = axes[1]\n",
    "ax.bar(0, p_le_neg05, width=0.6, color='darkgreen',  label='Effect ≤ –0.5')\n",
    "ax.bar(0, p_between,  width=0.6, bottom=p_le_neg05, color='lightgreen', label='–0.5 < Effect < 0')\n",
    "ax.bar(0, p_ge0,      width=0.6, bottom=p_le_neg05+p_between, color='gold', label='Effect ≥ 0')\n",
    "ax.axhline(0.7, color='gray', linestyle='--', label='Responder threshold (0.7)')\n",
    "ax.set_xticks([0])\n",
    "ax.set_xticklabels(['Posterior mass'])\n",
    "ax.set_ylim(0, 1)\n",
    "ax.set_ylabel('Probability')\n",
    "ax.set_title('B. Distribution of effect size', loc='left', pad=10, fontsize=12, fontweight='bold')\n",
    "ax.legend(loc='upper right', fontsize=8)\n",
    "\n",
    "plt.tight_layout()\n",
    "plt.show()"
   ]
  }
 ],
 "metadata": {
  "kernelspec": {
   "display_name": "base",
   "language": "python",
   "name": "python3"
  },
  "language_info": {
   "codemirror_mode": {
    "name": "ipython",
    "version": 3
   },
   "file_extension": ".py",
   "mimetype": "text/x-python",
   "name": "python",
   "nbconvert_exporter": "python",
   "pygments_lexer": "ipython3",
   "version": "3.11.5"
  }
 },
 "nbformat": 4,
 "nbformat_minor": 5
}
