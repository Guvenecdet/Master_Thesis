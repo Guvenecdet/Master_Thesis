{
 "cells": [
  {
   "cell_type": "markdown",
   "id": "f101cfde",
   "metadata": {},
   "source": [
    "## Data reading and Data Insights"
   ]
  },
  {
   "cell_type": "markdown",
   "id": "968516ae",
   "metadata": {},
   "source": [
    "**Watching Comedy Participant: norenb0l, 16 days participation**\n",
    "\n",
    "*Dataset:* 'Watching Comedy' vs 'Not Watching Comedy' study"
   ]
  },
  {
   "cell_type": "markdown",
   "id": "ca941ebb",
   "metadata": {},
   "source": [
    "#### Libraries"
   ]
  },
  {
   "cell_type": "code",
   "execution_count": 1,
   "id": "ca8c1c33",
   "metadata": {},
   "outputs": [
    {
     "name": "stderr",
     "output_type": "stream",
     "text": [
      "WARNING (pytensor.configdefaults): g++ not available, if using conda: `conda install gxx`\n",
      "WARNING (pytensor.configdefaults): g++ not detected!  PyTensor will be unable to compile C-implementations and will default to Python. Performance may be severely degraded. To remove this warning, set PyTensor flags cxx to an empty string.\n"
     ]
    }
   ],
   "source": [
    "import pandas as pd\n",
    "import numpy as np\n",
    "import matplotlib.pyplot as plt\n",
    "import seaborn as sns\n",
    "from scipy import stats\n",
    "import statsmodels.api as sm\n",
    "from statsmodels.stats.stattools import durbin_watson\n",
    "import pymc as pm\n",
    "import arviz as az\n",
    "import pytensor.tensor as pt\n",
    "from pytensor.scan import scan"
   ]
  },
  {
   "cell_type": "code",
   "execution_count": 2,
   "id": "565cf087",
   "metadata": {},
   "outputs": [],
   "source": [
    "path = \"C://Users//USER//Desktop//StudyU_Results//\"\n",
    "df_intervention = pd.read_csv(path+\"self-designed_n-of-1_trials_on_stress_management_-_watching_comedy_-_norenb0l_2025-06-07 23_55_57.012//interventions.csv\")\n",
    "#print(df_intervention.head())\n",
    "df_mea = pd.read_csv(path+\"self-designed_n-of-1_trials_on_stress_management_-_watching_comedy_-_norenb0l_2025-06-07 23_55_57.012//measurements.csv\")\n",
    "#print(df_mea.head())"
   ]
  },
  {
   "cell_type": "markdown",
   "id": "d1ad7802",
   "metadata": {},
   "source": [
    "## Data Analysis and Preprocessing"
   ]
  },
  {
   "cell_type": "markdown",
   "id": "e24520cc",
   "metadata": {},
   "source": [
    "- Pre-analysis: norenb0l\n",
    "    - Number of Participant\n",
    "    - Participation of the study\n",
    "    - Missing Values\n",
    "    - Remove Participants Who Joined Outside the Study\n",
    "    - Data Preperation"
   ]
  },
  {
   "cell_type": "markdown",
   "id": "10c82df0",
   "metadata": {},
   "source": [
    "#### Number of Participant"
   ]
  },
  {
   "cell_type": "code",
   "execution_count": 3,
   "id": "9e423290",
   "metadata": {},
   "outputs": [
    {
     "name": "stdout",
     "output_type": "stream",
     "text": [
      "The column 'participant_id' has only one unique value: '7dc493ab-7317-4317-bf87-5cd33421eaa3'\n"
     ]
    }
   ],
   "source": [
    "column_name = 'participant_id' \n",
    "\n",
    "unique_count = df_intervention[column_name].nunique()\n",
    "\n",
    "if unique_count == 1:\n",
    "    only_value = df_intervention[column_name].iloc[0]\n",
    "    print(f\"The column '{column_name}' has only one unique value: {only_value!r}\")\n",
    "else:\n",
    "    print(f\"The column '{column_name}' has {unique_count} unique values.\")\n",
    "    print(\"Unique values are:\", df_intervention[column_name].unique())"
   ]
  },
  {
   "cell_type": "markdown",
   "id": "c4c7e973",
   "metadata": {},
   "source": [
    "#### Participation of the study"
   ]
  },
  {
   "cell_type": "code",
   "execution_count": 4,
   "id": "79cbb43d",
   "metadata": {},
   "outputs": [
    {
     "name": "stdout",
     "output_type": "stream",
     "text": [
      "                         participant_id  participation_days\n",
      "0  7dc493ab-7317-4317-bf87-5cd33421eaa3                  15\n"
     ]
    }
   ],
   "source": [
    "df_mea['measurement_time'] = pd.to_datetime(df_mea['measurement_time'], utc=True)\n",
    "\n",
    "participation_days = (\n",
    "    df_mea\n",
    "    .groupby('participant_id')['measurement_time']\n",
    "    .apply(lambda x: x.dt.date.nunique())\n",
    "    .reset_index(name='participation_days')\n",
    ")\n",
    "\n",
    "print(participation_days)"
   ]
  },
  {
   "cell_type": "markdown",
   "id": "6fd47a75",
   "metadata": {},
   "source": [
    "As anticipated, the study comprised a single participant and there is a single day missing."
   ]
  },
  {
   "cell_type": "markdown",
   "id": "52c79068",
   "metadata": {},
   "source": [
    "#### Missing Values"
   ]
  },
  {
   "cell_type": "code",
   "execution_count": 5,
   "id": "0d543d72",
   "metadata": {},
   "outputs": [
    {
     "name": "stdout",
     "output_type": "stream",
     "text": [
      "\n",
      "--- Participant 7dc493ab-7317-4317-bf87-5cd33421eaa3 ---\n",
      "\n",
      "  Outcome:\n",
      "    Start date:           2025-05-22\n",
      "    End of expected 16d:  2025-06-06\n",
      "    Expected days count:  16\n",
      "    Completed days count: 15\n",
      "    Missed days count:    1\n",
      "    Missed dates:\n",
      "       2025-05-27\n",
      "\n",
      "  Mediators:\n",
      "    Start date:           2025-05-22\n",
      "    End of expected 16d:  2025-06-06\n",
      "    Expected days count:  16\n",
      "    Completed days count: 15\n",
      "    Missed days count:    1\n",
      "    Missed dates:\n",
      "       2025-05-27\n"
     ]
    }
   ],
   "source": [
    "df_mea['measurement_time'] = pd.to_datetime(df_mea['measurement_time'])\n",
    "\n",
    "results = {}\n",
    "\n",
    "for pid in df_mea['participant_id'].unique():\n",
    "    results[pid] = {}\n",
    "    df_part = df_mea[df_mea['participant_id'] == pid]\n",
    "    \n",
    "    for name in ['Outcome', 'Mediators']:\n",
    "        sub = df_part[df_part['measurement_name'] == name].copy()\n",
    "        if sub.empty:\n",
    "            results[pid][name] = None\n",
    "            continue\n",
    "\n",
    "        sub['date'] = sub['measurement_time'].dt.date\n",
    "\n",
    "        start_date = sub['date'].min()\n",
    "\n",
    "        expected_dates = pd.date_range(start_date, periods=16, freq='D').date\n",
    "\n",
    "        done_dates = set(sub['date']) & set(expected_dates)\n",
    "\n",
    "        missed_dates = sorted(set(expected_dates) - done_dates)\n",
    "\n",
    "        results[pid][name] = {\n",
    "            'start_date': start_date,\n",
    "            'end_expected': expected_dates[-1],\n",
    "            'expected_days': len(expected_dates),           \n",
    "            'completed_days': len(done_dates),\n",
    "            'missed_days_count': len(missed_dates),\n",
    "            'missed_dates': missed_dates\n",
    "        }\n",
    "\n",
    "for pid, measures in results.items():\n",
    "    print(f\"\\n--- Participant {pid} ---\")\n",
    "    for name, stats in measures.items():\n",
    "        if stats is None:\n",
    "            print(f\"{name}: no data\")\n",
    "            continue\n",
    "        print(f\"\\n  {name}:\")\n",
    "        print(f\"    Start date:           {stats['start_date']}\")\n",
    "        print(f\"    End of expected 16d:  {stats['end_expected']}\")\n",
    "        print(f\"    Expected days count:  {stats['expected_days']}\")\n",
    "        print(f\"    Completed days count: {stats['completed_days']}\")\n",
    "        print(f\"    Missed days count:    {stats['missed_days_count']}\")\n",
    "        if stats['missed_dates']:\n",
    "            print(\"    Missed dates:\")\n",
    "            for d in stats['missed_dates']:\n",
    "                print(\"      \", d)"
   ]
  },
  {
   "cell_type": "markdown",
   "id": "456ef994",
   "metadata": {},
   "source": [
    "#### Remove Participants Who Joined Outside the Study"
   ]
  },
  {
   "cell_type": "code",
   "execution_count": 6,
   "id": "613b1316",
   "metadata": {},
   "outputs": [],
   "source": [
    "# df_mea = df_mea[df_mea['participant_id'] != \"ca773388-eb42-4716-995a-476ed72c0475\"]\n",
    "# df_mea.shape[0]"
   ]
  },
  {
   "cell_type": "markdown",
   "id": "26a0d2f5",
   "metadata": {},
   "source": [
    "#### Data Preperation"
   ]
  },
  {
   "cell_type": "code",
   "execution_count": 7,
   "id": "5c2ba47f",
   "metadata": {},
   "outputs": [
    {
     "data": {
      "text/html": [
       "<div>\n",
       "<style scoped>\n",
       "    .dataframe tbody tr th:only-of-type {\n",
       "        vertical-align: middle;\n",
       "    }\n",
       "\n",
       "    .dataframe tbody tr th {\n",
       "        vertical-align: top;\n",
       "    }\n",
       "\n",
       "    .dataframe thead th {\n",
       "        text-align: right;\n",
       "    }\n",
       "</style>\n",
       "<table border=\"1\" class=\"dataframe\">\n",
       "  <thead>\n",
       "    <tr style=\"text-align: right;\">\n",
       "      <th></th>\n",
       "      <th>measurement_time</th>\n",
       "      <th>measurement_name</th>\n",
       "      <th>participant_id</th>\n",
       "      <th>current_day_of_study</th>\n",
       "      <th>current_intervention_name</th>\n",
       "      <th>survey1_question1_response</th>\n",
       "      <th>survey1_question2_response</th>\n",
       "      <th>survey1_question3_response</th>\n",
       "      <th>survey1_question4_response</th>\n",
       "      <th>survey2_question1_response</th>\n",
       "      <th>survey2_question2_response</th>\n",
       "    </tr>\n",
       "  </thead>\n",
       "  <tbody>\n",
       "    <tr>\n",
       "      <th>0</th>\n",
       "      <td>2025-06-06 19:34:46.748596+00:00</td>\n",
       "      <td>Mediators</td>\n",
       "      <td>7dc493ab-7317-4317-bf87-5cd33421eaa3</td>\n",
       "      <td>15</td>\n",
       "      <td>Watching comedy movies or series!</td>\n",
       "      <td>NaN</td>\n",
       "      <td>NaN</td>\n",
       "      <td>NaN</td>\n",
       "      <td>NaN</td>\n",
       "      <td>3.0</td>\n",
       "      <td>1.0</td>\n",
       "    </tr>\n",
       "  </tbody>\n",
       "</table>\n",
       "</div>"
      ],
      "text/plain": [
       "                  measurement_time measurement_name  \\\n",
       "0 2025-06-06 19:34:46.748596+00:00        Mediators   \n",
       "\n",
       "                         participant_id  current_day_of_study  \\\n",
       "0  7dc493ab-7317-4317-bf87-5cd33421eaa3                    15   \n",
       "\n",
       "           current_intervention_name  survey1_question1_response  \\\n",
       "0  Watching comedy movies or series!                         NaN   \n",
       "\n",
       "   survey1_question2_response  survey1_question3_response  \\\n",
       "0                         NaN                         NaN   \n",
       "\n",
       "   survey1_question4_response  survey2_question1_response  \\\n",
       "0                         NaN                         3.0   \n",
       "\n",
       "   survey2_question2_response  \n",
       "0                         1.0  "
      ]
     },
     "execution_count": 7,
     "metadata": {},
     "output_type": "execute_result"
    }
   ],
   "source": [
    "df_mea_all= df_mea[[\n",
    "     'measurement_time',\n",
    "     'measurement_name',\n",
    "     'participant_id',\n",
    "     'current_day_of_study',\n",
    "     'current_intervention_name',\n",
    "     'survey1_question1_response',\n",
    "     'survey1_question2_response',\n",
    "     'survey1_question3_response',\n",
    "     'survey1_question4_response',\n",
    "     'survey2_question1_response',\n",
    "     'survey2_question2_response']]\n",
    "df_mea_all.head(1)"
   ]
  },
  {
   "cell_type": "code",
   "execution_count": 8,
   "id": "b8672a8e",
   "metadata": {},
   "outputs": [],
   "source": [
    "df_mea_m = df_mea_all[df_mea_all['measurement_name'] == 'Mediators']\n",
    "df_mea_o = df_mea_all[df_mea_all['measurement_name'] == 'Outcome']"
   ]
  },
  {
   "cell_type": "code",
   "execution_count": 9,
   "id": "ae3f0a0e",
   "metadata": {},
   "outputs": [],
   "source": [
    "df_mea_o = df_mea_o.sort_values(by=['participant_id', 'current_day_of_study'])\n",
    "df_mea_m = df_mea_m.sort_values(by=['participant_id', 'current_day_of_study'])"
   ]
  },
  {
   "cell_type": "code",
   "execution_count": 10,
   "id": "6d5cbda3",
   "metadata": {},
   "outputs": [
    {
     "data": {
      "text/html": [
       "<div>\n",
       "<style scoped>\n",
       "    .dataframe tbody tr th:only-of-type {\n",
       "        vertical-align: middle;\n",
       "    }\n",
       "\n",
       "    .dataframe tbody tr th {\n",
       "        vertical-align: top;\n",
       "    }\n",
       "\n",
       "    .dataframe thead th {\n",
       "        text-align: right;\n",
       "    }\n",
       "</style>\n",
       "<table border=\"1\" class=\"dataframe\">\n",
       "  <thead>\n",
       "    <tr style=\"text-align: right;\">\n",
       "      <th></th>\n",
       "      <th>measurement_time</th>\n",
       "      <th>measurement_name</th>\n",
       "      <th>participant_id</th>\n",
       "      <th>current_day_of_study</th>\n",
       "      <th>current_intervention_name</th>\n",
       "      <th>survey1_question1_response</th>\n",
       "      <th>survey1_question2_response</th>\n",
       "      <th>survey1_question3_response</th>\n",
       "      <th>survey1_question4_response</th>\n",
       "      <th>survey2_question1_response</th>\n",
       "      <th>survey2_question2_response</th>\n",
       "    </tr>\n",
       "  </thead>\n",
       "  <tbody>\n",
       "    <tr>\n",
       "      <th>29</th>\n",
       "      <td>2025-05-22 19:23:08.252921+00:00</td>\n",
       "      <td>Outcome</td>\n",
       "      <td>7dc493ab-7317-4317-bf87-5cd33421eaa3</td>\n",
       "      <td>0</td>\n",
       "      <td>Watching comedy movies or series!</td>\n",
       "      <td>7.0</td>\n",
       "      <td>7.0</td>\n",
       "      <td>8.0</td>\n",
       "      <td>1.0</td>\n",
       "      <td>NaN</td>\n",
       "      <td>NaN</td>\n",
       "    </tr>\n",
       "    <tr>\n",
       "      <th>27</th>\n",
       "      <td>2025-05-23 18:52:19.003714+00:00</td>\n",
       "      <td>Outcome</td>\n",
       "      <td>7dc493ab-7317-4317-bf87-5cd33421eaa3</td>\n",
       "      <td>1</td>\n",
       "      <td>Watching comedy movies or series!</td>\n",
       "      <td>6.0</td>\n",
       "      <td>6.0</td>\n",
       "      <td>7.0</td>\n",
       "      <td>1.0</td>\n",
       "      <td>NaN</td>\n",
       "      <td>NaN</td>\n",
       "    </tr>\n",
       "    <tr>\n",
       "      <th>25</th>\n",
       "      <td>2025-05-24 18:17:14.204268+00:00</td>\n",
       "      <td>Outcome</td>\n",
       "      <td>7dc493ab-7317-4317-bf87-5cd33421eaa3</td>\n",
       "      <td>2</td>\n",
       "      <td>Watching comedy movies or series!</td>\n",
       "      <td>6.0</td>\n",
       "      <td>5.0</td>\n",
       "      <td>6.0</td>\n",
       "      <td>1.0</td>\n",
       "      <td>NaN</td>\n",
       "      <td>NaN</td>\n",
       "    </tr>\n",
       "    <tr>\n",
       "      <th>23</th>\n",
       "      <td>2025-05-25 17:12:14.754667+00:00</td>\n",
       "      <td>Outcome</td>\n",
       "      <td>7dc493ab-7317-4317-bf87-5cd33421eaa3</td>\n",
       "      <td>3</td>\n",
       "      <td>Watching comedy movies or series!</td>\n",
       "      <td>6.0</td>\n",
       "      <td>5.0</td>\n",
       "      <td>6.0</td>\n",
       "      <td>1.0</td>\n",
       "      <td>NaN</td>\n",
       "      <td>NaN</td>\n",
       "    </tr>\n",
       "    <tr>\n",
       "      <th>21</th>\n",
       "      <td>2025-05-26 18:50:36.988805+00:00</td>\n",
       "      <td>Outcome</td>\n",
       "      <td>7dc493ab-7317-4317-bf87-5cd33421eaa3</td>\n",
       "      <td>4</td>\n",
       "      <td>Not watching comedy movies or series!</td>\n",
       "      <td>5.0</td>\n",
       "      <td>4.0</td>\n",
       "      <td>4.0</td>\n",
       "      <td>1.0</td>\n",
       "      <td>NaN</td>\n",
       "      <td>NaN</td>\n",
       "    </tr>\n",
       "  </tbody>\n",
       "</table>\n",
       "</div>"
      ],
      "text/plain": [
       "                   measurement_time measurement_name  \\\n",
       "29 2025-05-22 19:23:08.252921+00:00          Outcome   \n",
       "27 2025-05-23 18:52:19.003714+00:00          Outcome   \n",
       "25 2025-05-24 18:17:14.204268+00:00          Outcome   \n",
       "23 2025-05-25 17:12:14.754667+00:00          Outcome   \n",
       "21 2025-05-26 18:50:36.988805+00:00          Outcome   \n",
       "\n",
       "                          participant_id  current_day_of_study  \\\n",
       "29  7dc493ab-7317-4317-bf87-5cd33421eaa3                     0   \n",
       "27  7dc493ab-7317-4317-bf87-5cd33421eaa3                     1   \n",
       "25  7dc493ab-7317-4317-bf87-5cd33421eaa3                     2   \n",
       "23  7dc493ab-7317-4317-bf87-5cd33421eaa3                     3   \n",
       "21  7dc493ab-7317-4317-bf87-5cd33421eaa3                     4   \n",
       "\n",
       "                current_intervention_name  survey1_question1_response  \\\n",
       "29      Watching comedy movies or series!                         7.0   \n",
       "27      Watching comedy movies or series!                         6.0   \n",
       "25      Watching comedy movies or series!                         6.0   \n",
       "23      Watching comedy movies or series!                         6.0   \n",
       "21  Not watching comedy movies or series!                         5.0   \n",
       "\n",
       "    survey1_question2_response  survey1_question3_response  \\\n",
       "29                         7.0                         8.0   \n",
       "27                         6.0                         7.0   \n",
       "25                         5.0                         6.0   \n",
       "23                         5.0                         6.0   \n",
       "21                         4.0                         4.0   \n",
       "\n",
       "    survey1_question4_response  survey2_question1_response  \\\n",
       "29                         1.0                         NaN   \n",
       "27                         1.0                         NaN   \n",
       "25                         1.0                         NaN   \n",
       "23                         1.0                         NaN   \n",
       "21                         1.0                         NaN   \n",
       "\n",
       "    survey2_question2_response  \n",
       "29                         NaN  \n",
       "27                         NaN  \n",
       "25                         NaN  \n",
       "23                         NaN  \n",
       "21                         NaN  "
      ]
     },
     "execution_count": 10,
     "metadata": {},
     "output_type": "execute_result"
    }
   ],
   "source": [
    "df_mea_o.head()"
   ]
  },
  {
   "cell_type": "markdown",
   "id": "4958cabd",
   "metadata": {},
   "source": [
    "## Exploratory Data Analysis - Outcome"
   ]
  },
  {
   "cell_type": "markdown",
   "id": "158c35f6",
   "metadata": {},
   "source": [
    "- EDA Steps  \n",
    "  - Data shape  \n",
    "  - Data types of columns  \n",
    "  - Missing values  \n",
    "  - Summary statistics  \n",
    "  - Data Visualization and Distributions  \n",
    "    - Plot histograms and box plots  \n",
    "    - Line plot  \n",
    "    - Scatter plot  \n",
    "    - Correlations (Pearson, Kendall, Spearman)   "
   ]
  },
  {
   "cell_type": "markdown",
   "id": "9c56c4af",
   "metadata": {},
   "source": [
    "#### Data Shape"
   ]
  },
  {
   "cell_type": "code",
   "execution_count": 11,
   "id": "b0c700fb",
   "metadata": {},
   "outputs": [
    {
     "name": "stdout",
     "output_type": "stream",
     "text": [
      "Outcome Data Shape\n",
      "Rows: 15\n",
      "Columns: 11\n"
     ]
    }
   ],
   "source": [
    "print(\"Outcome Data Shape\")\n",
    "print(\"Rows:\", df_mea_o.shape[0])\n",
    "print(\"Columns:\", df_mea_o.shape[1])"
   ]
  },
  {
   "cell_type": "markdown",
   "id": "74e40212",
   "metadata": {},
   "source": [
    "#### Data Types of columns"
   ]
  },
  {
   "cell_type": "code",
   "execution_count": 12,
   "id": "06463c20",
   "metadata": {},
   "outputs": [
    {
     "name": "stdout",
     "output_type": "stream",
     "text": [
      "Outcome Data Types of Columns\n",
      "                                      Data Type\n",
      "measurement_time            datetime64[ns, UTC]\n",
      "measurement_name                         object\n",
      "participant_id                           object\n",
      "current_day_of_study                      int64\n",
      "current_intervention_name                object\n",
      "survey1_question1_response              float64\n",
      "survey1_question2_response              float64\n",
      "survey1_question3_response              float64\n",
      "survey1_question4_response              float64\n",
      "survey2_question1_response              float64\n",
      "survey2_question2_response              float64\n"
     ]
    }
   ],
   "source": [
    "print(\"Outcome Data Types of Columns\")\n",
    "data_types = df_mea_o.dtypes\n",
    "data_types_df = pd.DataFrame(data_types, columns=[\"Data Type\"])\n",
    "print(data_types_df)"
   ]
  },
  {
   "cell_type": "markdown",
   "id": "ff16ab5e",
   "metadata": {},
   "source": [
    "#### Missing Value Analysis"
   ]
  },
  {
   "cell_type": "code",
   "execution_count": 13,
   "id": "f0ec5d76",
   "metadata": {},
   "outputs": [
    {
     "name": "stdout",
     "output_type": "stream",
     "text": [
      "\n",
      "--- Participant 7dc493ab-7317-4317-bf87-5cd33421eaa3 ---\n",
      "\n",
      "  Outcome:\n",
      "    Start date:           2025-05-22\n",
      "    End of expected 16d:  2025-06-06\n",
      "    Expected days count:  16\n",
      "    Completed days count: 15\n",
      "    Missed days count:    1\n",
      "    Missed dates:\n",
      "       2025-05-27\n",
      "\n",
      "  Mediators:\n",
      "    Start date:           2025-05-22\n",
      "    End of expected 16d:  2025-06-06\n",
      "    Expected days count:  16\n",
      "    Completed days count: 15\n",
      "    Missed days count:    1\n",
      "    Missed dates:\n",
      "       2025-05-27\n",
      "\n",
      "  survey1_question1_response:\n",
      "    Start date:           2025-05-22\n",
      "    End of expected 16d:  2025-06-06\n",
      "    Expected days count:  16\n",
      "    Completed days count: 15\n",
      "    Missed days count:    1\n",
      "    Missed dates:\n",
      "       2025-05-27\n",
      "\n",
      "  survey1_question2_response:\n",
      "    Start date:           2025-05-22\n",
      "    End of expected 16d:  2025-06-06\n",
      "    Expected days count:  16\n",
      "    Completed days count: 15\n",
      "    Missed days count:    1\n",
      "    Missed dates:\n",
      "       2025-05-27\n",
      "\n",
      "  survey1_question3_response:\n",
      "    Start date:           2025-05-22\n",
      "    End of expected 16d:  2025-06-06\n",
      "    Expected days count:  16\n",
      "    Completed days count: 15\n",
      "    Missed days count:    1\n",
      "    Missed dates:\n",
      "       2025-05-27\n",
      "\n",
      "  survey1_question4_response:\n",
      "    Start date:           2025-05-22\n",
      "    End of expected 16d:  2025-06-06\n",
      "    Expected days count:  16\n",
      "    Completed days count: 15\n",
      "    Missed days count:    1\n",
      "    Missed dates:\n",
      "       2025-05-27\n",
      "\n",
      "  survey2_question1_response:\n",
      "    Start date:           2025-05-22\n",
      "    End of expected 16d:  2025-06-06\n",
      "    Expected days count:  16\n",
      "    Completed days count: 15\n",
      "    Missed days count:    1\n",
      "    Missed dates:\n",
      "       2025-05-27\n",
      "\n",
      "  survey2_question2_response:\n",
      "    Start date:           2025-05-22\n",
      "    End of expected 16d:  2025-06-06\n",
      "    Expected days count:  16\n",
      "    Completed days count: 15\n",
      "    Missed days count:    1\n",
      "    Missed dates:\n",
      "       2025-05-27\n"
     ]
    }
   ],
   "source": [
    "df_mea['measurement_time'] = pd.to_datetime(df_mea['measurement_time'])\n",
    "df_mea.columns = df_mea.columns.str.strip()\n",
    "df_mea['measurement_name'] = df_mea['measurement_name'].str.strip()\n",
    "\n",
    "measurement_names = [\n",
    "    'Outcome',\n",
    "    'Mediators',\n",
    "    'survey1_question1_response',\n",
    "    'survey1_question2_response',\n",
    "    'survey1_question3_response',\n",
    "    'survey1_question4_response',\n",
    "    'survey2_question1_response',\n",
    "    'survey2_question2_response'\n",
    "]\n",
    "\n",
    "results = {}\n",
    "\n",
    "for pid in df_mea['participant_id'].unique():\n",
    "    results[pid] = {}\n",
    "    df_part = df_mea[df_mea['participant_id'] == pid]\n",
    "    \n",
    "    for name in measurement_names:\n",
    "        if name in ['Outcome', 'Mediators']:\n",
    "            sub = df_part[df_part['measurement_name'] == name].copy()\n",
    "        else:\n",
    "            if name not in df_part.columns:\n",
    "                sub = pd.DataFrame()\n",
    "            else:\n",
    "                sub = df_part[df_part[name].notna()].copy()\n",
    "        \n",
    "        if sub.empty:\n",
    "            results[pid][name] = None\n",
    "            continue\n",
    "\n",
    "        sub['date'] = sub['measurement_time'].dt.date\n",
    "\n",
    "        start_date = sub['date'].min()\n",
    "\n",
    "        expected_dates = pd.date_range(start_date, periods=16, freq='D').date\n",
    "\n",
    "        done_dates = set(sub['date']) & set(expected_dates)\n",
    "\n",
    "        missed_dates = sorted(set(expected_dates) - done_dates)\n",
    "\n",
    "        results[pid][name] = {\n",
    "            'start_date': start_date,\n",
    "            'end_expected': expected_dates[-1],\n",
    "            'expected_days': len(expected_dates),       \n",
    "            'completed_days': len(done_dates),\n",
    "            'missed_days_count': len(missed_dates),\n",
    "            'missed_dates': missed_dates\n",
    "        }\n",
    "\n",
    "for pid, measures in results.items():\n",
    "    print(f\"\\n--- Participant {pid} ---\")\n",
    "    for name, stats in measures.items():\n",
    "        if stats is None:\n",
    "            print(f\"{name}: no data\")\n",
    "            continue\n",
    "        print(f\"\\n  {name}:\")\n",
    "        print(f\"    Start date:           {stats['start_date']}\")\n",
    "        print(f\"    End of expected 16d:  {stats['end_expected']}\")\n",
    "        print(f\"    Expected days count:  {stats['expected_days']}\")\n",
    "        print(f\"    Completed days count: {stats['completed_days']}\")\n",
    "        print(f\"    Missed days count:    {stats['missed_days_count']}\")\n",
    "        if stats['missed_dates']:\n",
    "            print(\"    Missed dates:\")\n",
    "            for d in stats['missed_dates']:\n",
    "                print(\"      \", d)"
   ]
  },
  {
   "cell_type": "markdown",
   "id": "4a4957bc",
   "metadata": {},
   "source": [
    "#### Missing Values for Confirmations between 08.00 - 21.00"
   ]
  },
  {
   "cell_type": "code",
   "execution_count": 14,
   "id": "a657ac7a",
   "metadata": {},
   "outputs": [
    {
     "name": "stdout",
     "output_type": "stream",
     "text": [
      "All 16 days have participation confirmations; no missing days found.\n"
     ]
    }
   ],
   "source": [
    "df_intervention['intervention_task_time'] = pd.to_datetime(\n",
    "    df_intervention['intervention_task_time'],\n",
    "    errors='coerce'\n",
    ")\n",
    "df_intervention['date'] = df_intervention['intervention_task_time'].dt.date\n",
    "\n",
    "start_date = df_intervention['date'].min()\n",
    "full_range = pd.date_range(start=start_date, periods=16, freq='D').date\n",
    "\n",
    "full_df = pd.DataFrame({'date': full_range})\n",
    "merged = full_df.merge(\n",
    "    df_intervention[['date', 'intervention_task_name']],\n",
    "    on='date',\n",
    "    how='left'\n",
    ")\n",
    "missing_days = merged[merged['intervention_task_name'].isna()]\n",
    "\n",
    "if missing_days.empty:\n",
    "    print(\"All 16 days have participation confirmations; no missing days found.\")\n",
    "else:\n",
    "    print(\"Missing participation days and their corresponding task names:\")\n",
    "    print(missing_days)"
   ]
  },
  {
   "cell_type": "markdown",
   "id": "da3e431a",
   "metadata": {},
   "source": [
    "#### Summary Statistics"
   ]
  },
  {
   "cell_type": "code",
   "execution_count": 15,
   "id": "0cac7a9e",
   "metadata": {},
   "outputs": [
    {
     "name": "stdout",
     "output_type": "stream",
     "text": [
      "Sleep Data Summary Statistics\n",
      "       current_day_of_study  survey1_question1_response  \\\n",
      "count             15.000000                   15.000000   \n",
      "mean               7.666667                    4.600000   \n",
      "std                4.879500                    1.919821   \n",
      "min                0.000000                    1.000000   \n",
      "25%                3.500000                    3.000000   \n",
      "50%                8.000000                    5.000000   \n",
      "75%               11.500000                    6.000000   \n",
      "max               15.000000                    8.000000   \n",
      "\n",
      "       survey1_question2_response  survey1_question3_response  \\\n",
      "count                   15.000000                   15.000000   \n",
      "mean                     4.066667                    3.866667   \n",
      "std                      1.791514                    2.642149   \n",
      "min                      2.000000                    1.000000   \n",
      "25%                      2.000000                    1.000000   \n",
      "50%                      4.000000                    4.000000   \n",
      "75%                      5.500000                    6.000000   \n",
      "max                      7.000000                    8.000000   \n",
      "\n",
      "       survey1_question4_response  survey2_question1_response  \\\n",
      "count                   15.000000                         0.0   \n",
      "mean                     2.466667                         NaN   \n",
      "std                      2.065591                         NaN   \n",
      "min                      1.000000                         NaN   \n",
      "25%                      1.000000                         NaN   \n",
      "50%                      1.000000                         NaN   \n",
      "75%                      4.000000                         NaN   \n",
      "max                      7.000000                         NaN   \n",
      "\n",
      "       survey2_question2_response  \n",
      "count                         0.0  \n",
      "mean                          NaN  \n",
      "std                           NaN  \n",
      "min                           NaN  \n",
      "25%                           NaN  \n",
      "50%                           NaN  \n",
      "75%                           NaN  \n",
      "max                           NaN  \n"
     ]
    }
   ],
   "source": [
    "print(\"Sleep Data Summary Statistics\")\n",
    "summary_stats = df_mea_o.describe()\n",
    "print(summary_stats)"
   ]
  },
  {
   "cell_type": "code",
   "execution_count": 16,
   "id": "b11b6825",
   "metadata": {},
   "outputs": [
    {
     "name": "stdout",
     "output_type": "stream",
     "text": [
      "<class 'pandas.core.frame.DataFrame'>\n",
      "Index: 15 entries, 29 to 1\n",
      "Data columns (total 11 columns):\n",
      " #   Column                      Non-Null Count  Dtype              \n",
      "---  ------                      --------------  -----              \n",
      " 0   measurement_time            15 non-null     datetime64[ns, UTC]\n",
      " 1   measurement_name            15 non-null     object             \n",
      " 2   participant_id              15 non-null     object             \n",
      " 3   current_day_of_study        15 non-null     int64              \n",
      " 4   current_intervention_name   15 non-null     object             \n",
      " 5   survey1_question1_response  15 non-null     float64            \n",
      " 6   survey1_question2_response  15 non-null     float64            \n",
      " 7   survey1_question3_response  15 non-null     float64            \n",
      " 8   survey1_question4_response  15 non-null     float64            \n",
      " 9   survey2_question1_response  0 non-null      float64            \n",
      " 10  survey2_question2_response  0 non-null      float64            \n",
      "dtypes: datetime64[ns, UTC](1), float64(6), int64(1), object(3)\n",
      "memory usage: 1.4+ KB\n"
     ]
    }
   ],
   "source": [
    "df_mea_o.info()"
   ]
  },
  {
   "cell_type": "markdown",
   "id": "2f0233aa",
   "metadata": {},
   "source": [
    "#### Data Visualization and Distributions"
   ]
  },
  {
   "cell_type": "code",
   "execution_count": 17,
   "id": "dc36b946",
   "metadata": {},
   "outputs": [
    {
     "data": {
      "image/png": "[encoded data removed]",
      "text/plain": [
       "<Figure size 1000x400 with 2 Axes>"
      ]
     },
     "metadata": {},
     "output_type": "display_data"
    },
    {
     "data": {
      "image/png": "[encoded data removed]",
      "text/plain": [
       "<Figure size 1000x400 with 2 Axes>"
      ]
     },
     "metadata": {},
     "output_type": "display_data"
    }
   ],
   "source": [
    "columns = [\n",
    "    'survey1_question1_response',\n",
    "    'survey1_question2_response']\n",
    "for column in columns:\n",
    "    plt.figure(figsize=(10, 4))\n",
    "\n",
    "    plt.subplot(1, 2, 1)\n",
    "    sns.histplot(df_mea_o[column].dropna(), bins=15, kde=True)\n",
    "    plt.title(f\"Distribution of {column}\")\n",
    "    plt.xlabel(column)\n",
    "    plt.ylabel(\"Frequency\")\n",
    "\n",
    "    plt.subplot(1, 2, 2)\n",
    "    sns.boxplot(y=df_mea_o[column].dropna())\n",
    "    plt.title(f\"Box Plot of {column}\")\n",
    "    plt.ylabel(column)\n",
    "\n",
    "    plt.tight_layout()\n",
    "    plt.show()"
   ]
  },
  {
   "cell_type": "markdown",
   "id": "4f06bfc0",
   "metadata": {},
   "source": [
    "#### Line Plot"
   ]
  },
  {
   "cell_type": "code",
   "execution_count": 18,
   "id": "6b14fe72",
   "metadata": {},
   "outputs": [
    {
     "data": {
      "image/png": "[encoded data removed]",
      "text/plain": [
       "<Figure size 1000x600 with 1 Axes>"
      ]
     },
     "metadata": {},
     "output_type": "display_data"
    }
   ],
   "source": [
    "grouped_data = df_mea_o.groupby(\"participant_id\")\n",
    "\n",
    "plt.figure(figsize=(10, 6)) \n",
    "\n",
    "for participant_id, group in grouped_data:\n",
    "    plt.plot(group['current_day_of_study'], group['survey1_question1_response'], label=f'Participant {participant_id}')\n",
    "\n",
    "plt.xlabel('Current Day of Study')\n",
    "plt.ylabel('Day Stress Level')\n",
    "plt.title('Stress Level Over Time for Participant in Outcome Dataset')\n",
    "\n",
    "plt.legend()\n",
    "plt.show()"
   ]
  },
  {
   "cell_type": "markdown",
   "id": "17c853ed",
   "metadata": {},
   "source": [
    "#### Scatterplot"
   ]
  },
  {
   "cell_type": "code",
   "execution_count": 19,
   "id": "388e8a55",
   "metadata": {},
   "outputs": [
    {
     "data": {
      "text/plain": [
       "<matplotlib.legend.Legend at 0x2776000fa50>"
      ]
     },
     "execution_count": 19,
     "metadata": {},
     "output_type": "execute_result"
    },
    {
     "data": {
      "image/png": "[encoded data removed]",
      "text/plain": [
       "<Figure size 1000x500 with 1 Axes>"
      ]
     },
     "metadata": {},
     "output_type": "display_data"
    }
   ],
   "source": [
    "x = 'current_day_of_study'\n",
    "y = 'survey1_question1_response'\n",
    "\n",
    "participant_list= list(df_mea_o.participant_id.unique())\n",
    "fig, axs = plt.subplots(len(participant_list), figsize=(10, 5 * len(participant_list)))\n",
    "\n",
    "if len(participant_list) == 1:\n",
    "    axs = [axs]\n",
    "\n",
    "for i in range(len(participant_list)):\n",
    "    legend = True if i == len(participant_list)-1 else False\n",
    "    sns.scatterplot(\n",
    "        data=df_mea_o[df_mea_o[\"participant_id\"] == participant_list[i]],\n",
    "        x=x, y=y, hue='current_intervention_name',\n",
    "        ax=axs[i], legend=legend\n",
    "    )\n",
    "\n",
    "axs[-1].legend(loc='upper center', bbox_to_anchor=(0.5, -0.5))"
   ]
  },
  {
   "cell_type": "markdown",
   "id": "a68b3f7e",
   "metadata": {},
   "source": [
    "#### Correlations"
   ]
  },
  {
   "cell_type": "code",
   "execution_count": 20,
   "id": "d8ae5bf4",
   "metadata": {},
   "outputs": [
    {
     "data": {
      "image/png": "[encoded data removed]",
      "text/plain": [
       "<Figure size 1500x500 with 6 Axes>"
      ]
     },
     "metadata": {},
     "output_type": "display_data"
    }
   ],
   "source": [
    "columns_to_include = [\n",
    "    'survey1_question1_response',\n",
    "    'survey1_question2_response',\n",
    "    'survey1_question3_response',\n",
    "    'survey1_question4_response']\n",
    "\n",
    "correlation_pearson = df_mea_all[columns_to_include].corr(method='pearson')\n",
    "correlation_kendall = df_mea_all[columns_to_include].corr(method='kendall')\n",
    "correlation_spearman = df_mea_all[columns_to_include].corr(method='spearman')\n",
    "\n",
    "fig, axes = plt.subplots(1, 3, figsize=(15, 5))\n",
    "\n",
    "sns.heatmap(correlation_pearson, vmin=-1, vmax=1, annot=True, cmap='BrBG',ax=axes[0], center=0)\n",
    "axes[0].set_title('Pearson Correlation')\n",
    "\n",
    "sns.heatmap(correlation_kendall, annot=True, cmap='coolwarm', ax=axes[1])\n",
    "axes[1].set_title('Kendall Correlation')\n",
    "\n",
    "sns.heatmap(correlation_spearman, annot=True, cmap='coolwarm', ax=axes[2])\n",
    "axes[2].set_title('Spearman Correlation')\n",
    "\n",
    "plt.tight_layout()\n",
    "plt.show()"
   ]
  },
  {
   "cell_type": "markdown",
   "id": "2de3f1fd",
   "metadata": {},
   "source": [
    "## Baseline Study: Watching Comedy movies or series vs Not watching comedy movies or series"
   ]
  },
  {
   "cell_type": "markdown",
   "id": "a58b50f7",
   "metadata": {},
   "source": [
    "  - Baseline Studies  \n",
    "    - Examination of Outcomes   \n",
    "    - Linear Regression  \n",
    "      - Ordinary Least Squares (OLS) Regression  \n",
    "      - Linear Regression with Autoregressive Errors \n",
    "      - Bayesian linear regression models\n",
    "        - Bayesian AR(1) Model of Daily Stress Response to Intervention and Mediators\n",
    "        - Bayesian AR(1) Regression with Data-Driven Scale (MAD-Based)\n",
    "        - Bayesian AR(1) Regression with Consecutive‐Day Adjustment\n",
    "        - Bayesian AR(1) Model of Daily Stress Response to Intervention and Mediators - Mean Imputation Method\n",
    "        - Bayesian AR(1) Model of Daily Stress Response to Intervention and Mediators - Latent Variable Method"
   ]
  },
  {
   "cell_type": "markdown",
   "id": "bc329919",
   "metadata": {},
   "source": [
    "#### Examination of Outcomes: Today Stress Level"
   ]
  },
  {
   "cell_type": "code",
   "execution_count": 21,
   "id": "4bb845ad",
   "metadata": {},
   "outputs": [
    {
     "name": "stdout",
     "output_type": "stream",
     "text": [
      "Watching comedy:        n = 8, std = 1.69, mean = 5.00\n",
      "Avoid watching comedy:  n = 7, std = 2.19, mean = 4.14\n",
      "\n"
     ]
    }
   ],
   "source": [
    "df_mea_o = df_mea_o[\n",
    "    (df_mea_o['measurement_name'] == 'Outcome') &\n",
    "    df_mea_o['survey1_question1_response'].notna() &\n",
    "    df_mea_o['current_intervention_name'].isin([\n",
    "        \"Watching comedy movies or series!\",\n",
    "        \"Not watching comedy movies or series!\"\n",
    "    ])\n",
    "]\n",
    "\n",
    "watching = df_mea_o.loc[\n",
    "    df_mea_o['current_intervention_name'] == \"Watching comedy movies or series!\",\n",
    "    'survey1_question1_response'\n",
    "]\n",
    "avoid = df_mea_o.loc[\n",
    "    df_mea_o['current_intervention_name'] == \"Not watching comedy movies or series!\",\n",
    "    'survey1_question1_response'\n",
    "]\n",
    "\n",
    "n_watching   = watching.count()\n",
    "n_avoid      = avoid.count()\n",
    "std_watching = watching.std(ddof=1)\n",
    "std_avoid    = avoid.std(ddof=1)\n",
    "\n",
    "print(f\"Watching comedy:        n = {n_watching}, std = {std_watching:.2f}, mean = {watching.mean():.2f}\")\n",
    "print(f\"Avoid watching comedy:  n = {n_avoid}, std = {std_avoid:.2f}, mean = {avoid.mean():.2f}\\n\")"
   ]
  },
  {
   "cell_type": "markdown",
   "id": "8d82b1c2",
   "metadata": {},
   "source": [
    "#### Examination of Outcomes: Prediction of Tomorrow Stress"
   ]
  },
  {
   "cell_type": "code",
   "execution_count": 22,
   "id": "f671f92b",
   "metadata": {},
   "outputs": [
    {
     "name": "stdout",
     "output_type": "stream",
     "text": [
      "Watching comedy:        n = 8, std = 1.93, mean = 4.50\n",
      "Avoid watching comedy:  n = 7, std = 1.62, mean = 3.57\n",
      "\n"
     ]
    }
   ],
   "source": [
    "df_mea_o = df_mea_o[\n",
    "    (df_mea_o['measurement_name'] == 'Outcome') &\n",
    "    df_mea_o['survey1_question2_response'].notna() &\n",
    "    df_mea_o['current_intervention_name'].isin([\n",
    "        \"Watching comedy movies or series!\",\n",
    "        \"Not watching comedy movies or series!\"\n",
    "    ])\n",
    "]\n",
    "\n",
    "watching = df_mea_o.loc[\n",
    "    df_mea_o['current_intervention_name'] == \"Watching comedy movies or series!\",\n",
    "    'survey1_question2_response'\n",
    "]\n",
    "avoid = df_mea_o.loc[\n",
    "    df_mea_o['current_intervention_name'] == \"Not watching comedy movies or series!\",\n",
    "    'survey1_question2_response'\n",
    "]\n",
    "\n",
    "n_watching   = watching.count()\n",
    "n_avoid      = avoid.count()\n",
    "std_watching = watching.std(ddof=1)\n",
    "std_avoid    = avoid.std(ddof=1)\n",
    "\n",
    "print(f\"Watching comedy:        n = {n_watching}, std = {std_watching:.2f}, mean = {watching.mean():.2f}\")\n",
    "print(f\"Avoid watching comedy:  n = {n_avoid}, std = {std_avoid:.2f}, mean = {avoid.mean():.2f}\\n\")"
   ]
  },
  {
   "cell_type": "markdown",
   "id": "dd2a1c6b",
   "metadata": {},
   "source": [
    "#### Examination of Outcomes: Mean Stress-Relief Score for Watching Comedy (Q3)\n",
    "The average score for Question 3 (survey1_question3_response), which assesses how much watching comedies alleviated participants’ stress on days they performed."
   ]
  },
  {
   "cell_type": "code",
   "execution_count": 23,
   "id": "2f1877e0",
   "metadata": {},
   "outputs": [
    {
     "data": {
      "text/plain": [
       "\"Did your miracle stress-shrinking method (watching comedy) help you feel like a calm, happy puppy, or was it more like trying to train a cat to do your taxes? <b>(1 = Not helpful at all to 10 = I'm practically levitating with calmness!) <i>(Answer ONLY if you have watched a comedy movie or series!)<i></b>\""
      ]
     },
     "execution_count": 23,
     "metadata": {},
     "output_type": "execute_result"
    }
   ],
   "source": [
    "df_mea.survey1_question3_text[0]"
   ]
  },
  {
   "cell_type": "code",
   "execution_count": 24,
   "id": "769f7307",
   "metadata": {},
   "outputs": [
    {
     "data": {
      "text/plain": [
       "6.0"
      ]
     },
     "execution_count": 24,
     "metadata": {},
     "output_type": "execute_result"
    }
   ],
   "source": [
    "# \"Did your miracle stress-shrinking method (watching comedy) help you feel like a calm, happy puppy, or was it more like trying to train a cat to do your taxes? <b>(1 = Not helpful at all to 10 = I'm practically levitating with calmness!) <i>(Answer ONLY if you have watched a comedy movie or series!)<i></b>\"\n",
    "mean_q3_comedy = df_mea_o.loc[\n",
    "    df_mea_o['current_intervention_name'] == \"Watching comedy movies or series!\",\n",
    "    'survey1_question3_response'\n",
    "].mean()\n",
    "mean_q3_comedy.item()"
   ]
  },
  {
   "cell_type": "markdown",
   "id": "478a4c7d",
   "metadata": {},
   "source": [
    "**Mean Stress-Relief Score for Watching Comedy (Q3): 6.0:**\n",
    "On days when the participant watched comedy movies or series, hhe rated Question 3—“Did your miracle stress-shrinking method (watching comedy) help you feel like a calm, happy puppy, or was it more like trying to train a cat to do your taxes?”—an average of **6.0 out of 10**, indicating that watching comedy provided a moderate benefit."
   ]
  },
  {
   "cell_type": "markdown",
   "id": "8de318c5",
   "metadata": {},
   "source": [
    "#### Examination of Outcomes: Mean Stress-Management Difficulty Without Watching Comedy (Q4)\n",
    "The average score for Question 4 (survey1_question4_response), which measures participants’ difficulty in managing stress on days they did not watch comedies."
   ]
  },
  {
   "cell_type": "code",
   "execution_count": 25,
   "id": "3399346a",
   "metadata": {},
   "outputs": [
    {
     "data": {
      "text/plain": [
       "\"When you skipped the method (not watching comedy) today, did managing stress feel more like “breezing through a sunny park” or “juggling flaming torches while riding a unicycle on a tightrope over a pit of snapping crocodiles”? <b>(1 = Easy breezy to 10 = Send help, I'm barely holding it together!) <i>(Answer ONLY if you have NOT watched a comedy movie or series!)<i></b>\\n\""
      ]
     },
     "execution_count": 25,
     "metadata": {},
     "output_type": "execute_result"
    }
   ],
   "source": [
    "df_mea.survey1_question4_text[0]"
   ]
  },
  {
   "cell_type": "code",
   "execution_count": 26,
   "id": "dd079755",
   "metadata": {},
   "outputs": [
    {
     "data": {
      "text/plain": [
       "4.142857142857143"
      ]
     },
     "execution_count": 26,
     "metadata": {},
     "output_type": "execute_result"
    }
   ],
   "source": [
    "# \"When you skipped the method (not watching comedy) today, did managing stress feel more like “breezing through a sunny park” or “juggling flaming torches while riding a unicycle on a tightrope over a pit of snapping crocodiles”? <b>(1 = Easy breezy to 10 = Send help, I'm barely holding it together!) <i>(Answer ONLY if you have NOT watched a comedy movie or series!)<i></b>\\n\"\n",
    "mean_q4_no_comedy = df_mea_o.loc[\n",
    "    df_mea_o['current_intervention_name'] == \"Not watching comedy movies or series!\",\n",
    "    'survey1_question4_response'\n",
    "].mean()\n",
    "mean_q4_no_comedy.item()"
   ]
  },
  {
   "cell_type": "markdown",
   "id": "b2b6ed14",
   "metadata": {},
   "source": [
    "**Mean Stress-Management Difficulty Score Without Watching Comedy (Q4): 4.14:**\n",
    "On days when the participant did not watch comedy movies or series, he rated Question 4—“When you skipped the method today, did managing stress feel more like ‘breezing through a sunny park’ or ‘juggling flaming torches while riding a unicycle on a tightrope over a pit of snapping crocodiles’?”—an average of **4.14 out of 10**, indicating that going without comedy posed only a slight difficulty in managing stress."
   ]
  },
  {
   "cell_type": "markdown",
   "id": "4da54a73",
   "metadata": {},
   "source": [
    "### Estimating treatment effect using Linear Regression with Autoregressive errors"
   ]
  },
  {
   "cell_type": "code",
   "execution_count": 27,
   "id": "1228e91c",
   "metadata": {},
   "outputs": [
    {
     "name": "stdout",
     "output_type": "stream",
     "text": [
      "OLS Regression Results:\n",
      "                                OLS Regression Results                                \n",
      "======================================================================================\n",
      "Dep. Variable:     survey1_question1_response   R-squared:                       0.053\n",
      "Model:                                    OLS   Adj. R-squared:                 -0.020\n",
      "Method:                         Least Squares   F-statistic:                    0.7298\n",
      "Date:                        Thu, 14 Aug 2025   Prob (F-statistic):              0.408\n",
      "Time:                                00:48:44   Log-Likelihood:                -30.140\n",
      "No. Observations:                          15   AIC:                             64.28\n",
      "Df Residuals:                              13   BIC:                             65.70\n",
      "Df Model:                                   1                                         \n",
      "Covariance Type:                    nonrobust                                         \n",
      "==============================================================================\n",
      "                 coef    std err          t      P>|t|      [0.025      0.975]\n",
      "------------------------------------------------------------------------------\n",
      "const          4.1429      0.733      5.654      0.000       2.560       5.726\n",
      "D              0.8571      1.003      0.854      0.408      -1.310       3.025\n",
      "==============================================================================\n",
      "Omnibus:                        0.166   Durbin-Watson:                   0.825\n",
      "Prob(Omnibus):                  0.920   Jarque-Bera (JB):                0.036\n",
      "Skew:                           0.007   Prob(JB):                        0.982\n",
      "Kurtosis:                       2.761   Cond. No.                         2.70\n",
      "==============================================================================\n",
      "\n",
      "Notes:\n",
      "[1] Standard Errors assume that the covariance matrix of the errors is correctly specified.\n",
      "Durbin–Watson statistic (OLS residuals): 0.825\n",
      "\n"
     ]
    },
    {
     "name": "stderr",
     "output_type": "stream",
     "text": [
      "c:\\Users\\USER\\AppData\\Local\\r-miniconda\\Lib\\site-packages\\scipy\\stats\\_axis_nan_policy.py:430: UserWarning: `kurtosistest` p-value may be inaccurate with fewer than 20 observations; only n=15 observations were given.\n",
      "  return hypotest_fun_in(*args, **kwds)\n"
     ]
    }
   ],
   "source": [
    "df_mea_o = df_mea_o[\n",
    "    (df_mea_o['measurement_name'] == 'Outcome') &\n",
    "    df_mea_o['survey1_question1_response'].notna() &\n",
    "    df_mea_o['current_intervention_name'].isin([\"Watching comedy movies or series!\", \"Not watching comedy movies or series!\"])\n",
    "]\n",
    "\n",
    "df_mea_o = df_mea_o.sort_values('measurement_time')\n",
    "\n",
    "y = df_mea_o['survey1_question1_response']\n",
    "df_mea_o['D'] = (df_mea_o['current_intervention_name'] == \"Watching comedy movies or series!\").astype(int)\n",
    "X = sm.add_constant(df_mea_o['D'])\n",
    "\n",
    "ols_res = sm.OLS(y, X).fit()\n",
    "dw_ols = durbin_watson(ols_res.resid)\n",
    "\n",
    "print(\"OLS Regression Results:\")\n",
    "print(ols_res.summary())\n",
    "print(f\"Durbin–Watson statistic (OLS residuals): {dw_ols:.3f}\\n\")"
   ]
  },
  {
   "cell_type": "code",
   "execution_count": 28,
   "id": "57fe6caa",
   "metadata": {},
   "outputs": [
    {
     "name": "stdout",
     "output_type": "stream",
     "text": [
      "GLSAR Regression Results (AR(1) error structure):\n",
      "                               GLSAR Regression Results                               \n",
      "======================================================================================\n",
      "Dep. Variable:     survey1_question1_response   R-squared:                       0.062\n",
      "Model:                                  GLSAR   Adj. R-squared:                 -0.016\n",
      "Method:                         Least Squares   F-statistic:                    0.7952\n",
      "Date:                        Thu, 14 Aug 2025   Prob (F-statistic):              0.390\n",
      "Time:                                00:48:44   Log-Likelihood:                -25.208\n",
      "No. Observations:                          14   AIC:                             54.42\n",
      "Df Residuals:                              12   BIC:                             55.69\n",
      "Df Model:                                   1                                         \n",
      "Covariance Type:                    nonrobust                                         \n",
      "==============================================================================\n",
      "                 coef    std err          t      P>|t|      [0.025      0.975]\n",
      "------------------------------------------------------------------------------\n",
      "const          3.6869      1.204      3.063      0.010       1.064       6.309\n",
      "D              1.0623      1.191      0.892      0.390      -1.533       3.658\n",
      "==============================================================================\n",
      "Omnibus:                        2.644   Durbin-Watson:                   2.148\n",
      "Prob(Omnibus):                  0.267   Jarque-Bera (JB):                1.060\n",
      "Skew:                           0.658   Prob(JB):                        0.589\n",
      "Kurtosis:                       3.287   Cond. No.                         1.72\n",
      "==============================================================================\n",
      "\n",
      "Notes:\n",
      "[1] Standard Errors assume that the covariance matrix of the errors is correctly specified.\n",
      "Estimated AR(1) coefficient (rho): 0.596\n",
      "Durbin–Watson statistic (GLSAR residuals): 0.785\n"
     ]
    },
    {
     "name": "stderr",
     "output_type": "stream",
     "text": [
      "c:\\Users\\USER\\AppData\\Local\\r-miniconda\\Lib\\site-packages\\scipy\\stats\\_axis_nan_policy.py:430: UserWarning: `kurtosistest` p-value may be inaccurate with fewer than 20 observations; only n=14 observations were given.\n",
      "  return hypotest_fun_in(*args, **kwds)\n"
     ]
    }
   ],
   "source": [
    "# GLSAR Regression with AR(1) errors (Feasible GLS) \n",
    "glsar = sm.GLSAR(y, X, rho=1)\n",
    "glsar_res = glsar.iterative_fit(maxiter=10)\n",
    "dw_glsar = durbin_watson(glsar_res.resid)\n",
    "\n",
    "print(\"GLSAR Regression Results (AR(1) error structure):\")\n",
    "print(glsar_res.summary())\n",
    "print(f\"Estimated AR(1) coefficient (rho): {glsar.rho[0]:.3f}\")\n",
    "print(f\"Durbin–Watson statistic (GLSAR residuals): {dw_glsar:.3f}\")"
   ]
  },
  {
   "cell_type": "markdown",
   "id": "88779091",
   "metadata": {},
   "source": [
    "#### Bayesian AR(1) Model of Daily Stress Response to Intervention and Mediators"
   ]
  },
  {
   "cell_type": "code",
   "execution_count": 29,
   "id": "65193cf5",
   "metadata": {},
   "outputs": [
    {
     "name": "stdout",
     "output_type": "stream",
     "text": [
      "Model result with neither fac1 nor fac2 (intervention only):\n"
     ]
    },
    {
     "name": "stderr",
     "output_type": "stream",
     "text": [
      "Initializing NUTS using jitter+adapt_diag...\n",
      "c:\\Users\\USER\\AppData\\Local\\r-miniconda\\Lib\\site-packages\\pytensor\\tensor\\rewriting\\elemwise.py:954: UserWarning: Loop fusion failed because the resulting node would exceed the kernel argument limit.\n",
      "  warn(\n",
      "Multiprocess sampling (2 chains in 2 jobs)\n",
      "NUTS: [beta0, beta_int, rho, sigma]\n"
     ]
    },
    {
     "data": {
      "text/html": [
       "<pre style=\"white-space:pre;overflow-x:auto;line-height:normal;font-family:Menlo,'DejaVu Sans Mono',consolas,'Courier New',monospace\">c:\\Users\\USER\\AppData\\Local\\r-miniconda\\Lib\\site-packages\\rich\\live.py:231: UserWarning: install \"ipywidgets\" for \n",
       "Jupyter support\n",
       "  warnings.warn('install \"ipywidgets\" for Jupyter support')\n",
       "</pre>\n"
      ],
      "text/plain": [
       "c:\\Users\\USER\\AppData\\Local\\r-miniconda\\Lib\\site-packages\\rich\\live.py:231: UserWarning: install \"ipywidgets\" for \n",
       "Jupyter support\n",
       "  warnings.warn('install \"ipywidgets\" for Jupyter support')\n"
      ]
     },
     "metadata": {},
     "output_type": "display_data"
    },
    {
     "data": {
      "text/html": [
       "<pre style=\"white-space:pre;overflow-x:auto;line-height:normal;font-family:Menlo,'DejaVu Sans Mono',consolas,'Courier New',monospace\"></pre>\n"
      ],
      "text/plain": []
     },
     "metadata": {},
     "output_type": "display_data"
    },
    {
     "name": "stderr",
     "output_type": "stream",
     "text": [
      "Sampling 2 chains for 500 tune and 500 draw iterations (1_000 + 1_000 draws total) took 179 seconds.\n",
      "We recommend running at least 4 chains for robust computation of convergence diagnostics\n"
     ]
    },
    {
     "name": "stdout",
     "output_type": "stream",
     "text": [
      "           mean     sd  hdi_2.5%  hdi_97.5%  mcse_mean  mcse_sd  ess_bulk  \\\n",
      "beta_int  0.697  0.753    -0.721      2.187      0.032    0.025     553.0   \n",
      "rho       0.621  0.214     0.233      0.997      0.009    0.006     463.0   \n",
      "sigma     1.601  0.275     1.076      2.099      0.011    0.011     722.0   \n",
      "\n",
      "          ess_tail  r_hat  \n",
      "beta_int     572.0   1.00  \n",
      "rho          337.0   1.01  \n",
      "sigma        663.0   1.00  \n",
      "P(beta_int ≤ –0.5) = 4.90%\n",
      "P(–0.5 < beta_int < 0) = 12.60%\n",
      "P(beta_int ≥ 0) = 82.50%\n",
      "P(Stress reduction of watching comedy movies or series ≥ 0.5) = 4.90%\n",
      "\n",
      "Model result with only fac1:\n"
     ]
    },
    {
     "name": "stderr",
     "output_type": "stream",
     "text": [
      "Initializing NUTS using jitter+adapt_diag...\n",
      "c:\\Users\\USER\\AppData\\Local\\r-miniconda\\Lib\\site-packages\\pytensor\\tensor\\rewriting\\elemwise.py:954: UserWarning: Loop fusion failed because the resulting node would exceed the kernel argument limit.\n",
      "  warn(\n",
      "Multiprocess sampling (2 chains in 2 jobs)\n",
      "NUTS: [beta0, beta_int, beta_f1, rho, sigma]\n"
     ]
    },
    {
     "data": {
      "text/html": [
       "<pre style=\"white-space:pre;overflow-x:auto;line-height:normal;font-family:Menlo,'DejaVu Sans Mono',consolas,'Courier New',monospace\">c:\\Users\\USER\\AppData\\Local\\r-miniconda\\Lib\\site-packages\\rich\\live.py:231: UserWarning: install \"ipywidgets\" for \n",
       "Jupyter support\n",
       "  warnings.warn('install \"ipywidgets\" for Jupyter support')\n",
       "</pre>\n"
      ],
      "text/plain": [
       "c:\\Users\\USER\\AppData\\Local\\r-miniconda\\Lib\\site-packages\\rich\\live.py:231: UserWarning: install \"ipywidgets\" for \n",
       "Jupyter support\n",
       "  warnings.warn('install \"ipywidgets\" for Jupyter support')\n"
      ]
     },
     "metadata": {},
     "output_type": "display_data"
    },
    {
     "data": {
      "text/html": [
       "<pre style=\"white-space:pre;overflow-x:auto;line-height:normal;font-family:Menlo,'DejaVu Sans Mono',consolas,'Courier New',monospace\"></pre>\n"
      ],
      "text/plain": []
     },
     "metadata": {},
     "output_type": "display_data"
    },
    {
     "name": "stderr",
     "output_type": "stream",
     "text": [
      "Sampling 2 chains for 500 tune and 500 draw iterations (1_000 + 1_000 draws total) took 363 seconds.\n",
      "We recommend running at least 4 chains for robust computation of convergence diagnostics\n"
     ]
    },
    {
     "name": "stdout",
     "output_type": "stream",
     "text": [
      "           mean     sd  hdi_2.5%  hdi_97.5%  mcse_mean  mcse_sd  ess_bulk  \\\n",
      "beta_int  0.283  0.565    -0.811      1.419      0.026    0.023     469.0   \n",
      "beta_f1   0.836  0.177     0.464      1.147      0.009    0.006     410.0   \n",
      "rho       0.075  0.363    -0.685      0.699      0.019    0.010     365.0   \n",
      "sigma     1.065  0.231     0.662      1.502      0.011    0.009     444.0   \n",
      "\n",
      "          ess_tail  r_hat  \n",
      "beta_int     438.0   1.00  \n",
      "beta_f1      610.0   1.01  \n",
      "rho          364.0   1.00  \n",
      "sigma        333.0   1.01  \n",
      "P(beta_int ≤ –0.5) = 6.40%\n",
      "P(–0.5 < beta_int < 0) = 23.70%\n",
      "P(beta_int ≥ 0) = 69.90%\n",
      "P(Stress reduction of watching comedy movies or series ≥ 0.5) = 6.40%\n",
      "\n",
      "Model result with only fac2:\n"
     ]
    },
    {
     "name": "stderr",
     "output_type": "stream",
     "text": [
      "Initializing NUTS using jitter+adapt_diag...\n",
      "c:\\Users\\USER\\AppData\\Local\\r-miniconda\\Lib\\site-packages\\pytensor\\tensor\\rewriting\\elemwise.py:954: UserWarning: Loop fusion failed because the resulting node would exceed the kernel argument limit.\n",
      "  warn(\n",
      "Multiprocess sampling (2 chains in 2 jobs)\n",
      "NUTS: [beta0, beta_int, beta_f2, rho, sigma]\n"
     ]
    },
    {
     "data": {
      "text/html": [
       "<pre style=\"white-space:pre;overflow-x:auto;line-height:normal;font-family:Menlo,'DejaVu Sans Mono',consolas,'Courier New',monospace\">c:\\Users\\USER\\AppData\\Local\\r-miniconda\\Lib\\site-packages\\rich\\live.py:231: UserWarning: install \"ipywidgets\" for \n",
       "Jupyter support\n",
       "  warnings.warn('install \"ipywidgets\" for Jupyter support')\n",
       "</pre>\n"
      ],
      "text/plain": [
       "c:\\Users\\USER\\AppData\\Local\\r-miniconda\\Lib\\site-packages\\rich\\live.py:231: UserWarning: install \"ipywidgets\" for \n",
       "Jupyter support\n",
       "  warnings.warn('install \"ipywidgets\" for Jupyter support')\n"
      ]
     },
     "metadata": {},
     "output_type": "display_data"
    },
    {
     "data": {
      "text/html": [
       "<pre style=\"white-space:pre;overflow-x:auto;line-height:normal;font-family:Menlo,'DejaVu Sans Mono',consolas,'Courier New',monospace\"></pre>\n"
      ],
      "text/plain": []
     },
     "metadata": {},
     "output_type": "display_data"
    },
    {
     "name": "stderr",
     "output_type": "stream",
     "text": [
      "Sampling 2 chains for 500 tune and 500 draw iterations (1_000 + 1_000 draws total) took 286 seconds.\n",
      "We recommend running at least 4 chains for robust computation of convergence diagnostics\n"
     ]
    },
    {
     "name": "stdout",
     "output_type": "stream",
     "text": [
      "           mean     sd  hdi_2.5%  hdi_97.5%  mcse_mean  mcse_sd  ess_bulk  \\\n",
      "beta_int  0.858  0.621    -0.357      2.188      0.026    0.024     629.0   \n",
      "beta_f2   0.591  0.206     0.184      0.983      0.012    0.010     309.0   \n",
      "rho       0.164  0.391    -0.474      0.979      0.023    0.013     281.0   \n",
      "sigma     1.291  0.283     0.845      1.862      0.014    0.025     502.0   \n",
      "\n",
      "          ess_tail  r_hat  \n",
      "beta_int     502.0   1.00  \n",
      "beta_f2      298.0   1.00  \n",
      "rho          339.0   1.00  \n",
      "sigma        275.0   1.01  \n",
      "P(beta_int ≤ –0.5) = 1.70%\n",
      "P(–0.5 < beta_int < 0) = 6.10%\n",
      "P(beta_int ≥ 0) = 92.20%\n",
      "P(Stress reduction of watching comedy movies or series ≥ 0.5) = 1.70%\n",
      "\n",
      "Model result with both fac1 and fac2:\n"
     ]
    },
    {
     "name": "stderr",
     "output_type": "stream",
     "text": [
      "Initializing NUTS using jitter+adapt_diag...\n",
      "c:\\Users\\USER\\AppData\\Local\\r-miniconda\\Lib\\site-packages\\pytensor\\tensor\\rewriting\\elemwise.py:954: UserWarning: Loop fusion failed because the resulting node would exceed the kernel argument limit.\n",
      "  warn(\n",
      "Multiprocess sampling (2 chains in 2 jobs)\n",
      "NUTS: [beta0, beta_int, beta_f1, beta_f2, rho, sigma]\n"
     ]
    },
    {
     "data": {
      "text/html": [
       "<pre style=\"white-space:pre;overflow-x:auto;line-height:normal;font-family:Menlo,'DejaVu Sans Mono',consolas,'Courier New',monospace\">c:\\Users\\USER\\AppData\\Local\\r-miniconda\\Lib\\site-packages\\rich\\live.py:231: UserWarning: install \"ipywidgets\" for \n",
       "Jupyter support\n",
       "  warnings.warn('install \"ipywidgets\" for Jupyter support')\n",
       "</pre>\n"
      ],
      "text/plain": [
       "c:\\Users\\USER\\AppData\\Local\\r-miniconda\\Lib\\site-packages\\rich\\live.py:231: UserWarning: install \"ipywidgets\" for \n",
       "Jupyter support\n",
       "  warnings.warn('install \"ipywidgets\" for Jupyter support')\n"
      ]
     },
     "metadata": {},
     "output_type": "display_data"
    },
    {
     "data": {
      "text/html": [
       "<pre style=\"white-space:pre;overflow-x:auto;line-height:normal;font-family:Menlo,'DejaVu Sans Mono',consolas,'Courier New',monospace\"></pre>\n"
      ],
      "text/plain": []
     },
     "metadata": {},
     "output_type": "display_data"
    },
    {
     "name": "stderr",
     "output_type": "stream",
     "text": [
      "Sampling 2 chains for 500 tune and 500 draw iterations (1_000 + 1_000 draws total) took 469 seconds.\n",
      "There were 3 divergences after tuning. Increase `target_accept` or reparameterize.\n",
      "We recommend running at least 4 chains for robust computation of convergence diagnostics\n"
     ]
    },
    {
     "name": "stdout",
     "output_type": "stream",
     "text": [
      "           mean     sd  hdi_2.5%  hdi_97.5%  mcse_mean  mcse_sd  ess_bulk  \\\n",
      "beta_int  0.425  0.585    -0.573      1.692      0.023    0.019     634.0   \n",
      "beta_f1   0.654  0.283     0.130      1.199      0.014    0.012     389.0   \n",
      "beta_f2   0.179  0.242    -0.292      0.636      0.012    0.011     393.0   \n",
      "rho       0.042  0.383    -0.602      0.838      0.022    0.014     310.0   \n",
      "sigma     1.087  0.228     0.724      1.534      0.012    0.011     370.0   \n",
      "\n",
      "          ess_tail  r_hat  \n",
      "beta_int     589.0   1.00  \n",
      "beta_f1      495.0   1.01  \n",
      "beta_f2      479.0   1.01  \n",
      "rho          271.0   1.00  \n",
      "sigma        326.0   1.01  \n",
      "P(beta_int ≤ –0.5) = 4.60%\n",
      "P(–0.5 < beta_int < 0) = 18.60%\n",
      "P(beta_int ≥ 0) = 76.80%\n",
      "P(Stress reduction of watching comedy movies or series ≥ 0.5) = 4.60%\n",
      "\n"
     ]
    }
   ],
   "source": [
    "def run_model(fac_cols, beta_names):\n",
    "    out = df_mea[df_mea['measurement_name'] == 'Outcome']\n",
    "    med = df_mea[df_mea['measurement_name'] == 'Mediators']\n",
    "    data = (\n",
    "        pd.merge(\n",
    "            out[['current_day_of_study', 'survey1_question1_response', 'current_intervention_name']],\n",
    "            med[['current_day_of_study'] + fac_cols] if fac_cols else out[['current_day_of_study']],\n",
    "            on='current_day_of_study',\n",
    "            how='inner'\n",
    "        ).dropna().sort_values('current_day_of_study').reset_index(drop=True)\n",
    "    )\n",
    "    y = data['survey1_question1_response'].values\n",
    "    interv = (data['current_intervention_name'] == \"Watching comedy movies or series!\").astype(int).values\n",
    "    n = len(data)\n",
    "    fac_arrays = [data[col].values for col in fac_cols] if fac_cols else []\n",
    "\n",
    "    with pm.Model() as model:\n",
    "        beta0 = pm.Normal('beta0', mu=0, sigma=10)\n",
    "        beta_int = pm.Normal('beta_int', mu=0, sigma=1)\n",
    "        betas = [pm.Normal(beta_name, mu=0, sigma=1) for beta_name in beta_names]\n",
    "        rho = pm.Uniform('rho', lower=-1, upper=1)\n",
    "        sigma = pm.HalfNormal('sigma', sigma=1)\n",
    "        mu = beta0 + beta_int * interv\n",
    "        for beta, fac in zip(betas, fac_arrays):\n",
    "            mu += beta * fac\n",
    "        pm.Normal('y_0', mu=mu[0], sigma=sigma, observed=y[0])\n",
    "        for t in range(1, n):\n",
    "            adjustment = rho * (y[t-1] - mu[t-1])\n",
    "            pm.Normal(f'y_{t}', mu=mu[t] + adjustment, sigma=sigma, observed=y[t])\n",
    "        trace = pm.sample(draws=500, tune=500, chains=2, target_accept=0.9, return_inferencedata=True)\n",
    "    summary = az.summary(trace, var_names=['beta_int'] + beta_names + ['rho', 'sigma'], hdi_prob=0.95)\n",
    "    print(summary)\n",
    "    beta_samples = trace.posterior['beta_int'].values.flatten()\n",
    "    p_le_neg05 = (beta_samples <= -0.5).mean()\n",
    "    p_between  = ((beta_samples > -0.5) & (beta_samples < 0)).mean()\n",
    "    p_ge0      = (beta_samples >= 0).mean()\n",
    "    print(f\"P(beta_int ≤ –0.5) = {p_le_neg05:.2%}\")\n",
    "    print(f\"P(–0.5 < beta_int < 0) = {p_between:.2%}\")\n",
    "    print(f\"P(beta_int ≥ 0) = {p_ge0:.2%}\")\n",
    "    prob = (trace.posterior['beta_int'] < -0.5).mean().item()\n",
    "    print(f\"P(Stress reduction of watching comedy movies or series ≥ 0.5) = {prob:.2%}\\n\")\n",
    "\n",
    "print(\"Model result with neither fac1 nor fac2 (intervention only):\")\n",
    "run_model([], [])\n",
    "\n",
    "print(\"Model result with only fac1:\")\n",
    "run_model(['survey2_question1_response'], ['beta_f1'])\n",
    "\n",
    "print(\"Model result with only fac2:\")\n",
    "run_model(['survey2_question2_response'], ['beta_f2'])\n",
    "\n",
    "print(\"Model result with both fac1 and fac2:\")\n",
    "run_model(['survey2_question1_response', 'survey2_question2_response'], ['beta_f1', 'beta_f2'])"
   ]
  },
  {
   "cell_type": "markdown",
   "id": "398827d5",
   "metadata": {},
   "source": [
    "#### Bayesian AR(1) Regression with Data-Driven Scale (MAD-Based)"
   ]
  },
  {
   "cell_type": "code",
   "execution_count": 30,
   "id": "6bcfd18f",
   "metadata": {},
   "outputs": [
    {
     "name": "stderr",
     "output_type": "stream",
     "text": [
      "Initializing NUTS using jitter+adapt_diag...\n",
      "c:\\Users\\USER\\AppData\\Local\\r-miniconda\\Lib\\site-packages\\pytensor\\tensor\\rewriting\\elemwise.py:954: UserWarning: Loop fusion failed because the resulting node would exceed the kernel argument limit.\n",
      "  warn(\n",
      "Multiprocess sampling (2 chains in 2 jobs)\n",
      "NUTS: [beta0, beta_int, rho, sigma]\n"
     ]
    },
    {
     "data": {
      "text/html": [
       "<pre style=\"white-space:pre;overflow-x:auto;line-height:normal;font-family:Menlo,'DejaVu Sans Mono',consolas,'Courier New',monospace\">c:\\Users\\USER\\AppData\\Local\\r-miniconda\\Lib\\site-packages\\rich\\live.py:231: UserWarning: install \"ipywidgets\" for \n",
       "Jupyter support\n",
       "  warnings.warn('install \"ipywidgets\" for Jupyter support')\n",
       "</pre>\n"
      ],
      "text/plain": [
       "c:\\Users\\USER\\AppData\\Local\\r-miniconda\\Lib\\site-packages\\rich\\live.py:231: UserWarning: install \"ipywidgets\" for \n",
       "Jupyter support\n",
       "  warnings.warn('install \"ipywidgets\" for Jupyter support')\n"
      ]
     },
     "metadata": {},
     "output_type": "display_data"
    },
    {
     "data": {
      "text/html": [
       "<pre style=\"white-space:pre;overflow-x:auto;line-height:normal;font-family:Menlo,'DejaVu Sans Mono',consolas,'Courier New',monospace\"></pre>\n"
      ],
      "text/plain": []
     },
     "metadata": {},
     "output_type": "display_data"
    },
    {
     "name": "stderr",
     "output_type": "stream",
     "text": [
      "Sampling 2 chains for 500 tune and 500 draw iterations (1_000 + 1_000 draws total) took 180 seconds.\n",
      "We recommend running at least 4 chains for robust computation of convergence diagnostics\n"
     ]
    },
    {
     "name": "stdout",
     "output_type": "stream",
     "text": [
      "           mean     sd  hdi_2.5%  hdi_97.5%  mcse_mean  mcse_sd  ess_bulk  \\\n",
      "beta_int  1.498  1.108    -0.361      3.888      0.041    0.033     728.0   \n",
      "rho       0.612  0.205     0.237      0.992      0.009    0.006     448.0   \n",
      "sigma     1.757  0.353     1.117      2.438      0.016    0.011     446.0   \n",
      "\n",
      "          ess_tail  r_hat  \n",
      "beta_int     557.0   1.00  \n",
      "rho          436.0   1.00  \n",
      "sigma        511.0   1.01  \n",
      "P(beta_int ≤ –0.5) = 2.60%\n",
      "P(–0.5 < beta_int < 0) = 5.60%\n",
      "P(beta_int ≥ 0) = 91.80%\n"
     ]
    },
    {
     "data": {
      "image/png": "[encoded data removed]",
      "text/plain": [
       "<Figure size 1000x400 with 2 Axes>"
      ]
     },
     "metadata": {},
     "output_type": "display_data"
    }
   ],
   "source": [
    "outcome_data = df_mea[df_mea['measurement_name'] == 'Outcome']\n",
    "data = (\n",
    "    outcome_data[['current_day_of_study', 'survey1_question1_response', 'current_intervention_name']]\n",
    "    .dropna()\n",
    "    .sort_values('current_day_of_study')\n",
    "    .reset_index(drop=True)\n",
    ")\n",
    "\n",
    "y      = data['survey1_question1_response'].values\n",
    "interv = (data['current_intervention_name'] == \"Watching comedy movies or series!\").astype(int).values\n",
    "n      = len(data)\n",
    "\n",
    "mad = np.median(np.abs(y - np.median(y)))\n",
    "scale = max(mad, 2.0)\n",
    "\n",
    "with pm.Model() as model:\n",
    "    beta0    = pm.StudentT('beta0',    nu=3, mu=0, sigma=scale)   \n",
    "    beta_int = pm.StudentT('beta_int', nu=3, mu=0, sigma=scale)   \n",
    "    rho      = pm.Uniform('rho',       lower=-1, upper=1)         \n",
    "    sigma    = pm.HalfStudentT('sigma', nu=3, sigma=scale)        \n",
    "\n",
    "    mu = beta0 + beta_int * interv\n",
    "\n",
    "    pm.Normal('y_0', mu=mu[0], sigma=sigma, observed=y[0])\n",
    "\n",
    "    for t in range(1, n):\n",
    "        adjustment = rho * (y[t-1] - mu[t-1])\n",
    "        pm.Normal(f'y_{t}', mu=mu[t] + adjustment, sigma=sigma, observed=y[t])\n",
    "\n",
    "    trace = pm.sample(\n",
    "        draws=500,\n",
    "        tune=500,\n",
    "        chains=2,\n",
    "        target_accept=0.9,\n",
    "        return_inferencedata=True\n",
    "    )\n",
    "\n",
    "summary = az.summary(trace, var_names=['beta_int', 'rho', 'sigma'], hdi_prob=0.95)\n",
    "print(summary)\n",
    "\n",
    "beta_samples = trace.posterior['beta_int'].values.flatten()\n",
    "\n",
    "p_le_neg05 = (beta_samples <= -0.5).mean()\n",
    "p_between  = ((beta_samples > -0.5) & (beta_samples < 0)).mean()\n",
    "p_ge0      = (beta_samples >= 0).mean()\n",
    "\n",
    "print(f\"P(beta_int ≤ –0.5) = {p_le_neg05:.2%}\")\n",
    "print(f\"P(–0.5 < beta_int < 0) = {p_between:.2%}\")\n",
    "print(f\"P(beta_int ≥ 0) = {p_ge0:.2%}\")\n",
    "\n",
    "mean_beta = summary.loc['beta_int', 'mean']\n",
    "hdi_low   = summary.loc['beta_int', 'hdi_2.5%']\n",
    "hdi_high  = summary.loc['beta_int', 'hdi_97.5%']\n",
    "\n",
    "fig, axes = plt.subplots(1, 2, figsize=(10, 4), gridspec_kw={'width_ratios': [1, 1]})\n",
    "\n",
    "ax = axes[0]\n",
    "ax.errorbar(0, mean_beta,\n",
    "            yerr=[[mean_beta - hdi_low], [hdi_high - mean_beta]],\n",
    "            fmt='o', capsize=5, color='black')\n",
    "ax.axhline(0, color='gray', linestyle='--')\n",
    "ax.set_xticks([0])\n",
    "ax.set_xticklabels(['Watching comedy movies or series effect'])\n",
    "ax.set_ylabel('Stress reduction (points)')\n",
    "ax.set_title('A. Posterior mean ± 95% CI', loc='left', pad=10, fontsize=12, fontweight='bold')\n",
    "\n",
    "ax = axes[1]\n",
    "ax.bar(0, p_le_neg05, width=0.6, color='darkgreen',  label='Effect ≤ –0.5')\n",
    "ax.bar(0, p_between,  width=0.6, bottom=p_le_neg05, color='lightgreen', label='–0.5 < Effect < 0')\n",
    "ax.bar(0, p_ge0,      width=0.6, bottom=p_le_neg05+p_between, color='gold', label='Effect ≥ 0')\n",
    "ax.axhline(0.7, color='gray', linestyle='--', label='Responder threshold (0.7)')\n",
    "ax.set_xticks([0])\n",
    "ax.set_xticklabels(['Posterior mass'])\n",
    "ax.set_ylim(0, 1)\n",
    "ax.set_ylabel('Probability')\n",
    "ax.set_title('B. Distribution of effect size', loc='left', pad=10, fontsize=12, fontweight='bold')\n",
    "ax.legend(loc='upper right', fontsize=8)\n",
    "\n",
    "plt.tight_layout()\n",
    "plt.show()"
   ]
  },
  {
   "cell_type": "markdown",
   "id": "a414a7f0",
   "metadata": {},
   "source": [
    "#### Bayesian AR(1) Regression with Consecutive‐Day Adjustment"
   ]
  },
  {
   "cell_type": "code",
   "execution_count": 31,
   "id": "9d10d436",
   "metadata": {},
   "outputs": [
    {
     "name": "stdout",
     "output_type": "stream",
     "text": [
      "Only intervention:\n"
     ]
    },
    {
     "name": "stderr",
     "output_type": "stream",
     "text": [
      "c:\\Users\\USER\\AppData\\Local\\r-miniconda\\Lib\\site-packages\\pymc\\model\\core.py:1300: ImputationWarning: Data in y_obs contains missing values and will be automatically imputed from the sampling distribution.\n",
      "  warnings.warn(impute_message, ImputationWarning)\n",
      "Initializing NUTS using jitter+adapt_diag...\n",
      "Multiprocess sampling (2 chains in 2 jobs)\n",
      "NUTS: [beta0, beta_int, rho, sigma, y_obs_unobserved]\n"
     ]
    },
    {
     "data": {
      "text/html": [
       "<pre style=\"white-space:pre;overflow-x:auto;line-height:normal;font-family:Menlo,'DejaVu Sans Mono',consolas,'Courier New',monospace\">c:\\Users\\USER\\AppData\\Local\\r-miniconda\\Lib\\site-packages\\rich\\live.py:231: UserWarning: install \"ipywidgets\" for \n",
       "Jupyter support\n",
       "  warnings.warn('install \"ipywidgets\" for Jupyter support')\n",
       "</pre>\n"
      ],
      "text/plain": [
       "c:\\Users\\USER\\AppData\\Local\\r-miniconda\\Lib\\site-packages\\rich\\live.py:231: UserWarning: install \"ipywidgets\" for \n",
       "Jupyter support\n",
       "  warnings.warn('install \"ipywidgets\" for Jupyter support')\n"
      ]
     },
     "metadata": {},
     "output_type": "display_data"
    },
    {
     "data": {
      "text/html": [
       "<pre style=\"white-space:pre;overflow-x:auto;line-height:normal;font-family:Menlo,'DejaVu Sans Mono',consolas,'Courier New',monospace\"></pre>\n"
      ],
      "text/plain": []
     },
     "metadata": {},
     "output_type": "display_data"
    },
    {
     "name": "stderr",
     "output_type": "stream",
     "text": [
      "Sampling 2 chains for 500 tune and 500 draw iterations (1_000 + 1_000 draws total) took 226 seconds.\n",
      "We recommend running at least 4 chains for robust computation of convergence diagnostics\n"
     ]
    },
    {
     "name": "stdout",
     "output_type": "stream",
     "text": [
      "           mean     sd  hdi_2.5%  hdi_97.5%  mcse_mean  mcse_sd  ess_bulk  \\\n",
      "beta_int  0.527  0.660    -0.815      1.740      0.022    0.019     910.0   \n",
      "rho       0.780  0.168     0.458      0.999      0.006    0.006     528.0   \n",
      "sigma     1.449  0.267     0.986      1.953      0.010    0.012     776.0   \n",
      "\n",
      "          ess_tail  r_hat  \n",
      "beta_int     725.0    1.0  \n",
      "rho          302.0    1.0  \n",
      "sigma        504.0    1.0  \n",
      "P(intervention reduces stress by ≥ 0.5 points) = 4.90%\n",
      "P(beta_int ≤ –0.5) = 4.90%\n",
      "P(–0.5 < beta_int < 0) = 16.70%\n",
      "P(beta_int ≥ 0) = 78.40%\n"
     ]
    },
    {
     "data": {
      "image/png": "[encoded data removed]",
      "text/plain": [
       "<Figure size 1000x400 with 2 Axes>"
      ]
     },
     "metadata": {},
     "output_type": "display_data"
    },
    {
     "name": "stdout",
     "output_type": "stream",
     "text": [
      "\n",
      "Intervention + fac1:\n"
     ]
    },
    {
     "name": "stderr",
     "output_type": "stream",
     "text": [
      "c:\\Users\\USER\\AppData\\Local\\r-miniconda\\Lib\\site-packages\\pymc\\model\\core.py:1300: ImputationWarning: Data in y_obs contains missing values and will be automatically imputed from the sampling distribution.\n",
      "  warnings.warn(impute_message, ImputationWarning)\n",
      "Initializing NUTS using jitter+adapt_diag...\n",
      "Multiprocess sampling (2 chains in 2 jobs)\n",
      "NUTS: [beta0, beta_int, beta_f1, rho, sigma, y_obs_unobserved]\n"
     ]
    },
    {
     "data": {
      "text/html": [
       "<pre style=\"white-space:pre;overflow-x:auto;line-height:normal;font-family:Menlo,'DejaVu Sans Mono',consolas,'Courier New',monospace\">c:\\Users\\USER\\AppData\\Local\\r-miniconda\\Lib\\site-packages\\rich\\live.py:231: UserWarning: install \"ipywidgets\" for \n",
       "Jupyter support\n",
       "  warnings.warn('install \"ipywidgets\" for Jupyter support')\n",
       "</pre>\n"
      ],
      "text/plain": [
       "c:\\Users\\USER\\AppData\\Local\\r-miniconda\\Lib\\site-packages\\rich\\live.py:231: UserWarning: install \"ipywidgets\" for \n",
       "Jupyter support\n",
       "  warnings.warn('install \"ipywidgets\" for Jupyter support')\n"
      ]
     },
     "metadata": {},
     "output_type": "display_data"
    },
    {
     "data": {
      "text/html": [
       "<pre style=\"white-space:pre;overflow-x:auto;line-height:normal;font-family:Menlo,'DejaVu Sans Mono',consolas,'Courier New',monospace\"></pre>\n"
      ],
      "text/plain": []
     },
     "metadata": {},
     "output_type": "display_data"
    },
    {
     "name": "stderr",
     "output_type": "stream",
     "text": [
      "Sampling 2 chains for 500 tune and 500 draw iterations (1_000 + 1_000 draws total) took 360 seconds.\n",
      "We recommend running at least 4 chains for robust computation of convergence diagnostics\n",
      "The rhat statistic is larger than 1.01 for some parameters. This indicates problems during sampling. See https://arxiv.org/abs/1903.08008 for details\n"
     ]
    },
    {
     "name": "stdout",
     "output_type": "stream",
     "text": [
      "           mean     sd  hdi_2.5%  hdi_97.5%  mcse_mean  mcse_sd  ess_bulk  \\\n",
      "beta_int  0.173  0.559    -1.026      1.247      0.024    0.023     565.0   \n",
      "rho       0.009  0.455    -0.704      0.962      0.030    0.015     217.0   \n",
      "sigma     1.061  0.217     0.678      1.496      0.010    0.010     473.0   \n",
      "beta_f1   0.851  0.195     0.450      1.226      0.013    0.009     252.0   \n",
      "\n",
      "          ess_tail  r_hat  \n",
      "beta_int     465.0    1.0  \n",
      "rho          285.0    1.0  \n",
      "sigma        454.0    1.0  \n",
      "beta_f1      354.0    1.0  \n",
      "P(intervention reduces stress by ≥ 0.5 points) = 9.70%\n",
      "P(beta_int ≤ –0.5) = 9.70%\n",
      "P(–0.5 < beta_int < 0) = 27.80%\n",
      "P(beta_int ≥ 0) = 62.50%\n"
     ]
    },
    {
     "data": {
      "image/png": "[encoded data removed]",
      "text/plain": [
       "<Figure size 1000x400 with 2 Axes>"
      ]
     },
     "metadata": {},
     "output_type": "display_data"
    },
    {
     "name": "stdout",
     "output_type": "stream",
     "text": [
      "\n",
      "Intervention + fac2:\n"
     ]
    },
    {
     "name": "stderr",
     "output_type": "stream",
     "text": [
      "c:\\Users\\USER\\AppData\\Local\\r-miniconda\\Lib\\site-packages\\pymc\\model\\core.py:1300: ImputationWarning: Data in y_obs contains missing values and will be automatically imputed from the sampling distribution.\n",
      "  warnings.warn(impute_message, ImputationWarning)\n",
      "Initializing NUTS using jitter+adapt_diag...\n",
      "Multiprocess sampling (2 chains in 2 jobs)\n",
      "NUTS: [beta0, beta_int, beta_f2, rho, sigma, y_obs_unobserved]\n"
     ]
    },
    {
     "data": {
      "text/html": [
       "<pre style=\"white-space:pre;overflow-x:auto;line-height:normal;font-family:Menlo,'DejaVu Sans Mono',consolas,'Courier New',monospace\">c:\\Users\\USER\\AppData\\Local\\r-miniconda\\Lib\\site-packages\\rich\\live.py:231: UserWarning: install \"ipywidgets\" for \n",
       "Jupyter support\n",
       "  warnings.warn('install \"ipywidgets\" for Jupyter support')\n",
       "</pre>\n"
      ],
      "text/plain": [
       "c:\\Users\\USER\\AppData\\Local\\r-miniconda\\Lib\\site-packages\\rich\\live.py:231: UserWarning: install \"ipywidgets\" for \n",
       "Jupyter support\n",
       "  warnings.warn('install \"ipywidgets\" for Jupyter support')\n"
      ]
     },
     "metadata": {},
     "output_type": "display_data"
    },
    {
     "data": {
      "text/html": [
       "<pre style=\"white-space:pre;overflow-x:auto;line-height:normal;font-family:Menlo,'DejaVu Sans Mono',consolas,'Courier New',monospace\"></pre>\n"
      ],
      "text/plain": []
     },
     "metadata": {},
     "output_type": "display_data"
    },
    {
     "name": "stderr",
     "output_type": "stream",
     "text": [
      "Sampling 2 chains for 500 tune and 500 draw iterations (1_000 + 1_000 draws total) took 318 seconds.\n",
      "We recommend running at least 4 chains for robust computation of convergence diagnostics\n",
      "The rhat statistic is larger than 1.01 for some parameters. This indicates problems during sampling. See https://arxiv.org/abs/1903.08008 for details\n"
     ]
    },
    {
     "name": "stdout",
     "output_type": "stream",
     "text": [
      "           mean     sd  hdi_2.5%  hdi_97.5%  mcse_mean  mcse_sd  ess_bulk  \\\n",
      "beta_int  0.878  0.612    -0.233      2.176      0.028    0.022     493.0   \n",
      "rho       0.268  0.446    -0.559      0.963      0.026    0.015     299.0   \n",
      "sigma     1.258  0.264     0.787      1.751      0.010    0.010     641.0   \n",
      "beta_f2   0.594  0.204     0.183      0.992      0.011    0.009     349.0   \n",
      "\n",
      "          ess_tail  r_hat  \n",
      "beta_int     376.0   1.00  \n",
      "rho          357.0   1.01  \n",
      "sigma        641.0   1.00  \n",
      "beta_f2      361.0   1.01  \n",
      "P(intervention reduces stress by ≥ 0.5 points) = 1.60%\n",
      "P(beta_int ≤ –0.5) = 1.60%\n",
      "P(–0.5 < beta_int < 0) = 5.60%\n",
      "P(beta_int ≥ 0) = 92.80%\n"
     ]
    },
    {
     "data": {
      "image/png": "[encoded data removed]",
      "text/plain": [
       "<Figure size 1000x400 with 2 Axes>"
      ]
     },
     "metadata": {},
     "output_type": "display_data"
    },
    {
     "name": "stdout",
     "output_type": "stream",
     "text": [
      "\n",
      "Intervention + fac1 + fac2:\n"
     ]
    },
    {
     "name": "stderr",
     "output_type": "stream",
     "text": [
      "c:\\Users\\USER\\AppData\\Local\\r-miniconda\\Lib\\site-packages\\pymc\\model\\core.py:1300: ImputationWarning: Data in y_obs contains missing values and will be automatically imputed from the sampling distribution.\n",
      "  warnings.warn(impute_message, ImputationWarning)\n",
      "Initializing NUTS using jitter+adapt_diag...\n",
      "Multiprocess sampling (2 chains in 2 jobs)\n",
      "NUTS: [beta0, beta_int, beta_f1, beta_f2, rho, sigma, y_obs_unobserved]\n"
     ]
    },
    {
     "data": {
      "text/html": [
       "<pre style=\"white-space:pre;overflow-x:auto;line-height:normal;font-family:Menlo,'DejaVu Sans Mono',consolas,'Courier New',monospace\">c:\\Users\\USER\\AppData\\Local\\r-miniconda\\Lib\\site-packages\\rich\\live.py:231: UserWarning: install \"ipywidgets\" for \n",
       "Jupyter support\n",
       "  warnings.warn('install \"ipywidgets\" for Jupyter support')\n",
       "</pre>\n"
      ],
      "text/plain": [
       "c:\\Users\\USER\\AppData\\Local\\r-miniconda\\Lib\\site-packages\\rich\\live.py:231: UserWarning: install \"ipywidgets\" for \n",
       "Jupyter support\n",
       "  warnings.warn('install \"ipywidgets\" for Jupyter support')\n"
      ]
     },
     "metadata": {},
     "output_type": "display_data"
    },
    {
     "data": {
      "text/html": [
       "<pre style=\"white-space:pre;overflow-x:auto;line-height:normal;font-family:Menlo,'DejaVu Sans Mono',consolas,'Courier New',monospace\"></pre>\n"
      ],
      "text/plain": []
     },
     "metadata": {},
     "output_type": "display_data"
    },
    {
     "name": "stderr",
     "output_type": "stream",
     "text": [
      "Sampling 2 chains for 500 tune and 500 draw iterations (1_000 + 1_000 draws total) took 533 seconds.\n",
      "There was 1 divergence after tuning. Increase `target_accept` or reparameterize.\n",
      "We recommend running at least 4 chains for robust computation of convergence diagnostics\n",
      "The rhat statistic is larger than 1.01 for some parameters. This indicates problems during sampling. See https://arxiv.org/abs/1903.08008 for details\n"
     ]
    },
    {
     "name": "stdout",
     "output_type": "stream",
     "text": [
      "           mean     sd  hdi_2.5%  hdi_97.5%  mcse_mean  mcse_sd  ess_bulk  \\\n",
      "beta_int  0.326  0.596    -0.807      1.504      0.033    0.026     340.0   \n",
      "rho       0.039  0.455    -0.795      0.849      0.029    0.012     251.0   \n",
      "sigma     1.096  0.234     0.729      1.590      0.011    0.009     418.0   \n",
      "beta_f1   0.729  0.320     0.100      1.383      0.021    0.011     228.0   \n",
      "beta_f2   0.126  0.266    -0.361      0.693      0.014    0.010     374.0   \n",
      "\n",
      "          ess_tail  r_hat  \n",
      "beta_int     418.0   1.01  \n",
      "rho          400.0   1.02  \n",
      "sigma        447.0   1.01  \n",
      "beta_f1      456.0   1.01  \n",
      "beta_f2      455.0   1.00  \n",
      "P(intervention reduces stress by ≥ 0.5 points) = 7.80%\n",
      "P(beta_int ≤ –0.5) = 7.80%\n",
      "P(–0.5 < beta_int < 0) = 20.60%\n",
      "P(beta_int ≥ 0) = 71.60%\n"
     ]
    },
    {
     "data": {
      "image/png": "[encoded data removed]",
      "text/plain": [
       "<Figure size 1000x400 with 2 Axes>"
      ]
     },
     "metadata": {},
     "output_type": "display_data"
    },
    {
     "data": {
      "text/plain": [
       "(Inference data with groups:\n",
       " \t> posterior\n",
       " \t> sample_stats\n",
       " \t> observed_data,\n",
       "            mean     sd  hdi_2.5%  hdi_97.5%  mcse_mean  mcse_sd  ess_bulk  \\\n",
       " beta_int  0.326  0.596    -0.807      1.504      0.033    0.026     340.0   \n",
       " rho       0.039  0.455    -0.795      0.849      0.029    0.012     251.0   \n",
       " sigma     1.096  0.234     0.729      1.590      0.011    0.009     418.0   \n",
       " beta_f1   0.729  0.320     0.100      1.383      0.021    0.011     228.0   \n",
       " beta_f2   0.126  0.266    -0.361      0.693      0.014    0.010     374.0   \n",
       " \n",
       "           ess_tail  r_hat  \n",
       " beta_int     418.0   1.01  \n",
       " rho          400.0   1.02  \n",
       " sigma        447.0   1.01  \n",
       " beta_f1      456.0   1.01  \n",
       " beta_f2      455.0   1.00  )"
      ]
     },
     "execution_count": 31,
     "metadata": {},
     "output_type": "execute_result"
    }
   ],
   "source": [
    "def run_ar1_model(df_mea, use_fac1=False, use_fac2=False):\n",
    "    days_full = pd.DataFrame({'current_day_of_study': np.arange(0, 16)})\n",
    "\n",
    "    outcome_data = df_mea[df_mea['measurement_name'] == 'Outcome'][\n",
    "        ['current_day_of_study',\n",
    "         'survey1_question1_response',   \n",
    "         'current_intervention_name']\n",
    "    ]\n",
    "    mediator_data = df_mea[df_mea['measurement_name'] == 'Mediators'][\n",
    "        ['current_day_of_study',\n",
    "         'survey2_question1_response',   \n",
    "         'survey2_question2_response']   \n",
    "    ]\n",
    "\n",
    "    data = (\n",
    "        days_full\n",
    "        .merge(outcome_data,  on='current_day_of_study', how='left')\n",
    "        .merge(mediator_data, on='current_day_of_study', how='left')\n",
    "        .sort_values('current_day_of_study')\n",
    "        .reset_index(drop=True)\n",
    "    )\n",
    "\n",
    "    days   = data['current_day_of_study'].values\n",
    "    y      = data['survey1_question1_response'].values.astype(float)  \n",
    "    n      = len(y)  \n",
    "\n",
    "    interv = (data['current_intervention_name'] == \"Watching comedy movies or series!\").astype(float).fillna(0).values\n",
    "\n",
    "    if use_fac1:\n",
    "        fac1 = data['survey2_question1_response'].values.astype(float)\n",
    "        fac1 = np.nan_to_num(fac1, nan=0.0)\n",
    "    else:\n",
    "        fac1 = np.zeros_like(days, dtype=float)\n",
    "\n",
    "    if use_fac2:\n",
    "        fac2 = data['survey2_question2_response'].values.astype(float)\n",
    "        fac2 = np.nan_to_num(fac2, nan=0.0)\n",
    "    else:\n",
    "        fac2 = np.zeros_like(days, dtype=float)\n",
    "\n",
    "    obs_mask = ~np.isnan(y)\n",
    "    consec   = np.zeros(n, dtype=float)\n",
    "    consec[1:] = (obs_mask[1:] & obs_mask[:-1]).astype(float)\n",
    "\n",
    "    with pm.Model() as model:\n",
    "        beta0    = pm.Normal('beta0',    mu=0, sigma=10)\n",
    "        beta_int = pm.Normal('beta_int', mu=0, sigma=1)\n",
    "        if use_fac1:\n",
    "            beta_f1  = pm.Normal('beta_f1',  mu=0, sigma=10)\n",
    "        if use_fac2:\n",
    "            beta_f2  = pm.Normal('beta_f2',  mu=0, sigma=10)\n",
    "        rho      = pm.Uniform('rho',     lower=-1, upper=1)\n",
    "        sigma    = pm.HalfNormal('sigma', sigma=1)\n",
    "\n",
    "        mu = beta0 + beta_int * interv\n",
    "        if use_fac1:\n",
    "            mu = mu + beta_f1 * fac1\n",
    "        if use_fac2:\n",
    "            mu = mu + beta_f2 * fac2\n",
    "\n",
    "        y_tt      = pt.constant(y)            \n",
    "        mu_tt     = mu\n",
    "        consec_tt = pt.constant(consec)\n",
    "\n",
    "        def ar1_step(y_prev, mu_prev, mu_curr, consec_prev, rho):\n",
    "            ar_term = pt.switch(pt.eq(consec_prev, 1.0), rho * (y_prev - mu_prev), 0.0)\n",
    "            return mu_curr + ar_term\n",
    "\n",
    "        y_pred_scan, _ = scan(\n",
    "            fn=ar1_step,\n",
    "            sequences=[y_tt[:-1], mu_tt[:-1], mu_tt[1:], consec_tt[:-1]],\n",
    "            non_sequences=[rho],\n",
    "            n_steps=n-1,\n",
    "            name=\"ar1_scan\"\n",
    "        )\n",
    "\n",
    "        y_pred = pt.concatenate([[mu_tt[0]], y_pred_scan], axis=0)\n",
    "\n",
    "        y_obs_masked = np.ma.masked_invalid(y)\n",
    "        pm.Normal('y_obs', mu=y_pred, sigma=sigma, observed=y_obs_masked)\n",
    "\n",
    "        trace = pm.sample(\n",
    "            draws=500,\n",
    "            tune=500,\n",
    "            chains=2,\n",
    "            target_accept=0.9,\n",
    "            return_inferencedata=True\n",
    "        )\n",
    "\n",
    "    var_names = ['beta_int', 'rho', 'sigma']\n",
    "    if use_fac1:\n",
    "        var_names.append('beta_f1')\n",
    "    if use_fac2:\n",
    "        var_names.append('beta_f2')\n",
    "\n",
    "    summary = az.summary(trace, var_names=var_names, hdi_prob=0.95)\n",
    "    print(summary)\n",
    "\n",
    "    prob_responder = (trace.posterior['beta_int'] < -0.5).mean().item()\n",
    "    print(f\"P(intervention reduces stress by ≥ 0.5 points) = {prob_responder:.2%}\")\n",
    "\n",
    "    beta_samples = trace.posterior['beta_int'].values.flatten()\n",
    "    p_le_neg05 = (beta_samples <= -0.5).mean()\n",
    "    p_between  = ((beta_samples > -0.5) & (beta_samples < 0)).mean()\n",
    "    p_ge0      = (beta_samples >= 0).mean()\n",
    "\n",
    "    print(f\"P(beta_int ≤ –0.5) = {p_le_neg05:.2%}\")\n",
    "    print(f\"P(–0.5 < beta_int < 0) = {p_between:.2%}\")\n",
    "    print(f\"P(beta_int ≥ 0) = {p_ge0:.2%}\")\n",
    "\n",
    "    mean_beta = summary.loc['beta_int', 'mean']\n",
    "    hdi_low   = summary.loc['beta_int', 'hdi_2.5%']\n",
    "    hdi_high  = summary.loc['beta_int', 'hdi_97.5%']\n",
    "\n",
    "    fig, axes = plt.subplots(1, 2, figsize=(10, 4),\n",
    "                             gridspec_kw={'width_ratios': [1, 1]})\n",
    "\n",
    "    ax = axes[0]\n",
    "    ax.errorbar(0, mean_beta,\n",
    "                yerr=[[mean_beta - hdi_low], [hdi_high - mean_beta]],\n",
    "                fmt='o', capsize=5, color='black')\n",
    "    ax.axhline(0, color='gray', linestyle='--')\n",
    "    ax.set_xticks([0])\n",
    "    ax.set_xticklabels([\"Watching comedy movies or series effect\"])\n",
    "    ax.set_ylabel('Stress reduction (points)')\n",
    "    ax.set_title('A. Posterior mean ± 95% CI', loc='left',\n",
    "                 pad=10, fontsize=12, fontweight='bold')\n",
    "\n",
    "    ax = axes[1]\n",
    "    ax.bar(0, p_le_neg05,    width=0.6, color='darkgreen',  label='≤ –0.5')\n",
    "    ax.bar(0, p_between,     width=0.6, bottom=p_le_neg05, color='lightgreen', label='–0.5 < β < 0')\n",
    "    ax.bar(0, p_ge0,         width=0.6, bottom=p_le_neg05+p_between, color='gold',       label='≥ 0')\n",
    "    ax.axhline(0.7, color='gray', linestyle='--', label='Responder thresh.')\n",
    "    ax.set_xticks([0])\n",
    "    ax.set_xticklabels(['Posterior mass'])\n",
    "    ax.set_ylim(0, 1)\n",
    "    ax.set_ylabel('Probability')\n",
    "    ax.set_title('B. Distribution of effect size', loc='left',\n",
    "                 pad=10, fontsize=12, fontweight='bold')\n",
    "    ax.legend(loc='upper right', fontsize=8)\n",
    "\n",
    "    plt.tight_layout()\n",
    "    plt.show()\n",
    "\n",
    "    return trace, summary\n",
    "\n",
    "print(\"Only intervention:\")\n",
    "run_ar1_model(df_mea, use_fac1=False, use_fac2=False)\n",
    "\n",
    "print(\"\\nIntervention + fac1:\")\n",
    "run_ar1_model(df_mea, use_fac1=True, use_fac2=False)\n",
    "\n",
    "print(\"\\nIntervention + fac2:\")\n",
    "run_ar1_model(df_mea, use_fac1=False, use_fac2=True)\n",
    "\n",
    "print(\"\\nIntervention + fac1 + fac2:\")\n",
    "run_ar1_model(df_mea, use_fac1=True, use_fac2=True)"
   ]
  },
  {
   "cell_type": "markdown",
   "id": "5045394c",
   "metadata": {},
   "source": [
    "#### Bayesian AR(1) Model of Daily Stress Response to Watching Comedy and Mediators - Mean Imputation Method"
   ]
  },
  {
   "cell_type": "code",
   "execution_count": 32,
   "id": "07a232ec",
   "metadata": {},
   "outputs": [
    {
     "name": "stderr",
     "output_type": "stream",
     "text": [
      "C:\\Users\\USER\\AppData\\Local\\Temp\\ipykernel_8564\\224566006.py:12: FutureWarning: A value is trying to be set on a copy of a DataFrame or Series through chained assignment using an inplace method.\n",
      "The behavior will change in pandas 3.0. This inplace method will never work because the intermediate object on which we are setting values always behaves as a copy.\n",
      "\n",
      "For example, when doing 'df[col].method(value, inplace=True)', try using 'df.method({col: value}, inplace=True)' or df[col] = df[col].method(value) instead, to perform the operation inplace on the original object.\n",
      "\n",
      "\n",
      "  imputed_complete_o['measurement_name'].fillna('Outcome', inplace=True)\n",
      "C:\\Users\\USER\\AppData\\Local\\Temp\\ipykernel_8564\\224566006.py:23: FutureWarning: A value is trying to be set on a copy of a DataFrame or Series through chained assignment using an inplace method.\n",
      "The behavior will change in pandas 3.0. This inplace method will never work because the intermediate object on which we are setting values always behaves as a copy.\n",
      "\n",
      "For example, when doing 'df[col].method(value, inplace=True)', try using 'df.method({col: value}, inplace=True)' or df[col] = df[col].method(value) instead, to perform the operation inplace on the original object.\n",
      "\n",
      "\n",
      "  imputed_complete_m['measurement_name'].fillna('Mediators', inplace=True)\n"
     ]
    }
   ],
   "source": [
    "imputed_data_o = df_mea[df_mea['measurement_name'] == 'Outcome'].copy()\n",
    "imputed_data_o['current_day_of_study'] = imputed_data_o['current_day_of_study'].astype(int)\n",
    "\n",
    "days = pd.DataFrame({'current_day_of_study': range(0, 16)})\n",
    "\n",
    "imputed_complete_o = days.merge(\n",
    "    imputed_data_o, \n",
    "    how='left', \n",
    "    on='current_day_of_study'\n",
    ")\n",
    "\n",
    "imputed_complete_o['measurement_name'].fillna('Outcome', inplace=True)\n",
    "\n",
    "imputed_data_m = df_mea[df_mea['measurement_name'] == 'Mediators'].copy()\n",
    "imputed_data_m['current_day_of_study'] = imputed_data_m['current_day_of_study'].astype(int)\n",
    "\n",
    "imputed_complete_m = days.merge(\n",
    "    imputed_data_m, \n",
    "    how='left', \n",
    "    on='current_day_of_study'\n",
    ")\n",
    "\n",
    "imputed_complete_m['measurement_name'].fillna('Mediators', inplace=True)"
   ]
  },
  {
   "cell_type": "code",
   "execution_count": 33,
   "id": "dded4759",
   "metadata": {},
   "outputs": [],
   "source": [
    "df_o = imputed_complete_o.copy()\n",
    "df_m = imputed_complete_m.copy()\n",
    "pattern = (\n",
    "    ['A'] * 4 +\n",
    "    ['B'] * 8 +\n",
    "    ['A'] * 4 \n",
    ")\n",
    "txt = {\n",
    "    'A': \"Watching comedy movies or series!\",\n",
    "    'B': \"Not watching comedy movies or series!\"\n",
    "}\n",
    "\n",
    "df_unique_o = (\n",
    "    df_o\n",
    "    .sort_values('current_day_of_study')       \n",
    "    .groupby('current_day_of_study', as_index=True)\n",
    "    .first()                                   \n",
    ")\n",
    "\n",
    "df_fill_o = (\n",
    "    df_unique_o\n",
    "    .reindex(range(0, 16))                     \n",
    "    .reset_index()                             \n",
    ")\n",
    "\n",
    "mask_o = df_fill_o['current_intervention_name'].isna()\n",
    "df_fill_o.loc[mask_o, 'current_intervention_name'] = (\n",
    "    df_fill_o.loc[mask_o, 'current_day_of_study']\n",
    "            .map(lambda day: txt[ pattern[int(day)] ])\n",
    ")\n",
    "\n",
    "df_unique_m = (\n",
    "    df_m\n",
    "    .sort_values('current_day_of_study')       \n",
    "    .groupby('current_day_of_study', as_index=True)\n",
    "    .first()                                   \n",
    ")\n",
    "\n",
    "df_fill_m = (\n",
    "    df_unique_m\n",
    "    .reindex(range(0, 16))                     \n",
    "    .reset_index()                            \n",
    ")\n",
    "\n",
    "mask_m = df_fill_m['current_intervention_name'].isna()\n",
    "df_fill_m.loc[mask_m, 'current_intervention_name'] = (\n",
    "    df_fill_m.loc[mask_m, 'current_day_of_study']\n",
    "            .map(lambda day: txt[ pattern[int(day)] ])\n",
    ")"
   ]
  },
  {
   "cell_type": "code",
   "execution_count": 34,
   "id": "e4f930e6",
   "metadata": {},
   "outputs": [],
   "source": [
    "df_mean_imp_o = df_fill_o.copy()\n",
    "df_mean_imp_m = df_fill_m.copy()\n",
    "\n",
    "df_mean_imp_o['survey1_question1_response'] = (\n",
    "    df_mean_imp_o\n",
    "    .groupby('current_intervention_name')['survey1_question1_response']\n",
    "    .transform(lambda grp: grp.fillna(grp.mean()))\n",
    ")\n",
    "cols_to_impute = [\n",
    "    'survey2_question1_response',\n",
    "    'survey2_question2_response'\n",
    "]\n",
    "\n",
    "for col in cols_to_impute:\n",
    "    df_mean_imp_m[col] = (\n",
    "        df_mean_imp_m\n",
    "        .groupby('current_intervention_name')[col]\n",
    "        .transform(lambda grp: grp.fillna(grp.mean()))\n",
    "    )"
   ]
  },
  {
   "cell_type": "code",
   "execution_count": 35,
   "id": "cd299999",
   "metadata": {},
   "outputs": [
    {
     "name": "stdout",
     "output_type": "stream",
     "text": [
      "Model result with neither fac1 nor fac2 (intervention only):\n"
     ]
    },
    {
     "name": "stderr",
     "output_type": "stream",
     "text": [
      "Initializing NUTS using jitter+adapt_diag...\n",
      "c:\\Users\\USER\\AppData\\Local\\r-miniconda\\Lib\\site-packages\\pytensor\\tensor\\rewriting\\elemwise.py:954: UserWarning: Loop fusion failed because the resulting node would exceed the kernel argument limit.\n",
      "  warn(\n",
      "Multiprocess sampling (2 chains in 2 jobs)\n",
      "NUTS: [beta0, beta_int, rho, sigma]\n"
     ]
    },
    {
     "data": {
      "text/html": [
       "<pre style=\"white-space:pre;overflow-x:auto;line-height:normal;font-family:Menlo,'DejaVu Sans Mono',consolas,'Courier New',monospace\">c:\\Users\\USER\\AppData\\Local\\r-miniconda\\Lib\\site-packages\\rich\\live.py:231: UserWarning: install \"ipywidgets\" for \n",
       "Jupyter support\n",
       "  warnings.warn('install \"ipywidgets\" for Jupyter support')\n",
       "</pre>\n"
      ],
      "text/plain": [
       "c:\\Users\\USER\\AppData\\Local\\r-miniconda\\Lib\\site-packages\\rich\\live.py:231: UserWarning: install \"ipywidgets\" for \n",
       "Jupyter support\n",
       "  warnings.warn('install \"ipywidgets\" for Jupyter support')\n"
      ]
     },
     "metadata": {},
     "output_type": "display_data"
    },
    {
     "data": {
      "text/html": [
       "<pre style=\"white-space:pre;overflow-x:auto;line-height:normal;font-family:Menlo,'DejaVu Sans Mono',consolas,'Courier New',monospace\"></pre>\n"
      ],
      "text/plain": []
     },
     "metadata": {},
     "output_type": "display_data"
    },
    {
     "name": "stderr",
     "output_type": "stream",
     "text": [
      "Sampling 2 chains for 500 tune and 500 draw iterations (1_000 + 1_000 draws total) took 172 seconds.\n",
      "We recommend running at least 4 chains for robust computation of convergence diagnostics\n"
     ]
    },
    {
     "name": "stdout",
     "output_type": "stream",
     "text": [
      "           mean     sd  hdi_2.5%  hdi_97.5%  mcse_mean  mcse_sd  ess_bulk  \\\n",
      "beta_int  0.635  0.733    -0.681      2.087      0.027    0.023     765.0   \n",
      "rho       0.573  0.239     0.152      0.989      0.013    0.008     316.0   \n",
      "sigma     1.623  0.263     1.181      2.146      0.011    0.010     592.0   \n",
      "\n",
      "          ess_tail  r_hat  \n",
      "beta_int     809.0    1.0  \n",
      "rho          453.0    1.0  \n",
      "sigma        504.0    1.0  \n",
      "P(beta_int ≤ –0.5) = 6.40%\n",
      "P(–0.5 < beta_int < 0) = 13.20%\n",
      "P(beta_int ≥ 0) = 80.40%\n",
      "P(Stress reduction of watching comedy movies or series ≥ 0.5) = 6.40%\n",
      "\n",
      "Model result with only fac1:\n"
     ]
    },
    {
     "name": "stderr",
     "output_type": "stream",
     "text": [
      "Initializing NUTS using jitter+adapt_diag...\n",
      "c:\\Users\\USER\\AppData\\Local\\r-miniconda\\Lib\\site-packages\\pytensor\\tensor\\rewriting\\elemwise.py:954: UserWarning: Loop fusion failed because the resulting node would exceed the kernel argument limit.\n",
      "  warn(\n",
      "Multiprocess sampling (2 chains in 2 jobs)\n",
      "NUTS: [beta0, beta_int, beta_f1, rho, sigma]\n"
     ]
    },
    {
     "data": {
      "text/html": [
       "<pre style=\"white-space:pre;overflow-x:auto;line-height:normal;font-family:Menlo,'DejaVu Sans Mono',consolas,'Courier New',monospace\">c:\\Users\\USER\\AppData\\Local\\r-miniconda\\Lib\\site-packages\\rich\\live.py:231: UserWarning: install \"ipywidgets\" for \n",
       "Jupyter support\n",
       "  warnings.warn('install \"ipywidgets\" for Jupyter support')\n",
       "</pre>\n"
      ],
      "text/plain": [
       "c:\\Users\\USER\\AppData\\Local\\r-miniconda\\Lib\\site-packages\\rich\\live.py:231: UserWarning: install \"ipywidgets\" for \n",
       "Jupyter support\n",
       "  warnings.warn('install \"ipywidgets\" for Jupyter support')\n"
      ]
     },
     "metadata": {},
     "output_type": "display_data"
    },
    {
     "data": {
      "text/html": [
       "<pre style=\"white-space:pre;overflow-x:auto;line-height:normal;font-family:Menlo,'DejaVu Sans Mono',consolas,'Courier New',monospace\"></pre>\n"
      ],
      "text/plain": []
     },
     "metadata": {},
     "output_type": "display_data"
    },
    {
     "name": "stderr",
     "output_type": "stream",
     "text": [
      "Sampling 2 chains for 500 tune and 500 draw iterations (1_000 + 1_000 draws total) took 325 seconds.\n",
      "We recommend running at least 4 chains for robust computation of convergence diagnostics\n"
     ]
    },
    {
     "name": "stdout",
     "output_type": "stream",
     "text": [
      "           mean     sd  hdi_2.5%  hdi_97.5%  mcse_mean  mcse_sd  ess_bulk  \\\n",
      "beta_int  0.274  0.526    -0.729      1.324      0.024    0.021     541.0   \n",
      "beta_f1   0.851  0.162     0.541      1.185      0.008    0.006     413.0   \n",
      "rho       0.041  0.375    -0.653      0.789      0.023    0.015     260.0   \n",
      "sigma     1.028  0.213     0.663      1.442      0.011    0.008     390.0   \n",
      "\n",
      "          ess_tail  r_hat  \n",
      "beta_int     527.0    1.0  \n",
      "beta_f1      457.0    1.0  \n",
      "rho          271.0    1.0  \n",
      "sigma        649.0    1.0  \n",
      "P(beta_int ≤ –0.5) = 5.00%\n",
      "P(–0.5 < beta_int < 0) = 26.10%\n",
      "P(beta_int ≥ 0) = 68.90%\n",
      "P(Stress reduction of watching comedy movies or series ≥ 0.5) = 5.00%\n",
      "\n",
      "Model result with only fac2:\n"
     ]
    },
    {
     "name": "stderr",
     "output_type": "stream",
     "text": [
      "Initializing NUTS using jitter+adapt_diag...\n",
      "c:\\Users\\USER\\AppData\\Local\\r-miniconda\\Lib\\site-packages\\pytensor\\tensor\\rewriting\\elemwise.py:954: UserWarning: Loop fusion failed because the resulting node would exceed the kernel argument limit.\n",
      "  warn(\n",
      "Multiprocess sampling (2 chains in 2 jobs)\n",
      "NUTS: [beta0, beta_int, beta_f2, rho, sigma]\n"
     ]
    },
    {
     "data": {
      "text/html": [
       "<pre style=\"white-space:pre;overflow-x:auto;line-height:normal;font-family:Menlo,'DejaVu Sans Mono',consolas,'Courier New',monospace\">c:\\Users\\USER\\AppData\\Local\\r-miniconda\\Lib\\site-packages\\rich\\live.py:231: UserWarning: install \"ipywidgets\" for \n",
       "Jupyter support\n",
       "  warnings.warn('install \"ipywidgets\" for Jupyter support')\n",
       "</pre>\n"
      ],
      "text/plain": [
       "c:\\Users\\USER\\AppData\\Local\\r-miniconda\\Lib\\site-packages\\rich\\live.py:231: UserWarning: install \"ipywidgets\" for \n",
       "Jupyter support\n",
       "  warnings.warn('install \"ipywidgets\" for Jupyter support')\n"
      ]
     },
     "metadata": {},
     "output_type": "display_data"
    },
    {
     "data": {
      "text/html": [
       "<pre style=\"white-space:pre;overflow-x:auto;line-height:normal;font-family:Menlo,'DejaVu Sans Mono',consolas,'Courier New',monospace\"></pre>\n"
      ],
      "text/plain": []
     },
     "metadata": {},
     "output_type": "display_data"
    },
    {
     "name": "stderr",
     "output_type": "stream",
     "text": [
      "Sampling 2 chains for 500 tune and 500 draw iterations (1_000 + 1_000 draws total) took 291 seconds.\n",
      "We recommend running at least 4 chains for robust computation of convergence diagnostics\n"
     ]
    },
    {
     "name": "stdout",
     "output_type": "stream",
     "text": [
      "           mean     sd  hdi_2.5%  hdi_97.5%  mcse_mean  mcse_sd  ess_bulk  \\\n",
      "beta_int  0.953  0.595    -0.203      2.197      0.024    0.023     619.0   \n",
      "beta_f2   0.616  0.180     0.279      0.963      0.008    0.006     475.0   \n",
      "rho       0.181  0.377    -0.478      0.898      0.020    0.010     340.0   \n",
      "sigma     1.253  0.251     0.812      1.718      0.010    0.010     619.0   \n",
      "\n",
      "          ess_tail  r_hat  \n",
      "beta_int     501.0   1.00  \n",
      "beta_f2      568.0   1.00  \n",
      "rho          284.0   1.00  \n",
      "sigma        639.0   1.01  \n",
      "P(beta_int ≤ –0.5) = 1.20%\n",
      "P(–0.5 < beta_int < 0) = 4.80%\n",
      "P(beta_int ≥ 0) = 94.00%\n",
      "P(Stress reduction of watching comedy movies or series ≥ 0.5) = 1.20%\n",
      "\n",
      "Model result with both fac1 and fac2:\n"
     ]
    },
    {
     "name": "stderr",
     "output_type": "stream",
     "text": [
      "Initializing NUTS using jitter+adapt_diag...\n",
      "c:\\Users\\USER\\AppData\\Local\\r-miniconda\\Lib\\site-packages\\pytensor\\tensor\\rewriting\\elemwise.py:954: UserWarning: Loop fusion failed because the resulting node would exceed the kernel argument limit.\n",
      "  warn(\n",
      "Multiprocess sampling (2 chains in 2 jobs)\n",
      "NUTS: [beta0, beta_int, beta_f1, beta_f2, rho, sigma]\n"
     ]
    },
    {
     "data": {
      "text/html": [
       "<pre style=\"white-space:pre;overflow-x:auto;line-height:normal;font-family:Menlo,'DejaVu Sans Mono',consolas,'Courier New',monospace\">c:\\Users\\USER\\AppData\\Local\\r-miniconda\\Lib\\site-packages\\rich\\live.py:231: UserWarning: install \"ipywidgets\" for \n",
       "Jupyter support\n",
       "  warnings.warn('install \"ipywidgets\" for Jupyter support')\n",
       "</pre>\n"
      ],
      "text/plain": [
       "c:\\Users\\USER\\AppData\\Local\\r-miniconda\\Lib\\site-packages\\rich\\live.py:231: UserWarning: install \"ipywidgets\" for \n",
       "Jupyter support\n",
       "  warnings.warn('install \"ipywidgets\" for Jupyter support')\n"
      ]
     },
     "metadata": {},
     "output_type": "display_data"
    },
    {
     "data": {
      "text/html": [
       "<pre style=\"white-space:pre;overflow-x:auto;line-height:normal;font-family:Menlo,'DejaVu Sans Mono',consolas,'Courier New',monospace\"></pre>\n"
      ],
      "text/plain": []
     },
     "metadata": {},
     "output_type": "display_data"
    },
    {
     "name": "stderr",
     "output_type": "stream",
     "text": [
      "Sampling 2 chains for 500 tune and 500 draw iterations (1_000 + 1_000 draws total) took 488 seconds.\n",
      "There was 1 divergence after tuning. Increase `target_accept` or reparameterize.\n",
      "We recommend running at least 4 chains for robust computation of convergence diagnostics\n"
     ]
    },
    {
     "name": "stdout",
     "output_type": "stream",
     "text": [
      "           mean     sd  hdi_2.5%  hdi_97.5%  mcse_mean  mcse_sd  ess_bulk  \\\n",
      "beta_int  0.394  0.571    -0.668      1.597      0.027    0.019     451.0   \n",
      "beta_f1   0.696  0.281     0.125      1.204      0.014    0.010     433.0   \n",
      "beta_f2   0.159  0.229    -0.298      0.580      0.010    0.008     494.0   \n",
      "rho       0.013  0.367    -0.735      0.724      0.018    0.015     405.0   \n",
      "sigma     1.041  0.209     0.704      1.468      0.011    0.008     365.0   \n",
      "\n",
      "          ess_tail  r_hat  \n",
      "beta_int     550.0   1.01  \n",
      "beta_f1      455.0   1.00  \n",
      "beta_f2      569.0   1.00  \n",
      "rho          331.0   1.00  \n",
      "sigma        276.0   1.00  \n",
      "P(beta_int ≤ –0.5) = 5.60%\n",
      "P(–0.5 < beta_int < 0) = 17.50%\n",
      "P(beta_int ≥ 0) = 76.90%\n",
      "P(Stress reduction of watching comedy movies or series ≥ 0.5) = 5.60%\n",
      "\n"
     ]
    }
   ],
   "source": [
    "def run_model(fac_cols, beta_names):\n",
    "    out = df_mean_imp_o.copy()\n",
    "    med = df_mean_imp_m.copy()\n",
    "    data = (\n",
    "        pd.merge(\n",
    "            out[['current_day_of_study', 'survey1_question1_response', 'current_intervention_name']],\n",
    "            med[['current_day_of_study'] + fac_cols] if fac_cols else out[['current_day_of_study']],\n",
    "            on='current_day_of_study',\n",
    "            how='inner'\n",
    "        ).dropna().sort_values('current_day_of_study').reset_index(drop=True)\n",
    "    )\n",
    "    y = data['survey1_question1_response'].values\n",
    "    interv = (data['current_intervention_name'] == \"Watching comedy movies or series!\").astype(int).values\n",
    "    n = len(data)\n",
    "    fac_arrays = [data[col].values for col in fac_cols] if fac_cols else []\n",
    "\n",
    "    with pm.Model() as model:\n",
    "        beta0 = pm.Normal('beta0', mu=0, sigma=10)\n",
    "        beta_int = pm.Normal('beta_int', mu=0, sigma=1)\n",
    "        betas = [pm.Normal(beta_name, mu=0, sigma=1) for beta_name in beta_names]\n",
    "        rho = pm.Uniform('rho', lower=-1, upper=1)\n",
    "        sigma = pm.HalfNormal('sigma', sigma=1)\n",
    "        mu = beta0 + beta_int * interv\n",
    "        for beta, fac in zip(betas, fac_arrays):\n",
    "            mu += beta * fac\n",
    "        pm.Normal('y_0', mu=mu[0], sigma=sigma, observed=y[0])\n",
    "        for t in range(1, n):\n",
    "            adjustment = rho * (y[t-1] - mu[t-1])\n",
    "            pm.Normal(f'y_{t}', mu=mu[t] + adjustment, sigma=sigma, observed=y[t])\n",
    "        trace = pm.sample(draws=500, tune=500, chains=2, target_accept=0.9, return_inferencedata=True)\n",
    "    summary = az.summary(trace, var_names=['beta_int'] + beta_names + ['rho', 'sigma'], hdi_prob=0.95)\n",
    "    print(summary)\n",
    "    beta_samples = trace.posterior['beta_int'].values.flatten()\n",
    "    p_le_neg05 = (beta_samples <= -0.5).mean()\n",
    "    p_between  = ((beta_samples > -0.5) & (beta_samples < 0)).mean()\n",
    "    p_ge0      = (beta_samples >= 0).mean()\n",
    "    print(f\"P(beta_int ≤ –0.5) = {p_le_neg05:.2%}\")\n",
    "    print(f\"P(–0.5 < beta_int < 0) = {p_between:.2%}\")\n",
    "    print(f\"P(beta_int ≥ 0) = {p_ge0:.2%}\")\n",
    "    prob = (trace.posterior['beta_int'] < -0.5).mean().item()\n",
    "    print(f\"P(Stress reduction of watching comedy movies or series ≥ 0.5) = {prob:.2%}\\n\")\n",
    "\n",
    "print(\"Model result with neither fac1 nor fac2 (intervention only):\")\n",
    "run_model([], [])\n",
    "\n",
    "print(\"Model result with only fac1:\")\n",
    "run_model(['survey2_question1_response'], ['beta_f1'])\n",
    "\n",
    "print(\"Model result with only fac2:\")\n",
    "run_model(['survey2_question2_response'], ['beta_f2'])\n",
    "\n",
    "print(\"Model result with both fac1 and fac2:\")\n",
    "run_model(['survey2_question1_response', 'survey2_question2_response'], ['beta_f1', 'beta_f2'])"
   ]
  },
  {
   "cell_type": "markdown",
   "id": "06140abc",
   "metadata": {},
   "source": [
    "#### Bayesian AR(1) Model of Daily Stress Response to Watching Comedy and Mediators - Latent Missing Method"
   ]
  },
  {
   "cell_type": "code",
   "execution_count": 36,
   "id": "79352cdf",
   "metadata": {},
   "outputs": [
    {
     "name": "stdout",
     "output_type": "stream",
     "text": [
      "Model: Neither fac1 nor fac2 (intervention only)\n"
     ]
    },
    {
     "name": "stderr",
     "output_type": "stream",
     "text": [
      "Initializing NUTS using jitter+adapt_diag...\n",
      "Multiprocess sampling (2 chains in 2 jobs)\n",
      "NUTS: [beta0, beta_int, rho, sigma, y_latent]\n"
     ]
    },
    {
     "data": {
      "text/html": [
       "<pre style=\"white-space:pre;overflow-x:auto;line-height:normal;font-family:Menlo,'DejaVu Sans Mono',consolas,'Courier New',monospace\">c:\\Users\\USER\\AppData\\Local\\r-miniconda\\Lib\\site-packages\\rich\\live.py:231: UserWarning: install \"ipywidgets\" for \n",
       "Jupyter support\n",
       "  warnings.warn('install \"ipywidgets\" for Jupyter support')\n",
       "</pre>\n"
      ],
      "text/plain": [
       "c:\\Users\\USER\\AppData\\Local\\r-miniconda\\Lib\\site-packages\\rich\\live.py:231: UserWarning: install \"ipywidgets\" for \n",
       "Jupyter support\n",
       "  warnings.warn('install \"ipywidgets\" for Jupyter support')\n"
      ]
     },
     "metadata": {},
     "output_type": "display_data"
    },
    {
     "data": {
      "text/html": [
       "<pre style=\"white-space:pre;overflow-x:auto;line-height:normal;font-family:Menlo,'DejaVu Sans Mono',consolas,'Courier New',monospace\"></pre>\n"
      ],
      "text/plain": []
     },
     "metadata": {},
     "output_type": "display_data"
    },
    {
     "name": "stderr",
     "output_type": "stream",
     "text": [
      "Sampling 2 chains for 500 tune and 500 draw iterations (1_000 + 1_000 draws total) took 204 seconds.\n",
      "We recommend running at least 4 chains for robust computation of convergence diagnostics\n"
     ]
    },
    {
     "name": "stdout",
     "output_type": "stream",
     "text": [
      "           mean     sd  hdi_2.5%  hdi_97.5%  mcse_mean  mcse_sd  ess_bulk  \\\n",
      "beta_int  0.907  0.764    -0.665      2.299      0.037    0.024     416.0   \n",
      "rho       0.563  0.198     0.262      0.999      0.013    0.010     240.0   \n",
      "sigma     1.402  0.277     0.899      1.948      0.013    0.009     485.0   \n",
      "\n",
      "          ess_tail  r_hat  \n",
      "beta_int     408.0   1.00  \n",
      "rho          193.0   1.01  \n",
      "sigma        608.0   1.00  \n",
      "P(beta_int ≤ –0.5) = 3.60%\n",
      "P(–0.5 < beta_int < 0) = 7.30%\n",
      "P(beta_int ≥ 0) = 89.10%\n",
      "Model: Only fac1\n"
     ]
    },
    {
     "name": "stderr",
     "output_type": "stream",
     "text": [
      "Initializing NUTS using jitter+adapt_diag...\n",
      "Multiprocess sampling (2 chains in 2 jobs)\n",
      "NUTS: [beta0, beta_int, beta_f1, rho, sigma, y_latent]\n"
     ]
    },
    {
     "data": {
      "text/html": [
       "<pre style=\"white-space:pre;overflow-x:auto;line-height:normal;font-family:Menlo,'DejaVu Sans Mono',consolas,'Courier New',monospace\">c:\\Users\\USER\\AppData\\Local\\r-miniconda\\Lib\\site-packages\\rich\\live.py:231: UserWarning: install \"ipywidgets\" for \n",
       "Jupyter support\n",
       "  warnings.warn('install \"ipywidgets\" for Jupyter support')\n",
       "</pre>\n"
      ],
      "text/plain": [
       "c:\\Users\\USER\\AppData\\Local\\r-miniconda\\Lib\\site-packages\\rich\\live.py:231: UserWarning: install \"ipywidgets\" for \n",
       "Jupyter support\n",
       "  warnings.warn('install \"ipywidgets\" for Jupyter support')\n"
      ]
     },
     "metadata": {},
     "output_type": "display_data"
    },
    {
     "data": {
      "text/html": [
       "<pre style=\"white-space:pre;overflow-x:auto;line-height:normal;font-family:Menlo,'DejaVu Sans Mono',consolas,'Courier New',monospace\"></pre>\n"
      ],
      "text/plain": []
     },
     "metadata": {},
     "output_type": "display_data"
    },
    {
     "name": "stderr",
     "output_type": "stream",
     "text": [
      "Sampling 2 chains for 500 tune and 500 draw iterations (1_000 + 1_000 draws total) took 350 seconds.\n",
      "There was 1 divergence after tuning. Increase `target_accept` or reparameterize.\n",
      "We recommend running at least 4 chains for robust computation of convergence diagnostics\n",
      "The rhat statistic is larger than 1.01 for some parameters. This indicates problems during sampling. See https://arxiv.org/abs/1903.08008 for details\n"
     ]
    },
    {
     "name": "stdout",
     "output_type": "stream",
     "text": [
      "           mean     sd  hdi_2.5%  hdi_97.5%  mcse_mean  mcse_sd  ess_bulk  \\\n",
      "beta_int  0.294  0.556    -0.715      1.451      0.030    0.032     399.0   \n",
      "rho       0.024  0.276    -0.533      0.561      0.019    0.015     233.0   \n",
      "sigma     1.043  0.224     0.669      1.507      0.009    0.009     641.0   \n",
      "beta_f1   0.843  0.184     0.476      1.187      0.010    0.008     324.0   \n",
      "\n",
      "          ess_tail  r_hat  \n",
      "beta_int     232.0   1.00  \n",
      "rho          316.0   1.01  \n",
      "sigma        656.0   1.00  \n",
      "beta_f1      310.0   1.01  \n",
      "P(beta_int ≤ –0.5) = 6.10%\n",
      "P(–0.5 < beta_int < 0) = 24.00%\n",
      "P(beta_int ≥ 0) = 69.90%\n",
      "Model: Only fac2\n"
     ]
    },
    {
     "name": "stderr",
     "output_type": "stream",
     "text": [
      "Initializing NUTS using jitter+adapt_diag...\n",
      "Multiprocess sampling (2 chains in 2 jobs)\n",
      "NUTS: [beta0, beta_int, beta_f2, rho, sigma, y_latent]\n"
     ]
    },
    {
     "data": {
      "text/html": [
       "<pre style=\"white-space:pre;overflow-x:auto;line-height:normal;font-family:Menlo,'DejaVu Sans Mono',consolas,'Courier New',monospace\">c:\\Users\\USER\\AppData\\Local\\r-miniconda\\Lib\\site-packages\\rich\\live.py:231: UserWarning: install \"ipywidgets\" for \n",
       "Jupyter support\n",
       "  warnings.warn('install \"ipywidgets\" for Jupyter support')\n",
       "</pre>\n"
      ],
      "text/plain": [
       "c:\\Users\\USER\\AppData\\Local\\r-miniconda\\Lib\\site-packages\\rich\\live.py:231: UserWarning: install \"ipywidgets\" for \n",
       "Jupyter support\n",
       "  warnings.warn('install \"ipywidgets\" for Jupyter support')\n"
      ]
     },
     "metadata": {},
     "output_type": "display_data"
    },
    {
     "data": {
      "text/html": [
       "<pre style=\"white-space:pre;overflow-x:auto;line-height:normal;font-family:Menlo,'DejaVu Sans Mono',consolas,'Courier New',monospace\"></pre>\n"
      ],
      "text/plain": []
     },
     "metadata": {},
     "output_type": "display_data"
    },
    {
     "name": "stderr",
     "output_type": "stream",
     "text": [
      "Sampling 2 chains for 500 tune and 500 draw iterations (1_000 + 1_000 draws total) took 370 seconds.\n",
      "We recommend running at least 4 chains for robust computation of convergence diagnostics\n",
      "The rhat statistic is larger than 1.01 for some parameters. This indicates problems during sampling. See https://arxiv.org/abs/1903.08008 for details\n"
     ]
    },
    {
     "name": "stdout",
     "output_type": "stream",
     "text": [
      "           mean     sd  hdi_2.5%  hdi_97.5%  mcse_mean  mcse_sd  ess_bulk  \\\n",
      "beta_int  0.981  0.637    -0.257      2.211      0.025    0.022     655.0   \n",
      "rho       0.161  0.332    -0.376      0.877      0.022    0.012     224.0   \n",
      "sigma     1.267  0.252     0.849      1.782      0.012    0.009     466.0   \n",
      "beta_f2   0.573  0.221     0.145      0.974      0.012    0.007     352.0   \n",
      "\n",
      "          ess_tail  r_hat  \n",
      "beta_int     513.0   1.00  \n",
      "rho          388.0   1.02  \n",
      "sigma        618.0   1.00  \n",
      "beta_f2      492.0   1.01  \n",
      "P(beta_int ≤ –0.5) = 1.30%\n",
      "P(–0.5 < beta_int < 0) = 4.30%\n",
      "P(beta_int ≥ 0) = 94.40%\n",
      "Model: Both fac1 and fac2\n"
     ]
    },
    {
     "name": "stderr",
     "output_type": "stream",
     "text": [
      "Initializing NUTS using jitter+adapt_diag...\n",
      "Multiprocess sampling (2 chains in 2 jobs)\n",
      "NUTS: [beta0, beta_int, beta_f1, beta_f2, rho, sigma, y_latent]\n"
     ]
    },
    {
     "data": {
      "text/html": [
       "<pre style=\"white-space:pre;overflow-x:auto;line-height:normal;font-family:Menlo,'DejaVu Sans Mono',consolas,'Courier New',monospace\">c:\\Users\\USER\\AppData\\Local\\r-miniconda\\Lib\\site-packages\\rich\\live.py:231: UserWarning: install \"ipywidgets\" for \n",
       "Jupyter support\n",
       "  warnings.warn('install \"ipywidgets\" for Jupyter support')\n",
       "</pre>\n"
      ],
      "text/plain": [
       "c:\\Users\\USER\\AppData\\Local\\r-miniconda\\Lib\\site-packages\\rich\\live.py:231: UserWarning: install \"ipywidgets\" for \n",
       "Jupyter support\n",
       "  warnings.warn('install \"ipywidgets\" for Jupyter support')\n"
      ]
     },
     "metadata": {},
     "output_type": "display_data"
    },
    {
     "data": {
      "text/html": [
       "<pre style=\"white-space:pre;overflow-x:auto;line-height:normal;font-family:Menlo,'DejaVu Sans Mono',consolas,'Courier New',monospace\"></pre>\n"
      ],
      "text/plain": []
     },
     "metadata": {},
     "output_type": "display_data"
    },
    {
     "name": "stderr",
     "output_type": "stream",
     "text": [
      "Sampling 2 chains for 500 tune and 500 draw iterations (1_000 + 1_000 draws total) took 525 seconds.\n",
      "We recommend running at least 4 chains for robust computation of convergence diagnostics\n",
      "The rhat statistic is larger than 1.01 for some parameters. This indicates problems during sampling. See https://arxiv.org/abs/1903.08008 for details\n",
      "The effective sample size per chain is smaller than 100 for some parameters.  A higher number is needed for reliable rhat and ess computation. See https://arxiv.org/abs/1903.08008 for details\n"
     ]
    },
    {
     "name": "stdout",
     "output_type": "stream",
     "text": [
      "           mean     sd  hdi_2.5%  hdi_97.5%  mcse_mean  mcse_sd  ess_bulk  \\\n",
      "beta_int  0.370  0.603    -0.843      1.534      0.023    0.022     718.0   \n",
      "rho       0.049  0.308    -0.587      0.706      0.021    0.015     200.0   \n",
      "sigma     1.105  0.232     0.694      1.544      0.010    0.008     590.0   \n",
      "beta_f1   0.742  0.318     0.102      1.314      0.014    0.013     522.0   \n",
      "beta_f2   0.100  0.281    -0.486      0.615      0.011    0.009     627.0   \n",
      "\n",
      "          ess_tail  r_hat  \n",
      "beta_int     665.0   1.01  \n",
      "rho          312.0   1.02  \n",
      "sigma        682.0   1.00  \n",
      "beta_f1      484.0   1.01  \n",
      "beta_f2      621.0   1.01  \n",
      "P(beta_int ≤ –0.5) = 6.90%\n",
      "P(–0.5 < beta_int < 0) = 18.90%\n",
      "P(beta_int ≥ 0) = 74.20%\n"
     ]
    }
   ],
   "source": [
    "def run_ar1_model(include_fac1=False, include_fac2=False):\n",
    "    outcome_data = df_mea[df_mea['measurement_name'] == 'Outcome']\n",
    "    mediator_data = df_mea[df_mea['measurement_name'] == 'Mediators']\n",
    "\n",
    "    merge_cols = ['current_day_of_study', 'survey1_question1_response', 'current_intervention_name']\n",
    "    mediator_cols = []\n",
    "    if include_fac1:\n",
    "        mediator_cols.append('survey2_question1_response')\n",
    "    if include_fac2:\n",
    "        mediator_cols.append('survey2_question2_response')\n",
    "\n",
    "    all_days = pd.DataFrame({'current_day_of_study': np.arange(0, 16)})\n",
    "    outcome_data = pd.merge(all_days, outcome_data[merge_cols], on='current_day_of_study', how='left')\n",
    "    if mediator_cols:\n",
    "        mediator_data = pd.merge(all_days,\n",
    "                                  mediator_data[['current_day_of_study'] + mediator_cols],\n",
    "                                  on='current_day_of_study', how='left')\n",
    "    else:\n",
    "        mediator_data = all_days.copy()\n",
    "\n",
    "    data = (pd.merge(outcome_data, mediator_data, on='current_day_of_study', how='left')\n",
    "              .sort_values('current_day_of_study')\n",
    "              .reset_index(drop=True))\n",
    "\n",
    "    y_obs_raw = data['survey1_question1_response'].values\n",
    "    y_obs = y_obs_raw.astype(float)\n",
    "    interv = (data['current_intervention_name'] == \"Watching comedy movies or series!\").astype(float).fillna(0.0)\n",
    "    fac1 = data['survey2_question1_response'].values if include_fac1 else None\n",
    "    fac2 = data['survey2_question2_response'].values if include_fac2 else None\n",
    "    n = len(y_obs)\n",
    "\n",
    "    nan_idx = np.isnan(y_obs)\n",
    "    obs_idx = ~nan_idx\n",
    "    missing_idx = np.where(nan_idx)[0].tolist()\n",
    "\n",
    "    with pm.Model() as model:\n",
    "        beta0    = pm.Normal('beta0',    mu=0, sigma=10)\n",
    "        beta_int = pm.Normal('beta_int', mu=0, sigma=1)\n",
    "        if include_fac1:\n",
    "            beta_f1 = pm.Normal('beta_f1', mu=0, sigma=10)\n",
    "        if include_fac2:\n",
    "            beta_f2 = pm.Normal('beta_f2', mu=0, sigma=10)\n",
    "        rho   = pm.Uniform('rho', lower=-1, upper=1)\n",
    "        sigma = pm.HalfNormal('sigma', sigma=1)\n",
    "\n",
    "        mu = beta0 + beta_int * interv\n",
    "        if include_fac1:\n",
    "            mu = mu + beta_f1 * pt.as_tensor_variable(np.nan_to_num(fac1, nan=0.0))\n",
    "        if include_fac2:\n",
    "            mu = mu + beta_f2 * pt.as_tensor_variable(np.nan_to_num(fac2, nan=0.0))\n",
    "\n",
    "        y_latent = pm.Normal('y_latent', mu=0, sigma=10, shape=len(missing_idx))\n",
    "\n",
    "        y_filled = pt.zeros(n)\n",
    "        y_filled = pt.set_subtensor(y_filled[missing_idx], y_latent)\n",
    "        y_filled = pt.set_subtensor(y_filled[obs_idx], y_obs[obs_idx])\n",
    "\n",
    "        def ar1_step(y_prev, mu_prev, mu_curr, rho):\n",
    "            return mu_curr + rho * (y_prev - mu_prev)\n",
    "\n",
    "        y_pred_scan, _ = scan(\n",
    "            fn=ar1_step,\n",
    "            sequences=[y_filled[:-1], mu[:-1], mu[1:]],\n",
    "            non_sequences=[rho],\n",
    "            n_steps=n-1\n",
    "        )\n",
    "        y_pred = pt.concatenate([mu[:1], y_pred_scan], axis=0)\n",
    "\n",
    "        pm.Normal('y_obs',\n",
    "                  mu=y_pred[obs_idx],\n",
    "                  sigma=sigma,\n",
    "                  observed=y_obs[obs_idx])\n",
    "\n",
    "        trace = pm.sample(draws=500, tune=500, chains=2, target_accept=0.9,\n",
    "                          return_inferencedata=True)\n",
    "\n",
    "    var_names = ['beta_int', 'rho', 'sigma']\n",
    "    if include_fac1: var_names.append('beta_f1')\n",
    "    if include_fac2: var_names.append('beta_f2')\n",
    "\n",
    "    summary = az.summary(trace, var_names=var_names, hdi_prob=0.95)\n",
    "    print(summary)\n",
    "\n",
    "    beta_samples = trace.posterior['beta_int'].values.flatten()\n",
    "    p_le_neg05 = (beta_samples <= -0.5).mean()\n",
    "    p_between  = ((beta_samples > -0.5) & (beta_samples < 0)).mean()\n",
    "    p_ge0      = (beta_samples >= 0).mean()\n",
    "\n",
    "    print(f\"P(beta_int ≤ –0.5) = {p_le_neg05:.2%}\")\n",
    "    print(f\"P(–0.5 < beta_int < 0) = {p_between:.2%}\")\n",
    "    print(f\"P(beta_int ≥ 0) = {p_ge0:.2%}\")\n",
    "\n",
    "print(\"Model: Neither fac1 nor fac2 (intervention only)\")\n",
    "run_ar1_model(include_fac1=False, include_fac2=False)\n",
    "\n",
    "print(\"Model: Only fac1\")\n",
    "run_ar1_model(include_fac1=True, include_fac2=False)\n",
    "\n",
    "print(\"Model: Only fac2\")\n",
    "run_ar1_model(include_fac1=False, include_fac2=True)\n",
    "\n",
    "print(\"Model: Both fac1 and fac2\")\n",
    "run_ar1_model(include_fac1=True, include_fac2=True)"
   ]
  }
 ],
 "metadata": {
  "kernelspec": {
   "display_name": "base",
   "language": "python",
   "name": "python3"
  },
  "language_info": {
   "codemirror_mode": {
    "name": "ipython",
    "version": 3
   },
   "file_extension": ".py",
   "mimetype": "text/x-python",
   "name": "python",
   "nbconvert_exporter": "python",
   "pygments_lexer": "ipython3",
   "version": "3.11.5"
  }
 },
 "nbformat": 4,
 "nbformat_minor": 5
}
