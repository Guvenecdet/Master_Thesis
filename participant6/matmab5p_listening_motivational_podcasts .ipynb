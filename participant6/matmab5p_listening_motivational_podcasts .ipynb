{
 "cells": [
  {
   "cell_type": "markdown",
   "id": "f101cfde",
   "metadata": {},
   "source": [
    "## Data reading and Data Insights"
   ]
  },
  {
   "cell_type": "markdown",
   "id": "968516ae",
   "metadata": {},
   "source": [
    "**Listening to motivational podcasts Participant: matmab5p, 16 days participation**\n",
    "\n",
    "*Dataset:* Listening to motivational podcasts (A) vs Not listening to motivational podcasts (B) (continue daily routine normally) study"
   ]
  },
  {
   "cell_type": "markdown",
   "id": "16dd0865",
   "metadata": {},
   "source": [
    "#### Libraries"
   ]
  },
  {
   "cell_type": "code",
   "execution_count": 3,
   "id": "781bf7f6",
   "metadata": {},
   "outputs": [],
   "source": [
    "import pandas as pd\n",
    "import numpy as np\n",
    "import matplotlib.pyplot as plt\n",
    "import seaborn as sns\n",
    "from scipy import stats\n",
    "import statsmodels.api as sm\n",
    "from statsmodels.stats.stattools import durbin_watson\n",
    "import pymc as pm\n",
    "import arviz as az\n",
    "import pytensor.tensor as pt\n",
    "from pytensor.scan import scan"
   ]
  },
  {
   "cell_type": "code",
   "execution_count": 4,
   "id": "565cf087",
   "metadata": {},
   "outputs": [],
   "source": [
    "path = \"C://Users//USER//Desktop//StudyU_Results//\"\n",
    "df_intervention = pd.read_csv(path+\"self-designed_n-of-1_trials_on_stress_management_-__listening_to_motivational_podcasts__-_matmab5p_2025-05-21 12_34_22.378//interventions.csv\")\n",
    "#print(df_intervention.head())\n",
    "df_mea = pd.read_csv(path+\"self-designed_n-of-1_trials_on_stress_management_-__listening_to_motivational_podcasts__-_matmab5p_2025-05-21 12_34_22.378//measurements.csv\")\n",
    "#print(df_mea.head())"
   ]
  },
  {
   "cell_type": "markdown",
   "id": "d1ad7802",
   "metadata": {},
   "source": [
    "## Data Analysis and Preprocessing"
   ]
  },
  {
   "cell_type": "markdown",
   "id": "e24520cc",
   "metadata": {},
   "source": [
    "- Pre-analysis: matmab5p\n",
    "    - Number of Participant\n",
    "    - Participation of the study\n",
    "    - Missing Values\n",
    "    - Remove Participants Who Joined Outside the Study\n",
    "    - Data Preperation"
   ]
  },
  {
   "cell_type": "markdown",
   "id": "10c82df0",
   "metadata": {},
   "source": [
    "#### Number of Participant"
   ]
  },
  {
   "cell_type": "code",
   "execution_count": 5,
   "id": "9e423290",
   "metadata": {},
   "outputs": [
    {
     "name": "stdout",
     "output_type": "stream",
     "text": [
      "The column 'participant_id' has only one unique value: '7a793276-86eb-49ef-bd1f-80af65fcd02a'\n"
     ]
    }
   ],
   "source": [
    "column_name = 'participant_id' \n",
    "\n",
    "unique_count = df_intervention[column_name].nunique()\n",
    "\n",
    "if unique_count == 1:\n",
    "    only_value = df_intervention[column_name].iloc[0]\n",
    "    print(f\"The column '{column_name}' has only one unique value: {only_value!r}\")\n",
    "else:\n",
    "    print(f\"The column '{column_name}' has {unique_count} unique values.\")\n",
    "    print(\"Unique values are:\", df_intervention[column_name].unique())"
   ]
  },
  {
   "cell_type": "markdown",
   "id": "c4c7e973",
   "metadata": {},
   "source": [
    "#### Participation of the study"
   ]
  },
  {
   "cell_type": "code",
   "execution_count": 6,
   "id": "79cbb43d",
   "metadata": {},
   "outputs": [
    {
     "name": "stdout",
     "output_type": "stream",
     "text": [
      "                         participant_id  participation_days\n",
      "0  7a793276-86eb-49ef-bd1f-80af65fcd02a                  15\n"
     ]
    }
   ],
   "source": [
    "df_mea['measurement_time'] = pd.to_datetime(df_mea['measurement_time'], utc=True)\n",
    "\n",
    "participation_days = (\n",
    "    df_mea\n",
    "    .groupby('participant_id')['measurement_time']\n",
    "    .apply(lambda x: x.dt.date.nunique())\n",
    "    .reset_index(name='participation_days')\n",
    ")\n",
    "\n",
    "print(participation_days)"
   ]
  },
  {
   "cell_type": "markdown",
   "id": "6fd47a75",
   "metadata": {},
   "source": [
    "The study comprised a single participant, with a total participation period of 15 days."
   ]
  },
  {
   "cell_type": "markdown",
   "id": "52c79068",
   "metadata": {},
   "source": [
    "#### Missing Values"
   ]
  },
  {
   "cell_type": "code",
   "execution_count": 7,
   "id": "0d543d72",
   "metadata": {},
   "outputs": [
    {
     "name": "stdout",
     "output_type": "stream",
     "text": [
      "\n",
      "--- Participant 7a793276-86eb-49ef-bd1f-80af65fcd02a ---\n",
      "\n",
      "  Outcome:\n",
      "    Start date:           2025-05-05\n",
      "    End of expected 16d:  2025-05-20\n",
      "    Expected days count:  16\n",
      "    Completed days count: 15\n",
      "    Missed days count:    1\n",
      "    Missed dates:\n",
      "       2025-05-12\n",
      "\n",
      "  Mediators:\n",
      "    Start date:           2025-05-05\n",
      "    End of expected 16d:  2025-05-20\n",
      "    Expected days count:  16\n",
      "    Completed days count: 15\n",
      "    Missed days count:    1\n",
      "    Missed dates:\n",
      "       2025-05-12\n"
     ]
    }
   ],
   "source": [
    "df_mea['measurement_time'] = pd.to_datetime(df_mea['measurement_time'])\n",
    "\n",
    "results = {}\n",
    "\n",
    "for pid in df_mea['participant_id'].unique():\n",
    "    results[pid] = {}\n",
    "    df_part = df_mea[df_mea['participant_id'] == pid]\n",
    "    \n",
    "    for name in ['Outcome', 'Mediators']:\n",
    "        sub = df_part[df_part['measurement_name'] == name].copy()\n",
    "        if sub.empty:\n",
    "            results[pid][name] = None\n",
    "            continue\n",
    "\n",
    "        sub['date'] = sub['measurement_time'].dt.date\n",
    "\n",
    "        start_date = sub['date'].min()\n",
    "\n",
    "        expected_dates = pd.date_range(start_date, periods=16, freq='D').date\n",
    "\n",
    "        done_dates = set(sub['date']) & set(expected_dates)\n",
    "\n",
    "        missed_dates = sorted(set(expected_dates) - done_dates)\n",
    "\n",
    "        results[pid][name] = {\n",
    "            'start_date': start_date,\n",
    "            'end_expected': expected_dates[-1],\n",
    "            'expected_days': len(expected_dates),            \n",
    "            'completed_days': len(done_dates),\n",
    "            'missed_days_count': len(missed_dates),\n",
    "            'missed_dates': missed_dates\n",
    "        }\n",
    "\n",
    "for pid, measures in results.items():\n",
    "    print(f\"\\n--- Participant {pid} ---\")\n",
    "    for name, stats in measures.items():\n",
    "        if stats is None:\n",
    "            print(f\"{name}: no data\")\n",
    "            continue\n",
    "        print(f\"\\n  {name}:\")\n",
    "        print(f\"    Start date:           {stats['start_date']}\")\n",
    "        print(f\"    End of expected 16d:  {stats['end_expected']}\")\n",
    "        print(f\"    Expected days count:  {stats['expected_days']}\")\n",
    "        print(f\"    Completed days count: {stats['completed_days']}\")\n",
    "        print(f\"    Missed days count:    {stats['missed_days_count']}\")\n",
    "        if stats['missed_dates']:\n",
    "            print(\"    Missed dates:\")\n",
    "            for d in stats['missed_dates']:\n",
    "                print(\"      \", d)"
   ]
  },
  {
   "cell_type": "markdown",
   "id": "456ef994",
   "metadata": {},
   "source": [
    "#### Remove Participants Who Joined Outside the Study"
   ]
  },
  {
   "cell_type": "code",
   "execution_count": 8,
   "id": "613b1316",
   "metadata": {},
   "outputs": [],
   "source": [
    "# df_mea = df_mea[df_mea['participant_id'] != \"ca773388-eb42-4716-995a-476ed72c0475\"]\n",
    "# df_mea.shape[0]"
   ]
  },
  {
   "cell_type": "markdown",
   "id": "26a0d2f5",
   "metadata": {},
   "source": [
    "#### Data Preperation"
   ]
  },
  {
   "cell_type": "code",
   "execution_count": 9,
   "id": "5c2ba47f",
   "metadata": {},
   "outputs": [
    {
     "data": {
      "text/html": [
       "<div>\n",
       "<style scoped>\n",
       "    .dataframe tbody tr th:only-of-type {\n",
       "        vertical-align: middle;\n",
       "    }\n",
       "\n",
       "    .dataframe tbody tr th {\n",
       "        vertical-align: top;\n",
       "    }\n",
       "\n",
       "    .dataframe thead th {\n",
       "        text-align: right;\n",
       "    }\n",
       "</style>\n",
       "<table border=\"1\" class=\"dataframe\">\n",
       "  <thead>\n",
       "    <tr style=\"text-align: right;\">\n",
       "      <th></th>\n",
       "      <th>measurement_time</th>\n",
       "      <th>measurement_name</th>\n",
       "      <th>participant_id</th>\n",
       "      <th>current_day_of_study</th>\n",
       "      <th>current_intervention_name</th>\n",
       "      <th>survey1_question1_response</th>\n",
       "      <th>survey1_question2_response</th>\n",
       "      <th>survey1_question3_response</th>\n",
       "      <th>survey1_question4_response</th>\n",
       "      <th>survey2_question1_response</th>\n",
       "      <th>survey2_question2_response</th>\n",
       "    </tr>\n",
       "  </thead>\n",
       "  <tbody>\n",
       "    <tr>\n",
       "      <th>0</th>\n",
       "      <td>2025-05-20 19:32:20.490147+00:00</td>\n",
       "      <td>Mediators</td>\n",
       "      <td>7a793276-86eb-49ef-bd1f-80af65fcd02a</td>\n",
       "      <td>15</td>\n",
       "      <td>Listening to motivational podcasts!</td>\n",
       "      <td>NaN</td>\n",
       "      <td>NaN</td>\n",
       "      <td>NaN</td>\n",
       "      <td>NaN</td>\n",
       "      <td>6.0</td>\n",
       "      <td>5.0</td>\n",
       "    </tr>\n",
       "  </tbody>\n",
       "</table>\n",
       "</div>"
      ],
      "text/plain": [
       "                  measurement_time measurement_name  \\\n",
       "0 2025-05-20 19:32:20.490147+00:00        Mediators   \n",
       "\n",
       "                         participant_id  current_day_of_study  \\\n",
       "0  7a793276-86eb-49ef-bd1f-80af65fcd02a                    15   \n",
       "\n",
       "             current_intervention_name  survey1_question1_response  \\\n",
       "0  Listening to motivational podcasts!                         NaN   \n",
       "\n",
       "   survey1_question2_response  survey1_question3_response  \\\n",
       "0                         NaN                         NaN   \n",
       "\n",
       "   survey1_question4_response  survey2_question1_response  \\\n",
       "0                         NaN                         6.0   \n",
       "\n",
       "   survey2_question2_response  \n",
       "0                         5.0  "
      ]
     },
     "execution_count": 9,
     "metadata": {},
     "output_type": "execute_result"
    }
   ],
   "source": [
    "df_mea_all= df_mea[[\n",
    "     'measurement_time',\n",
    "     'measurement_name',\n",
    "     'participant_id',\n",
    "     'current_day_of_study',\n",
    "     'current_intervention_name',\n",
    "     'survey1_question1_response',\n",
    "     'survey1_question2_response',\n",
    "     'survey1_question3_response',\n",
    "     'survey1_question4_response',\n",
    "     'survey2_question1_response',\n",
    "     'survey2_question2_response']]\n",
    "df_mea_all.head(1)\n",
    "    "
   ]
  },
  {
   "cell_type": "code",
   "execution_count": 10,
   "id": "b8672a8e",
   "metadata": {},
   "outputs": [],
   "source": [
    "df_mea_m = df_mea_all[df_mea_all['measurement_name'] == 'Mediators']\n",
    "df_mea_o = df_mea_all[df_mea_all['measurement_name'] == 'Outcome']"
   ]
  },
  {
   "cell_type": "code",
   "execution_count": 11,
   "id": "ae3f0a0e",
   "metadata": {},
   "outputs": [],
   "source": [
    "df_mea_o = df_mea_o.sort_values(by=['participant_id', 'current_day_of_study'])\n",
    "df_mea_m = df_mea_m.sort_values(by=['participant_id', 'current_day_of_study'])"
   ]
  },
  {
   "cell_type": "code",
   "execution_count": 12,
   "id": "6d5cbda3",
   "metadata": {},
   "outputs": [
    {
     "data": {
      "text/html": [
       "<div>\n",
       "<style scoped>\n",
       "    .dataframe tbody tr th:only-of-type {\n",
       "        vertical-align: middle;\n",
       "    }\n",
       "\n",
       "    .dataframe tbody tr th {\n",
       "        vertical-align: top;\n",
       "    }\n",
       "\n",
       "    .dataframe thead th {\n",
       "        text-align: right;\n",
       "    }\n",
       "</style>\n",
       "<table border=\"1\" class=\"dataframe\">\n",
       "  <thead>\n",
       "    <tr style=\"text-align: right;\">\n",
       "      <th></th>\n",
       "      <th>measurement_time</th>\n",
       "      <th>measurement_name</th>\n",
       "      <th>participant_id</th>\n",
       "      <th>current_day_of_study</th>\n",
       "      <th>current_intervention_name</th>\n",
       "      <th>survey1_question1_response</th>\n",
       "      <th>survey1_question2_response</th>\n",
       "      <th>survey1_question3_response</th>\n",
       "      <th>survey1_question4_response</th>\n",
       "      <th>survey2_question1_response</th>\n",
       "      <th>survey2_question2_response</th>\n",
       "    </tr>\n",
       "  </thead>\n",
       "  <tbody>\n",
       "    <tr>\n",
       "      <th>29</th>\n",
       "      <td>2025-05-05 19:50:19.311879+00:00</td>\n",
       "      <td>Outcome</td>\n",
       "      <td>7a793276-86eb-49ef-bd1f-80af65fcd02a</td>\n",
       "      <td>0</td>\n",
       "      <td>Listening to motivational podcasts!</td>\n",
       "      <td>4.0</td>\n",
       "      <td>6.0</td>\n",
       "      <td>7.0</td>\n",
       "      <td>1.0</td>\n",
       "      <td>NaN</td>\n",
       "      <td>NaN</td>\n",
       "    </tr>\n",
       "    <tr>\n",
       "      <th>27</th>\n",
       "      <td>2025-05-06 18:58:27.482793+00:00</td>\n",
       "      <td>Outcome</td>\n",
       "      <td>7a793276-86eb-49ef-bd1f-80af65fcd02a</td>\n",
       "      <td>1</td>\n",
       "      <td>Listening to motivational podcasts!</td>\n",
       "      <td>7.0</td>\n",
       "      <td>6.0</td>\n",
       "      <td>7.0</td>\n",
       "      <td>1.0</td>\n",
       "      <td>NaN</td>\n",
       "      <td>NaN</td>\n",
       "    </tr>\n",
       "    <tr>\n",
       "      <th>25</th>\n",
       "      <td>2025-05-07 20:26:19.518999+00:00</td>\n",
       "      <td>Outcome</td>\n",
       "      <td>7a793276-86eb-49ef-bd1f-80af65fcd02a</td>\n",
       "      <td>2</td>\n",
       "      <td>Listening to motivational podcasts!</td>\n",
       "      <td>5.0</td>\n",
       "      <td>4.0</td>\n",
       "      <td>7.0</td>\n",
       "      <td>1.0</td>\n",
       "      <td>NaN</td>\n",
       "      <td>NaN</td>\n",
       "    </tr>\n",
       "    <tr>\n",
       "      <th>23</th>\n",
       "      <td>2025-05-08 19:41:06.976763+00:00</td>\n",
       "      <td>Outcome</td>\n",
       "      <td>7a793276-86eb-49ef-bd1f-80af65fcd02a</td>\n",
       "      <td>3</td>\n",
       "      <td>Listening to motivational podcasts!</td>\n",
       "      <td>5.0</td>\n",
       "      <td>4.0</td>\n",
       "      <td>8.0</td>\n",
       "      <td>1.0</td>\n",
       "      <td>NaN</td>\n",
       "      <td>NaN</td>\n",
       "    </tr>\n",
       "    <tr>\n",
       "      <th>21</th>\n",
       "      <td>2025-05-09 20:16:37.285695+00:00</td>\n",
       "      <td>Outcome</td>\n",
       "      <td>7a793276-86eb-49ef-bd1f-80af65fcd02a</td>\n",
       "      <td>4</td>\n",
       "      <td>Not listening to motivational podcasts!</td>\n",
       "      <td>6.0</td>\n",
       "      <td>5.0</td>\n",
       "      <td>1.0</td>\n",
       "      <td>7.0</td>\n",
       "      <td>NaN</td>\n",
       "      <td>NaN</td>\n",
       "    </tr>\n",
       "  </tbody>\n",
       "</table>\n",
       "</div>"
      ],
      "text/plain": [
       "                   measurement_time measurement_name  \\\n",
       "29 2025-05-05 19:50:19.311879+00:00          Outcome   \n",
       "27 2025-05-06 18:58:27.482793+00:00          Outcome   \n",
       "25 2025-05-07 20:26:19.518999+00:00          Outcome   \n",
       "23 2025-05-08 19:41:06.976763+00:00          Outcome   \n",
       "21 2025-05-09 20:16:37.285695+00:00          Outcome   \n",
       "\n",
       "                          participant_id  current_day_of_study  \\\n",
       "29  7a793276-86eb-49ef-bd1f-80af65fcd02a                     0   \n",
       "27  7a793276-86eb-49ef-bd1f-80af65fcd02a                     1   \n",
       "25  7a793276-86eb-49ef-bd1f-80af65fcd02a                     2   \n",
       "23  7a793276-86eb-49ef-bd1f-80af65fcd02a                     3   \n",
       "21  7a793276-86eb-49ef-bd1f-80af65fcd02a                     4   \n",
       "\n",
       "                  current_intervention_name  survey1_question1_response  \\\n",
       "29      Listening to motivational podcasts!                         4.0   \n",
       "27      Listening to motivational podcasts!                         7.0   \n",
       "25      Listening to motivational podcasts!                         5.0   \n",
       "23      Listening to motivational podcasts!                         5.0   \n",
       "21  Not listening to motivational podcasts!                         6.0   \n",
       "\n",
       "    survey1_question2_response  survey1_question3_response  \\\n",
       "29                         6.0                         7.0   \n",
       "27                         6.0                         7.0   \n",
       "25                         4.0                         7.0   \n",
       "23                         4.0                         8.0   \n",
       "21                         5.0                         1.0   \n",
       "\n",
       "    survey1_question4_response  survey2_question1_response  \\\n",
       "29                         1.0                         NaN   \n",
       "27                         1.0                         NaN   \n",
       "25                         1.0                         NaN   \n",
       "23                         1.0                         NaN   \n",
       "21                         7.0                         NaN   \n",
       "\n",
       "    survey2_question2_response  \n",
       "29                         NaN  \n",
       "27                         NaN  \n",
       "25                         NaN  \n",
       "23                         NaN  \n",
       "21                         NaN  "
      ]
     },
     "execution_count": 12,
     "metadata": {},
     "output_type": "execute_result"
    }
   ],
   "source": [
    "df_mea_o.head()"
   ]
  },
  {
   "cell_type": "markdown",
   "id": "4958cabd",
   "metadata": {},
   "source": [
    "## Exploratory Data Analysis - Outcome"
   ]
  },
  {
   "cell_type": "markdown",
   "id": "158c35f6",
   "metadata": {},
   "source": [
    "- EDA Steps  \n",
    "  - Data shape  \n",
    "  - Data types of columns  \n",
    "  - Missing values  \n",
    "  - Summary statistics  \n",
    "  - Data Visualization and Distributions  \n",
    "    - Plot histograms and box plots  \n",
    "    - Line plot  \n",
    "    - Scatter plot  \n",
    "    - Correlations (Pearson, Kendall, Spearman)     "
   ]
  },
  {
   "cell_type": "markdown",
   "id": "9c56c4af",
   "metadata": {},
   "source": [
    "#### Data Shape"
   ]
  },
  {
   "cell_type": "code",
   "execution_count": 13,
   "id": "b0c700fb",
   "metadata": {},
   "outputs": [
    {
     "name": "stdout",
     "output_type": "stream",
     "text": [
      "Outcome Data Shape\n",
      "Rows: 15\n",
      "Columns: 11\n"
     ]
    }
   ],
   "source": [
    "print(\"Outcome Data Shape\")\n",
    "print(\"Rows:\", df_mea_o.shape[0])\n",
    "print(\"Columns:\", df_mea_o.shape[1])"
   ]
  },
  {
   "cell_type": "markdown",
   "id": "74e40212",
   "metadata": {},
   "source": [
    "#### Data Types of columns"
   ]
  },
  {
   "cell_type": "code",
   "execution_count": 14,
   "id": "06463c20",
   "metadata": {},
   "outputs": [
    {
     "name": "stdout",
     "output_type": "stream",
     "text": [
      "Outcome Data Types of Columns\n",
      "                                      Data Type\n",
      "measurement_time            datetime64[ns, UTC]\n",
      "measurement_name                         object\n",
      "participant_id                           object\n",
      "current_day_of_study                      int64\n",
      "current_intervention_name                object\n",
      "survey1_question1_response              float64\n",
      "survey1_question2_response              float64\n",
      "survey1_question3_response              float64\n",
      "survey1_question4_response              float64\n",
      "survey2_question1_response              float64\n",
      "survey2_question2_response              float64\n"
     ]
    }
   ],
   "source": [
    "print(\"Outcome Data Types of Columns\")\n",
    "data_types = df_mea_o.dtypes\n",
    "data_types_df = pd.DataFrame(data_types, columns=[\"Data Type\"])\n",
    "print(data_types_df)"
   ]
  },
  {
   "cell_type": "markdown",
   "id": "ff16ab5e",
   "metadata": {},
   "source": [
    "#### Missing Value Analysis"
   ]
  },
  {
   "cell_type": "code",
   "execution_count": 15,
   "id": "f0ec5d76",
   "metadata": {},
   "outputs": [
    {
     "name": "stdout",
     "output_type": "stream",
     "text": [
      "\n",
      "--- Participant 7a793276-86eb-49ef-bd1f-80af65fcd02a ---\n",
      "\n",
      "  Outcome:\n",
      "    Start date:           2025-05-05\n",
      "    End of expected 16d:  2025-05-20\n",
      "    Expected days count:  16\n",
      "    Completed days count: 15\n",
      "    Missed days count:    1\n",
      "    Missed dates:\n",
      "       2025-05-12\n",
      "\n",
      "  Mediators:\n",
      "    Start date:           2025-05-05\n",
      "    End of expected 16d:  2025-05-20\n",
      "    Expected days count:  16\n",
      "    Completed days count: 15\n",
      "    Missed days count:    1\n",
      "    Missed dates:\n",
      "       2025-05-12\n",
      "\n",
      "  survey1_question1_response:\n",
      "    Start date:           2025-05-05\n",
      "    End of expected 16d:  2025-05-20\n",
      "    Expected days count:  16\n",
      "    Completed days count: 15\n",
      "    Missed days count:    1\n",
      "    Missed dates:\n",
      "       2025-05-12\n",
      "\n",
      "  survey1_question2_response:\n",
      "    Start date:           2025-05-05\n",
      "    End of expected 16d:  2025-05-20\n",
      "    Expected days count:  16\n",
      "    Completed days count: 15\n",
      "    Missed days count:    1\n",
      "    Missed dates:\n",
      "       2025-05-12\n",
      "\n",
      "  survey1_question3_response:\n",
      "    Start date:           2025-05-05\n",
      "    End of expected 16d:  2025-05-20\n",
      "    Expected days count:  16\n",
      "    Completed days count: 15\n",
      "    Missed days count:    1\n",
      "    Missed dates:\n",
      "       2025-05-12\n",
      "\n",
      "  survey1_question4_response:\n",
      "    Start date:           2025-05-05\n",
      "    End of expected 16d:  2025-05-20\n",
      "    Expected days count:  16\n",
      "    Completed days count: 15\n",
      "    Missed days count:    1\n",
      "    Missed dates:\n",
      "       2025-05-12\n",
      "\n",
      "  survey2_question1_response:\n",
      "    Start date:           2025-05-05\n",
      "    End of expected 16d:  2025-05-20\n",
      "    Expected days count:  16\n",
      "    Completed days count: 15\n",
      "    Missed days count:    1\n",
      "    Missed dates:\n",
      "       2025-05-12\n",
      "\n",
      "  survey2_question2_response:\n",
      "    Start date:           2025-05-05\n",
      "    End of expected 16d:  2025-05-20\n",
      "    Expected days count:  16\n",
      "    Completed days count: 15\n",
      "    Missed days count:    1\n",
      "    Missed dates:\n",
      "       2025-05-12\n"
     ]
    }
   ],
   "source": [
    "df_mea['measurement_time'] = pd.to_datetime(df_mea['measurement_time'])\n",
    "\n",
    "df_mea.columns = df_mea.columns.str.strip()\n",
    "df_mea['measurement_name'] = df_mea['measurement_name'].str.strip()\n",
    "\n",
    "measurement_names = [\n",
    "    'Outcome',\n",
    "    'Mediators',\n",
    "    'survey1_question1_response',\n",
    "    'survey1_question2_response',\n",
    "    'survey1_question3_response',\n",
    "    'survey1_question4_response',\n",
    "    'survey2_question1_response',\n",
    "    'survey2_question2_response'\n",
    "]\n",
    "\n",
    "results = {}\n",
    "\n",
    "for pid in df_mea['participant_id'].unique():\n",
    "    results[pid] = {}\n",
    "    df_part = df_mea[df_mea['participant_id'] == pid]\n",
    "    \n",
    "    for name in measurement_names:\n",
    "        if name in ['Outcome', 'Mediators']:\n",
    "            sub = df_part[df_part['measurement_name'] == name].copy()\n",
    "        else:\n",
    "            if name not in df_part.columns:\n",
    "                sub = pd.DataFrame()\n",
    "            else:\n",
    "                sub = df_part[df_part[name].notna()].copy()\n",
    "\n",
    "        if sub.empty:\n",
    "            results[pid][name] = None\n",
    "            continue\n",
    "\n",
    "        sub['date'] = sub['measurement_time'].dt.date\n",
    "\n",
    "        start_date = sub['date'].min()\n",
    "\n",
    "        expected_dates = pd.date_range(start_date, periods=16, freq='D').date\n",
    "\n",
    "        done_dates = set(sub['date']) & set(expected_dates)\n",
    "\n",
    "        missed_dates = sorted(set(expected_dates) - done_dates)\n",
    "\n",
    "        results[pid][name] = {\n",
    "            'start_date': start_date,\n",
    "            'end_expected': expected_dates[-1],\n",
    "            'expected_days': len(expected_dates),      \n",
    "            'completed_days': len(done_dates),\n",
    "            'missed_days_count': len(missed_dates),\n",
    "            'missed_dates': missed_dates\n",
    "        }\n",
    "\n",
    "for pid, measures in results.items():\n",
    "    print(f\"\\n--- Participant {pid} ---\")\n",
    "    for name, stats in measures.items():\n",
    "        if stats is None:\n",
    "            print(f\"{name}: no data\")\n",
    "            continue\n",
    "        print(f\"\\n  {name}:\")\n",
    "        print(f\"    Start date:           {stats['start_date']}\")\n",
    "        print(f\"    End of expected 16d:  {stats['end_expected']}\")\n",
    "        print(f\"    Expected days count:  {stats['expected_days']}\")\n",
    "        print(f\"    Completed days count: {stats['completed_days']}\")\n",
    "        print(f\"    Missed days count:    {stats['missed_days_count']}\")\n",
    "        if stats['missed_dates']:\n",
    "            print(\"    Missed dates:\")\n",
    "            for d in stats['missed_dates']:\n",
    "                print(\"      \", d)"
   ]
  },
  {
   "cell_type": "markdown",
   "id": "6a58a488",
   "metadata": {},
   "source": [
    "#### Missing Values for Confirmations between 08.00 - 21.00"
   ]
  },
  {
   "cell_type": "code",
   "execution_count": 16,
   "id": "6d5e0197",
   "metadata": {},
   "outputs": [
    {
     "name": "stdout",
     "output_type": "stream",
     "text": [
      "All 16 days have participation confirmations; no missing days found.\n"
     ]
    }
   ],
   "source": [
    "df_intervention['intervention_task_time'] = pd.to_datetime(\n",
    "    df_intervention['intervention_task_time'],\n",
    "    errors='coerce'\n",
    ")\n",
    "\n",
    "df_intervention['date'] = df_intervention['intervention_task_time'].dt.date\n",
    "\n",
    "start_date = df_intervention['date'].min()\n",
    "full_range = pd.date_range(start=start_date, periods=16, freq='D').date\n",
    "\n",
    "full_df = pd.DataFrame({'date': full_range})\n",
    "merged = full_df.merge(\n",
    "    df_intervention[['date', 'intervention_task_name']],\n",
    "    on='date',\n",
    "    how='left'\n",
    ")\n",
    "\n",
    "missing_days = merged[merged['intervention_task_name'].isna()]\n",
    "\n",
    "if missing_days.empty:\n",
    "    print(\"All 16 days have participation confirmations; no missing days found.\")\n",
    "else:\n",
    "    print(\"Missing participation days and their corresponding task names:\")\n",
    "    print(missing_days)"
   ]
  },
  {
   "cell_type": "markdown",
   "id": "da3e431a",
   "metadata": {},
   "source": [
    "#### Summary Statistics"
   ]
  },
  {
   "cell_type": "code",
   "execution_count": 17,
   "id": "0cac7a9e",
   "metadata": {},
   "outputs": [
    {
     "name": "stdout",
     "output_type": "stream",
     "text": [
      "Sleep Data Summary Statistics\n",
      "       current_day_of_study  survey1_question1_response  \\\n",
      "count             15.000000                   15.000000   \n",
      "mean               7.533333                    5.400000   \n",
      "std                4.926121                    1.055597   \n",
      "min                0.000000                    4.000000   \n",
      "25%                3.500000                    5.000000   \n",
      "50%                8.000000                    5.000000   \n",
      "75%               11.500000                    6.000000   \n",
      "max               15.000000                    7.000000   \n",
      "\n",
      "       survey1_question2_response  survey1_question3_response  \\\n",
      "count                   15.000000                   15.000000   \n",
      "mean                     5.866667                    4.400000   \n",
      "std                      0.990430                    3.312315   \n",
      "min                      4.000000                    1.000000   \n",
      "25%                      5.500000                    1.000000   \n",
      "50%                      6.000000                    7.000000   \n",
      "75%                      6.500000                    7.000000   \n",
      "max                      7.000000                    8.000000   \n",
      "\n",
      "       survey1_question4_response  survey2_question1_response  \\\n",
      "count                   15.000000                         0.0   \n",
      "mean                     3.533333                         NaN   \n",
      "std                      2.825058                         NaN   \n",
      "min                      1.000000                         NaN   \n",
      "25%                      1.000000                         NaN   \n",
      "50%                      1.000000                         NaN   \n",
      "75%                      6.000000                         NaN   \n",
      "max                      7.000000                         NaN   \n",
      "\n",
      "       survey2_question2_response  \n",
      "count                         0.0  \n",
      "mean                          NaN  \n",
      "std                           NaN  \n",
      "min                           NaN  \n",
      "25%                           NaN  \n",
      "50%                           NaN  \n",
      "75%                           NaN  \n",
      "max                           NaN  \n"
     ]
    }
   ],
   "source": [
    "print(\"Sleep Data Summary Statistics\")\n",
    "summary_stats = df_mea_o.describe()\n",
    "print(summary_stats)"
   ]
  },
  {
   "cell_type": "code",
   "execution_count": 18,
   "id": "b11b6825",
   "metadata": {},
   "outputs": [
    {
     "name": "stdout",
     "output_type": "stream",
     "text": [
      "<class 'pandas.core.frame.DataFrame'>\n",
      "Index: 15 entries, 29 to 1\n",
      "Data columns (total 11 columns):\n",
      " #   Column                      Non-Null Count  Dtype              \n",
      "---  ------                      --------------  -----              \n",
      " 0   measurement_time            15 non-null     datetime64[ns, UTC]\n",
      " 1   measurement_name            15 non-null     object             \n",
      " 2   participant_id              15 non-null     object             \n",
      " 3   current_day_of_study        15 non-null     int64              \n",
      " 4   current_intervention_name   15 non-null     object             \n",
      " 5   survey1_question1_response  15 non-null     float64            \n",
      " 6   survey1_question2_response  15 non-null     float64            \n",
      " 7   survey1_question3_response  15 non-null     float64            \n",
      " 8   survey1_question4_response  15 non-null     float64            \n",
      " 9   survey2_question1_response  0 non-null      float64            \n",
      " 10  survey2_question2_response  0 non-null      float64            \n",
      "dtypes: datetime64[ns, UTC](1), float64(6), int64(1), object(3)\n",
      "memory usage: 1.4+ KB\n"
     ]
    }
   ],
   "source": [
    "df_mea_o.info()"
   ]
  },
  {
   "cell_type": "markdown",
   "id": "2f0233aa",
   "metadata": {},
   "source": [
    "#### Data Visualization and Distributions"
   ]
  },
  {
   "cell_type": "code",
   "execution_count": 19,
   "id": "dc36b946",
   "metadata": {},
   "outputs": [
    {
     "data": {
      "image/png": "[encoded data removed]",
      "text/plain": [
       "<Figure size 1000x400 with 2 Axes>"
      ]
     },
     "metadata": {},
     "output_type": "display_data"
    },
    {
     "data": {
      "image/png": "[encoded data removed]",
      "text/plain": [
       "<Figure size 1000x400 with 2 Axes>"
      ]
     },
     "metadata": {},
     "output_type": "display_data"
    }
   ],
   "source": [
    "columns = [\n",
    "    'survey1_question1_response',\n",
    "    'survey1_question2_response']\n",
    "for column in columns:\n",
    "    plt.figure(figsize=(10, 4))\n",
    "\n",
    "    plt.subplot(1, 2, 1)\n",
    "    sns.histplot(df_mea_o[column].dropna(), bins=15, kde=True)\n",
    "    plt.title(f\"Distribution of {column}\")\n",
    "    plt.xlabel(column)\n",
    "    plt.ylabel(\"Frequency\")\n",
    "\n",
    "    plt.subplot(1, 2, 2)\n",
    "    sns.boxplot(y=df_mea_o[column].dropna())\n",
    "    plt.title(f\"Box Plot of {column}\")\n",
    "    plt.ylabel(column)\n",
    "\n",
    "    plt.tight_layout()\n",
    "    plt.show()"
   ]
  },
  {
   "cell_type": "markdown",
   "id": "4f06bfc0",
   "metadata": {},
   "source": [
    "#### Line Plot"
   ]
  },
  {
   "cell_type": "code",
   "execution_count": 20,
   "id": "6b14fe72",
   "metadata": {},
   "outputs": [
    {
     "data": {
      "image/png": "[encoded data removed]",
      "text/plain": [
       "<Figure size 1000x600 with 1 Axes>"
      ]
     },
     "metadata": {},
     "output_type": "display_data"
    }
   ],
   "source": [
    "grouped_data = df_mea_o.groupby(\"participant_id\")\n",
    "\n",
    "plt.figure(figsize=(10, 6))\n",
    "\n",
    "for participant_id, group in grouped_data:\n",
    "    plt.plot(group['current_day_of_study'], group['survey1_question1_response'], label=f'Participant {participant_id}')\n",
    "\n",
    "plt.xlabel('Current Day of Study')\n",
    "plt.ylabel('Day Stress Level')\n",
    "plt.title('Stress Level Over Time for Different Participants in Outcome Dataset')\n",
    "\n",
    "plt.legend()\n",
    "plt.show()\n"
   ]
  },
  {
   "cell_type": "markdown",
   "id": "17c853ed",
   "metadata": {},
   "source": [
    "#### Scatterplot"
   ]
  },
  {
   "cell_type": "code",
   "execution_count": 21,
   "id": "388e8a55",
   "metadata": {},
   "outputs": [
    {
     "data": {
      "text/plain": [
       "<matplotlib.legend.Legend at 0x1d891123690>"
      ]
     },
     "execution_count": 21,
     "metadata": {},
     "output_type": "execute_result"
    },
    {
     "data": {
      "image/png": "[encoded data removed]",
      "text/plain": [
       "<Figure size 1000x500 with 1 Axes>"
      ]
     },
     "metadata": {},
     "output_type": "display_data"
    }
   ],
   "source": [
    "x = 'current_day_of_study'\n",
    "y = 'survey1_question1_response'\n",
    "\n",
    "participant_list= list(df_mea_o.participant_id.unique())\n",
    "fig, axs = plt.subplots(len(participant_list), figsize=(10, 5 * len(participant_list)))\n",
    "\n",
    "if len(participant_list) == 1:\n",
    "    axs = [axs]\n",
    "\n",
    "for i in range(len(participant_list)):\n",
    "    legend = True if i == len(participant_list)-1 else False\n",
    "    sns.scatterplot(\n",
    "        data=df_mea_o[df_mea_o[\"participant_id\"] == participant_list[i]],\n",
    "        x=x, y=y, hue='current_intervention_name',\n",
    "        ax=axs[i], legend=legend\n",
    "    )\n",
    "\n",
    "axs[-1].legend(loc='upper center', bbox_to_anchor=(0.5, -0.5))\n"
   ]
  },
  {
   "cell_type": "markdown",
   "id": "a68b3f7e",
   "metadata": {},
   "source": [
    "#### Correlations"
   ]
  },
  {
   "cell_type": "code",
   "execution_count": 22,
   "id": "d8ae5bf4",
   "metadata": {},
   "outputs": [
    {
     "data": {
      "image/png": "[encoded data removed]",
      "text/plain": [
       "<Figure size 1500x500 with 6 Axes>"
      ]
     },
     "metadata": {},
     "output_type": "display_data"
    }
   ],
   "source": [
    "columns_to_include = [\n",
    "    'survey1_question1_response',\n",
    "    'survey1_question2_response',\n",
    "    'survey1_question3_response',\n",
    "    'survey1_question4_response']\n",
    "\n",
    "correlation_pearson = df_mea_all[columns_to_include].corr(method='pearson')\n",
    "correlation_kendall = df_mea_all[columns_to_include].corr(method='kendall')\n",
    "correlation_spearman = df_mea_all[columns_to_include].corr(method='spearman')\n",
    "\n",
    "fig, axes = plt.subplots(1, 3, figsize=(15, 5))\n",
    "\n",
    "sns.heatmap(correlation_pearson, vmin=-1, vmax=1, annot=True, cmap='BrBG',ax=axes[0], center=0)\n",
    "axes[0].set_title('Pearson Correlation')\n",
    "\n",
    "sns.heatmap(correlation_kendall, annot=True, cmap='coolwarm', ax=axes[1])\n",
    "axes[1].set_title('Kendall Correlation')\n",
    "\n",
    "sns.heatmap(correlation_spearman, annot=True, cmap='coolwarm', ax=axes[2])\n",
    "axes[2].set_title('Spearman Correlation')\n",
    "\n",
    "plt.tight_layout()\n",
    "plt.show()"
   ]
  },
  {
   "cell_type": "markdown",
   "id": "2de3f1fd",
   "metadata": {},
   "source": [
    "## Baseline Study: Listening Motivational Podcasts vs Not Listening Motivational Podcasts"
   ]
  },
  {
   "cell_type": "markdown",
   "id": "92949b72",
   "metadata": {},
   "source": [
    "  - Baseline Studies  \n",
    "    - Examination of Outcomes   \n",
    "    - Linear Regression  \n",
    "      - Ordinary Least Squares (OLS) Regression  \n",
    "      - Linear Regression with Autoregressive Errors \n",
    "      - Bayesian linear regression models\n",
    "        - Bayesian AR(1) Model of Daily Stress Response to Intervention and Mediators\n",
    "        - Bayesian AR(1) Regression with Data-Driven Scale (MAD-Based)\n",
    "        - Bayesian AR(1) Regression with Consecutive‐Day Adjustment\n",
    "        - Bayesian AR(1) Model of Daily Stress Response to Intervention and Mediators - Mean Imputation Method\n",
    "        - Bayesian AR(1) Model of Daily Stress Response to Intervention and Mediators - Latent Variable Method"
   ]
  },
  {
   "cell_type": "markdown",
   "id": "3aba5356",
   "metadata": {},
   "source": [
    "#### Examination of Outcomes: Today Stress Level"
   ]
  },
  {
   "cell_type": "code",
   "execution_count": 23,
   "id": "1d12c57b",
   "metadata": {},
   "outputs": [
    {
     "name": "stdout",
     "output_type": "stream",
     "text": [
      "Listening to motivational podcasts:                          n = 8, std = 1.13, mean = 5.12\n",
      "Not listening to motivational podcasts (daily routine normal): n = 7, std = 0.95, mean = 5.71\n",
      "\n"
     ]
    }
   ],
   "source": [
    "df_mea_o = df_mea_o[\n",
    "    (df_mea_o['measurement_name'] == 'Outcome') &\n",
    "    df_mea_o['survey1_question1_response'].notna() &\n",
    "    df_mea_o['current_intervention_name'].isin([\n",
    "        \"Listening to motivational podcasts!\",\n",
    "        \"Not listening to motivational podcasts!\"\n",
    "    ])\n",
    "]\n",
    "\n",
    "motivational = df_mea_o.loc[\n",
    "    df_mea_o['current_intervention_name'] == \"Listening to motivational podcasts!\",\n",
    "    'survey1_question1_response'\n",
    "]\n",
    "no_motivational = df_mea_o.loc[\n",
    "    df_mea_o['current_intervention_name'] == \"Not listening to motivational podcasts!\",\n",
    "    'survey1_question1_response'\n",
    "]\n",
    "\n",
    "n_motivational        = motivational.count()\n",
    "n_no_motivational     = no_motivational.count()\n",
    "std_motivational      = motivational.std(ddof=1)\n",
    "std_no_motivational   = no_motivational.std(ddof=1)\n",
    "\n",
    "print(f\"Listening to motivational podcasts:                          n = {n_motivational}, std = {std_motivational:.2f}, mean = {motivational.mean():.2f}\")\n",
    "print(f\"Not listening to motivational podcasts (daily routine normal): n = {n_no_motivational}, std = {std_no_motivational:.2f}, mean = {no_motivational.mean():.2f}\\n\")\n"
   ]
  },
  {
   "cell_type": "markdown",
   "id": "0d5bf693",
   "metadata": {},
   "source": [
    "#### Examination of Outcomes: Prediction of Tomorrow Stress"
   ]
  },
  {
   "cell_type": "code",
   "execution_count": 24,
   "id": "b3aad0f4",
   "metadata": {},
   "outputs": [
    {
     "name": "stdout",
     "output_type": "stream",
     "text": [
      "Listening to motivational podcasts:                          n = 8, std = 1.28, mean = 5.75\n",
      "Not listening to motivational podcasts (daily routine normal): n = 7, std = 0.58, mean = 6.00\n",
      "\n"
     ]
    }
   ],
   "source": [
    "df_mea_o = df_mea_o[\n",
    "    (df_mea_o['measurement_name'] == 'Outcome') &\n",
    "    df_mea_o['survey1_question2_response'].notna() &\n",
    "    df_mea_o['current_intervention_name'].isin([\n",
    "        \"Listening to motivational podcasts!\",\n",
    "        \"Not listening to motivational podcasts!\"\n",
    "    ])\n",
    "]\n",
    "\n",
    "motivational = df_mea_o.loc[\n",
    "    df_mea_o['current_intervention_name'] == \"Listening to motivational podcasts!\",\n",
    "    'survey1_question2_response'\n",
    "]\n",
    "no_motivational = df_mea_o.loc[\n",
    "    df_mea_o['current_intervention_name'] == \"Not listening to motivational podcasts!\",\n",
    "    'survey1_question2_response'\n",
    "]\n",
    "\n",
    "n_motivational        = motivational.count()\n",
    "n_no_motivational     = no_motivational.count()\n",
    "std_motivational      = motivational.std(ddof=1)\n",
    "std_no_motivational   = no_motivational.std(ddof=1)\n",
    "\n",
    "print(f\"Listening to motivational podcasts:                          n = {n_motivational}, std = {std_motivational:.2f}, mean = {motivational.mean():.2f}\")\n",
    "print(f\"Not listening to motivational podcasts (daily routine normal): n = {n_no_motivational}, std = {std_no_motivational:.2f}, mean = {no_motivational.mean():.2f}\\n\")\n"
   ]
  },
  {
   "cell_type": "markdown",
   "id": "c69c701e",
   "metadata": {},
   "source": [
    "#### Examination of Outcomes: Mean Stress-Relief Score for Listening to Motivational Podcasts! (Q3)\n",
    "The average score for Question 3 (survey1_question3_response), which assesses how much listening to motivational podcasts alleviated participants’ stress on days they performed."
   ]
  },
  {
   "cell_type": "code",
   "execution_count": 25,
   "id": "86d52440",
   "metadata": {},
   "outputs": [
    {
     "data": {
      "text/plain": [
       "\"Did your miracle stress-shrinking method (listening to the motivational podcast) help you feel like a calm, happy puppy, or was it more like trying to train a cat to do your taxes? <b>(1 = Not helpful at all to 10 = I'm practically levitating with calmness) <i>(Answer ONLY if you have listened to motivational podcasts!)</i></b>\""
      ]
     },
     "execution_count": 25,
     "metadata": {},
     "output_type": "execute_result"
    }
   ],
   "source": [
    "df_mea.survey1_question3_text[0]"
   ]
  },
  {
   "cell_type": "code",
   "execution_count": 26,
   "id": "d5ae17a1",
   "metadata": {},
   "outputs": [
    {
     "data": {
      "text/plain": [
       "7.375"
      ]
     },
     "execution_count": 26,
     "metadata": {},
     "output_type": "execute_result"
    }
   ],
   "source": [
    "# \"Did your miracle stress-shrinking method (listening to the motivational podcast) help you feel like a calm, happy puppy, or was it more like trying to train a cat to do your taxes? <b>(1 = Not helpful at all to 10 = I'm practically levitating with calmness) (Answer ONLY if you have listened to motivational podcasts!)\"\n",
    "mean_q3_listening_motivational = df_mea_o.loc[\n",
    "    df_mea_o['current_intervention_name'] == \"Listening to motivational podcasts!\",\n",
    "    'survey1_question3_response'\n",
    "].mean()\n",
    "mean_q3_listening_motivational.item()\n"
   ]
  },
  {
   "cell_type": "markdown",
   "id": "22bc7c45",
   "metadata": {},
   "source": [
    "**Mean Self-Improvement Score for Listening to Motivational Podcasts (Q3): 7.375:**\n",
    "On days when the participant listened to motivational podcasts, he rated Question 3—“Did your miracle stress-shrinking method (listening to the motivational podcast) help you feel like a calm, happy puppy, or was it more like trying to train a cat to do your taxes?”—an average of **7.38 out of 10**, indicating that motivational podcasts provided a substantial benefit.\n"
   ]
  },
  {
   "cell_type": "markdown",
   "id": "3b373480",
   "metadata": {},
   "source": [
    "#### Examination of Outcomes: Mean Stress-Management Difficulty Without Listening to Motivational Podcasts (Q4)\n",
    "The average score for Question 4 (survey1_question4_response), which measures participants’ difficulty in managing stress on days they did not listen to motivational podcasts."
   ]
  },
  {
   "cell_type": "code",
   "execution_count": 27,
   "id": "f3967af8",
   "metadata": {},
   "outputs": [
    {
     "data": {
      "text/plain": [
       "\"When you skipped the method (not listening to the motivational podcast) today, did managing stress feel more like “breezing through a sunny park” or “juggling flaming torches while riding a unicycle on a tightrope over a pit of snapping crocodiles”? <b> (1 = Easy breezy to 10 = Send help, I'm barely holding it together!)<i> (Answer ONLY if you have NOT listened to motivational podcasts!)</i></b>\""
      ]
     },
     "execution_count": 27,
     "metadata": {},
     "output_type": "execute_result"
    }
   ],
   "source": [
    "df_mea.survey1_question4_text[0]"
   ]
  },
  {
   "cell_type": "code",
   "execution_count": 28,
   "id": "c77d9a25",
   "metadata": {},
   "outputs": [
    {
     "data": {
      "text/plain": [
       "6.428571428571429"
      ]
     },
     "execution_count": 28,
     "metadata": {},
     "output_type": "execute_result"
    }
   ],
   "source": [
    "# \"When you skipped the method (not listening to the motivational podcast) today, did managing stress feel more like “breezing through a sunny park” or “juggling flaming torches while riding a unicycle on a tightrope over a pit of snapping crocodiles”? <b> (1 = Easy breezy to 10 = Send help, I'm barely holding it together!)<i> (Answer ONLY if you have NOT listened to motivational podcasts!)</i></b>\"\n",
    "mean_q4_no_listening_motivational = df_mea_o.loc[\n",
    "    df_mea_o['current_intervention_name'] == \"Not listening to motivational podcasts!\",\n",
    "    'survey1_question4_response'\n",
    "].mean()\n",
    "mean_q4_no_listening_motivational.item()\n"
   ]
  },
  {
   "cell_type": "markdown",
   "id": "dc268cc7",
   "metadata": {},
   "source": [
    "**Mean Stress-Management Difficulty Score Without Listening to Motivational Podcasts (Q4): 6.43:**\n",
    "On days when the participant did not listen to motivational podcasts, he rated Question 4—“When you skipped the method (not listening to the motivational podcast) today, did managing stress feel more like ‘breezing through a sunny park’ or ‘juggling flaming torches while riding a unicycle on a tightrope over a pit of snapping crocodiles’?”—an average of **6.43 out of 10**, indicating that going without motivational podcasts posed a moderate challenge in managing stress."
   ]
  },
  {
   "cell_type": "markdown",
   "id": "4da54a73",
   "metadata": {},
   "source": [
    "### Estimating treatment effect using Linear Regression with Autoregressive errors"
   ]
  },
  {
   "cell_type": "code",
   "execution_count": 29,
   "id": "1228e91c",
   "metadata": {},
   "outputs": [
    {
     "name": "stdout",
     "output_type": "stream",
     "text": [
      "OLS Regression Results:\n",
      "                                OLS Regression Results                                \n",
      "======================================================================================\n",
      "Dep. Variable:     survey1_question1_response   R-squared:                       0.083\n",
      "Model:                                    OLS   Adj. R-squared:                  0.013\n",
      "Method:                         Least Squares   F-statistic:                     1.178\n",
      "Date:                        Wed, 13 Aug 2025   Prob (F-statistic):              0.297\n",
      "Time:                                22:52:14   Log-Likelihood:                -20.928\n",
      "No. Observations:                          15   AIC:                             45.86\n",
      "Df Residuals:                              13   BIC:                             47.27\n",
      "Df Model:                                   1                                         \n",
      "Covariance Type:                    nonrobust                                         \n",
      "==============================================================================\n",
      "                 coef    std err          t      P>|t|      [0.025      0.975]\n",
      "------------------------------------------------------------------------------\n",
      "const          5.7143      0.396     14.413      0.000       4.858       6.571\n",
      "D             -0.5893      0.543     -1.085      0.297      -1.762       0.584\n",
      "==============================================================================\n",
      "Omnibus:                        2.496   Durbin-Watson:                   2.121\n",
      "Prob(Omnibus):                  0.287   Jarque-Bera (JB):                1.404\n",
      "Skew:                           0.463   Prob(JB):                        0.496\n",
      "Kurtosis:                       1.822   Cond. No.                         2.70\n",
      "==============================================================================\n",
      "\n",
      "Notes:\n",
      "[1] Standard Errors assume that the covariance matrix of the errors is correctly specified.\n",
      "Durbin–Watson statistic (OLS residuals): 2.121\n",
      "\n"
     ]
    },
    {
     "name": "stderr",
     "output_type": "stream",
     "text": [
      "c:\\Users\\USER\\AppData\\Local\\r-miniconda\\Lib\\site-packages\\scipy\\stats\\_axis_nan_policy.py:430: UserWarning: `kurtosistest` p-value may be inaccurate with fewer than 20 observations; only n=15 observations were given.\n",
      "  return hypotest_fun_in(*args, **kwds)\n"
     ]
    }
   ],
   "source": [
    "df_mea_o = df_mea_o[\n",
    "    (df_mea_o['measurement_name'] == 'Outcome') &\n",
    "    df_mea_o['survey1_question1_response'].notna() &\n",
    "    df_mea_o['current_intervention_name'].isin([\"Listening to motivational podcasts!\", \"Not listening to motivational podcasts!\"])\n",
    "]\n",
    "\n",
    "df_mea_o = df_mea_o.sort_values('measurement_time')\n",
    "\n",
    "y = df_mea_o['survey1_question1_response']\n",
    "df_mea_o['D'] = (df_mea_o['current_intervention_name'] == \"Listening to motivational podcasts!\").astype(int)\n",
    "X = sm.add_constant(df_mea_o['D'])\n",
    "\n",
    "ols_res = sm.OLS(y, X).fit()\n",
    "dw_ols = durbin_watson(ols_res.resid)\n",
    "\n",
    "print(\"OLS Regression Results:\")\n",
    "print(ols_res.summary())\n",
    "print(f\"Durbin–Watson statistic (OLS residuals): {dw_ols:.3f}\\n\")"
   ]
  },
  {
   "cell_type": "code",
   "execution_count": 30,
   "id": "57fe6caa",
   "metadata": {},
   "outputs": [
    {
     "name": "stdout",
     "output_type": "stream",
     "text": [
      "GLSAR Regression Results (AR(1) error structure):\n",
      "                               GLSAR Regression Results                               \n",
      "======================================================================================\n",
      "Dep. Variable:     survey1_question1_response   R-squared:                       0.051\n",
      "Model:                                  GLSAR   Adj. R-squared:                 -0.028\n",
      "Method:                         Least Squares   F-statistic:                    0.6416\n",
      "Date:                        Wed, 13 Aug 2025   Prob (F-statistic):              0.439\n",
      "Time:                                22:52:14   Log-Likelihood:                -19.002\n",
      "No. Observations:                          14   AIC:                             42.00\n",
      "Df Residuals:                              12   BIC:                             43.28\n",
      "Df Model:                                   1                                         \n",
      "Covariance Type:                    nonrobust                                         \n",
      "==============================================================================\n",
      "                 coef    std err          t      P>|t|      [0.025      0.975]\n",
      "------------------------------------------------------------------------------\n",
      "const          5.6916      0.332     17.139      0.000       4.968       6.415\n",
      "D             -0.3833      0.479     -0.801      0.439      -1.426       0.659\n",
      "==============================================================================\n",
      "Omnibus:                        1.725   Durbin-Watson:                   1.636\n",
      "Prob(Omnibus):                  0.422   Jarque-Bera (JB):                0.967\n",
      "Skew:                           0.258   Prob(JB):                        0.617\n",
      "Kurtosis:                       1.820   Cond. No.                         2.71\n",
      "==============================================================================\n",
      "\n",
      "Notes:\n",
      "[1] Standard Errors assume that the covariance matrix of the errors is correctly specified.\n",
      "Estimated AR(1) coefficient (rho): -0.179\n",
      "Durbin–Watson statistic (GLSAR residuals): 2.110\n"
     ]
    },
    {
     "name": "stderr",
     "output_type": "stream",
     "text": [
      "c:\\Users\\USER\\AppData\\Local\\r-miniconda\\Lib\\site-packages\\scipy\\stats\\_axis_nan_policy.py:430: UserWarning: `kurtosistest` p-value may be inaccurate with fewer than 20 observations; only n=14 observations were given.\n",
      "  return hypotest_fun_in(*args, **kwds)\n"
     ]
    }
   ],
   "source": [
    "# GLSAR Regression with AR(1) errors (Feasible GLS)\n",
    "glsar = sm.GLSAR(y, X, rho=1)\n",
    "glsar_res = glsar.iterative_fit(maxiter=10)\n",
    "dw_glsar = durbin_watson(glsar_res.resid)\n",
    "\n",
    "print(\"GLSAR Regression Results (AR(1) error structure):\")\n",
    "print(glsar_res.summary())\n",
    "print(f\"Estimated AR(1) coefficient (rho): {glsar.rho[0]:.3f}\")\n",
    "print(f\"Durbin–Watson statistic (GLSAR residuals): {dw_glsar:.3f}\")"
   ]
  },
  {
   "cell_type": "markdown",
   "id": "9e34c801",
   "metadata": {},
   "source": [
    "#### Bayesian AR(1) Model of Daily Stress Response to Intervention and Mediators"
   ]
  },
  {
   "cell_type": "code",
   "execution_count": 31,
   "id": "95158193",
   "metadata": {},
   "outputs": [
    {
     "name": "stdout",
     "output_type": "stream",
     "text": [
      "Model result with neither fac1 nor fac2 (intervention only):\n"
     ]
    },
    {
     "name": "stderr",
     "output_type": "stream",
     "text": [
      "Initializing NUTS using jitter+adapt_diag...\n",
      "c:\\Users\\USER\\AppData\\Local\\r-miniconda\\Lib\\site-packages\\pytensor\\tensor\\rewriting\\elemwise.py:954: UserWarning: Loop fusion failed because the resulting node would exceed the kernel argument limit.\n",
      "  warn(\n",
      "Multiprocess sampling (2 chains in 2 jobs)\n",
      "NUTS: [beta0, beta_int, rho, sigma]\n"
     ]
    },
    {
     "data": {
      "text/html": [
       "<pre style=\"white-space:pre;overflow-x:auto;line-height:normal;font-family:Menlo,'DejaVu Sans Mono',consolas,'Courier New',monospace\">c:\\Users\\USER\\AppData\\Local\\r-miniconda\\Lib\\site-packages\\rich\\live.py:231: UserWarning: install \"ipywidgets\" for \n",
       "Jupyter support\n",
       "  warnings.warn('install \"ipywidgets\" for Jupyter support')\n",
       "</pre>\n"
      ],
      "text/plain": [
       "c:\\Users\\USER\\AppData\\Local\\r-miniconda\\Lib\\site-packages\\rich\\live.py:231: UserWarning: install \"ipywidgets\" for \n",
       "Jupyter support\n",
       "  warnings.warn('install \"ipywidgets\" for Jupyter support')\n"
      ]
     },
     "metadata": {},
     "output_type": "display_data"
    },
    {
     "data": {
      "text/html": [
       "<pre style=\"white-space:pre;overflow-x:auto;line-height:normal;font-family:Menlo,'DejaVu Sans Mono',consolas,'Courier New',monospace\"></pre>\n"
      ],
      "text/plain": []
     },
     "metadata": {},
     "output_type": "display_data"
    },
    {
     "name": "stderr",
     "output_type": "stream",
     "text": [
      "Sampling 2 chains for 500 tune and 500 draw iterations (1_000 + 1_000 draws total) took 146 seconds.\n",
      "We recommend running at least 4 chains for robust computation of convergence diagnostics\n",
      "The effective sample size per chain is smaller than 100 for some parameters.  A higher number is needed for reliable rhat and ess computation. See https://arxiv.org/abs/1903.08008 for details\n"
     ]
    },
    {
     "name": "stdout",
     "output_type": "stream",
     "text": [
      "           mean     sd  hdi_2.5%  hdi_97.5%  mcse_mean  mcse_sd  ess_bulk  \\\n",
      "beta_int -0.445  0.541    -1.481      0.632      0.025    0.025     456.0   \n",
      "rho      -0.003  0.336    -0.663      0.670      0.027    0.025     188.0   \n",
      "sigma     1.118  0.225     0.692      1.517      0.011    0.010     498.0   \n",
      "\n",
      "          ess_tail  r_hat  \n",
      "beta_int     339.0   1.00  \n",
      "rho          103.0   1.01  \n",
      "sigma        458.0   1.00  \n",
      "P(beta_int ≤ –0.5) = 46.20%\n",
      "P(–0.5 < beta_int < 0) = 35.00%\n",
      "P(beta_int ≥ 0) = 18.80%\n",
      "P(Stress reduction of listening to motivational podcasts ≥ 0.5) = 46.20%\n",
      "\n",
      "Model result with only fac1:\n"
     ]
    },
    {
     "name": "stderr",
     "output_type": "stream",
     "text": [
      "Initializing NUTS using jitter+adapt_diag...\n",
      "c:\\Users\\USER\\AppData\\Local\\r-miniconda\\Lib\\site-packages\\pytensor\\tensor\\rewriting\\elemwise.py:954: UserWarning: Loop fusion failed because the resulting node would exceed the kernel argument limit.\n",
      "  warn(\n",
      "Multiprocess sampling (2 chains in 2 jobs)\n",
      "NUTS: [beta0, beta_int, beta_f1, rho, sigma]\n"
     ]
    },
    {
     "data": {
      "text/html": [
       "<pre style=\"white-space:pre;overflow-x:auto;line-height:normal;font-family:Menlo,'DejaVu Sans Mono',consolas,'Courier New',monospace\">c:\\Users\\USER\\AppData\\Local\\r-miniconda\\Lib\\site-packages\\rich\\live.py:231: UserWarning: install \"ipywidgets\" for \n",
       "Jupyter support\n",
       "  warnings.warn('install \"ipywidgets\" for Jupyter support')\n",
       "</pre>\n"
      ],
      "text/plain": [
       "c:\\Users\\USER\\AppData\\Local\\r-miniconda\\Lib\\site-packages\\rich\\live.py:231: UserWarning: install \"ipywidgets\" for \n",
       "Jupyter support\n",
       "  warnings.warn('install \"ipywidgets\" for Jupyter support')\n"
      ]
     },
     "metadata": {},
     "output_type": "display_data"
    },
    {
     "data": {
      "text/html": [
       "<pre style=\"white-space:pre;overflow-x:auto;line-height:normal;font-family:Menlo,'DejaVu Sans Mono',consolas,'Courier New',monospace\"></pre>\n"
      ],
      "text/plain": []
     },
     "metadata": {},
     "output_type": "display_data"
    },
    {
     "name": "stderr",
     "output_type": "stream",
     "text": [
      "Sampling 2 chains for 500 tune and 500 draw iterations (1_000 + 1_000 draws total) took 502 seconds.\n",
      "There were 4 divergences after tuning. Increase `target_accept` or reparameterize.\n",
      "We recommend running at least 4 chains for robust computation of convergence diagnostics\n",
      "The rhat statistic is larger than 1.01 for some parameters. This indicates problems during sampling. See https://arxiv.org/abs/1903.08008 for details\n"
     ]
    },
    {
     "name": "stdout",
     "output_type": "stream",
     "text": [
      "           mean     sd  hdi_2.5%  hdi_97.5%  mcse_mean  mcse_sd  ess_bulk  \\\n",
      "beta_int  0.065  0.538    -0.957      1.158      0.023    0.024     523.0   \n",
      "beta_f1   0.888  0.374     0.175      1.616      0.024    0.013     246.0   \n",
      "rho       0.331  0.362    -0.344      0.966      0.021    0.013     291.0   \n",
      "sigma     0.977  0.210     0.615      1.390      0.011    0.013     394.0   \n",
      "\n",
      "          ess_tail  r_hat  \n",
      "beta_int     438.0   1.00  \n",
      "beta_f1      419.0   1.01  \n",
      "rho          369.0   1.00  \n",
      "sigma        462.0   1.01  \n",
      "P(beta_int ≤ –0.5) = 14.00%\n",
      "P(–0.5 < beta_int < 0) = 31.20%\n",
      "P(beta_int ≥ 0) = 54.80%\n",
      "P(Stress reduction of listening to motivational podcasts ≥ 0.5) = 14.00%\n",
      "\n",
      "Model result with only fac2:\n"
     ]
    },
    {
     "name": "stderr",
     "output_type": "stream",
     "text": [
      "Initializing NUTS using jitter+adapt_diag...\n",
      "c:\\Users\\USER\\AppData\\Local\\r-miniconda\\Lib\\site-packages\\pytensor\\tensor\\rewriting\\elemwise.py:954: UserWarning: Loop fusion failed because the resulting node would exceed the kernel argument limit.\n",
      "  warn(\n",
      "Multiprocess sampling (2 chains in 2 jobs)\n",
      "NUTS: [beta0, beta_int, beta_f2, rho, sigma]\n"
     ]
    },
    {
     "data": {
      "text/html": [
       "<pre style=\"white-space:pre;overflow-x:auto;line-height:normal;font-family:Menlo,'DejaVu Sans Mono',consolas,'Courier New',monospace\">c:\\Users\\USER\\AppData\\Local\\r-miniconda\\Lib\\site-packages\\rich\\live.py:231: UserWarning: install \"ipywidgets\" for \n",
       "Jupyter support\n",
       "  warnings.warn('install \"ipywidgets\" for Jupyter support')\n",
       "</pre>\n"
      ],
      "text/plain": [
       "c:\\Users\\USER\\AppData\\Local\\r-miniconda\\Lib\\site-packages\\rich\\live.py:231: UserWarning: install \"ipywidgets\" for \n",
       "Jupyter support\n",
       "  warnings.warn('install \"ipywidgets\" for Jupyter support')\n"
      ]
     },
     "metadata": {},
     "output_type": "display_data"
    },
    {
     "data": {
      "text/html": [
       "<pre style=\"white-space:pre;overflow-x:auto;line-height:normal;font-family:Menlo,'DejaVu Sans Mono',consolas,'Courier New',monospace\"></pre>\n"
      ],
      "text/plain": []
     },
     "metadata": {},
     "output_type": "display_data"
    },
    {
     "name": "stderr",
     "output_type": "stream",
     "text": [
      "Sampling 2 chains for 500 tune and 500 draw iterations (1_000 + 1_000 draws total) took 455 seconds.\n",
      "There was 1 divergence after tuning. Increase `target_accept` or reparameterize.\n",
      "We recommend running at least 4 chains for robust computation of convergence diagnostics\n",
      "The rhat statistic is larger than 1.01 for some parameters. This indicates problems during sampling. See https://arxiv.org/abs/1903.08008 for details\n",
      "The effective sample size per chain is smaller than 100 for some parameters.  A higher number is needed for reliable rhat and ess computation. See https://arxiv.org/abs/1903.08008 for details\n"
     ]
    },
    {
     "name": "stdout",
     "output_type": "stream",
     "text": [
      "           mean     sd  hdi_2.5%  hdi_97.5%  mcse_mean  mcse_sd  ess_bulk  \\\n",
      "beta_int -0.194  0.659    -1.500      1.014      0.035    0.025     357.0   \n",
      "beta_f2   0.333  0.383    -0.488      1.046      0.035    0.016     127.0   \n",
      "rho       0.063  0.338    -0.567      0.707      0.018    0.011     341.0   \n",
      "sigma     1.142  0.232     0.785      1.621      0.012    0.014     387.0   \n",
      "\n",
      "          ess_tail  r_hat  \n",
      "beta_int     422.0   1.00  \n",
      "beta_f2      328.0   1.02  \n",
      "rho          394.0   1.00  \n",
      "sigma        366.0   1.00  \n",
      "P(beta_int ≤ –0.5) = 32.00%\n",
      "P(–0.5 < beta_int < 0) = 29.70%\n",
      "P(beta_int ≥ 0) = 38.30%\n",
      "P(Stress reduction of listening to motivational podcasts ≥ 0.5) = 32.00%\n",
      "\n",
      "Model result with both fac1 and fac2:\n"
     ]
    },
    {
     "name": "stderr",
     "output_type": "stream",
     "text": [
      "Initializing NUTS using jitter+adapt_diag...\n",
      "c:\\Users\\USER\\AppData\\Local\\r-miniconda\\Lib\\site-packages\\pytensor\\tensor\\rewriting\\elemwise.py:954: UserWarning: Loop fusion failed because the resulting node would exceed the kernel argument limit.\n",
      "  warn(\n",
      "Multiprocess sampling (2 chains in 2 jobs)\n",
      "NUTS: [beta0, beta_int, beta_f1, beta_f2, rho, sigma]\n"
     ]
    },
    {
     "data": {
      "text/html": [
       "<pre style=\"white-space:pre;overflow-x:auto;line-height:normal;font-family:Menlo,'DejaVu Sans Mono',consolas,'Courier New',monospace\">c:\\Users\\USER\\AppData\\Local\\r-miniconda\\Lib\\site-packages\\rich\\live.py:231: UserWarning: install \"ipywidgets\" for \n",
       "Jupyter support\n",
       "  warnings.warn('install \"ipywidgets\" for Jupyter support')\n",
       "</pre>\n"
      ],
      "text/plain": [
       "c:\\Users\\USER\\AppData\\Local\\r-miniconda\\Lib\\site-packages\\rich\\live.py:231: UserWarning: install \"ipywidgets\" for \n",
       "Jupyter support\n",
       "  warnings.warn('install \"ipywidgets\" for Jupyter support')\n"
      ]
     },
     "metadata": {},
     "output_type": "display_data"
    },
    {
     "data": {
      "text/html": [
       "<pre style=\"white-space:pre;overflow-x:auto;line-height:normal;font-family:Menlo,'DejaVu Sans Mono',consolas,'Courier New',monospace\"></pre>\n"
      ],
      "text/plain": []
     },
     "metadata": {},
     "output_type": "display_data"
    },
    {
     "name": "stderr",
     "output_type": "stream",
     "text": [
      "Sampling 2 chains for 500 tune and 500 draw iterations (1_000 + 1_000 draws total) took 647 seconds.\n",
      "There were 10 divergences after tuning. Increase `target_accept` or reparameterize.\n",
      "We recommend running at least 4 chains for robust computation of convergence diagnostics\n",
      "The rhat statistic is larger than 1.01 for some parameters. This indicates problems during sampling. See https://arxiv.org/abs/1903.08008 for details\n",
      "The effective sample size per chain is smaller than 100 for some parameters.  A higher number is needed for reliable rhat and ess computation. See https://arxiv.org/abs/1903.08008 for details\n"
     ]
    },
    {
     "name": "stdout",
     "output_type": "stream",
     "text": [
      "           mean     sd  hdi_2.5%  hdi_97.5%  mcse_mean  mcse_sd  ess_bulk  \\\n",
      "beta_int  0.125  0.621    -0.996      1.401      0.030    0.020     426.0   \n",
      "beta_f1   0.877  0.359     0.190      1.601      0.018    0.012     403.0   \n",
      "beta_f2   0.173  0.344    -0.532      0.830      0.021    0.015     272.0   \n",
      "rho       0.359  0.379    -0.351      0.989      0.027    0.015     214.0   \n",
      "sigma     0.996  0.209     0.636      1.433      0.013    0.009     237.0   \n",
      "\n",
      "          ess_tail  r_hat  \n",
      "beta_int     454.0   1.01  \n",
      "beta_f1      508.0   1.01  \n",
      "beta_f2      158.0   1.00  \n",
      "rho          173.0   1.02  \n",
      "sigma        103.0   1.01  \n",
      "P(beta_int ≤ –0.5) = 15.40%\n",
      "P(–0.5 < beta_int < 0) = 26.90%\n",
      "P(beta_int ≥ 0) = 57.70%\n",
      "P(Stress reduction of listening to motivational podcasts ≥ 0.5) = 15.40%\n",
      "\n"
     ]
    }
   ],
   "source": [
    "def run_model(fac_cols, beta_names):\n",
    "    out = df_mea[df_mea['measurement_name'] == 'Outcome']\n",
    "    med = df_mea[df_mea['measurement_name'] == 'Mediators']\n",
    "    data = (\n",
    "        pd.merge(\n",
    "            out[['current_day_of_study', 'survey1_question1_response', 'current_intervention_name']],\n",
    "            med[['current_day_of_study'] + fac_cols] if fac_cols else out[['current_day_of_study']],\n",
    "            on='current_day_of_study',\n",
    "            how='inner'\n",
    "        ).dropna().sort_values('current_day_of_study').reset_index(drop=True)\n",
    "    )\n",
    "    y = data['survey1_question1_response'].values\n",
    "    interv = (data['current_intervention_name'] == \"Listening to motivational podcasts!\").astype(int).values\n",
    "    n = len(data)\n",
    "    fac_arrays = [data[col].values for col in fac_cols] if fac_cols else []\n",
    "\n",
    "    with pm.Model() as model:\n",
    "        beta0 = pm.Normal('beta0', mu=0, sigma=10)\n",
    "        beta_int = pm.Normal('beta_int', mu=0, sigma=1)\n",
    "        betas = [pm.Normal(beta_name, mu=0, sigma=1) for beta_name in beta_names]\n",
    "        rho = pm.Uniform('rho', lower=-1, upper=1)\n",
    "        sigma = pm.HalfNormal('sigma', sigma=1)\n",
    "        mu = beta0 + beta_int * interv\n",
    "        for beta, fac in zip(betas, fac_arrays):\n",
    "            mu += beta * fac\n",
    "        pm.Normal('y_0', mu=mu[0], sigma=sigma, observed=y[0])\n",
    "        for t in range(1, n):\n",
    "            adjustment = rho * (y[t-1] - mu[t-1])\n",
    "            pm.Normal(f'y_{t}', mu=mu[t] + adjustment, sigma=sigma, observed=y[t])\n",
    "        trace = pm.sample(draws=500, tune=500, chains=2, target_accept=0.9, return_inferencedata=True)\n",
    "    summary = az.summary(trace, var_names=['beta_int'] + beta_names + ['rho', 'sigma'], hdi_prob=0.95)\n",
    "    print(summary)\n",
    "    beta_samples = trace.posterior['beta_int'].values.flatten()\n",
    "    p_le_neg05 = (beta_samples <= -0.5).mean()\n",
    "    p_between  = ((beta_samples > -0.5) & (beta_samples < 0)).mean()\n",
    "    p_ge0      = (beta_samples >= 0).mean()\n",
    "    print(f\"P(beta_int ≤ –0.5) = {p_le_neg05:.2%}\")\n",
    "    print(f\"P(–0.5 < beta_int < 0) = {p_between:.2%}\")\n",
    "    print(f\"P(beta_int ≥ 0) = {p_ge0:.2%}\")\n",
    "    prob = (trace.posterior['beta_int'] < -0.5).mean().item()\n",
    "    print(f\"P(Stress reduction of listening to motivational podcasts ≥ 0.5) = {prob:.2%}\\n\")\n",
    "\n",
    "print(\"Model result with neither fac1 nor fac2 (intervention only):\")\n",
    "run_model([], [])\n",
    "\n",
    "print(\"Model result with only fac1:\")\n",
    "run_model(['survey2_question1_response'], ['beta_f1'])\n",
    "\n",
    "print(\"Model result with only fac2:\")\n",
    "run_model(['survey2_question2_response'], ['beta_f2'])\n",
    "\n",
    "print(\"Model result with both fac1 and fac2:\")\n",
    "run_model(['survey2_question1_response', 'survey2_question2_response'], ['beta_f1', 'beta_f2'])"
   ]
  },
  {
   "cell_type": "markdown",
   "id": "292e12d7",
   "metadata": {},
   "source": [
    "#### Bayesian AR(1) Regression with Data-Driven Scale (MAD-Based)"
   ]
  },
  {
   "cell_type": "code",
   "execution_count": 32,
   "id": "7593e781",
   "metadata": {},
   "outputs": [
    {
     "name": "stderr",
     "output_type": "stream",
     "text": [
      "Initializing NUTS using jitter+adapt_diag...\n",
      "c:\\Users\\USER\\AppData\\Local\\r-miniconda\\Lib\\site-packages\\pytensor\\tensor\\rewriting\\elemwise.py:954: UserWarning: Loop fusion failed because the resulting node would exceed the kernel argument limit.\n",
      "  warn(\n",
      "Multiprocess sampling (2 chains in 2 jobs)\n",
      "NUTS: [beta0, beta_int, rho, sigma]\n"
     ]
    },
    {
     "data": {
      "text/html": [
       "<pre style=\"white-space:pre;overflow-x:auto;line-height:normal;font-family:Menlo,'DejaVu Sans Mono',consolas,'Courier New',monospace\">c:\\Users\\USER\\AppData\\Local\\r-miniconda\\Lib\\site-packages\\rich\\live.py:231: UserWarning: install \"ipywidgets\" for \n",
       "Jupyter support\n",
       "  warnings.warn('install \"ipywidgets\" for Jupyter support')\n",
       "</pre>\n"
      ],
      "text/plain": [
       "c:\\Users\\USER\\AppData\\Local\\r-miniconda\\Lib\\site-packages\\rich\\live.py:231: UserWarning: install \"ipywidgets\" for \n",
       "Jupyter support\n",
       "  warnings.warn('install \"ipywidgets\" for Jupyter support')\n"
      ]
     },
     "metadata": {},
     "output_type": "display_data"
    },
    {
     "data": {
      "text/html": [
       "<pre style=\"white-space:pre;overflow-x:auto;line-height:normal;font-family:Menlo,'DejaVu Sans Mono',consolas,'Courier New',monospace\"></pre>\n"
      ],
      "text/plain": []
     },
     "metadata": {},
     "output_type": "display_data"
    },
    {
     "name": "stderr",
     "output_type": "stream",
     "text": [
      "Sampling 2 chains for 500 tune and 500 draw iterations (1_000 + 1_000 draws total) took 148 seconds.\n",
      "We recommend running at least 4 chains for robust computation of convergence diagnostics\n"
     ]
    },
    {
     "name": "stdout",
     "output_type": "stream",
     "text": [
      "           mean     sd  hdi_2.5%  hdi_97.5%  mcse_mean  mcse_sd  ess_bulk  \\\n",
      "beta_int -0.364  0.700    -1.753      0.896      0.038    0.049     379.0   \n",
      "rho       0.050  0.370    -0.560      0.885      0.023    0.018     266.0   \n",
      "sigma     1.224  0.299     0.729      1.815      0.018    0.015     324.0   \n",
      "\n",
      "          ess_tail  r_hat  \n",
      "beta_int     382.0   1.00  \n",
      "rho          144.0   1.01  \n",
      "sigma        322.0   1.01  \n",
      "P(beta_int ≤ –0.5) = 41.10%\n",
      "P(–0.5 < beta_int < 0) = 33.00%\n",
      "P(beta_int ≥ 0) = 25.90%\n"
     ]
    },
    {
     "data": {
      "image/png": "[encoded data removed]",
      "text/plain": [
       "<Figure size 1000x400 with 2 Axes>"
      ]
     },
     "metadata": {},
     "output_type": "display_data"
    }
   ],
   "source": [
    "outcome_data = df_mea[df_mea['measurement_name'] == 'Outcome']\n",
    "data = (\n",
    "    outcome_data[['current_day_of_study', 'survey1_question1_response', 'current_intervention_name']]\n",
    "    .dropna()\n",
    "    .sort_values('current_day_of_study')\n",
    "    .reset_index(drop=True)\n",
    ")\n",
    "\n",
    "y      = data['survey1_question1_response'].values\n",
    "interv = (data['current_intervention_name'] == \"Listening to motivational podcasts!\").astype(int).values\n",
    "n      = len(data)\n",
    "\n",
    "mad = np.median(np.abs(y - np.median(y)))\n",
    "scale = max(mad, 2.0)\n",
    "\n",
    "with pm.Model() as model:\n",
    "    beta0    = pm.StudentT('beta0',    nu=3, mu=0, sigma=scale)   \n",
    "    beta_int = pm.StudentT('beta_int', nu=3, mu=0, sigma=scale)   \n",
    "    rho      = pm.Uniform('rho',       lower=-1, upper=1)         \n",
    "    sigma    = pm.HalfStudentT('sigma', nu=3, sigma=scale)        \n",
    "\n",
    "    mu = beta0 + beta_int * interv\n",
    "\n",
    "    pm.Normal('y_0', mu=mu[0], sigma=sigma, observed=y[0])\n",
    "\n",
    "    for t in range(1, n):\n",
    "        adjustment = rho * (y[t-1] - mu[t-1])\n",
    "        pm.Normal(f'y_{t}', mu=mu[t] + adjustment, sigma=sigma, observed=y[t])\n",
    "\n",
    "    trace = pm.sample(\n",
    "        draws=500,\n",
    "        tune=500,\n",
    "        chains=2,\n",
    "        target_accept=0.9,\n",
    "        return_inferencedata=True\n",
    "    )\n",
    "\n",
    "summary = az.summary(trace, var_names=['beta_int', 'rho', 'sigma'], hdi_prob=0.95)\n",
    "print(summary)\n",
    "\n",
    "beta_samples = trace.posterior['beta_int'].values.flatten()\n",
    "\n",
    "p_le_neg05 = (beta_samples <= -0.5).mean()\n",
    "p_between  = ((beta_samples > -0.5) & (beta_samples < 0)).mean()\n",
    "p_ge0      = (beta_samples >= 0).mean()\n",
    "\n",
    "print(f\"P(beta_int ≤ –0.5) = {p_le_neg05:.2%}\")\n",
    "print(f\"P(–0.5 < beta_int < 0) = {p_between:.2%}\")\n",
    "print(f\"P(beta_int ≥ 0) = {p_ge0:.2%}\")\n",
    "\n",
    "mean_beta = summary.loc['beta_int', 'mean']\n",
    "hdi_low   = summary.loc['beta_int', 'hdi_2.5%']\n",
    "hdi_high  = summary.loc['beta_int', 'hdi_97.5%']\n",
    "\n",
    "fig, axes = plt.subplots(1, 2, figsize=(10, 4), gridspec_kw={'width_ratios': [1, 1]})\n",
    "\n",
    "ax = axes[0]\n",
    "ax.errorbar(0, mean_beta,\n",
    "            yerr=[[mean_beta - hdi_low], [hdi_high - mean_beta]],\n",
    "            fmt='o', capsize=5, color='black')\n",
    "ax.axhline(0, color='gray', linestyle='--')\n",
    "ax.set_xticks([0])\n",
    "ax.set_xticklabels(['Listening to motivational podcasts effect'])\n",
    "ax.set_ylabel('Stress reduction (points)')\n",
    "ax.set_title('A. Posterior mean ± 95% CI', loc='left', pad=10, fontsize=12, fontweight='bold')\n",
    "\n",
    "ax = axes[1]\n",
    "ax.bar(0, p_le_neg05, width=0.6, color='darkgreen',  label='Effect ≤ –0.5')\n",
    "ax.bar(0, p_between,  width=0.6, bottom=p_le_neg05, color='lightgreen', label='–0.5 < Effect < 0')\n",
    "ax.bar(0, p_ge0,      width=0.6, bottom=p_le_neg05+p_between, color='gold', label='Effect ≥ 0')\n",
    "ax.axhline(0.7, color='gray', linestyle='--', label='Responder threshold (0.7)')\n",
    "ax.set_xticks([0])\n",
    "ax.set_xticklabels(['Posterior mass'])\n",
    "ax.set_ylim(0, 1)\n",
    "ax.set_ylabel('Probability')\n",
    "ax.set_title('B. Distribution of effect size', loc='left', pad=10, fontsize=12, fontweight='bold')\n",
    "ax.legend(loc='upper right', fontsize=8)\n",
    "\n",
    "plt.tight_layout()\n",
    "plt.show()"
   ]
  },
  {
   "cell_type": "markdown",
   "id": "d16038ff",
   "metadata": {},
   "source": [
    "#### Bayesian AR(1) Regression with Consecutive‐Day Adjustment"
   ]
  },
  {
   "cell_type": "code",
   "execution_count": 33,
   "id": "27a289ea",
   "metadata": {},
   "outputs": [
    {
     "name": "stdout",
     "output_type": "stream",
     "text": [
      "Only intervention:\n"
     ]
    },
    {
     "name": "stderr",
     "output_type": "stream",
     "text": [
      "c:\\Users\\USER\\AppData\\Local\\r-miniconda\\Lib\\site-packages\\pymc\\model\\core.py:1300: ImputationWarning: Data in y_obs contains missing values and will be automatically imputed from the sampling distribution.\n",
      "  warnings.warn(impute_message, ImputationWarning)\n",
      "Initializing NUTS using jitter+adapt_diag...\n",
      "Multiprocess sampling (2 chains in 2 jobs)\n",
      "NUTS: [beta0, beta_int, rho, sigma, y_obs_unobserved]\n"
     ]
    },
    {
     "data": {
      "text/html": [
       "<pre style=\"white-space:pre;overflow-x:auto;line-height:normal;font-family:Menlo,'DejaVu Sans Mono',consolas,'Courier New',monospace\">c:\\Users\\USER\\AppData\\Local\\r-miniconda\\Lib\\site-packages\\rich\\live.py:231: UserWarning: install \"ipywidgets\" for \n",
       "Jupyter support\n",
       "  warnings.warn('install \"ipywidgets\" for Jupyter support')\n",
       "</pre>\n"
      ],
      "text/plain": [
       "c:\\Users\\USER\\AppData\\Local\\r-miniconda\\Lib\\site-packages\\rich\\live.py:231: UserWarning: install \"ipywidgets\" for \n",
       "Jupyter support\n",
       "  warnings.warn('install \"ipywidgets\" for Jupyter support')\n"
      ]
     },
     "metadata": {},
     "output_type": "display_data"
    },
    {
     "data": {
      "text/html": [
       "<pre style=\"white-space:pre;overflow-x:auto;line-height:normal;font-family:Menlo,'DejaVu Sans Mono',consolas,'Courier New',monospace\"></pre>\n"
      ],
      "text/plain": []
     },
     "metadata": {},
     "output_type": "display_data"
    },
    {
     "name": "stderr",
     "output_type": "stream",
     "text": [
      "Sampling 2 chains for 500 tune and 500 draw iterations (1_000 + 1_000 draws total) took 111 seconds.\n",
      "We recommend running at least 4 chains for robust computation of convergence diagnostics\n"
     ]
    },
    {
     "name": "stdout",
     "output_type": "stream",
     "text": [
      "           mean     sd  hdi_2.5%  hdi_97.5%  mcse_mean  mcse_sd  ess_bulk  \\\n",
      "beta_int -0.421  0.517    -1.466      0.541      0.022    0.015     541.0   \n",
      "rho       0.131  0.343    -0.484      0.829      0.013    0.011     679.0   \n",
      "sigma     1.140  0.236     0.732      1.598      0.010    0.010     607.0   \n",
      "\n",
      "          ess_tail  r_hat  \n",
      "beta_int     592.0    1.0  \n",
      "rho          495.0    1.0  \n",
      "sigma        630.0    1.0  \n",
      "P(intervention reduces stress by ≥ 0.5 points) = 44.40%\n",
      "P(beta_int ≤ –0.5) = 44.40%\n",
      "P(–0.5 < beta_int < 0) = 34.10%\n",
      "P(beta_int ≥ 0) = 21.50%\n"
     ]
    },
    {
     "data": {
      "image/png": "[encoded data removed]",
      "text/plain": [
       "<Figure size 1000x400 with 2 Axes>"
      ]
     },
     "metadata": {},
     "output_type": "display_data"
    },
    {
     "name": "stdout",
     "output_type": "stream",
     "text": [
      "\n",
      "Intervention + fac1:\n"
     ]
    },
    {
     "name": "stderr",
     "output_type": "stream",
     "text": [
      "c:\\Users\\USER\\AppData\\Local\\r-miniconda\\Lib\\site-packages\\pymc\\model\\core.py:1300: ImputationWarning: Data in y_obs contains missing values and will be automatically imputed from the sampling distribution.\n",
      "  warnings.warn(impute_message, ImputationWarning)\n",
      "Initializing NUTS using jitter+adapt_diag...\n",
      "Multiprocess sampling (2 chains in 2 jobs)\n",
      "NUTS: [beta0, beta_int, beta_f1, rho, sigma, y_obs_unobserved]\n"
     ]
    },
    {
     "data": {
      "text/html": [
       "<pre style=\"white-space:pre;overflow-x:auto;line-height:normal;font-family:Menlo,'DejaVu Sans Mono',consolas,'Courier New',monospace\">c:\\Users\\USER\\AppData\\Local\\r-miniconda\\Lib\\site-packages\\rich\\live.py:231: UserWarning: install \"ipywidgets\" for \n",
       "Jupyter support\n",
       "  warnings.warn('install \"ipywidgets\" for Jupyter support')\n",
       "</pre>\n"
      ],
      "text/plain": [
       "c:\\Users\\USER\\AppData\\Local\\r-miniconda\\Lib\\site-packages\\rich\\live.py:231: UserWarning: install \"ipywidgets\" for \n",
       "Jupyter support\n",
       "  warnings.warn('install \"ipywidgets\" for Jupyter support')\n"
      ]
     },
     "metadata": {},
     "output_type": "display_data"
    },
    {
     "data": {
      "text/html": [
       "<pre style=\"white-space:pre;overflow-x:auto;line-height:normal;font-family:Menlo,'DejaVu Sans Mono',consolas,'Courier New',monospace\"></pre>\n"
      ],
      "text/plain": []
     },
     "metadata": {},
     "output_type": "display_data"
    },
    {
     "name": "stderr",
     "output_type": "stream",
     "text": [
      "Sampling 2 chains for 500 tune and 500 draw iterations (1_000 + 1_000 draws total) took 431 seconds.\n",
      "We recommend running at least 4 chains for robust computation of convergence diagnostics\n"
     ]
    },
    {
     "name": "stdout",
     "output_type": "stream",
     "text": [
      "           mean     sd  hdi_2.5%  hdi_97.5%  mcse_mean  mcse_sd  ess_bulk  \\\n",
      "beta_int  0.173  0.531    -0.785      1.220      0.026    0.020     422.0   \n",
      "rho       0.448  0.317    -0.117      1.000      0.014    0.011     437.0   \n",
      "sigma     0.929  0.191     0.602      1.295      0.008    0.008     503.0   \n",
      "beta_f1   0.938  0.326     0.279      1.539      0.018    0.012     333.0   \n",
      "\n",
      "          ess_tail  r_hat  \n",
      "beta_int     518.0   1.00  \n",
      "rho          281.0   1.01  \n",
      "sigma        586.0   1.00  \n",
      "beta_f1      495.0   1.01  \n",
      "P(intervention reduces stress by ≥ 0.5 points) = 9.30%\n",
      "P(beta_int ≤ –0.5) = 9.30%\n",
      "P(–0.5 < beta_int < 0) = 29.00%\n",
      "P(beta_int ≥ 0) = 61.70%\n"
     ]
    },
    {
     "data": {
      "image/png": "[encoded data removed]",
      "text/plain": [
       "<Figure size 1000x400 with 2 Axes>"
      ]
     },
     "metadata": {},
     "output_type": "display_data"
    },
    {
     "name": "stdout",
     "output_type": "stream",
     "text": [
      "\n",
      "Intervention + fac2:\n"
     ]
    },
    {
     "name": "stderr",
     "output_type": "stream",
     "text": [
      "c:\\Users\\USER\\AppData\\Local\\r-miniconda\\Lib\\site-packages\\pymc\\model\\core.py:1300: ImputationWarning: Data in y_obs contains missing values and will be automatically imputed from the sampling distribution.\n",
      "  warnings.warn(impute_message, ImputationWarning)\n",
      "Initializing NUTS using jitter+adapt_diag...\n",
      "Multiprocess sampling (2 chains in 2 jobs)\n",
      "NUTS: [beta0, beta_int, beta_f2, rho, sigma, y_obs_unobserved]\n"
     ]
    },
    {
     "data": {
      "text/html": [
       "<pre style=\"white-space:pre;overflow-x:auto;line-height:normal;font-family:Menlo,'DejaVu Sans Mono',consolas,'Courier New',monospace\">c:\\Users\\USER\\AppData\\Local\\r-miniconda\\Lib\\site-packages\\rich\\live.py:231: UserWarning: install \"ipywidgets\" for \n",
       "Jupyter support\n",
       "  warnings.warn('install \"ipywidgets\" for Jupyter support')\n",
       "</pre>\n"
      ],
      "text/plain": [
       "c:\\Users\\USER\\AppData\\Local\\r-miniconda\\Lib\\site-packages\\rich\\live.py:231: UserWarning: install \"ipywidgets\" for \n",
       "Jupyter support\n",
       "  warnings.warn('install \"ipywidgets\" for Jupyter support')\n"
      ]
     },
     "metadata": {},
     "output_type": "display_data"
    },
    {
     "data": {
      "text/html": [
       "<pre style=\"white-space:pre;overflow-x:auto;line-height:normal;font-family:Menlo,'DejaVu Sans Mono',consolas,'Courier New',monospace\"></pre>\n"
      ],
      "text/plain": []
     },
     "metadata": {},
     "output_type": "display_data"
    },
    {
     "name": "stderr",
     "output_type": "stream",
     "text": [
      "Sampling 2 chains for 500 tune and 500 draw iterations (1_000 + 1_000 draws total) took 432 seconds.\n",
      "We recommend running at least 4 chains for robust computation of convergence diagnostics\n"
     ]
    },
    {
     "name": "stdout",
     "output_type": "stream",
     "text": [
      "           mean     sd  hdi_2.5%  hdi_97.5%  mcse_mean  mcse_sd  ess_bulk  \\\n",
      "beta_int -0.073  0.663    -1.372      1.243      0.032    0.025     424.0   \n",
      "rho       0.105  0.348    -0.484      0.830      0.018    0.016     350.0   \n",
      "sigma     1.144  0.231     0.744      1.578      0.011    0.008     520.0   \n",
      "beta_f2   0.369  0.366    -0.344      1.019      0.021    0.015     296.0   \n",
      "\n",
      "          ess_tail  r_hat  \n",
      "beta_int     435.0   1.01  \n",
      "rho          207.0   1.00  \n",
      "sigma        610.0   1.01  \n",
      "beta_f2      301.0   1.00  \n",
      "P(intervention reduces stress by ≥ 0.5 points) = 27.00%\n",
      "P(beta_int ≤ –0.5) = 27.00%\n",
      "P(–0.5 < beta_int < 0) = 28.20%\n",
      "P(beta_int ≥ 0) = 44.80%\n"
     ]
    },
    {
     "data": {
      "image/png": "[encoded data removed]",
      "text/plain": [
       "<Figure size 1000x400 with 2 Axes>"
      ]
     },
     "metadata": {},
     "output_type": "display_data"
    },
    {
     "name": "stdout",
     "output_type": "stream",
     "text": [
      "\n",
      "Intervention + fac1 + fac2:\n"
     ]
    },
    {
     "name": "stderr",
     "output_type": "stream",
     "text": [
      "c:\\Users\\USER\\AppData\\Local\\r-miniconda\\Lib\\site-packages\\pymc\\model\\core.py:1300: ImputationWarning: Data in y_obs contains missing values and will be automatically imputed from the sampling distribution.\n",
      "  warnings.warn(impute_message, ImputationWarning)\n",
      "Initializing NUTS using jitter+adapt_diag...\n",
      "Multiprocess sampling (2 chains in 2 jobs)\n",
      "NUTS: [beta0, beta_int, beta_f1, beta_f2, rho, sigma, y_obs_unobserved]\n"
     ]
    },
    {
     "data": {
      "text/html": [
       "<pre style=\"white-space:pre;overflow-x:auto;line-height:normal;font-family:Menlo,'DejaVu Sans Mono',consolas,'Courier New',monospace\">c:\\Users\\USER\\AppData\\Local\\r-miniconda\\Lib\\site-packages\\rich\\live.py:231: UserWarning: install \"ipywidgets\" for \n",
       "Jupyter support\n",
       "  warnings.warn('install \"ipywidgets\" for Jupyter support')\n",
       "</pre>\n"
      ],
      "text/plain": [
       "c:\\Users\\USER\\AppData\\Local\\r-miniconda\\Lib\\site-packages\\rich\\live.py:231: UserWarning: install \"ipywidgets\" for \n",
       "Jupyter support\n",
       "  warnings.warn('install \"ipywidgets\" for Jupyter support')\n"
      ]
     },
     "metadata": {},
     "output_type": "display_data"
    },
    {
     "data": {
      "text/html": [
       "<pre style=\"white-space:pre;overflow-x:auto;line-height:normal;font-family:Menlo,'DejaVu Sans Mono',consolas,'Courier New',monospace\"></pre>\n"
      ],
      "text/plain": []
     },
     "metadata": {},
     "output_type": "display_data"
    },
    {
     "name": "stderr",
     "output_type": "stream",
     "text": [
      "Sampling 2 chains for 500 tune and 500 draw iterations (1_000 + 1_000 draws total) took 449 seconds.\n",
      "There was 1 divergence after tuning. Increase `target_accept` or reparameterize.\n",
      "We recommend running at least 4 chains for robust computation of convergence diagnostics\n"
     ]
    },
    {
     "name": "stdout",
     "output_type": "stream",
     "text": [
      "           mean     sd  hdi_2.5%  hdi_97.5%  mcse_mean  mcse_sd  ess_bulk  \\\n",
      "beta_int  0.259  0.590    -0.799      1.416      0.028    0.019     452.0   \n",
      "rho       0.412  0.324    -0.194      0.967      0.015    0.011     470.0   \n",
      "sigma     0.988  0.217     0.625      1.410      0.011    0.009     420.0   \n",
      "beta_f1   0.919  0.405     0.143      1.699      0.022    0.017     342.0   \n",
      "beta_f2   0.110  0.355    -0.595      0.751      0.016    0.017     476.0   \n",
      "\n",
      "          ess_tail  r_hat  \n",
      "beta_int     619.0    1.0  \n",
      "rho          584.0    1.0  \n",
      "sigma        543.0    1.0  \n",
      "beta_f1      478.0    1.0  \n",
      "beta_f2      481.0    1.0  \n",
      "P(intervention reduces stress by ≥ 0.5 points) = 10.50%\n",
      "P(beta_int ≤ –0.5) = 10.50%\n",
      "P(–0.5 < beta_int < 0) = 21.60%\n",
      "P(beta_int ≥ 0) = 67.90%\n"
     ]
    },
    {
     "data": {
      "image/png": "[encoded data removed]",
      "text/plain": [
       "<Figure size 1000x400 with 2 Axes>"
      ]
     },
     "metadata": {},
     "output_type": "display_data"
    },
    {
     "data": {
      "text/plain": [
       "(Inference data with groups:\n",
       " \t> posterior\n",
       " \t> sample_stats\n",
       " \t> observed_data,\n",
       "            mean     sd  hdi_2.5%  hdi_97.5%  mcse_mean  mcse_sd  ess_bulk  \\\n",
       " beta_int  0.259  0.590    -0.799      1.416      0.028    0.019     452.0   \n",
       " rho       0.412  0.324    -0.194      0.967      0.015    0.011     470.0   \n",
       " sigma     0.988  0.217     0.625      1.410      0.011    0.009     420.0   \n",
       " beta_f1   0.919  0.405     0.143      1.699      0.022    0.017     342.0   \n",
       " beta_f2   0.110  0.355    -0.595      0.751      0.016    0.017     476.0   \n",
       " \n",
       "           ess_tail  r_hat  \n",
       " beta_int     619.0    1.0  \n",
       " rho          584.0    1.0  \n",
       " sigma        543.0    1.0  \n",
       " beta_f1      478.0    1.0  \n",
       " beta_f2      481.0    1.0  )"
      ]
     },
     "execution_count": 33,
     "metadata": {},
     "output_type": "execute_result"
    }
   ],
   "source": [
    "def run_ar1_model(df_mea, use_fac1=False, use_fac2=False):\n",
    "    days_full = pd.DataFrame({'current_day_of_study': np.arange(0, 16)})\n",
    "\n",
    "    outcome_data = df_mea[df_mea['measurement_name'] == 'Outcome'][\n",
    "        ['current_day_of_study',\n",
    "         'survey1_question1_response',   \n",
    "         'current_intervention_name']\n",
    "    ]\n",
    "    mediator_data = df_mea[df_mea['measurement_name'] == 'Mediators'][\n",
    "        ['current_day_of_study',\n",
    "         'survey2_question1_response',   \n",
    "         'survey2_question2_response']   \n",
    "    ]\n",
    "\n",
    "    data = (\n",
    "        days_full\n",
    "        .merge(outcome_data,  on='current_day_of_study', how='left')\n",
    "        .merge(mediator_data, on='current_day_of_study', how='left')\n",
    "        .sort_values('current_day_of_study')\n",
    "        .reset_index(drop=True)\n",
    "    )\n",
    "\n",
    "    days   = data['current_day_of_study'].values\n",
    "    y      = data['survey1_question1_response'].values.astype(float)  \n",
    "    n      = len(y)  \n",
    "\n",
    "    interv = (data['current_intervention_name'] == \"Listening to motivational podcasts!\").astype(float).fillna(0).values\n",
    "\n",
    "    if use_fac1:\n",
    "        fac1 = data['survey2_question1_response'].values.astype(float)\n",
    "        fac1 = np.nan_to_num(fac1, nan=0.0)\n",
    "    else:\n",
    "        fac1 = np.zeros_like(days, dtype=float)\n",
    "\n",
    "    if use_fac2:\n",
    "        fac2 = data['survey2_question2_response'].values.astype(float)\n",
    "        fac2 = np.nan_to_num(fac2, nan=0.0)\n",
    "    else:\n",
    "        fac2 = np.zeros_like(days, dtype=float)\n",
    "\n",
    "    obs_mask = ~np.isnan(y)\n",
    "    consec   = np.zeros(n, dtype=float)\n",
    "    consec[1:] = (obs_mask[1:] & obs_mask[:-1]).astype(float)\n",
    "\n",
    "    with pm.Model() as model:\n",
    "        beta0    = pm.Normal('beta0',    mu=0, sigma=10)\n",
    "        beta_int = pm.Normal('beta_int', mu=0, sigma=1)\n",
    "        if use_fac1:\n",
    "            beta_f1  = pm.Normal('beta_f1',  mu=0, sigma=10)\n",
    "        if use_fac2:\n",
    "            beta_f2  = pm.Normal('beta_f2',  mu=0, sigma=10)\n",
    "        rho      = pm.Uniform('rho',     lower=-1, upper=1)\n",
    "        sigma    = pm.HalfNormal('sigma', sigma=1)\n",
    "\n",
    "        mu = beta0 + beta_int * interv\n",
    "        if use_fac1:\n",
    "            mu = mu + beta_f1 * fac1\n",
    "        if use_fac2:\n",
    "            mu = mu + beta_f2 * fac2\n",
    "\n",
    "        y_tt      = pt.constant(y)            \n",
    "        mu_tt     = mu\n",
    "        consec_tt = pt.constant(consec)\n",
    "\n",
    "        def ar1_step(y_prev, mu_prev, mu_curr, consec_prev, rho):\n",
    "            ar_term = pt.switch(pt.eq(consec_prev, 1.0), rho * (y_prev - mu_prev), 0.0)\n",
    "            return mu_curr + ar_term\n",
    "\n",
    "        y_pred_scan, _ = scan(\n",
    "            fn=ar1_step,\n",
    "            sequences=[y_tt[:-1], mu_tt[:-1], mu_tt[1:], consec_tt[:-1]],\n",
    "            non_sequences=[rho],\n",
    "            n_steps=n-1,\n",
    "            name=\"ar1_scan\"\n",
    "        )\n",
    "\n",
    "        y_pred = pt.concatenate([[mu_tt[0]], y_pred_scan], axis=0)\n",
    "\n",
    "        y_obs_masked = np.ma.masked_invalid(y)\n",
    "        pm.Normal('y_obs', mu=y_pred, sigma=sigma, observed=y_obs_masked)\n",
    "\n",
    "        trace = pm.sample(\n",
    "            draws=500,\n",
    "            tune=500,\n",
    "            chains=2,\n",
    "            target_accept=0.9,\n",
    "            return_inferencedata=True\n",
    "        )\n",
    "\n",
    "    var_names = ['beta_int', 'rho', 'sigma']\n",
    "    if use_fac1:\n",
    "        var_names.append('beta_f1')\n",
    "    if use_fac2:\n",
    "        var_names.append('beta_f2')\n",
    "\n",
    "    summary = az.summary(trace, var_names=var_names, hdi_prob=0.95)\n",
    "    print(summary)\n",
    "\n",
    "    prob_responder = (trace.posterior['beta_int'] < -0.5).mean().item()\n",
    "    print(f\"P(intervention reduces stress by ≥ 0.5 points) = {prob_responder:.2%}\")\n",
    "\n",
    "    beta_samples = trace.posterior['beta_int'].values.flatten()\n",
    "    p_le_neg05 = (beta_samples <= -0.5).mean()\n",
    "    p_between  = ((beta_samples > -0.5) & (beta_samples < 0)).mean()\n",
    "    p_ge0      = (beta_samples >= 0).mean()\n",
    "\n",
    "    print(f\"P(beta_int ≤ –0.5) = {p_le_neg05:.2%}\")\n",
    "    print(f\"P(–0.5 < beta_int < 0) = {p_between:.2%}\")\n",
    "    print(f\"P(beta_int ≥ 0) = {p_ge0:.2%}\")\n",
    "\n",
    "    mean_beta = summary.loc['beta_int', 'mean']\n",
    "    hdi_low   = summary.loc['beta_int', 'hdi_2.5%']\n",
    "    hdi_high  = summary.loc['beta_int', 'hdi_97.5%']\n",
    "\n",
    "    fig, axes = plt.subplots(1, 2, figsize=(10, 4),\n",
    "                             gridspec_kw={'width_ratios': [1, 1]})\n",
    "\n",
    "    ax = axes[0]\n",
    "    ax.errorbar(0, mean_beta,\n",
    "                yerr=[[mean_beta - hdi_low], [hdi_high - mean_beta]],\n",
    "                fmt='o', capsize=5, color='black')\n",
    "    ax.axhline(0, color='gray', linestyle='--')\n",
    "    ax.set_xticks([0])\n",
    "    ax.set_xticklabels([\"Listening to motivational podcasts effect\"])\n",
    "    ax.set_ylabel('Stress reduction (points)')\n",
    "    ax.set_title('A. Posterior mean ± 95% CI', loc='left',\n",
    "                 pad=10, fontsize=12, fontweight='bold')\n",
    "\n",
    "    ax = axes[1]\n",
    "    ax.bar(0, p_le_neg05,    width=0.6, color='darkgreen',  label='≤ –0.5')\n",
    "    ax.bar(0, p_between,     width=0.6, bottom=p_le_neg05, color='lightgreen', label='–0.5 < β < 0')\n",
    "    ax.bar(0, p_ge0,         width=0.6, bottom=p_le_neg05+p_between, color='gold',       label='≥ 0')\n",
    "    ax.axhline(0.7, color='gray', linestyle='--', label='Responder thresh.')\n",
    "    ax.set_xticks([0])\n",
    "    ax.set_xticklabels(['Posterior mass'])\n",
    "    ax.set_ylim(0, 1)\n",
    "    ax.set_ylabel('Probability')\n",
    "    ax.set_title('B. Distribution of effect size', loc='left',\n",
    "                 pad=10, fontsize=12, fontweight='bold')\n",
    "    ax.legend(loc='upper right', fontsize=8)\n",
    "\n",
    "    plt.tight_layout()\n",
    "    plt.show()\n",
    "\n",
    "    return trace, summary\n",
    "\n",
    "print(\"Only intervention:\")\n",
    "run_ar1_model(df_mea, use_fac1=False, use_fac2=False)\n",
    "\n",
    "print(\"\\nIntervention + fac1:\")\n",
    "run_ar1_model(df_mea, use_fac1=True, use_fac2=False)\n",
    "\n",
    "print(\"\\nIntervention + fac2:\")\n",
    "run_ar1_model(df_mea, use_fac1=False, use_fac2=True)\n",
    "\n",
    "print(\"\\nIntervention + fac1 + fac2:\")\n",
    "run_ar1_model(df_mea, use_fac1=True, use_fac2=True)"
   ]
  },
  {
   "cell_type": "markdown",
   "id": "0b89c35e",
   "metadata": {},
   "source": [
    "#### Bayesian AR(1) Model of Daily Stress Response to Listening to motivational podcasts and Mediators - Mean Imputation Method"
   ]
  },
  {
   "cell_type": "code",
   "execution_count": 34,
   "id": "6151aa78",
   "metadata": {},
   "outputs": [
    {
     "name": "stderr",
     "output_type": "stream",
     "text": [
      "C:\\Users\\USER\\AppData\\Local\\Temp\\ipykernel_20080\\224566006.py:12: FutureWarning: A value is trying to be set on a copy of a DataFrame or Series through chained assignment using an inplace method.\n",
      "The behavior will change in pandas 3.0. This inplace method will never work because the intermediate object on which we are setting values always behaves as a copy.\n",
      "\n",
      "For example, when doing 'df[col].method(value, inplace=True)', try using 'df.method({col: value}, inplace=True)' or df[col] = df[col].method(value) instead, to perform the operation inplace on the original object.\n",
      "\n",
      "\n",
      "  imputed_complete_o['measurement_name'].fillna('Outcome', inplace=True)\n",
      "C:\\Users\\USER\\AppData\\Local\\Temp\\ipykernel_20080\\224566006.py:23: FutureWarning: A value is trying to be set on a copy of a DataFrame or Series through chained assignment using an inplace method.\n",
      "The behavior will change in pandas 3.0. This inplace method will never work because the intermediate object on which we are setting values always behaves as a copy.\n",
      "\n",
      "For example, when doing 'df[col].method(value, inplace=True)', try using 'df.method({col: value}, inplace=True)' or df[col] = df[col].method(value) instead, to perform the operation inplace on the original object.\n",
      "\n",
      "\n",
      "  imputed_complete_m['measurement_name'].fillna('Mediators', inplace=True)\n"
     ]
    }
   ],
   "source": [
    "imputed_data_o = df_mea[df_mea['measurement_name'] == 'Outcome'].copy()\n",
    "imputed_data_o['current_day_of_study'] = imputed_data_o['current_day_of_study'].astype(int)\n",
    "\n",
    "days = pd.DataFrame({'current_day_of_study': range(0, 16)})\n",
    "\n",
    "imputed_complete_o = days.merge(\n",
    "    imputed_data_o, \n",
    "    how='left', \n",
    "    on='current_day_of_study'\n",
    ")\n",
    "\n",
    "imputed_complete_o['measurement_name'].fillna('Outcome', inplace=True)\n",
    "\n",
    "imputed_data_m = df_mea[df_mea['measurement_name'] == 'Mediators'].copy()\n",
    "imputed_data_m['current_day_of_study'] = imputed_data_m['current_day_of_study'].astype(int)\n",
    "\n",
    "imputed_complete_m = days.merge(\n",
    "    imputed_data_m, \n",
    "    how='left', \n",
    "    on='current_day_of_study'\n",
    ")\n",
    "\n",
    "imputed_complete_m['measurement_name'].fillna('Mediators', inplace=True)"
   ]
  },
  {
   "cell_type": "code",
   "execution_count": 35,
   "id": "300d4794",
   "metadata": {},
   "outputs": [],
   "source": [
    "df_o = imputed_complete_o.copy()\n",
    "df_m = imputed_complete_m.copy()\n",
    "pattern = (\n",
    "    ['A'] * 4 +\n",
    "    ['B'] * 8 +\n",
    "    ['A'] * 4 \n",
    ")\n",
    "txt = {\n",
    "    'A': \"Listening to motivational podcasts!\",\n",
    "    'B': \"Not listening to motivational podcasts!\"\n",
    "}\n",
    "\n",
    "df_unique_o = (\n",
    "    df_o\n",
    "    .sort_values('current_day_of_study')       \n",
    "    .groupby('current_day_of_study', as_index=True)\n",
    "    .first()                                   \n",
    ")\n",
    "\n",
    "df_fill_o = (\n",
    "    df_unique_o\n",
    "    .reindex(range(0, 16))                     \n",
    "    .reset_index()                            \n",
    ")\n",
    "\n",
    "mask_o = df_fill_o['current_intervention_name'].isna()\n",
    "df_fill_o.loc[mask_o, 'current_intervention_name'] = (\n",
    "    df_fill_o.loc[mask_o, 'current_day_of_study']\n",
    "            .map(lambda day: txt[ pattern[int(day)] ])\n",
    ")\n",
    "df_unique_m = (\n",
    "    df_m\n",
    "    .sort_values('current_day_of_study')      \n",
    "    .groupby('current_day_of_study', as_index=True)\n",
    "    .first()                                   \n",
    ")\n",
    "\n",
    "df_fill_m = (\n",
    "    df_unique_m\n",
    "    .reindex(range(0, 16))                     \n",
    "    .reset_index()                             \n",
    ")\n",
    "\n",
    "mask_m = df_fill_m['current_intervention_name'].isna()\n",
    "df_fill_m.loc[mask_m, 'current_intervention_name'] = (\n",
    "    df_fill_m.loc[mask_m, 'current_day_of_study']\n",
    "            .map(lambda day: txt[ pattern[int(day)] ])\n",
    ")"
   ]
  },
  {
   "cell_type": "code",
   "execution_count": 36,
   "id": "179c5958",
   "metadata": {},
   "outputs": [],
   "source": [
    "df_mean_imp_o = df_fill_o.copy()\n",
    "df_mean_imp_m = df_fill_m.copy()\n",
    "\n",
    "df_mean_imp_o['survey1_question1_response'] = (\n",
    "    df_mean_imp_o\n",
    "    .groupby('current_intervention_name')['survey1_question1_response']\n",
    "    .transform(lambda grp: grp.fillna(grp.mean()))\n",
    ")\n",
    "cols_to_impute = [\n",
    "    'survey2_question1_response',\n",
    "    'survey2_question2_response'\n",
    "]\n",
    "\n",
    "for col in cols_to_impute:\n",
    "    df_mean_imp_m[col] = (\n",
    "        df_mean_imp_m\n",
    "        .groupby('current_intervention_name')[col]\n",
    "        .transform(lambda grp: grp.fillna(grp.mean()))\n",
    "    )"
   ]
  },
  {
   "cell_type": "code",
   "execution_count": 37,
   "id": "eede7493",
   "metadata": {},
   "outputs": [
    {
     "name": "stdout",
     "output_type": "stream",
     "text": [
      "Model result with neither fac1 nor fac2 (intervention only):\n"
     ]
    },
    {
     "name": "stderr",
     "output_type": "stream",
     "text": [
      "Initializing NUTS using jitter+adapt_diag...\n",
      "c:\\Users\\USER\\AppData\\Local\\r-miniconda\\Lib\\site-packages\\pytensor\\tensor\\rewriting\\elemwise.py:954: UserWarning: Loop fusion failed because the resulting node would exceed the kernel argument limit.\n",
      "  warn(\n",
      "Multiprocess sampling (2 chains in 2 jobs)\n",
      "NUTS: [beta0, beta_int, rho, sigma]\n"
     ]
    },
    {
     "data": {
      "text/html": [
       "<pre style=\"white-space:pre;overflow-x:auto;line-height:normal;font-family:Menlo,'DejaVu Sans Mono',consolas,'Courier New',monospace\">c:\\Users\\USER\\AppData\\Local\\r-miniconda\\Lib\\site-packages\\rich\\live.py:231: UserWarning: install \"ipywidgets\" for \n",
       "Jupyter support\n",
       "  warnings.warn('install \"ipywidgets\" for Jupyter support')\n",
       "</pre>\n"
      ],
      "text/plain": [
       "c:\\Users\\USER\\AppData\\Local\\r-miniconda\\Lib\\site-packages\\rich\\live.py:231: UserWarning: install \"ipywidgets\" for \n",
       "Jupyter support\n",
       "  warnings.warn('install \"ipywidgets\" for Jupyter support')\n"
      ]
     },
     "metadata": {},
     "output_type": "display_data"
    },
    {
     "data": {
      "text/html": [
       "<pre style=\"white-space:pre;overflow-x:auto;line-height:normal;font-family:Menlo,'DejaVu Sans Mono',consolas,'Courier New',monospace\"></pre>\n"
      ],
      "text/plain": []
     },
     "metadata": {},
     "output_type": "display_data"
    },
    {
     "name": "stderr",
     "output_type": "stream",
     "text": [
      "Sampling 2 chains for 500 tune and 500 draw iterations (1_000 + 1_000 draws total) took 75 seconds.\n",
      "We recommend running at least 4 chains for robust computation of convergence diagnostics\n",
      "The rhat statistic is larger than 1.01 for some parameters. This indicates problems during sampling. See https://arxiv.org/abs/1903.08008 for details\n"
     ]
    },
    {
     "name": "stdout",
     "output_type": "stream",
     "text": [
      "           mean     sd  hdi_2.5%  hdi_97.5%  mcse_mean  mcse_sd  ess_bulk  \\\n",
      "beta_int -0.482  0.464    -1.412      0.394      0.022    0.017     442.0   \n",
      "rho      -0.075  0.337    -0.724      0.596      0.015    0.014     503.0   \n",
      "sigma     1.090  0.221     0.706      1.541      0.010    0.008     501.0   \n",
      "\n",
      "          ess_tail  r_hat  \n",
      "beta_int     454.0   1.00  \n",
      "rho          309.0   1.00  \n",
      "sigma        675.0   1.01  \n",
      "P(beta_int ≤ –0.5) = 45.60%\n",
      "P(–0.5 < beta_int < 0) = 40.60%\n",
      "P(beta_int ≥ 0) = 13.80%\n",
      "P(Stress reduction of listening to motivational podcasts ≥ 0.5) = 45.60%\n",
      "\n",
      "Model result with only fac1:\n"
     ]
    },
    {
     "name": "stderr",
     "output_type": "stream",
     "text": [
      "Initializing NUTS using jitter+adapt_diag...\n",
      "c:\\Users\\USER\\AppData\\Local\\r-miniconda\\Lib\\site-packages\\pytensor\\tensor\\rewriting\\elemwise.py:954: UserWarning: Loop fusion failed because the resulting node would exceed the kernel argument limit.\n",
      "  warn(\n",
      "Multiprocess sampling (2 chains in 2 jobs)\n",
      "NUTS: [beta0, beta_int, beta_f1, rho, sigma]\n"
     ]
    },
    {
     "data": {
      "text/html": [
       "<pre style=\"white-space:pre;overflow-x:auto;line-height:normal;font-family:Menlo,'DejaVu Sans Mono',consolas,'Courier New',monospace\">c:\\Users\\USER\\AppData\\Local\\r-miniconda\\Lib\\site-packages\\rich\\live.py:231: UserWarning: install \"ipywidgets\" for \n",
       "Jupyter support\n",
       "  warnings.warn('install \"ipywidgets\" for Jupyter support')\n",
       "</pre>\n"
      ],
      "text/plain": [
       "c:\\Users\\USER\\AppData\\Local\\r-miniconda\\Lib\\site-packages\\rich\\live.py:231: UserWarning: install \"ipywidgets\" for \n",
       "Jupyter support\n",
       "  warnings.warn('install \"ipywidgets\" for Jupyter support')\n"
      ]
     },
     "metadata": {},
     "output_type": "display_data"
    },
    {
     "data": {
      "text/html": [
       "<pre style=\"white-space:pre;overflow-x:auto;line-height:normal;font-family:Menlo,'DejaVu Sans Mono',consolas,'Courier New',monospace\"></pre>\n"
      ],
      "text/plain": []
     },
     "metadata": {},
     "output_type": "display_data"
    },
    {
     "name": "stderr",
     "output_type": "stream",
     "text": [
      "Sampling 2 chains for 500 tune and 500 draw iterations (1_000 + 1_000 draws total) took 338 seconds.\n",
      "There were 3 divergences after tuning. Increase `target_accept` or reparameterize.\n",
      "We recommend running at least 4 chains for robust computation of convergence diagnostics\n",
      "The rhat statistic is larger than 1.01 for some parameters. This indicates problems during sampling. See https://arxiv.org/abs/1903.08008 for details\n",
      "The effective sample size per chain is smaller than 100 for some parameters.  A higher number is needed for reliable rhat and ess computation. See https://arxiv.org/abs/1903.08008 for details\n"
     ]
    },
    {
     "name": "stdout",
     "output_type": "stream",
     "text": [
      "           mean     sd  hdi_2.5%  hdi_97.5%  mcse_mean  mcse_sd  ess_bulk  \\\n",
      "beta_int  0.054  0.521    -0.871      1.083      0.025    0.017     435.0   \n",
      "beta_f1   0.849  0.361     0.195      1.578      0.027    0.012     177.0   \n",
      "rho       0.282  0.382    -0.342      0.989      0.031    0.017     156.0   \n",
      "sigma     0.961  0.196     0.632      1.332      0.011    0.012     356.0   \n",
      "\n",
      "          ess_tail  r_hat  \n",
      "beta_int     710.0   1.00  \n",
      "beta_f1      458.0   1.02  \n",
      "rho          264.0   1.02  \n",
      "sigma        349.0   1.00  \n",
      "P(beta_int ≤ –0.5) = 15.10%\n",
      "P(–0.5 < beta_int < 0) = 30.70%\n",
      "P(beta_int ≥ 0) = 54.20%\n",
      "P(Stress reduction of listening to motivational podcasts ≥ 0.5) = 15.10%\n",
      "\n",
      "Model result with only fac2:\n"
     ]
    },
    {
     "name": "stderr",
     "output_type": "stream",
     "text": [
      "Initializing NUTS using jitter+adapt_diag...\n",
      "c:\\Users\\USER\\AppData\\Local\\r-miniconda\\Lib\\site-packages\\pytensor\\tensor\\rewriting\\elemwise.py:954: UserWarning: Loop fusion failed because the resulting node would exceed the kernel argument limit.\n",
      "  warn(\n",
      "Multiprocess sampling (2 chains in 2 jobs)\n",
      "NUTS: [beta0, beta_int, beta_f2, rho, sigma]\n"
     ]
    },
    {
     "data": {
      "text/html": [
       "<pre style=\"white-space:pre;overflow-x:auto;line-height:normal;font-family:Menlo,'DejaVu Sans Mono',consolas,'Courier New',monospace\">c:\\Users\\USER\\AppData\\Local\\r-miniconda\\Lib\\site-packages\\rich\\live.py:231: UserWarning: install \"ipywidgets\" for \n",
       "Jupyter support\n",
       "  warnings.warn('install \"ipywidgets\" for Jupyter support')\n",
       "</pre>\n"
      ],
      "text/plain": [
       "c:\\Users\\USER\\AppData\\Local\\r-miniconda\\Lib\\site-packages\\rich\\live.py:231: UserWarning: install \"ipywidgets\" for \n",
       "Jupyter support\n",
       "  warnings.warn('install \"ipywidgets\" for Jupyter support')\n"
      ]
     },
     "metadata": {},
     "output_type": "display_data"
    },
    {
     "data": {
      "text/html": [
       "<pre style=\"white-space:pre;overflow-x:auto;line-height:normal;font-family:Menlo,'DejaVu Sans Mono',consolas,'Courier New',monospace\"></pre>\n"
      ],
      "text/plain": []
     },
     "metadata": {},
     "output_type": "display_data"
    },
    {
     "name": "stderr",
     "output_type": "stream",
     "text": [
      "Sampling 2 chains for 500 tune and 500 draw iterations (1_000 + 1_000 draws total) took 382 seconds.\n",
      "We recommend running at least 4 chains for robust computation of convergence diagnostics\n",
      "The rhat statistic is larger than 1.01 for some parameters. This indicates problems during sampling. See https://arxiv.org/abs/1903.08008 for details\n"
     ]
    },
    {
     "name": "stdout",
     "output_type": "stream",
     "text": [
      "           mean     sd  hdi_2.5%  hdi_97.5%  mcse_mean  mcse_sd  ess_bulk  \\\n",
      "beta_int -0.189  0.639    -1.308      1.081      0.036    0.029     332.0   \n",
      "beta_f2   0.288  0.356    -0.340      1.052      0.024    0.017     221.0   \n",
      "rho      -0.044  0.309    -0.752      0.508      0.014    0.013     465.0   \n",
      "sigma     1.076  0.189     0.727      1.451      0.010    0.007     391.0   \n",
      "\n",
      "          ess_tail  r_hat  \n",
      "beta_int     362.0   1.00  \n",
      "beta_f2      214.0   1.01  \n",
      "rho          450.0   1.01  \n",
      "sigma        484.0   1.01  \n",
      "P(beta_int ≤ –0.5) = 31.40%\n",
      "P(–0.5 < beta_int < 0) = 27.60%\n",
      "P(beta_int ≥ 0) = 41.00%\n",
      "P(Stress reduction of listening to motivational podcasts ≥ 0.5) = 31.40%\n",
      "\n",
      "Model result with both fac1 and fac2:\n"
     ]
    },
    {
     "name": "stderr",
     "output_type": "stream",
     "text": [
      "Initializing NUTS using jitter+adapt_diag...\n",
      "c:\\Users\\USER\\AppData\\Local\\r-miniconda\\Lib\\site-packages\\pytensor\\tensor\\rewriting\\elemwise.py:954: UserWarning: Loop fusion failed because the resulting node would exceed the kernel argument limit.\n",
      "  warn(\n",
      "Multiprocess sampling (2 chains in 2 jobs)\n",
      "NUTS: [beta0, beta_int, beta_f1, beta_f2, rho, sigma]\n"
     ]
    },
    {
     "data": {
      "text/html": [
       "<pre style=\"white-space:pre;overflow-x:auto;line-height:normal;font-family:Menlo,'DejaVu Sans Mono',consolas,'Courier New',monospace\">c:\\Users\\USER\\AppData\\Local\\r-miniconda\\Lib\\site-packages\\rich\\live.py:231: UserWarning: install \"ipywidgets\" for \n",
       "Jupyter support\n",
       "  warnings.warn('install \"ipywidgets\" for Jupyter support')\n",
       "</pre>\n"
      ],
      "text/plain": [
       "c:\\Users\\USER\\AppData\\Local\\r-miniconda\\Lib\\site-packages\\rich\\live.py:231: UserWarning: install \"ipywidgets\" for \n",
       "Jupyter support\n",
       "  warnings.warn('install \"ipywidgets\" for Jupyter support')\n"
      ]
     },
     "metadata": {},
     "output_type": "display_data"
    },
    {
     "data": {
      "text/html": [
       "<pre style=\"white-space:pre;overflow-x:auto;line-height:normal;font-family:Menlo,'DejaVu Sans Mono',consolas,'Courier New',monospace\"></pre>\n"
      ],
      "text/plain": []
     },
     "metadata": {},
     "output_type": "display_data"
    },
    {
     "name": "stderr",
     "output_type": "stream",
     "text": [
      "Sampling 2 chains for 500 tune and 500 draw iterations (1_000 + 1_000 draws total) took 501 seconds.\n",
      "There were 4 divergences after tuning. Increase `target_accept` or reparameterize.\n",
      "We recommend running at least 4 chains for robust computation of convergence diagnostics\n",
      "The rhat statistic is larger than 1.01 for some parameters. This indicates problems during sampling. See https://arxiv.org/abs/1903.08008 for details\n"
     ]
    },
    {
     "name": "stdout",
     "output_type": "stream",
     "text": [
      "           mean     sd  hdi_2.5%  hdi_97.5%  mcse_mean  mcse_sd  ess_bulk  \\\n",
      "beta_int  0.186  0.624    -1.077      1.399      0.029    0.024     443.0   \n",
      "beta_f1   0.843  0.371     0.140      1.529      0.021    0.011     308.0   \n",
      "beta_f2   0.139  0.305    -0.465      0.719      0.014    0.015     451.0   \n",
      "rho       0.282  0.388    -0.379      0.991      0.026    0.020     232.0   \n",
      "sigma     0.957  0.193     0.626      1.351      0.008    0.006     558.0   \n",
      "\n",
      "          ess_tail  r_hat  \n",
      "beta_int     556.0   1.00  \n",
      "beta_f1      450.0   1.01  \n",
      "beta_f2      507.0   1.01  \n",
      "rho          308.0   1.01  \n",
      "sigma        645.0   1.00  \n",
      "P(beta_int ≤ –0.5) = 12.90%\n",
      "P(–0.5 < beta_int < 0) = 23.70%\n",
      "P(beta_int ≥ 0) = 63.40%\n",
      "P(Stress reduction of listening to motivational podcasts ≥ 0.5) = 12.90%\n",
      "\n"
     ]
    }
   ],
   "source": [
    "def run_model(fac_cols, beta_names):\n",
    "    out = df_mean_imp_o.copy()\n",
    "    med = df_mean_imp_m.copy()\n",
    "  \n",
    "    data = (\n",
    "        pd.merge(\n",
    "            out[['current_day_of_study', 'survey1_question1_response', 'current_intervention_name']],\n",
    "            med[['current_day_of_study'] + fac_cols] if fac_cols else out[['current_day_of_study']],\n",
    "            on='current_day_of_study',\n",
    "            how='inner'\n",
    "        ).dropna().sort_values('current_day_of_study').reset_index(drop=True)\n",
    "    )\n",
    "    y = data['survey1_question1_response'].values\n",
    "    interv = (data['current_intervention_name'] == \"Listening to motivational podcasts!\").astype(int).values\n",
    "    n = len(data)\n",
    "    fac_arrays = [data[col].values for col in fac_cols] if fac_cols else []\n",
    "\n",
    "    with pm.Model() as model:\n",
    "        beta0 = pm.Normal('beta0', mu=0, sigma=10)\n",
    "        beta_int = pm.Normal('beta_int', mu=0, sigma=1)\n",
    "        betas = [pm.Normal(beta_name, mu=0, sigma=1) for beta_name in beta_names]\n",
    "        rho = pm.Uniform('rho', lower=-1, upper=1)\n",
    "        sigma = pm.HalfNormal('sigma', sigma=1)\n",
    "        mu = beta0 + beta_int * interv\n",
    "        for beta, fac in zip(betas, fac_arrays):\n",
    "            mu += beta * fac\n",
    "        pm.Normal('y_0', mu=mu[0], sigma=sigma, observed=y[0])\n",
    "        for t in range(1, n):\n",
    "            adjustment = rho * (y[t-1] - mu[t-1])\n",
    "            pm.Normal(f'y_{t}', mu=mu[t] + adjustment, sigma=sigma, observed=y[t])\n",
    "        trace = pm.sample(draws=500, tune=500, chains=2, target_accept=0.9, return_inferencedata=True)\n",
    "    summary = az.summary(trace, var_names=['beta_int'] + beta_names + ['rho', 'sigma'], hdi_prob=0.95)\n",
    "    print(summary)\n",
    "    beta_samples = trace.posterior['beta_int'].values.flatten()\n",
    "    p_le_neg05 = (beta_samples <= -0.5).mean()\n",
    "    p_between  = ((beta_samples > -0.5) & (beta_samples < 0)).mean()\n",
    "    p_ge0      = (beta_samples >= 0).mean()\n",
    "    print(f\"P(beta_int ≤ –0.5) = {p_le_neg05:.2%}\")\n",
    "    print(f\"P(–0.5 < beta_int < 0) = {p_between:.2%}\")\n",
    "    print(f\"P(beta_int ≥ 0) = {p_ge0:.2%}\")\n",
    "    prob = (trace.posterior['beta_int'] < -0.5).mean().item()\n",
    "    print(f\"P(Stress reduction of listening to motivational podcasts ≥ 0.5) = {prob:.2%}\\n\")\n",
    "\n",
    "print(\"Model result with neither fac1 nor fac2 (intervention only):\")\n",
    "run_model([], [])\n",
    "\n",
    "print(\"Model result with only fac1:\")\n",
    "run_model(['survey2_question1_response'], ['beta_f1'])\n",
    "\n",
    "print(\"Model result with only fac2:\")\n",
    "run_model(['survey2_question2_response'], ['beta_f2'])\n",
    "\n",
    "print(\"Model result with both fac1 and fac2:\")\n",
    "run_model(['survey2_question1_response', 'survey2_question2_response'], ['beta_f1', 'beta_f2'])"
   ]
  },
  {
   "cell_type": "markdown",
   "id": "f8ef72d8",
   "metadata": {},
   "source": [
    "#### Bayesian AR(1) Model of Daily Stress Response to Listening to motivational podcasts and Mediators - Latent Variable Method"
   ]
  },
  {
   "cell_type": "code",
   "execution_count": 38,
   "id": "2fec1558",
   "metadata": {},
   "outputs": [
    {
     "name": "stdout",
     "output_type": "stream",
     "text": [
      "Model: Neither fac1 nor fac2 (intervention only)\n"
     ]
    },
    {
     "name": "stderr",
     "output_type": "stream",
     "text": [
      "Initializing NUTS using jitter+adapt_diag...\n",
      "Multiprocess sampling (2 chains in 2 jobs)\n",
      "NUTS: [beta0, beta_int, rho, sigma, y_latent]\n"
     ]
    },
    {
     "data": {
      "text/html": [
       "<pre style=\"white-space:pre;overflow-x:auto;line-height:normal;font-family:Menlo,'DejaVu Sans Mono',consolas,'Courier New',monospace\">c:\\Users\\USER\\AppData\\Local\\r-miniconda\\Lib\\site-packages\\rich\\live.py:231: UserWarning: install \"ipywidgets\" for \n",
       "Jupyter support\n",
       "  warnings.warn('install \"ipywidgets\" for Jupyter support')\n",
       "</pre>\n"
      ],
      "text/plain": [
       "c:\\Users\\USER\\AppData\\Local\\r-miniconda\\Lib\\site-packages\\rich\\live.py:231: UserWarning: install \"ipywidgets\" for \n",
       "Jupyter support\n",
       "  warnings.warn('install \"ipywidgets\" for Jupyter support')\n"
      ]
     },
     "metadata": {},
     "output_type": "display_data"
    },
    {
     "data": {
      "text/html": [
       "<pre style=\"white-space:pre;overflow-x:auto;line-height:normal;font-family:Menlo,'DejaVu Sans Mono',consolas,'Courier New',monospace\"></pre>\n"
      ],
      "text/plain": []
     },
     "metadata": {},
     "output_type": "display_data"
    },
    {
     "name": "stderr",
     "output_type": "stream",
     "text": [
      "Sampling 2 chains for 500 tune and 500 draw iterations (1_000 + 1_000 draws total) took 139 seconds.\n",
      "There were 2 divergences after tuning. Increase `target_accept` or reparameterize.\n",
      "We recommend running at least 4 chains for robust computation of convergence diagnostics\n",
      "The rhat statistic is larger than 1.01 for some parameters. This indicates problems during sampling. See https://arxiv.org/abs/1903.08008 for details\n",
      "The effective sample size per chain is smaller than 100 for some parameters.  A higher number is needed for reliable rhat and ess computation. See https://arxiv.org/abs/1903.08008 for details\n"
     ]
    },
    {
     "name": "stdout",
     "output_type": "stream",
     "text": [
      "           mean     sd  hdi_2.5%  hdi_97.5%  mcse_mean  mcse_sd  ess_bulk  \\\n",
      "beta_int -0.490  0.499    -1.479      0.532      0.025    0.021     408.0   \n",
      "rho      -0.008  0.270    -0.580      0.518      0.023    0.025     210.0   \n",
      "sigma     1.122  0.231     0.758      1.573      0.012    0.012     424.0   \n",
      "\n",
      "          ess_tail  r_hat  \n",
      "beta_int     465.0   1.01  \n",
      "rho          103.0   1.01  \n",
      "sigma        462.0   1.00  \n",
      "P(beta_int ≤ –0.5) = 48.10%\n",
      "P(–0.5 < beta_int < 0) = 37.20%\n",
      "P(beta_int ≥ 0) = 14.70%\n",
      "Model: Only fac1\n"
     ]
    },
    {
     "name": "stderr",
     "output_type": "stream",
     "text": [
      "Initializing NUTS using jitter+adapt_diag...\n",
      "Multiprocess sampling (2 chains in 2 jobs)\n",
      "NUTS: [beta0, beta_int, beta_f1, rho, sigma, y_latent]\n"
     ]
    },
    {
     "data": {
      "text/html": [
       "<pre style=\"white-space:pre;overflow-x:auto;line-height:normal;font-family:Menlo,'DejaVu Sans Mono',consolas,'Courier New',monospace\">c:\\Users\\USER\\AppData\\Local\\r-miniconda\\Lib\\site-packages\\rich\\live.py:231: UserWarning: install \"ipywidgets\" for \n",
       "Jupyter support\n",
       "  warnings.warn('install \"ipywidgets\" for Jupyter support')\n",
       "</pre>\n"
      ],
      "text/plain": [
       "c:\\Users\\USER\\AppData\\Local\\r-miniconda\\Lib\\site-packages\\rich\\live.py:231: UserWarning: install \"ipywidgets\" for \n",
       "Jupyter support\n",
       "  warnings.warn('install \"ipywidgets\" for Jupyter support')\n"
      ]
     },
     "metadata": {},
     "output_type": "display_data"
    },
    {
     "data": {
      "text/html": [
       "<pre style=\"white-space:pre;overflow-x:auto;line-height:normal;font-family:Menlo,'DejaVu Sans Mono',consolas,'Courier New',monospace\"></pre>\n"
      ],
      "text/plain": []
     },
     "metadata": {},
     "output_type": "display_data"
    },
    {
     "name": "stderr",
     "output_type": "stream",
     "text": [
      "Sampling 2 chains for 500 tune and 500 draw iterations (1_000 + 1_000 draws total) took 510 seconds.\n",
      "There were 4 divergences after tuning. Increase `target_accept` or reparameterize.\n",
      "We recommend running at least 4 chains for robust computation of convergence diagnostics\n"
     ]
    },
    {
     "name": "stdout",
     "output_type": "stream",
     "text": [
      "           mean     sd  hdi_2.5%  hdi_97.5%  mcse_mean  mcse_sd  ess_bulk  \\\n",
      "beta_int  0.061  0.540    -1.005      1.147      0.026    0.018     448.0   \n",
      "rho       0.179  0.338    -0.312      0.993      0.024    0.025     215.0   \n",
      "sigma     0.965  0.186     0.668      1.354      0.009    0.008     460.0   \n",
      "beta_f1   0.864  0.371     0.155      1.578      0.020    0.012     345.0   \n",
      "\n",
      "          ess_tail  r_hat  \n",
      "beta_int     475.0   1.01  \n",
      "rho          190.0   1.00  \n",
      "sigma        459.0   1.00  \n",
      "beta_f1      495.0   1.00  \n",
      "P(beta_int ≤ –0.5) = 15.00%\n",
      "P(–0.5 < beta_int < 0) = 30.70%\n",
      "P(beta_int ≥ 0) = 54.30%\n",
      "Model: Only fac2\n"
     ]
    },
    {
     "name": "stderr",
     "output_type": "stream",
     "text": [
      "Initializing NUTS using jitter+adapt_diag...\n",
      "Multiprocess sampling (2 chains in 2 jobs)\n",
      "NUTS: [beta0, beta_int, beta_f2, rho, sigma, y_latent]\n"
     ]
    },
    {
     "data": {
      "text/html": [
       "<pre style=\"white-space:pre;overflow-x:auto;line-height:normal;font-family:Menlo,'DejaVu Sans Mono',consolas,'Courier New',monospace\">c:\\Users\\USER\\AppData\\Local\\r-miniconda\\Lib\\site-packages\\rich\\live.py:231: UserWarning: install \"ipywidgets\" for \n",
       "Jupyter support\n",
       "  warnings.warn('install \"ipywidgets\" for Jupyter support')\n",
       "</pre>\n"
      ],
      "text/plain": [
       "c:\\Users\\USER\\AppData\\Local\\r-miniconda\\Lib\\site-packages\\rich\\live.py:231: UserWarning: install \"ipywidgets\" for \n",
       "Jupyter support\n",
       "  warnings.warn('install \"ipywidgets\" for Jupyter support')\n"
      ]
     },
     "metadata": {},
     "output_type": "display_data"
    },
    {
     "data": {
      "text/html": [
       "<pre style=\"white-space:pre;overflow-x:auto;line-height:normal;font-family:Menlo,'DejaVu Sans Mono',consolas,'Courier New',monospace\"></pre>\n"
      ],
      "text/plain": []
     },
     "metadata": {},
     "output_type": "display_data"
    },
    {
     "name": "stderr",
     "output_type": "stream",
     "text": [
      "Sampling 2 chains for 500 tune and 500 draw iterations (1_000 + 1_000 draws total) took 520 seconds.\n",
      "There were 2 divergences after tuning. Increase `target_accept` or reparameterize.\n",
      "We recommend running at least 4 chains for robust computation of convergence diagnostics\n"
     ]
    },
    {
     "name": "stdout",
     "output_type": "stream",
     "text": [
      "           mean     sd  hdi_2.5%  hdi_97.5%  mcse_mean  mcse_sd  ess_bulk  \\\n",
      "beta_int -0.106  0.625    -1.204      1.158      0.034    0.018     340.0   \n",
      "rho       0.004  0.252    -0.544      0.488      0.015    0.015     306.0   \n",
      "sigma     1.118  0.222     0.732      1.569      0.013    0.008     275.0   \n",
      "beta_f2   0.397  0.375    -0.296      1.144      0.019    0.013     376.0   \n",
      "\n",
      "          ess_tail  r_hat  \n",
      "beta_int     458.0   1.00  \n",
      "rho          228.0   1.01  \n",
      "sigma        355.0   1.01  \n",
      "beta_f2      520.0   1.00  \n",
      "P(beta_int ≤ –0.5) = 26.20%\n",
      "P(–0.5 < beta_int < 0) = 29.10%\n",
      "P(beta_int ≥ 0) = 44.70%\n",
      "Model: Both fac1 and fac2\n"
     ]
    },
    {
     "name": "stderr",
     "output_type": "stream",
     "text": [
      "Initializing NUTS using jitter+adapt_diag...\n",
      "Multiprocess sampling (2 chains in 2 jobs)\n",
      "NUTS: [beta0, beta_int, beta_f1, beta_f2, rho, sigma, y_latent]\n"
     ]
    },
    {
     "data": {
      "text/html": [
       "<pre style=\"white-space:pre;overflow-x:auto;line-height:normal;font-family:Menlo,'DejaVu Sans Mono',consolas,'Courier New',monospace\">c:\\Users\\USER\\AppData\\Local\\r-miniconda\\Lib\\site-packages\\rich\\live.py:231: UserWarning: install \"ipywidgets\" for \n",
       "Jupyter support\n",
       "  warnings.warn('install \"ipywidgets\" for Jupyter support')\n",
       "</pre>\n"
      ],
      "text/plain": [
       "c:\\Users\\USER\\AppData\\Local\\r-miniconda\\Lib\\site-packages\\rich\\live.py:231: UserWarning: install \"ipywidgets\" for \n",
       "Jupyter support\n",
       "  warnings.warn('install \"ipywidgets\" for Jupyter support')\n"
      ]
     },
     "metadata": {},
     "output_type": "display_data"
    },
    {
     "data": {
      "text/html": [
       "<pre style=\"white-space:pre;overflow-x:auto;line-height:normal;font-family:Menlo,'DejaVu Sans Mono',consolas,'Courier New',monospace\"></pre>\n"
      ],
      "text/plain": []
     },
     "metadata": {},
     "output_type": "display_data"
    },
    {
     "name": "stderr",
     "output_type": "stream",
     "text": [
      "Sampling 2 chains for 500 tune and 500 draw iterations (1_000 + 1_000 draws total) took 649 seconds.\n",
      "There were 2 divergences after tuning. Increase `target_accept` or reparameterize.\n",
      "We recommend running at least 4 chains for robust computation of convergence diagnostics\n",
      "The rhat statistic is larger than 1.01 for some parameters. This indicates problems during sampling. See https://arxiv.org/abs/1903.08008 for details\n"
     ]
    },
    {
     "name": "stdout",
     "output_type": "stream",
     "text": [
      "           mean     sd  hdi_2.5%  hdi_97.5%  mcse_mean  mcse_sd  ess_bulk  \\\n",
      "beta_int  0.197  0.650    -1.088      1.499      0.033    0.023     400.0   \n",
      "rho       0.201  0.327    -0.328      0.903      0.021    0.010     239.0   \n",
      "sigma     0.992  0.217     0.636      1.420      0.010    0.012     493.0   \n",
      "beta_f1   0.825  0.384     0.007      1.524      0.023    0.013     290.0   \n",
      "beta_f2   0.190  0.374    -0.572      0.888      0.018    0.022     458.0   \n",
      "\n",
      "          ess_tail  r_hat  \n",
      "beta_int     617.0    1.0  \n",
      "rho          372.0    1.0  \n",
      "sigma        403.0    1.0  \n",
      "beta_f1      486.0    1.0  \n",
      "beta_f2      443.0    1.0  \n",
      "P(beta_int ≤ –0.5) = 14.00%\n",
      "P(–0.5 < beta_int < 0) = 24.00%\n",
      "P(beta_int ≥ 0) = 62.00%\n"
     ]
    }
   ],
   "source": [
    "def run_ar1_model(include_fac1=False, include_fac2=False):\n",
    "    outcome_data = df_mea[df_mea['measurement_name'] == 'Outcome']\n",
    "    mediator_data = df_mea[df_mea['measurement_name'] == 'Mediators']\n",
    "\n",
    "    merge_cols = ['current_day_of_study', 'survey1_question1_response', 'current_intervention_name']\n",
    "    mediator_cols = []\n",
    "    if include_fac1:\n",
    "        mediator_cols.append('survey2_question1_response')\n",
    "    if include_fac2:\n",
    "        mediator_cols.append('survey2_question2_response')\n",
    "\n",
    "    all_days = pd.DataFrame({'current_day_of_study': np.arange(0, 16)})\n",
    "    outcome_data = pd.merge(all_days, outcome_data[merge_cols], on='current_day_of_study', how='left')\n",
    "    if mediator_cols:\n",
    "        mediator_data = pd.merge(all_days,\n",
    "                                  mediator_data[['current_day_of_study'] + mediator_cols],\n",
    "                                  on='current_day_of_study', how='left')\n",
    "    else:\n",
    "        mediator_data = all_days.copy()\n",
    "\n",
    "    data = (pd.merge(outcome_data, mediator_data, on='current_day_of_study', how='left')\n",
    "              .sort_values('current_day_of_study')\n",
    "              .reset_index(drop=True))\n",
    "\n",
    "    y_obs_raw = data['survey1_question1_response'].values\n",
    "    y_obs = y_obs_raw.astype(float)\n",
    "    interv = (data['current_intervention_name'] == \"Listening to motivational podcasts!\").astype(float).fillna(0.0)\n",
    "    fac1 = data['survey2_question1_response'].values if include_fac1 else None\n",
    "    fac2 = data['survey2_question2_response'].values if include_fac2 else None\n",
    "    n = len(y_obs)\n",
    "\n",
    "    nan_idx = np.isnan(y_obs)\n",
    "    obs_idx = ~nan_idx\n",
    "    missing_idx = np.where(nan_idx)[0].tolist()\n",
    "\n",
    "    with pm.Model() as model:\n",
    "        beta0    = pm.Normal('beta0',    mu=0, sigma=10)\n",
    "        beta_int = pm.Normal('beta_int', mu=0, sigma=1)\n",
    "        if include_fac1:\n",
    "            beta_f1 = pm.Normal('beta_f1', mu=0, sigma=10)\n",
    "        if include_fac2:\n",
    "            beta_f2 = pm.Normal('beta_f2', mu=0, sigma=10)\n",
    "        rho   = pm.Uniform('rho', lower=-1, upper=1)\n",
    "        sigma = pm.HalfNormal('sigma', sigma=1)\n",
    "\n",
    "        mu = beta0 + beta_int * interv\n",
    "        if include_fac1:\n",
    "            mu = mu + beta_f1 * pt.as_tensor_variable(np.nan_to_num(fac1, nan=0.0))\n",
    "        if include_fac2:\n",
    "            mu = mu + beta_f2 * pt.as_tensor_variable(np.nan_to_num(fac2, nan=0.0))\n",
    "\n",
    "        y_latent = pm.Normal('y_latent', mu=0, sigma=10, shape=len(missing_idx))\n",
    "\n",
    "        y_filled = pt.zeros(n)\n",
    "        y_filled = pt.set_subtensor(y_filled[missing_idx], y_latent)\n",
    "        y_filled = pt.set_subtensor(y_filled[obs_idx], y_obs[obs_idx])\n",
    "\n",
    "        def ar1_step(y_prev, mu_prev, mu_curr, rho):\n",
    "            return mu_curr + rho * (y_prev - mu_prev)\n",
    "\n",
    "        y_pred_scan, _ = scan(\n",
    "            fn=ar1_step,\n",
    "            sequences=[y_filled[:-1], mu[:-1], mu[1:]],\n",
    "            non_sequences=[rho],\n",
    "            n_steps=n-1\n",
    "        )\n",
    "        y_pred = pt.concatenate([mu[:1], y_pred_scan], axis=0)\n",
    "\n",
    "        pm.Normal('y_obs',\n",
    "                  mu=y_pred[obs_idx],\n",
    "                  sigma=sigma,\n",
    "                  observed=y_obs[obs_idx])\n",
    "\n",
    "        trace = pm.sample(draws=500, tune=500, chains=2, target_accept=0.9,\n",
    "                          return_inferencedata=True)\n",
    "\n",
    "    var_names = ['beta_int', 'rho', 'sigma']\n",
    "    if include_fac1: var_names.append('beta_f1')\n",
    "    if include_fac2: var_names.append('beta_f2')\n",
    "\n",
    "    summary = az.summary(trace, var_names=var_names, hdi_prob=0.95)\n",
    "    print(summary)\n",
    "\n",
    "    beta_samples = trace.posterior['beta_int'].values.flatten()\n",
    "    p_le_neg05 = (beta_samples <= -0.5).mean()\n",
    "    p_between  = ((beta_samples > -0.5) & (beta_samples < 0)).mean()\n",
    "    p_ge0      = (beta_samples >= 0).mean()\n",
    "\n",
    "    print(f\"P(beta_int ≤ –0.5) = {p_le_neg05:.2%}\")\n",
    "    print(f\"P(–0.5 < beta_int < 0) = {p_between:.2%}\")\n",
    "    print(f\"P(beta_int ≥ 0) = {p_ge0:.2%}\")\n",
    "\n",
    "print(\"Model: Neither fac1 nor fac2 (intervention only)\")\n",
    "run_ar1_model(include_fac1=False, include_fac2=False)\n",
    "\n",
    "print(\"Model: Only fac1\")\n",
    "run_ar1_model(include_fac1=True, include_fac2=False)\n",
    "\n",
    "print(\"Model: Only fac2\")\n",
    "run_ar1_model(include_fac1=False, include_fac2=True)\n",
    "\n",
    "print(\"Model: Both fac1 and fac2\")\n",
    "run_ar1_model(include_fac1=True, include_fac2=True)"
   ]
  }
 ],
 "metadata": {
  "kernelspec": {
   "display_name": "base",
   "language": "python",
   "name": "python3"
  },
  "language_info": {
   "codemirror_mode": {
    "name": "ipython",
    "version": 3
   },
   "file_extension": ".py",
   "mimetype": "text/x-python",
   "name": "python",
   "nbconvert_exporter": "python",
   "pygments_lexer": "ipython3",
   "version": "3.11.5"
  }
 },
 "nbformat": 4,
 "nbformat_minor": 5
}
