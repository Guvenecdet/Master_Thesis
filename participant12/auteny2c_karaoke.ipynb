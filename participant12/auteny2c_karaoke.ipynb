{
 "cells": [
  {
   "cell_type": "markdown",
   "id": "f101cfde",
   "metadata": {},
   "source": [
    "## Data reading and Data Insights"
   ]
  },
  {
   "cell_type": "markdown",
   "id": "968516ae",
   "metadata": {},
   "source": [
    "**Karaoke Participant: auteny2c, 16 days participation**\n",
    "\n",
    "*Dataset:* 'Karaoke Time' vs 'Avoid Karaoke' study"
   ]
  },
  {
   "cell_type": "markdown",
   "id": "d4c69c4e",
   "metadata": {},
   "source": [
    "#### Libraries"
   ]
  },
  {
   "cell_type": "code",
   "execution_count": 1,
   "id": "455d1976",
   "metadata": {},
   "outputs": [
    {
     "name": "stderr",
     "output_type": "stream",
     "text": [
      "WARNING (pytensor.configdefaults): g++ not available, if using conda: `conda install gxx`\n",
      "WARNING (pytensor.configdefaults): g++ not detected!  PyTensor will be unable to compile C-implementations and will default to Python. Performance may be severely degraded. To remove this warning, set PyTensor flags cxx to an empty string.\n"
     ]
    }
   ],
   "source": [
    "import pandas as pd\n",
    "import numpy as np\n",
    "import matplotlib.pyplot as plt\n",
    "import seaborn as sns\n",
    "from scipy import stats\n",
    "import statsmodels.api as sm\n",
    "from statsmodels.stats.stattools import durbin_watson\n",
    "import pymc as pm\n",
    "import arviz as az"
   ]
  },
  {
   "cell_type": "code",
   "execution_count": 2,
   "id": "565cf087",
   "metadata": {},
   "outputs": [],
   "source": [
    "path = \"C://Users//USER//Desktop//StudyU_Results//\"\n",
    "df_intervention = pd.read_csv(path+\"self-designed_n-of-1_trials_on_stress_management_-_karaoke_-_auteny2c_2025-04-20 22_47_41.103//interventions.csv\")\n",
    "#print(df_intervention.head())\n",
    "df_mea = pd.read_csv(path+\"self-designed_n-of-1_trials_on_stress_management_-_karaoke_-_auteny2c_2025-04-20 22_47_41.103//measurements.csv\")\n",
    "#print(df_mea.head())"
   ]
  },
  {
   "cell_type": "markdown",
   "id": "d1ad7802",
   "metadata": {},
   "source": [
    "## Data Analysis and Preprocessing"
   ]
  },
  {
   "cell_type": "markdown",
   "id": "e24520cc",
   "metadata": {},
   "source": [
    "- Pre-analysis: auteny2c\n",
    "    - Number of Participant\n",
    "    - Participation of the study\n",
    "    - Missing Values\n",
    "    - Remove Participants Who Joined Outside the Study\n",
    "    - Data Preperation"
   ]
  },
  {
   "cell_type": "markdown",
   "id": "10c82df0",
   "metadata": {},
   "source": [
    "#### Number of Participant"
   ]
  },
  {
   "cell_type": "code",
   "execution_count": 3,
   "id": "9e423290",
   "metadata": {},
   "outputs": [
    {
     "name": "stdout",
     "output_type": "stream",
     "text": [
      "The column 'participant_id' has only one unique value: '7006d13c-d081-4e3f-be3d-9f9e20fb2a72'\n"
     ]
    }
   ],
   "source": [
    "column_name = 'participant_id' \n",
    "\n",
    "unique_count = df_intervention[column_name].nunique()\n",
    "\n",
    "if unique_count == 1:\n",
    "    only_value = df_intervention[column_name].iloc[0]\n",
    "    print(f\"The column '{column_name}' has only one unique value: {only_value!r}\")\n",
    "else:\n",
    "    print(f\"The column '{column_name}' has {unique_count} unique values.\")\n",
    "    print(\"Unique values are:\", df_intervention[column_name].unique())"
   ]
  },
  {
   "cell_type": "markdown",
   "id": "f44a740b",
   "metadata": {},
   "source": [
    "#### Participation of the study"
   ]
  },
  {
   "cell_type": "code",
   "execution_count": 4,
   "id": "443aa12f",
   "metadata": {},
   "outputs": [
    {
     "name": "stdout",
     "output_type": "stream",
     "text": [
      "                         participant_id  participation_days\n",
      "0  7006d13c-d081-4e3f-be3d-9f9e20fb2a72                  16\n"
     ]
    }
   ],
   "source": [
    "df_mea['measurement_time'] = pd.to_datetime(df_mea['measurement_time'], utc=True)\n",
    "\n",
    "participation_days = (\n",
    "    df_mea\n",
    "    .groupby('participant_id')['measurement_time']\n",
    "    .apply(lambda x: x.dt.date.nunique())\n",
    "    .reset_index(name='participation_days')\n",
    ")\n",
    "\n",
    "print(participation_days)"
   ]
  },
  {
   "cell_type": "markdown",
   "id": "6fd47a75",
   "metadata": {},
   "source": [
    "As anticipated, the study comprised a single participant, with a total participation period of 16 days."
   ]
  },
  {
   "cell_type": "markdown",
   "id": "52c79068",
   "metadata": {},
   "source": [
    "#### Missing Values"
   ]
  },
  {
   "cell_type": "code",
   "execution_count": 5,
   "id": "0d543d72",
   "metadata": {},
   "outputs": [
    {
     "name": "stdout",
     "output_type": "stream",
     "text": [
      "\n",
      "--- Participant 7006d13c-d081-4e3f-be3d-9f9e20fb2a72 ---\n",
      "\n",
      "  Outcome:\n",
      "    Start date:           2025-04-03\n",
      "    End of expected 16d:  2025-04-18\n",
      "    Expected days count:  16\n",
      "    Completed days count: 16\n",
      "    Missed days count:    0\n",
      "\n",
      "  Mediators:\n",
      "    Start date:           2025-04-03\n",
      "    End of expected 16d:  2025-04-18\n",
      "    Expected days count:  16\n",
      "    Completed days count: 16\n",
      "    Missed days count:    0\n"
     ]
    }
   ],
   "source": [
    "df_mea['measurement_time'] = pd.to_datetime(df_mea['measurement_time'])\n",
    "\n",
    "results = {}\n",
    "\n",
    "for pid in df_mea['participant_id'].unique():\n",
    "    results[pid] = {}\n",
    "    df_part = df_mea[df_mea['participant_id'] == pid]\n",
    "    \n",
    "    for name in ['Outcome', 'Mediators']:\n",
    "        sub = df_part[df_part['measurement_name'] == name].copy()\n",
    "        if sub.empty:\n",
    "            results[pid][name] = None\n",
    "            continue\n",
    "\n",
    "        sub['date'] = sub['measurement_time'].dt.date\n",
    "\n",
    "        start_date = sub['date'].min()\n",
    "\n",
    "        expected_dates = pd.date_range(start_date, periods=16, freq='D').date\n",
    "\n",
    "        done_dates = set(sub['date']) & set(expected_dates)\n",
    "\n",
    "        missed_dates = sorted(set(expected_dates) - done_dates)\n",
    "\n",
    "        results[pid][name] = {\n",
    "            'start_date': start_date,\n",
    "            'end_expected': expected_dates[-1],\n",
    "            'expected_days': len(expected_dates),           \n",
    "            'completed_days': len(done_dates),\n",
    "            'missed_days_count': len(missed_dates),\n",
    "            'missed_dates': missed_dates\n",
    "        }\n",
    "\n",
    "for pid, measures in results.items():\n",
    "    print(f\"\\n--- Participant {pid} ---\")\n",
    "    for name, stats in measures.items():\n",
    "        if stats is None:\n",
    "            print(f\"{name}: no data\")\n",
    "            continue\n",
    "        print(f\"\\n  {name}:\")\n",
    "        print(f\"    Start date:           {stats['start_date']}\")\n",
    "        print(f\"    End of expected 16d:  {stats['end_expected']}\")\n",
    "        print(f\"    Expected days count:  {stats['expected_days']}\")\n",
    "        print(f\"    Completed days count: {stats['completed_days']}\")\n",
    "        print(f\"    Missed days count:    {stats['missed_days_count']}\")\n",
    "        if stats['missed_dates']:\n",
    "            print(\"    Missed dates:\")\n",
    "            for d in stats['missed_dates']:\n",
    "                print(\"      \", d)"
   ]
  },
  {
   "cell_type": "markdown",
   "id": "1300d4dc",
   "metadata": {},
   "source": [
    "The participant (7006d13c-d081-4e3f-be3d-9f9e20fb2a72) consistently completed the outcome and mediator surveys over a 16-day period."
   ]
  },
  {
   "cell_type": "markdown",
   "id": "cf6faa78",
   "metadata": {},
   "source": [
    "#### Remove Participants Who Joined Outside the Study"
   ]
  },
  {
   "cell_type": "code",
   "execution_count": 6,
   "id": "c86cb486",
   "metadata": {},
   "outputs": [],
   "source": [
    "# df_mea = df_mea[df_mea['participant_id'] != \"if_there_is\"]\n",
    "# df_mea.tail()"
   ]
  },
  {
   "cell_type": "markdown",
   "id": "26a0d2f5",
   "metadata": {},
   "source": [
    "#### Data Preperation"
   ]
  },
  {
   "cell_type": "code",
   "execution_count": 7,
   "id": "1436c8ed",
   "metadata": {},
   "outputs": [
    {
     "data": {
      "text/html": [
       "<div>\n",
       "<style scoped>\n",
       "    .dataframe tbody tr th:only-of-type {\n",
       "        vertical-align: middle;\n",
       "    }\n",
       "\n",
       "    .dataframe tbody tr th {\n",
       "        vertical-align: top;\n",
       "    }\n",
       "\n",
       "    .dataframe thead th {\n",
       "        text-align: right;\n",
       "    }\n",
       "</style>\n",
       "<table border=\"1\" class=\"dataframe\">\n",
       "  <thead>\n",
       "    <tr style=\"text-align: right;\">\n",
       "      <th></th>\n",
       "      <th>survey1_id</th>\n",
       "      <th>survey1_name</th>\n",
       "      <th>survey1_question1_id</th>\n",
       "      <th>survey1_question1_text</th>\n",
       "      <th>survey1_question1_response</th>\n",
       "      <th>survey1_question2_id</th>\n",
       "      <th>survey1_question2_text</th>\n",
       "      <th>survey1_question2_response</th>\n",
       "      <th>survey1_question3_id</th>\n",
       "      <th>survey1_question3_text</th>\n",
       "      <th>survey1_question3_response</th>\n",
       "      <th>survey1_question4_id</th>\n",
       "      <th>survey1_question4_text</th>\n",
       "      <th>survey1_question4_response</th>\n",
       "      <th>survey2_id</th>\n",
       "      <th>survey2_name</th>\n",
       "      <th>survey2_question1_id</th>\n",
       "      <th>survey2_question1_text</th>\n",
       "      <th>survey2_question1_response</th>\n",
       "      <th>survey2_question2_id</th>\n",
       "      <th>survey2_question2_text</th>\n",
       "      <th>survey2_question2_response</th>\n",
       "    </tr>\n",
       "  </thead>\n",
       "  <tbody>\n",
       "    <tr>\n",
       "      <th>0</th>\n",
       "      <td>c6353e8f-6c4e-4416-944e-a631f474a00a</td>\n",
       "      <td>Outcome</td>\n",
       "      <td>9f5424f4-f23c-49ee-baa8-77d96a62552d</td>\n",
       "      <td>On a scale of \"snoozing under a cozy blanket\" ...</td>\n",
       "      <td>NaN</td>\n",
       "      <td>538ce40a-2d9f-4e77-843f-c429b9a6e0b8</td>\n",
       "      <td>Looking into your crystal ball, how much stres...</td>\n",
       "      <td>NaN</td>\n",
       "      <td>e66d6b15-e85e-45fd-822c-217e8e96fa68</td>\n",
       "      <td>Did your miracle stress-shrinking method (kara...</td>\n",
       "      <td>NaN</td>\n",
       "      <td>db6e7cf1-33ba-4222-8dc7-53d98d0643ba</td>\n",
       "      <td>When you skipped the method (karaoke) today, d...</td>\n",
       "      <td>NaN</td>\n",
       "      <td>aa66861c-cda1-4082-9b56-4da108f5e7b1</td>\n",
       "      <td>Mediators</td>\n",
       "      <td>e1e6ff2f-3524-49ae-9a21-35c2fb37f22c</td>\n",
       "      <td>How much did today's &lt;b&gt;unexpected changes&lt;/b&gt;...</td>\n",
       "      <td>6.0</td>\n",
       "      <td>9a3579bf-c4bd-430a-9ce7-4d5e9fad6397</td>\n",
       "      <td>How much did today's &lt;b&gt;educational tasks&lt;/b&gt; ...</td>\n",
       "      <td>7.0</td>\n",
       "    </tr>\n",
       "  </tbody>\n",
       "</table>\n",
       "</div>"
      ],
      "text/plain": [
       "                             survey1_id survey1_name  \\\n",
       "0  c6353e8f-6c4e-4416-944e-a631f474a00a      Outcome   \n",
       "\n",
       "                   survey1_question1_id  \\\n",
       "0  9f5424f4-f23c-49ee-baa8-77d96a62552d   \n",
       "\n",
       "                              survey1_question1_text  \\\n",
       "0  On a scale of \"snoozing under a cozy blanket\" ...   \n",
       "\n",
       "   survey1_question1_response                  survey1_question2_id  \\\n",
       "0                         NaN  538ce40a-2d9f-4e77-843f-c429b9a6e0b8   \n",
       "\n",
       "                              survey1_question2_text  \\\n",
       "0  Looking into your crystal ball, how much stres...   \n",
       "\n",
       "   survey1_question2_response                  survey1_question3_id  \\\n",
       "0                         NaN  e66d6b15-e85e-45fd-822c-217e8e96fa68   \n",
       "\n",
       "                              survey1_question3_text  \\\n",
       "0  Did your miracle stress-shrinking method (kara...   \n",
       "\n",
       "   survey1_question3_response                  survey1_question4_id  \\\n",
       "0                         NaN  db6e7cf1-33ba-4222-8dc7-53d98d0643ba   \n",
       "\n",
       "                              survey1_question4_text  \\\n",
       "0  When you skipped the method (karaoke) today, d...   \n",
       "\n",
       "   survey1_question4_response                            survey2_id  \\\n",
       "0                         NaN  aa66861c-cda1-4082-9b56-4da108f5e7b1   \n",
       "\n",
       "  survey2_name                  survey2_question1_id  \\\n",
       "0    Mediators  e1e6ff2f-3524-49ae-9a21-35c2fb37f22c   \n",
       "\n",
       "                              survey2_question1_text  \\\n",
       "0  How much did today's <b>unexpected changes</b>...   \n",
       "\n",
       "   survey2_question1_response                  survey2_question2_id  \\\n",
       "0                         6.0  9a3579bf-c4bd-430a-9ce7-4d5e9fad6397   \n",
       "\n",
       "                              survey2_question2_text  \\\n",
       "0  How much did today's <b>educational tasks</b> ...   \n",
       "\n",
       "   survey2_question2_response  \n",
       "0                         7.0  "
      ]
     },
     "execution_count": 7,
     "metadata": {},
     "output_type": "execute_result"
    }
   ],
   "source": [
    "survey_columns = [col for col in df_mea.columns if col.startswith('survey')]\n",
    "pd.set_option('display.max_columns', None)\n",
    "survey_dataframe = df_mea[survey_columns]\n",
    "survey_dataframe[0:1]"
   ]
  },
  {
   "cell_type": "code",
   "execution_count": 8,
   "id": "5c2ba47f",
   "metadata": {},
   "outputs": [
    {
     "data": {
      "text/html": [
       "<div>\n",
       "<style scoped>\n",
       "    .dataframe tbody tr th:only-of-type {\n",
       "        vertical-align: middle;\n",
       "    }\n",
       "\n",
       "    .dataframe tbody tr th {\n",
       "        vertical-align: top;\n",
       "    }\n",
       "\n",
       "    .dataframe thead th {\n",
       "        text-align: right;\n",
       "    }\n",
       "</style>\n",
       "<table border=\"1\" class=\"dataframe\">\n",
       "  <thead>\n",
       "    <tr style=\"text-align: right;\">\n",
       "      <th></th>\n",
       "      <th>measurement_time</th>\n",
       "      <th>measurement_name</th>\n",
       "      <th>participant_id</th>\n",
       "      <th>current_day_of_study</th>\n",
       "      <th>current_intervention_name</th>\n",
       "      <th>survey1_question1_response</th>\n",
       "      <th>survey1_question2_response</th>\n",
       "      <th>survey1_question3_response</th>\n",
       "      <th>survey1_question4_response</th>\n",
       "      <th>survey2_question1_response</th>\n",
       "      <th>survey2_question2_response</th>\n",
       "    </tr>\n",
       "  </thead>\n",
       "  <tbody>\n",
       "    <tr>\n",
       "      <th>0</th>\n",
       "      <td>2025-04-18 20:07:07.723878+00:00</td>\n",
       "      <td>Mediators</td>\n",
       "      <td>7006d13c-d081-4e3f-be3d-9f9e20fb2a72</td>\n",
       "      <td>15</td>\n",
       "      <td>Karaoke!</td>\n",
       "      <td>NaN</td>\n",
       "      <td>NaN</td>\n",
       "      <td>NaN</td>\n",
       "      <td>NaN</td>\n",
       "      <td>6.0</td>\n",
       "      <td>7.0</td>\n",
       "    </tr>\n",
       "  </tbody>\n",
       "</table>\n",
       "</div>"
      ],
      "text/plain": [
       "                  measurement_time measurement_name  \\\n",
       "0 2025-04-18 20:07:07.723878+00:00        Mediators   \n",
       "\n",
       "                         participant_id  current_day_of_study  \\\n",
       "0  7006d13c-d081-4e3f-be3d-9f9e20fb2a72                    15   \n",
       "\n",
       "  current_intervention_name  survey1_question1_response  \\\n",
       "0                  Karaoke!                         NaN   \n",
       "\n",
       "   survey1_question2_response  survey1_question3_response  \\\n",
       "0                         NaN                         NaN   \n",
       "\n",
       "   survey1_question4_response  survey2_question1_response  \\\n",
       "0                         NaN                         6.0   \n",
       "\n",
       "   survey2_question2_response  \n",
       "0                         7.0  "
      ]
     },
     "execution_count": 8,
     "metadata": {},
     "output_type": "execute_result"
    }
   ],
   "source": [
    "df_mea_all= df_mea[[\n",
    "     'measurement_time',\n",
    "     'measurement_name',\n",
    "     'participant_id',\n",
    "     'current_day_of_study',\n",
    "     'current_intervention_name',\n",
    "     'survey1_question1_response',\n",
    "     'survey1_question2_response',\n",
    "     'survey1_question3_response',\n",
    "     'survey1_question4_response',\n",
    "     'survey2_question1_response',\n",
    "     'survey2_question2_response']]\n",
    "df_mea_all.head(1)"
   ]
  },
  {
   "cell_type": "code",
   "execution_count": 9,
   "id": "b8672a8e",
   "metadata": {},
   "outputs": [],
   "source": [
    "df_mea_m = df_mea_all[df_mea_all['measurement_name'] == 'Mediators']\n",
    "df_mea_o = df_mea_all[df_mea_all['measurement_name'] == 'Outcome']"
   ]
  },
  {
   "cell_type": "code",
   "execution_count": 10,
   "id": "ae3f0a0e",
   "metadata": {},
   "outputs": [],
   "source": [
    "df_mea_o = df_mea_o.sort_values(by=['participant_id', 'current_day_of_study'])\n",
    "df_mea_m = df_mea_m.sort_values(by=['participant_id', 'current_day_of_study'])"
   ]
  },
  {
   "cell_type": "code",
   "execution_count": 11,
   "id": "6d5cbda3",
   "metadata": {},
   "outputs": [
    {
     "data": {
      "text/html": [
       "<div>\n",
       "<style scoped>\n",
       "    .dataframe tbody tr th:only-of-type {\n",
       "        vertical-align: middle;\n",
       "    }\n",
       "\n",
       "    .dataframe tbody tr th {\n",
       "        vertical-align: top;\n",
       "    }\n",
       "\n",
       "    .dataframe thead th {\n",
       "        text-align: right;\n",
       "    }\n",
       "</style>\n",
       "<table border=\"1\" class=\"dataframe\">\n",
       "  <thead>\n",
       "    <tr style=\"text-align: right;\">\n",
       "      <th></th>\n",
       "      <th>measurement_time</th>\n",
       "      <th>measurement_name</th>\n",
       "      <th>participant_id</th>\n",
       "      <th>current_day_of_study</th>\n",
       "      <th>current_intervention_name</th>\n",
       "      <th>survey1_question1_response</th>\n",
       "      <th>survey1_question2_response</th>\n",
       "      <th>survey1_question3_response</th>\n",
       "      <th>survey1_question4_response</th>\n",
       "      <th>survey2_question1_response</th>\n",
       "      <th>survey2_question2_response</th>\n",
       "    </tr>\n",
       "  </thead>\n",
       "  <tbody>\n",
       "    <tr>\n",
       "      <th>31</th>\n",
       "      <td>2025-04-03 20:17:00.955801+00:00</td>\n",
       "      <td>Outcome</td>\n",
       "      <td>7006d13c-d081-4e3f-be3d-9f9e20fb2a72</td>\n",
       "      <td>0</td>\n",
       "      <td>Karaoke!</td>\n",
       "      <td>7.0</td>\n",
       "      <td>8.0</td>\n",
       "      <td>9.0</td>\n",
       "      <td>1.0</td>\n",
       "      <td>NaN</td>\n",
       "      <td>NaN</td>\n",
       "    </tr>\n",
       "    <tr>\n",
       "      <th>29</th>\n",
       "      <td>2025-04-04 20:08:33.020101+00:00</td>\n",
       "      <td>Outcome</td>\n",
       "      <td>7006d13c-d081-4e3f-be3d-9f9e20fb2a72</td>\n",
       "      <td>1</td>\n",
       "      <td>Karaoke!</td>\n",
       "      <td>7.0</td>\n",
       "      <td>8.0</td>\n",
       "      <td>9.0</td>\n",
       "      <td>1.0</td>\n",
       "      <td>NaN</td>\n",
       "      <td>NaN</td>\n",
       "    </tr>\n",
       "    <tr>\n",
       "      <th>27</th>\n",
       "      <td>2025-04-05 19:01:03.625027+00:00</td>\n",
       "      <td>Outcome</td>\n",
       "      <td>7006d13c-d081-4e3f-be3d-9f9e20fb2a72</td>\n",
       "      <td>2</td>\n",
       "      <td>Karaoke!</td>\n",
       "      <td>5.0</td>\n",
       "      <td>7.0</td>\n",
       "      <td>9.0</td>\n",
       "      <td>1.0</td>\n",
       "      <td>NaN</td>\n",
       "      <td>NaN</td>\n",
       "    </tr>\n",
       "    <tr>\n",
       "      <th>25</th>\n",
       "      <td>2025-04-06 20:14:29.048550+00:00</td>\n",
       "      <td>Outcome</td>\n",
       "      <td>7006d13c-d081-4e3f-be3d-9f9e20fb2a72</td>\n",
       "      <td>3</td>\n",
       "      <td>Karaoke!</td>\n",
       "      <td>6.0</td>\n",
       "      <td>7.0</td>\n",
       "      <td>8.0</td>\n",
       "      <td>1.0</td>\n",
       "      <td>NaN</td>\n",
       "      <td>NaN</td>\n",
       "    </tr>\n",
       "    <tr>\n",
       "      <th>23</th>\n",
       "      <td>2025-04-07 19:37:17.809572+00:00</td>\n",
       "      <td>Outcome</td>\n",
       "      <td>7006d13c-d081-4e3f-be3d-9f9e20fb2a72</td>\n",
       "      <td>4</td>\n",
       "      <td>No karaoke!</td>\n",
       "      <td>8.0</td>\n",
       "      <td>8.0</td>\n",
       "      <td>1.0</td>\n",
       "      <td>8.0</td>\n",
       "      <td>NaN</td>\n",
       "      <td>NaN</td>\n",
       "    </tr>\n",
       "  </tbody>\n",
       "</table>\n",
       "</div>"
      ],
      "text/plain": [
       "                   measurement_time measurement_name  \\\n",
       "31 2025-04-03 20:17:00.955801+00:00          Outcome   \n",
       "29 2025-04-04 20:08:33.020101+00:00          Outcome   \n",
       "27 2025-04-05 19:01:03.625027+00:00          Outcome   \n",
       "25 2025-04-06 20:14:29.048550+00:00          Outcome   \n",
       "23 2025-04-07 19:37:17.809572+00:00          Outcome   \n",
       "\n",
       "                          participant_id  current_day_of_study  \\\n",
       "31  7006d13c-d081-4e3f-be3d-9f9e20fb2a72                     0   \n",
       "29  7006d13c-d081-4e3f-be3d-9f9e20fb2a72                     1   \n",
       "27  7006d13c-d081-4e3f-be3d-9f9e20fb2a72                     2   \n",
       "25  7006d13c-d081-4e3f-be3d-9f9e20fb2a72                     3   \n",
       "23  7006d13c-d081-4e3f-be3d-9f9e20fb2a72                     4   \n",
       "\n",
       "   current_intervention_name  survey1_question1_response  \\\n",
       "31                  Karaoke!                         7.0   \n",
       "29                  Karaoke!                         7.0   \n",
       "27                  Karaoke!                         5.0   \n",
       "25                  Karaoke!                         6.0   \n",
       "23               No karaoke!                         8.0   \n",
       "\n",
       "    survey1_question2_response  survey1_question3_response  \\\n",
       "31                         8.0                         9.0   \n",
       "29                         8.0                         9.0   \n",
       "27                         7.0                         9.0   \n",
       "25                         7.0                         8.0   \n",
       "23                         8.0                         1.0   \n",
       "\n",
       "    survey1_question4_response  survey2_question1_response  \\\n",
       "31                         1.0                         NaN   \n",
       "29                         1.0                         NaN   \n",
       "27                         1.0                         NaN   \n",
       "25                         1.0                         NaN   \n",
       "23                         8.0                         NaN   \n",
       "\n",
       "    survey2_question2_response  \n",
       "31                         NaN  \n",
       "29                         NaN  \n",
       "27                         NaN  \n",
       "25                         NaN  \n",
       "23                         NaN  "
      ]
     },
     "execution_count": 11,
     "metadata": {},
     "output_type": "execute_result"
    }
   ],
   "source": [
    "df_mea_o.head()"
   ]
  },
  {
   "cell_type": "markdown",
   "id": "4958cabd",
   "metadata": {},
   "source": [
    "## Exploratory Data Analysis - Outcome"
   ]
  },
  {
   "cell_type": "markdown",
   "id": "15bd8101",
   "metadata": {},
   "source": [
    "- EDA Steps  \n",
    "  - Data shape  \n",
    "  - Data types of columns  \n",
    "  - Missing values  \n",
    "  - Summary statistics  \n",
    "  - Data Visualization and Distributions  \n",
    "    - Plot histograms and box plots  \n",
    "    - Line plot  \n",
    "    - Scatter plot  \n",
    "    - Correlations (Pearson, Kendall, Spearman)  "
   ]
  },
  {
   "cell_type": "markdown",
   "id": "9c56c4af",
   "metadata": {},
   "source": [
    "#### Data Shape"
   ]
  },
  {
   "cell_type": "code",
   "execution_count": 12,
   "id": "b0c700fb",
   "metadata": {},
   "outputs": [
    {
     "name": "stdout",
     "output_type": "stream",
     "text": [
      "Outcome Data Shape\n",
      "Rows: 16\n",
      "Columns: 11\n"
     ]
    }
   ],
   "source": [
    "print(\"Outcome Data Shape\")\n",
    "print(\"Rows:\", df_mea_o.shape[0])\n",
    "print(\"Columns:\", df_mea_o.shape[1])"
   ]
  },
  {
   "cell_type": "markdown",
   "id": "74e40212",
   "metadata": {},
   "source": [
    "#### Data Types of columns"
   ]
  },
  {
   "cell_type": "code",
   "execution_count": 13,
   "id": "06463c20",
   "metadata": {},
   "outputs": [
    {
     "name": "stdout",
     "output_type": "stream",
     "text": [
      "Outcome Data Types of Columns\n",
      "                                      Data Type\n",
      "measurement_time            datetime64[ns, UTC]\n",
      "measurement_name                         object\n",
      "participant_id                           object\n",
      "current_day_of_study                      int64\n",
      "current_intervention_name                object\n",
      "survey1_question1_response              float64\n",
      "survey1_question2_response              float64\n",
      "survey1_question3_response              float64\n",
      "survey1_question4_response              float64\n",
      "survey2_question1_response              float64\n",
      "survey2_question2_response              float64\n"
     ]
    }
   ],
   "source": [
    "print(\"Outcome Data Types of Columns\")\n",
    "data_types = df_mea_o.dtypes\n",
    "data_types_df = pd.DataFrame(data_types, columns=[\"Data Type\"])\n",
    "print(data_types_df)"
   ]
  },
  {
   "cell_type": "markdown",
   "id": "ff16ab5e",
   "metadata": {},
   "source": [
    "#### Missing Value Analysis"
   ]
  },
  {
   "cell_type": "code",
   "execution_count": 14,
   "id": "77993eed",
   "metadata": {},
   "outputs": [
    {
     "name": "stdout",
     "output_type": "stream",
     "text": [
      "\n",
      "--- Participant 7006d13c-d081-4e3f-be3d-9f9e20fb2a72 ---\n",
      "\n",
      "  Outcome:\n",
      "    Start date:           2025-04-03\n",
      "    End of expected 16d:  2025-04-18\n",
      "    Expected days count:  16\n",
      "    Completed days count: 16\n",
      "    Missed days count:    0\n",
      "\n",
      "  Mediators:\n",
      "    Start date:           2025-04-03\n",
      "    End of expected 16d:  2025-04-18\n",
      "    Expected days count:  16\n",
      "    Completed days count: 16\n",
      "    Missed days count:    0\n",
      "\n",
      "  survey1_question1_response:\n",
      "    Start date:           2025-04-03\n",
      "    End of expected 16d:  2025-04-18\n",
      "    Expected days count:  16\n",
      "    Completed days count: 16\n",
      "    Missed days count:    0\n",
      "\n",
      "  survey1_question2_response:\n",
      "    Start date:           2025-04-03\n",
      "    End of expected 16d:  2025-04-18\n",
      "    Expected days count:  16\n",
      "    Completed days count: 16\n",
      "    Missed days count:    0\n",
      "\n",
      "  survey1_question3_response:\n",
      "    Start date:           2025-04-03\n",
      "    End of expected 16d:  2025-04-18\n",
      "    Expected days count:  16\n",
      "    Completed days count: 16\n",
      "    Missed days count:    0\n",
      "\n",
      "  survey1_question4_response:\n",
      "    Start date:           2025-04-03\n",
      "    End of expected 16d:  2025-04-18\n",
      "    Expected days count:  16\n",
      "    Completed days count: 16\n",
      "    Missed days count:    0\n",
      "\n",
      "  survey2_question1_response:\n",
      "    Start date:           2025-04-03\n",
      "    End of expected 16d:  2025-04-18\n",
      "    Expected days count:  16\n",
      "    Completed days count: 16\n",
      "    Missed days count:    0\n",
      "\n",
      "  survey2_question2_response:\n",
      "    Start date:           2025-04-03\n",
      "    End of expected 16d:  2025-04-18\n",
      "    Expected days count:  16\n",
      "    Completed days count: 16\n",
      "    Missed days count:    0\n"
     ]
    }
   ],
   "source": [
    "df_mea['measurement_time'] = pd.to_datetime(df_mea['measurement_time'])\n",
    "\n",
    "df_mea.columns = df_mea.columns.str.strip()\n",
    "df_mea['measurement_name'] = df_mea['measurement_name'].str.strip()\n",
    "\n",
    "measurement_names = [\n",
    "    'Outcome',\n",
    "    'Mediators',\n",
    "    'survey1_question1_response',\n",
    "    'survey1_question2_response',\n",
    "    'survey1_question3_response',\n",
    "    'survey1_question4_response',\n",
    "    'survey2_question1_response',\n",
    "    'survey2_question2_response'\n",
    "]\n",
    "\n",
    "results = {}\n",
    "\n",
    "for pid in df_mea['participant_id'].unique():\n",
    "    results[pid] = {}\n",
    "    df_part = df_mea[df_mea['participant_id'] == pid]\n",
    "    \n",
    "    for name in measurement_names:\n",
    "        if name in ['Outcome', 'Mediators']:\n",
    "            sub = df_part[df_part['measurement_name'] == name].copy()\n",
    "        else:\n",
    "            if name not in df_part.columns:\n",
    "                sub = pd.DataFrame()\n",
    "            else:\n",
    "                sub = df_part[df_part[name].notna()].copy()\n",
    "        \n",
    "        if sub.empty:\n",
    "            results[pid][name] = None\n",
    "            continue\n",
    "\n",
    "        sub['date'] = sub['measurement_time'].dt.date\n",
    "\n",
    "        start_date = sub['date'].min()\n",
    "\n",
    "        expected_dates = pd.date_range(start_date, periods=16, freq='D').date\n",
    "\n",
    "        done_dates = set(sub['date']) & set(expected_dates)\n",
    "\n",
    "        missed_dates = sorted(set(expected_dates) - done_dates)\n",
    "\n",
    "        results[pid][name] = {\n",
    "            'start_date': start_date,\n",
    "            'end_expected': expected_dates[-1],\n",
    "            'expected_days': len(expected_dates),      \n",
    "            'completed_days': len(done_dates),\n",
    "            'missed_days_count': len(missed_dates),\n",
    "            'missed_dates': missed_dates\n",
    "        }\n",
    "\n",
    "for pid, measures in results.items():\n",
    "    print(f\"\\n--- Participant {pid} ---\")\n",
    "    for name, stats in measures.items():\n",
    "        if stats is None:\n",
    "            print(f\"{name}: no data\")\n",
    "            continue\n",
    "        print(f\"\\n  {name}:\")\n",
    "        print(f\"    Start date:           {stats['start_date']}\")\n",
    "        print(f\"    End of expected 16d:  {stats['end_expected']}\")\n",
    "        print(f\"    Expected days count:  {stats['expected_days']}\")\n",
    "        print(f\"    Completed days count: {stats['completed_days']}\")\n",
    "        print(f\"    Missed days count:    {stats['missed_days_count']}\")\n",
    "        if stats['missed_dates']:\n",
    "            print(\"    Missed dates:\")\n",
    "            for d in stats['missed_dates']:\n",
    "                print(\"      \", d)"
   ]
  },
  {
   "cell_type": "markdown",
   "id": "5da201b6",
   "metadata": {},
   "source": [
    "#### Missing Values for Confirmations between 08.00 - 21.00"
   ]
  },
  {
   "cell_type": "code",
   "execution_count": 15,
   "id": "20f5dab0",
   "metadata": {},
   "outputs": [
    {
     "name": "stdout",
     "output_type": "stream",
     "text": [
      "All 16 days have participation confirmations; no missing days found.\n"
     ]
    }
   ],
   "source": [
    "df_intervention['intervention_task_time'] = pd.to_datetime(\n",
    "    df_intervention['intervention_task_time'],\n",
    "    errors='coerce'\n",
    ")\n",
    "\n",
    "df_intervention['date'] = df_intervention['intervention_task_time'].dt.date\n",
    "\n",
    "start_date = df_intervention['date'].min()\n",
    "full_range = pd.date_range(start=start_date, periods=16, freq='D').date\n",
    "\n",
    "full_df = pd.DataFrame({'date': full_range})\n",
    "merged = full_df.merge(\n",
    "    df_intervention[['date', 'intervention_task_name']],\n",
    "    on='date',\n",
    "    how='left'\n",
    ")\n",
    "\n",
    "missing_days = merged[merged['intervention_task_name'].isna()]\n",
    "\n",
    "if missing_days.empty:\n",
    "    print(\"All 16 days have participation confirmations; no missing days found.\")\n",
    "else:\n",
    "    print(\"Missing participation days and their corresponding task names:\")\n",
    "    print(missing_days)"
   ]
  },
  {
   "cell_type": "markdown",
   "id": "da3e431a",
   "metadata": {},
   "source": [
    "#### Summary Statistics"
   ]
  },
  {
   "cell_type": "code",
   "execution_count": 16,
   "id": "0cac7a9e",
   "metadata": {},
   "outputs": [
    {
     "name": "stdout",
     "output_type": "stream",
     "text": [
      "Sleep Data Summary Statistics\n",
      "       current_day_of_study  survey1_question1_response  \\\n",
      "count             16.000000                   16.000000   \n",
      "mean               7.500000                    6.750000   \n",
      "std                4.760952                    1.290994   \n",
      "min                0.000000                    4.000000   \n",
      "25%                3.750000                    6.000000   \n",
      "50%                7.500000                    7.000000   \n",
      "75%               11.250000                    7.250000   \n",
      "max               15.000000                    9.000000   \n",
      "\n",
      "       survey1_question2_response  survey1_question3_response  \\\n",
      "count                   16.000000                   16.000000   \n",
      "mean                     7.750000                    5.187500   \n",
      "std                      0.774597                    3.833514   \n",
      "min                      6.000000                    1.000000   \n",
      "25%                      7.000000                    1.000000   \n",
      "50%                      8.000000                    8.000000   \n",
      "75%                      8.000000                    8.250000   \n",
      "max                      9.000000                    9.000000   \n",
      "\n",
      "       survey1_question4_response  survey2_question1_response  \\\n",
      "count                   16.000000                         0.0   \n",
      "mean                     4.562500                         NaN   \n",
      "std                      3.705289                         NaN   \n",
      "min                      1.000000                         NaN   \n",
      "25%                      1.000000                         NaN   \n",
      "50%                      4.000000                         NaN   \n",
      "75%                      8.000000                         NaN   \n",
      "max                      9.000000                         NaN   \n",
      "\n",
      "       survey2_question2_response  \n",
      "count                         0.0  \n",
      "mean                          NaN  \n",
      "std                           NaN  \n",
      "min                           NaN  \n",
      "25%                           NaN  \n",
      "50%                           NaN  \n",
      "75%                           NaN  \n",
      "max                           NaN  \n"
     ]
    }
   ],
   "source": [
    "print(\"Sleep Data Summary Statistics\")\n",
    "summary_stats = df_mea_o.describe()\n",
    "print(summary_stats)"
   ]
  },
  {
   "cell_type": "code",
   "execution_count": 17,
   "id": "b11b6825",
   "metadata": {},
   "outputs": [
    {
     "name": "stdout",
     "output_type": "stream",
     "text": [
      "<class 'pandas.core.frame.DataFrame'>\n",
      "Index: 16 entries, 31 to 1\n",
      "Data columns (total 11 columns):\n",
      " #   Column                      Non-Null Count  Dtype              \n",
      "---  ------                      --------------  -----              \n",
      " 0   measurement_time            16 non-null     datetime64[ns, UTC]\n",
      " 1   measurement_name            16 non-null     object             \n",
      " 2   participant_id              16 non-null     object             \n",
      " 3   current_day_of_study        16 non-null     int64              \n",
      " 4   current_intervention_name   16 non-null     object             \n",
      " 5   survey1_question1_response  16 non-null     float64            \n",
      " 6   survey1_question2_response  16 non-null     float64            \n",
      " 7   survey1_question3_response  16 non-null     float64            \n",
      " 8   survey1_question4_response  16 non-null     float64            \n",
      " 9   survey2_question1_response  0 non-null      float64            \n",
      " 10  survey2_question2_response  0 non-null      float64            \n",
      "dtypes: datetime64[ns, UTC](1), float64(6), int64(1), object(3)\n",
      "memory usage: 1.5+ KB\n"
     ]
    }
   ],
   "source": [
    "df_mea_o.info()"
   ]
  },
  {
   "cell_type": "markdown",
   "id": "2f0233aa",
   "metadata": {},
   "source": [
    "#### Data Visualization and Distributions"
   ]
  },
  {
   "cell_type": "code",
   "execution_count": 18,
   "id": "dc36b946",
   "metadata": {},
   "outputs": [
    {
     "data": {
      "image/png": "[encoded data removed]",
      "text/plain": [
       "<Figure size 1000x400 with 2 Axes>"
      ]
     },
     "metadata": {},
     "output_type": "display_data"
    },
    {
     "data": {
      "image/png": "[encoded data removed]",
      "text/plain": [
       "<Figure size 1000x400 with 2 Axes>"
      ]
     },
     "metadata": {},
     "output_type": "display_data"
    }
   ],
   "source": [
    "columns = [\n",
    "    'survey1_question1_response',\n",
    "    'survey1_question2_response']\n",
    "for column in columns:\n",
    "    plt.figure(figsize=(10, 4))\n",
    "    \n",
    "    plt.subplot(1, 2, 1)\n",
    "    sns.histplot(df_mea_o[column].dropna(), bins=15, kde=True)\n",
    "    plt.title(f\"Distribution of {column}\")\n",
    "    plt.xlabel(column)\n",
    "    plt.ylabel(\"Frequency\")\n",
    "\n",
    "    plt.subplot(1, 2, 2)\n",
    "    sns.boxplot(y=df_mea_o[column].dropna())\n",
    "    plt.title(f\"Box Plot of {column}\")\n",
    "    plt.ylabel(column)\n",
    "\n",
    "    plt.tight_layout()\n",
    "    plt.show()"
   ]
  },
  {
   "cell_type": "markdown",
   "id": "4f06bfc0",
   "metadata": {},
   "source": [
    "#### Line Plot"
   ]
  },
  {
   "cell_type": "code",
   "execution_count": 19,
   "id": "6b14fe72",
   "metadata": {},
   "outputs": [
    {
     "data": {
      "image/png": "[encoded data removed]",
      "text/plain": [
       "<Figure size 1000x600 with 1 Axes>"
      ]
     },
     "metadata": {},
     "output_type": "display_data"
    }
   ],
   "source": [
    "grouped_data = df_mea_o.groupby(\"participant_id\")\n",
    "\n",
    "plt.figure(figsize=(10, 6)) \n",
    "\n",
    "for participant_id, group in grouped_data:\n",
    "    plt.plot(group['current_day_of_study'], group['survey1_question1_response'], label=f'Participant {participant_id}')\n",
    "\n",
    "plt.xlabel('Current Day of Study')\n",
    "plt.ylabel('Day Stress Level')\n",
    "plt.title('Stress Level Over Time for Different Participants in Outcome Dataset')\n",
    "\n",
    "plt.legend()\n",
    "plt.show()"
   ]
  },
  {
   "cell_type": "markdown",
   "id": "17c853ed",
   "metadata": {},
   "source": [
    "#### Scatterplot"
   ]
  },
  {
   "cell_type": "code",
   "execution_count": 20,
   "id": "388e8a55",
   "metadata": {},
   "outputs": [
    {
     "data": {
      "text/plain": [
       "<matplotlib.legend.Legend at 0x1f86fcf0850>"
      ]
     },
     "execution_count": 20,
     "metadata": {},
     "output_type": "execute_result"
    },
    {
     "data": {
      "image/png": "[encoded data removed]",
      "text/plain": [
       "<Figure size 1000x500 with 1 Axes>"
      ]
     },
     "metadata": {},
     "output_type": "display_data"
    }
   ],
   "source": [
    "x = 'current_day_of_study'\n",
    "y = 'survey1_question1_response'\n",
    "\n",
    "participant_list= list(df_mea_o.participant_id.unique())\n",
    "fig, axs = plt.subplots(len(participant_list), figsize=(10, 5 * len(participant_list)))\n",
    "\n",
    "if len(participant_list) == 1:\n",
    "    axs = [axs]\n",
    "\n",
    "for i in range(len(participant_list)):\n",
    "    legend = True if i == len(participant_list)-1 else False\n",
    "    sns.scatterplot(\n",
    "        data=df_mea_o[df_mea_o[\"participant_id\"] == participant_list[i]],\n",
    "        x=x, y=y, hue='current_intervention_name',\n",
    "        ax=axs[i], legend=legend\n",
    "    )\n",
    "\n",
    "axs[-1].legend(loc='upper center', bbox_to_anchor=(0.5, -0.5))"
   ]
  },
  {
   "cell_type": "markdown",
   "id": "a68b3f7e",
   "metadata": {},
   "source": [
    "#### Correlations"
   ]
  },
  {
   "cell_type": "code",
   "execution_count": 21,
   "id": "d8ae5bf4",
   "metadata": {},
   "outputs": [
    {
     "data": {
      "image/png": "[encoded data removed]",
      "text/plain": [
       "<Figure size 1500x500 with 6 Axes>"
      ]
     },
     "metadata": {},
     "output_type": "display_data"
    }
   ],
   "source": [
    "columns_to_include = [\n",
    "    'survey1_question1_response',\n",
    "    'survey1_question2_response',\n",
    "    'survey1_question3_response',\n",
    "    'survey1_question4_response']\n",
    "\n",
    "correlation_pearson = df_mea_all[columns_to_include].corr(method='pearson')\n",
    "correlation_kendall = df_mea_all[columns_to_include].corr(method='kendall')\n",
    "correlation_spearman = df_mea_all[columns_to_include].corr(method='spearman')\n",
    "\n",
    "fig, axes = plt.subplots(1, 3, figsize=(15, 5))\n",
    "\n",
    "sns.heatmap(correlation_pearson, vmin=-1, vmax=1, annot=True, cmap='BrBG',ax=axes[0], center=0)\n",
    "axes[0].set_title('Pearson Correlation')\n",
    "\n",
    "sns.heatmap(correlation_kendall, annot=True, cmap='coolwarm', ax=axes[1])\n",
    "axes[1].set_title('Kendall Correlation')\n",
    "\n",
    "sns.heatmap(correlation_spearman, annot=True, cmap='coolwarm', ax=axes[2])\n",
    "axes[2].set_title('Spearman Correlation')\n",
    "\n",
    "plt.tight_layout()\n",
    "plt.show()"
   ]
  },
  {
   "cell_type": "markdown",
   "id": "2de3f1fd",
   "metadata": {},
   "source": [
    "## Baseline Study: Karaoke vs No Karaoke"
   ]
  },
  {
   "cell_type": "markdown",
   "id": "8abeee8c",
   "metadata": {},
   "source": [
    "  - Baseline Studies  \n",
    "    - Examination of Outcomes   \n",
    "    - Linear Regression  \n",
    "      - Ordinary Least Squares (OLS) Regression  \n",
    "      - Linear Regression with Autoregressive Errors \n",
    "      - Bayesian linear regression models\n",
    "        - Bayesian AR(1) Model of Daily Stress Response to Intervention and Mediators\n",
    "        - Bayesian AR(1) Regression with Data-Driven Scale (MAD-Based)"
   ]
  },
  {
   "cell_type": "markdown",
   "id": "a76e42f6",
   "metadata": {},
   "source": [
    "#### Examination of Outcomes: Today Stress Level"
   ]
  },
  {
   "cell_type": "code",
   "execution_count": 22,
   "id": "3eac8d62",
   "metadata": {},
   "outputs": [
    {
     "name": "stdout",
     "output_type": "stream",
     "text": [
      "Karaoke days:     n = 8, std = 1.13, mean = 5.88\n",
      "No Karaoke days:  n = 8, std = 0.74, mean = 7.62\n",
      "\n"
     ]
    }
   ],
   "source": [
    "df_mea_o = df_mea_o[\n",
    "    (df_mea_o['measurement_name'] == 'Outcome') &\n",
    "    df_mea_o['survey1_question1_response'].notna() &\n",
    "    df_mea_o['current_intervention_name'].isin(['Karaoke!', 'No karaoke!'])\n",
    "]\n",
    "\n",
    "karaoke = df_mea_o.loc[\n",
    "    df_mea_o['current_intervention_name'] == 'Karaoke!',\n",
    "    'survey1_question1_response'\n",
    "]\n",
    "no_karaoke = df_mea_o.loc[\n",
    "    df_mea_o['current_intervention_name'] == 'No karaoke!',\n",
    "    'survey1_question1_response'\n",
    "]\n",
    "\n",
    "n_karaoke = karaoke.count()\n",
    "n_no_karaoke = no_karaoke.count()\n",
    "std_karaoke = karaoke.std(ddof=1)\n",
    "std_no_karaoke = no_karaoke.std(ddof=1)\n",
    "\n",
    "print(f\"Karaoke days:     n = {n_karaoke}, std = {std_karaoke:.2f}, mean = {karaoke.mean():.2f}\")\n",
    "print(f\"No Karaoke days:  n = {n_no_karaoke}, std = {std_no_karaoke:.2f}, mean = {no_karaoke.mean():.2f}\\n\")"
   ]
  },
  {
   "cell_type": "markdown",
   "id": "64930642",
   "metadata": {},
   "source": [
    "#### Examination of Outcomes: Prediction of Tomorrow Stress"
   ]
  },
  {
   "cell_type": "code",
   "execution_count": 23,
   "id": "ee07ff07",
   "metadata": {},
   "outputs": [
    {
     "name": "stdout",
     "output_type": "stream",
     "text": [
      "Karaoke days:     n = 8, std = 0.71, mean = 7.25\n",
      "No Karaoke days:  n = 8, std = 0.46, mean = 8.25\n",
      "\n"
     ]
    }
   ],
   "source": [
    "df_mea_o = df_mea_o[\n",
    "    (df_mea_o['measurement_name'] == 'Outcome') &\n",
    "    df_mea_o['survey1_question2_response'].notna() &\n",
    "    df_mea_o['current_intervention_name'].isin(['Karaoke!', 'No karaoke!'])\n",
    "]\n",
    "\n",
    "karaoke = df_mea_o.loc[\n",
    "    df_mea_o['current_intervention_name'] == 'Karaoke!',\n",
    "    'survey1_question2_response'\n",
    "]\n",
    "no_karaoke = df_mea_o.loc[\n",
    "    df_mea_o['current_intervention_name'] == 'No karaoke!',\n",
    "    'survey1_question2_response'\n",
    "]\n",
    "\n",
    "n_karaoke = karaoke.count()\n",
    "n_no_karaoke = no_karaoke.count()\n",
    "std_karaoke = karaoke.std(ddof=1)\n",
    "std_no_karaoke = no_karaoke.std(ddof=1)\n",
    "\n",
    "print(f\"Karaoke days:     n = {n_karaoke}, std = {std_karaoke:.2f}, mean = {karaoke.mean():.2f}\")\n",
    "print(f\"No Karaoke days:  n = {n_no_karaoke}, std = {std_no_karaoke:.2f}, mean = {no_karaoke.mean():.2f}\\n\")"
   ]
  },
  {
   "cell_type": "markdown",
   "id": "40a2bd9a",
   "metadata": {},
   "source": [
    "#### Examination of Outcomes: Mean Stress-Relief Score for Karaoke (Q3)\n",
    "The average score for Question 3 (survey1_question3_response), which assesses how much karaoke alleviated participants’ stress on days they performed."
   ]
  },
  {
   "cell_type": "code",
   "execution_count": 24,
   "id": "e165eda2",
   "metadata": {},
   "outputs": [
    {
     "data": {
      "text/plain": [
       "'Did your miracle stress-shrinking method (karaoke) help you feel like a calm, happy puppy, or was it more like trying to train a cat to do your taxes? <b>(Answer ONLY if you have done karaoke!)</b>'"
      ]
     },
     "execution_count": 24,
     "metadata": {},
     "output_type": "execute_result"
    }
   ],
   "source": [
    "df_mea.survey1_question3_text[0]"
   ]
  },
  {
   "cell_type": "code",
   "execution_count": 25,
   "id": "25be0054",
   "metadata": {},
   "outputs": [
    {
     "data": {
      "text/plain": [
       "8.375"
      ]
     },
     "execution_count": 25,
     "metadata": {},
     "output_type": "execute_result"
    }
   ],
   "source": [
    "# 'Did your miracle stress-shrinking method (karaoke) help you feel like a calm, happy puppy, or was it more like trying to train a cat to do your taxes? (Answer ONLY if you have done karaoke!)'\n",
    "mean_q3_karaoke = df_mea_o.loc[\n",
    "    df_mea_o['current_intervention_name'] == 'Karaoke!',\n",
    "    'survey1_question3_response'\n",
    "].mean()\n",
    "mean_q3_karaoke.item()"
   ]
  },
  {
   "cell_type": "markdown",
   "id": "95923364",
   "metadata": {},
   "source": [
    "**Mean Stress-Relief Score for Karaoke (Q3): 8.375**:\n",
    "On days when participant took part in karaoke, he rated Question 3—“How much did karaoke help reduce your stress?”—at an average of 8.375 out of 10, underscoring karaoke’s strong effectiveness as a stress-relief activity."
   ]
  },
  {
   "cell_type": "markdown",
   "id": "d5dfab20",
   "metadata": {},
   "source": [
    "#### Examination of Outcomes: Mean Stress-Management Difficulty Without Karaoke (Q4)\n",
    "The average score for Question 4 (survey1_question4_response), which measures participants’ difficulty in managing stress on days they did not do karaoke."
   ]
  },
  {
   "cell_type": "code",
   "execution_count": 26,
   "id": "d47855de",
   "metadata": {},
   "outputs": [
    {
     "data": {
      "text/plain": [
       "'When you skipped the method (karaoke) today, did managing stress feel more like “breezing through a sunny park” or “juggling flaming torches while riding a unicycle on a tightrope over a pit of snapping crocodiles”? <b>(Answer ONLY if you have NOT done karaoke!)</b>'"
      ]
     },
     "execution_count": 26,
     "metadata": {},
     "output_type": "execute_result"
    }
   ],
   "source": [
    "df_mea.survey1_question4_text[0]"
   ]
  },
  {
   "cell_type": "code",
   "execution_count": 27,
   "id": "5cc41a97",
   "metadata": {},
   "outputs": [
    {
     "data": {
      "text/plain": [
       "8.125"
      ]
     },
     "execution_count": 27,
     "metadata": {},
     "output_type": "execute_result"
    }
   ],
   "source": [
    "# 'When you skipped the method (karaoke) today, did managing stress feel more like “breezing through a sunny park” or “juggling flaming torches while riding a unicycle on a tightrope over a pit of snapping crocodiles”? <b>(Answer ONLY if you have NOT done karaoke!)</b>'\n",
    "mean_q4_karaoke = df_mea_o.loc[\n",
    "    df_mea_o['current_intervention_name'] == 'No karaoke!',\n",
    "    'survey1_question4_response'\n",
    "].mean()\n",
    "mean_q4_karaoke.item()"
   ]
  },
  {
   "cell_type": "markdown",
   "id": "ba262579",
   "metadata": {},
   "source": [
    "**Mean Stress-Management Difficulty Score Without Karaoke (Q4): 8.125**:\n",
    "On days particpant skipped karaoke, he rated his stress-management difficulty at 8.125 out of 10, noting that without karaoke he struggled significantly more to manage stress."
   ]
  },
  {
   "cell_type": "markdown",
   "id": "4da54a73",
   "metadata": {},
   "source": [
    "### Estimating treatment effect using Linear Regression with Autoregressive errors"
   ]
  },
  {
   "cell_type": "code",
   "execution_count": 28,
   "id": "1228e91c",
   "metadata": {},
   "outputs": [
    {
     "name": "stdout",
     "output_type": "stream",
     "text": [
      "OLS Regression Results:\n",
      "                                OLS Regression Results                                \n",
      "======================================================================================\n",
      "Dep. Variable:     survey1_question1_response   R-squared:                       0.490\n",
      "Model:                                    OLS   Adj. R-squared:                  0.454\n",
      "Method:                         Least Squares   F-statistic:                     13.45\n",
      "Date:                        Wed, 13 Aug 2025   Prob (F-statistic):            0.00254\n",
      "Time:                                11:25:15   Log-Likelihood:                -20.887\n",
      "No. Observations:                          16   AIC:                             45.77\n",
      "Df Residuals:                              14   BIC:                             47.32\n",
      "Df Model:                                   1                                         \n",
      "Covariance Type:                    nonrobust                                         \n",
      "==============================================================================\n",
      "                 coef    std err          t      P>|t|      [0.025      0.975]\n",
      "------------------------------------------------------------------------------\n",
      "const          7.6250      0.337     22.599      0.000       6.901       8.349\n",
      "D             -1.7500      0.477     -3.668      0.003      -2.773      -0.727\n",
      "==============================================================================\n",
      "Omnibus:                        0.325   Durbin-Watson:                   2.363\n",
      "Prob(Omnibus):                  0.850   Jarque-Bera (JB):                0.475\n",
      "Skew:                          -0.165   Prob(JB):                        0.788\n",
      "Kurtosis:                       2.223   Cond. No.                         2.62\n",
      "==============================================================================\n",
      "\n",
      "Notes:\n",
      "[1] Standard Errors assume that the covariance matrix of the errors is correctly specified.\n",
      "Durbin–Watson statistic (OLS residuals): 2.363\n",
      "\n"
     ]
    },
    {
     "name": "stderr",
     "output_type": "stream",
     "text": [
      "c:\\Users\\USER\\AppData\\Local\\r-miniconda\\Lib\\site-packages\\scipy\\stats\\_axis_nan_policy.py:430: UserWarning: `kurtosistest` p-value may be inaccurate with fewer than 20 observations; only n=16 observations were given.\n",
      "  return hypotest_fun_in(*args, **kwds)\n"
     ]
    }
   ],
   "source": [
    "df_mea_o = df_mea_o[\n",
    "    (df_mea_o['measurement_name'] == 'Outcome') &\n",
    "    df_mea_o['survey1_question1_response'].notna() &\n",
    "    df_mea_o['current_intervention_name'].isin(['Karaoke!', 'No karaoke!'])\n",
    "]\n",
    "\n",
    "df_mea_o = df_mea_o.sort_values('measurement_time')\n",
    "\n",
    "y = df_mea_o['survey1_question1_response']\n",
    "df_mea_o['D'] = (df_mea_o['current_intervention_name'] == 'Karaoke!').astype(int)\n",
    "X = sm.add_constant(df_mea_o['D'])\n",
    "\n",
    "ols_res = sm.OLS(y, X).fit()\n",
    "dw_ols = durbin_watson(ols_res.resid)\n",
    "\n",
    "print(\"OLS Regression Results:\")\n",
    "print(ols_res.summary())\n",
    "print(f\"Durbin–Watson statistic (OLS residuals): {dw_ols:.3f}\\n\")"
   ]
  },
  {
   "cell_type": "code",
   "execution_count": 29,
   "id": "57fe6caa",
   "metadata": {},
   "outputs": [
    {
     "name": "stdout",
     "output_type": "stream",
     "text": [
      "GLSAR Regression Results (AR(1) error structure):\n",
      "                               GLSAR Regression Results                               \n",
      "======================================================================================\n",
      "Dep. Variable:     survey1_question1_response   R-squared:                       0.610\n",
      "Model:                                  GLSAR   Adj. R-squared:                  0.580\n",
      "Method:                         Least Squares   F-statistic:                     20.30\n",
      "Date:                        Wed, 13 Aug 2025   Prob (F-statistic):           0.000591\n",
      "Time:                                11:25:15   Log-Likelihood:                -18.755\n",
      "No. Observations:                          15   AIC:                             41.51\n",
      "Df Residuals:                              13   BIC:                             42.93\n",
      "Df Model:                                   1                                         \n",
      "Covariance Type:                    nonrobust                                         \n",
      "==============================================================================\n",
      "                 coef    std err          t      P>|t|      [0.025      0.975]\n",
      "------------------------------------------------------------------------------\n",
      "const          7.5772      0.264     28.722      0.000       7.007       8.147\n",
      "D             -1.7804      0.395     -4.506      0.001      -2.634      -0.927\n",
      "==============================================================================\n",
      "Omnibus:                        0.144   Durbin-Watson:                   2.024\n",
      "Prob(Omnibus):                  0.930   Jarque-Bera (JB):                0.146\n",
      "Skew:                           0.151   Prob(JB):                        0.930\n",
      "Kurtosis:                       2.623   Cond. No.                         2.65\n",
      "==============================================================================\n",
      "\n",
      "Notes:\n",
      "[1] Standard Errors assume that the covariance matrix of the errors is correctly specified.\n",
      "Estimated AR(1) coefficient (rho): -0.242\n",
      "Durbin–Watson statistic (GLSAR residuals): 2.339\n"
     ]
    },
    {
     "name": "stderr",
     "output_type": "stream",
     "text": [
      "c:\\Users\\USER\\AppData\\Local\\r-miniconda\\Lib\\site-packages\\scipy\\stats\\_axis_nan_policy.py:430: UserWarning: `kurtosistest` p-value may be inaccurate with fewer than 20 observations; only n=15 observations were given.\n",
      "  return hypotest_fun_in(*args, **kwds)\n"
     ]
    }
   ],
   "source": [
    "# GLSAR Regression with AR(1) errors (Feasible GLS)\n",
    "glsar = sm.GLSAR(y, X, rho=1)\n",
    "glsar_res = glsar.iterative_fit(maxiter=10)\n",
    "dw_glsar = durbin_watson(glsar_res.resid)\n",
    "\n",
    "print(\"GLSAR Regression Results (AR(1) error structure):\")\n",
    "print(glsar_res.summary())\n",
    "print(f\"Estimated AR(1) coefficient (rho): {glsar.rho[0]:.3f}\")\n",
    "print(f\"Durbin–Watson statistic (GLSAR residuals): {dw_glsar:.3f}\")"
   ]
  },
  {
   "cell_type": "markdown",
   "id": "71f0715d",
   "metadata": {},
   "source": [
    "#### Bayesian AR(1) Model of Daily Stress Response to Karaoke and Mediators"
   ]
  },
  {
   "cell_type": "code",
   "execution_count": 30,
   "id": "cd32656a",
   "metadata": {},
   "outputs": [
    {
     "name": "stdout",
     "output_type": "stream",
     "text": [
      "Model result with neither fac1 nor fac2 (intervention only):\n"
     ]
    },
    {
     "name": "stderr",
     "output_type": "stream",
     "text": [
      "Initializing NUTS using jitter+adapt_diag...\n",
      "c:\\Users\\USER\\AppData\\Local\\r-miniconda\\Lib\\site-packages\\pytensor\\tensor\\rewriting\\elemwise.py:954: UserWarning: Loop fusion failed because the resulting node would exceed the kernel argument limit.\n",
      "  warn(\n",
      "Multiprocess sampling (2 chains in 2 jobs)\n",
      "NUTS: [beta0, beta_int, rho, sigma]\n"
     ]
    },
    {
     "data": {
      "text/html": [
       "<pre style=\"white-space:pre;overflow-x:auto;line-height:normal;font-family:Menlo,'DejaVu Sans Mono',consolas,'Courier New',monospace\">c:\\Users\\USER\\AppData\\Local\\r-miniconda\\Lib\\site-packages\\rich\\live.py:231: UserWarning: install \"ipywidgets\" for \n",
       "Jupyter support\n",
       "  warnings.warn('install \"ipywidgets\" for Jupyter support')\n",
       "</pre>\n"
      ],
      "text/plain": [
       "c:\\Users\\USER\\AppData\\Local\\r-miniconda\\Lib\\site-packages\\rich\\live.py:231: UserWarning: install \"ipywidgets\" for \n",
       "Jupyter support\n",
       "  warnings.warn('install \"ipywidgets\" for Jupyter support')\n"
      ]
     },
     "metadata": {},
     "output_type": "display_data"
    },
    {
     "data": {
      "text/html": [
       "<pre style=\"white-space:pre;overflow-x:auto;line-height:normal;font-family:Menlo,'DejaVu Sans Mono',consolas,'Courier New',monospace\"></pre>\n"
      ],
      "text/plain": []
     },
     "metadata": {},
     "output_type": "display_data"
    },
    {
     "name": "stderr",
     "output_type": "stream",
     "text": [
      "Sampling 2 chains for 500 tune and 500 draw iterations (1_000 + 1_000 draws total) took 74 seconds.\n",
      "We recommend running at least 4 chains for robust computation of convergence diagnostics\n",
      "The rhat statistic is larger than 1.01 for some parameters. This indicates problems during sampling. See https://arxiv.org/abs/1903.08008 for details\n"
     ]
    },
    {
     "name": "stdout",
     "output_type": "stream",
     "text": [
      "           mean     sd  hdi_2.5%  hdi_97.5%  mcse_mean  mcse_sd  ess_bulk  \\\n",
      "beta_int -1.392  0.443    -2.313     -0.440      0.025    0.020     332.0   \n",
      "rho      -0.145  0.276    -0.688      0.376      0.011    0.009     602.0   \n",
      "sigma     1.039  0.209     0.668      1.446      0.008    0.007     789.0   \n",
      "\n",
      "          ess_tail  r_hat  \n",
      "beta_int     306.0   1.01  \n",
      "rho          449.0   1.00  \n",
      "sigma        747.0   1.00  \n",
      "P(beta_int ≤ –0.5) = 96.10%\n",
      "P(–0.5 < beta_int < 0) = 3.80%\n",
      "P(beta_int ≥ 0) = 0.10%\n",
      "P(Stress reduction of karaoke ≥ 0.5) = 96.10%\n",
      "\n",
      "Model result with only fac1:\n"
     ]
    },
    {
     "name": "stderr",
     "output_type": "stream",
     "text": [
      "Initializing NUTS using jitter+adapt_diag...\n",
      "c:\\Users\\USER\\AppData\\Local\\r-miniconda\\Lib\\site-packages\\pytensor\\tensor\\rewriting\\elemwise.py:954: UserWarning: Loop fusion failed because the resulting node would exceed the kernel argument limit.\n",
      "  warn(\n",
      "Multiprocess sampling (2 chains in 2 jobs)\n",
      "NUTS: [beta0, beta_int, beta_f1, rho, sigma]\n"
     ]
    },
    {
     "data": {
      "text/html": [
       "<pre style=\"white-space:pre;overflow-x:auto;line-height:normal;font-family:Menlo,'DejaVu Sans Mono',consolas,'Courier New',monospace\">c:\\Users\\USER\\AppData\\Local\\r-miniconda\\Lib\\site-packages\\rich\\live.py:231: UserWarning: install \"ipywidgets\" for \n",
       "Jupyter support\n",
       "  warnings.warn('install \"ipywidgets\" for Jupyter support')\n",
       "</pre>\n"
      ],
      "text/plain": [
       "c:\\Users\\USER\\AppData\\Local\\r-miniconda\\Lib\\site-packages\\rich\\live.py:231: UserWarning: install \"ipywidgets\" for \n",
       "Jupyter support\n",
       "  warnings.warn('install \"ipywidgets\" for Jupyter support')\n"
      ]
     },
     "metadata": {},
     "output_type": "display_data"
    },
    {
     "data": {
      "text/html": [
       "<pre style=\"white-space:pre;overflow-x:auto;line-height:normal;font-family:Menlo,'DejaVu Sans Mono',consolas,'Courier New',monospace\"></pre>\n"
      ],
      "text/plain": []
     },
     "metadata": {},
     "output_type": "display_data"
    },
    {
     "name": "stderr",
     "output_type": "stream",
     "text": [
      "Sampling 2 chains for 500 tune and 500 draw iterations (1_000 + 1_000 draws total) took 324 seconds.\n",
      "We recommend running at least 4 chains for robust computation of convergence diagnostics\n"
     ]
    },
    {
     "name": "stdout",
     "output_type": "stream",
     "text": [
      "           mean     sd  hdi_2.5%  hdi_97.5%  mcse_mean  mcse_sd  ess_bulk  \\\n",
      "beta_int -1.396  0.393    -2.139     -0.626      0.017    0.022     512.0   \n",
      "beta_f1   0.542  0.245     0.070      1.062      0.012    0.010     405.0   \n",
      "rho      -0.246  0.300    -0.826      0.332      0.014    0.013     466.0   \n",
      "sigma     0.906  0.199     0.577      1.292      0.011    0.014     439.0   \n",
      "\n",
      "          ess_tail  r_hat  \n",
      "beta_int     383.0    1.0  \n",
      "beta_f1      371.0    1.0  \n",
      "rho          395.0    1.0  \n",
      "sigma        342.0    1.0  \n",
      "P(beta_int ≤ –0.5) = 98.00%\n",
      "P(–0.5 < beta_int < 0) = 1.70%\n",
      "P(beta_int ≥ 0) = 0.30%\n",
      "P(Stress reduction of karaoke ≥ 0.5) = 98.00%\n",
      "\n",
      "Model result with only fac2:\n"
     ]
    },
    {
     "name": "stderr",
     "output_type": "stream",
     "text": [
      "Initializing NUTS using jitter+adapt_diag...\n",
      "c:\\Users\\USER\\AppData\\Local\\r-miniconda\\Lib\\site-packages\\pytensor\\tensor\\rewriting\\elemwise.py:954: UserWarning: Loop fusion failed because the resulting node would exceed the kernel argument limit.\n",
      "  warn(\n",
      "Multiprocess sampling (2 chains in 2 jobs)\n",
      "NUTS: [beta0, beta_int, beta_f2, rho, sigma]\n"
     ]
    },
    {
     "data": {
      "text/html": [
       "<pre style=\"white-space:pre;overflow-x:auto;line-height:normal;font-family:Menlo,'DejaVu Sans Mono',consolas,'Courier New',monospace\">c:\\Users\\USER\\AppData\\Local\\r-miniconda\\Lib\\site-packages\\rich\\live.py:231: UserWarning: install \"ipywidgets\" for \n",
       "Jupyter support\n",
       "  warnings.warn('install \"ipywidgets\" for Jupyter support')\n",
       "</pre>\n"
      ],
      "text/plain": [
       "c:\\Users\\USER\\AppData\\Local\\r-miniconda\\Lib\\site-packages\\rich\\live.py:231: UserWarning: install \"ipywidgets\" for \n",
       "Jupyter support\n",
       "  warnings.warn('install \"ipywidgets\" for Jupyter support')\n"
      ]
     },
     "metadata": {},
     "output_type": "display_data"
    },
    {
     "data": {
      "text/html": [
       "<pre style=\"white-space:pre;overflow-x:auto;line-height:normal;font-family:Menlo,'DejaVu Sans Mono',consolas,'Courier New',monospace\"></pre>\n"
      ],
      "text/plain": []
     },
     "metadata": {},
     "output_type": "display_data"
    },
    {
     "name": "stderr",
     "output_type": "stream",
     "text": [
      "Sampling 2 chains for 500 tune and 500 draw iterations (1_000 + 1_000 draws total) took 405 seconds.\n",
      "We recommend running at least 4 chains for robust computation of convergence diagnostics\n"
     ]
    },
    {
     "name": "stdout",
     "output_type": "stream",
     "text": [
      "           mean     sd  hdi_2.5%  hdi_97.5%  mcse_mean  mcse_sd  ess_bulk  \\\n",
      "beta_int -0.903  0.345    -1.545     -0.245      0.016    0.012     439.0   \n",
      "beta_f2   0.746  0.234     0.264      1.158      0.012    0.010     378.0   \n",
      "rho      -0.481  0.252    -0.968     -0.006      0.013    0.008     372.0   \n",
      "sigma     0.780  0.169     0.516      1.141      0.008    0.009     462.0   \n",
      "\n",
      "          ess_tail  r_hat  \n",
      "beta_int     542.0    1.0  \n",
      "beta_f2      425.0    1.0  \n",
      "rho          348.0    1.0  \n",
      "sigma        534.0    1.0  \n",
      "P(beta_int ≤ –0.5) = 88.10%\n",
      "P(–0.5 < beta_int < 0) = 11.40%\n",
      "P(beta_int ≥ 0) = 0.50%\n",
      "P(Stress reduction of karaoke ≥ 0.5) = 88.10%\n",
      "\n",
      "Model result with both fac1 and fac2:\n"
     ]
    },
    {
     "name": "stderr",
     "output_type": "stream",
     "text": [
      "Initializing NUTS using jitter+adapt_diag...\n",
      "c:\\Users\\USER\\AppData\\Local\\r-miniconda\\Lib\\site-packages\\pytensor\\tensor\\rewriting\\elemwise.py:954: UserWarning: Loop fusion failed because the resulting node would exceed the kernel argument limit.\n",
      "  warn(\n",
      "Multiprocess sampling (2 chains in 2 jobs)\n",
      "NUTS: [beta0, beta_int, beta_f1, beta_f2, rho, sigma]\n"
     ]
    },
    {
     "data": {
      "text/html": [
       "<pre style=\"white-space:pre;overflow-x:auto;line-height:normal;font-family:Menlo,'DejaVu Sans Mono',consolas,'Courier New',monospace\">c:\\Users\\USER\\AppData\\Local\\r-miniconda\\Lib\\site-packages\\rich\\live.py:231: UserWarning: install \"ipywidgets\" for \n",
       "Jupyter support\n",
       "  warnings.warn('install \"ipywidgets\" for Jupyter support')\n",
       "</pre>\n"
      ],
      "text/plain": [
       "c:\\Users\\USER\\AppData\\Local\\r-miniconda\\Lib\\site-packages\\rich\\live.py:231: UserWarning: install \"ipywidgets\" for \n",
       "Jupyter support\n",
       "  warnings.warn('install \"ipywidgets\" for Jupyter support')\n"
      ]
     },
     "metadata": {},
     "output_type": "display_data"
    },
    {
     "data": {
      "text/html": [
       "<pre style=\"white-space:pre;overflow-x:auto;line-height:normal;font-family:Menlo,'DejaVu Sans Mono',consolas,'Courier New',monospace\"></pre>\n"
      ],
      "text/plain": []
     },
     "metadata": {},
     "output_type": "display_data"
    },
    {
     "name": "stderr",
     "output_type": "stream",
     "text": [
      "Sampling 2 chains for 500 tune and 500 draw iterations (1_000 + 1_000 draws total) took 541 seconds.\n",
      "We recommend running at least 4 chains for robust computation of convergence diagnostics\n"
     ]
    },
    {
     "name": "stdout",
     "output_type": "stream",
     "text": [
      "           mean     sd  hdi_2.5%  hdi_97.5%  mcse_mean  mcse_sd  ess_bulk  \\\n",
      "beta_int -0.970  0.321    -1.612     -0.366      0.015    0.013     492.0   \n",
      "beta_f1   0.353  0.194    -0.015      0.747      0.009    0.008     458.0   \n",
      "beta_f2   0.617  0.235     0.105      1.054      0.014    0.012     320.0   \n",
      "rho      -0.500  0.252    -0.991     -0.034      0.015    0.011     288.0   \n",
      "sigma     0.723  0.168     0.464      1.068      0.008    0.007     448.0   \n",
      "\n",
      "          ess_tail  r_hat  \n",
      "beta_int     513.0    1.0  \n",
      "beta_f1      472.0    1.0  \n",
      "beta_f2      243.0    1.0  \n",
      "rho          303.0    1.0  \n",
      "sigma        415.0    1.0  \n",
      "P(beta_int ≤ –0.5) = 92.50%\n",
      "P(–0.5 < beta_int < 0) = 7.40%\n",
      "P(beta_int ≥ 0) = 0.10%\n",
      "P(Stress reduction of karaoke ≥ 0.5) = 92.50%\n",
      "\n"
     ]
    }
   ],
   "source": [
    "def run_model(fac_cols, beta_names):\n",
    "    out = df_mea[df_mea['measurement_name'] == 'Outcome']\n",
    "    med = df_mea[df_mea['measurement_name'] == 'Mediators']\n",
    "    data = (\n",
    "        pd.merge(\n",
    "            out[['current_day_of_study', 'survey1_question1_response', 'current_intervention_name']],\n",
    "            med[['current_day_of_study'] + fac_cols] if fac_cols else out[['current_day_of_study']],\n",
    "            on='current_day_of_study',\n",
    "            how='inner'\n",
    "        ).dropna().sort_values('current_day_of_study').reset_index(drop=True)\n",
    "    )\n",
    "    y = data['survey1_question1_response'].values\n",
    "    interv = (data['current_intervention_name'] == 'Karaoke!').astype(int).values\n",
    "    n = len(data)\n",
    "    fac_arrays = [data[col].values for col in fac_cols] if fac_cols else []\n",
    "\n",
    "    with pm.Model() as model:\n",
    "        beta0 = pm.Normal('beta0', mu=0, sigma=10)\n",
    "        beta_int = pm.Normal('beta_int', mu=0, sigma=1)\n",
    "        betas = [pm.Normal(beta_name, mu=0, sigma=1) for beta_name in beta_names]\n",
    "        rho = pm.Uniform('rho', lower=-1, upper=1)\n",
    "        sigma = pm.HalfNormal('sigma', sigma=1)\n",
    "        mu = beta0 + beta_int * interv\n",
    "        for beta, fac in zip(betas, fac_arrays):\n",
    "            mu += beta * fac\n",
    "        pm.Normal('y_0', mu=mu[0], sigma=sigma, observed=y[0])\n",
    "        for t in range(1, n):\n",
    "            adjustment = rho * (y[t-1] - mu[t-1])\n",
    "            pm.Normal(f'y_{t}', mu=mu[t] + adjustment, sigma=sigma, observed=y[t])\n",
    "        trace = pm.sample(draws=500, tune=500, chains=2, target_accept=0.9, return_inferencedata=True)\n",
    "    summary = az.summary(trace, var_names=['beta_int'] + beta_names + ['rho', 'sigma'], hdi_prob=0.95)\n",
    "    print(summary)\n",
    "    beta_samples = trace.posterior['beta_int'].values.flatten()\n",
    "    p_le_neg05 = (beta_samples <= -0.5).mean()\n",
    "    p_between  = ((beta_samples > -0.5) & (beta_samples < 0)).mean()\n",
    "    p_ge0      = (beta_samples >= 0).mean()\n",
    "    print(f\"P(beta_int ≤ –0.5) = {p_le_neg05:.2%}\")\n",
    "    print(f\"P(–0.5 < beta_int < 0) = {p_between:.2%}\")\n",
    "    print(f\"P(beta_int ≥ 0) = {p_ge0:.2%}\")\n",
    "    prob = (trace.posterior['beta_int'] < -0.5).mean().item()\n",
    "    print(f\"P(Stress reduction of karaoke ≥ 0.5) = {prob:.2%}\\n\")\n",
    "\n",
    "print(\"Model result with neither fac1 nor fac2 (intervention only):\")\n",
    "run_model([], [])\n",
    "\n",
    "print(\"Model result with only fac1:\")\n",
    "run_model(['survey2_question1_response'], ['beta_f1'])\n",
    "\n",
    "print(\"Model result with only fac2:\")\n",
    "run_model(['survey2_question2_response'], ['beta_f2'])\n",
    "\n",
    "print(\"Model result with both fac1 and fac2:\")\n",
    "run_model(['survey2_question1_response', 'survey2_question2_response'], ['beta_f1', 'beta_f2'])"
   ]
  },
  {
   "cell_type": "markdown",
   "id": "8ed9723e",
   "metadata": {},
   "source": [
    "#### Bayesian AR(1) Regression with Data-Driven Scale (MAD-Based)"
   ]
  },
  {
   "cell_type": "code",
   "execution_count": 31,
   "id": "8eaa586c",
   "metadata": {},
   "outputs": [
    {
     "name": "stderr",
     "output_type": "stream",
     "text": [
      "Initializing NUTS using jitter+adapt_diag...\n",
      "c:\\Users\\USER\\AppData\\Local\\r-miniconda\\Lib\\site-packages\\pytensor\\tensor\\rewriting\\elemwise.py:954: UserWarning: Loop fusion failed because the resulting node would exceed the kernel argument limit.\n",
      "  warn(\n",
      "Multiprocess sampling (2 chains in 2 jobs)\n",
      "NUTS: [beta0, beta_int, rho, sigma]\n"
     ]
    },
    {
     "data": {
      "text/html": [
       "<pre style=\"white-space:pre;overflow-x:auto;line-height:normal;font-family:Menlo,'DejaVu Sans Mono',consolas,'Courier New',monospace\">c:\\Users\\USER\\AppData\\Local\\r-miniconda\\Lib\\site-packages\\rich\\live.py:231: UserWarning: install \"ipywidgets\" for \n",
       "Jupyter support\n",
       "  warnings.warn('install \"ipywidgets\" for Jupyter support')\n",
       "</pre>\n"
      ],
      "text/plain": [
       "c:\\Users\\USER\\AppData\\Local\\r-miniconda\\Lib\\site-packages\\rich\\live.py:231: UserWarning: install \"ipywidgets\" for \n",
       "Jupyter support\n",
       "  warnings.warn('install \"ipywidgets\" for Jupyter support')\n"
      ]
     },
     "metadata": {},
     "output_type": "display_data"
    },
    {
     "data": {
      "text/html": [
       "<pre style=\"white-space:pre;overflow-x:auto;line-height:normal;font-family:Menlo,'DejaVu Sans Mono',consolas,'Courier New',monospace\"></pre>\n"
      ],
      "text/plain": []
     },
     "metadata": {},
     "output_type": "display_data"
    },
    {
     "name": "stderr",
     "output_type": "stream",
     "text": [
      "Sampling 2 chains for 500 tune and 500 draw iterations (1_000 + 1_000 draws total) took 71 seconds.\n",
      "We recommend running at least 4 chains for robust computation of convergence diagnostics\n"
     ]
    },
    {
     "name": "stdout",
     "output_type": "stream",
     "text": [
      "           mean     sd  hdi_2.5%  hdi_97.5%  mcse_mean  mcse_sd  ess_bulk  \\\n",
      "beta_int -1.595  0.450    -2.488     -0.796      0.020    0.017     508.0   \n",
      "rho      -0.107  0.304    -0.776      0.426      0.013    0.012     574.0   \n",
      "sigma     1.048  0.219     0.673      1.504      0.008    0.007     661.0   \n",
      "\n",
      "          ess_tail  r_hat  \n",
      "beta_int     489.0    1.0  \n",
      "rho          570.0    1.0  \n",
      "sigma        562.0    1.0  \n",
      "P(beta_int ≤ –0.5) = 99.10%\n",
      "P(–0.5 < beta_int < 0) = 0.80%\n",
      "P(beta_int ≥ 0) = 0.10%\n"
     ]
    },
    {
     "data": {
      "image/png": "[encoded data removed]",
      "text/plain": [
       "<Figure size 1000x400 with 2 Axes>"
      ]
     },
     "metadata": {},
     "output_type": "display_data"
    }
   ],
   "source": [
    "outcome_data = df_mea[df_mea['measurement_name'] == 'Outcome']\n",
    "data = (\n",
    "    outcome_data[['current_day_of_study', 'survey1_question1_response', 'current_intervention_name']]\n",
    "    .dropna()\n",
    "    .sort_values('current_day_of_study')\n",
    "    .reset_index(drop=True)\n",
    ")\n",
    "\n",
    "y      = data['survey1_question1_response'].values\n",
    "interv = (data['current_intervention_name'] == \"Karaoke!\").astype(int).values\n",
    "n      = len(data)\n",
    "\n",
    "mad = np.median(np.abs(y - np.median(y)))\n",
    "scale = max(mad, 2.0)\n",
    "\n",
    "with pm.Model() as model:\n",
    "    beta0    = pm.StudentT('beta0',    nu=3, mu=0, sigma=scale)   \n",
    "    beta_int = pm.StudentT('beta_int', nu=3, mu=0, sigma=scale)   \n",
    "    rho      = pm.Uniform('rho',       lower=-1, upper=1)         \n",
    "    sigma    = pm.HalfStudentT('sigma', nu=3, sigma=scale)        \n",
    "\n",
    "    mu = beta0 + beta_int * interv\n",
    "\n",
    "    pm.Normal('y_0', mu=mu[0], sigma=sigma, observed=y[0])\n",
    "\n",
    "    for t in range(1, n):\n",
    "        adjustment = rho * (y[t-1] - mu[t-1])\n",
    "        pm.Normal(f'y_{t}', mu=mu[t] + adjustment, sigma=sigma, observed=y[t])\n",
    "\n",
    "    trace = pm.sample(\n",
    "        draws=500,\n",
    "        tune=500,\n",
    "        chains=2,\n",
    "        target_accept=0.9,\n",
    "        return_inferencedata=True\n",
    "    )\n",
    "\n",
    "summary = az.summary(trace, var_names=['beta_int', 'rho', 'sigma'], hdi_prob=0.95)\n",
    "print(summary)\n",
    "\n",
    "beta_samples = trace.posterior['beta_int'].values.flatten()\n",
    "\n",
    "p_le_neg05 = (beta_samples <= -0.5).mean()\n",
    "p_between  = ((beta_samples > -0.5) & (beta_samples < 0)).mean()\n",
    "p_ge0      = (beta_samples >= 0).mean()\n",
    "\n",
    "print(f\"P(beta_int ≤ –0.5) = {p_le_neg05:.2%}\")\n",
    "print(f\"P(–0.5 < beta_int < 0) = {p_between:.2%}\")\n",
    "print(f\"P(beta_int ≥ 0) = {p_ge0:.2%}\")\n",
    "\n",
    "mean_beta = summary.loc['beta_int', 'mean']\n",
    "hdi_low   = summary.loc['beta_int', 'hdi_2.5%']\n",
    "hdi_high  = summary.loc['beta_int', 'hdi_97.5%']\n",
    "\n",
    "fig, axes = plt.subplots(1, 2, figsize=(10, 4), gridspec_kw={'width_ratios': [1, 1]})\n",
    "\n",
    "ax = axes[0]\n",
    "ax.errorbar(0, mean_beta,\n",
    "            yerr=[[mean_beta - hdi_low], [hdi_high - mean_beta]],\n",
    "            fmt='o', capsize=5, color='black')\n",
    "ax.axhline(0, color='gray', linestyle='--')\n",
    "ax.set_xticks([0])\n",
    "ax.set_xticklabels(['Karaoke effect'])\n",
    "ax.set_ylabel('Stress reduction (points)')\n",
    "ax.set_title('A. Posterior mean ± 95% CI', loc='left', pad=10, fontsize=12, fontweight='bold')\n",
    "\n",
    "ax = axes[1]\n",
    "ax.bar(0, p_le_neg05, width=0.6, color='darkgreen',  label='Effect ≤ –0.5')\n",
    "ax.bar(0, p_between,  width=0.6, bottom=p_le_neg05, color='lightgreen', label='–0.5 < Effect < 0')\n",
    "ax.bar(0, p_ge0,      width=0.6, bottom=p_le_neg05+p_between, color='gold', label='Effect ≥ 0')\n",
    "ax.axhline(0.7, color='gray', linestyle='--', label='Responder threshold (0.7)')\n",
    "ax.set_xticks([0])\n",
    "ax.set_xticklabels(['Posterior mass'])\n",
    "ax.set_ylim(0, 1)\n",
    "ax.set_ylabel('Probability')\n",
    "ax.set_title('B. Distribution of effect size', loc='left', pad=10, fontsize=12, fontweight='bold')\n",
    "ax.legend(loc='upper right', fontsize=8)\n",
    "\n",
    "plt.tight_layout()\n",
    "plt.show()"
   ]
  }
 ],
 "metadata": {
  "kernelspec": {
   "display_name": "base",
   "language": "python",
   "name": "python3"
  },
  "language_info": {
   "codemirror_mode": {
    "name": "ipython",
    "version": 3
   },
   "file_extension": ".py",
   "mimetype": "text/x-python",
   "name": "python",
   "nbconvert_exporter": "python",
   "pygments_lexer": "ipython3",
   "version": "3.11.5"
  }
 },
 "nbformat": 4,
 "nbformat_minor": 5
}
