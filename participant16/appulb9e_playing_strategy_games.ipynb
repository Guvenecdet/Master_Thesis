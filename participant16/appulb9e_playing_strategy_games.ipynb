{
 "cells": [
  {
   "cell_type": "markdown",
   "id": "f101cfde",
   "metadata": {},
   "source": [
    "## Data reading and Data Insights"
   ]
  },
  {
   "cell_type": "markdown",
   "id": "968516ae",
   "metadata": {},
   "source": [
    "**Playing Strategy Games: appulb9e, 16 days participation**\n",
    "\n",
    "*Dataset:* 'Playing Strategy Games' vs 'Not Playing Strategy Games' study"
   ]
  },
  {
   "cell_type": "markdown",
   "id": "fc84f47f",
   "metadata": {},
   "source": [
    "#### Libraries"
   ]
  },
  {
   "cell_type": "code",
   "execution_count": 2,
   "id": "610613ca",
   "metadata": {},
   "outputs": [],
   "source": [
    "import pandas as pd\n",
    "import numpy as np\n",
    "import matplotlib.pyplot as plt\n",
    "import seaborn as sns\n",
    "from scipy import stats\n",
    "import statsmodels.api as sm\n",
    "from statsmodels.stats.stattools import durbin_watson\n",
    "import pymc as pm\n",
    "import arviz as az"
   ]
  },
  {
   "cell_type": "code",
   "execution_count": 3,
   "id": "565cf087",
   "metadata": {},
   "outputs": [],
   "source": [
    "path = \"C://Users//USER//Desktop//StudyU_Results//\"\n",
    "df_intervention = pd.read_csv(path+\"self-designed_n-of-1_trials_on_stress_management_-_playing_strategy_games_-_appulb9e_2025-04-24 17_52_59.293//interventions.csv\")\n",
    "#print(df_intervention.head())\n",
    "df_mea = pd.read_csv(path+\"self-designed_n-of-1_trials_on_stress_management_-_playing_strategy_games_-_appulb9e_2025-04-24 17_52_59.293//measurements.csv\")\n",
    "#print(df_mea.head())"
   ]
  },
  {
   "cell_type": "markdown",
   "id": "d1ad7802",
   "metadata": {},
   "source": [
    "## Data Analysis and Preprocessing"
   ]
  },
  {
   "cell_type": "markdown",
   "id": "e24520cc",
   "metadata": {},
   "source": [
    "- Pre-analysis: appulb9e\n",
    "    - Number of Participant\n",
    "    - Participation of the study\n",
    "    - Missing Values\n",
    "    - Remove Participants Who Joined Outside the Study\n",
    "    - Data Preperation"
   ]
  },
  {
   "cell_type": "markdown",
   "id": "10c82df0",
   "metadata": {},
   "source": [
    "#### Number of Participant"
   ]
  },
  {
   "cell_type": "code",
   "execution_count": 4,
   "id": "9e423290",
   "metadata": {},
   "outputs": [
    {
     "name": "stdout",
     "output_type": "stream",
     "text": [
      "The column 'participant_id' has only one unique value: 'a12d5355-12e4-436c-b424-cf697c9a6cf0'\n"
     ]
    }
   ],
   "source": [
    "column_name = 'participant_id' \n",
    "\n",
    "unique_count = df_intervention[column_name].nunique()\n",
    "\n",
    "if unique_count == 1:\n",
    "    only_value = df_intervention[column_name].iloc[0]\n",
    "    print(f\"The column '{column_name}' has only one unique value: {only_value!r}\")\n",
    "else:\n",
    "    print(f\"The column '{column_name}' has {unique_count} unique values.\")\n",
    "    print(\"Unique values are:\", df_intervention[column_name].unique())"
   ]
  },
  {
   "cell_type": "markdown",
   "id": "c4c7e973",
   "metadata": {},
   "source": [
    "#### Participation of the study"
   ]
  },
  {
   "cell_type": "code",
   "execution_count": 5,
   "id": "79cbb43d",
   "metadata": {},
   "outputs": [
    {
     "name": "stdout",
     "output_type": "stream",
     "text": [
      "                         participant_id  participation_days\n",
      "0  a12d5355-12e4-436c-b424-cf697c9a6cf0                  16\n"
     ]
    }
   ],
   "source": [
    "df_mea['measurement_time'] = pd.to_datetime(df_mea['measurement_time'], utc=True)\n",
    "\n",
    "participation_days = (\n",
    "    df_mea\n",
    "    .groupby('participant_id')['measurement_time']\n",
    "    .apply(lambda x: x.dt.date.nunique())\n",
    "    .reset_index(name='participation_days')\n",
    ")\n",
    "\n",
    "print(participation_days)"
   ]
  },
  {
   "cell_type": "markdown",
   "id": "6fd47a75",
   "metadata": {},
   "source": [
    "As anticipated, the study comprised a single participant, with a total participation period of 16 days."
   ]
  },
  {
   "cell_type": "markdown",
   "id": "52c79068",
   "metadata": {},
   "source": [
    "#### Missing Values"
   ]
  },
  {
   "cell_type": "code",
   "execution_count": 6,
   "id": "0d543d72",
   "metadata": {},
   "outputs": [
    {
     "name": "stdout",
     "output_type": "stream",
     "text": [
      "\n",
      "--- Participant a12d5355-12e4-436c-b424-cf697c9a6cf0 ---\n",
      "\n",
      "  Outcome:\n",
      "    Start date:           2025-04-08\n",
      "    End of expected 16d:  2025-04-23\n",
      "    Expected days count:  16\n",
      "    Completed days count: 16\n",
      "    Missed days count:    0\n",
      "\n",
      "  Mediators:\n",
      "    Start date:           2025-04-08\n",
      "    End of expected 16d:  2025-04-23\n",
      "    Expected days count:  16\n",
      "    Completed days count: 16\n",
      "    Missed days count:    0\n"
     ]
    }
   ],
   "source": [
    "df_mea['measurement_time'] = pd.to_datetime(df_mea['measurement_time'])\n",
    "\n",
    "results = {}\n",
    "\n",
    "for pid in df_mea['participant_id'].unique():\n",
    "    results[pid] = {}\n",
    "    df_part = df_mea[df_mea['participant_id'] == pid]\n",
    "    \n",
    "    for name in ['Outcome', 'Mediators']:\n",
    "        sub = df_part[df_part['measurement_name'] == name].copy()\n",
    "        if sub.empty:\n",
    "            results[pid][name] = None\n",
    "            continue\n",
    "\n",
    "        sub['date'] = sub['measurement_time'].dt.date\n",
    "\n",
    "        start_date = sub['date'].min()\n",
    "\n",
    "        expected_dates = pd.date_range(start_date, periods=16, freq='D').date\n",
    "\n",
    "        done_dates = set(sub['date']) & set(expected_dates)\n",
    "\n",
    "        missed_dates = sorted(set(expected_dates) - done_dates)\n",
    "\n",
    "        results[pid][name] = {\n",
    "            'start_date': start_date,\n",
    "            'end_expected': expected_dates[-1],\n",
    "            'expected_days': len(expected_dates),           \n",
    "            'completed_days': len(done_dates),\n",
    "            'missed_days_count': len(missed_dates),\n",
    "            'missed_dates': missed_dates\n",
    "        }\n",
    "\n",
    "for pid, measures in results.items():\n",
    "    print(f\"\\n--- Participant {pid} ---\")\n",
    "    for name, stats in measures.items():\n",
    "        if stats is None:\n",
    "            print(f\"{name}: no data\")\n",
    "            continue\n",
    "        print(f\"\\n  {name}:\")\n",
    "        print(f\"    Start date:           {stats['start_date']}\")\n",
    "        print(f\"    End of expected 16d:  {stats['end_expected']}\")\n",
    "        print(f\"    Expected days count:  {stats['expected_days']}\")\n",
    "        print(f\"    Completed days count: {stats['completed_days']}\")\n",
    "        print(f\"    Missed days count:    {stats['missed_days_count']}\")\n",
    "        if stats['missed_dates']:\n",
    "            print(\"    Missed dates:\")\n",
    "            for d in stats['missed_dates']:\n",
    "                print(\"      \", d)"
   ]
  },
  {
   "cell_type": "markdown",
   "id": "a9abbd74",
   "metadata": {},
   "source": [
    "The participant consistently took part in the study every day over the 16-day period."
   ]
  },
  {
   "cell_type": "markdown",
   "id": "456ef994",
   "metadata": {},
   "source": [
    "#### Remove Participants Who Joined Outside the Study"
   ]
  },
  {
   "cell_type": "code",
   "execution_count": 7,
   "id": "613b1316",
   "metadata": {},
   "outputs": [],
   "source": [
    "# df_mea = df_mea[df_mea['participant_id'] != \"ca773388-eb42-4716-995a-476ed72c0475\"]\n",
    "# df_mea.shape[0]"
   ]
  },
  {
   "cell_type": "markdown",
   "id": "26a0d2f5",
   "metadata": {},
   "source": [
    "#### Data Preperation"
   ]
  },
  {
   "cell_type": "code",
   "execution_count": 8,
   "id": "5c2ba47f",
   "metadata": {},
   "outputs": [
    {
     "data": {
      "text/html": [
       "<div>\n",
       "<style scoped>\n",
       "    .dataframe tbody tr th:only-of-type {\n",
       "        vertical-align: middle;\n",
       "    }\n",
       "\n",
       "    .dataframe tbody tr th {\n",
       "        vertical-align: top;\n",
       "    }\n",
       "\n",
       "    .dataframe thead th {\n",
       "        text-align: right;\n",
       "    }\n",
       "</style>\n",
       "<table border=\"1\" class=\"dataframe\">\n",
       "  <thead>\n",
       "    <tr style=\"text-align: right;\">\n",
       "      <th></th>\n",
       "      <th>measurement_time</th>\n",
       "      <th>measurement_name</th>\n",
       "      <th>participant_id</th>\n",
       "      <th>current_day_of_study</th>\n",
       "      <th>current_intervention_name</th>\n",
       "      <th>survey1_question1_response</th>\n",
       "      <th>survey1_question2_response</th>\n",
       "      <th>survey1_question3_response</th>\n",
       "      <th>survey1_question4_response</th>\n",
       "      <th>survey2_question1_response</th>\n",
       "      <th>survey2_question2_response</th>\n",
       "    </tr>\n",
       "  </thead>\n",
       "  <tbody>\n",
       "    <tr>\n",
       "      <th>0</th>\n",
       "      <td>2025-04-23 19:43:00.861733+00:00</td>\n",
       "      <td>Mediators</td>\n",
       "      <td>a12d5355-12e4-436c-b424-cf697c9a6cf0</td>\n",
       "      <td>15</td>\n",
       "      <td>Playing strategy games!</td>\n",
       "      <td>NaN</td>\n",
       "      <td>NaN</td>\n",
       "      <td>NaN</td>\n",
       "      <td>NaN</td>\n",
       "      <td>6.0</td>\n",
       "      <td>6.0</td>\n",
       "    </tr>\n",
       "  </tbody>\n",
       "</table>\n",
       "</div>"
      ],
      "text/plain": [
       "                  measurement_time measurement_name  \\\n",
       "0 2025-04-23 19:43:00.861733+00:00        Mediators   \n",
       "\n",
       "                         participant_id  current_day_of_study  \\\n",
       "0  a12d5355-12e4-436c-b424-cf697c9a6cf0                    15   \n",
       "\n",
       "  current_intervention_name  survey1_question1_response  \\\n",
       "0   Playing strategy games!                         NaN   \n",
       "\n",
       "   survey1_question2_response  survey1_question3_response  \\\n",
       "0                         NaN                         NaN   \n",
       "\n",
       "   survey1_question4_response  survey2_question1_response  \\\n",
       "0                         NaN                         6.0   \n",
       "\n",
       "   survey2_question2_response  \n",
       "0                         6.0  "
      ]
     },
     "execution_count": 8,
     "metadata": {},
     "output_type": "execute_result"
    }
   ],
   "source": [
    "df_mea_all= df_mea[[\n",
    "     'measurement_time',\n",
    "     'measurement_name',\n",
    "     'participant_id',\n",
    "     'current_day_of_study',\n",
    "     'current_intervention_name',\n",
    "     'survey1_question1_response',\n",
    "     'survey1_question2_response',\n",
    "     'survey1_question3_response',\n",
    "     'survey1_question4_response',\n",
    "     'survey2_question1_response',\n",
    "     'survey2_question2_response']]\n",
    "df_mea_all.head(1)\n",
    "    "
   ]
  },
  {
   "cell_type": "code",
   "execution_count": 9,
   "id": "b8672a8e",
   "metadata": {},
   "outputs": [],
   "source": [
    "df_mea_m = df_mea_all[df_mea_all['measurement_name'] == 'Mediators']\n",
    "df_mea_o = df_mea_all[df_mea_all['measurement_name'] == 'Outcome']"
   ]
  },
  {
   "cell_type": "code",
   "execution_count": 10,
   "id": "ae3f0a0e",
   "metadata": {},
   "outputs": [],
   "source": [
    "df_mea_o = df_mea_o.sort_values(by=['participant_id', 'current_day_of_study'])\n",
    "df_mea_m = df_mea_m.sort_values(by=['participant_id', 'current_day_of_study'])"
   ]
  },
  {
   "cell_type": "code",
   "execution_count": 11,
   "id": "6d5cbda3",
   "metadata": {},
   "outputs": [
    {
     "data": {
      "text/html": [
       "<div>\n",
       "<style scoped>\n",
       "    .dataframe tbody tr th:only-of-type {\n",
       "        vertical-align: middle;\n",
       "    }\n",
       "\n",
       "    .dataframe tbody tr th {\n",
       "        vertical-align: top;\n",
       "    }\n",
       "\n",
       "    .dataframe thead th {\n",
       "        text-align: right;\n",
       "    }\n",
       "</style>\n",
       "<table border=\"1\" class=\"dataframe\">\n",
       "  <thead>\n",
       "    <tr style=\"text-align: right;\">\n",
       "      <th></th>\n",
       "      <th>measurement_time</th>\n",
       "      <th>measurement_name</th>\n",
       "      <th>participant_id</th>\n",
       "      <th>current_day_of_study</th>\n",
       "      <th>current_intervention_name</th>\n",
       "      <th>survey1_question1_response</th>\n",
       "      <th>survey1_question2_response</th>\n",
       "      <th>survey1_question3_response</th>\n",
       "      <th>survey1_question4_response</th>\n",
       "      <th>survey2_question1_response</th>\n",
       "      <th>survey2_question2_response</th>\n",
       "    </tr>\n",
       "  </thead>\n",
       "  <tbody>\n",
       "    <tr>\n",
       "      <th>31</th>\n",
       "      <td>2025-04-08 21:21:48.079299+00:00</td>\n",
       "      <td>Outcome</td>\n",
       "      <td>a12d5355-12e4-436c-b424-cf697c9a6cf0</td>\n",
       "      <td>0</td>\n",
       "      <td>Playing strategy games!</td>\n",
       "      <td>3.0</td>\n",
       "      <td>3.0</td>\n",
       "      <td>7.0</td>\n",
       "      <td>1.0</td>\n",
       "      <td>NaN</td>\n",
       "      <td>NaN</td>\n",
       "    </tr>\n",
       "    <tr>\n",
       "      <th>29</th>\n",
       "      <td>2025-04-09 19:28:47.890115+00:00</td>\n",
       "      <td>Outcome</td>\n",
       "      <td>a12d5355-12e4-436c-b424-cf697c9a6cf0</td>\n",
       "      <td>1</td>\n",
       "      <td>Playing strategy games!</td>\n",
       "      <td>2.0</td>\n",
       "      <td>2.0</td>\n",
       "      <td>5.0</td>\n",
       "      <td>1.0</td>\n",
       "      <td>NaN</td>\n",
       "      <td>NaN</td>\n",
       "    </tr>\n",
       "    <tr>\n",
       "      <th>27</th>\n",
       "      <td>2025-04-10 20:02:37.743605+00:00</td>\n",
       "      <td>Outcome</td>\n",
       "      <td>a12d5355-12e4-436c-b424-cf697c9a6cf0</td>\n",
       "      <td>2</td>\n",
       "      <td>Playing strategy games!</td>\n",
       "      <td>6.0</td>\n",
       "      <td>7.0</td>\n",
       "      <td>7.0</td>\n",
       "      <td>1.0</td>\n",
       "      <td>NaN</td>\n",
       "      <td>NaN</td>\n",
       "    </tr>\n",
       "    <tr>\n",
       "      <th>25</th>\n",
       "      <td>2025-04-11 19:19:52.777438+00:00</td>\n",
       "      <td>Outcome</td>\n",
       "      <td>a12d5355-12e4-436c-b424-cf697c9a6cf0</td>\n",
       "      <td>3</td>\n",
       "      <td>Playing strategy games!</td>\n",
       "      <td>8.0</td>\n",
       "      <td>5.0</td>\n",
       "      <td>4.0</td>\n",
       "      <td>1.0</td>\n",
       "      <td>NaN</td>\n",
       "      <td>NaN</td>\n",
       "    </tr>\n",
       "    <tr>\n",
       "      <th>23</th>\n",
       "      <td>2025-04-12 21:05:46.585164+00:00</td>\n",
       "      <td>Outcome</td>\n",
       "      <td>a12d5355-12e4-436c-b424-cf697c9a6cf0</td>\n",
       "      <td>4</td>\n",
       "      <td>Avoid playing strategy games!</td>\n",
       "      <td>7.0</td>\n",
       "      <td>5.0</td>\n",
       "      <td>1.0</td>\n",
       "      <td>1.0</td>\n",
       "      <td>NaN</td>\n",
       "      <td>NaN</td>\n",
       "    </tr>\n",
       "  </tbody>\n",
       "</table>\n",
       "</div>"
      ],
      "text/plain": [
       "                   measurement_time measurement_name  \\\n",
       "31 2025-04-08 21:21:48.079299+00:00          Outcome   \n",
       "29 2025-04-09 19:28:47.890115+00:00          Outcome   \n",
       "27 2025-04-10 20:02:37.743605+00:00          Outcome   \n",
       "25 2025-04-11 19:19:52.777438+00:00          Outcome   \n",
       "23 2025-04-12 21:05:46.585164+00:00          Outcome   \n",
       "\n",
       "                          participant_id  current_day_of_study  \\\n",
       "31  a12d5355-12e4-436c-b424-cf697c9a6cf0                     0   \n",
       "29  a12d5355-12e4-436c-b424-cf697c9a6cf0                     1   \n",
       "27  a12d5355-12e4-436c-b424-cf697c9a6cf0                     2   \n",
       "25  a12d5355-12e4-436c-b424-cf697c9a6cf0                     3   \n",
       "23  a12d5355-12e4-436c-b424-cf697c9a6cf0                     4   \n",
       "\n",
       "        current_intervention_name  survey1_question1_response  \\\n",
       "31        Playing strategy games!                         3.0   \n",
       "29        Playing strategy games!                         2.0   \n",
       "27        Playing strategy games!                         6.0   \n",
       "25        Playing strategy games!                         8.0   \n",
       "23  Avoid playing strategy games!                         7.0   \n",
       "\n",
       "    survey1_question2_response  survey1_question3_response  \\\n",
       "31                         3.0                         7.0   \n",
       "29                         2.0                         5.0   \n",
       "27                         7.0                         7.0   \n",
       "25                         5.0                         4.0   \n",
       "23                         5.0                         1.0   \n",
       "\n",
       "    survey1_question4_response  survey2_question1_response  \\\n",
       "31                         1.0                         NaN   \n",
       "29                         1.0                         NaN   \n",
       "27                         1.0                         NaN   \n",
       "25                         1.0                         NaN   \n",
       "23                         1.0                         NaN   \n",
       "\n",
       "    survey2_question2_response  \n",
       "31                         NaN  \n",
       "29                         NaN  \n",
       "27                         NaN  \n",
       "25                         NaN  \n",
       "23                         NaN  "
      ]
     },
     "execution_count": 11,
     "metadata": {},
     "output_type": "execute_result"
    }
   ],
   "source": [
    "df_mea_o.head()"
   ]
  },
  {
   "cell_type": "markdown",
   "id": "4958cabd",
   "metadata": {},
   "source": [
    "## Exploratory Data Analysis - Outcome"
   ]
  },
  {
   "cell_type": "markdown",
   "id": "158c35f6",
   "metadata": {},
   "source": [
    "- EDA Steps  \n",
    "  - Data shape  \n",
    "  - Data types of columns  \n",
    "  - Missing values  \n",
    "  - Summary statistics  \n",
    "  - Data Visualization and Distributions  \n",
    "    - Plot histograms and box plots  \n",
    "    - Line plot  \n",
    "    - Scatter plot  \n",
    "    - Correlations (Pearson, Kendall, Spearman)    "
   ]
  },
  {
   "cell_type": "markdown",
   "id": "9c56c4af",
   "metadata": {},
   "source": [
    "#### Data Shape"
   ]
  },
  {
   "cell_type": "code",
   "execution_count": 12,
   "id": "b0c700fb",
   "metadata": {},
   "outputs": [
    {
     "name": "stdout",
     "output_type": "stream",
     "text": [
      "Outcome Data Shape\n",
      "Rows: 16\n",
      "Columns: 11\n"
     ]
    }
   ],
   "source": [
    "print(\"Outcome Data Shape\")\n",
    "print(\"Rows:\", df_mea_o.shape[0])\n",
    "print(\"Columns:\", df_mea_o.shape[1])"
   ]
  },
  {
   "cell_type": "markdown",
   "id": "74e40212",
   "metadata": {},
   "source": [
    "#### Data types of columns"
   ]
  },
  {
   "cell_type": "code",
   "execution_count": 13,
   "id": "06463c20",
   "metadata": {},
   "outputs": [
    {
     "name": "stdout",
     "output_type": "stream",
     "text": [
      "Outcome Data Types of Columns\n",
      "                                      Data Type\n",
      "measurement_time            datetime64[ns, UTC]\n",
      "measurement_name                         object\n",
      "participant_id                           object\n",
      "current_day_of_study                      int64\n",
      "current_intervention_name                object\n",
      "survey1_question1_response              float64\n",
      "survey1_question2_response              float64\n",
      "survey1_question3_response              float64\n",
      "survey1_question4_response              float64\n",
      "survey2_question1_response              float64\n",
      "survey2_question2_response              float64\n"
     ]
    }
   ],
   "source": [
    "print(\"Outcome Data Types of Columns\")\n",
    "data_types = df_mea_o.dtypes\n",
    "data_types_df = pd.DataFrame(data_types, columns=[\"Data Type\"])\n",
    "print(data_types_df)"
   ]
  },
  {
   "cell_type": "markdown",
   "id": "ff16ab5e",
   "metadata": {},
   "source": [
    "#### Missing Value Analysis"
   ]
  },
  {
   "cell_type": "code",
   "execution_count": 14,
   "id": "f0ec5d76",
   "metadata": {},
   "outputs": [
    {
     "name": "stdout",
     "output_type": "stream",
     "text": [
      "\n",
      "--- Participant a12d5355-12e4-436c-b424-cf697c9a6cf0 ---\n",
      "\n",
      "  Outcome:\n",
      "    Start date:           2025-04-08\n",
      "    End of expected 16d:  2025-04-23\n",
      "    Expected days count:  16\n",
      "    Completed days count: 16\n",
      "    Missed days count:    0\n",
      "\n",
      "  Mediators:\n",
      "    Start date:           2025-04-08\n",
      "    End of expected 16d:  2025-04-23\n",
      "    Expected days count:  16\n",
      "    Completed days count: 16\n",
      "    Missed days count:    0\n",
      "\n",
      "  survey1_question1_response:\n",
      "    Start date:           2025-04-08\n",
      "    End of expected 16d:  2025-04-23\n",
      "    Expected days count:  16\n",
      "    Completed days count: 16\n",
      "    Missed days count:    0\n",
      "\n",
      "  survey1_question2_response:\n",
      "    Start date:           2025-04-08\n",
      "    End of expected 16d:  2025-04-23\n",
      "    Expected days count:  16\n",
      "    Completed days count: 16\n",
      "    Missed days count:    0\n",
      "\n",
      "  survey1_question3_response:\n",
      "    Start date:           2025-04-08\n",
      "    End of expected 16d:  2025-04-23\n",
      "    Expected days count:  16\n",
      "    Completed days count: 16\n",
      "    Missed days count:    0\n",
      "\n",
      "  survey1_question4_response:\n",
      "    Start date:           2025-04-08\n",
      "    End of expected 16d:  2025-04-23\n",
      "    Expected days count:  16\n",
      "    Completed days count: 16\n",
      "    Missed days count:    0\n",
      "\n",
      "  survey2_question1_response:\n",
      "    Start date:           2025-04-08\n",
      "    End of expected 16d:  2025-04-23\n",
      "    Expected days count:  16\n",
      "    Completed days count: 16\n",
      "    Missed days count:    0\n",
      "\n",
      "  survey2_question2_response:\n",
      "    Start date:           2025-04-08\n",
      "    End of expected 16d:  2025-04-23\n",
      "    Expected days count:  16\n",
      "    Completed days count: 16\n",
      "    Missed days count:    0\n"
     ]
    }
   ],
   "source": [
    "df_mea['measurement_time'] = pd.to_datetime(df_mea['measurement_time'])\n",
    "\n",
    "df_mea.columns = df_mea.columns.str.strip()\n",
    "df_mea['measurement_name'] = df_mea['measurement_name'].str.strip()\n",
    "\n",
    "measurement_names = [\n",
    "    'Outcome',\n",
    "    'Mediators',\n",
    "    'survey1_question1_response',\n",
    "    'survey1_question2_response',\n",
    "    'survey1_question3_response',\n",
    "    'survey1_question4_response',\n",
    "    'survey2_question1_response',\n",
    "    'survey2_question2_response'\n",
    "]\n",
    "\n",
    "results = {}\n",
    "\n",
    "for pid in df_mea['participant_id'].unique():\n",
    "    results[pid] = {}\n",
    "    df_part = df_mea[df_mea['participant_id'] == pid]\n",
    "    \n",
    "    for name in measurement_names:\n",
    "        if name in ['Outcome', 'Mediators']:\n",
    "            sub = df_part[df_part['measurement_name'] == name].copy()\n",
    "        else:\n",
    "            if name not in df_part.columns:\n",
    "                sub = pd.DataFrame()\n",
    "            else:\n",
    "                sub = df_part[df_part[name].notna()].copy()\n",
    "        \n",
    "        if sub.empty:\n",
    "            results[pid][name] = None\n",
    "            continue\n",
    "\n",
    "        sub['date'] = sub['measurement_time'].dt.date\n",
    "\n",
    "        start_date = sub['date'].min()\n",
    "\n",
    "        expected_dates = pd.date_range(start_date, periods=16, freq='D').date\n",
    "\n",
    "        done_dates = set(sub['date']) & set(expected_dates)\n",
    "\n",
    "        missed_dates = sorted(set(expected_dates) - done_dates)\n",
    "\n",
    "        results[pid][name] = {\n",
    "            'start_date': start_date,\n",
    "            'end_expected': expected_dates[-1],\n",
    "            'expected_days': len(expected_dates),     \n",
    "            'completed_days': len(done_dates),\n",
    "            'missed_days_count': len(missed_dates),\n",
    "            'missed_dates': missed_dates\n",
    "        }\n",
    "\n",
    "for pid, measures in results.items():\n",
    "    print(f\"\\n--- Participant {pid} ---\")\n",
    "    for name, stats in measures.items():\n",
    "        if stats is None:\n",
    "            print(f\"{name}: no data\")\n",
    "            continue\n",
    "        print(f\"\\n  {name}:\")\n",
    "        print(f\"    Start date:           {stats['start_date']}\")\n",
    "        print(f\"    End of expected 16d:  {stats['end_expected']}\")\n",
    "        print(f\"    Expected days count:  {stats['expected_days']}\")\n",
    "        print(f\"    Completed days count: {stats['completed_days']}\")\n",
    "        print(f\"    Missed days count:    {stats['missed_days_count']}\")\n",
    "        if stats['missed_dates']:\n",
    "            print(\"    Missed dates:\")\n",
    "            for d in stats['missed_dates']:\n",
    "                print(\"      \", d)"
   ]
  },
  {
   "cell_type": "markdown",
   "id": "02790615",
   "metadata": {},
   "source": [
    "#### Missing Values for Confirmations between 08.00 - 21.00"
   ]
  },
  {
   "cell_type": "code",
   "execution_count": 15,
   "id": "a5a7990b",
   "metadata": {},
   "outputs": [
    {
     "name": "stdout",
     "output_type": "stream",
     "text": [
      "All 16 days have participation confirmations; no missing days found.\n"
     ]
    }
   ],
   "source": [
    "df_intervention['intervention_task_time'] = pd.to_datetime(\n",
    "    df_intervention['intervention_task_time'],\n",
    "    errors='coerce'\n",
    ")\n",
    "\n",
    "df_intervention['date'] = df_intervention['intervention_task_time'].dt.date\n",
    "\n",
    "start_date = df_intervention['date'].min()\n",
    "full_range = pd.date_range(start=start_date, periods=16, freq='D').date\n",
    "\n",
    "full_df = pd.DataFrame({'date': full_range})\n",
    "merged = full_df.merge(\n",
    "    df_intervention[['date', 'intervention_task_name']],\n",
    "    on='date',\n",
    "    how='left'\n",
    ")\n",
    "\n",
    "missing_days = merged[merged['intervention_task_name'].isna()]\n",
    "\n",
    "if missing_days.empty:\n",
    "    print(\"All 16 days have participation confirmations; no missing days found.\")\n",
    "else:\n",
    "    print(\"Missing participation days and their corresponding task names:\")\n",
    "    print(missing_days)"
   ]
  },
  {
   "cell_type": "markdown",
   "id": "da3e431a",
   "metadata": {},
   "source": [
    "#### Summary Statistics"
   ]
  },
  {
   "cell_type": "code",
   "execution_count": 16,
   "id": "0cac7a9e",
   "metadata": {},
   "outputs": [
    {
     "name": "stdout",
     "output_type": "stream",
     "text": [
      "Sleep Data Summary Statistics\n",
      "       current_day_of_study  survey1_question1_response  \\\n",
      "count             16.000000                   16.000000   \n",
      "mean               7.500000                    4.937500   \n",
      "std                4.760952                    1.730848   \n",
      "min                0.000000                    2.000000   \n",
      "25%                3.750000                    3.750000   \n",
      "50%                7.500000                    5.000000   \n",
      "75%               11.250000                    6.000000   \n",
      "max               15.000000                    8.000000   \n",
      "\n",
      "       survey1_question2_response  survey1_question3_response  \\\n",
      "count                   16.000000                   16.000000   \n",
      "mean                     4.812500                    4.125000   \n",
      "std                      1.759498                    3.095696   \n",
      "min                      2.000000                    1.000000   \n",
      "25%                      3.000000                    1.000000   \n",
      "50%                      5.000000                    4.500000   \n",
      "75%                      6.000000                    7.000000   \n",
      "max                      7.000000                   10.000000   \n",
      "\n",
      "       survey1_question4_response  survey2_question1_response  \\\n",
      "count                     16.0000                         0.0   \n",
      "mean                       2.6875                         NaN   \n",
      "std                        2.5224                         NaN   \n",
      "min                        1.0000                         NaN   \n",
      "25%                        1.0000                         NaN   \n",
      "50%                        1.0000                         NaN   \n",
      "75%                        3.7500                         NaN   \n",
      "max                        7.0000                         NaN   \n",
      "\n",
      "       survey2_question2_response  \n",
      "count                         0.0  \n",
      "mean                          NaN  \n",
      "std                           NaN  \n",
      "min                           NaN  \n",
      "25%                           NaN  \n",
      "50%                           NaN  \n",
      "75%                           NaN  \n",
      "max                           NaN  \n"
     ]
    }
   ],
   "source": [
    "print(\"Sleep Data Summary Statistics\")\n",
    "summary_stats = df_mea_o.describe()\n",
    "print(summary_stats)"
   ]
  },
  {
   "cell_type": "code",
   "execution_count": 17,
   "id": "b11b6825",
   "metadata": {},
   "outputs": [
    {
     "name": "stdout",
     "output_type": "stream",
     "text": [
      "<class 'pandas.core.frame.DataFrame'>\n",
      "Index: 16 entries, 31 to 1\n",
      "Data columns (total 11 columns):\n",
      " #   Column                      Non-Null Count  Dtype              \n",
      "---  ------                      --------------  -----              \n",
      " 0   measurement_time            16 non-null     datetime64[ns, UTC]\n",
      " 1   measurement_name            16 non-null     object             \n",
      " 2   participant_id              16 non-null     object             \n",
      " 3   current_day_of_study        16 non-null     int64              \n",
      " 4   current_intervention_name   16 non-null     object             \n",
      " 5   survey1_question1_response  16 non-null     float64            \n",
      " 6   survey1_question2_response  16 non-null     float64            \n",
      " 7   survey1_question3_response  16 non-null     float64            \n",
      " 8   survey1_question4_response  16 non-null     float64            \n",
      " 9   survey2_question1_response  0 non-null      float64            \n",
      " 10  survey2_question2_response  0 non-null      float64            \n",
      "dtypes: datetime64[ns, UTC](1), float64(6), int64(1), object(3)\n",
      "memory usage: 1.5+ KB\n"
     ]
    }
   ],
   "source": [
    "df_mea_o.info()"
   ]
  },
  {
   "cell_type": "markdown",
   "id": "2f0233aa",
   "metadata": {},
   "source": [
    "#### Data Visualization and Distributions"
   ]
  },
  {
   "cell_type": "code",
   "execution_count": 18,
   "id": "dc36b946",
   "metadata": {},
   "outputs": [
    {
     "data": {
      "image/png": "[encoded data removed]",
      "text/plain": [
       "<Figure size 1000x400 with 2 Axes>"
      ]
     },
     "metadata": {},
     "output_type": "display_data"
    },
    {
     "data": {
      "image/png": "[encoded data removed]",
      "text/plain": [
       "<Figure size 1000x400 with 2 Axes>"
      ]
     },
     "metadata": {},
     "output_type": "display_data"
    }
   ],
   "source": [
    "columns = [\n",
    "    'survey1_question1_response',\n",
    "    'survey1_question2_response']\n",
    "for column in columns:\n",
    "    plt.figure(figsize=(10, 4))\n",
    "\n",
    "    plt.subplot(1, 2, 1)\n",
    "    sns.histplot(df_mea_o[column].dropna(), bins=15, kde=True)\n",
    "    plt.title(f\"Distribution of {column}\")\n",
    "    plt.xlabel(column)\n",
    "    plt.ylabel(\"Frequency\")\n",
    "\n",
    "    plt.subplot(1, 2, 2)\n",
    "    sns.boxplot(y=df_mea_o[column].dropna())\n",
    "    plt.title(f\"Box Plot of {column}\")\n",
    "    plt.ylabel(column)\n",
    "\n",
    "    plt.tight_layout()\n",
    "    plt.show()"
   ]
  },
  {
   "cell_type": "markdown",
   "id": "4f06bfc0",
   "metadata": {},
   "source": [
    "#### Line Plot"
   ]
  },
  {
   "cell_type": "code",
   "execution_count": 19,
   "id": "6b14fe72",
   "metadata": {},
   "outputs": [
    {
     "data": {
      "image/png": "[encoded data removed]",
      "text/plain": [
       "<Figure size 1000x600 with 1 Axes>"
      ]
     },
     "metadata": {},
     "output_type": "display_data"
    }
   ],
   "source": [
    "grouped_data = df_mea_o.groupby(\"participant_id\")\n",
    "\n",
    "plt.figure(figsize=(10, 6)) \n",
    "\n",
    "for participant_id, group in grouped_data:\n",
    "    plt.plot(group['current_day_of_study'], group['survey1_question1_response'], label=f'Participant {participant_id}')\n",
    "\n",
    "plt.xlabel('Current Day of Study')\n",
    "plt.ylabel('Day Stress Level')\n",
    "plt.title('Stress Level Over Time for Different Participants in Outcome Dataset')\n",
    "\n",
    "plt.legend()\n",
    "plt.show()\n"
   ]
  },
  {
   "cell_type": "markdown",
   "id": "17c853ed",
   "metadata": {},
   "source": [
    "#### Scatterplot"
   ]
  },
  {
   "cell_type": "code",
   "execution_count": 20,
   "id": "388e8a55",
   "metadata": {},
   "outputs": [
    {
     "data": {
      "text/plain": [
       "<matplotlib.legend.Legend at 0x21d37e72290>"
      ]
     },
     "execution_count": 20,
     "metadata": {},
     "output_type": "execute_result"
    },
    {
     "data": {
      "image/png": "[encoded data removed]",
      "text/plain": [
       "<Figure size 1000x500 with 1 Axes>"
      ]
     },
     "metadata": {},
     "output_type": "display_data"
    }
   ],
   "source": [
    "x = 'current_day_of_study'\n",
    "y = 'survey1_question1_response'\n",
    "\n",
    "participant_list= list(df_mea_o.participant_id.unique())\n",
    "fig, axs = plt.subplots(len(participant_list), figsize=(10, 5 * len(participant_list)))\n",
    "\n",
    "if len(participant_list) == 1:\n",
    "    axs = [axs]\n",
    "\n",
    "for i in range(len(participant_list)):\n",
    "    legend = True if i == len(participant_list)-1 else False\n",
    "    sns.scatterplot(\n",
    "        data=df_mea_o[df_mea_o[\"participant_id\"] == participant_list[i]],\n",
    "        x=x, y=y, hue='current_intervention_name',\n",
    "        ax=axs[i], legend=legend\n",
    "    )\n",
    "\n",
    "axs[-1].legend(loc='upper center', bbox_to_anchor=(0.5, -0.5))"
   ]
  },
  {
   "cell_type": "markdown",
   "id": "a68b3f7e",
   "metadata": {},
   "source": [
    "#### Correlations"
   ]
  },
  {
   "cell_type": "code",
   "execution_count": 21,
   "id": "d8ae5bf4",
   "metadata": {},
   "outputs": [
    {
     "data": {
      "image/png": "[encoded data removed]",
      "text/plain": [
       "<Figure size 1500x500 with 6 Axes>"
      ]
     },
     "metadata": {},
     "output_type": "display_data"
    }
   ],
   "source": [
    "columns_to_include = [\n",
    "    'survey1_question1_response',\n",
    "    'survey1_question2_response',\n",
    "    'survey1_question3_response',\n",
    "    'survey1_question4_response']\n",
    "\n",
    "correlation_pearson = df_mea_all[columns_to_include].corr(method='pearson')\n",
    "correlation_kendall = df_mea_all[columns_to_include].corr(method='kendall')\n",
    "correlation_spearman = df_mea_all[columns_to_include].corr(method='spearman')\n",
    "\n",
    "fig, axes = plt.subplots(1, 3, figsize=(15, 5))\n",
    "\n",
    "sns.heatmap(correlation_pearson, vmin=-1, vmax=1, annot=True, cmap='BrBG',ax=axes[0], center=0)\n",
    "axes[0].set_title('Pearson Correlation')\n",
    "\n",
    "sns.heatmap(correlation_kendall, annot=True, cmap='coolwarm', ax=axes[1])\n",
    "axes[1].set_title('Kendall Correlation')\n",
    "\n",
    "sns.heatmap(correlation_spearman, annot=True, cmap='coolwarm', ax=axes[2])\n",
    "axes[2].set_title('Spearman Correlation')\n",
    "\n",
    "plt.tight_layout()\n",
    "plt.show()"
   ]
  },
  {
   "cell_type": "markdown",
   "id": "2de3f1fd",
   "metadata": {},
   "source": [
    "## Baseline Study: Playing strategy games vs Avoid playing strategy games"
   ]
  },
  {
   "cell_type": "markdown",
   "id": "46749595",
   "metadata": {},
   "source": [
    "  - Baseline Studies  \n",
    "    - Examination of Outcomes   \n",
    "    - Linear Regression  \n",
    "      - Ordinary Least Squares (OLS) Regression  \n",
    "      - Linear Regression with Autoregressive Errors \n",
    "      - Bayesian linear regression models\n",
    "        - Bayesian AR(1) Model of Daily Stress Response to Intervention and Mediators\n",
    "        - Bayesian AR(1) Regression with Data-Driven Scale (MAD-Based)"
   ]
  },
  {
   "cell_type": "markdown",
   "id": "6b08e60f",
   "metadata": {},
   "source": [
    "#### Examination of outcomes: Today Stress Level"
   ]
  },
  {
   "cell_type": "code",
   "execution_count": 22,
   "id": "031a575f",
   "metadata": {},
   "outputs": [
    {
     "name": "stdout",
     "output_type": "stream",
     "text": [
      "Playing strategy games:       n = 8, std = 1.93, mean = 5.00\n",
      "Avoid strategy games:        n = 8, std = 1.64, mean = 4.88\n",
      "\n"
     ]
    }
   ],
   "source": [
    "df_mea_o = df_mea_o[\n",
    "    (df_mea_o['measurement_name'] == 'Outcome') &\n",
    "    df_mea_o['survey1_question1_response'].notna() &\n",
    "    df_mea_o['current_intervention_name'].isin([\n",
    "        \"Playing strategy games!\",\n",
    "        \"Avoid playing strategy games!\"\n",
    "    ])\n",
    "]\n",
    "\n",
    "playing = df_mea_o.loc[\n",
    "    df_mea_o['current_intervention_name'] == \"Playing strategy games!\",\n",
    "    'survey1_question1_response'\n",
    "]\n",
    "avoid = df_mea_o.loc[\n",
    "    df_mea_o['current_intervention_name'] == \"Avoid playing strategy games!\",\n",
    "    'survey1_question1_response'\n",
    "]\n",
    "\n",
    "n_playing   = playing.count()\n",
    "n_avoid     = avoid.count()\n",
    "std_playing = playing.std(ddof=1)\n",
    "std_avoid   = avoid.std(ddof=1)\n",
    "\n",
    "print(f\"Playing strategy games:       n = {n_playing}, std = {std_playing:.2f}, mean = {playing.mean():.2f}\")\n",
    "print(f\"Avoid strategy games:        n = {n_avoid}, std = {std_avoid:.2f}, mean = {avoid.mean():.2f}\\n\")\n",
    "\n"
   ]
  },
  {
   "cell_type": "markdown",
   "id": "159a8747",
   "metadata": {},
   "source": [
    "#### Examination of outcomes: Prediction of Tomorrow Stress"
   ]
  },
  {
   "cell_type": "code",
   "execution_count": 23,
   "id": "de838e7a",
   "metadata": {},
   "outputs": [
    {
     "name": "stdout",
     "output_type": "stream",
     "text": [
      "Playing strategy games:       n = 8, std = 1.96, mean = 4.88\n",
      "Avoid strategy games:        n = 8, std = 1.67, mean = 4.75\n",
      "\n"
     ]
    }
   ],
   "source": [
    "df_mea_o = df_mea_o[\n",
    "    (df_mea_o['measurement_name'] == 'Outcome') &\n",
    "    df_mea_o['survey1_question2_response'].notna() &\n",
    "    df_mea_o['current_intervention_name'].isin([\n",
    "        \"Playing strategy games!\",\n",
    "        \"Avoid playing strategy games!\"\n",
    "    ])\n",
    "]\n",
    "\n",
    "playing = df_mea_o.loc[\n",
    "    df_mea_o['current_intervention_name'] == \"Playing strategy games!\",\n",
    "    'survey1_question2_response'\n",
    "]\n",
    "avoid = df_mea_o.loc[\n",
    "    df_mea_o['current_intervention_name'] == \"Avoid playing strategy games!\",\n",
    "    'survey1_question2_response'\n",
    "]\n",
    "\n",
    "n_playing   = playing.count()\n",
    "n_avoid     = avoid.count()\n",
    "std_playing = playing.std(ddof=1)\n",
    "std_avoid   = avoid.std(ddof=1)\n",
    "\n",
    "print(f\"Playing strategy games:       n = {n_playing}, std = {std_playing:.2f}, mean = {playing.mean():.2f}\")\n",
    "print(f\"Avoid strategy games:        n = {n_avoid}, std = {std_avoid:.2f}, mean = {avoid.mean():.2f}\\n\")"
   ]
  },
  {
   "cell_type": "markdown",
   "id": "33c03295",
   "metadata": {},
   "source": [
    "#### Examination of Outcomes: Mean Stress-Relief Score for Playing Strategy Games (Q3)\n",
    "The average score for Question 3 (survey1_question3_response), which assesses how much playing strategy games alleviated participants’ stress on days they performed."
   ]
  },
  {
   "cell_type": "code",
   "execution_count": 24,
   "id": "78bb5837",
   "metadata": {},
   "outputs": [
    {
     "data": {
      "text/plain": [
       "'How much did this method (<i>playing strategy games</i>) help you today? <b>(Answer ONLY if you have played strategy games!)</b>'"
      ]
     },
     "execution_count": 24,
     "metadata": {},
     "output_type": "execute_result"
    }
   ],
   "source": [
    "df_mea.survey1_question3_text[0]"
   ]
  },
  {
   "cell_type": "code",
   "execution_count": 25,
   "id": "41c4199d",
   "metadata": {},
   "outputs": [
    {
     "data": {
      "text/plain": [
       "6.625"
      ]
     },
     "execution_count": 25,
     "metadata": {},
     "output_type": "execute_result"
    }
   ],
   "source": [
    "# 'How much did this method (playing strategy games) help you today? (Answer ONLY if you have played strategy games!)'\n",
    "mean_q3_game = df_mea_o.loc[\n",
    "    df_mea_o['current_intervention_name'] == \"Playing strategy games!\",\n",
    "    'survey1_question3_response'\n",
    "].mean()\n",
    "mean_q3_game.item()"
   ]
  },
  {
   "cell_type": "markdown",
   "id": "7dd32db4",
   "metadata": {},
   "source": [
    "**Mean Stress-Relief Score for Strategy Games (Q3): 6.625**\n",
    "On days when the participant played strategy games, he rated Question 3—“How much did this method (playing strategy games) help you today?”—an average of 6.625 out of 10, indicating a moderate benefit in reducing stress."
   ]
  },
  {
   "cell_type": "markdown",
   "id": "755e30bb",
   "metadata": {},
   "source": [
    "#### Examination of Outcomes: Mean Stress-Management Difficulty Without Strategy Games (Q4)\n",
    "The average score for Question 4 (survey1_question4_response), which measures participants’ difficulty in managing stress on days they did not play strategy games."
   ]
  },
  {
   "cell_type": "code",
   "execution_count": 26,
   "id": "8cb6b034",
   "metadata": {},
   "outputs": [
    {
     "data": {
      "text/plain": [
       "'Did you have difficulty without the method (<i>not playing strategy games</i>)? <b>(Answer ONLY when playing strategy games is NOT practiced!)</b>'"
      ]
     },
     "execution_count": 26,
     "metadata": {},
     "output_type": "execute_result"
    }
   ],
   "source": [
    "df_mea.survey1_question4_text[0]"
   ]
  },
  {
   "cell_type": "code",
   "execution_count": 27,
   "id": "7b93ea36",
   "metadata": {},
   "outputs": [
    {
     "data": {
      "text/plain": [
       "4.375"
      ]
     },
     "execution_count": 27,
     "metadata": {},
     "output_type": "execute_result"
    }
   ],
   "source": [
    "# 'Did you have difficulty without the method (not playing strategy games)? (Answer ONLY when playing strategy games is NOT practiced!)'\n",
    "mean_q4_no_game = df_mea_o.loc[\n",
    "    df_mea_o['current_intervention_name'] == \"Avoid playing strategy games!\",\n",
    "    'survey1_question4_response'\n",
    "].mean()\n",
    "mean_q4_no_game.item()"
   ]
  },
  {
   "cell_type": "markdown",
   "id": "01666c3e",
   "metadata": {},
   "source": [
    "**Mean Stress-Management Difficulty Score Without Strategy Games (Q4): 4.375**\n",
    "On days when the participant skipped playing strategy games, he rated Question 4—“Did you have difficulty without the method (not playing strategy games)?”—an average of 4.375 out of 10, suggesting he experienced relatively low difficulty managing stress without this activity."
   ]
  },
  {
   "cell_type": "markdown",
   "id": "4da54a73",
   "metadata": {},
   "source": [
    "### Estimating treatment effect using Linear Regression with Autoregressive errors"
   ]
  },
  {
   "cell_type": "code",
   "execution_count": 28,
   "id": "1228e91c",
   "metadata": {},
   "outputs": [
    {
     "name": "stdout",
     "output_type": "stream",
     "text": [
      "OLS Regression Results:\n",
      "                                OLS Regression Results                                \n",
      "======================================================================================\n",
      "Dep. Variable:     survey1_question1_response   R-squared:                       0.001\n",
      "Model:                                    OLS   Adj. R-squared:                 -0.070\n",
      "Method:                         Least Squares   F-statistic:                   0.01950\n",
      "Date:                        Wed, 13 Aug 2025   Prob (F-statistic):              0.891\n",
      "Time:                                12:35:47   Log-Likelihood:                -30.953\n",
      "No. Observations:                          16   AIC:                             65.91\n",
      "Df Residuals:                              14   BIC:                             67.45\n",
      "Df Model:                                   1                                         \n",
      "Covariance Type:                    nonrobust                                         \n",
      "==============================================================================\n",
      "                 coef    std err          t      P>|t|      [0.025      0.975]\n",
      "------------------------------------------------------------------------------\n",
      "const          4.8750      0.633      7.702      0.000       3.517       6.233\n",
      "D              0.1250      0.895      0.140      0.891      -1.795       2.045\n",
      "==============================================================================\n",
      "Omnibus:                        0.560   Durbin-Watson:                   1.304\n",
      "Prob(Omnibus):                  0.756   Jarque-Bera (JB):                0.621\n",
      "Skew:                          -0.318   Prob(JB):                        0.733\n",
      "Kurtosis:                       2.275   Cond. No.                         2.62\n",
      "==============================================================================\n",
      "\n",
      "Notes:\n",
      "[1] Standard Errors assume that the covariance matrix of the errors is correctly specified.\n",
      "Durbin–Watson statistic (OLS residuals): 1.304\n",
      "\n"
     ]
    },
    {
     "name": "stderr",
     "output_type": "stream",
     "text": [
      "c:\\Users\\USER\\AppData\\Local\\r-miniconda\\Lib\\site-packages\\scipy\\stats\\_axis_nan_policy.py:430: UserWarning: `kurtosistest` p-value may be inaccurate with fewer than 20 observations; only n=16 observations were given.\n",
      "  return hypotest_fun_in(*args, **kwds)\n"
     ]
    }
   ],
   "source": [
    "df_mea_o = df_mea_o[\n",
    "    (df_mea_o['measurement_name'] == 'Outcome') &\n",
    "    df_mea_o['survey1_question1_response'].notna() &\n",
    "    df_mea_o['current_intervention_name'].isin([\"Playing strategy games!\", \"Avoid playing strategy games!\"])\n",
    "]\n",
    "\n",
    "df_mea_o = df_mea_o.sort_values('measurement_time')\n",
    "\n",
    "y = df_mea_o['survey1_question1_response']\n",
    "df_mea_o['D'] = (df_mea_o['current_intervention_name'] == \"Playing strategy games!\").astype(int)\n",
    "X = sm.add_constant(df_mea_o['D'])\n",
    "\n",
    "ols_res = sm.OLS(y, X).fit()\n",
    "dw_ols = durbin_watson(ols_res.resid)\n",
    "\n",
    "print(\"OLS Regression Results:\")\n",
    "print(ols_res.summary())\n",
    "print(f\"Durbin–Watson statistic (OLS residuals): {dw_ols:.3f}\\n\")"
   ]
  },
  {
   "cell_type": "code",
   "execution_count": 29,
   "id": "57fe6caa",
   "metadata": {},
   "outputs": [
    {
     "name": "stdout",
     "output_type": "stream",
     "text": [
      "GLSAR Regression Results (AR(1) error structure):\n",
      "                               GLSAR Regression Results                               \n",
      "======================================================================================\n",
      "Dep. Variable:     survey1_question1_response   R-squared:                       0.025\n",
      "Model:                                  GLSAR   Adj. R-squared:                 -0.050\n",
      "Method:                         Least Squares   F-statistic:                    0.3273\n",
      "Date:                        Wed, 13 Aug 2025   Prob (F-statistic):              0.577\n",
      "Time:                                12:35:47   Log-Likelihood:                -27.895\n",
      "No. Observations:                          15   AIC:                             59.79\n",
      "Df Residuals:                              13   BIC:                             61.21\n",
      "Df Model:                                   1                                         \n",
      "Covariance Type:                    nonrobust                                         \n",
      "==============================================================================\n",
      "                 coef    std err          t      P>|t|      [0.025      0.975]\n",
      "------------------------------------------------------------------------------\n",
      "const          4.8082      0.815      5.903      0.000       3.048       6.568\n",
      "D              0.6222      1.088      0.572      0.577      -1.727       2.972\n",
      "==============================================================================\n",
      "Omnibus:                        2.339   Durbin-Watson:                   1.686\n",
      "Prob(Omnibus):                  0.311   Jarque-Bera (JB):                1.319\n",
      "Skew:                          -0.724   Prob(JB):                        0.517\n",
      "Kurtosis:                       2.893   Cond. No.                         2.21\n",
      "==============================================================================\n",
      "\n",
      "Notes:\n",
      "[1] Standard Errors assume that the covariance matrix of the errors is correctly specified.\n",
      "Estimated AR(1) coefficient (rho): 0.324\n",
      "Durbin–Watson statistic (GLSAR residuals): 1.235\n"
     ]
    },
    {
     "name": "stderr",
     "output_type": "stream",
     "text": [
      "c:\\Users\\USER\\AppData\\Local\\r-miniconda\\Lib\\site-packages\\scipy\\stats\\_axis_nan_policy.py:430: UserWarning: `kurtosistest` p-value may be inaccurate with fewer than 20 observations; only n=15 observations were given.\n",
      "  return hypotest_fun_in(*args, **kwds)\n"
     ]
    }
   ],
   "source": [
    "# GLSAR Regression with AR(1) errors (Feasible GLS) \n",
    "glsar = sm.GLSAR(y, X, rho=1)\n",
    "glsar_res = glsar.iterative_fit(maxiter=10)\n",
    "dw_glsar = durbin_watson(glsar_res.resid)\n",
    "\n",
    "print(\"GLSAR Regression Results (AR(1) error structure):\")\n",
    "print(glsar_res.summary())\n",
    "print(f\"Estimated AR(1) coefficient (rho): {glsar.rho[0]:.3f}\")\n",
    "print(f\"Durbin–Watson statistic (GLSAR residuals): {dw_glsar:.3f}\")"
   ]
  },
  {
   "cell_type": "markdown",
   "id": "f893d0dd",
   "metadata": {},
   "source": [
    "#### Bayesian AR(1) Model of Daily Stress Response to Playing Strategy Games and Mediators"
   ]
  },
  {
   "cell_type": "code",
   "execution_count": 30,
   "id": "3dd5f639",
   "metadata": {},
   "outputs": [
    {
     "name": "stdout",
     "output_type": "stream",
     "text": [
      "Model result with neither fac1 nor fac2 (intervention only):\n"
     ]
    },
    {
     "name": "stderr",
     "output_type": "stream",
     "text": [
      "Initializing NUTS using jitter+adapt_diag...\n",
      "c:\\Users\\USER\\AppData\\Local\\r-miniconda\\Lib\\site-packages\\pytensor\\tensor\\rewriting\\elemwise.py:954: UserWarning: Loop fusion failed because the resulting node would exceed the kernel argument limit.\n",
      "  warn(\n",
      "Multiprocess sampling (2 chains in 2 jobs)\n",
      "NUTS: [beta0, beta_int, rho, sigma]\n"
     ]
    },
    {
     "data": {
      "text/html": [
       "<pre style=\"white-space:pre;overflow-x:auto;line-height:normal;font-family:Menlo,'DejaVu Sans Mono',consolas,'Courier New',monospace\">c:\\Users\\USER\\AppData\\Local\\r-miniconda\\Lib\\site-packages\\rich\\live.py:231: UserWarning: install \"ipywidgets\" for \n",
       "Jupyter support\n",
       "  warnings.warn('install \"ipywidgets\" for Jupyter support')\n",
       "</pre>\n"
      ],
      "text/plain": [
       "c:\\Users\\USER\\AppData\\Local\\r-miniconda\\Lib\\site-packages\\rich\\live.py:231: UserWarning: install \"ipywidgets\" for \n",
       "Jupyter support\n",
       "  warnings.warn('install \"ipywidgets\" for Jupyter support')\n"
      ]
     },
     "metadata": {},
     "output_type": "display_data"
    },
    {
     "data": {
      "text/html": [
       "<pre style=\"white-space:pre;overflow-x:auto;line-height:normal;font-family:Menlo,'DejaVu Sans Mono',consolas,'Courier New',monospace\"></pre>\n"
      ],
      "text/plain": []
     },
     "metadata": {},
     "output_type": "display_data"
    },
    {
     "name": "stderr",
     "output_type": "stream",
     "text": [
      "Sampling 2 chains for 500 tune and 500 draw iterations (1_000 + 1_000 draws total) took 156 seconds.\n",
      "We recommend running at least 4 chains for robust computation of convergence diagnostics\n"
     ]
    },
    {
     "name": "stdout",
     "output_type": "stream",
     "text": [
      "           mean    sd  hdi_2.5%  hdi_97.5%  mcse_mean  mcse_sd  ess_bulk  \\\n",
      "beta_int  0.144  0.73    -1.243      1.587      0.029    0.022     631.0   \n",
      "rho       0.452  0.27    -0.010      0.994      0.014    0.010     375.0   \n",
      "sigma     1.720  0.30     1.201      2.362      0.011    0.013     750.0   \n",
      "\n",
      "          ess_tail  r_hat  \n",
      "beta_int     725.0   1.00  \n",
      "rho          250.0   1.01  \n",
      "sigma        417.0   1.01  \n",
      "P(beta_int ≤ –0.5) = 18.90%\n",
      "P(–0.5 < beta_int < 0) = 23.00%\n",
      "P(beta_int ≥ 0) = 58.10%\n",
      "P(Stress reduction of playing strategy games ≥ 0.5) = 18.90%\n",
      "\n",
      "Model result with only fac1:\n"
     ]
    },
    {
     "name": "stderr",
     "output_type": "stream",
     "text": [
      "Initializing NUTS using jitter+adapt_diag...\n",
      "c:\\Users\\USER\\AppData\\Local\\r-miniconda\\Lib\\site-packages\\pytensor\\tensor\\rewriting\\elemwise.py:954: UserWarning: Loop fusion failed because the resulting node would exceed the kernel argument limit.\n",
      "  warn(\n",
      "Multiprocess sampling (2 chains in 2 jobs)\n",
      "NUTS: [beta0, beta_int, beta_f1, rho, sigma]\n"
     ]
    },
    {
     "data": {
      "text/html": [
       "<pre style=\"white-space:pre;overflow-x:auto;line-height:normal;font-family:Menlo,'DejaVu Sans Mono',consolas,'Courier New',monospace\">c:\\Users\\USER\\AppData\\Local\\r-miniconda\\Lib\\site-packages\\rich\\live.py:231: UserWarning: install \"ipywidgets\" for \n",
       "Jupyter support\n",
       "  warnings.warn('install \"ipywidgets\" for Jupyter support')\n",
       "</pre>\n"
      ],
      "text/plain": [
       "c:\\Users\\USER\\AppData\\Local\\r-miniconda\\Lib\\site-packages\\rich\\live.py:231: UserWarning: install \"ipywidgets\" for \n",
       "Jupyter support\n",
       "  warnings.warn('install \"ipywidgets\" for Jupyter support')\n"
      ]
     },
     "metadata": {},
     "output_type": "display_data"
    },
    {
     "data": {
      "text/html": [
       "<pre style=\"white-space:pre;overflow-x:auto;line-height:normal;font-family:Menlo,'DejaVu Sans Mono',consolas,'Courier New',monospace\"></pre>\n"
      ],
      "text/plain": []
     },
     "metadata": {},
     "output_type": "display_data"
    },
    {
     "name": "stderr",
     "output_type": "stream",
     "text": [
      "Sampling 2 chains for 500 tune and 500 draw iterations (1_000 + 1_000 draws total) took 444 seconds.\n",
      "We recommend running at least 4 chains for robust computation of convergence diagnostics\n",
      "The rhat statistic is larger than 1.01 for some parameters. This indicates problems during sampling. See https://arxiv.org/abs/1903.08008 for details\n"
     ]
    },
    {
     "name": "stdout",
     "output_type": "stream",
     "text": [
      "           mean     sd  hdi_2.5%  hdi_97.5%  mcse_mean  mcse_sd  ess_bulk  \\\n",
      "beta_int  0.124  0.752    -1.193      1.642      0.030    0.025     627.0   \n",
      "beta_f1   0.413  0.377    -0.372      1.081      0.020    0.016     379.0   \n",
      "rho       0.497  0.250     0.051      0.979      0.013    0.007     329.0   \n",
      "sigma     1.678  0.296     1.160      2.285      0.011    0.011     742.0   \n",
      "\n",
      "          ess_tail  r_hat  \n",
      "beta_int     611.0   1.00  \n",
      "beta_f1      386.0   1.00  \n",
      "rho          346.0   1.01  \n",
      "sigma        483.0   1.00  \n",
      "P(beta_int ≤ –0.5) = 19.80%\n",
      "P(–0.5 < beta_int < 0) = 22.40%\n",
      "P(beta_int ≥ 0) = 57.80%\n",
      "P(Stress reduction of playing strategy games ≥ 0.5) = 19.80%\n",
      "\n",
      "Model result with only fac2:\n"
     ]
    },
    {
     "name": "stderr",
     "output_type": "stream",
     "text": [
      "Initializing NUTS using jitter+adapt_diag...\n",
      "c:\\Users\\USER\\AppData\\Local\\r-miniconda\\Lib\\site-packages\\pytensor\\tensor\\rewriting\\elemwise.py:954: UserWarning: Loop fusion failed because the resulting node would exceed the kernel argument limit.\n",
      "  warn(\n",
      "Multiprocess sampling (2 chains in 2 jobs)\n",
      "NUTS: [beta0, beta_int, beta_f2, rho, sigma]\n"
     ]
    },
    {
     "data": {
      "text/html": [
       "<pre style=\"white-space:pre;overflow-x:auto;line-height:normal;font-family:Menlo,'DejaVu Sans Mono',consolas,'Courier New',monospace\">c:\\Users\\USER\\AppData\\Local\\r-miniconda\\Lib\\site-packages\\rich\\live.py:231: UserWarning: install \"ipywidgets\" for \n",
       "Jupyter support\n",
       "  warnings.warn('install \"ipywidgets\" for Jupyter support')\n",
       "</pre>\n"
      ],
      "text/plain": [
       "c:\\Users\\USER\\AppData\\Local\\r-miniconda\\Lib\\site-packages\\rich\\live.py:231: UserWarning: install \"ipywidgets\" for \n",
       "Jupyter support\n",
       "  warnings.warn('install \"ipywidgets\" for Jupyter support')\n"
      ]
     },
     "metadata": {},
     "output_type": "display_data"
    },
    {
     "data": {
      "text/html": [
       "<pre style=\"white-space:pre;overflow-x:auto;line-height:normal;font-family:Menlo,'DejaVu Sans Mono',consolas,'Courier New',monospace\"></pre>\n"
      ],
      "text/plain": []
     },
     "metadata": {},
     "output_type": "display_data"
    },
    {
     "name": "stderr",
     "output_type": "stream",
     "text": [
      "Sampling 2 chains for 500 tune and 500 draw iterations (1_000 + 1_000 draws total) took 336 seconds.\n",
      "We recommend running at least 4 chains for robust computation of convergence diagnostics\n"
     ]
    },
    {
     "name": "stdout",
     "output_type": "stream",
     "text": [
      "           mean     sd  hdi_2.5%  hdi_97.5%  mcse_mean  mcse_sd  ess_bulk  \\\n",
      "beta_int  0.037  0.667    -1.303      1.252      0.026    0.021     656.0   \n",
      "beta_f2   0.564  0.229     0.085      0.994      0.011    0.008     425.0   \n",
      "rho       0.305  0.277    -0.178      0.890      0.012    0.013     538.0   \n",
      "sigma     1.472  0.255     1.017      1.975      0.010    0.010     629.0   \n",
      "\n",
      "          ess_tail  r_hat  \n",
      "beta_int     628.0   1.01  \n",
      "beta_f2      496.0   1.00  \n",
      "rho          266.0   1.00  \n",
      "sigma        552.0   1.00  \n",
      "P(beta_int ≤ –0.5) = 20.90%\n",
      "P(–0.5 < beta_int < 0) = 28.50%\n",
      "P(beta_int ≥ 0) = 50.60%\n",
      "P(Stress reduction of playing strategy games ≥ 0.5) = 20.90%\n",
      "\n",
      "Model result with both fac1 and fac2:\n"
     ]
    },
    {
     "name": "stderr",
     "output_type": "stream",
     "text": [
      "Initializing NUTS using jitter+adapt_diag...\n",
      "c:\\Users\\USER\\AppData\\Local\\r-miniconda\\Lib\\site-packages\\pytensor\\tensor\\rewriting\\elemwise.py:954: UserWarning: Loop fusion failed because the resulting node would exceed the kernel argument limit.\n",
      "  warn(\n",
      "Multiprocess sampling (2 chains in 2 jobs)\n",
      "NUTS: [beta0, beta_int, beta_f1, beta_f2, rho, sigma]\n"
     ]
    },
    {
     "data": {
      "text/html": [
       "<pre style=\"white-space:pre;overflow-x:auto;line-height:normal;font-family:Menlo,'DejaVu Sans Mono',consolas,'Courier New',monospace\">c:\\Users\\USER\\AppData\\Local\\r-miniconda\\Lib\\site-packages\\rich\\live.py:231: UserWarning: install \"ipywidgets\" for \n",
       "Jupyter support\n",
       "  warnings.warn('install \"ipywidgets\" for Jupyter support')\n",
       "</pre>\n"
      ],
      "text/plain": [
       "c:\\Users\\USER\\AppData\\Local\\r-miniconda\\Lib\\site-packages\\rich\\live.py:231: UserWarning: install \"ipywidgets\" for \n",
       "Jupyter support\n",
       "  warnings.warn('install \"ipywidgets\" for Jupyter support')\n"
      ]
     },
     "metadata": {},
     "output_type": "display_data"
    },
    {
     "data": {
      "text/html": [
       "<pre style=\"white-space:pre;overflow-x:auto;line-height:normal;font-family:Menlo,'DejaVu Sans Mono',consolas,'Courier New',monospace\"></pre>\n"
      ],
      "text/plain": []
     },
     "metadata": {},
     "output_type": "display_data"
    },
    {
     "name": "stderr",
     "output_type": "stream",
     "text": [
      "Sampling 2 chains for 500 tune and 500 draw iterations (1_000 + 1_000 draws total) took 393 seconds.\n",
      "There were 3 divergences after tuning. Increase `target_accept` or reparameterize.\n",
      "We recommend running at least 4 chains for robust computation of convergence diagnostics\n",
      "The rhat statistic is larger than 1.01 for some parameters. This indicates problems during sampling. See https://arxiv.org/abs/1903.08008 for details\n"
     ]
    },
    {
     "name": "stdout",
     "output_type": "stream",
     "text": [
      "           mean     sd  hdi_2.5%  hdi_97.5%  mcse_mean  mcse_sd  ess_bulk  \\\n",
      "beta_int  0.027  0.728    -1.426      1.405      0.028    0.030     683.0   \n",
      "beta_f1   0.170  0.435    -0.621      1.073      0.022    0.016     396.0   \n",
      "beta_f2   0.512  0.249     0.056      1.000      0.011    0.008     558.0   \n",
      "rho       0.365  0.296    -0.219      0.892      0.014    0.009     440.0   \n",
      "sigma     1.535  0.274     1.003      2.041      0.012    0.009     440.0   \n",
      "\n",
      "          ess_tail  r_hat  \n",
      "beta_int     464.0   1.00  \n",
      "beta_f1      498.0   1.01  \n",
      "beta_f2      534.0   1.00  \n",
      "rho          509.0   1.00  \n",
      "sigma        317.0   1.00  \n",
      "P(beta_int ≤ –0.5) = 22.30%\n",
      "P(–0.5 < beta_int < 0) = 26.30%\n",
      "P(beta_int ≥ 0) = 51.40%\n",
      "P(Stress reduction of playing strategy games ≥ 0.5) = 22.30%\n",
      "\n"
     ]
    }
   ],
   "source": [
    "def run_model(fac_cols, beta_names):\n",
    "    out = df_mea[df_mea['measurement_name'] == 'Outcome']\n",
    "    med = df_mea[df_mea['measurement_name'] == 'Mediators']\n",
    "    data = (\n",
    "        pd.merge(\n",
    "            out[['current_day_of_study', 'survey1_question1_response', 'current_intervention_name']],\n",
    "            med[['current_day_of_study'] + fac_cols] if fac_cols else out[['current_day_of_study']],\n",
    "            on='current_day_of_study',\n",
    "            how='inner'\n",
    "        ).dropna().sort_values('current_day_of_study').reset_index(drop=True)\n",
    "    )\n",
    "    y = data['survey1_question1_response'].values\n",
    "    interv = (data['current_intervention_name'] == \"Playing strategy games!\").astype(int).values\n",
    "    n = len(data)\n",
    "    fac_arrays = [data[col].values for col in fac_cols] if fac_cols else []\n",
    "\n",
    "    with pm.Model() as model:\n",
    "        beta0 = pm.Normal('beta0', mu=0, sigma=10)\n",
    "        beta_int = pm.Normal('beta_int', mu=0, sigma=1)\n",
    "        betas = [pm.Normal(beta_name, mu=0, sigma=1) for beta_name in beta_names]\n",
    "        rho = pm.Uniform('rho', lower=-1, upper=1)\n",
    "        sigma = pm.HalfNormal('sigma', sigma=1)\n",
    "        mu = beta0 + beta_int * interv\n",
    "        for beta, fac in zip(betas, fac_arrays):\n",
    "            mu += beta * fac\n",
    "        pm.Normal('y_0', mu=mu[0], sigma=sigma, observed=y[0])\n",
    "        for t in range(1, n):\n",
    "            adjustment = rho * (y[t-1] - mu[t-1])\n",
    "            pm.Normal(f'y_{t}', mu=mu[t] + adjustment, sigma=sigma, observed=y[t])\n",
    "        trace = pm.sample(draws=500, tune=500, chains=2, target_accept=0.9, return_inferencedata=True)\n",
    "    summary = az.summary(trace, var_names=['beta_int'] + beta_names + ['rho', 'sigma'], hdi_prob=0.95)\n",
    "    print(summary)\n",
    "    beta_samples = trace.posterior['beta_int'].values.flatten()\n",
    "    p_le_neg05 = (beta_samples <= -0.5).mean()\n",
    "    p_between  = ((beta_samples > -0.5) & (beta_samples < 0)).mean()\n",
    "    p_ge0      = (beta_samples >= 0).mean()\n",
    "    print(f\"P(beta_int ≤ –0.5) = {p_le_neg05:.2%}\")\n",
    "    print(f\"P(–0.5 < beta_int < 0) = {p_between:.2%}\")\n",
    "    print(f\"P(beta_int ≥ 0) = {p_ge0:.2%}\")\n",
    "    prob = (trace.posterior['beta_int'] < -0.5).mean().item()\n",
    "    print(f\"P(Stress reduction of playing strategy games ≥ 0.5) = {prob:.2%}\\n\")\n",
    "\n",
    "print(\"Model result with neither fac1 nor fac2 (intervention only):\")\n",
    "run_model([], [])\n",
    "\n",
    "print(\"Model result with only fac1:\")\n",
    "run_model(['survey2_question1_response'], ['beta_f1'])\n",
    "\n",
    "print(\"Model result with only fac2:\")\n",
    "run_model(['survey2_question2_response'], ['beta_f2'])\n",
    "\n",
    "print(\"Model result with both fac1 and fac2:\")\n",
    "run_model(['survey2_question1_response', 'survey2_question2_response'], ['beta_f1', 'beta_f2'])"
   ]
  },
  {
   "cell_type": "markdown",
   "id": "61cba7b7",
   "metadata": {},
   "source": [
    "#### Bayesian AR(1) Regression with Data-Driven Scale (MAD-Based)"
   ]
  },
  {
   "cell_type": "code",
   "execution_count": 32,
   "id": "b10497f0",
   "metadata": {},
   "outputs": [
    {
     "name": "stderr",
     "output_type": "stream",
     "text": [
      "Initializing NUTS using jitter+adapt_diag...\n",
      "c:\\Users\\USER\\AppData\\Local\\r-miniconda\\Lib\\site-packages\\pytensor\\tensor\\rewriting\\elemwise.py:954: UserWarning: Loop fusion failed because the resulting node would exceed the kernel argument limit.\n",
      "  warn(\n",
      "Multiprocess sampling (2 chains in 2 jobs)\n",
      "NUTS: [beta0, beta_int, rho, sigma]\n"
     ]
    },
    {
     "data": {
      "text/html": [
       "<pre style=\"white-space:pre;overflow-x:auto;line-height:normal;font-family:Menlo,'DejaVu Sans Mono',consolas,'Courier New',monospace\">c:\\Users\\USER\\AppData\\Local\\r-miniconda\\Lib\\site-packages\\rich\\live.py:231: UserWarning: install \"ipywidgets\" for \n",
       "Jupyter support\n",
       "  warnings.warn('install \"ipywidgets\" for Jupyter support')\n",
       "</pre>\n"
      ],
      "text/plain": [
       "c:\\Users\\USER\\AppData\\Local\\r-miniconda\\Lib\\site-packages\\rich\\live.py:231: UserWarning: install \"ipywidgets\" for \n",
       "Jupyter support\n",
       "  warnings.warn('install \"ipywidgets\" for Jupyter support')\n"
      ]
     },
     "metadata": {},
     "output_type": "display_data"
    },
    {
     "data": {
      "text/html": [
       "<pre style=\"white-space:pre;overflow-x:auto;line-height:normal;font-family:Menlo,'DejaVu Sans Mono',consolas,'Courier New',monospace\"></pre>\n"
      ],
      "text/plain": []
     },
     "metadata": {},
     "output_type": "display_data"
    },
    {
     "name": "stderr",
     "output_type": "stream",
     "text": [
      "Sampling 2 chains for 500 tune and 500 draw iterations (1_000 + 1_000 draws total) took 244 seconds.\n",
      "We recommend running at least 4 chains for robust computation of convergence diagnostics\n"
     ]
    },
    {
     "name": "stdout",
     "output_type": "stream",
     "text": [
      "           mean     sd  hdi_2.5%  hdi_97.5%  mcse_mean  mcse_sd  ess_bulk  \\\n",
      "beta_int  0.664  1.084    -1.503      2.791      0.052    0.044     431.0   \n",
      "rho       0.557  0.277     0.083      0.993      0.013    0.007     407.0   \n",
      "sigma     1.898  0.402     1.264      2.720      0.019    0.019     456.0   \n",
      "\n",
      "          ess_tail  r_hat  \n",
      "beta_int     519.0   1.01  \n",
      "rho          401.0   1.00  \n",
      "sigma        519.0   1.00  \n",
      "P(beta_int ≤ –0.5) = 12.80%\n",
      "P(–0.5 < beta_int < 0) = 14.20%\n",
      "P(beta_int ≥ 0) = 73.00%\n"
     ]
    },
    {
     "data": {
      "image/png": "[encoded data removed]",
      "text/plain": [
       "<Figure size 1000x400 with 2 Axes>"
      ]
     },
     "metadata": {},
     "output_type": "display_data"
    }
   ],
   "source": [
    "outcome_data = df_mea[df_mea['measurement_name'] == 'Outcome']\n",
    "data = (\n",
    "    outcome_data[['current_day_of_study', 'survey1_question1_response', 'current_intervention_name']]\n",
    "    .dropna()\n",
    "    .sort_values('current_day_of_study')\n",
    "    .reset_index(drop=True)\n",
    ")\n",
    "\n",
    "y      = data['survey1_question1_response'].values\n",
    "interv = (data['current_intervention_name'] == \"Playing strategy games!\").astype(int).values\n",
    "n      = len(data)\n",
    "\n",
    "mad = np.median(np.abs(y - np.median(y)))\n",
    "scale = max(mad, 2.0)\n",
    "\n",
    "with pm.Model() as model:\n",
    "    beta0    = pm.StudentT('beta0',    nu=3, mu=0, sigma=scale)   \n",
    "    beta_int = pm.StudentT('beta_int', nu=3, mu=0, sigma=scale)   \n",
    "    rho      = pm.Uniform('rho',       lower=-1, upper=1)         \n",
    "    sigma    = pm.HalfStudentT('sigma', nu=3, sigma=scale)        \n",
    "\n",
    "    mu = beta0 + beta_int * interv\n",
    "\n",
    "    pm.Normal('y_0', mu=mu[0], sigma=sigma, observed=y[0])\n",
    "\n",
    "    for t in range(1, n):\n",
    "        adjustment = rho * (y[t-1] - mu[t-1])\n",
    "        pm.Normal(f'y_{t}', mu=mu[t] + adjustment, sigma=sigma, observed=y[t])\n",
    "\n",
    "    trace = pm.sample(\n",
    "        draws=500,\n",
    "        tune=500,\n",
    "        chains=2,\n",
    "        target_accept=0.9,\n",
    "        return_inferencedata=True\n",
    "    )\n",
    "\n",
    "summary = az.summary(trace, var_names=['beta_int', 'rho', 'sigma'], hdi_prob=0.95)\n",
    "print(summary)\n",
    "\n",
    "beta_samples = trace.posterior['beta_int'].values.flatten()\n",
    "\n",
    "p_le_neg05 = (beta_samples <= -0.5).mean()\n",
    "p_between  = ((beta_samples > -0.5) & (beta_samples < 0)).mean()\n",
    "p_ge0      = (beta_samples >= 0).mean()\n",
    "\n",
    "print(f\"P(beta_int ≤ –0.5) = {p_le_neg05:.2%}\")\n",
    "print(f\"P(–0.5 < beta_int < 0) = {p_between:.2%}\")\n",
    "print(f\"P(beta_int ≥ 0) = {p_ge0:.2%}\")\n",
    "\n",
    "mean_beta = summary.loc['beta_int', 'mean']\n",
    "hdi_low   = summary.loc['beta_int', 'hdi_2.5%']\n",
    "hdi_high  = summary.loc['beta_int', 'hdi_97.5%']\n",
    "\n",
    "fig, axes = plt.subplots(1, 2, figsize=(10, 4), gridspec_kw={'width_ratios': [1, 1]})\n",
    "\n",
    "ax = axes[0]\n",
    "ax.errorbar(0, mean_beta,\n",
    "            yerr=[[mean_beta - hdi_low], [hdi_high - mean_beta]],\n",
    "            fmt='o', capsize=5, color='black')\n",
    "ax.axhline(0, color='gray', linestyle='--')\n",
    "ax.set_xticks([0])\n",
    "ax.set_xticklabels(['Playing strategy games effect'])\n",
    "ax.set_ylabel('Stress reduction (points)')\n",
    "ax.set_title('A. Posterior mean ± 95% CI', loc='left', pad=10, fontsize=12, fontweight='bold')\n",
    "\n",
    "ax = axes[1]\n",
    "ax.bar(0, p_le_neg05, width=0.6, color='darkgreen',  label='Effect ≤ –0.5')\n",
    "ax.bar(0, p_between,  width=0.6, bottom=p_le_neg05, color='lightgreen', label='–0.5 < Effect < 0')\n",
    "ax.bar(0, p_ge0,      width=0.6, bottom=p_le_neg05+p_between, color='gold', label='Effect ≥ 0')\n",
    "ax.axhline(0.7, color='gray', linestyle='--', label='Responder threshold (0.7)')\n",
    "ax.set_xticks([0])\n",
    "ax.set_xticklabels(['Posterior mass'])\n",
    "ax.set_ylim(0, 1)\n",
    "ax.set_ylabel('Probability')\n",
    "ax.set_title('B. Distribution of effect size', loc='left', pad=10, fontsize=12, fontweight='bold')\n",
    "ax.legend(loc='upper right', fontsize=8)\n",
    "\n",
    "plt.tight_layout()\n",
    "plt.show()"
   ]
  }
 ],
 "metadata": {
  "kernelspec": {
   "display_name": "base",
   "language": "python",
   "name": "python3"
  },
  "language_info": {
   "codemirror_mode": {
    "name": "ipython",
    "version": 3
   },
   "file_extension": ".py",
   "mimetype": "text/x-python",
   "name": "python",
   "nbconvert_exporter": "python",
   "pygments_lexer": "ipython3",
   "version": "3.11.5"
  }
 },
 "nbformat": 4,
 "nbformat_minor": 5
}
