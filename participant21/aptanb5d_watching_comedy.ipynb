{
 "cells": [
  {
   "cell_type": "markdown",
   "id": "f101cfde",
   "metadata": {},
   "source": [
    "## Data reading and Data Insights"
   ]
  },
  {
   "cell_type": "markdown",
   "id": "968516ae",
   "metadata": {},
   "source": [
    "**Watching Comedy Participant: aptanb5d, 16 days participation**\n",
    "\n",
    "*Dataset:* 'Watching Comedy' vs 'Not Watching Comedy' study"
   ]
  },
  {
   "cell_type": "markdown",
   "id": "14b044fa",
   "metadata": {},
   "source": [
    "#### Libraries"
   ]
  },
  {
   "cell_type": "code",
   "execution_count": 1,
   "id": "e02ed0c3",
   "metadata": {},
   "outputs": [
    {
     "name": "stderr",
     "output_type": "stream",
     "text": [
      "WARNING (pytensor.configdefaults): g++ not available, if using conda: `conda install gxx`\n",
      "WARNING (pytensor.configdefaults): g++ not detected!  PyTensor will be unable to compile C-implementations and will default to Python. Performance may be severely degraded. To remove this warning, set PyTensor flags cxx to an empty string.\n"
     ]
    }
   ],
   "source": [
    "import pandas as pd\n",
    "import numpy as np\n",
    "import matplotlib.pyplot as plt\n",
    "import seaborn as sns\n",
    "from scipy import stats\n",
    "import statsmodels.api as sm\n",
    "from statsmodels.stats.stattools import durbin_watson\n",
    "import pymc as pm\n",
    "import arviz as az\n",
    "import pytensor.tensor as pt\n",
    "from pytensor.scan import scan"
   ]
  },
  {
   "cell_type": "code",
   "execution_count": 2,
   "id": "565cf087",
   "metadata": {},
   "outputs": [],
   "source": [
    "path = \"C://Users//USER//Desktop//StudyU_Results//\"\n",
    "df_intervention = pd.read_csv(path+\"self-designed_n-of-1_trials_on_stress_management_-_watching_comedy_-_aptanb5d_2025-06-07 23_54_34.874//interventions.csv\")\n",
    "#print(df_intervention.head())\n",
    "df_mea = pd.read_csv(path+\"self-designed_n-of-1_trials_on_stress_management_-_watching_comedy_-_aptanb5d_2025-06-07 23_54_34.874//measurements.csv\")\n",
    "#print(df_mea.head())"
   ]
  },
  {
   "cell_type": "markdown",
   "id": "d1ad7802",
   "metadata": {},
   "source": [
    "## Data Analysis and Preprocessing"
   ]
  },
  {
   "cell_type": "markdown",
   "id": "e24520cc",
   "metadata": {},
   "source": [
    "- Pre-analysis: aptanb5d\n",
    "    - Number of Participant\n",
    "    - Participation of the study\n",
    "    - Missing Values\n",
    "    - Remove Participants Who Joined Outside the Study\n",
    "    - Data Preperation"
   ]
  },
  {
   "cell_type": "markdown",
   "id": "10c82df0",
   "metadata": {},
   "source": [
    "#### Number of Participant"
   ]
  },
  {
   "cell_type": "code",
   "execution_count": 20,
   "id": "9e423290",
   "metadata": {},
   "outputs": [
    {
     "name": "stdout",
     "output_type": "stream",
     "text": [
      "The column 'participant_id' has only one unique value: 'aae6297e-36b6-4e6d-949b-5fb33d6d5966'\n"
     ]
    }
   ],
   "source": [
    "column_name = 'participant_id' \n",
    "\n",
    "unique_count = df_intervention[column_name].nunique()\n",
    "\n",
    "if unique_count == 1:\n",
    "    only_value = df_intervention[column_name].iloc[0]\n",
    "    print(f\"The column '{column_name}' has only one unique value: {only_value!r}\")\n",
    "else:\n",
    "    print(f\"The column '{column_name}' has {unique_count} unique values.\")\n",
    "    print(\"Unique values are:\", df_intervention[column_name].unique())"
   ]
  },
  {
   "cell_type": "markdown",
   "id": "c4c7e973",
   "metadata": {},
   "source": [
    "#### Participation of the study"
   ]
  },
  {
   "cell_type": "code",
   "execution_count": 21,
   "id": "79cbb43d",
   "metadata": {},
   "outputs": [
    {
     "name": "stdout",
     "output_type": "stream",
     "text": [
      "                         participant_id  participation_days\n",
      "0  aae6297e-36b6-4e6d-949b-5fb33d6d5966                  15\n"
     ]
    }
   ],
   "source": [
    "df_mea['measurement_time'] = pd.to_datetime(df_mea['measurement_time'], utc=True)\n",
    "\n",
    "participation_days = (\n",
    "    df_mea\n",
    "    .groupby('participant_id')['measurement_time']\n",
    "    .apply(lambda x: x.dt.date.nunique())\n",
    "    .reset_index(name='participation_days')\n",
    ")\n",
    "\n",
    "print(participation_days)"
   ]
  },
  {
   "cell_type": "markdown",
   "id": "6fd47a75",
   "metadata": {},
   "source": [
    "As anticipated, the study comprised a single participant, with a total participation period of 15 days."
   ]
  },
  {
   "cell_type": "markdown",
   "id": "52c79068",
   "metadata": {},
   "source": [
    "#### Missing Values"
   ]
  },
  {
   "cell_type": "code",
   "execution_count": 22,
   "id": "0d543d72",
   "metadata": {},
   "outputs": [
    {
     "name": "stdout",
     "output_type": "stream",
     "text": [
      "\n",
      "--- Participant aae6297e-36b6-4e6d-949b-5fb33d6d5966 ---\n",
      "\n",
      "  Outcome:\n",
      "    Start date:           2025-05-21\n",
      "    End of expected 16d:  2025-06-05\n",
      "    Expected days count:  16\n",
      "    Completed days count: 15\n",
      "    Missed days count:    1\n",
      "    Missed dates:\n",
      "       2025-06-05\n",
      "\n",
      "  Mediators:\n",
      "    Start date:           2025-05-21\n",
      "    End of expected 16d:  2025-06-05\n",
      "    Expected days count:  16\n",
      "    Completed days count: 15\n",
      "    Missed days count:    1\n",
      "    Missed dates:\n",
      "       2025-06-05\n"
     ]
    }
   ],
   "source": [
    "df_mea['measurement_time'] = pd.to_datetime(df_mea['measurement_time'])\n",
    "\n",
    "results = {}\n",
    "\n",
    "for pid in df_mea['participant_id'].unique():\n",
    "    results[pid] = {}\n",
    "    df_part = df_mea[df_mea['participant_id'] == pid]\n",
    "    \n",
    "    for name in ['Outcome', 'Mediators']:\n",
    "        sub = df_part[df_part['measurement_name'] == name].copy()\n",
    "        if sub.empty:\n",
    "            results[pid][name] = None\n",
    "            continue\n",
    "\n",
    "        sub['date'] = sub['measurement_time'].dt.date\n",
    "\n",
    "        start_date = sub['date'].min()\n",
    "\n",
    "        expected_dates = pd.date_range(start_date, periods=16, freq='D').date\n",
    "\n",
    "        done_dates = set(sub['date']) & set(expected_dates)\n",
    "\n",
    "        missed_dates = sorted(set(expected_dates) - done_dates)\n",
    "\n",
    "        results[pid][name] = {\n",
    "            'start_date': start_date,\n",
    "            'end_expected': expected_dates[-1],\n",
    "            'expected_days': len(expected_dates),            \n",
    "            'completed_days': len(done_dates),\n",
    "            'missed_days_count': len(missed_dates),\n",
    "            'missed_dates': missed_dates\n",
    "        }\n",
    "\n",
    "for pid, measures in results.items():\n",
    "    print(f\"\\n--- Participant {pid} ---\")\n",
    "    for name, stats in measures.items():\n",
    "        if stats is None:\n",
    "            print(f\"{name}: no data\")\n",
    "            continue\n",
    "        print(f\"\\n  {name}:\")\n",
    "        print(f\"    Start date:           {stats['start_date']}\")\n",
    "        print(f\"    End of expected 16d:  {stats['end_expected']}\")\n",
    "        print(f\"    Expected days count:  {stats['expected_days']}\")\n",
    "        print(f\"    Completed days count: {stats['completed_days']}\")\n",
    "        print(f\"    Missed days count:    {stats['missed_days_count']}\")\n",
    "        if stats['missed_dates']:\n",
    "            print(\"    Missed dates:\")\n",
    "            for d in stats['missed_dates']:\n",
    "                print(\"      \", d)"
   ]
  },
  {
   "cell_type": "markdown",
   "id": "456ef994",
   "metadata": {},
   "source": [
    "#### Remove Participants Who Joined Outside the Study"
   ]
  },
  {
   "cell_type": "code",
   "execution_count": 23,
   "id": "613b1316",
   "metadata": {},
   "outputs": [],
   "source": [
    "# df_mea = df_mea[df_mea['participant_id'] != \"ca773388-eb42-4716-995a-476ed72c0475\"]\n",
    "# df_mea.shape[0]"
   ]
  },
  {
   "cell_type": "markdown",
   "id": "26a0d2f5",
   "metadata": {},
   "source": [
    "#### Data Preperation"
   ]
  },
  {
   "cell_type": "code",
   "execution_count": 24,
   "id": "5c2ba47f",
   "metadata": {},
   "outputs": [
    {
     "data": {
      "text/html": [
       "<div>\n",
       "<style scoped>\n",
       "    .dataframe tbody tr th:only-of-type {\n",
       "        vertical-align: middle;\n",
       "    }\n",
       "\n",
       "    .dataframe tbody tr th {\n",
       "        vertical-align: top;\n",
       "    }\n",
       "\n",
       "    .dataframe thead th {\n",
       "        text-align: right;\n",
       "    }\n",
       "</style>\n",
       "<table border=\"1\" class=\"dataframe\">\n",
       "  <thead>\n",
       "    <tr style=\"text-align: right;\">\n",
       "      <th></th>\n",
       "      <th>measurement_time</th>\n",
       "      <th>measurement_name</th>\n",
       "      <th>participant_id</th>\n",
       "      <th>current_day_of_study</th>\n",
       "      <th>current_intervention_name</th>\n",
       "      <th>survey1_question1_response</th>\n",
       "      <th>survey1_question2_response</th>\n",
       "      <th>survey1_question3_response</th>\n",
       "      <th>survey1_question4_response</th>\n",
       "      <th>survey2_question1_response</th>\n",
       "      <th>survey2_question2_response</th>\n",
       "    </tr>\n",
       "  </thead>\n",
       "  <tbody>\n",
       "    <tr>\n",
       "      <th>0</th>\n",
       "      <td>2025-06-04 18:10:00.211030+00:00</td>\n",
       "      <td>Outcome</td>\n",
       "      <td>aae6297e-36b6-4e6d-949b-5fb33d6d5966</td>\n",
       "      <td>15</td>\n",
       "      <td>Watching comedy movies or series!</td>\n",
       "      <td>4.0</td>\n",
       "      <td>2.0</td>\n",
       "      <td>4.0</td>\n",
       "      <td>1.0</td>\n",
       "      <td>NaN</td>\n",
       "      <td>NaN</td>\n",
       "    </tr>\n",
       "  </tbody>\n",
       "</table>\n",
       "</div>"
      ],
      "text/plain": [
       "                  measurement_time measurement_name  \\\n",
       "0 2025-06-04 18:10:00.211030+00:00          Outcome   \n",
       "\n",
       "                         participant_id  current_day_of_study  \\\n",
       "0  aae6297e-36b6-4e6d-949b-5fb33d6d5966                    15   \n",
       "\n",
       "           current_intervention_name  survey1_question1_response  \\\n",
       "0  Watching comedy movies or series!                         4.0   \n",
       "\n",
       "   survey1_question2_response  survey1_question3_response  \\\n",
       "0                         2.0                         4.0   \n",
       "\n",
       "   survey1_question4_response  survey2_question1_response  \\\n",
       "0                         1.0                         NaN   \n",
       "\n",
       "   survey2_question2_response  \n",
       "0                         NaN  "
      ]
     },
     "execution_count": 24,
     "metadata": {},
     "output_type": "execute_result"
    }
   ],
   "source": [
    "df_mea_all= df_mea[[\n",
    "     'measurement_time',\n",
    "     'measurement_name',\n",
    "     'participant_id',\n",
    "     'current_day_of_study',\n",
    "     'current_intervention_name',\n",
    "     'survey1_question1_response',\n",
    "     'survey1_question2_response',\n",
    "     'survey1_question3_response',\n",
    "     'survey1_question4_response',\n",
    "     'survey2_question1_response',\n",
    "     'survey2_question2_response']]\n",
    "df_mea_all.head(1)\n",
    "    "
   ]
  },
  {
   "cell_type": "code",
   "execution_count": 25,
   "id": "b8672a8e",
   "metadata": {},
   "outputs": [],
   "source": [
    "df_mea_m = df_mea_all[df_mea_all['measurement_name'] == 'Mediators']\n",
    "df_mea_o = df_mea_all[df_mea_all['measurement_name'] == 'Outcome']"
   ]
  },
  {
   "cell_type": "code",
   "execution_count": 26,
   "id": "ae3f0a0e",
   "metadata": {},
   "outputs": [],
   "source": [
    "df_mea_o = df_mea_o.sort_values(by=['participant_id', 'current_day_of_study'])\n",
    "df_mea_m = df_mea_m.sort_values(by=['participant_id', 'current_day_of_study'])"
   ]
  },
  {
   "cell_type": "code",
   "execution_count": 27,
   "id": "6d5cbda3",
   "metadata": {},
   "outputs": [
    {
     "data": {
      "text/html": [
       "<div>\n",
       "<style scoped>\n",
       "    .dataframe tbody tr th:only-of-type {\n",
       "        vertical-align: middle;\n",
       "    }\n",
       "\n",
       "    .dataframe tbody tr th {\n",
       "        vertical-align: top;\n",
       "    }\n",
       "\n",
       "    .dataframe thead th {\n",
       "        text-align: right;\n",
       "    }\n",
       "</style>\n",
       "<table border=\"1\" class=\"dataframe\">\n",
       "  <thead>\n",
       "    <tr style=\"text-align: right;\">\n",
       "      <th></th>\n",
       "      <th>measurement_time</th>\n",
       "      <th>measurement_name</th>\n",
       "      <th>participant_id</th>\n",
       "      <th>current_day_of_study</th>\n",
       "      <th>current_intervention_name</th>\n",
       "      <th>survey1_question1_response</th>\n",
       "      <th>survey1_question2_response</th>\n",
       "      <th>survey1_question3_response</th>\n",
       "      <th>survey1_question4_response</th>\n",
       "      <th>survey2_question1_response</th>\n",
       "      <th>survey2_question2_response</th>\n",
       "    </tr>\n",
       "  </thead>\n",
       "  <tbody>\n",
       "    <tr>\n",
       "      <th>29</th>\n",
       "      <td>2025-05-21 18:06:17.063133+00:00</td>\n",
       "      <td>Outcome</td>\n",
       "      <td>aae6297e-36b6-4e6d-949b-5fb33d6d5966</td>\n",
       "      <td>1</td>\n",
       "      <td>Watching comedy movies or series!</td>\n",
       "      <td>7.0</td>\n",
       "      <td>6.0</td>\n",
       "      <td>6.0</td>\n",
       "      <td>4.0</td>\n",
       "      <td>NaN</td>\n",
       "      <td>NaN</td>\n",
       "    </tr>\n",
       "    <tr>\n",
       "      <th>27</th>\n",
       "      <td>2025-05-22 18:28:06.198586+00:00</td>\n",
       "      <td>Outcome</td>\n",
       "      <td>aae6297e-36b6-4e6d-949b-5fb33d6d5966</td>\n",
       "      <td>2</td>\n",
       "      <td>Watching comedy movies or series!</td>\n",
       "      <td>6.0</td>\n",
       "      <td>8.0</td>\n",
       "      <td>5.0</td>\n",
       "      <td>6.0</td>\n",
       "      <td>NaN</td>\n",
       "      <td>NaN</td>\n",
       "    </tr>\n",
       "    <tr>\n",
       "      <th>24</th>\n",
       "      <td>2025-05-23 18:27:14.117000+00:00</td>\n",
       "      <td>Outcome</td>\n",
       "      <td>aae6297e-36b6-4e6d-949b-5fb33d6d5966</td>\n",
       "      <td>3</td>\n",
       "      <td>Watching comedy movies or series!</td>\n",
       "      <td>6.0</td>\n",
       "      <td>7.0</td>\n",
       "      <td>5.0</td>\n",
       "      <td>1.0</td>\n",
       "      <td>NaN</td>\n",
       "      <td>NaN</td>\n",
       "    </tr>\n",
       "    <tr>\n",
       "      <th>23</th>\n",
       "      <td>2025-05-24 20:23:44.357478+00:00</td>\n",
       "      <td>Outcome</td>\n",
       "      <td>aae6297e-36b6-4e6d-949b-5fb33d6d5966</td>\n",
       "      <td>4</td>\n",
       "      <td>Not watching comedy movies or series!</td>\n",
       "      <td>6.0</td>\n",
       "      <td>2.0</td>\n",
       "      <td>1.0</td>\n",
       "      <td>5.0</td>\n",
       "      <td>NaN</td>\n",
       "      <td>NaN</td>\n",
       "    </tr>\n",
       "    <tr>\n",
       "      <th>20</th>\n",
       "      <td>2025-05-25 18:00:51.314321+00:00</td>\n",
       "      <td>Outcome</td>\n",
       "      <td>aae6297e-36b6-4e6d-949b-5fb33d6d5966</td>\n",
       "      <td>5</td>\n",
       "      <td>Not watching comedy movies or series!</td>\n",
       "      <td>2.0</td>\n",
       "      <td>6.0</td>\n",
       "      <td>1.0</td>\n",
       "      <td>2.0</td>\n",
       "      <td>NaN</td>\n",
       "      <td>NaN</td>\n",
       "    </tr>\n",
       "  </tbody>\n",
       "</table>\n",
       "</div>"
      ],
      "text/plain": [
       "                   measurement_time measurement_name  \\\n",
       "29 2025-05-21 18:06:17.063133+00:00          Outcome   \n",
       "27 2025-05-22 18:28:06.198586+00:00          Outcome   \n",
       "24 2025-05-23 18:27:14.117000+00:00          Outcome   \n",
       "23 2025-05-24 20:23:44.357478+00:00          Outcome   \n",
       "20 2025-05-25 18:00:51.314321+00:00          Outcome   \n",
       "\n",
       "                          participant_id  current_day_of_study  \\\n",
       "29  aae6297e-36b6-4e6d-949b-5fb33d6d5966                     1   \n",
       "27  aae6297e-36b6-4e6d-949b-5fb33d6d5966                     2   \n",
       "24  aae6297e-36b6-4e6d-949b-5fb33d6d5966                     3   \n",
       "23  aae6297e-36b6-4e6d-949b-5fb33d6d5966                     4   \n",
       "20  aae6297e-36b6-4e6d-949b-5fb33d6d5966                     5   \n",
       "\n",
       "                current_intervention_name  survey1_question1_response  \\\n",
       "29      Watching comedy movies or series!                         7.0   \n",
       "27      Watching comedy movies or series!                         6.0   \n",
       "24      Watching comedy movies or series!                         6.0   \n",
       "23  Not watching comedy movies or series!                         6.0   \n",
       "20  Not watching comedy movies or series!                         2.0   \n",
       "\n",
       "    survey1_question2_response  survey1_question3_response  \\\n",
       "29                         6.0                         6.0   \n",
       "27                         8.0                         5.0   \n",
       "24                         7.0                         5.0   \n",
       "23                         2.0                         1.0   \n",
       "20                         6.0                         1.0   \n",
       "\n",
       "    survey1_question4_response  survey2_question1_response  \\\n",
       "29                         4.0                         NaN   \n",
       "27                         6.0                         NaN   \n",
       "24                         1.0                         NaN   \n",
       "23                         5.0                         NaN   \n",
       "20                         2.0                         NaN   \n",
       "\n",
       "    survey2_question2_response  \n",
       "29                         NaN  \n",
       "27                         NaN  \n",
       "24                         NaN  \n",
       "23                         NaN  \n",
       "20                         NaN  "
      ]
     },
     "execution_count": 27,
     "metadata": {},
     "output_type": "execute_result"
    }
   ],
   "source": [
    "df_mea_o.head()"
   ]
  },
  {
   "cell_type": "markdown",
   "id": "4958cabd",
   "metadata": {},
   "source": [
    "## Exploratory Data Analysis - Outcome"
   ]
  },
  {
   "cell_type": "markdown",
   "id": "158c35f6",
   "metadata": {},
   "source": [
    "- EDA Steps  \n",
    "  - Data shape  \n",
    "  - Data types of columns  \n",
    "  - Missing values  \n",
    "  - Summary statistics  \n",
    "  - Data Visualization and Distributions  \n",
    "    - Plot histograms and box plots  \n",
    "    - Line plot  \n",
    "    - Scatter plot  \n",
    "    - Correlations (Pearson, Kendall, Spearman)    "
   ]
  },
  {
   "cell_type": "markdown",
   "id": "9c56c4af",
   "metadata": {},
   "source": [
    "#### Data Shape"
   ]
  },
  {
   "cell_type": "code",
   "execution_count": 28,
   "id": "b0c700fb",
   "metadata": {},
   "outputs": [
    {
     "name": "stdout",
     "output_type": "stream",
     "text": [
      "Outcome Data Shape\n",
      "Rows: 15\n",
      "Columns: 11\n"
     ]
    }
   ],
   "source": [
    "print(\"Outcome Data Shape\")\n",
    "print(\"Rows:\", df_mea_o.shape[0])\n",
    "print(\"Columns:\", df_mea_o.shape[1])"
   ]
  },
  {
   "cell_type": "markdown",
   "id": "74e40212",
   "metadata": {},
   "source": [
    "#### Data Types of columns"
   ]
  },
  {
   "cell_type": "code",
   "execution_count": 29,
   "id": "06463c20",
   "metadata": {},
   "outputs": [
    {
     "name": "stdout",
     "output_type": "stream",
     "text": [
      "Outcome Data Types of Columns\n",
      "                                      Data Type\n",
      "measurement_time            datetime64[ns, UTC]\n",
      "measurement_name                         object\n",
      "participant_id                           object\n",
      "current_day_of_study                      int64\n",
      "current_intervention_name                object\n",
      "survey1_question1_response              float64\n",
      "survey1_question2_response              float64\n",
      "survey1_question3_response              float64\n",
      "survey1_question4_response              float64\n",
      "survey2_question1_response              float64\n",
      "survey2_question2_response              float64\n"
     ]
    }
   ],
   "source": [
    "print(\"Outcome Data Types of Columns\")\n",
    "data_types = df_mea_o.dtypes\n",
    "data_types_df = pd.DataFrame(data_types, columns=[\"Data Type\"])\n",
    "print(data_types_df)"
   ]
  },
  {
   "cell_type": "markdown",
   "id": "ff16ab5e",
   "metadata": {},
   "source": [
    "#### Missing Value Analysis"
   ]
  },
  {
   "cell_type": "code",
   "execution_count": 30,
   "id": "f0ec5d76",
   "metadata": {},
   "outputs": [
    {
     "name": "stdout",
     "output_type": "stream",
     "text": [
      "\n",
      "--- Participant aae6297e-36b6-4e6d-949b-5fb33d6d5966 ---\n",
      "\n",
      "  Outcome:\n",
      "    Start date:           2025-05-21\n",
      "    End of expected 16d:  2025-06-05\n",
      "    Expected days count:  16\n",
      "    Completed days count: 15\n",
      "    Missed days count:    1\n",
      "    Missed dates:\n",
      "       2025-06-05\n",
      "\n",
      "  Mediators:\n",
      "    Start date:           2025-05-21\n",
      "    End of expected 16d:  2025-06-05\n",
      "    Expected days count:  16\n",
      "    Completed days count: 15\n",
      "    Missed days count:    1\n",
      "    Missed dates:\n",
      "       2025-06-05\n",
      "\n",
      "  survey1_question1_response:\n",
      "    Start date:           2025-05-21\n",
      "    End of expected 16d:  2025-06-05\n",
      "    Expected days count:  16\n",
      "    Completed days count: 15\n",
      "    Missed days count:    1\n",
      "    Missed dates:\n",
      "       2025-06-05\n",
      "\n",
      "  survey1_question2_response:\n",
      "    Start date:           2025-05-21\n",
      "    End of expected 16d:  2025-06-05\n",
      "    Expected days count:  16\n",
      "    Completed days count: 15\n",
      "    Missed days count:    1\n",
      "    Missed dates:\n",
      "       2025-06-05\n",
      "\n",
      "  survey1_question3_response:\n",
      "    Start date:           2025-05-21\n",
      "    End of expected 16d:  2025-06-05\n",
      "    Expected days count:  16\n",
      "    Completed days count: 15\n",
      "    Missed days count:    1\n",
      "    Missed dates:\n",
      "       2025-06-05\n",
      "\n",
      "  survey1_question4_response:\n",
      "    Start date:           2025-05-21\n",
      "    End of expected 16d:  2025-06-05\n",
      "    Expected days count:  16\n",
      "    Completed days count: 15\n",
      "    Missed days count:    1\n",
      "    Missed dates:\n",
      "       2025-06-05\n",
      "\n",
      "  survey2_question1_response:\n",
      "    Start date:           2025-05-21\n",
      "    End of expected 16d:  2025-06-05\n",
      "    Expected days count:  16\n",
      "    Completed days count: 15\n",
      "    Missed days count:    1\n",
      "    Missed dates:\n",
      "       2025-06-05\n",
      "\n",
      "  survey2_question2_response:\n",
      "    Start date:           2025-05-21\n",
      "    End of expected 16d:  2025-06-05\n",
      "    Expected days count:  16\n",
      "    Completed days count: 15\n",
      "    Missed days count:    1\n",
      "    Missed dates:\n",
      "       2025-06-05\n"
     ]
    }
   ],
   "source": [
    "df_mea['measurement_time'] = pd.to_datetime(df_mea['measurement_time'])\n",
    "\n",
    "df_mea.columns = df_mea.columns.str.strip()\n",
    "df_mea['measurement_name'] = df_mea['measurement_name'].str.strip()\n",
    "\n",
    "measurement_names = [\n",
    "    'Outcome',\n",
    "    'Mediators',\n",
    "    'survey1_question1_response',\n",
    "    'survey1_question2_response',\n",
    "    'survey1_question3_response',\n",
    "    'survey1_question4_response',\n",
    "    'survey2_question1_response',\n",
    "    'survey2_question2_response'\n",
    "]\n",
    "\n",
    "results = {}\n",
    "\n",
    "for pid in df_mea['participant_id'].unique():\n",
    "    results[pid] = {}\n",
    "    df_part = df_mea[df_mea['participant_id'] == pid]\n",
    "    \n",
    "    for name in measurement_names:\n",
    "        if name in ['Outcome', 'Mediators']:\n",
    "            sub = df_part[df_part['measurement_name'] == name].copy()\n",
    "        else:\n",
    "            if name not in df_part.columns:\n",
    "                sub = pd.DataFrame()\n",
    "            else:\n",
    "                sub = df_part[df_part[name].notna()].copy()\n",
    "        \n",
    "        if sub.empty:\n",
    "            results[pid][name] = None\n",
    "            continue\n",
    "\n",
    "        sub['date'] = sub['measurement_time'].dt.date\n",
    "\n",
    "        start_date = sub['date'].min()\n",
    "\n",
    "        expected_dates = pd.date_range(start_date, periods=16, freq='D').date\n",
    "\n",
    "        done_dates = set(sub['date']) & set(expected_dates)\n",
    "\n",
    "        missed_dates = sorted(set(expected_dates) - done_dates)\n",
    "\n",
    "        results[pid][name] = {\n",
    "            'start_date': start_date,\n",
    "            'end_expected': expected_dates[-1],\n",
    "            'expected_days': len(expected_dates),     \n",
    "            'completed_days': len(done_dates),\n",
    "            'missed_days_count': len(missed_dates),\n",
    "            'missed_dates': missed_dates\n",
    "        }\n",
    "\n",
    "for pid, measures in results.items():\n",
    "    print(f\"\\n--- Participant {pid} ---\")\n",
    "    for name, stats in measures.items():\n",
    "        if stats is None:\n",
    "            print(f\"{name}: no data\")\n",
    "            continue\n",
    "        print(f\"\\n  {name}:\")\n",
    "        print(f\"    Start date:           {stats['start_date']}\")\n",
    "        print(f\"    End of expected 16d:  {stats['end_expected']}\")\n",
    "        print(f\"    Expected days count:  {stats['expected_days']}\")\n",
    "        print(f\"    Completed days count: {stats['completed_days']}\")\n",
    "        print(f\"    Missed days count:    {stats['missed_days_count']}\")\n",
    "        if stats['missed_dates']:\n",
    "            print(\"    Missed dates:\")\n",
    "            for d in stats['missed_dates']:\n",
    "                print(\"      \", d)"
   ]
  },
  {
   "cell_type": "markdown",
   "id": "4a4957bc",
   "metadata": {},
   "source": [
    "#### Missing Values for Confirmations between 08.00 - 21.00"
   ]
  },
  {
   "cell_type": "code",
   "execution_count": 31,
   "id": "a657ac7a",
   "metadata": {},
   "outputs": [
    {
     "name": "stdout",
     "output_type": "stream",
     "text": [
      "Missing participation days and their corresponding task names:\n",
      "          date intervention_task_name\n",
      "5   2025-05-26                    NaN\n",
      "15  2025-06-05                    NaN\n"
     ]
    }
   ],
   "source": [
    "df_intervention['intervention_task_time'] = pd.to_datetime(\n",
    "    df_intervention['intervention_task_time'],\n",
    "    errors='coerce'\n",
    ")\n",
    "df_intervention['date'] = df_intervention['intervention_task_time'].dt.date\n",
    "\n",
    "start_date = df_intervention['date'].min()\n",
    "full_range = pd.date_range(start=start_date, periods=16, freq='D').date\n",
    "\n",
    "full_df = pd.DataFrame({'date': full_range})\n",
    "merged = full_df.merge(\n",
    "    df_intervention[['date', 'intervention_task_name']],\n",
    "    on='date',\n",
    "    how='left'\n",
    ")\n",
    "\n",
    "missing_days = merged[merged['intervention_task_name'].isna()]\n",
    "\n",
    "if missing_days.empty:\n",
    "    print(\"All 16 days have participation confirmations; no missing days found.\")\n",
    "else:\n",
    "    print(\"Missing participation days and their corresponding task names:\")\n",
    "    print(missing_days)"
   ]
  },
  {
   "cell_type": "markdown",
   "id": "da3e431a",
   "metadata": {},
   "source": [
    "#### Summary Statistics"
   ]
  },
  {
   "cell_type": "code",
   "execution_count": 32,
   "id": "0cac7a9e",
   "metadata": {},
   "outputs": [
    {
     "name": "stdout",
     "output_type": "stream",
     "text": [
      "Sleep Data Summary Statistics\n",
      "       current_day_of_study  survey1_question1_response  \\\n",
      "count             15.000000                   15.000000   \n",
      "mean               8.000000                    5.133333   \n",
      "std                4.472136                    1.302013   \n",
      "min                1.000000                    2.000000   \n",
      "25%                4.500000                    5.000000   \n",
      "50%                8.000000                    5.000000   \n",
      "75%               11.500000                    6.000000   \n",
      "max               15.000000                    7.000000   \n",
      "\n",
      "       survey1_question2_response  survey1_question3_response  \\\n",
      "count                   15.000000                   15.000000   \n",
      "mean                     5.133333                    2.333333   \n",
      "std                      1.726543                    1.988060   \n",
      "min                      2.000000                    1.000000   \n",
      "25%                      4.500000                    1.000000   \n",
      "50%                      6.000000                    1.000000   \n",
      "75%                      6.000000                    4.500000   \n",
      "max                      8.000000                    6.000000   \n",
      "\n",
      "       survey1_question4_response  survey2_question1_response  \\\n",
      "count                   15.000000                         0.0   \n",
      "mean                     3.600000                         NaN   \n",
      "std                      1.638815                         NaN   \n",
      "min                      1.000000                         NaN   \n",
      "25%                      2.500000                         NaN   \n",
      "50%                      4.000000                         NaN   \n",
      "75%                      5.000000                         NaN   \n",
      "max                      6.000000                         NaN   \n",
      "\n",
      "       survey2_question2_response  \n",
      "count                         0.0  \n",
      "mean                          NaN  \n",
      "std                           NaN  \n",
      "min                           NaN  \n",
      "25%                           NaN  \n",
      "50%                           NaN  \n",
      "75%                           NaN  \n",
      "max                           NaN  \n"
     ]
    }
   ],
   "source": [
    "print(\"Sleep Data Summary Statistics\")\n",
    "summary_stats = df_mea_o.describe()\n",
    "print(summary_stats)"
   ]
  },
  {
   "cell_type": "code",
   "execution_count": 33,
   "id": "b11b6825",
   "metadata": {},
   "outputs": [
    {
     "name": "stdout",
     "output_type": "stream",
     "text": [
      "<class 'pandas.core.frame.DataFrame'>\n",
      "Index: 15 entries, 29 to 0\n",
      "Data columns (total 11 columns):\n",
      " #   Column                      Non-Null Count  Dtype              \n",
      "---  ------                      --------------  -----              \n",
      " 0   measurement_time            15 non-null     datetime64[ns, UTC]\n",
      " 1   measurement_name            15 non-null     object             \n",
      " 2   participant_id              15 non-null     object             \n",
      " 3   current_day_of_study        15 non-null     int64              \n",
      " 4   current_intervention_name   15 non-null     object             \n",
      " 5   survey1_question1_response  15 non-null     float64            \n",
      " 6   survey1_question2_response  15 non-null     float64            \n",
      " 7   survey1_question3_response  15 non-null     float64            \n",
      " 8   survey1_question4_response  15 non-null     float64            \n",
      " 9   survey2_question1_response  0 non-null      float64            \n",
      " 10  survey2_question2_response  0 non-null      float64            \n",
      "dtypes: datetime64[ns, UTC](1), float64(6), int64(1), object(3)\n",
      "memory usage: 1.4+ KB\n"
     ]
    }
   ],
   "source": [
    "df_mea_o.info()"
   ]
  },
  {
   "cell_type": "markdown",
   "id": "2f0233aa",
   "metadata": {},
   "source": [
    "#### Data Visualization and Distributions"
   ]
  },
  {
   "cell_type": "code",
   "execution_count": 34,
   "id": "dc36b946",
   "metadata": {},
   "outputs": [
    {
     "data": {
      "image/png": "[encoded data removed]",
      "text/plain": [
       "<Figure size 1000x400 with 2 Axes>"
      ]
     },
     "metadata": {},
     "output_type": "display_data"
    },
    {
     "data": {
      "image/png": "[encoded data removed]",
      "text/plain": [
       "<Figure size 1000x400 with 2 Axes>"
      ]
     },
     "metadata": {},
     "output_type": "display_data"
    }
   ],
   "source": [
    "columns = [\n",
    "    'survey1_question1_response',\n",
    "    'survey1_question2_response']\n",
    "for column in columns:\n",
    "    plt.figure(figsize=(10, 4))\n",
    "\n",
    "    plt.subplot(1, 2, 1)\n",
    "    sns.histplot(df_mea_o[column].dropna(), bins=15, kde=True)\n",
    "    plt.title(f\"Distribution of {column}\")\n",
    "    plt.xlabel(column)\n",
    "    plt.ylabel(\"Frequency\")\n",
    "\n",
    "    plt.subplot(1, 2, 2)\n",
    "    sns.boxplot(y=df_mea_o[column].dropna())\n",
    "    plt.title(f\"Box Plot of {column}\")\n",
    "    plt.ylabel(column)\n",
    "\n",
    "    plt.tight_layout()\n",
    "    plt.show()"
   ]
  },
  {
   "cell_type": "markdown",
   "id": "4f06bfc0",
   "metadata": {},
   "source": [
    "#### Line Plot"
   ]
  },
  {
   "cell_type": "code",
   "execution_count": 35,
   "id": "6b14fe72",
   "metadata": {},
   "outputs": [
    {
     "data": {
      "image/png": "[encoded data removed]",
      "text/plain": [
       "<Figure size 1000x600 with 1 Axes>"
      ]
     },
     "metadata": {},
     "output_type": "display_data"
    }
   ],
   "source": [
    "grouped_data = df_mea_o.groupby(\"participant_id\")\n",
    "\n",
    "plt.figure(figsize=(10, 6)) \n",
    "\n",
    "for participant_id, group in grouped_data:\n",
    "    plt.plot(group['current_day_of_study'], group['survey1_question1_response'], label=f'Participant {participant_id}')\n",
    "\n",
    "plt.xlabel('Current Day of Study')\n",
    "plt.ylabel('Day Stress Level')\n",
    "plt.title('Stress Level Over Time for Participant in Outcome Dataset')\n",
    "\n",
    "plt.legend()\n",
    "plt.show()"
   ]
  },
  {
   "cell_type": "markdown",
   "id": "17c853ed",
   "metadata": {},
   "source": [
    "#### Scatterplot"
   ]
  },
  {
   "cell_type": "code",
   "execution_count": 36,
   "id": "388e8a55",
   "metadata": {},
   "outputs": [
    {
     "data": {
      "text/plain": [
       "<matplotlib.legend.Legend at 0x2708cabf950>"
      ]
     },
     "execution_count": 36,
     "metadata": {},
     "output_type": "execute_result"
    },
    {
     "data": {
      "image/png": "[encoded data removed]",
      "text/plain": [
       "<Figure size 1000x500 with 1 Axes>"
      ]
     },
     "metadata": {},
     "output_type": "display_data"
    }
   ],
   "source": [
    "x = 'current_day_of_study'\n",
    "y = 'survey1_question1_response'\n",
    "\n",
    "participant_list= list(df_mea_o.participant_id.unique())\n",
    "fig, axs = plt.subplots(len(participant_list), figsize=(10, 5 * len(participant_list)))\n",
    "\n",
    "if len(participant_list) == 1:\n",
    "    axs = [axs]\n",
    "\n",
    "for i in range(len(participant_list)):\n",
    "    legend = True if i == len(participant_list)-1 else False\n",
    "    sns.scatterplot(\n",
    "        data=df_mea_o[df_mea_o[\"participant_id\"] == participant_list[i]],\n",
    "        x=x, y=y, hue='current_intervention_name',\n",
    "        ax=axs[i], legend=legend\n",
    "    )\n",
    "\n",
    "axs[-1].legend(loc='upper center', bbox_to_anchor=(0.5, -0.5))"
   ]
  },
  {
   "cell_type": "markdown",
   "id": "a68b3f7e",
   "metadata": {},
   "source": [
    "#### Correlations"
   ]
  },
  {
   "cell_type": "code",
   "execution_count": 37,
   "id": "d8ae5bf4",
   "metadata": {},
   "outputs": [
    {
     "data": {
      "image/png": "[encoded data removed]",
      "text/plain": [
       "<Figure size 1500x500 with 6 Axes>"
      ]
     },
     "metadata": {},
     "output_type": "display_data"
    }
   ],
   "source": [
    "columns_to_include = [\n",
    "    'survey1_question1_response',\n",
    "    'survey1_question2_response',\n",
    "    'survey1_question3_response',\n",
    "    'survey1_question4_response']\n",
    "\n",
    "correlation_pearson = df_mea_all[columns_to_include].corr(method='pearson')\n",
    "correlation_kendall = df_mea_all[columns_to_include].corr(method='kendall')\n",
    "correlation_spearman = df_mea_all[columns_to_include].corr(method='spearman')\n",
    "\n",
    "fig, axes = plt.subplots(1, 3, figsize=(15, 5))\n",
    "\n",
    "sns.heatmap(correlation_pearson, vmin=-1, vmax=1, annot=True, cmap='BrBG',ax=axes[0], center=0)\n",
    "axes[0].set_title('Pearson Correlation')\n",
    "\n",
    "sns.heatmap(correlation_kendall, annot=True, cmap='coolwarm', ax=axes[1])\n",
    "axes[1].set_title('Kendall Correlation')\n",
    "\n",
    "sns.heatmap(correlation_spearman, annot=True, cmap='coolwarm', ax=axes[2])\n",
    "axes[2].set_title('Spearman Correlation')\n",
    "\n",
    "plt.tight_layout()\n",
    "plt.show()"
   ]
  },
  {
   "cell_type": "markdown",
   "id": "2de3f1fd",
   "metadata": {},
   "source": [
    "## Baseline Study: Watching Comedy movies or series vs Not watching comedy movies or series"
   ]
  },
  {
   "cell_type": "markdown",
   "id": "a58b50f7",
   "metadata": {},
   "source": [
    "  - Baseline Studies  \n",
    "    - Examination of Outcomes   \n",
    "    - Linear Regression  \n",
    "      - Ordinary Least Squares (OLS) Regression  \n",
    "      - Linear Regression with Autoregressive Errors \n",
    "      - Bayesian linear regression models\n",
    "        - Bayesian AR(1) Model of Daily Stress Response to Intervention and Mediators\n",
    "        - Bayesian AR(1) Regression with Data-Driven Scale (MAD-Based)\n",
    "        - Bayesian AR(1) Regression with Consecutive‐Day Adjustment\n",
    "        - Bayesian AR(1) Model of Daily Stress Response to Intervention and Mediators - Mean Imputation Method\n",
    "        - Bayesian AR(1) Model of Daily Stress Response to Intervention and Mediators - Latent Variable Method"
   ]
  },
  {
   "cell_type": "markdown",
   "id": "bc329919",
   "metadata": {},
   "source": [
    "#### Examination of Outcomes: Today Stress Level"
   ]
  },
  {
   "cell_type": "code",
   "execution_count": 38,
   "id": "4bb845ad",
   "metadata": {},
   "outputs": [
    {
     "name": "stdout",
     "output_type": "stream",
     "text": [
      "Watching comedy:        n = 7, std = 1.35, mean = 5.14\n",
      "Avoid watching comedy:  n = 8, std = 1.36, mean = 5.12\n",
      "\n"
     ]
    }
   ],
   "source": [
    "df_mea_o = df_mea_o[\n",
    "    (df_mea_o['measurement_name'] == 'Outcome') &\n",
    "    df_mea_o['survey1_question1_response'].notna() &\n",
    "    df_mea_o['current_intervention_name'].isin([\n",
    "        \"Watching comedy movies or series!\",\n",
    "        \"Not watching comedy movies or series!\"\n",
    "    ])\n",
    "]\n",
    "\n",
    "watching = df_mea_o.loc[\n",
    "    df_mea_o['current_intervention_name'] == \"Watching comedy movies or series!\",\n",
    "    'survey1_question1_response'\n",
    "]\n",
    "avoid = df_mea_o.loc[\n",
    "    df_mea_o['current_intervention_name'] == \"Not watching comedy movies or series!\",\n",
    "    'survey1_question1_response'\n",
    "]\n",
    "\n",
    "n_watching   = watching.count()\n",
    "n_avoid      = avoid.count()\n",
    "std_watching = watching.std(ddof=1)\n",
    "std_avoid    = avoid.std(ddof=1)\n",
    "\n",
    "print(f\"Watching comedy:        n = {n_watching}, std = {std_watching:.2f}, mean = {watching.mean():.2f}\")\n",
    "print(f\"Avoid watching comedy:  n = {n_avoid}, std = {std_avoid:.2f}, mean = {avoid.mean():.2f}\\n\")\n"
   ]
  },
  {
   "cell_type": "markdown",
   "id": "8d82b1c2",
   "metadata": {},
   "source": [
    "#### Examination of Outcomes: Prediction of Tomorrow Stress"
   ]
  },
  {
   "cell_type": "code",
   "execution_count": 39,
   "id": "f671f92b",
   "metadata": {},
   "outputs": [
    {
     "name": "stdout",
     "output_type": "stream",
     "text": [
      "Watching comedy:        n = 7, std = 1.98, mean = 5.29\n",
      "Avoid watching comedy:  n = 8, std = 1.60, mean = 5.00\n",
      "\n"
     ]
    }
   ],
   "source": [
    "df_mea_o = df_mea_o[\n",
    "    (df_mea_o['measurement_name'] == 'Outcome') &\n",
    "    df_mea_o['survey1_question2_response'].notna() &\n",
    "    df_mea_o['current_intervention_name'].isin([\n",
    "        \"Watching comedy movies or series!\",\n",
    "        \"Not watching comedy movies or series!\"\n",
    "    ])\n",
    "]\n",
    "\n",
    "watching = df_mea_o.loc[\n",
    "    df_mea_o['current_intervention_name'] == \"Watching comedy movies or series!\",\n",
    "    'survey1_question2_response'\n",
    "]\n",
    "avoid = df_mea_o.loc[\n",
    "    df_mea_o['current_intervention_name'] == \"Not watching comedy movies or series!\",\n",
    "    'survey1_question2_response'\n",
    "]\n",
    "\n",
    "n_watching   = watching.count()\n",
    "n_avoid      = avoid.count()\n",
    "std_watching = watching.std(ddof=1)\n",
    "std_avoid    = avoid.std(ddof=1)\n",
    "\n",
    "print(f\"Watching comedy:        n = {n_watching}, std = {std_watching:.2f}, mean = {watching.mean():.2f}\")\n",
    "print(f\"Avoid watching comedy:  n = {n_avoid}, std = {std_avoid:.2f}, mean = {avoid.mean():.2f}\\n\")\n"
   ]
  },
  {
   "cell_type": "markdown",
   "id": "dd2a1c6b",
   "metadata": {},
   "source": [
    "#### Examination of Outcomes: Mean Stress-Relief Score for Watching Comedy (Q3)\n",
    "The average score for Question 3 (survey1_question3_response), which assesses how much watching comedies alleviated participants’ stress on days they performed."
   ]
  },
  {
   "cell_type": "code",
   "execution_count": 40,
   "id": "2f1877e0",
   "metadata": {},
   "outputs": [
    {
     "data": {
      "text/plain": [
       "'How much did this method (watching comedy) help you feel better about yourself? <b>(1 = Not helpful at all to 10 = Very helpful) <i>(Answer ONLY if you have watched a comedy movie or series!)</i></b>'"
      ]
     },
     "execution_count": 40,
     "metadata": {},
     "output_type": "execute_result"
    }
   ],
   "source": [
    "df_mea.survey1_question3_text[0]"
   ]
  },
  {
   "cell_type": "code",
   "execution_count": 41,
   "id": "769f7307",
   "metadata": {},
   "outputs": [
    {
     "data": {
      "text/plain": [
       "3.857142857142857"
      ]
     },
     "execution_count": 41,
     "metadata": {},
     "output_type": "execute_result"
    }
   ],
   "source": [
    "# 'How much did this method (watching comedy) help you feel better about yourself? <b>(1 = Not helpful at all to 10 = Very helpful) <i>(Answer ONLY if you have watched a comedy movie or series!)</i></b>'\n",
    "mean_q3_comedy = df_mea_o.loc[\n",
    "    df_mea_o['current_intervention_name'] == \"Watching comedy movies or series!\",\n",
    "    'survey1_question3_response'\n",
    "].mean()\n",
    "mean_q3_comedy.item()"
   ]
  },
  {
   "cell_type": "markdown",
   "id": "478a4c7d",
   "metadata": {},
   "source": [
    "**Mean Stress-Relief Score for Watching Comedy (Q3): 3.86:**\n",
    "On days when the participant watched comedy movies or series, he rated Question 3—“How much did this method help you feel better about yourself?”—an average of **3.9 out of 10**, indicating it provided only a minimal improvement in how much he felt better."
   ]
  },
  {
   "cell_type": "markdown",
   "id": "8de318c5",
   "metadata": {},
   "source": [
    "#### Examination of Outcomes: Mean Stress-Management Difficulty Without Watching Comedy (Q4)\n",
    "The average score for Question 4 (survey1_question4_response), which measures participants’ difficulty in managing stress on days they did not watch comedies."
   ]
  },
  {
   "cell_type": "code",
   "execution_count": 42,
   "id": "3399346a",
   "metadata": {},
   "outputs": [
    {
     "data": {
      "text/plain": [
       "'When you are not practicing the method (not watching comedy) today, do you feel a lack or difficulty managing your stress? <b>(1 = No difficulty to 10 = Significant difficulty) <i>(Answer ONLY if you have NOT watched a comedy movie or series!)</i></b>\\n'"
      ]
     },
     "execution_count": 42,
     "metadata": {},
     "output_type": "execute_result"
    }
   ],
   "source": [
    "df_mea.survey1_question4_text[0]"
   ]
  },
  {
   "cell_type": "code",
   "execution_count": 43,
   "id": "dd079755",
   "metadata": {},
   "outputs": [
    {
     "data": {
      "text/plain": [
       "4.25"
      ]
     },
     "execution_count": 43,
     "metadata": {},
     "output_type": "execute_result"
    }
   ],
   "source": [
    "# 'When you are not practicing the method (not watching comedy) today, do you feel a lack or difficulty managing your stress? <b>(1 = No difficulty to 10 = Significant difficulty) <i>(Answer ONLY if you have NOT watched a comedy movie or series!)</i></b>\\n'\n",
    "mean_q4_no_comedy = df_mea_o.loc[\n",
    "    df_mea_o['current_intervention_name'] == \"Not watching comedy movies or series!\",\n",
    "    'survey1_question4_response'\n",
    "].mean()\n",
    "mean_q4_no_comedy.item()"
   ]
  },
  {
   "cell_type": "markdown",
   "id": "b2b6ed14",
   "metadata": {},
   "source": [
    "**Mean Stress-Management Difficulty Score Without Watching Comedy (Q4): 4.25:**\n",
    "On days when the participant did not watch comedy movies or series, he rated Question 4—“When you are not practicing the method (not watching comedy) today, do you feel a lack or difficulty managing your stress?”—an average of **4.25 out of 10**, indicating that going without comedy posed only a slight challenge to his stress management."
   ]
  },
  {
   "cell_type": "markdown",
   "id": "4da54a73",
   "metadata": {},
   "source": [
    "### Estimating treatment effect using Linear Regression with Autoregressive errors"
   ]
  },
  {
   "cell_type": "code",
   "execution_count": 44,
   "id": "1228e91c",
   "metadata": {},
   "outputs": [
    {
     "name": "stdout",
     "output_type": "stream",
     "text": [
      "OLS Regression Results:\n",
      "                                OLS Regression Results                                \n",
      "======================================================================================\n",
      "Dep. Variable:     survey1_question1_response   R-squared:                       0.000\n",
      "Model:                                    OLS   Adj. R-squared:                 -0.077\n",
      "Method:                         Least Squares   F-statistic:                 0.0006521\n",
      "Date:                        Thu, 14 Aug 2025   Prob (F-statistic):              0.980\n",
      "Time:                                05:04:59   Log-Likelihood:                -24.725\n",
      "No. Observations:                          15   AIC:                             53.45\n",
      "Df Residuals:                              13   BIC:                             54.87\n",
      "Df Model:                                   1                                         \n",
      "Covariance Type:                    nonrobust                                         \n",
      "==============================================================================\n",
      "                 coef    std err          t      P>|t|      [0.025      0.975]\n",
      "------------------------------------------------------------------------------\n",
      "const          5.1250      0.478     10.729      0.000       4.093       6.157\n",
      "D              0.0179      0.699      0.026      0.980      -1.493       1.529\n",
      "==============================================================================\n",
      "Omnibus:                        5.517   Durbin-Watson:                   1.899\n",
      "Prob(Omnibus):                  0.063   Jarque-Bera (JB):                2.979\n",
      "Skew:                          -1.056   Prob(JB):                        0.225\n",
      "Kurtosis:                       3.555   Cond. No.                         2.55\n",
      "==============================================================================\n",
      "\n",
      "Notes:\n",
      "[1] Standard Errors assume that the covariance matrix of the errors is correctly specified.\n",
      "Durbin–Watson statistic (OLS residuals): 1.899\n",
      "\n"
     ]
    },
    {
     "name": "stderr",
     "output_type": "stream",
     "text": [
      "c:\\Users\\USER\\AppData\\Local\\r-miniconda\\Lib\\site-packages\\scipy\\stats\\_axis_nan_policy.py:430: UserWarning: `kurtosistest` p-value may be inaccurate with fewer than 20 observations; only n=15 observations were given.\n",
      "  return hypotest_fun_in(*args, **kwds)\n"
     ]
    }
   ],
   "source": [
    "df_mea_o = df_mea_o[\n",
    "    (df_mea_o['measurement_name'] == 'Outcome') &\n",
    "    df_mea_o['survey1_question1_response'].notna() &\n",
    "    df_mea_o['current_intervention_name'].isin([\"Watching comedy movies or series!\", \"Not watching comedy movies or series!\"])\n",
    "]\n",
    "\n",
    "df_mea_o = df_mea_o.sort_values('measurement_time')\n",
    "\n",
    "y = df_mea_o['survey1_question1_response']\n",
    "df_mea_o['D'] = (df_mea_o['current_intervention_name'] == \"Watching comedy movies or series!\").astype(int)\n",
    "X = sm.add_constant(df_mea_o['D'])\n",
    "\n",
    "ols_res = sm.OLS(y, X).fit()\n",
    "dw_ols = durbin_watson(ols_res.resid)\n",
    "\n",
    "print(\"OLS Regression Results:\")\n",
    "print(ols_res.summary())\n",
    "print(f\"Durbin–Watson statistic (OLS residuals): {dw_ols:.3f}\\n\")"
   ]
  },
  {
   "cell_type": "code",
   "execution_count": 45,
   "id": "57fe6caa",
   "metadata": {},
   "outputs": [
    {
     "name": "stdout",
     "output_type": "stream",
     "text": [
      "GLSAR Regression Results (AR(1) error structure):\n",
      "                               GLSAR Regression Results                               \n",
      "======================================================================================\n",
      "Dep. Variable:     survey1_question1_response   R-squared:                       0.013\n",
      "Model:                                  GLSAR   Adj. R-squared:                 -0.069\n",
      "Method:                         Least Squares   F-statistic:                    0.1592\n",
      "Date:                        Thu, 14 Aug 2025   Prob (F-statistic):              0.697\n",
      "Time:                                05:04:59   Log-Likelihood:                -22.258\n",
      "No. Observations:                          14   AIC:                             48.52\n",
      "Df Residuals:                              12   BIC:                             49.79\n",
      "Df Model:                                   1                                         \n",
      "Covariance Type:                    nonrobust                                         \n",
      "==============================================================================\n",
      "                 coef    std err          t      P>|t|      [0.025      0.975]\n",
      "------------------------------------------------------------------------------\n",
      "const          5.1211      0.444     11.523      0.000       4.153       6.089\n",
      "D             -0.2719      0.681     -0.399      0.697      -1.756       1.213\n",
      "==============================================================================\n",
      "Omnibus:                        8.218   Durbin-Watson:                   2.147\n",
      "Prob(Omnibus):                  0.016   Jarque-Bera (JB):                4.637\n",
      "Skew:                          -1.317   Prob(JB):                       0.0984\n",
      "Kurtosis:                       4.007   Cond. No.                         2.50\n",
      "==============================================================================\n",
      "\n",
      "Notes:\n",
      "[1] Standard Errors assume that the covariance matrix of the errors is correctly specified.\n",
      "Estimated AR(1) coefficient (rho): -0.022\n",
      "Durbin–Watson statistic (GLSAR residuals): 1.811\n"
     ]
    },
    {
     "name": "stderr",
     "output_type": "stream",
     "text": [
      "c:\\Users\\USER\\AppData\\Local\\r-miniconda\\Lib\\site-packages\\scipy\\stats\\_axis_nan_policy.py:430: UserWarning: `kurtosistest` p-value may be inaccurate with fewer than 20 observations; only n=14 observations were given.\n",
      "  return hypotest_fun_in(*args, **kwds)\n"
     ]
    }
   ],
   "source": [
    "# GLSAR Regression with AR(1) errors (Feasible GLS) \n",
    "glsar = sm.GLSAR(y, X, rho=1)\n",
    "glsar_res = glsar.iterative_fit(maxiter=10)\n",
    "dw_glsar = durbin_watson(glsar_res.resid)\n",
    "\n",
    "print(\"GLSAR Regression Results (AR(1) error structure):\")\n",
    "print(glsar_res.summary())\n",
    "print(f\"Estimated AR(1) coefficient (rho): {glsar.rho[0]:.3f}\")\n",
    "print(f\"Durbin–Watson statistic (GLSAR residuals): {dw_glsar:.3f}\")"
   ]
  },
  {
   "cell_type": "markdown",
   "id": "4081dbe5",
   "metadata": {},
   "source": [
    "#### Bayesian AR(1) Model of Daily Stress Response to Intervention and Mediators"
   ]
  },
  {
   "cell_type": "code",
   "execution_count": 46,
   "id": "a467c5db",
   "metadata": {},
   "outputs": [
    {
     "name": "stdout",
     "output_type": "stream",
     "text": [
      "Model result with neither fac1 nor fac2 (intervention only):\n"
     ]
    },
    {
     "name": "stderr",
     "output_type": "stream",
     "text": [
      "Initializing NUTS using jitter+adapt_diag...\n",
      "c:\\Users\\USER\\AppData\\Local\\r-miniconda\\Lib\\site-packages\\pytensor\\tensor\\rewriting\\elemwise.py:954: UserWarning: Loop fusion failed because the resulting node would exceed the kernel argument limit.\n",
      "  warn(\n",
      "Multiprocess sampling (2 chains in 2 jobs)\n",
      "NUTS: [beta0, beta_int, rho, sigma]\n"
     ]
    },
    {
     "data": {
      "text/html": [
       "<pre style=\"white-space:pre;overflow-x:auto;line-height:normal;font-family:Menlo,'DejaVu Sans Mono',consolas,'Courier New',monospace\">c:\\Users\\USER\\AppData\\Local\\r-miniconda\\Lib\\site-packages\\rich\\live.py:231: UserWarning: install \"ipywidgets\" for \n",
       "Jupyter support\n",
       "  warnings.warn('install \"ipywidgets\" for Jupyter support')\n",
       "</pre>\n"
      ],
      "text/plain": [
       "c:\\Users\\USER\\AppData\\Local\\r-miniconda\\Lib\\site-packages\\rich\\live.py:231: UserWarning: install \"ipywidgets\" for \n",
       "Jupyter support\n",
       "  warnings.warn('install \"ipywidgets\" for Jupyter support')\n"
      ]
     },
     "metadata": {},
     "output_type": "display_data"
    },
    {
     "data": {
      "text/html": [
       "<pre style=\"white-space:pre;overflow-x:auto;line-height:normal;font-family:Menlo,'DejaVu Sans Mono',consolas,'Courier New',monospace\"></pre>\n"
      ],
      "text/plain": []
     },
     "metadata": {},
     "output_type": "display_data"
    },
    {
     "name": "stderr",
     "output_type": "stream",
     "text": [
      "Sampling 2 chains for 500 tune and 500 draw iterations (1_000 + 1_000 draws total) took 87 seconds.\n",
      "We recommend running at least 4 chains for robust computation of convergence diagnostics\n"
     ]
    },
    {
     "name": "stdout",
     "output_type": "stream",
     "text": [
      "           mean     sd  hdi_2.5%  hdi_97.5%  mcse_mean  mcse_sd  ess_bulk  \\\n",
      "beta_int -0.011  0.630    -1.167      1.280      0.026    0.020     574.0   \n",
      "rho       0.065  0.305    -0.523      0.665      0.012    0.010     638.0   \n",
      "sigma     1.399  0.256     0.951      1.915      0.011    0.009     508.0   \n",
      "\n",
      "          ess_tail  r_hat  \n",
      "beta_int     590.0    1.0  \n",
      "rho          453.0    1.0  \n",
      "sigma        650.0    1.0  \n",
      "P(beta_int ≤ –0.5) = 21.70%\n",
      "P(–0.5 < beta_int < 0) = 28.40%\n",
      "P(beta_int ≥ 0) = 49.90%\n",
      "P(Stress reduction of watching comedy movies or series ≥ 0.5) = 21.70%\n",
      "\n",
      "Model result with only fac1:\n"
     ]
    },
    {
     "name": "stderr",
     "output_type": "stream",
     "text": [
      "Initializing NUTS using jitter+adapt_diag...\n",
      "c:\\Users\\USER\\AppData\\Local\\r-miniconda\\Lib\\site-packages\\pytensor\\tensor\\rewriting\\elemwise.py:954: UserWarning: Loop fusion failed because the resulting node would exceed the kernel argument limit.\n",
      "  warn(\n",
      "Multiprocess sampling (2 chains in 2 jobs)\n",
      "NUTS: [beta0, beta_int, beta_f1, rho, sigma]\n"
     ]
    },
    {
     "data": {
      "text/html": [
       "<pre style=\"white-space:pre;overflow-x:auto;line-height:normal;font-family:Menlo,'DejaVu Sans Mono',consolas,'Courier New',monospace\">c:\\Users\\USER\\AppData\\Local\\r-miniconda\\Lib\\site-packages\\rich\\live.py:231: UserWarning: install \"ipywidgets\" for \n",
       "Jupyter support\n",
       "  warnings.warn('install \"ipywidgets\" for Jupyter support')\n",
       "</pre>\n"
      ],
      "text/plain": [
       "c:\\Users\\USER\\AppData\\Local\\r-miniconda\\Lib\\site-packages\\rich\\live.py:231: UserWarning: install \"ipywidgets\" for \n",
       "Jupyter support\n",
       "  warnings.warn('install \"ipywidgets\" for Jupyter support')\n"
      ]
     },
     "metadata": {},
     "output_type": "display_data"
    },
    {
     "data": {
      "text/html": [
       "<pre style=\"white-space:pre;overflow-x:auto;line-height:normal;font-family:Menlo,'DejaVu Sans Mono',consolas,'Courier New',monospace\"></pre>\n"
      ],
      "text/plain": []
     },
     "metadata": {},
     "output_type": "display_data"
    },
    {
     "name": "stderr",
     "output_type": "stream",
     "text": [
      "Sampling 2 chains for 500 tune and 500 draw iterations (1_000 + 1_000 draws total) took 375 seconds.\n",
      "We recommend running at least 4 chains for robust computation of convergence diagnostics\n"
     ]
    },
    {
     "name": "stdout",
     "output_type": "stream",
     "text": [
      "           mean     sd  hdi_2.5%  hdi_97.5%  mcse_mean  mcse_sd  ess_bulk  \\\n",
      "beta_int -0.346  0.351    -1.042      0.328      0.014    0.015     639.0   \n",
      "beta_f1   0.791  0.143     0.477      1.056      0.007    0.006     450.0   \n",
      "rho      -0.126  0.325    -0.800      0.542      0.017    0.019     360.0   \n",
      "sigma     0.764  0.176     0.487      1.129      0.010    0.007     368.0   \n",
      "\n",
      "          ess_tail  r_hat  \n",
      "beta_int     475.0   1.00  \n",
      "beta_f1      372.0   1.00  \n",
      "rho          250.0   1.01  \n",
      "sigma        512.0   1.01  \n",
      "P(beta_int ≤ –0.5) = 31.60%\n",
      "P(–0.5 < beta_int < 0) = 52.60%\n",
      "P(beta_int ≥ 0) = 15.80%\n",
      "P(Stress reduction of watching comedy movies or series ≥ 0.5) = 31.60%\n",
      "\n",
      "Model result with only fac2:\n"
     ]
    },
    {
     "name": "stderr",
     "output_type": "stream",
     "text": [
      "Initializing NUTS using jitter+adapt_diag...\n",
      "c:\\Users\\USER\\AppData\\Local\\r-miniconda\\Lib\\site-packages\\pytensor\\tensor\\rewriting\\elemwise.py:954: UserWarning: Loop fusion failed because the resulting node would exceed the kernel argument limit.\n",
      "  warn(\n",
      "Multiprocess sampling (2 chains in 2 jobs)\n",
      "NUTS: [beta0, beta_int, beta_f2, rho, sigma]\n"
     ]
    },
    {
     "data": {
      "text/html": [
       "<pre style=\"white-space:pre;overflow-x:auto;line-height:normal;font-family:Menlo,'DejaVu Sans Mono',consolas,'Courier New',monospace\">c:\\Users\\USER\\AppData\\Local\\r-miniconda\\Lib\\site-packages\\rich\\live.py:231: UserWarning: install \"ipywidgets\" for \n",
       "Jupyter support\n",
       "  warnings.warn('install \"ipywidgets\" for Jupyter support')\n",
       "</pre>\n"
      ],
      "text/plain": [
       "c:\\Users\\USER\\AppData\\Local\\r-miniconda\\Lib\\site-packages\\rich\\live.py:231: UserWarning: install \"ipywidgets\" for \n",
       "Jupyter support\n",
       "  warnings.warn('install \"ipywidgets\" for Jupyter support')\n"
      ]
     },
     "metadata": {},
     "output_type": "display_data"
    },
    {
     "data": {
      "text/html": [
       "<pre style=\"white-space:pre;overflow-x:auto;line-height:normal;font-family:Menlo,'DejaVu Sans Mono',consolas,'Courier New',monospace\"></pre>\n"
      ],
      "text/plain": []
     },
     "metadata": {},
     "output_type": "display_data"
    },
    {
     "name": "stderr",
     "output_type": "stream",
     "text": [
      "Sampling 2 chains for 500 tune and 500 draw iterations (1_000 + 1_000 draws total) took 324 seconds.\n",
      "We recommend running at least 4 chains for robust computation of convergence diagnostics\n"
     ]
    },
    {
     "name": "stdout",
     "output_type": "stream",
     "text": [
      "           mean     sd  hdi_2.5%  hdi_97.5%  mcse_mean  mcse_sd  ess_bulk  \\\n",
      "beta_int  0.026  0.650    -1.308      1.246      0.026    0.023     632.0   \n",
      "beta_f2   0.322  0.272    -0.227      0.830      0.014    0.008     378.0   \n",
      "rho       0.226  0.348    -0.368      0.956      0.019    0.013     332.0   \n",
      "sigma     1.408  0.276     0.888      1.954      0.013    0.012     514.0   \n",
      "\n",
      "          ess_tail  r_hat  \n",
      "beta_int     599.0   1.01  \n",
      "beta_f2      442.0   1.00  \n",
      "rho          230.0   1.01  \n",
      "sigma        502.0   1.00  \n",
      "P(beta_int ≤ –0.5) = 20.10%\n",
      "P(–0.5 < beta_int < 0) = 26.80%\n",
      "P(beta_int ≥ 0) = 53.10%\n",
      "P(Stress reduction of watching comedy movies or series ≥ 0.5) = 20.10%\n",
      "\n",
      "Model result with both fac1 and fac2:\n"
     ]
    },
    {
     "name": "stderr",
     "output_type": "stream",
     "text": [
      "Initializing NUTS using jitter+adapt_diag...\n",
      "c:\\Users\\USER\\AppData\\Local\\r-miniconda\\Lib\\site-packages\\pytensor\\tensor\\rewriting\\elemwise.py:954: UserWarning: Loop fusion failed because the resulting node would exceed the kernel argument limit.\n",
      "  warn(\n",
      "Multiprocess sampling (2 chains in 2 jobs)\n",
      "NUTS: [beta0, beta_int, beta_f1, beta_f2, rho, sigma]\n"
     ]
    },
    {
     "data": {
      "text/html": [
       "<pre style=\"white-space:pre;overflow-x:auto;line-height:normal;font-family:Menlo,'DejaVu Sans Mono',consolas,'Courier New',monospace\">c:\\Users\\USER\\AppData\\Local\\r-miniconda\\Lib\\site-packages\\rich\\live.py:231: UserWarning: install \"ipywidgets\" for \n",
       "Jupyter support\n",
       "  warnings.warn('install \"ipywidgets\" for Jupyter support')\n",
       "</pre>\n"
      ],
      "text/plain": [
       "c:\\Users\\USER\\AppData\\Local\\r-miniconda\\Lib\\site-packages\\rich\\live.py:231: UserWarning: install \"ipywidgets\" for \n",
       "Jupyter support\n",
       "  warnings.warn('install \"ipywidgets\" for Jupyter support')\n"
      ]
     },
     "metadata": {},
     "output_type": "display_data"
    },
    {
     "data": {
      "text/html": [
       "<pre style=\"white-space:pre;overflow-x:auto;line-height:normal;font-family:Menlo,'DejaVu Sans Mono',consolas,'Courier New',monospace\"></pre>\n"
      ],
      "text/plain": []
     },
     "metadata": {},
     "output_type": "display_data"
    },
    {
     "name": "stderr",
     "output_type": "stream",
     "text": [
      "Sampling 2 chains for 500 tune and 500 draw iterations (1_000 + 1_000 draws total) took 558 seconds.\n",
      "There were 2 divergences after tuning. Increase `target_accept` or reparameterize.\n",
      "We recommend running at least 4 chains for robust computation of convergence diagnostics\n"
     ]
    },
    {
     "name": "stdout",
     "output_type": "stream",
     "text": [
      "           mean     sd  hdi_2.5%  hdi_97.5%  mcse_mean  mcse_sd  ess_bulk  \\\n",
      "beta_int -0.205  0.365    -1.000      0.415      0.015    0.013     656.0   \n",
      "beta_f1   0.785  0.133     0.506      1.032      0.006    0.005     569.0   \n",
      "beta_f2   0.184  0.156    -0.113      0.490      0.007    0.006     506.0   \n",
      "rho      -0.182  0.312    -0.825      0.408      0.017    0.013     350.0   \n",
      "sigma     0.741  0.164     0.462      1.054      0.008    0.007     481.0   \n",
      "\n",
      "          ess_tail  r_hat  \n",
      "beta_int     570.0    1.0  \n",
      "beta_f1      330.0    1.0  \n",
      "beta_f2      453.0    1.0  \n",
      "rho          154.0    1.0  \n",
      "sigma        582.0    1.0  \n",
      "P(beta_int ≤ –0.5) = 19.40%\n",
      "P(–0.5 < beta_int < 0) = 52.30%\n",
      "P(beta_int ≥ 0) = 28.30%\n",
      "P(Stress reduction of watching comedy movies or series ≥ 0.5) = 19.40%\n",
      "\n"
     ]
    }
   ],
   "source": [
    "def run_model(fac_cols, beta_names):\n",
    "    out = df_mea[df_mea['measurement_name'] == 'Outcome']\n",
    "    med = df_mea[df_mea['measurement_name'] == 'Mediators']\n",
    "    data = (\n",
    "        pd.merge(\n",
    "            out[['current_day_of_study', 'survey1_question1_response', 'current_intervention_name']],\n",
    "            med[['current_day_of_study'] + fac_cols] if fac_cols else out[['current_day_of_study']],\n",
    "            on='current_day_of_study',\n",
    "            how='inner'\n",
    "        ).dropna().sort_values('current_day_of_study').reset_index(drop=True)\n",
    "    )\n",
    "    y = data['survey1_question1_response'].values\n",
    "    interv = (data['current_intervention_name'] == \"Watching comedy movies or series!\").astype(int).values\n",
    "    n = len(data)\n",
    "    fac_arrays = [data[col].values for col in fac_cols] if fac_cols else []\n",
    "\n",
    "    with pm.Model() as model:\n",
    "        beta0 = pm.Normal('beta0', mu=0, sigma=10)\n",
    "        beta_int = pm.Normal('beta_int', mu=0, sigma=1)\n",
    "        betas = [pm.Normal(beta_name, mu=0, sigma=1) for beta_name in beta_names]\n",
    "        rho = pm.Uniform('rho', lower=-1, upper=1)\n",
    "        sigma = pm.HalfNormal('sigma', sigma=1)\n",
    "        mu = beta0 + beta_int * interv\n",
    "        for beta, fac in zip(betas, fac_arrays):\n",
    "            mu += beta * fac\n",
    "        pm.Normal('y_0', mu=mu[0], sigma=sigma, observed=y[0])\n",
    "        for t in range(1, n):\n",
    "            adjustment = rho * (y[t-1] - mu[t-1])\n",
    "            pm.Normal(f'y_{t}', mu=mu[t] + adjustment, sigma=sigma, observed=y[t])\n",
    "        trace = pm.sample(draws=500, tune=500, chains=2, target_accept=0.9, return_inferencedata=True)\n",
    "    summary = az.summary(trace, var_names=['beta_int'] + beta_names + ['rho', 'sigma'], hdi_prob=0.95)\n",
    "    print(summary)\n",
    "    beta_samples = trace.posterior['beta_int'].values.flatten()\n",
    "    p_le_neg05 = (beta_samples <= -0.5).mean()\n",
    "    p_between  = ((beta_samples > -0.5) & (beta_samples < 0)).mean()\n",
    "    p_ge0      = (beta_samples >= 0).mean()\n",
    "    print(f\"P(beta_int ≤ –0.5) = {p_le_neg05:.2%}\")\n",
    "    print(f\"P(–0.5 < beta_int < 0) = {p_between:.2%}\")\n",
    "    print(f\"P(beta_int ≥ 0) = {p_ge0:.2%}\")\n",
    "    prob = (trace.posterior['beta_int'] < -0.5).mean().item()\n",
    "    print(f\"P(Stress reduction of watching comedy movies or series ≥ 0.5) = {prob:.2%}\\n\")\n",
    "\n",
    "print(\"Model result with neither fac1 nor fac2 (intervention only):\")\n",
    "run_model([], [])\n",
    "\n",
    "print(\"Model result with only fac1:\")\n",
    "run_model(['survey2_question1_response'], ['beta_f1'])\n",
    "\n",
    "print(\"Model result with only fac2:\")\n",
    "run_model(['survey2_question2_response'], ['beta_f2'])\n",
    "\n",
    "print(\"Model result with both fac1 and fac2:\")\n",
    "run_model(['survey2_question1_response', 'survey2_question2_response'], ['beta_f1', 'beta_f2'])"
   ]
  },
  {
   "cell_type": "markdown",
   "id": "b751cc03",
   "metadata": {},
   "source": [
    "#### Bayesian AR(1) Regression with Data-Driven Scale (MAD-Based)"
   ]
  },
  {
   "cell_type": "code",
   "execution_count": 47,
   "id": "9698eb51",
   "metadata": {},
   "outputs": [
    {
     "name": "stderr",
     "output_type": "stream",
     "text": [
      "Initializing NUTS using jitter+adapt_diag...\n",
      "c:\\Users\\USER\\AppData\\Local\\r-miniconda\\Lib\\site-packages\\pytensor\\tensor\\rewriting\\elemwise.py:954: UserWarning: Loop fusion failed because the resulting node would exceed the kernel argument limit.\n",
      "  warn(\n",
      "Multiprocess sampling (2 chains in 2 jobs)\n",
      "NUTS: [beta0, beta_int, rho, sigma]\n"
     ]
    },
    {
     "data": {
      "text/html": [
       "<pre style=\"white-space:pre;overflow-x:auto;line-height:normal;font-family:Menlo,'DejaVu Sans Mono',consolas,'Courier New',monospace\">c:\\Users\\USER\\AppData\\Local\\r-miniconda\\Lib\\site-packages\\rich\\live.py:231: UserWarning: install \"ipywidgets\" for \n",
       "Jupyter support\n",
       "  warnings.warn('install \"ipywidgets\" for Jupyter support')\n",
       "</pre>\n"
      ],
      "text/plain": [
       "c:\\Users\\USER\\AppData\\Local\\r-miniconda\\Lib\\site-packages\\rich\\live.py:231: UserWarning: install \"ipywidgets\" for \n",
       "Jupyter support\n",
       "  warnings.warn('install \"ipywidgets\" for Jupyter support')\n"
      ]
     },
     "metadata": {},
     "output_type": "display_data"
    },
    {
     "data": {
      "text/html": [
       "<pre style=\"white-space:pre;overflow-x:auto;line-height:normal;font-family:Menlo,'DejaVu Sans Mono',consolas,'Courier New',monospace\"></pre>\n"
      ],
      "text/plain": []
     },
     "metadata": {},
     "output_type": "display_data"
    },
    {
     "name": "stderr",
     "output_type": "stream",
     "text": [
      "Sampling 2 chains for 500 tune and 500 draw iterations (1_000 + 1_000 draws total) took 112 seconds.\n",
      "We recommend running at least 4 chains for robust computation of convergence diagnostics\n",
      "The rhat statistic is larger than 1.01 for some parameters. This indicates problems during sampling. See https://arxiv.org/abs/1903.08008 for details\n"
     ]
    },
    {
     "name": "stdout",
     "output_type": "stream",
     "text": [
      "           mean     sd  hdi_2.5%  hdi_97.5%  mcse_mean  mcse_sd  ess_bulk  \\\n",
      "beta_int  0.112  0.787    -1.494      1.570      0.035    0.028     520.0   \n",
      "rho       0.129  0.328    -0.483      0.850      0.016    0.013     420.0   \n",
      "sigma     1.521  0.369     0.955      2.281      0.021    0.018     327.0   \n",
      "\n",
      "          ess_tail  r_hat  \n",
      "beta_int     541.0   1.00  \n",
      "rho          349.0   1.00  \n",
      "sigma        505.0   1.01  \n",
      "P(beta_int ≤ –0.5) = 21.50%\n",
      "P(–0.5 < beta_int < 0) = 23.60%\n",
      "P(beta_int ≥ 0) = 54.90%\n"
     ]
    },
    {
     "data": {
      "image/png": "[encoded data removed]",
      "text/plain": [
       "<Figure size 1000x400 with 2 Axes>"
      ]
     },
     "metadata": {},
     "output_type": "display_data"
    }
   ],
   "source": [
    "outcome_data = df_mea[df_mea['measurement_name'] == 'Outcome']\n",
    "data = (\n",
    "    outcome_data[['current_day_of_study', 'survey1_question1_response', 'current_intervention_name']]\n",
    "    .dropna()\n",
    "    .sort_values('current_day_of_study')\n",
    "    .reset_index(drop=True)\n",
    ")\n",
    "\n",
    "y      = data['survey1_question1_response'].values\n",
    "interv = (data['current_intervention_name'] == \"Watching comedy movies or series!\").astype(int).values\n",
    "n      = len(data)\n",
    "\n",
    "mad = np.median(np.abs(y - np.median(y)))\n",
    "scale = max(mad, 2.0)\n",
    "\n",
    "with pm.Model() as model:\n",
    "    beta0    = pm.StudentT('beta0',    nu=3, mu=0, sigma=scale)   \n",
    "    beta_int = pm.StudentT('beta_int', nu=3, mu=0, sigma=scale)   \n",
    "    rho      = pm.Uniform('rho',       lower=-1, upper=1)         \n",
    "    sigma    = pm.HalfStudentT('sigma', nu=3, sigma=scale)        \n",
    "\n",
    "    mu = beta0 + beta_int * interv\n",
    "    pm.Normal('y_0', mu=mu[0], sigma=sigma, observed=y[0])\n",
    "\n",
    "    for t in range(1, n):\n",
    "        adjustment = rho * (y[t-1] - mu[t-1])\n",
    "        pm.Normal(f'y_{t}', mu=mu[t] + adjustment, sigma=sigma, observed=y[t])\n",
    "\n",
    "    trace = pm.sample(\n",
    "        draws=500,\n",
    "        tune=500,\n",
    "        chains=2,\n",
    "        target_accept=0.9,\n",
    "        return_inferencedata=True\n",
    "    )\n",
    "\n",
    "summary = az.summary(trace, var_names=['beta_int', 'rho', 'sigma'], hdi_prob=0.95)\n",
    "print(summary)\n",
    "\n",
    "beta_samples = trace.posterior['beta_int'].values.flatten()\n",
    "\n",
    "p_le_neg05 = (beta_samples <= -0.5).mean()\n",
    "p_between  = ((beta_samples > -0.5) & (beta_samples < 0)).mean()\n",
    "p_ge0      = (beta_samples >= 0).mean()\n",
    "\n",
    "print(f\"P(beta_int ≤ –0.5) = {p_le_neg05:.2%}\")\n",
    "print(f\"P(–0.5 < beta_int < 0) = {p_between:.2%}\")\n",
    "print(f\"P(beta_int ≥ 0) = {p_ge0:.2%}\")\n",
    "\n",
    "mean_beta = summary.loc['beta_int', 'mean']\n",
    "hdi_low   = summary.loc['beta_int', 'hdi_2.5%']\n",
    "hdi_high  = summary.loc['beta_int', 'hdi_97.5%']\n",
    "\n",
    "fig, axes = plt.subplots(1, 2, figsize=(10, 4), gridspec_kw={'width_ratios': [1, 1]})\n",
    "\n",
    "ax = axes[0]\n",
    "ax.errorbar(0, mean_beta,\n",
    "            yerr=[[mean_beta - hdi_low], [hdi_high - mean_beta]],\n",
    "            fmt='o', capsize=5, color='black')\n",
    "ax.axhline(0, color='gray', linestyle='--')\n",
    "ax.set_xticks([0])\n",
    "ax.set_xticklabels(['Watching comedy movies or series effect'])\n",
    "ax.set_ylabel('Stress reduction (points)')\n",
    "ax.set_title('A. Posterior mean ± 95% CI', loc='left', pad=10, fontsize=12, fontweight='bold')\n",
    "\n",
    "ax = axes[1]\n",
    "ax.bar(0, p_le_neg05, width=0.6, color='darkgreen',  label='Effect ≤ –0.5')\n",
    "ax.bar(0, p_between,  width=0.6, bottom=p_le_neg05, color='lightgreen', label='–0.5 < Effect < 0')\n",
    "ax.bar(0, p_ge0,      width=0.6, bottom=p_le_neg05+p_between, color='gold', label='Effect ≥ 0')\n",
    "ax.axhline(0.7, color='gray', linestyle='--', label='Responder threshold (0.7)')\n",
    "ax.set_xticks([0])\n",
    "ax.set_xticklabels(['Posterior mass'])\n",
    "ax.set_ylim(0, 1)\n",
    "ax.set_ylabel('Probability')\n",
    "ax.set_title('B. Distribution of effect size', loc='left', pad=10, fontsize=12, fontweight='bold')\n",
    "ax.legend(loc='upper right', fontsize=8)\n",
    "\n",
    "plt.tight_layout()\n",
    "plt.show()"
   ]
  },
  {
   "cell_type": "markdown",
   "id": "8a743c51",
   "metadata": {},
   "source": [
    "#### Bayesian AR(1) Regression with Consecutive‐Day Adjustment"
   ]
  },
  {
   "cell_type": "code",
   "execution_count": 48,
   "id": "f07a05e3",
   "metadata": {},
   "outputs": [
    {
     "name": "stdout",
     "output_type": "stream",
     "text": [
      "Only intervention:\n"
     ]
    },
    {
     "name": "stderr",
     "output_type": "stream",
     "text": [
      "c:\\Users\\USER\\AppData\\Local\\r-miniconda\\Lib\\site-packages\\pymc\\model\\core.py:1300: ImputationWarning: Data in y_obs contains missing values and will be automatically imputed from the sampling distribution.\n",
      "  warnings.warn(impute_message, ImputationWarning)\n",
      "Initializing NUTS using jitter+adapt_diag...\n",
      "Multiprocess sampling (2 chains in 2 jobs)\n",
      "NUTS: [beta0, beta_int, rho, sigma, y_obs_unobserved]\n"
     ]
    },
    {
     "data": {
      "text/html": [
       "<pre style=\"white-space:pre;overflow-x:auto;line-height:normal;font-family:Menlo,'DejaVu Sans Mono',consolas,'Courier New',monospace\">c:\\Users\\USER\\AppData\\Local\\r-miniconda\\Lib\\site-packages\\rich\\live.py:231: UserWarning: install \"ipywidgets\" for \n",
       "Jupyter support\n",
       "  warnings.warn('install \"ipywidgets\" for Jupyter support')\n",
       "</pre>\n"
      ],
      "text/plain": [
       "c:\\Users\\USER\\AppData\\Local\\r-miniconda\\Lib\\site-packages\\rich\\live.py:231: UserWarning: install \"ipywidgets\" for \n",
       "Jupyter support\n",
       "  warnings.warn('install \"ipywidgets\" for Jupyter support')\n"
      ]
     },
     "metadata": {},
     "output_type": "display_data"
    },
    {
     "data": {
      "text/html": [
       "<pre style=\"white-space:pre;overflow-x:auto;line-height:normal;font-family:Menlo,'DejaVu Sans Mono',consolas,'Courier New',monospace\"></pre>\n"
      ],
      "text/plain": []
     },
     "metadata": {},
     "output_type": "display_data"
    },
    {
     "name": "stderr",
     "output_type": "stream",
     "text": [
      "Sampling 2 chains for 500 tune and 500 draw iterations (1_000 + 1_000 draws total) took 119 seconds.\n",
      "We recommend running at least 4 chains for robust computation of convergence diagnostics\n"
     ]
    },
    {
     "name": "stdout",
     "output_type": "stream",
     "text": [
      "           mean     sd  hdi_2.5%  hdi_97.5%  mcse_mean  mcse_sd  ess_bulk  \\\n",
      "beta_int  0.015  0.594    -1.154      1.081      0.028    0.020     435.0   \n",
      "rho      -0.008  0.330    -0.641      0.665      0.019    0.012     312.0   \n",
      "sigma     1.395  0.254     0.976      1.922      0.010    0.008     646.0   \n",
      "\n",
      "          ess_tail  r_hat  \n",
      "beta_int     362.0   1.01  \n",
      "rho          396.0   1.01  \n",
      "sigma        680.0   1.00  \n",
      "P(intervention reduces stress by ≥ 0.5 points) = 18.80%\n",
      "P(beta_int ≤ –0.5) = 18.80%\n",
      "P(–0.5 < beta_int < 0) = 30.60%\n",
      "P(beta_int ≥ 0) = 50.60%\n"
     ]
    },
    {
     "data": {
      "image/png": "[encoded data removed]",
      "text/plain": [
       "<Figure size 1000x400 with 2 Axes>"
      ]
     },
     "metadata": {},
     "output_type": "display_data"
    },
    {
     "name": "stdout",
     "output_type": "stream",
     "text": [
      "\n",
      "Intervention + fac1:\n"
     ]
    },
    {
     "name": "stderr",
     "output_type": "stream",
     "text": [
      "c:\\Users\\USER\\AppData\\Local\\r-miniconda\\Lib\\site-packages\\pymc\\model\\core.py:1300: ImputationWarning: Data in y_obs contains missing values and will be automatically imputed from the sampling distribution.\n",
      "  warnings.warn(impute_message, ImputationWarning)\n",
      "Initializing NUTS using jitter+adapt_diag...\n",
      "Multiprocess sampling (2 chains in 2 jobs)\n",
      "NUTS: [beta0, beta_int, beta_f1, rho, sigma, y_obs_unobserved]\n"
     ]
    },
    {
     "data": {
      "text/html": [
       "<pre style=\"white-space:pre;overflow-x:auto;line-height:normal;font-family:Menlo,'DejaVu Sans Mono',consolas,'Courier New',monospace\">c:\\Users\\USER\\AppData\\Local\\r-miniconda\\Lib\\site-packages\\rich\\live.py:231: UserWarning: install \"ipywidgets\" for \n",
       "Jupyter support\n",
       "  warnings.warn('install \"ipywidgets\" for Jupyter support')\n",
       "</pre>\n"
      ],
      "text/plain": [
       "c:\\Users\\USER\\AppData\\Local\\r-miniconda\\Lib\\site-packages\\rich\\live.py:231: UserWarning: install \"ipywidgets\" for \n",
       "Jupyter support\n",
       "  warnings.warn('install \"ipywidgets\" for Jupyter support')\n"
      ]
     },
     "metadata": {},
     "output_type": "display_data"
    },
    {
     "data": {
      "text/html": [
       "<pre style=\"white-space:pre;overflow-x:auto;line-height:normal;font-family:Menlo,'DejaVu Sans Mono',consolas,'Courier New',monospace\"></pre>\n"
      ],
      "text/plain": []
     },
     "metadata": {},
     "output_type": "display_data"
    },
    {
     "name": "stderr",
     "output_type": "stream",
     "text": [
      "Sampling 2 chains for 500 tune and 500 draw iterations (1_000 + 1_000 draws total) took 317 seconds.\n",
      "We recommend running at least 4 chains for robust computation of convergence diagnostics\n",
      "The rhat statistic is larger than 1.01 for some parameters. This indicates problems during sampling. See https://arxiv.org/abs/1903.08008 for details\n"
     ]
    },
    {
     "name": "stdout",
     "output_type": "stream",
     "text": [
      "           mean     sd  hdi_2.5%  hdi_97.5%  mcse_mean  mcse_sd  ess_bulk  \\\n",
      "beta_int -0.350  0.367    -1.080      0.400      0.015    0.015     635.0   \n",
      "rho      -0.132  0.340    -0.772      0.581      0.014    0.016     559.0   \n",
      "sigma     0.781  0.186     0.507      1.202      0.010    0.008     371.0   \n",
      "beta_f1   0.827  0.159     0.489      1.138      0.009    0.008     339.0   \n",
      "\n",
      "          ess_tail  r_hat  \n",
      "beta_int     518.0   1.00  \n",
      "rho          367.0   1.00  \n",
      "sigma        494.0   1.00  \n",
      "beta_f1      305.0   1.01  \n",
      "P(intervention reduces stress by ≥ 0.5 points) = 31.90%\n",
      "P(beta_int ≤ –0.5) = 31.90%\n",
      "P(–0.5 < beta_int < 0) = 52.30%\n",
      "P(beta_int ≥ 0) = 15.80%\n"
     ]
    },
    {
     "data": {
      "image/png": "[encoded data removed]",
      "text/plain": [
       "<Figure size 1000x400 with 2 Axes>"
      ]
     },
     "metadata": {},
     "output_type": "display_data"
    },
    {
     "name": "stdout",
     "output_type": "stream",
     "text": [
      "\n",
      "Intervention + fac2:\n"
     ]
    },
    {
     "name": "stderr",
     "output_type": "stream",
     "text": [
      "c:\\Users\\USER\\AppData\\Local\\r-miniconda\\Lib\\site-packages\\pymc\\model\\core.py:1300: ImputationWarning: Data in y_obs contains missing values and will be automatically imputed from the sampling distribution.\n",
      "  warnings.warn(impute_message, ImputationWarning)\n",
      "Initializing NUTS using jitter+adapt_diag...\n",
      "Multiprocess sampling (2 chains in 2 jobs)\n",
      "NUTS: [beta0, beta_int, beta_f2, rho, sigma, y_obs_unobserved]\n"
     ]
    },
    {
     "data": {
      "text/html": [
       "<pre style=\"white-space:pre;overflow-x:auto;line-height:normal;font-family:Menlo,'DejaVu Sans Mono',consolas,'Courier New',monospace\">c:\\Users\\USER\\AppData\\Local\\r-miniconda\\Lib\\site-packages\\rich\\live.py:231: UserWarning: install \"ipywidgets\" for \n",
       "Jupyter support\n",
       "  warnings.warn('install \"ipywidgets\" for Jupyter support')\n",
       "</pre>\n"
      ],
      "text/plain": [
       "c:\\Users\\USER\\AppData\\Local\\r-miniconda\\Lib\\site-packages\\rich\\live.py:231: UserWarning: install \"ipywidgets\" for \n",
       "Jupyter support\n",
       "  warnings.warn('install \"ipywidgets\" for Jupyter support')\n"
      ]
     },
     "metadata": {},
     "output_type": "display_data"
    },
    {
     "data": {
      "text/html": [
       "<pre style=\"white-space:pre;overflow-x:auto;line-height:normal;font-family:Menlo,'DejaVu Sans Mono',consolas,'Courier New',monospace\"></pre>\n"
      ],
      "text/plain": []
     },
     "metadata": {},
     "output_type": "display_data"
    },
    {
     "name": "stderr",
     "output_type": "stream",
     "text": [
      "Sampling 2 chains for 500 tune and 500 draw iterations (1_000 + 1_000 draws total) took 289 seconds.\n",
      "We recommend running at least 4 chains for robust computation of convergence diagnostics\n"
     ]
    },
    {
     "name": "stdout",
     "output_type": "stream",
     "text": [
      "           mean     sd  hdi_2.5%  hdi_97.5%  mcse_mean  mcse_sd  ess_bulk  \\\n",
      "beta_int  0.114  0.665    -1.082      1.462      0.029    0.024     518.0   \n",
      "rho       0.152  0.404    -0.506      0.967      0.021    0.013     371.0   \n",
      "sigma     1.426  0.290     0.935      2.024      0.018    0.011     237.0   \n",
      "beta_f2   0.334  0.312    -0.343      0.907      0.016    0.014     370.0   \n",
      "\n",
      "          ess_tail  r_hat  \n",
      "beta_int     591.0   1.00  \n",
      "rho          427.0   1.00  \n",
      "sigma        554.0   1.01  \n",
      "beta_f2      354.0   1.00  \n",
      "P(intervention reduces stress by ≥ 0.5 points) = 17.10%\n",
      "P(beta_int ≤ –0.5) = 17.10%\n",
      "P(–0.5 < beta_int < 0) = 26.40%\n",
      "P(beta_int ≥ 0) = 56.50%\n"
     ]
    },
    {
     "data": {
      "image/png": "[encoded data removed]",
      "text/plain": [
       "<Figure size 1000x400 with 2 Axes>"
      ]
     },
     "metadata": {},
     "output_type": "display_data"
    },
    {
     "name": "stdout",
     "output_type": "stream",
     "text": [
      "\n",
      "Intervention + fac1 + fac2:\n"
     ]
    },
    {
     "name": "stderr",
     "output_type": "stream",
     "text": [
      "c:\\Users\\USER\\AppData\\Local\\r-miniconda\\Lib\\site-packages\\pymc\\model\\core.py:1300: ImputationWarning: Data in y_obs contains missing values and will be automatically imputed from the sampling distribution.\n",
      "  warnings.warn(impute_message, ImputationWarning)\n",
      "Initializing NUTS using jitter+adapt_diag...\n",
      "Multiprocess sampling (2 chains in 2 jobs)\n",
      "NUTS: [beta0, beta_int, beta_f1, beta_f2, rho, sigma, y_obs_unobserved]\n"
     ]
    },
    {
     "data": {
      "text/html": [
       "<pre style=\"white-space:pre;overflow-x:auto;line-height:normal;font-family:Menlo,'DejaVu Sans Mono',consolas,'Courier New',monospace\">c:\\Users\\USER\\AppData\\Local\\r-miniconda\\Lib\\site-packages\\rich\\live.py:231: UserWarning: install \"ipywidgets\" for \n",
       "Jupyter support\n",
       "  warnings.warn('install \"ipywidgets\" for Jupyter support')\n",
       "</pre>\n"
      ],
      "text/plain": [
       "c:\\Users\\USER\\AppData\\Local\\r-miniconda\\Lib\\site-packages\\rich\\live.py:231: UserWarning: install \"ipywidgets\" for \n",
       "Jupyter support\n",
       "  warnings.warn('install \"ipywidgets\" for Jupyter support')\n"
      ]
     },
     "metadata": {},
     "output_type": "display_data"
    },
    {
     "data": {
      "text/html": [
       "<pre style=\"white-space:pre;overflow-x:auto;line-height:normal;font-family:Menlo,'DejaVu Sans Mono',consolas,'Courier New',monospace\"></pre>\n"
      ],
      "text/plain": []
     },
     "metadata": {},
     "output_type": "display_data"
    },
    {
     "name": "stderr",
     "output_type": "stream",
     "text": [
      "Sampling 2 chains for 500 tune and 500 draw iterations (1_000 + 1_000 draws total) took 510 seconds.\n",
      "We recommend running at least 4 chains for robust computation of convergence diagnostics\n"
     ]
    },
    {
     "name": "stdout",
     "output_type": "stream",
     "text": [
      "           mean     sd  hdi_2.5%  hdi_97.5%  mcse_mean  mcse_sd  ess_bulk  \\\n",
      "beta_int -0.184  0.399    -0.960      0.615      0.020    0.017     427.0   \n",
      "rho      -0.168  0.337    -0.795      0.523      0.016    0.015     457.0   \n",
      "sigma     0.750  0.187     0.443      1.099      0.012    0.015     237.0   \n",
      "beta_f1   0.806  0.151     0.501      1.070      0.008    0.011     407.0   \n",
      "beta_f2   0.190  0.175    -0.228      0.505      0.010    0.008     322.0   \n",
      "\n",
      "          ess_tail  r_hat  \n",
      "beta_int     454.0    1.0  \n",
      "rho          329.0    1.0  \n",
      "sigma        424.0    1.0  \n",
      "beta_f1      356.0    1.0  \n",
      "beta_f2      395.0    1.0  \n",
      "P(intervention reduces stress by ≥ 0.5 points) = 19.90%\n",
      "P(beta_int ≤ –0.5) = 19.90%\n",
      "P(–0.5 < beta_int < 0) = 48.20%\n",
      "P(beta_int ≥ 0) = 31.90%\n"
     ]
    },
    {
     "data": {
      "image/png": "[encoded data removed]",
      "text/plain": [
       "<Figure size 1000x400 with 2 Axes>"
      ]
     },
     "metadata": {},
     "output_type": "display_data"
    },
    {
     "data": {
      "text/plain": [
       "(Inference data with groups:\n",
       " \t> posterior\n",
       " \t> sample_stats\n",
       " \t> observed_data,\n",
       "            mean     sd  hdi_2.5%  hdi_97.5%  mcse_mean  mcse_sd  ess_bulk  \\\n",
       " beta_int -0.184  0.399    -0.960      0.615      0.020    0.017     427.0   \n",
       " rho      -0.168  0.337    -0.795      0.523      0.016    0.015     457.0   \n",
       " sigma     0.750  0.187     0.443      1.099      0.012    0.015     237.0   \n",
       " beta_f1   0.806  0.151     0.501      1.070      0.008    0.011     407.0   \n",
       " beta_f2   0.190  0.175    -0.228      0.505      0.010    0.008     322.0   \n",
       " \n",
       "           ess_tail  r_hat  \n",
       " beta_int     454.0    1.0  \n",
       " rho          329.0    1.0  \n",
       " sigma        424.0    1.0  \n",
       " beta_f1      356.0    1.0  \n",
       " beta_f2      395.0    1.0  )"
      ]
     },
     "execution_count": 48,
     "metadata": {},
     "output_type": "execute_result"
    }
   ],
   "source": [
    "def run_ar1_model(df_mea, use_fac1=False, use_fac2=False):\n",
    "    days_full = pd.DataFrame({'current_day_of_study': np.arange(0, 16)})\n",
    "\n",
    "    outcome_data = df_mea[df_mea['measurement_name'] == 'Outcome'][\n",
    "        ['current_day_of_study',\n",
    "         'survey1_question1_response',   \n",
    "         'current_intervention_name']\n",
    "    ]\n",
    "    mediator_data = df_mea[df_mea['measurement_name'] == 'Mediators'][\n",
    "        ['current_day_of_study',\n",
    "         'survey2_question1_response',   \n",
    "         'survey2_question2_response']   \n",
    "    ]\n",
    "\n",
    "    data = (\n",
    "        days_full\n",
    "        .merge(outcome_data,  on='current_day_of_study', how='left')\n",
    "        .merge(mediator_data, on='current_day_of_study', how='left')\n",
    "        .sort_values('current_day_of_study')\n",
    "        .reset_index(drop=True)\n",
    "    )\n",
    "\n",
    "    days   = data['current_day_of_study'].values\n",
    "    y      = data['survey1_question1_response'].values.astype(float)  \n",
    "    n      = len(y)  \n",
    "\n",
    "    interv = (data['current_intervention_name'] == \"Watching comedy movies or series!\").astype(float).fillna(0).values\n",
    "\n",
    "    if use_fac1:\n",
    "        fac1 = data['survey2_question1_response'].values.astype(float)\n",
    "        fac1 = np.nan_to_num(fac1, nan=0.0)\n",
    "    else:\n",
    "        fac1 = np.zeros_like(days, dtype=float)\n",
    "\n",
    "    if use_fac2:\n",
    "        fac2 = data['survey2_question2_response'].values.astype(float)\n",
    "        fac2 = np.nan_to_num(fac2, nan=0.0)\n",
    "    else:\n",
    "        fac2 = np.zeros_like(days, dtype=float)\n",
    "\n",
    "    obs_mask = ~np.isnan(y)\n",
    "    consec   = np.zeros(n, dtype=float)\n",
    "    consec[1:] = (obs_mask[1:] & obs_mask[:-1]).astype(float)\n",
    "\n",
    "    with pm.Model() as model:\n",
    "        beta0    = pm.Normal('beta0',    mu=0, sigma=10)\n",
    "        beta_int = pm.Normal('beta_int', mu=0, sigma=1)\n",
    "        if use_fac1:\n",
    "            beta_f1  = pm.Normal('beta_f1',  mu=0, sigma=10)\n",
    "        if use_fac2:\n",
    "            beta_f2  = pm.Normal('beta_f2',  mu=0, sigma=10)\n",
    "        rho      = pm.Uniform('rho',     lower=-1, upper=1)\n",
    "        sigma    = pm.HalfNormal('sigma', sigma=1)\n",
    "\n",
    "        mu = beta0 + beta_int * interv\n",
    "        if use_fac1:\n",
    "            mu = mu + beta_f1 * fac1\n",
    "        if use_fac2:\n",
    "            mu = mu + beta_f2 * fac2\n",
    "\n",
    "        y_tt      = pt.constant(y)            \n",
    "        mu_tt     = mu\n",
    "        consec_tt = pt.constant(consec)\n",
    "\n",
    "        def ar1_step(y_prev, mu_prev, mu_curr, consec_prev, rho):\n",
    "            ar_term = pt.switch(pt.eq(consec_prev, 1.0), rho * (y_prev - mu_prev), 0.0)\n",
    "            return mu_curr + ar_term\n",
    "\n",
    "        y_pred_scan, _ = scan(\n",
    "            fn=ar1_step,\n",
    "            sequences=[y_tt[:-1], mu_tt[:-1], mu_tt[1:], consec_tt[:-1]],\n",
    "            non_sequences=[rho],\n",
    "            n_steps=n-1,\n",
    "            name=\"ar1_scan\"\n",
    "        )\n",
    "\n",
    "        y_pred = pt.concatenate([[mu_tt[0]], y_pred_scan], axis=0)\n",
    "\n",
    "        y_obs_masked = np.ma.masked_invalid(y)\n",
    "        pm.Normal('y_obs', mu=y_pred, sigma=sigma, observed=y_obs_masked)\n",
    "\n",
    "        trace = pm.sample(\n",
    "            draws=500,\n",
    "            tune=500,\n",
    "            chains=2,\n",
    "            target_accept=0.9,\n",
    "            return_inferencedata=True\n",
    "        )\n",
    "\n",
    "    var_names = ['beta_int', 'rho', 'sigma']\n",
    "    if use_fac1:\n",
    "        var_names.append('beta_f1')\n",
    "    if use_fac2:\n",
    "        var_names.append('beta_f2')\n",
    "\n",
    "    summary = az.summary(trace, var_names=var_names, hdi_prob=0.95)\n",
    "    print(summary)\n",
    "\n",
    "    prob_responder = (trace.posterior['beta_int'] < -0.5).mean().item()\n",
    "    print(f\"P(intervention reduces stress by ≥ 0.5 points) = {prob_responder:.2%}\")\n",
    "\n",
    "    beta_samples = trace.posterior['beta_int'].values.flatten()\n",
    "    p_le_neg05 = (beta_samples <= -0.5).mean()\n",
    "    p_between  = ((beta_samples > -0.5) & (beta_samples < 0)).mean()\n",
    "    p_ge0      = (beta_samples >= 0).mean()\n",
    "\n",
    "    print(f\"P(beta_int ≤ –0.5) = {p_le_neg05:.2%}\")\n",
    "    print(f\"P(–0.5 < beta_int < 0) = {p_between:.2%}\")\n",
    "    print(f\"P(beta_int ≥ 0) = {p_ge0:.2%}\")\n",
    "\n",
    "    mean_beta = summary.loc['beta_int', 'mean']\n",
    "    hdi_low   = summary.loc['beta_int', 'hdi_2.5%']\n",
    "    hdi_high  = summary.loc['beta_int', 'hdi_97.5%']\n",
    "\n",
    "    fig, axes = plt.subplots(1, 2, figsize=(10, 4),\n",
    "                             gridspec_kw={'width_ratios': [1, 1]})\n",
    "\n",
    "    ax = axes[0]\n",
    "    ax.errorbar(0, mean_beta,\n",
    "                yerr=[[mean_beta - hdi_low], [hdi_high - mean_beta]],\n",
    "                fmt='o', capsize=5, color='black')\n",
    "    ax.axhline(0, color='gray', linestyle='--')\n",
    "    ax.set_xticks([0])\n",
    "    ax.set_xticklabels([\"Watching comedy movies or series effect\"])\n",
    "    ax.set_ylabel('Stress reduction (points)')\n",
    "    ax.set_title('A. Posterior mean ± 95% CI', loc='left',\n",
    "                 pad=10, fontsize=12, fontweight='bold')\n",
    "\n",
    "    ax = axes[1]\n",
    "    ax.bar(0, p_le_neg05,    width=0.6, color='darkgreen',  label='≤ –0.5')\n",
    "    ax.bar(0, p_between,     width=0.6, bottom=p_le_neg05, color='lightgreen', label='–0.5 < β < 0')\n",
    "    ax.bar(0, p_ge0,         width=0.6, bottom=p_le_neg05+p_between, color='gold',       label='≥ 0')\n",
    "    ax.axhline(0.7, color='gray', linestyle='--', label='Responder thresh.')\n",
    "    ax.set_xticks([0])\n",
    "    ax.set_xticklabels(['Posterior mass'])\n",
    "    ax.set_ylim(0, 1)\n",
    "    ax.set_ylabel('Probability')\n",
    "    ax.set_title('B. Distribution of effect size', loc='left',\n",
    "                 pad=10, fontsize=12, fontweight='bold')\n",
    "    ax.legend(loc='upper right', fontsize=8)\n",
    "\n",
    "    plt.tight_layout()\n",
    "    plt.show()\n",
    "\n",
    "    return trace, summary\n",
    "\n",
    "print(\"Only intervention:\")\n",
    "run_ar1_model(df_mea, use_fac1=False, use_fac2=False)\n",
    "\n",
    "print(\"\\nIntervention + fac1:\")\n",
    "run_ar1_model(df_mea, use_fac1=True, use_fac2=False)\n",
    "\n",
    "print(\"\\nIntervention + fac2:\")\n",
    "run_ar1_model(df_mea, use_fac1=False, use_fac2=True)\n",
    "\n",
    "print(\"\\nIntervention + fac1 + fac2:\")\n",
    "run_ar1_model(df_mea, use_fac1=True, use_fac2=True)"
   ]
  },
  {
   "cell_type": "markdown",
   "id": "8926effc",
   "metadata": {},
   "source": [
    "#### Bayesian AR(1) Model of Daily Stress Response to Watching Comedy and Mediators - Mean Imputation Method"
   ]
  },
  {
   "cell_type": "code",
   "execution_count": 49,
   "id": "a1176512",
   "metadata": {},
   "outputs": [
    {
     "name": "stderr",
     "output_type": "stream",
     "text": [
      "C:\\Users\\USER\\AppData\\Local\\Temp\\ipykernel_6204\\224566006.py:12: FutureWarning: A value is trying to be set on a copy of a DataFrame or Series through chained assignment using an inplace method.\n",
      "The behavior will change in pandas 3.0. This inplace method will never work because the intermediate object on which we are setting values always behaves as a copy.\n",
      "\n",
      "For example, when doing 'df[col].method(value, inplace=True)', try using 'df.method({col: value}, inplace=True)' or df[col] = df[col].method(value) instead, to perform the operation inplace on the original object.\n",
      "\n",
      "\n",
      "  imputed_complete_o['measurement_name'].fillna('Outcome', inplace=True)\n",
      "C:\\Users\\USER\\AppData\\Local\\Temp\\ipykernel_6204\\224566006.py:23: FutureWarning: A value is trying to be set on a copy of a DataFrame or Series through chained assignment using an inplace method.\n",
      "The behavior will change in pandas 3.0. This inplace method will never work because the intermediate object on which we are setting values always behaves as a copy.\n",
      "\n",
      "For example, when doing 'df[col].method(value, inplace=True)', try using 'df.method({col: value}, inplace=True)' or df[col] = df[col].method(value) instead, to perform the operation inplace on the original object.\n",
      "\n",
      "\n",
      "  imputed_complete_m['measurement_name'].fillna('Mediators', inplace=True)\n"
     ]
    }
   ],
   "source": [
    "imputed_data_o = df_mea[df_mea['measurement_name'] == 'Outcome'].copy()\n",
    "imputed_data_o['current_day_of_study'] = imputed_data_o['current_day_of_study'].astype(int)\n",
    "\n",
    "days = pd.DataFrame({'current_day_of_study': range(0, 16)})\n",
    "\n",
    "imputed_complete_o = days.merge(\n",
    "    imputed_data_o, \n",
    "    how='left', \n",
    "    on='current_day_of_study'\n",
    ")\n",
    "\n",
    "imputed_complete_o['measurement_name'].fillna('Outcome', inplace=True)\n",
    "\n",
    "imputed_data_m = df_mea[df_mea['measurement_name'] == 'Mediators'].copy()\n",
    "imputed_data_m['current_day_of_study'] = imputed_data_m['current_day_of_study'].astype(int)\n",
    "\n",
    "imputed_complete_m = days.merge(\n",
    "    imputed_data_m, \n",
    "    how='left', \n",
    "    on='current_day_of_study'\n",
    ")\n",
    "\n",
    "imputed_complete_m['measurement_name'].fillna('Mediators', inplace=True)"
   ]
  },
  {
   "cell_type": "code",
   "execution_count": 50,
   "id": "befc1465",
   "metadata": {},
   "outputs": [],
   "source": [
    "df_o = imputed_complete_o.copy()\n",
    "df_m = imputed_complete_m.copy()\n",
    "pattern = (\n",
    "    ['A'] * 4 +\n",
    "    ['B'] * 8 +\n",
    "    ['A'] * 4 \n",
    ")\n",
    "txt = {\n",
    "    'A': \"Watching comedy movies or series!\",\n",
    "    'B': \"Not watching comedy movies or series!\"\n",
    "}\n",
    "\n",
    "df_unique_o = (\n",
    "    df_o\n",
    "    .sort_values('current_day_of_study')       \n",
    "    .groupby('current_day_of_study', as_index=True)\n",
    "    .first()                                   \n",
    ")\n",
    "\n",
    "df_fill_o = (\n",
    "    df_unique_o\n",
    "    .reindex(range(0, 16))                    \n",
    "    .reset_index()                             \n",
    ")\n",
    "\n",
    "mask_o = df_fill_o['current_intervention_name'].isna()\n",
    "df_fill_o.loc[mask_o, 'current_intervention_name'] = (\n",
    "    df_fill_o.loc[mask_o, 'current_day_of_study']\n",
    "            .map(lambda day: txt[ pattern[int(day)] ])\n",
    ")\n",
    "\n",
    "df_unique_m = (\n",
    "    df_m\n",
    "    .sort_values('current_day_of_study')       \n",
    "    .groupby('current_day_of_study', as_index=True)\n",
    "    .first()                                   \n",
    ")\n",
    "\n",
    "df_fill_m = (\n",
    "    df_unique_m\n",
    "    .reindex(range(0, 16))                     \n",
    "    .reset_index()                             \n",
    ")\n",
    "\n",
    "mask_m = df_fill_m['current_intervention_name'].isna()\n",
    "df_fill_m.loc[mask_m, 'current_intervention_name'] = (\n",
    "    df_fill_m.loc[mask_m, 'current_day_of_study']\n",
    "            .map(lambda day: txt[ pattern[int(day)] ])\n",
    ")"
   ]
  },
  {
   "cell_type": "code",
   "execution_count": 51,
   "id": "260669e3",
   "metadata": {},
   "outputs": [],
   "source": [
    "df_mean_imp_o = df_fill_o.copy()\n",
    "df_mean_imp_m = df_fill_m.copy()\n",
    "\n",
    "df_mean_imp_o['survey1_question1_response'] = (\n",
    "    df_mean_imp_o\n",
    "    .groupby('current_intervention_name')['survey1_question1_response']\n",
    "    .transform(lambda grp: grp.fillna(grp.mean()))\n",
    ")\n",
    "cols_to_impute = [\n",
    "    'survey2_question1_response',\n",
    "    'survey2_question2_response'\n",
    "]\n",
    "\n",
    "for col in cols_to_impute:\n",
    "    df_mean_imp_m[col] = (\n",
    "        df_mean_imp_m\n",
    "        .groupby('current_intervention_name')[col]\n",
    "        .transform(lambda grp: grp.fillna(grp.mean()))\n",
    "    )"
   ]
  },
  {
   "cell_type": "code",
   "execution_count": 52,
   "id": "4832c784",
   "metadata": {},
   "outputs": [
    {
     "name": "stdout",
     "output_type": "stream",
     "text": [
      "Model result with neither fac1 nor fac2 (intervention only):\n"
     ]
    },
    {
     "name": "stderr",
     "output_type": "stream",
     "text": [
      "Initializing NUTS using jitter+adapt_diag...\n",
      "c:\\Users\\USER\\AppData\\Local\\r-miniconda\\Lib\\site-packages\\pytensor\\tensor\\rewriting\\elemwise.py:954: UserWarning: Loop fusion failed because the resulting node would exceed the kernel argument limit.\n",
      "  warn(\n",
      "Multiprocess sampling (2 chains in 2 jobs)\n",
      "NUTS: [beta0, beta_int, rho, sigma]\n"
     ]
    },
    {
     "data": {
      "text/html": [
       "<pre style=\"white-space:pre;overflow-x:auto;line-height:normal;font-family:Menlo,'DejaVu Sans Mono',consolas,'Courier New',monospace\">c:\\Users\\USER\\AppData\\Local\\r-miniconda\\Lib\\site-packages\\rich\\live.py:231: UserWarning: install \"ipywidgets\" for \n",
       "Jupyter support\n",
       "  warnings.warn('install \"ipywidgets\" for Jupyter support')\n",
       "</pre>\n"
      ],
      "text/plain": [
       "c:\\Users\\USER\\AppData\\Local\\r-miniconda\\Lib\\site-packages\\rich\\live.py:231: UserWarning: install \"ipywidgets\" for \n",
       "Jupyter support\n",
       "  warnings.warn('install \"ipywidgets\" for Jupyter support')\n"
      ]
     },
     "metadata": {},
     "output_type": "display_data"
    },
    {
     "data": {
      "text/html": [
       "<pre style=\"white-space:pre;overflow-x:auto;line-height:normal;font-family:Menlo,'DejaVu Sans Mono',consolas,'Courier New',monospace\"></pre>\n"
      ],
      "text/plain": []
     },
     "metadata": {},
     "output_type": "display_data"
    },
    {
     "name": "stderr",
     "output_type": "stream",
     "text": [
      "Sampling 2 chains for 500 tune and 500 draw iterations (1_000 + 1_000 draws total) took 100 seconds.\n",
      "We recommend running at least 4 chains for robust computation of convergence diagnostics\n"
     ]
    },
    {
     "name": "stdout",
     "output_type": "stream",
     "text": [
      "           mean     sd  hdi_2.5%  hdi_97.5%  mcse_mean  mcse_sd  ess_bulk  \\\n",
      "beta_int  0.011  0.556    -1.160      1.016      0.020    0.018     773.0   \n",
      "rho       0.048  0.302    -0.513      0.641      0.013    0.013     523.0   \n",
      "sigma     1.353  0.268     0.923      1.929      0.011    0.011     592.0   \n",
      "\n",
      "          ess_tail  r_hat  \n",
      "beta_int     667.0    1.0  \n",
      "rho          425.0    1.0  \n",
      "sigma        449.0    1.0  \n",
      "P(beta_int ≤ –0.5) = 16.30%\n",
      "P(–0.5 < beta_int < 0) = 31.80%\n",
      "P(beta_int ≥ 0) = 51.90%\n",
      "P(Stress reduction of watching comedy movies or series ≥ 0.5) = 16.30%\n",
      "\n",
      "Model result with only fac1:\n"
     ]
    },
    {
     "name": "stderr",
     "output_type": "stream",
     "text": [
      "Initializing NUTS using jitter+adapt_diag...\n",
      "c:\\Users\\USER\\AppData\\Local\\r-miniconda\\Lib\\site-packages\\pytensor\\tensor\\rewriting\\elemwise.py:954: UserWarning: Loop fusion failed because the resulting node would exceed the kernel argument limit.\n",
      "  warn(\n",
      "Multiprocess sampling (2 chains in 2 jobs)\n",
      "NUTS: [beta0, beta_int, beta_f1, rho, sigma]\n"
     ]
    },
    {
     "data": {
      "text/html": [
       "<pre style=\"white-space:pre;overflow-x:auto;line-height:normal;font-family:Menlo,'DejaVu Sans Mono',consolas,'Courier New',monospace\">c:\\Users\\USER\\AppData\\Local\\r-miniconda\\Lib\\site-packages\\rich\\live.py:231: UserWarning: install \"ipywidgets\" for \n",
       "Jupyter support\n",
       "  warnings.warn('install \"ipywidgets\" for Jupyter support')\n",
       "</pre>\n"
      ],
      "text/plain": [
       "c:\\Users\\USER\\AppData\\Local\\r-miniconda\\Lib\\site-packages\\rich\\live.py:231: UserWarning: install \"ipywidgets\" for \n",
       "Jupyter support\n",
       "  warnings.warn('install \"ipywidgets\" for Jupyter support')\n"
      ]
     },
     "metadata": {},
     "output_type": "display_data"
    },
    {
     "data": {
      "text/html": [
       "<pre style=\"white-space:pre;overflow-x:auto;line-height:normal;font-family:Menlo,'DejaVu Sans Mono',consolas,'Courier New',monospace\"></pre>\n"
      ],
      "text/plain": []
     },
     "metadata": {},
     "output_type": "display_data"
    },
    {
     "name": "stderr",
     "output_type": "stream",
     "text": [
      "Sampling 2 chains for 500 tune and 500 draw iterations (1_000 + 1_000 draws total) took 351 seconds.\n",
      "We recommend running at least 4 chains for robust computation of convergence diagnostics\n",
      "The rhat statistic is larger than 1.01 for some parameters. This indicates problems during sampling. See https://arxiv.org/abs/1903.08008 for details\n"
     ]
    },
    {
     "name": "stdout",
     "output_type": "stream",
     "text": [
      "           mean     sd  hdi_2.5%  hdi_97.5%  mcse_mean  mcse_sd  ess_bulk  \\\n",
      "beta_int -0.354  0.357    -1.079      0.273      0.016    0.017     524.0   \n",
      "beta_f1   0.795  0.138     0.523      1.072      0.006    0.006     509.0   \n",
      "rho      -0.138  0.325    -0.790      0.511      0.016    0.015     405.0   \n",
      "sigma     0.734  0.170     0.470      1.072      0.008    0.009     494.0   \n",
      "\n",
      "          ess_tail  r_hat  \n",
      "beta_int     564.0   1.00  \n",
      "beta_f1      423.0   1.00  \n",
      "rho          305.0   1.00  \n",
      "sigma        531.0   1.01  \n",
      "P(beta_int ≤ –0.5) = 31.90%\n",
      "P(–0.5 < beta_int < 0) = 54.30%\n",
      "P(beta_int ≥ 0) = 13.80%\n",
      "P(Stress reduction of watching comedy movies or series ≥ 0.5) = 31.90%\n",
      "\n",
      "Model result with only fac2:\n"
     ]
    },
    {
     "name": "stderr",
     "output_type": "stream",
     "text": [
      "Initializing NUTS using jitter+adapt_diag...\n",
      "c:\\Users\\USER\\AppData\\Local\\r-miniconda\\Lib\\site-packages\\pytensor\\tensor\\rewriting\\elemwise.py:954: UserWarning: Loop fusion failed because the resulting node would exceed the kernel argument limit.\n",
      "  warn(\n",
      "Multiprocess sampling (2 chains in 2 jobs)\n",
      "NUTS: [beta0, beta_int, beta_f2, rho, sigma]\n"
     ]
    },
    {
     "data": {
      "text/html": [
       "<pre style=\"white-space:pre;overflow-x:auto;line-height:normal;font-family:Menlo,'DejaVu Sans Mono',consolas,'Courier New',monospace\">c:\\Users\\USER\\AppData\\Local\\r-miniconda\\Lib\\site-packages\\rich\\live.py:231: UserWarning: install \"ipywidgets\" for \n",
       "Jupyter support\n",
       "  warnings.warn('install \"ipywidgets\" for Jupyter support')\n",
       "</pre>\n"
      ],
      "text/plain": [
       "c:\\Users\\USER\\AppData\\Local\\r-miniconda\\Lib\\site-packages\\rich\\live.py:231: UserWarning: install \"ipywidgets\" for \n",
       "Jupyter support\n",
       "  warnings.warn('install \"ipywidgets\" for Jupyter support')\n"
      ]
     },
     "metadata": {},
     "output_type": "display_data"
    },
    {
     "data": {
      "text/html": [
       "<pre style=\"white-space:pre;overflow-x:auto;line-height:normal;font-family:Menlo,'DejaVu Sans Mono',consolas,'Courier New',monospace\"></pre>\n"
      ],
      "text/plain": []
     },
     "metadata": {},
     "output_type": "display_data"
    },
    {
     "name": "stderr",
     "output_type": "stream",
     "text": [
      "Sampling 2 chains for 500 tune and 500 draw iterations (1_000 + 1_000 draws total) took 260 seconds.\n",
      "We recommend running at least 4 chains for robust computation of convergence diagnostics\n"
     ]
    },
    {
     "name": "stdout",
     "output_type": "stream",
     "text": [
      "           mean     sd  hdi_2.5%  hdi_97.5%  mcse_mean  mcse_sd  ess_bulk  \\\n",
      "beta_int  0.042  0.619    -1.354      1.124      0.028    0.020     508.0   \n",
      "beta_f2   0.321  0.275    -0.221      0.838      0.016    0.011     297.0   \n",
      "rho       0.199  0.325    -0.419      0.791      0.014    0.011     504.0   \n",
      "sigma     1.346  0.241     0.938      1.788      0.010    0.009     556.0   \n",
      "\n",
      "          ess_tail  r_hat  \n",
      "beta_int     524.0   1.00  \n",
      "beta_f2      305.0   1.01  \n",
      "rho          467.0   1.00  \n",
      "sigma        725.0   1.00  \n",
      "P(beta_int ≤ –0.5) = 18.20%\n",
      "P(–0.5 < beta_int < 0) = 28.00%\n",
      "P(beta_int ≥ 0) = 53.80%\n",
      "P(Stress reduction of watching comedy movies or series ≥ 0.5) = 18.20%\n",
      "\n",
      "Model result with both fac1 and fac2:\n"
     ]
    },
    {
     "name": "stderr",
     "output_type": "stream",
     "text": [
      "Initializing NUTS using jitter+adapt_diag...\n",
      "c:\\Users\\USER\\AppData\\Local\\r-miniconda\\Lib\\site-packages\\pytensor\\tensor\\rewriting\\elemwise.py:954: UserWarning: Loop fusion failed because the resulting node would exceed the kernel argument limit.\n",
      "  warn(\n",
      "Multiprocess sampling (2 chains in 2 jobs)\n",
      "NUTS: [beta0, beta_int, beta_f1, beta_f2, rho, sigma]\n"
     ]
    },
    {
     "data": {
      "text/html": [
       "<pre style=\"white-space:pre;overflow-x:auto;line-height:normal;font-family:Menlo,'DejaVu Sans Mono',consolas,'Courier New',monospace\">c:\\Users\\USER\\AppData\\Local\\r-miniconda\\Lib\\site-packages\\rich\\live.py:231: UserWarning: install \"ipywidgets\" for \n",
       "Jupyter support\n",
       "  warnings.warn('install \"ipywidgets\" for Jupyter support')\n",
       "</pre>\n"
      ],
      "text/plain": [
       "c:\\Users\\USER\\AppData\\Local\\r-miniconda\\Lib\\site-packages\\rich\\live.py:231: UserWarning: install \"ipywidgets\" for \n",
       "Jupyter support\n",
       "  warnings.warn('install \"ipywidgets\" for Jupyter support')\n"
      ]
     },
     "metadata": {},
     "output_type": "display_data"
    },
    {
     "data": {
      "text/html": [
       "<pre style=\"white-space:pre;overflow-x:auto;line-height:normal;font-family:Menlo,'DejaVu Sans Mono',consolas,'Courier New',monospace\"></pre>\n"
      ],
      "text/plain": []
     },
     "metadata": {},
     "output_type": "display_data"
    },
    {
     "name": "stderr",
     "output_type": "stream",
     "text": [
      "Sampling 2 chains for 500 tune and 500 draw iterations (1_000 + 1_000 draws total) took 478 seconds.\n",
      "We recommend running at least 4 chains for robust computation of convergence diagnostics\n"
     ]
    },
    {
     "name": "stdout",
     "output_type": "stream",
     "text": [
      "           mean     sd  hdi_2.5%  hdi_97.5%  mcse_mean  mcse_sd  ess_bulk  \\\n",
      "beta_int -0.193  0.349    -0.859      0.514      0.016    0.015     485.0   \n",
      "beta_f1   0.782  0.136     0.532      1.067      0.006    0.005     477.0   \n",
      "beta_f2   0.180  0.143    -0.094      0.455      0.007    0.005     468.0   \n",
      "rho      -0.170  0.311    -0.752      0.431      0.014    0.014     548.0   \n",
      "sigma     0.706  0.163     0.431      1.026      0.007    0.007     519.0   \n",
      "\n",
      "          ess_tail  r_hat  \n",
      "beta_int     517.0   1.00  \n",
      "beta_f1      338.0   1.00  \n",
      "beta_f2      443.0   1.00  \n",
      "rho          416.0   1.01  \n",
      "sigma        660.0   1.00  \n",
      "P(beta_int ≤ –0.5) = 17.00%\n",
      "P(–0.5 < beta_int < 0) = 56.20%\n",
      "P(beta_int ≥ 0) = 26.80%\n",
      "P(Stress reduction of watching comedy movies or series ≥ 0.5) = 17.00%\n",
      "\n"
     ]
    }
   ],
   "source": [
    "def run_model(fac_cols, beta_names):\n",
    "    out = df_mean_imp_o.copy()\n",
    "    med = df_mean_imp_m.copy()\n",
    "    data = (\n",
    "        pd.merge(\n",
    "            out[['current_day_of_study', 'survey1_question1_response', 'current_intervention_name']],\n",
    "            med[['current_day_of_study'] + fac_cols] if fac_cols else out[['current_day_of_study']],\n",
    "            on='current_day_of_study',\n",
    "            how='inner'\n",
    "        ).dropna().sort_values('current_day_of_study').reset_index(drop=True)\n",
    "    )\n",
    "    y = data['survey1_question1_response'].values\n",
    "    interv = (data['current_intervention_name'] == \"Watching comedy movies or series!\").astype(int).values\n",
    "    n = len(data)\n",
    "    fac_arrays = [data[col].values for col in fac_cols] if fac_cols else []\n",
    "\n",
    "    with pm.Model() as model:\n",
    "        beta0 = pm.Normal('beta0', mu=0, sigma=10)\n",
    "        beta_int = pm.Normal('beta_int', mu=0, sigma=1)\n",
    "        betas = [pm.Normal(beta_name, mu=0, sigma=1) for beta_name in beta_names]\n",
    "        rho = pm.Uniform('rho', lower=-1, upper=1)\n",
    "        sigma = pm.HalfNormal('sigma', sigma=1)\n",
    "        mu = beta0 + beta_int * interv\n",
    "        for beta, fac in zip(betas, fac_arrays):\n",
    "            mu += beta * fac\n",
    "        pm.Normal('y_0', mu=mu[0], sigma=sigma, observed=y[0])\n",
    "        for t in range(1, n):\n",
    "            adjustment = rho * (y[t-1] - mu[t-1])\n",
    "            pm.Normal(f'y_{t}', mu=mu[t] + adjustment, sigma=sigma, observed=y[t])\n",
    "        trace = pm.sample(draws=500, tune=500, chains=2, target_accept=0.9, return_inferencedata=True)\n",
    "    summary = az.summary(trace, var_names=['beta_int'] + beta_names + ['rho', 'sigma'], hdi_prob=0.95)\n",
    "    print(summary)\n",
    "    beta_samples = trace.posterior['beta_int'].values.flatten()\n",
    "    p_le_neg05 = (beta_samples <= -0.5).mean()\n",
    "    p_between  = ((beta_samples > -0.5) & (beta_samples < 0)).mean()\n",
    "    p_ge0      = (beta_samples >= 0).mean()\n",
    "    print(f\"P(beta_int ≤ –0.5) = {p_le_neg05:.2%}\")\n",
    "    print(f\"P(–0.5 < beta_int < 0) = {p_between:.2%}\")\n",
    "    print(f\"P(beta_int ≥ 0) = {p_ge0:.2%}\")\n",
    "    prob = (trace.posterior['beta_int'] < -0.5).mean().item()\n",
    "    print(f\"P(Stress reduction of watching comedy movies or series ≥ 0.5) = {prob:.2%}\\n\")\n",
    "\n",
    "print(\"Model result with neither fac1 nor fac2 (intervention only):\")\n",
    "run_model([], [])\n",
    "\n",
    "print(\"Model result with only fac1:\")\n",
    "run_model(['survey2_question1_response'], ['beta_f1'])\n",
    "\n",
    "print(\"Model result with only fac2:\")\n",
    "run_model(['survey2_question2_response'], ['beta_f2'])\n",
    "\n",
    "print(\"Model result with both fac1 and fac2:\")\n",
    "run_model(['survey2_question1_response', 'survey2_question2_response'], ['beta_f1', 'beta_f2'])"
   ]
  },
  {
   "cell_type": "markdown",
   "id": "92db7377",
   "metadata": {},
   "source": [
    "#### Bayesian AR(1) Model of Daily Stress Response to Watching Comedy and Mediators - Latent Missing Method"
   ]
  },
  {
   "cell_type": "code",
   "execution_count": 53,
   "id": "bfd33589",
   "metadata": {},
   "outputs": [
    {
     "name": "stdout",
     "output_type": "stream",
     "text": [
      "Model: Neither fac1 nor fac2 (intervention only)\n"
     ]
    },
    {
     "name": "stderr",
     "output_type": "stream",
     "text": [
      "Initializing NUTS using jitter+adapt_diag...\n",
      "Multiprocess sampling (2 chains in 2 jobs)\n",
      "NUTS: [beta0, beta_int, rho, sigma, y_latent]\n"
     ]
    },
    {
     "data": {
      "text/html": [
       "<pre style=\"white-space:pre;overflow-x:auto;line-height:normal;font-family:Menlo,'DejaVu Sans Mono',consolas,'Courier New',monospace\">c:\\Users\\USER\\AppData\\Local\\r-miniconda\\Lib\\site-packages\\rich\\live.py:231: UserWarning: install \"ipywidgets\" for \n",
       "Jupyter support\n",
       "  warnings.warn('install \"ipywidgets\" for Jupyter support')\n",
       "</pre>\n"
      ],
      "text/plain": [
       "c:\\Users\\USER\\AppData\\Local\\r-miniconda\\Lib\\site-packages\\rich\\live.py:231: UserWarning: install \"ipywidgets\" for \n",
       "Jupyter support\n",
       "  warnings.warn('install \"ipywidgets\" for Jupyter support')\n"
      ]
     },
     "metadata": {},
     "output_type": "display_data"
    },
    {
     "data": {
      "text/html": [
       "<pre style=\"white-space:pre;overflow-x:auto;line-height:normal;font-family:Menlo,'DejaVu Sans Mono',consolas,'Courier New',monospace\"></pre>\n"
      ],
      "text/plain": []
     },
     "metadata": {},
     "output_type": "display_data"
    },
    {
     "name": "stderr",
     "output_type": "stream",
     "text": [
      "Sampling 2 chains for 500 tune and 500 draw iterations (1_000 + 1_000 draws total) took 155 seconds.\n",
      "There was 1 divergence after tuning. Increase `target_accept` or reparameterize.\n",
      "We recommend running at least 4 chains for robust computation of convergence diagnostics\n"
     ]
    },
    {
     "name": "stdout",
     "output_type": "stream",
     "text": [
      "           mean     sd  hdi_2.5%  hdi_97.5%  mcse_mean  mcse_sd  ess_bulk  \\\n",
      "beta_int -0.066  0.594    -1.317      1.056      0.026    0.021     532.0   \n",
      "rho       0.007  0.260    -0.456      0.556      0.018    0.010     207.0   \n",
      "sigma     1.346  0.254     0.885      1.851      0.012    0.008     410.0   \n",
      "\n",
      "          ess_tail  r_hat  \n",
      "beta_int     631.0   1.00  \n",
      "rho          515.0   1.01  \n",
      "sigma        517.0   1.00  \n",
      "P(beta_int ≤ –0.5) = 23.70%\n",
      "P(–0.5 < beta_int < 0) = 29.60%\n",
      "P(beta_int ≥ 0) = 46.70%\n",
      "Model: Only fac1\n"
     ]
    },
    {
     "name": "stderr",
     "output_type": "stream",
     "text": [
      "Initializing NUTS using jitter+adapt_diag...\n",
      "Multiprocess sampling (2 chains in 2 jobs)\n",
      "NUTS: [beta0, beta_int, beta_f1, rho, sigma, y_latent]\n"
     ]
    },
    {
     "data": {
      "text/html": [
       "<pre style=\"white-space:pre;overflow-x:auto;line-height:normal;font-family:Menlo,'DejaVu Sans Mono',consolas,'Courier New',monospace\">c:\\Users\\USER\\AppData\\Local\\r-miniconda\\Lib\\site-packages\\rich\\live.py:231: UserWarning: install \"ipywidgets\" for \n",
       "Jupyter support\n",
       "  warnings.warn('install \"ipywidgets\" for Jupyter support')\n",
       "</pre>\n"
      ],
      "text/plain": [
       "c:\\Users\\USER\\AppData\\Local\\r-miniconda\\Lib\\site-packages\\rich\\live.py:231: UserWarning: install \"ipywidgets\" for \n",
       "Jupyter support\n",
       "  warnings.warn('install \"ipywidgets\" for Jupyter support')\n"
      ]
     },
     "metadata": {},
     "output_type": "display_data"
    },
    {
     "data": {
      "text/html": [
       "<pre style=\"white-space:pre;overflow-x:auto;line-height:normal;font-family:Menlo,'DejaVu Sans Mono',consolas,'Courier New',monospace\"></pre>\n"
      ],
      "text/plain": []
     },
     "metadata": {},
     "output_type": "display_data"
    },
    {
     "name": "stderr",
     "output_type": "stream",
     "text": [
      "Sampling 2 chains for 500 tune and 500 draw iterations (1_000 + 1_000 draws total) took 353 seconds.\n",
      "We recommend running at least 4 chains for robust computation of convergence diagnostics\n",
      "The rhat statistic is larger than 1.01 for some parameters. This indicates problems during sampling. See https://arxiv.org/abs/1903.08008 for details\n",
      "The effective sample size per chain is smaller than 100 for some parameters.  A higher number is needed for reliable rhat and ess computation. See https://arxiv.org/abs/1903.08008 for details\n"
     ]
    },
    {
     "name": "stdout",
     "output_type": "stream",
     "text": [
      "           mean     sd  hdi_2.5%  hdi_97.5%  mcse_mean  mcse_sd  ess_bulk  \\\n",
      "beta_int -0.336  0.410    -1.108      0.554      0.018    0.017     562.0   \n",
      "rho      -0.047  0.273    -0.614      0.521      0.023    0.029     190.0   \n",
      "sigma     0.784  0.201     0.465      1.201      0.013    0.014     293.0   \n",
      "beta_f1   0.826  0.170     0.496      1.185      0.009    0.008     349.0   \n",
      "\n",
      "          ess_tail  r_hat  \n",
      "beta_int     351.0   1.00  \n",
      "rho          154.0   1.01  \n",
      "sigma        362.0   1.01  \n",
      "beta_f1      314.0   1.01  \n",
      "P(beta_int ≤ –0.5) = 33.90%\n",
      "P(–0.5 < beta_int < 0) = 47.50%\n",
      "P(beta_int ≥ 0) = 18.60%\n",
      "Model: Only fac2\n"
     ]
    },
    {
     "name": "stderr",
     "output_type": "stream",
     "text": [
      "Initializing NUTS using jitter+adapt_diag...\n",
      "Multiprocess sampling (2 chains in 2 jobs)\n",
      "NUTS: [beta0, beta_int, beta_f2, rho, sigma, y_latent]\n"
     ]
    },
    {
     "data": {
      "text/html": [
       "<pre style=\"white-space:pre;overflow-x:auto;line-height:normal;font-family:Menlo,'DejaVu Sans Mono',consolas,'Courier New',monospace\">c:\\Users\\USER\\AppData\\Local\\r-miniconda\\Lib\\site-packages\\rich\\live.py:231: UserWarning: install \"ipywidgets\" for \n",
       "Jupyter support\n",
       "  warnings.warn('install \"ipywidgets\" for Jupyter support')\n",
       "</pre>\n"
      ],
      "text/plain": [
       "c:\\Users\\USER\\AppData\\Local\\r-miniconda\\Lib\\site-packages\\rich\\live.py:231: UserWarning: install \"ipywidgets\" for \n",
       "Jupyter support\n",
       "  warnings.warn('install \"ipywidgets\" for Jupyter support')\n"
      ]
     },
     "metadata": {},
     "output_type": "display_data"
    },
    {
     "data": {
      "text/html": [
       "<pre style=\"white-space:pre;overflow-x:auto;line-height:normal;font-family:Menlo,'DejaVu Sans Mono',consolas,'Courier New',monospace\"></pre>\n"
      ],
      "text/plain": []
     },
     "metadata": {},
     "output_type": "display_data"
    },
    {
     "name": "stderr",
     "output_type": "stream",
     "text": [
      "Sampling 2 chains for 500 tune and 500 draw iterations (1_000 + 1_000 draws total) took 289 seconds.\n",
      "We recommend running at least 4 chains for robust computation of convergence diagnostics\n",
      "The effective sample size per chain is smaller than 100 for some parameters.  A higher number is needed for reliable rhat and ess computation. See https://arxiv.org/abs/1903.08008 for details\n"
     ]
    },
    {
     "name": "stdout",
     "output_type": "stream",
     "text": [
      "           mean     sd  hdi_2.5%  hdi_97.5%  mcse_mean  mcse_sd  ess_bulk  \\\n",
      "beta_int -0.131  0.688    -1.493      1.079      0.027    0.025     644.0   \n",
      "rho       0.309  0.278    -0.196      0.917      0.024    0.016     141.0   \n",
      "sigma     1.285  0.262     0.857      1.820      0.011    0.010     518.0   \n",
      "beta_f2   0.507  0.280    -0.096      1.030      0.016    0.011     323.0   \n",
      "\n",
      "          ess_tail  r_hat  \n",
      "beta_int     557.0   1.01  \n",
      "rho          173.0   1.01  \n",
      "sigma        589.0   1.01  \n",
      "beta_f2      470.0   1.01  \n",
      "P(beta_int ≤ –0.5) = 29.80%\n",
      "P(–0.5 < beta_int < 0) = 26.30%\n",
      "P(beta_int ≥ 0) = 43.90%\n",
      "Model: Both fac1 and fac2\n"
     ]
    },
    {
     "name": "stderr",
     "output_type": "stream",
     "text": [
      "Initializing NUTS using jitter+adapt_diag...\n",
      "Multiprocess sampling (2 chains in 2 jobs)\n",
      "NUTS: [beta0, beta_int, beta_f1, beta_f2, rho, sigma, y_latent]\n"
     ]
    },
    {
     "data": {
      "text/html": [
       "<pre style=\"white-space:pre;overflow-x:auto;line-height:normal;font-family:Menlo,'DejaVu Sans Mono',consolas,'Courier New',monospace\">c:\\Users\\USER\\AppData\\Local\\r-miniconda\\Lib\\site-packages\\rich\\live.py:231: UserWarning: install \"ipywidgets\" for \n",
       "Jupyter support\n",
       "  warnings.warn('install \"ipywidgets\" for Jupyter support')\n",
       "</pre>\n"
      ],
      "text/plain": [
       "c:\\Users\\USER\\AppData\\Local\\r-miniconda\\Lib\\site-packages\\rich\\live.py:231: UserWarning: install \"ipywidgets\" for \n",
       "Jupyter support\n",
       "  warnings.warn('install \"ipywidgets\" for Jupyter support')\n"
      ]
     },
     "metadata": {},
     "output_type": "display_data"
    },
    {
     "data": {
      "text/html": [
       "<pre style=\"white-space:pre;overflow-x:auto;line-height:normal;font-family:Menlo,'DejaVu Sans Mono',consolas,'Courier New',monospace\"></pre>\n"
      ],
      "text/plain": []
     },
     "metadata": {},
     "output_type": "display_data"
    },
    {
     "name": "stderr",
     "output_type": "stream",
     "text": [
      "Sampling 2 chains for 500 tune and 500 draw iterations (1_000 + 1_000 draws total) took 455 seconds.\n",
      "We recommend running at least 4 chains for robust computation of convergence diagnostics\n",
      "The rhat statistic is larger than 1.01 for some parameters. This indicates problems during sampling. See https://arxiv.org/abs/1903.08008 for details\n"
     ]
    },
    {
     "name": "stdout",
     "output_type": "stream",
     "text": [
      "           mean     sd  hdi_2.5%  hdi_97.5%  mcse_mean  mcse_sd  ess_bulk  \\\n",
      "beta_int -0.214  0.422    -1.141      0.543      0.018    0.020     521.0   \n",
      "rho      -0.035  0.254    -0.548      0.560      0.018    0.019     256.0   \n",
      "sigma     0.762  0.185     0.447      1.129      0.011    0.008     294.0   \n",
      "beta_f1   0.806  0.164     0.488      1.118      0.007    0.006     552.0   \n",
      "beta_f2   0.180  0.174    -0.124      0.544      0.007    0.007     642.0   \n",
      "\n",
      "          ess_tail  r_hat  \n",
      "beta_int     511.0   1.01  \n",
      "rho          167.0   1.01  \n",
      "sigma        398.0   1.01  \n",
      "beta_f1      612.0   1.01  \n",
      "beta_f2      568.0   1.00  \n",
      "P(beta_int ≤ –0.5) = 21.10%\n",
      "P(–0.5 < beta_int < 0) = 50.90%\n",
      "P(beta_int ≥ 0) = 28.00%\n"
     ]
    }
   ],
   "source": [
    "def run_ar1_model(include_fac1=False, include_fac2=False):\n",
    "    outcome_data = df_mea[df_mea['measurement_name'] == 'Outcome']\n",
    "    mediator_data = df_mea[df_mea['measurement_name'] == 'Mediators']\n",
    "\n",
    "    merge_cols = ['current_day_of_study', 'survey1_question1_response', 'current_intervention_name']\n",
    "    mediator_cols = []\n",
    "    if include_fac1:\n",
    "        mediator_cols.append('survey2_question1_response')\n",
    "    if include_fac2:\n",
    "        mediator_cols.append('survey2_question2_response')\n",
    "\n",
    "    all_days = pd.DataFrame({'current_day_of_study': np.arange(0, 16)})\n",
    "    outcome_data = pd.merge(all_days, outcome_data[merge_cols], on='current_day_of_study', how='left')\n",
    "    if mediator_cols:\n",
    "        mediator_data = pd.merge(all_days,\n",
    "                                  mediator_data[['current_day_of_study'] + mediator_cols],\n",
    "                                  on='current_day_of_study', how='left')\n",
    "    else:\n",
    "        mediator_data = all_days.copy()\n",
    "\n",
    "    data = (pd.merge(outcome_data, mediator_data, on='current_day_of_study', how='left')\n",
    "              .sort_values('current_day_of_study')\n",
    "              .reset_index(drop=True))\n",
    "\n",
    "    y_obs_raw = data['survey1_question1_response'].values\n",
    "    y_obs = y_obs_raw.astype(float)\n",
    "    interv = (data['current_intervention_name'] == \"Watching comedy movies or series!\").astype(float).fillna(0.0)\n",
    "    fac1 = data['survey2_question1_response'].values if include_fac1 else None\n",
    "    fac2 = data['survey2_question2_response'].values if include_fac2 else None\n",
    "    n = len(y_obs)\n",
    "\n",
    "    nan_idx = np.isnan(y_obs)\n",
    "    obs_idx = ~nan_idx\n",
    "    missing_idx = np.where(nan_idx)[0].tolist()\n",
    "\n",
    "    with pm.Model() as model:\n",
    "        beta0    = pm.Normal('beta0',    mu=0, sigma=10)\n",
    "        beta_int = pm.Normal('beta_int', mu=0, sigma=1)\n",
    "        if include_fac1:\n",
    "            beta_f1 = pm.Normal('beta_f1', mu=0, sigma=10)\n",
    "        if include_fac2:\n",
    "            beta_f2 = pm.Normal('beta_f2', mu=0, sigma=10)\n",
    "        rho   = pm.Uniform('rho', lower=-1, upper=1)\n",
    "        sigma = pm.HalfNormal('sigma', sigma=1)\n",
    "\n",
    "        mu = beta0 + beta_int * interv\n",
    "        if include_fac1:\n",
    "            mu = mu + beta_f1 * pt.as_tensor_variable(np.nan_to_num(fac1, nan=0.0))\n",
    "        if include_fac2:\n",
    "            mu = mu + beta_f2 * pt.as_tensor_variable(np.nan_to_num(fac2, nan=0.0))\n",
    "\n",
    "        y_latent = pm.Normal('y_latent', mu=0, sigma=10, shape=len(missing_idx))\n",
    "\n",
    "        y_filled = pt.zeros(n)\n",
    "        y_filled = pt.set_subtensor(y_filled[missing_idx], y_latent)\n",
    "        y_filled = pt.set_subtensor(y_filled[obs_idx], y_obs[obs_idx])\n",
    "\n",
    "        def ar1_step(y_prev, mu_prev, mu_curr, rho):\n",
    "            return mu_curr + rho * (y_prev - mu_prev)\n",
    "\n",
    "        y_pred_scan, _ = scan(\n",
    "            fn=ar1_step,\n",
    "            sequences=[y_filled[:-1], mu[:-1], mu[1:]],\n",
    "            non_sequences=[rho],\n",
    "            n_steps=n-1\n",
    "        )\n",
    "        y_pred = pt.concatenate([mu[:1], y_pred_scan], axis=0)\n",
    "\n",
    "        pm.Normal('y_obs',\n",
    "                  mu=y_pred[obs_idx],\n",
    "                  sigma=sigma,\n",
    "                  observed=y_obs[obs_idx])\n",
    "\n",
    "        trace = pm.sample(draws=500, tune=500, chains=2, target_accept=0.9,\n",
    "                          return_inferencedata=True)\n",
    "\n",
    "    var_names = ['beta_int', 'rho', 'sigma']\n",
    "    if include_fac1: var_names.append('beta_f1')\n",
    "    if include_fac2: var_names.append('beta_f2')\n",
    "\n",
    "    summary = az.summary(trace, var_names=var_names, hdi_prob=0.95)\n",
    "    print(summary)\n",
    "\n",
    "    beta_samples = trace.posterior['beta_int'].values.flatten()\n",
    "    p_le_neg05 = (beta_samples <= -0.5).mean()\n",
    "    p_between  = ((beta_samples > -0.5) & (beta_samples < 0)).mean()\n",
    "    p_ge0      = (beta_samples >= 0).mean()\n",
    "\n",
    "    print(f\"P(beta_int ≤ –0.5) = {p_le_neg05:.2%}\")\n",
    "    print(f\"P(–0.5 < beta_int < 0) = {p_between:.2%}\")\n",
    "    print(f\"P(beta_int ≥ 0) = {p_ge0:.2%}\")\n",
    "\n",
    "print(\"Model: Neither fac1 nor fac2 (intervention only)\")\n",
    "run_ar1_model(include_fac1=False, include_fac2=False)\n",
    "\n",
    "print(\"Model: Only fac1\")\n",
    "run_ar1_model(include_fac1=True, include_fac2=False)\n",
    "\n",
    "print(\"Model: Only fac2\")\n",
    "run_ar1_model(include_fac1=False, include_fac2=True)\n",
    "\n",
    "print(\"Model: Both fac1 and fac2\")\n",
    "run_ar1_model(include_fac1=True, include_fac2=True)"
   ]
  }
 ],
 "metadata": {
  "kernelspec": {
   "display_name": "base",
   "language": "python",
   "name": "python3"
  },
  "language_info": {
   "codemirror_mode": {
    "name": "ipython",
    "version": 3
   },
   "file_extension": ".py",
   "mimetype": "text/x-python",
   "name": "python",
   "nbconvert_exporter": "python",
   "pygments_lexer": "ipython3",
   "version": "3.11.5"
  }
 },
 "nbformat": 4,
 "nbformat_minor": 5
}
